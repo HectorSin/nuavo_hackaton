{
 "cells": [
  {
   "cell_type": "code",
   "execution_count": 59,
   "id": "fa65f936",
   "metadata": {},
   "outputs": [],
   "source": [
    "#.venv\\Scripts\\activate\n",
    "#!pip install pandas\n",
    "#!pip install scikit-learn\n",
    "#!pip install wandb\n",
    "#!pip install torch\n",
    "#!pip install numpy==1.24.4\n",
    "#!pip install matplotlib"
   ]
  },
  {
   "cell_type": "markdown",
   "id": "33a12b91-77ce-436d-bb33-63a6aca8473d",
   "metadata": {},
   "source": [
    "## 항공사 고객 만족도 예측 경진대회 베이스라인\n",
    "이 대회는 성별, 이동 거리, 이륙 딜레이 시간 등으로 부터 고객 만족 여부를 예측하는 대회입니다.\n",
    "\n",
    "언뜻보면 간단해 보이지만 처음 데이터 분석을 접하시는 분들에게는 어디부터 어떻게 시작해야 하는지 막막하실 겁니다.\n",
    "\n",
    "## 데이터 불러오기\n",
    "먼저 분석하려는 데이터를 작업장으로 가져오는 작업이 필요합니다.\n",
    "\n",
    "이를 위해서 파이썬 라이브러리 중 하나인 Pandas를 이용합니다.\n",
    "\n",
    "pandas 라이브러리는 엑셀과 같은 행과 열로 이루어진 테이블(table) 형식의 데이터를 편하게 다루도록 해주는 라이브러리입니다.\n",
    "\n",
    "데이터 분석에는 반드시 사용된다고 해도 과언이 아닌 라이브러리이니, 시간이 날때마다 공부해둡시다."
   ]
  },
  {
   "cell_type": "code",
   "execution_count": 60,
   "id": "eefef5b7-04a2-4a27-a90d-779f4d18d107",
   "metadata": {},
   "outputs": [
    {
     "name": "stdout",
     "output_type": "stream",
     "text": [
      "train set은 24 개의 feature를 가진 2999 개의 데이터 샘플로 이루어져 있습니다.\n"
     ]
    },
    {
     "data": {
      "text/html": [
       "<div>\n",
       "<style scoped>\n",
       "    .dataframe tbody tr th:only-of-type {\n",
       "        vertical-align: middle;\n",
       "    }\n",
       "\n",
       "    .dataframe tbody tr th {\n",
       "        vertical-align: top;\n",
       "    }\n",
       "\n",
       "    .dataframe thead th {\n",
       "        text-align: right;\n",
       "    }\n",
       "</style>\n",
       "<table border=\"1\" class=\"dataframe\">\n",
       "  <thead>\n",
       "    <tr style=\"text-align: right;\">\n",
       "      <th></th>\n",
       "      <th>id</th>\n",
       "      <th>Gender</th>\n",
       "      <th>Customer Type</th>\n",
       "      <th>Age</th>\n",
       "      <th>Type of Travel</th>\n",
       "      <th>Class</th>\n",
       "      <th>Flight Distance</th>\n",
       "      <th>Seat comfort</th>\n",
       "      <th>Departure/Arrival time convenient</th>\n",
       "      <th>Food and drink</th>\n",
       "      <th>...</th>\n",
       "      <th>Ease of Online booking</th>\n",
       "      <th>On-board service</th>\n",
       "      <th>Leg room service</th>\n",
       "      <th>Baggage handling</th>\n",
       "      <th>Checkin service</th>\n",
       "      <th>Cleanliness</th>\n",
       "      <th>Online boarding</th>\n",
       "      <th>Departure Delay in Minutes</th>\n",
       "      <th>Arrival Delay in Minutes</th>\n",
       "      <th>target</th>\n",
       "    </tr>\n",
       "  </thead>\n",
       "  <tbody>\n",
       "    <tr>\n",
       "      <th>0</th>\n",
       "      <td>1</td>\n",
       "      <td>Male</td>\n",
       "      <td>Loyal Customer</td>\n",
       "      <td>72</td>\n",
       "      <td>Business travel</td>\n",
       "      <td>Business</td>\n",
       "      <td>1784</td>\n",
       "      <td>1</td>\n",
       "      <td>1</td>\n",
       "      <td>4</td>\n",
       "      <td>...</td>\n",
       "      <td>2</td>\n",
       "      <td>2</td>\n",
       "      <td>3</td>\n",
       "      <td>2</td>\n",
       "      <td>5</td>\n",
       "      <td>2</td>\n",
       "      <td>0</td>\n",
       "      <td>0</td>\n",
       "      <td>0</td>\n",
       "      <td>1</td>\n",
       "    </tr>\n",
       "    <tr>\n",
       "      <th>1</th>\n",
       "      <td>2</td>\n",
       "      <td>Male</td>\n",
       "      <td>Loyal Customer</td>\n",
       "      <td>35</td>\n",
       "      <td>Business travel</td>\n",
       "      <td>Business</td>\n",
       "      <td>2228</td>\n",
       "      <td>2</td>\n",
       "      <td>5</td>\n",
       "      <td>5</td>\n",
       "      <td>...</td>\n",
       "      <td>2</td>\n",
       "      <td>2</td>\n",
       "      <td>2</td>\n",
       "      <td>2</td>\n",
       "      <td>4</td>\n",
       "      <td>2</td>\n",
       "      <td>0</td>\n",
       "      <td>0</td>\n",
       "      <td>8</td>\n",
       "      <td>0</td>\n",
       "    </tr>\n",
       "    <tr>\n",
       "      <th>2</th>\n",
       "      <td>3</td>\n",
       "      <td>Male</td>\n",
       "      <td>disloyal Customer</td>\n",
       "      <td>37</td>\n",
       "      <td>Business travel</td>\n",
       "      <td>Eco</td>\n",
       "      <td>1970</td>\n",
       "      <td>4</td>\n",
       "      <td>3</td>\n",
       "      <td>4</td>\n",
       "      <td>...</td>\n",
       "      <td>1</td>\n",
       "      <td>3</td>\n",
       "      <td>2</td>\n",
       "      <td>5</td>\n",
       "      <td>1</td>\n",
       "      <td>4</td>\n",
       "      <td>0</td>\n",
       "      <td>1</td>\n",
       "      <td>2</td>\n",
       "      <td>1</td>\n",
       "    </tr>\n",
       "    <tr>\n",
       "      <th>3</th>\n",
       "      <td>4</td>\n",
       "      <td>Female</td>\n",
       "      <td>Loyal Customer</td>\n",
       "      <td>20</td>\n",
       "      <td>Personal Travel</td>\n",
       "      <td>Eco</td>\n",
       "      <td>2249</td>\n",
       "      <td>5</td>\n",
       "      <td>5</td>\n",
       "      <td>1</td>\n",
       "      <td>...</td>\n",
       "      <td>1</td>\n",
       "      <td>4</td>\n",
       "      <td>1</td>\n",
       "      <td>4</td>\n",
       "      <td>1</td>\n",
       "      <td>5</td>\n",
       "      <td>0</td>\n",
       "      <td>0</td>\n",
       "      <td>0</td>\n",
       "      <td>1</td>\n",
       "    </tr>\n",
       "    <tr>\n",
       "      <th>4</th>\n",
       "      <td>5</td>\n",
       "      <td>Male</td>\n",
       "      <td>disloyal Customer</td>\n",
       "      <td>38</td>\n",
       "      <td>Business travel</td>\n",
       "      <td>Eco</td>\n",
       "      <td>1995</td>\n",
       "      <td>2</td>\n",
       "      <td>2</td>\n",
       "      <td>2</td>\n",
       "      <td>...</td>\n",
       "      <td>5</td>\n",
       "      <td>2</td>\n",
       "      <td>5</td>\n",
       "      <td>3</td>\n",
       "      <td>1</td>\n",
       "      <td>2</td>\n",
       "      <td>0</td>\n",
       "      <td>110</td>\n",
       "      <td>102</td>\n",
       "      <td>0</td>\n",
       "    </tr>\n",
       "  </tbody>\n",
       "</table>\n",
       "<p>5 rows × 24 columns</p>\n",
       "</div>"
      ],
      "text/plain": [
       "   id  Gender      Customer Type  Age   Type of Travel     Class  \\\n",
       "0   1    Male     Loyal Customer   72  Business travel  Business   \n",
       "1   2    Male     Loyal Customer   35  Business travel  Business   \n",
       "2   3    Male  disloyal Customer   37  Business travel       Eco   \n",
       "3   4  Female     Loyal Customer   20  Personal Travel       Eco   \n",
       "4   5    Male  disloyal Customer   38  Business travel       Eco   \n",
       "\n",
       "   Flight Distance  Seat comfort  Departure/Arrival time convenient  \\\n",
       "0             1784             1                                  1   \n",
       "1             2228             2                                  5   \n",
       "2             1970             4                                  3   \n",
       "3             2249             5                                  5   \n",
       "4             1995             2                                  2   \n",
       "\n",
       "   Food and drink  ...  Ease of Online booking  On-board service  \\\n",
       "0               4  ...                       2                 2   \n",
       "1               5  ...                       2                 2   \n",
       "2               4  ...                       1                 3   \n",
       "3               1  ...                       1                 4   \n",
       "4               2  ...                       5                 2   \n",
       "\n",
       "   Leg room service  Baggage handling  Checkin service  Cleanliness  \\\n",
       "0                 3                 2                5            2   \n",
       "1                 2                 2                4            2   \n",
       "2                 2                 5                1            4   \n",
       "3                 1                 4                1            5   \n",
       "4                 5                 3                1            2   \n",
       "\n",
       "   Online boarding  Departure Delay in Minutes  Arrival Delay in Minutes  \\\n",
       "0                0                           0                         0   \n",
       "1                0                           0                         8   \n",
       "2                0                           1                         2   \n",
       "3                0                           0                         0   \n",
       "4                0                         110                       102   \n",
       "\n",
       "   target  \n",
       "0       1  \n",
       "1       0  \n",
       "2       1  \n",
       "3       1  \n",
       "4       0  \n",
       "\n",
       "[5 rows x 24 columns]"
      ]
     },
     "execution_count": 60,
     "metadata": {},
     "output_type": "execute_result"
    }
   ],
   "source": [
    "import pandas as pd\n",
    "\n",
    "train = pd.read_csv(r\"train_final.csv\")\n",
    "\n",
    "print(f'train set은 {train.shape[1]} 개의 feature를 가진 {train.shape[0]} 개의 데이터 샘플로 이루어져 있습니다.')\n",
    "\n",
    "train.head()"
   ]
  },
  {
   "cell_type": "markdown",
   "id": "53d644ed-aa26-43ee-bff4-9c833b7cfbb8",
   "metadata": {},
   "source": [
    "데이터를 자세히 살펴보는 것은 EDA 글을 통해 알아보는 것으로 하겠습니다.\n",
    "\n",
    "여기에서는 분석 방법에 초점을 맞추겠습니다.\n",
    "\n",
    "## 결측치 확인\n",
    "\n",
    "결측치(NA: Not Available)란 값이 누락된 데이터를 말합니다.\n",
    "\n",
    "보다 정확한 분석을 하기 위해서는 데이터의 결측치를 확인하고 적절히 처리해주어야 합니다.\n",
    "\n",
    "이번 데이터에 결측치가 있나 확인해볼까요?"
   ]
  },
  {
   "cell_type": "code",
   "execution_count": 61,
   "id": "9ac9b25a-c6eb-4915-903d-4d3ff19aec6f",
   "metadata": {},
   "outputs": [
    {
     "name": "stdout",
     "output_type": "stream",
     "text": [
      "결측치가 존재하지 않습니다\n"
     ]
    }
   ],
   "source": [
    "def check_missing_col(dataframe):\n",
    "    missing_col = []\n",
    "    for col in dataframe.columns:\n",
    "        missing_values = sum(dataframe[col].isna())\n",
    "        is_missing = True if missing_values >= 1 else False\n",
    "        if is_missing:\n",
    "            print(f'결측치가 있는 컬럼은: {col} 입니다')\n",
    "            print(f'해당 컬럼에 총 {missing_values} 개의 결측치가 존재합니다.')\n",
    "            missing_col.append([col, dataframe[col].dtype])\n",
    "    if missing_col == []:\n",
    "        print('결측치가 존재하지 않습니다')\n",
    "    return missing_col\n",
    "\n",
    "missing_col = check_missing_col(train)"
   ]
  },
  {
   "cell_type": "markdown",
   "id": "ad0674a4-0c3c-42c4-8c0a-923e6e3531c9",
   "metadata": {},
   "source": [
    "이번 데이터에는 결측치가 존재하지 않네요.\n",
    "\n",
    "만약 결측치가 존재한다면 결측치 삭제, 평균 보간법, 최빈값 보간법 등 다양한 방식으로 처리할 수 있습니다"
   ]
  },
  {
   "cell_type": "markdown",
   "id": "cd86ae9c-40ec-4d1e-8960-90a53aea38e4",
   "metadata": {},
   "source": [
    "## 데이터 전처리 \n",
    "\n",
    "### 라벨 인코딩\n",
    "\n",
    "데이터를 모델에 투입하기 전 몇 가지 전처리 과정이 필요합니다. \n",
    "\n",
    "우선은 카테고리 형식의 features 들을 바꿔주어야 합니다. \n",
    "\n",
    "본 데이터에서는 'Gender', 'Customer Type','Type of Travel', 'Class' 의 카테고리 형식의 feature 들이 있습니다. \n",
    "\n",
    "이러한 데이터의 라벨을 숫자로 바꾸어주는 전처리를 라벨 인코딩 (label encoding) 이라고 합니다.\n",
    "\n",
    "본격적으로 데이터 전처리를 하기 전에 id 열을 제거해주고, data 와 target 을 나누어줍니다."
   ]
  },
  {
   "cell_type": "code",
   "execution_count": 62,
   "id": "8fe5e7d0-287b-412c-9ff1-138b8715b115",
   "metadata": {},
   "outputs": [
    {
     "data": {
      "text/html": [
       "<div>\n",
       "<style scoped>\n",
       "    .dataframe tbody tr th:only-of-type {\n",
       "        vertical-align: middle;\n",
       "    }\n",
       "\n",
       "    .dataframe tbody tr th {\n",
       "        vertical-align: top;\n",
       "    }\n",
       "\n",
       "    .dataframe thead th {\n",
       "        text-align: right;\n",
       "    }\n",
       "</style>\n",
       "<table border=\"1\" class=\"dataframe\">\n",
       "  <thead>\n",
       "    <tr style=\"text-align: right;\">\n",
       "      <th></th>\n",
       "      <th>Gender</th>\n",
       "      <th>Customer Type</th>\n",
       "      <th>Age</th>\n",
       "      <th>Type of Travel</th>\n",
       "      <th>Class</th>\n",
       "      <th>Flight Distance</th>\n",
       "      <th>Seat comfort</th>\n",
       "      <th>Departure/Arrival time convenient</th>\n",
       "      <th>Food and drink</th>\n",
       "      <th>Gate location</th>\n",
       "      <th>...</th>\n",
       "      <th>Online support</th>\n",
       "      <th>Ease of Online booking</th>\n",
       "      <th>On-board service</th>\n",
       "      <th>Leg room service</th>\n",
       "      <th>Baggage handling</th>\n",
       "      <th>Checkin service</th>\n",
       "      <th>Cleanliness</th>\n",
       "      <th>Online boarding</th>\n",
       "      <th>Departure Delay in Minutes</th>\n",
       "      <th>Arrival Delay in Minutes</th>\n",
       "    </tr>\n",
       "  </thead>\n",
       "  <tbody>\n",
       "    <tr>\n",
       "      <th>0</th>\n",
       "      <td>1</td>\n",
       "      <td>1</td>\n",
       "      <td>72</td>\n",
       "      <td>1</td>\n",
       "      <td>1</td>\n",
       "      <td>1784</td>\n",
       "      <td>1</td>\n",
       "      <td>1</td>\n",
       "      <td>4</td>\n",
       "      <td>1</td>\n",
       "      <td>...</td>\n",
       "      <td>5</td>\n",
       "      <td>2</td>\n",
       "      <td>2</td>\n",
       "      <td>3</td>\n",
       "      <td>2</td>\n",
       "      <td>5</td>\n",
       "      <td>2</td>\n",
       "      <td>0</td>\n",
       "      <td>0</td>\n",
       "      <td>0</td>\n",
       "    </tr>\n",
       "    <tr>\n",
       "      <th>1</th>\n",
       "      <td>1</td>\n",
       "      <td>1</td>\n",
       "      <td>35</td>\n",
       "      <td>1</td>\n",
       "      <td>1</td>\n",
       "      <td>2228</td>\n",
       "      <td>2</td>\n",
       "      <td>5</td>\n",
       "      <td>5</td>\n",
       "      <td>5</td>\n",
       "      <td>...</td>\n",
       "      <td>2</td>\n",
       "      <td>2</td>\n",
       "      <td>2</td>\n",
       "      <td>2</td>\n",
       "      <td>2</td>\n",
       "      <td>4</td>\n",
       "      <td>2</td>\n",
       "      <td>0</td>\n",
       "      <td>0</td>\n",
       "      <td>8</td>\n",
       "    </tr>\n",
       "    <tr>\n",
       "      <th>2</th>\n",
       "      <td>1</td>\n",
       "      <td>2</td>\n",
       "      <td>37</td>\n",
       "      <td>1</td>\n",
       "      <td>2</td>\n",
       "      <td>1970</td>\n",
       "      <td>4</td>\n",
       "      <td>3</td>\n",
       "      <td>4</td>\n",
       "      <td>1</td>\n",
       "      <td>...</td>\n",
       "      <td>1</td>\n",
       "      <td>1</td>\n",
       "      <td>3</td>\n",
       "      <td>2</td>\n",
       "      <td>5</td>\n",
       "      <td>1</td>\n",
       "      <td>4</td>\n",
       "      <td>0</td>\n",
       "      <td>1</td>\n",
       "      <td>2</td>\n",
       "    </tr>\n",
       "    <tr>\n",
       "      <th>3</th>\n",
       "      <td>2</td>\n",
       "      <td>1</td>\n",
       "      <td>20</td>\n",
       "      <td>2</td>\n",
       "      <td>2</td>\n",
       "      <td>2249</td>\n",
       "      <td>5</td>\n",
       "      <td>5</td>\n",
       "      <td>1</td>\n",
       "      <td>3</td>\n",
       "      <td>...</td>\n",
       "      <td>1</td>\n",
       "      <td>1</td>\n",
       "      <td>4</td>\n",
       "      <td>1</td>\n",
       "      <td>4</td>\n",
       "      <td>1</td>\n",
       "      <td>5</td>\n",
       "      <td>0</td>\n",
       "      <td>0</td>\n",
       "      <td>0</td>\n",
       "    </tr>\n",
       "    <tr>\n",
       "      <th>4</th>\n",
       "      <td>1</td>\n",
       "      <td>2</td>\n",
       "      <td>38</td>\n",
       "      <td>1</td>\n",
       "      <td>2</td>\n",
       "      <td>1995</td>\n",
       "      <td>2</td>\n",
       "      <td>2</td>\n",
       "      <td>2</td>\n",
       "      <td>2</td>\n",
       "      <td>...</td>\n",
       "      <td>5</td>\n",
       "      <td>5</td>\n",
       "      <td>2</td>\n",
       "      <td>5</td>\n",
       "      <td>3</td>\n",
       "      <td>1</td>\n",
       "      <td>2</td>\n",
       "      <td>0</td>\n",
       "      <td>110</td>\n",
       "      <td>102</td>\n",
       "    </tr>\n",
       "  </tbody>\n",
       "</table>\n",
       "<p>5 rows × 22 columns</p>\n",
       "</div>"
      ],
      "text/plain": [
       "   Gender  Customer Type  Age  Type of Travel  Class  Flight Distance  \\\n",
       "0       1              1   72               1      1             1784   \n",
       "1       1              1   35               1      1             2228   \n",
       "2       1              2   37               1      2             1970   \n",
       "3       2              1   20               2      2             2249   \n",
       "4       1              2   38               1      2             1995   \n",
       "\n",
       "   Seat comfort  Departure/Arrival time convenient  Food and drink  \\\n",
       "0             1                                  1               4   \n",
       "1             2                                  5               5   \n",
       "2             4                                  3               4   \n",
       "3             5                                  5               1   \n",
       "4             2                                  2               2   \n",
       "\n",
       "   Gate location  ...  Online support  Ease of Online booking  \\\n",
       "0              1  ...               5                       2   \n",
       "1              5  ...               2                       2   \n",
       "2              1  ...               1                       1   \n",
       "3              3  ...               1                       1   \n",
       "4              2  ...               5                       5   \n",
       "\n",
       "   On-board service  Leg room service  Baggage handling  Checkin service  \\\n",
       "0                 2                 3                 2                5   \n",
       "1                 2                 2                 2                4   \n",
       "2                 3                 2                 5                1   \n",
       "3                 4                 1                 4                1   \n",
       "4                 2                 5                 3                1   \n",
       "\n",
       "   Cleanliness  Online boarding  Departure Delay in Minutes  \\\n",
       "0            2                0                           0   \n",
       "1            2                0                           0   \n",
       "2            4                0                           1   \n",
       "3            5                0                           0   \n",
       "4            2                0                         110   \n",
       "\n",
       "   Arrival Delay in Minutes  \n",
       "0                         0  \n",
       "1                         8  \n",
       "2                         2  \n",
       "3                         0  \n",
       "4                       102  \n",
       "\n",
       "[5 rows x 22 columns]"
      ]
     },
     "execution_count": 62,
     "metadata": {},
     "output_type": "execute_result"
    }
   ],
   "source": [
    "train_x = train.drop([\"id\",\"target\"],axis=1) \n",
    "train_y = train.target \n",
    "\n",
    "#라벨인코딩을 하기 위함 dictionary map 생성 함수\n",
    "def make_label_map(dataframe):\n",
    "    label_maps = {}\n",
    "    for col in dataframe.columns:\n",
    "        if dataframe[col].dtype=='object':\n",
    "            label_map = {'unknown':0}\n",
    "            for i, key in enumerate(dataframe[col].unique()): #enumerate는 인덱스와 함께 고유값 반환, enumerate(['a', 'b', 'c'])는 (0, 'a'), (1, 'b'), (2, 'c')와 같은 튜플을 반환\n",
    "                label_map[key] = i+1  \n",
    "            label_maps[col] = label_map\n",
    "    return label_maps\n",
    "\n",
    "# 각 범주형 변수에 인코딩 값을 부여하는 함수\n",
    "def label_encoder(dataframe, label_map):\n",
    "    for col in dataframe.columns:\n",
    "        if dataframe[col].dtype=='object':\n",
    "            dataframe[col] = dataframe[col].map(label_map[col])\n",
    "            dataframe[col] = dataframe[col].fillna(label_map[col]['unknown']) \n",
    "    return dataframe\n",
    "\n",
    "# train 데이터 라벨 인코딩\n",
    "label_map = make_label_map(train_x) # train 사용해 label map 생성\n",
    "train_x = label_encoder(train_x, label_map) # train 라벨 인코딩\n",
    "\n",
    "train_x.head()"
   ]
  },
  {
   "cell_type": "markdown",
   "id": "124a7902-d1dc-4d52-a768-1bcffd1850f3",
   "metadata": {},
   "source": [
    "라벨 인코딩 후 원래 문자열 형식의 데이터가 숫자로 표현되어 있음을 볼 수 있습니다.\n",
    "\n",
    "## 정규화 \n",
    "\n",
    "수치형 데이터들을 정규화 시켜줍니다.\n",
    "\n",
    "머신러닝 과정에서 모델은 데이터의 특성(feature)들을 추출해 학습을 진행합니다.\n",
    "\n",
    "하지만 학습을 하는 과정에서 데이터의 값이 너무 크거나, 분산이 너무 크면 학습 과정에 악영향을 끼칠 수 있습니다.\n",
    "\n",
    "따라서 정규화를 통해 데이터 값의 크기를 줄이고 분산을 줄여 모델이 데이터를 이상하게 해석하는 것을 방지합니다.\n",
    "\n",
    "이번 베이스라인에서는 min-max 정규화를 이용해 봅시다.\n",
    "\n",
    "min-max 정규화는 수치형 데이터의 값을 0~1 사이의 값으로 변환해줍니다.\n",
    "\n",
    "min-max 정규화의 수식은 아래와 같습니다.\n",
    "\n",
    "X' = (X - MIN) / (MAX-MIN)"
   ]
  },
  {
   "cell_type": "code",
   "execution_count": 63,
   "id": "f7d8d38c-2362-469a-99b8-e2256414713b",
   "metadata": {},
   "outputs": [
    {
     "data": {
      "text/html": [
       "<div>\n",
       "<style scoped>\n",
       "    .dataframe tbody tr th:only-of-type {\n",
       "        vertical-align: middle;\n",
       "    }\n",
       "\n",
       "    .dataframe tbody tr th {\n",
       "        vertical-align: top;\n",
       "    }\n",
       "\n",
       "    .dataframe thead th {\n",
       "        text-align: right;\n",
       "    }\n",
       "</style>\n",
       "<table border=\"1\" class=\"dataframe\">\n",
       "  <thead>\n",
       "    <tr style=\"text-align: right;\">\n",
       "      <th></th>\n",
       "      <th>Gender</th>\n",
       "      <th>Customer Type</th>\n",
       "      <th>Age</th>\n",
       "      <th>Type of Travel</th>\n",
       "      <th>Class</th>\n",
       "      <th>Flight Distance</th>\n",
       "      <th>Seat comfort</th>\n",
       "      <th>Departure/Arrival time convenient</th>\n",
       "      <th>Food and drink</th>\n",
       "      <th>Gate location</th>\n",
       "      <th>...</th>\n",
       "      <th>Online support</th>\n",
       "      <th>Ease of Online booking</th>\n",
       "      <th>On-board service</th>\n",
       "      <th>Leg room service</th>\n",
       "      <th>Baggage handling</th>\n",
       "      <th>Checkin service</th>\n",
       "      <th>Cleanliness</th>\n",
       "      <th>Online boarding</th>\n",
       "      <th>Departure Delay in Minutes</th>\n",
       "      <th>Arrival Delay in Minutes</th>\n",
       "    </tr>\n",
       "  </thead>\n",
       "  <tbody>\n",
       "    <tr>\n",
       "      <th>0</th>\n",
       "      <td>1</td>\n",
       "      <td>1</td>\n",
       "      <td>0.890411</td>\n",
       "      <td>1</td>\n",
       "      <td>1</td>\n",
       "      <td>0.264656</td>\n",
       "      <td>1</td>\n",
       "      <td>1</td>\n",
       "      <td>4</td>\n",
       "      <td>1</td>\n",
       "      <td>...</td>\n",
       "      <td>5</td>\n",
       "      <td>2</td>\n",
       "      <td>2</td>\n",
       "      <td>3</td>\n",
       "      <td>2</td>\n",
       "      <td>5</td>\n",
       "      <td>2</td>\n",
       "      <td>0</td>\n",
       "      <td>0.000000</td>\n",
       "      <td>0.000000</td>\n",
       "    </tr>\n",
       "    <tr>\n",
       "      <th>1</th>\n",
       "      <td>1</td>\n",
       "      <td>1</td>\n",
       "      <td>0.383562</td>\n",
       "      <td>1</td>\n",
       "      <td>1</td>\n",
       "      <td>0.332619</td>\n",
       "      <td>2</td>\n",
       "      <td>5</td>\n",
       "      <td>5</td>\n",
       "      <td>5</td>\n",
       "      <td>...</td>\n",
       "      <td>2</td>\n",
       "      <td>2</td>\n",
       "      <td>2</td>\n",
       "      <td>2</td>\n",
       "      <td>2</td>\n",
       "      <td>4</td>\n",
       "      <td>2</td>\n",
       "      <td>0</td>\n",
       "      <td>0.000000</td>\n",
       "      <td>0.017021</td>\n",
       "    </tr>\n",
       "    <tr>\n",
       "      <th>2</th>\n",
       "      <td>1</td>\n",
       "      <td>2</td>\n",
       "      <td>0.410959</td>\n",
       "      <td>1</td>\n",
       "      <td>2</td>\n",
       "      <td>0.293127</td>\n",
       "      <td>4</td>\n",
       "      <td>3</td>\n",
       "      <td>4</td>\n",
       "      <td>1</td>\n",
       "      <td>...</td>\n",
       "      <td>1</td>\n",
       "      <td>1</td>\n",
       "      <td>3</td>\n",
       "      <td>2</td>\n",
       "      <td>5</td>\n",
       "      <td>1</td>\n",
       "      <td>4</td>\n",
       "      <td>0</td>\n",
       "      <td>0.002299</td>\n",
       "      <td>0.004255</td>\n",
       "    </tr>\n",
       "    <tr>\n",
       "      <th>3</th>\n",
       "      <td>2</td>\n",
       "      <td>1</td>\n",
       "      <td>0.178082</td>\n",
       "      <td>2</td>\n",
       "      <td>2</td>\n",
       "      <td>0.335833</td>\n",
       "      <td>5</td>\n",
       "      <td>5</td>\n",
       "      <td>1</td>\n",
       "      <td>3</td>\n",
       "      <td>...</td>\n",
       "      <td>1</td>\n",
       "      <td>1</td>\n",
       "      <td>4</td>\n",
       "      <td>1</td>\n",
       "      <td>4</td>\n",
       "      <td>1</td>\n",
       "      <td>5</td>\n",
       "      <td>0</td>\n",
       "      <td>0.000000</td>\n",
       "      <td>0.000000</td>\n",
       "    </tr>\n",
       "    <tr>\n",
       "      <th>4</th>\n",
       "      <td>1</td>\n",
       "      <td>2</td>\n",
       "      <td>0.424658</td>\n",
       "      <td>1</td>\n",
       "      <td>2</td>\n",
       "      <td>0.296954</td>\n",
       "      <td>2</td>\n",
       "      <td>2</td>\n",
       "      <td>2</td>\n",
       "      <td>2</td>\n",
       "      <td>...</td>\n",
       "      <td>5</td>\n",
       "      <td>5</td>\n",
       "      <td>2</td>\n",
       "      <td>5</td>\n",
       "      <td>3</td>\n",
       "      <td>1</td>\n",
       "      <td>2</td>\n",
       "      <td>0</td>\n",
       "      <td>0.252874</td>\n",
       "      <td>0.217021</td>\n",
       "    </tr>\n",
       "  </tbody>\n",
       "</table>\n",
       "<p>5 rows × 22 columns</p>\n",
       "</div>"
      ],
      "text/plain": [
       "   Gender  Customer Type       Age  Type of Travel  Class  Flight Distance  \\\n",
       "0       1              1  0.890411               1      1         0.264656   \n",
       "1       1              1  0.383562               1      1         0.332619   \n",
       "2       1              2  0.410959               1      2         0.293127   \n",
       "3       2              1  0.178082               2      2         0.335833   \n",
       "4       1              2  0.424658               1      2         0.296954   \n",
       "\n",
       "   Seat comfort  Departure/Arrival time convenient  Food and drink  \\\n",
       "0             1                                  1               4   \n",
       "1             2                                  5               5   \n",
       "2             4                                  3               4   \n",
       "3             5                                  5               1   \n",
       "4             2                                  2               2   \n",
       "\n",
       "   Gate location  ...  Online support  Ease of Online booking  \\\n",
       "0              1  ...               5                       2   \n",
       "1              5  ...               2                       2   \n",
       "2              1  ...               1                       1   \n",
       "3              3  ...               1                       1   \n",
       "4              2  ...               5                       5   \n",
       "\n",
       "   On-board service  Leg room service  Baggage handling  Checkin service  \\\n",
       "0                 2                 3                 2                5   \n",
       "1                 2                 2                 2                4   \n",
       "2                 3                 2                 5                1   \n",
       "3                 4                 1                 4                1   \n",
       "4                 2                 5                 3                1   \n",
       "\n",
       "   Cleanliness  Online boarding  Departure Delay in Minutes  \\\n",
       "0            2                0                    0.000000   \n",
       "1            2                0                    0.000000   \n",
       "2            4                0                    0.002299   \n",
       "3            5                0                    0.000000   \n",
       "4            2                0                    0.252874   \n",
       "\n",
       "   Arrival Delay in Minutes  \n",
       "0                  0.000000  \n",
       "1                  0.017021  \n",
       "2                  0.004255  \n",
       "3                  0.000000  \n",
       "4                  0.217021  \n",
       "\n",
       "[5 rows x 22 columns]"
      ]
     },
     "execution_count": 63,
     "metadata": {},
     "output_type": "execute_result"
    }
   ],
   "source": [
    "from sklearn.preprocessing import MinMaxScaler\n",
    "\n",
    "num_features = ['Age','Flight Distance','Departure Delay in Minutes','Arrival Delay in Minutes']\n",
    "\n",
    "scaler = MinMaxScaler()\n",
    "train_x[num_features] = scaler.fit_transform(train_x[num_features]) \n",
    "train_x.head()"
   ]
  },
  {
   "cell_type": "markdown",
   "id": "79aa86e5-7adc-4fe6-97aa-bb831767e910",
   "metadata": {},
   "source": [
    "정규화 후 수치형 데이터들의 값이 0과 1 사이의 값으로 변환 되었음을 볼 수 있습니다."
   ]
  },
  {
   "cell_type": "markdown",
   "id": "2be8a3e2-62a3-414a-84d8-54c36ae578f8",
   "metadata": {},
   "source": [
    "## 모델 학습\n",
    "\n",
    "모델을 설계했으니 이제 모델을 학습하면 됩니다.\n",
    "\n",
    "객체에 Logistic Regression 클래스를 할당 후, 클래스 내 fit 메소드를 이용해 학습을 진행하면 됩니다."
   ]
  },
  {
   "cell_type": "code",
   "execution_count": 64,
   "id": "c8b2ae10",
   "metadata": {},
   "outputs": [],
   "source": [
    "import wandb\n",
    "import torch\n",
    "import torch.nn as nn\n",
    "import torch.optim as optim\n",
    "from sklearn.model_selection import train_test_split\n",
    "from torch.utils.data import DataLoader, TensorDataset\n",
    "from sklearn.metrics import accuracy_score, roc_curve, auc\n",
    "import matplotlib.pyplot as plt\n",
    "\n",
    "\n",
    "sweep_config = {\n",
    "    'method': 'grid',  # 또는 'random' 혹은 'bayes'로 변경 가능\n",
    "    'metric': {\n",
    "        'name': 'train_loss',  # 주로 모니터링할 메트릭\n",
    "        'goal': 'minimize'  # 'maximize'로 변경 가능\n",
    "    },\n",
    "    'parameters': {\n",
    "        'epochs': {\n",
    "            'values': [200]  # 에포크 수를 탐색할 값들로 정의\n",
    "        },\n",
    "        'learning_rate': {\n",
    "            'values': [0.5, 0.1, 0.05]  # 학습률을 탐색할 값들로 정의\n",
    "        },\n",
    "        'weight_decay': {\n",
    "            'values': [0.0005, 0.0001]  # weight_decay 값을 탐색할 값들로 정의\n",
    "        },\n",
    "        'architecture': {\n",
    "            'values': ['LogisticRegression', 'RandomForest']  # 모델 아키텍처를 탐색할 값들로 정의\n",
    "        },\n",
    "        'seed': {\n",
    "            'value': 42  # 고정된 시드 값 (변경하지 않음)\n",
    "        }\n",
    "    }\n",
    "}"
   ]
  },
  {
   "cell_type": "code",
   "execution_count": 65,
   "id": "9fb99c37",
   "metadata": {},
   "outputs": [],
   "source": [
    "# torch 기반 Logistic Regression 모델 정의\n",
    "class LogisticRegressionModel(nn.Module):\n",
    "    def __init__(self, input_dim):\n",
    "        super(LogisticRegressionModel, self).__init__()\n",
    "        self.linear = nn.Linear(input_dim, 1)\n",
    "    \n",
    "    def forward(self, x):\n",
    "        return self.linear(x)\n",
    "\n",
    "class RandomForestModel(nn.Module):\n",
    "    def __init__(self, input_dim, num_trees=10, max_depth=5):\n",
    "        super(RandomForestModel, self).__init__()\n",
    "        self.num_trees = num_trees\n",
    "        self.trees = nn.ModuleList([self._build_tree(input_dim, max_depth) for _ in range(num_trees)])\n",
    "    \n",
    "    def _build_tree(self, input_dim, max_depth):\n",
    "        # 간단한 트리 구조를 생성 (이 예제에서는 트리를 Linear 레이어로 대체)\n",
    "        layers = []\n",
    "        for _ in range(max_depth):\n",
    "            layers.append(nn.Linear(input_dim, input_dim))\n",
    "            layers.append(nn.ReLU())\n",
    "        layers.append(nn.Linear(input_dim, 1))  # 최종 레이어는 1개의 출력 노드를 가짐\n",
    "        return nn.Sequential(*layers)\n",
    "    \n",
    "    def forward(self, x):\n",
    "        # 모든 트리의 출력을 평균화\n",
    "        tree_outputs = [tree(x) for tree in self.trees]\n",
    "        avg_output = torch.mean(torch.stack(tree_outputs), dim=0)\n",
    "        return avg_output\n",
    "\n",
    "class XGBoostLikeModel(nn.Module):\n",
    "    def __init__(self, input_dim, num_trees=10, max_depth=5, learning_rate=0.1):\n",
    "        super(XGBoostLikeModel, self).__init__()\n",
    "        self.num_trees = num_trees\n",
    "        self.learning_rate = learning_rate\n",
    "        self.trees = nn.ModuleList([self._build_tree(input_dim, max_depth) for _ in range(num_trees)])\n",
    "    \n",
    "    def _build_tree(self, input_dim, max_depth):\n",
    "        # 간단한 트리 구조를 생성 (이 예제에서는 트리를 Linear 레이어로 대체)\n",
    "        layers = []\n",
    "        for _ in range(max_depth):\n",
    "            layers.append(nn.Linear(input_dim, input_dim))\n",
    "            layers.append(nn.ReLU())\n",
    "        layers.append(nn.Linear(input_dim, 1))  # 최종 레이어는 1개의 출력 노드를 가짐\n",
    "        return nn.Sequential(*layers)\n",
    "    \n",
    "    def forward(self, x):\n",
    "        # 초기 예측값 (예: 0 또는 평균값)\n",
    "        output = torch.zeros_like(x[:, :1])  # 초기값을 0으로 설정 (mean value를 사용할 수도 있음)\n",
    "        \n",
    "        # 각 트리의 예측을 적용하여 점진적으로 결과를 갱신\n",
    "        for tree in self.trees:\n",
    "            residual = x - output  # 남은 오류 (잔차)\n",
    "            tree_output = tree(residual)  # 트리의 예측\n",
    "            output = output + self.learning_rate * tree_output  # 트리의 예측을 학습률과 곱하여 누적\n",
    "        \n",
    "        return output"
   ]
  },
  {
   "cell_type": "code",
   "execution_count": 66,
   "id": "fcec221e",
   "metadata": {},
   "outputs": [],
   "source": [
    "# 전역 변수로 설정\n",
    "best_overall_accuracy = 0.0\n",
    "best_overall_hyperparameters = None\n",
    "\n",
    "# Sweep 실행 후 모든 실험이 완료된 후, 최고 성능 모델과 하이퍼파라미터 저장\n",
    "def save_best_hyperparameters(best_overall_hyperparameters):\n",
    "    with open(\"best_hyperparameters.txt\", \"w\") as f:\n",
    "        for key, value in best_overall_hyperparameters.items():\n",
    "            f.write(f\"{key}: {value}\\n\")\n",
    "    print(f\"Best hyperparameters saved to best_hyperparameters.txt with accuracy: {best_overall_accuracy:.4f}\")"
   ]
  },
  {
   "cell_type": "code",
   "execution_count": 67,
   "id": "b3c16c31",
   "metadata": {},
   "outputs": [],
   "source": [
    "# 범주형 변수 인코딩\n",
    "train_x_encoded = pd.get_dummies(train_x)"
   ]
  },
  {
   "cell_type": "code",
   "execution_count": 68,
   "id": "f69ae015",
   "metadata": {},
   "outputs": [
    {
     "name": "stdout",
     "output_type": "stream",
     "text": [
      "Create sweep with ID: y1r7j6mo\n",
      "Sweep URL: https://wandb.ai/zamtol/uncategorized/sweeps/y1r7j6mo\n"
     ]
    },
    {
     "name": "stderr",
     "output_type": "stream",
     "text": [
      "\u001b[34m\u001b[1mwandb\u001b[0m: Agent Starting Run: sp4ymd5p with config:\n",
      "\u001b[34m\u001b[1mwandb\u001b[0m: \tarchitecture: LogisticRegression\n",
      "\u001b[34m\u001b[1mwandb\u001b[0m: \tepochs: 200\n",
      "\u001b[34m\u001b[1mwandb\u001b[0m: \tlearning_rate: 0.5\n",
      "\u001b[34m\u001b[1mwandb\u001b[0m: \tseed: 42\n",
      "\u001b[34m\u001b[1mwandb\u001b[0m: \tweight_decay: 0.0005\n",
      "Failed to detect the name of this notebook, you can set it manually with the WANDB_NOTEBOOK_NAME environment variable to enable code saving.\n"
     ]
    },
    {
     "data": {
      "text/html": [
       "Tracking run with wandb version 0.17.5"
      ],
      "text/plain": [
       "<IPython.core.display.HTML object>"
      ]
     },
     "metadata": {},
     "output_type": "display_data"
    },
    {
     "data": {
      "text/html": [
       "Run data is saved locally in <code>c:\\Users\\ADMIN\\git\\hack\\wandb\\run-20240803_150823-sp4ymd5p</code>"
      ],
      "text/plain": [
       "<IPython.core.display.HTML object>"
      ]
     },
     "metadata": {},
     "output_type": "display_data"
    },
    {
     "data": {
      "text/html": [
       "Syncing run <strong><a href='https://wandb.ai/zamtol/uncategorized/runs/sp4ymd5p' target=\"_blank\">scarlet-sweep-1</a></strong> to <a href='https://wandb.ai/zamtol/uncategorized' target=\"_blank\">Weights & Biases</a> (<a href='https://wandb.me/run' target=\"_blank\">docs</a>)<br/>Sweep page: <a href='https://wandb.ai/zamtol/uncategorized/sweeps/y1r7j6mo' target=\"_blank\">https://wandb.ai/zamtol/uncategorized/sweeps/y1r7j6mo</a>"
      ],
      "text/plain": [
       "<IPython.core.display.HTML object>"
      ]
     },
     "metadata": {},
     "output_type": "display_data"
    },
    {
     "data": {
      "text/html": [
       " View project at <a href='https://wandb.ai/zamtol/uncategorized' target=\"_blank\">https://wandb.ai/zamtol/uncategorized</a>"
      ],
      "text/plain": [
       "<IPython.core.display.HTML object>"
      ]
     },
     "metadata": {},
     "output_type": "display_data"
    },
    {
     "data": {
      "text/html": [
       " View sweep at <a href='https://wandb.ai/zamtol/uncategorized/sweeps/y1r7j6mo' target=\"_blank\">https://wandb.ai/zamtol/uncategorized/sweeps/y1r7j6mo</a>"
      ],
      "text/plain": [
       "<IPython.core.display.HTML object>"
      ]
     },
     "metadata": {},
     "output_type": "display_data"
    },
    {
     "data": {
      "text/html": [
       " View run at <a href='https://wandb.ai/zamtol/uncategorized/runs/sp4ymd5p' target=\"_blank\">https://wandb.ai/zamtol/uncategorized/runs/sp4ymd5p</a>"
      ],
      "text/plain": [
       "<IPython.core.display.HTML object>"
      ]
     },
     "metadata": {},
     "output_type": "display_data"
    },
    {
     "name": "stdout",
     "output_type": "stream",
     "text": [
      "Epoch 1/200, Loss: 1.0661, Validation Accuracy: 0.4700, AUC: 0.2324\n",
      "Epoch 2/200, Loss: 14.5998, Validation Accuracy: 0.4700, AUC: 0.2629\n",
      "Epoch 3/200, Loss: 9.0065, Validation Accuracy: 0.5650, AUC: 0.7511\n",
      "Epoch 4/200, Loss: 0.7216, Validation Accuracy: 0.5300, AUC: 0.8179\n",
      "Epoch 5/200, Loss: 4.4274, Validation Accuracy: 0.5300, AUC: 0.8297\n",
      "Epoch 6/200, Loss: 5.0685, Validation Accuracy: 0.5300, AUC: 0.8512\n",
      "Epoch 7/200, Loss: 3.4402, Validation Accuracy: 0.6667, AUC: 0.8365\n",
      "Epoch 8/200, Loss: 0.5862, Validation Accuracy: 0.4700, AUC: 0.6365\n",
      "Epoch 9/200, Loss: 3.7831, Validation Accuracy: 0.4700, AUC: 0.6431\n",
      "Epoch 10/200, Loss: 4.2704, Validation Accuracy: 0.5100, AUC: 0.7760\n",
      "Epoch 11/200, Loss: 1.5869, Validation Accuracy: 0.5800, AUC: 0.8693\n",
      "Epoch 12/200, Loss: 1.2850, Validation Accuracy: 0.5383, AUC: 0.8778\n",
      "Epoch 13/200, Loss: 2.8752, Validation Accuracy: 0.5383, AUC: 0.8793\n",
      "Epoch 14/200, Loss: 3.0665, Validation Accuracy: 0.5700, AUC: 0.8782\n",
      "Epoch 15/200, Loss: 2.0214, Validation Accuracy: 0.7417, AUC: 0.8609\n",
      "Epoch 16/200, Loss: 0.6045, Validation Accuracy: 0.5983, AUC: 0.8189\n",
      "Epoch 17/200, Loss: 1.4242, Validation Accuracy: 0.5233, AUC: 0.8056\n",
      "Epoch 18/200, Loss: 2.2198, Validation Accuracy: 0.6350, AUC: 0.8332\n",
      "Epoch 19/200, Loss: 1.2252, Validation Accuracy: 0.7700, AUC: 0.8665\n",
      "Epoch 20/200, Loss: 0.5606, Validation Accuracy: 0.6383, AUC: 0.8815\n",
      "Epoch 21/200, Loss: 1.2134, Validation Accuracy: 0.6067, AUC: 0.8861\n",
      "Epoch 22/200, Loss: 1.5896, Validation Accuracy: 0.6450, AUC: 0.8854\n",
      "Epoch 23/200, Loss: 1.2578, Validation Accuracy: 0.7683, AUC: 0.8799\n",
      "Epoch 24/200, Loss: 0.6501, Validation Accuracy: 0.7650, AUC: 0.8673\n",
      "Epoch 25/200, Loss: 0.6799, Validation Accuracy: 0.6733, AUC: 0.8585\n",
      "Epoch 26/200, Loss: 1.1751, Validation Accuracy: 0.7067, AUC: 0.8642\n",
      "Epoch 27/200, Loss: 1.0232, Validation Accuracy: 0.7850, AUC: 0.8787\n",
      "Epoch 28/200, Loss: 0.5769, Validation Accuracy: 0.7800, AUC: 0.8894\n",
      "Epoch 29/200, Loss: 0.6430, Validation Accuracy: 0.7200, AUC: 0.8942\n",
      "Epoch 30/200, Loss: 0.9149, Validation Accuracy: 0.7183, AUC: 0.8951\n",
      "Epoch 31/200, Loss: 0.9008, Validation Accuracy: 0.7817, AUC: 0.8935\n",
      "Epoch 32/200, Loss: 0.6361, Validation Accuracy: 0.8083, AUC: 0.8888\n",
      "Epoch 33/200, Loss: 0.5268, Validation Accuracy: 0.7667, AUC: 0.8844\n",
      "Epoch 34/200, Loss: 0.7161, Validation Accuracy: 0.7567, AUC: 0.8847\n",
      "Epoch 35/200, Loss: 0.7731, Validation Accuracy: 0.8067, AUC: 0.8898\n",
      "Epoch 36/200, Loss: 0.5729, Validation Accuracy: 0.8217, AUC: 0.8954\n",
      "Epoch 37/200, Loss: 0.5119, Validation Accuracy: 0.7800, AUC: 0.8989\n",
      "Epoch 38/200, Loss: 0.6343, Validation Accuracy: 0.7717, AUC: 0.8998\n",
      "Epoch 39/200, Loss: 0.6715, Validation Accuracy: 0.7933, AUC: 0.8990\n",
      "Epoch 40/200, Loss: 0.5548, Validation Accuracy: 0.8233, AUC: 0.8960\n",
      "Epoch 41/200, Loss: 0.4835, Validation Accuracy: 0.8067, AUC: 0.8931\n",
      "Epoch 42/200, Loss: 0.5657, Validation Accuracy: 0.7983, AUC: 0.8931\n",
      "Epoch 43/200, Loss: 0.5952, Validation Accuracy: 0.8133, AUC: 0.8954\n",
      "Epoch 44/200, Loss: 0.4969, Validation Accuracy: 0.8217, AUC: 0.8987\n",
      "Epoch 45/200, Loss: 0.4744, Validation Accuracy: 0.7967, AUC: 0.9000\n",
      "Epoch 46/200, Loss: 0.5372, Validation Accuracy: 0.7983, AUC: 0.9000\n",
      "Epoch 47/200, Loss: 0.5314, Validation Accuracy: 0.8217, AUC: 0.8988\n",
      "Epoch 48/200, Loss: 0.4621, Validation Accuracy: 0.8233, AUC: 0.8966\n",
      "Epoch 49/200, Loss: 0.4616, Validation Accuracy: 0.8117, AUC: 0.8953\n",
      "Epoch 50/200, Loss: 0.5054, Validation Accuracy: 0.8183, AUC: 0.8962\n",
      "Epoch 51/200, Loss: 0.4707, Validation Accuracy: 0.8233, AUC: 0.8985\n",
      "Epoch 52/200, Loss: 0.4327, Validation Accuracy: 0.8050, AUC: 0.9002\n",
      "Epoch 53/200, Loss: 0.4609, Validation Accuracy: 0.8067, AUC: 0.9005\n",
      "Epoch 54/200, Loss: 0.4659, Validation Accuracy: 0.8183, AUC: 0.8998\n",
      "Epoch 55/200, Loss: 0.4259, Validation Accuracy: 0.8183, AUC: 0.8986\n",
      "Epoch 56/200, Loss: 0.4243, Validation Accuracy: 0.8233, AUC: 0.8979\n",
      "Epoch 57/200, Loss: 0.4450, Validation Accuracy: 0.8217, AUC: 0.8992\n",
      "Epoch 58/200, Loss: 0.4190, Validation Accuracy: 0.8267, AUC: 0.9006\n",
      "Epoch 59/200, Loss: 0.4053, Validation Accuracy: 0.8117, AUC: 0.9014\n",
      "Epoch 60/200, Loss: 0.4227, Validation Accuracy: 0.8150, AUC: 0.9011\n",
      "Epoch 61/200, Loss: 0.4113, Validation Accuracy: 0.8317, AUC: 0.9002\n",
      "Epoch 62/200, Loss: 0.3928, Validation Accuracy: 0.8200, AUC: 0.8987\n",
      "Epoch 63/200, Loss: 0.4049, Validation Accuracy: 0.8183, AUC: 0.8988\n",
      "Epoch 64/200, Loss: 0.4004, Validation Accuracy: 0.8333, AUC: 0.9000\n",
      "Epoch 65/200, Loss: 0.3845, Validation Accuracy: 0.8150, AUC: 0.9008\n",
      "Epoch 66/200, Loss: 0.3930, Validation Accuracy: 0.8183, AUC: 0.9006\n",
      "Epoch 67/200, Loss: 0.3908, Validation Accuracy: 0.8233, AUC: 0.8999\n",
      "Epoch 68/200, Loss: 0.3781, Validation Accuracy: 0.8283, AUC: 0.8989\n",
      "Epoch 69/200, Loss: 0.3845, Validation Accuracy: 0.8283, AUC: 0.8984\n",
      "Epoch 70/200, Loss: 0.3821, Validation Accuracy: 0.8250, AUC: 0.8992\n",
      "Epoch 71/200, Loss: 0.3732, Validation Accuracy: 0.8200, AUC: 0.8999\n",
      "Epoch 72/200, Loss: 0.3789, Validation Accuracy: 0.8200, AUC: 0.8994\n",
      "Epoch 73/200, Loss: 0.3752, Validation Accuracy: 0.8217, AUC: 0.8985\n",
      "Epoch 74/200, Loss: 0.3697, Validation Accuracy: 0.8283, AUC: 0.8978\n",
      "Epoch 75/200, Loss: 0.3744, Validation Accuracy: 0.8267, AUC: 0.8984\n",
      "Epoch 76/200, Loss: 0.3692, Validation Accuracy: 0.8183, AUC: 0.8992\n",
      "Epoch 77/200, Loss: 0.3676, Validation Accuracy: 0.8117, AUC: 0.8996\n",
      "Epoch 78/200, Loss: 0.3702, Validation Accuracy: 0.8183, AUC: 0.8993\n",
      "Epoch 79/200, Loss: 0.3650, Validation Accuracy: 0.8233, AUC: 0.8989\n",
      "Epoch 80/200, Loss: 0.3662, Validation Accuracy: 0.8217, AUC: 0.8989\n",
      "Epoch 81/200, Loss: 0.3659, Validation Accuracy: 0.8200, AUC: 0.9001\n",
      "Epoch 82/200, Loss: 0.3626, Validation Accuracy: 0.8117, AUC: 0.9006\n",
      "Epoch 83/200, Loss: 0.3648, Validation Accuracy: 0.8150, AUC: 0.9006\n",
      "Epoch 84/200, Loss: 0.3622, Validation Accuracy: 0.8267, AUC: 0.9002\n",
      "Epoch 85/200, Loss: 0.3618, Validation Accuracy: 0.8283, AUC: 0.9004\n",
      "Epoch 86/200, Loss: 0.3625, Validation Accuracy: 0.8217, AUC: 0.9010\n",
      "Epoch 87/200, Loss: 0.3600, Validation Accuracy: 0.8133, AUC: 0.9017\n",
      "Epoch 88/200, Loss: 0.3613, Validation Accuracy: 0.8167, AUC: 0.9018\n",
      "Epoch 89/200, Loss: 0.3599, Validation Accuracy: 0.8267, AUC: 0.9020\n",
      "Epoch 90/200, Loss: 0.3595, Validation Accuracy: 0.8250, AUC: 0.9023\n",
      "Epoch 91/200, Loss: 0.3598, Validation Accuracy: 0.8267, AUC: 0.9028\n",
      "Epoch 92/200, Loss: 0.3584, Validation Accuracy: 0.8183, AUC: 0.9035\n",
      "Epoch 93/200, Loss: 0.3592, Validation Accuracy: 0.8217, AUC: 0.9036\n",
      "Epoch 94/200, Loss: 0.3580, Validation Accuracy: 0.8250, AUC: 0.9038\n",
      "Epoch 95/200, Loss: 0.3581, Validation Accuracy: 0.8250, AUC: 0.9041\n",
      "Epoch 96/200, Loss: 0.3580, Validation Accuracy: 0.8283, AUC: 0.9047\n",
      "Epoch 97/200, Loss: 0.3573, Validation Accuracy: 0.8233, AUC: 0.9051\n",
      "Epoch 98/200, Loss: 0.3577, Validation Accuracy: 0.8283, AUC: 0.9053\n",
      "Epoch 99/200, Loss: 0.3569, Validation Accuracy: 0.8267, AUC: 0.9054\n",
      "Epoch 100/200, Loss: 0.3572, Validation Accuracy: 0.8233, AUC: 0.9059\n",
      "Epoch 101/200, Loss: 0.3567, Validation Accuracy: 0.8233, AUC: 0.9063\n",
      "Epoch 102/200, Loss: 0.3567, Validation Accuracy: 0.8233, AUC: 0.9065\n",
      "Epoch 103/200, Loss: 0.3567, Validation Accuracy: 0.8267, AUC: 0.9067\n",
      "Epoch 104/200, Loss: 0.3563, Validation Accuracy: 0.8250, AUC: 0.9068\n",
      "Epoch 105/200, Loss: 0.3565, Validation Accuracy: 0.8283, AUC: 0.9070\n",
      "Epoch 106/200, Loss: 0.3561, Validation Accuracy: 0.8250, AUC: 0.9073\n",
      "Epoch 107/200, Loss: 0.3563, Validation Accuracy: 0.8300, AUC: 0.9073\n",
      "Epoch 108/200, Loss: 0.3560, Validation Accuracy: 0.8267, AUC: 0.9075\n",
      "Epoch 109/200, Loss: 0.3560, Validation Accuracy: 0.8267, AUC: 0.9076\n",
      "Epoch 110/200, Loss: 0.3559, Validation Accuracy: 0.8317, AUC: 0.9080\n",
      "Epoch 111/200, Loss: 0.3558, Validation Accuracy: 0.8250, AUC: 0.9082\n",
      "Epoch 112/200, Loss: 0.3558, Validation Accuracy: 0.8283, AUC: 0.9081\n",
      "Epoch 113/200, Loss: 0.3556, Validation Accuracy: 0.8250, AUC: 0.9081\n",
      "Epoch 114/200, Loss: 0.3556, Validation Accuracy: 0.8283, AUC: 0.9084\n",
      "Epoch 115/200, Loss: 0.3555, Validation Accuracy: 0.8267, AUC: 0.9087\n",
      "Epoch 116/200, Loss: 0.3555, Validation Accuracy: 0.8283, AUC: 0.9086\n",
      "Epoch 117/200, Loss: 0.3554, Validation Accuracy: 0.8283, AUC: 0.9086\n",
      "Epoch 118/200, Loss: 0.3554, Validation Accuracy: 0.8283, AUC: 0.9086\n",
      "Epoch 119/200, Loss: 0.3553, Validation Accuracy: 0.8233, AUC: 0.9087\n",
      "Epoch 120/200, Loss: 0.3553, Validation Accuracy: 0.8233, AUC: 0.9087\n",
      "Epoch 121/200, Loss: 0.3552, Validation Accuracy: 0.8283, AUC: 0.9087\n",
      "Epoch 122/200, Loss: 0.3552, Validation Accuracy: 0.8283, AUC: 0.9086\n",
      "Epoch 123/200, Loss: 0.3552, Validation Accuracy: 0.8250, AUC: 0.9087\n",
      "Epoch 124/200, Loss: 0.3551, Validation Accuracy: 0.8217, AUC: 0.9087\n",
      "Epoch 125/200, Loss: 0.3551, Validation Accuracy: 0.8267, AUC: 0.9086\n",
      "Epoch 126/200, Loss: 0.3550, Validation Accuracy: 0.8283, AUC: 0.9086\n",
      "Epoch 127/200, Loss: 0.3551, Validation Accuracy: 0.8267, AUC: 0.9087\n",
      "Epoch 128/200, Loss: 0.3550, Validation Accuracy: 0.8233, AUC: 0.9088\n",
      "Epoch 129/200, Loss: 0.3550, Validation Accuracy: 0.8250, AUC: 0.9087\n",
      "Epoch 130/200, Loss: 0.3549, Validation Accuracy: 0.8267, AUC: 0.9086\n",
      "Epoch 131/200, Loss: 0.3549, Validation Accuracy: 0.8267, AUC: 0.9086\n",
      "Epoch 132/200, Loss: 0.3549, Validation Accuracy: 0.8233, AUC: 0.9087\n",
      "Epoch 133/200, Loss: 0.3549, Validation Accuracy: 0.8233, AUC: 0.9087\n",
      "Epoch 134/200, Loss: 0.3549, Validation Accuracy: 0.8250, AUC: 0.9086\n",
      "Epoch 135/200, Loss: 0.3548, Validation Accuracy: 0.8267, AUC: 0.9087\n",
      "Epoch 136/200, Loss: 0.3548, Validation Accuracy: 0.8217, AUC: 0.9087\n",
      "Epoch 137/200, Loss: 0.3548, Validation Accuracy: 0.8217, AUC: 0.9087\n",
      "Epoch 138/200, Loss: 0.3548, Validation Accuracy: 0.8250, AUC: 0.9086\n",
      "Epoch 139/200, Loss: 0.3548, Validation Accuracy: 0.8233, AUC: 0.9087\n",
      "Epoch 140/200, Loss: 0.3547, Validation Accuracy: 0.8233, AUC: 0.9086\n",
      "Epoch 141/200, Loss: 0.3547, Validation Accuracy: 0.8233, AUC: 0.9086\n",
      "Epoch 142/200, Loss: 0.3547, Validation Accuracy: 0.8217, AUC: 0.9086\n",
      "Epoch 143/200, Loss: 0.3547, Validation Accuracy: 0.8217, AUC: 0.9086\n",
      "Epoch 144/200, Loss: 0.3547, Validation Accuracy: 0.8217, AUC: 0.9086\n",
      "Epoch 145/200, Loss: 0.3546, Validation Accuracy: 0.8217, AUC: 0.9086\n",
      "Epoch 146/200, Loss: 0.3546, Validation Accuracy: 0.8217, AUC: 0.9086\n",
      "Epoch 147/200, Loss: 0.3546, Validation Accuracy: 0.8217, AUC: 0.9087\n",
      "Epoch 148/200, Loss: 0.3546, Validation Accuracy: 0.8200, AUC: 0.9087\n",
      "Epoch 149/200, Loss: 0.3546, Validation Accuracy: 0.8200, AUC: 0.9087\n",
      "Epoch 150/200, Loss: 0.3545, Validation Accuracy: 0.8217, AUC: 0.9087\n",
      "Epoch 151/200, Loss: 0.3545, Validation Accuracy: 0.8217, AUC: 0.9087\n",
      "Epoch 152/200, Loss: 0.3545, Validation Accuracy: 0.8217, AUC: 0.9087\n",
      "Epoch 153/200, Loss: 0.3545, Validation Accuracy: 0.8200, AUC: 0.9087\n",
      "Epoch 154/200, Loss: 0.3545, Validation Accuracy: 0.8217, AUC: 0.9087\n",
      "Epoch 155/200, Loss: 0.3545, Validation Accuracy: 0.8217, AUC: 0.9087\n",
      "Epoch 156/200, Loss: 0.3544, Validation Accuracy: 0.8217, AUC: 0.9087\n",
      "Epoch 157/200, Loss: 0.3544, Validation Accuracy: 0.8217, AUC: 0.9087\n",
      "Epoch 158/200, Loss: 0.3544, Validation Accuracy: 0.8217, AUC: 0.9087\n",
      "Epoch 159/200, Loss: 0.3544, Validation Accuracy: 0.8217, AUC: 0.9087\n",
      "Epoch 160/200, Loss: 0.3544, Validation Accuracy: 0.8217, AUC: 0.9087\n",
      "Epoch 161/200, Loss: 0.3544, Validation Accuracy: 0.8217, AUC: 0.9087\n",
      "Epoch 162/200, Loss: 0.3543, Validation Accuracy: 0.8233, AUC: 0.9088\n",
      "Epoch 163/200, Loss: 0.3543, Validation Accuracy: 0.8217, AUC: 0.9087\n",
      "Epoch 164/200, Loss: 0.3543, Validation Accuracy: 0.8217, AUC: 0.9088\n",
      "Epoch 165/200, Loss: 0.3543, Validation Accuracy: 0.8217, AUC: 0.9088\n",
      "Epoch 166/200, Loss: 0.3543, Validation Accuracy: 0.8233, AUC: 0.9088\n",
      "Epoch 167/200, Loss: 0.3543, Validation Accuracy: 0.8217, AUC: 0.9088\n",
      "Epoch 168/200, Loss: 0.3543, Validation Accuracy: 0.8217, AUC: 0.9089\n",
      "Epoch 169/200, Loss: 0.3542, Validation Accuracy: 0.8217, AUC: 0.9089\n",
      "Epoch 170/200, Loss: 0.3542, Validation Accuracy: 0.8233, AUC: 0.9089\n",
      "Epoch 171/200, Loss: 0.3542, Validation Accuracy: 0.8217, AUC: 0.9089\n",
      "Epoch 172/200, Loss: 0.3542, Validation Accuracy: 0.8217, AUC: 0.9089\n",
      "Epoch 173/200, Loss: 0.3542, Validation Accuracy: 0.8217, AUC: 0.9089\n",
      "Epoch 174/200, Loss: 0.3542, Validation Accuracy: 0.8233, AUC: 0.9089\n",
      "Epoch 175/200, Loss: 0.3541, Validation Accuracy: 0.8217, AUC: 0.9089\n",
      "Epoch 176/200, Loss: 0.3541, Validation Accuracy: 0.8217, AUC: 0.9089\n",
      "Epoch 177/200, Loss: 0.3541, Validation Accuracy: 0.8217, AUC: 0.9089\n",
      "Epoch 178/200, Loss: 0.3541, Validation Accuracy: 0.8233, AUC: 0.9090\n",
      "Epoch 179/200, Loss: 0.3541, Validation Accuracy: 0.8217, AUC: 0.9090\n",
      "Epoch 180/200, Loss: 0.3541, Validation Accuracy: 0.8217, AUC: 0.9090\n",
      "Epoch 181/200, Loss: 0.3541, Validation Accuracy: 0.8217, AUC: 0.9090\n",
      "Epoch 182/200, Loss: 0.3540, Validation Accuracy: 0.8217, AUC: 0.9090\n",
      "Epoch 183/200, Loss: 0.3540, Validation Accuracy: 0.8217, AUC: 0.9090\n",
      "Epoch 184/200, Loss: 0.3540, Validation Accuracy: 0.8217, AUC: 0.9091\n",
      "Epoch 185/200, Loss: 0.3540, Validation Accuracy: 0.8217, AUC: 0.9091\n",
      "Epoch 186/200, Loss: 0.3540, Validation Accuracy: 0.8200, AUC: 0.9091\n",
      "Epoch 187/200, Loss: 0.3540, Validation Accuracy: 0.8200, AUC: 0.9091\n",
      "Epoch 188/200, Loss: 0.3540, Validation Accuracy: 0.8200, AUC: 0.9091\n",
      "Epoch 189/200, Loss: 0.3539, Validation Accuracy: 0.8217, AUC: 0.9091\n",
      "Epoch 190/200, Loss: 0.3539, Validation Accuracy: 0.8200, AUC: 0.9090\n",
      "Epoch 191/200, Loss: 0.3539, Validation Accuracy: 0.8200, AUC: 0.9090\n",
      "Epoch 192/200, Loss: 0.3539, Validation Accuracy: 0.8217, AUC: 0.9090\n",
      "Epoch 193/200, Loss: 0.3539, Validation Accuracy: 0.8217, AUC: 0.9090\n",
      "Epoch 194/200, Loss: 0.3539, Validation Accuracy: 0.8217, AUC: 0.9090\n",
      "Epoch 195/200, Loss: 0.3539, Validation Accuracy: 0.8217, AUC: 0.9090\n",
      "Epoch 196/200, Loss: 0.3538, Validation Accuracy: 0.8217, AUC: 0.9090\n",
      "Epoch 197/200, Loss: 0.3538, Validation Accuracy: 0.8217, AUC: 0.9091\n",
      "Epoch 198/200, Loss: 0.3538, Validation Accuracy: 0.8217, AUC: 0.9091\n",
      "Epoch 199/200, Loss: 0.3538, Validation Accuracy: 0.8217, AUC: 0.9092\n",
      "Epoch 200/200, Loss: 0.3538, Validation Accuracy: 0.8217, AUC: 0.9092\n"
     ]
    },
    {
     "data": {
      "text/html": [
       "<style>\n",
       "    table.wandb td:nth-child(1) { padding: 0 10px; text-align: left ; width: auto;} td:nth-child(2) {text-align: left ; width: 100%}\n",
       "    .wandb-row { display: flex; flex-direction: row; flex-wrap: wrap; justify-content: flex-start; width: 100% }\n",
       "    .wandb-col { display: flex; flex-direction: column; flex-basis: 100%; flex: 1; padding: 10px; }\n",
       "    </style>\n",
       "<div class=\"wandb-row\"><div class=\"wandb-col\"><h3>Run history:</h3><br/><table class=\"wandb\"><tr><td>Final Best Epoch</td><td>▁</td></tr><tr><td>Final Best Val Accuracy</td><td>▁</td></tr><tr><td>best_epoch</td><td>▁▁▂▃▃▃▄▅▅▅▅▅████████████████████████████</td></tr><tr><td>best_val_accuracy</td><td>▁▃▅▆▇▇██████████████████████████████████</td></tr><tr><td>roc_auc</td><td>▁▇█▇████████████████████████████████████</td></tr><tr><td>train_loss</td><td>█▃▁▁▂▁▁▁▁▁▁▁▁▁▁▁▁▁▁▁▁▁▁▁▁▁▁▁▁▁▁▁▁▁▁▁▁▁▁▁</td></tr><tr><td>val_accuracy</td><td>▁▂▂▄▄▆██▇▇██████████████████████████████</td></tr></table><br/></div><div class=\"wandb-col\"><h3>Run summary:</h3><br/><table class=\"wandb\"><tr><td>Final Best Epoch</td><td>64</td></tr><tr><td>Final Best Val Accuracy</td><td>0.83333</td></tr><tr><td>best_epoch</td><td>64</td></tr><tr><td>best_val_accuracy</td><td>0.83333</td></tr><tr><td>roc_auc</td><td>0.90916</td></tr><tr><td>train_loss</td><td>0.35379</td></tr><tr><td>val_accuracy</td><td>0.82167</td></tr></table><br/></div></div>"
      ],
      "text/plain": [
       "<IPython.core.display.HTML object>"
      ]
     },
     "metadata": {},
     "output_type": "display_data"
    },
    {
     "data": {
      "text/html": [
       " View run <strong style=\"color:#cdcd00\">scarlet-sweep-1</strong> at: <a href='https://wandb.ai/zamtol/uncategorized/runs/sp4ymd5p' target=\"_blank\">https://wandb.ai/zamtol/uncategorized/runs/sp4ymd5p</a><br/> View project at: <a href='https://wandb.ai/zamtol/uncategorized' target=\"_blank\">https://wandb.ai/zamtol/uncategorized</a><br/>Synced 5 W&B file(s), 200 media file(s), 0 artifact file(s) and 0 other file(s)"
      ],
      "text/plain": [
       "<IPython.core.display.HTML object>"
      ]
     },
     "metadata": {},
     "output_type": "display_data"
    },
    {
     "data": {
      "text/html": [
       "Find logs at: <code>.\\wandb\\run-20240803_150823-sp4ymd5p\\logs</code>"
      ],
      "text/plain": [
       "<IPython.core.display.HTML object>"
      ]
     },
     "metadata": {},
     "output_type": "display_data"
    },
    {
     "data": {
      "text/html": [
       "The new W&B backend becomes opt-out in version 0.18.0; try it out with `wandb.require(\"core\")`! See https://wandb.me/wandb-core for more information."
      ],
      "text/plain": [
       "<IPython.core.display.HTML object>"
      ]
     },
     "metadata": {},
     "output_type": "display_data"
    },
    {
     "name": "stderr",
     "output_type": "stream",
     "text": [
      "\u001b[34m\u001b[1mwandb\u001b[0m: Agent Starting Run: oc768fgt with config:\n",
      "\u001b[34m\u001b[1mwandb\u001b[0m: \tarchitecture: LogisticRegression\n",
      "\u001b[34m\u001b[1mwandb\u001b[0m: \tepochs: 200\n",
      "\u001b[34m\u001b[1mwandb\u001b[0m: \tlearning_rate: 0.5\n",
      "\u001b[34m\u001b[1mwandb\u001b[0m: \tseed: 42\n",
      "\u001b[34m\u001b[1mwandb\u001b[0m: \tweight_decay: 0.0001\n",
      "Failed to detect the name of this notebook, you can set it manually with the WANDB_NOTEBOOK_NAME environment variable to enable code saving.\n"
     ]
    },
    {
     "data": {
      "text/html": [
       "Tracking run with wandb version 0.17.5"
      ],
      "text/plain": [
       "<IPython.core.display.HTML object>"
      ]
     },
     "metadata": {},
     "output_type": "display_data"
    },
    {
     "data": {
      "text/html": [
       "Run data is saved locally in <code>c:\\Users\\ADMIN\\git\\hack\\wandb\\run-20240803_150857-oc768fgt</code>"
      ],
      "text/plain": [
       "<IPython.core.display.HTML object>"
      ]
     },
     "metadata": {},
     "output_type": "display_data"
    },
    {
     "data": {
      "text/html": [
       "Syncing run <strong><a href='https://wandb.ai/zamtol/uncategorized/runs/oc768fgt' target=\"_blank\">atomic-sweep-2</a></strong> to <a href='https://wandb.ai/zamtol/uncategorized' target=\"_blank\">Weights & Biases</a> (<a href='https://wandb.me/run' target=\"_blank\">docs</a>)<br/>Sweep page: <a href='https://wandb.ai/zamtol/uncategorized/sweeps/y1r7j6mo' target=\"_blank\">https://wandb.ai/zamtol/uncategorized/sweeps/y1r7j6mo</a>"
      ],
      "text/plain": [
       "<IPython.core.display.HTML object>"
      ]
     },
     "metadata": {},
     "output_type": "display_data"
    },
    {
     "data": {
      "text/html": [
       " View project at <a href='https://wandb.ai/zamtol/uncategorized' target=\"_blank\">https://wandb.ai/zamtol/uncategorized</a>"
      ],
      "text/plain": [
       "<IPython.core.display.HTML object>"
      ]
     },
     "metadata": {},
     "output_type": "display_data"
    },
    {
     "data": {
      "text/html": [
       " View sweep at <a href='https://wandb.ai/zamtol/uncategorized/sweeps/y1r7j6mo' target=\"_blank\">https://wandb.ai/zamtol/uncategorized/sweeps/y1r7j6mo</a>"
      ],
      "text/plain": [
       "<IPython.core.display.HTML object>"
      ]
     },
     "metadata": {},
     "output_type": "display_data"
    },
    {
     "data": {
      "text/html": [
       " View run at <a href='https://wandb.ai/zamtol/uncategorized/runs/oc768fgt' target=\"_blank\">https://wandb.ai/zamtol/uncategorized/runs/oc768fgt</a>"
      ],
      "text/plain": [
       "<IPython.core.display.HTML object>"
      ]
     },
     "metadata": {},
     "output_type": "display_data"
    },
    {
     "name": "stdout",
     "output_type": "stream",
     "text": [
      "Epoch 1/200, Loss: 1.0070, Validation Accuracy: 0.4700, AUC: 0.2358\n",
      "Epoch 2/200, Loss: 14.7533, Validation Accuracy: 0.4700, AUC: 0.2672\n",
      "Epoch 3/200, Loss: 8.8950, Validation Accuracy: 0.5417, AUC: 0.8178\n",
      "Epoch 4/200, Loss: 0.8471, Validation Accuracy: 0.5300, AUC: 0.8373\n",
      "Epoch 5/200, Loss: 4.1789, Validation Accuracy: 0.5300, AUC: 0.8489\n",
      "Epoch 6/200, Loss: 4.4916, Validation Accuracy: 0.5300, AUC: 0.8738\n",
      "Epoch 7/200, Loss: 2.6289, Validation Accuracy: 0.6700, AUC: 0.7977\n",
      "Epoch 8/200, Loss: 0.6691, Validation Accuracy: 0.4700, AUC: 0.6937\n",
      "Epoch 9/200, Loss: 2.6680, Validation Accuracy: 0.5233, AUC: 0.7774\n",
      "Epoch 10/200, Loss: 1.3749, Validation Accuracy: 0.6117, AUC: 0.8723\n",
      "Epoch 11/200, Loss: 0.9310, Validation Accuracy: 0.5500, AUC: 0.8840\n",
      "Epoch 12/200, Loss: 1.8984, Validation Accuracy: 0.5733, AUC: 0.8835\n",
      "Epoch 13/200, Loss: 1.6011, Validation Accuracy: 0.7233, AUC: 0.8678\n",
      "Epoch 14/200, Loss: 0.5978, Validation Accuracy: 0.6317, AUC: 0.8279\n",
      "Epoch 15/200, Loss: 1.0387, Validation Accuracy: 0.5667, AUC: 0.8224\n",
      "Epoch 16/200, Loss: 1.4234, Validation Accuracy: 0.7567, AUC: 0.8552\n",
      "Epoch 17/200, Loss: 0.6057, Validation Accuracy: 0.7050, AUC: 0.8805\n",
      "Epoch 18/200, Loss: 0.6977, Validation Accuracy: 0.6333, AUC: 0.8885\n",
      "Epoch 19/200, Loss: 1.1151, Validation Accuracy: 0.6683, AUC: 0.8880\n",
      "Epoch 20/200, Loss: 0.9444, Validation Accuracy: 0.7967, AUC: 0.8821\n",
      "Epoch 21/200, Loss: 0.5205, Validation Accuracy: 0.7600, AUC: 0.8695\n",
      "Epoch 22/200, Loss: 0.6722, Validation Accuracy: 0.6883, AUC: 0.8652\n",
      "Epoch 23/200, Loss: 0.9196, Validation Accuracy: 0.7800, AUC: 0.8768\n",
      "Epoch 24/200, Loss: 0.6023, Validation Accuracy: 0.8000, AUC: 0.8895\n",
      "Epoch 25/200, Loss: 0.5068, Validation Accuracy: 0.7233, AUC: 0.8954\n",
      "Epoch 26/200, Loss: 0.7220, Validation Accuracy: 0.7283, AUC: 0.8966\n",
      "Epoch 27/200, Loss: 0.7245, Validation Accuracy: 0.7917, AUC: 0.8944\n",
      "Epoch 28/200, Loss: 0.5168, Validation Accuracy: 0.8033, AUC: 0.8886\n",
      "Epoch 29/200, Loss: 0.5041, Validation Accuracy: 0.7617, AUC: 0.8853\n",
      "Epoch 30/200, Loss: 0.6620, Validation Accuracy: 0.7967, AUC: 0.8884\n",
      "Epoch 31/200, Loss: 0.5700, Validation Accuracy: 0.8233, AUC: 0.8950\n",
      "Epoch 32/200, Loss: 0.4565, Validation Accuracy: 0.7900, AUC: 0.8989\n",
      "Epoch 33/200, Loss: 0.5454, Validation Accuracy: 0.7700, AUC: 0.8997\n",
      "Epoch 34/200, Loss: 0.5859, Validation Accuracy: 0.7950, AUC: 0.8985\n",
      "Epoch 35/200, Loss: 0.4845, Validation Accuracy: 0.8167, AUC: 0.8954\n",
      "Epoch 36/200, Loss: 0.4548, Validation Accuracy: 0.7983, AUC: 0.8924\n",
      "Epoch 37/200, Loss: 0.5366, Validation Accuracy: 0.8033, AUC: 0.8939\n",
      "Epoch 38/200, Loss: 0.4976, Validation Accuracy: 0.8183, AUC: 0.8973\n",
      "Epoch 39/200, Loss: 0.4334, Validation Accuracy: 0.8000, AUC: 0.8996\n",
      "Epoch 40/200, Loss: 0.4812, Validation Accuracy: 0.7933, AUC: 0.8998\n",
      "Epoch 41/200, Loss: 0.4930, Validation Accuracy: 0.8133, AUC: 0.8988\n",
      "Epoch 42/200, Loss: 0.4319, Validation Accuracy: 0.8183, AUC: 0.8961\n",
      "Epoch 43/200, Loss: 0.4370, Validation Accuracy: 0.8133, AUC: 0.8953\n",
      "Epoch 44/200, Loss: 0.4702, Validation Accuracy: 0.8167, AUC: 0.8969\n",
      "Epoch 45/200, Loss: 0.4248, Validation Accuracy: 0.8183, AUC: 0.8997\n",
      "Epoch 46/200, Loss: 0.4162, Validation Accuracy: 0.8083, AUC: 0.9009\n",
      "Epoch 47/200, Loss: 0.4441, Validation Accuracy: 0.8133, AUC: 0.9007\n",
      "Epoch 48/200, Loss: 0.4174, Validation Accuracy: 0.8267, AUC: 0.8995\n",
      "Epoch 49/200, Loss: 0.3994, Validation Accuracy: 0.8200, AUC: 0.8980\n",
      "Epoch 50/200, Loss: 0.4232, Validation Accuracy: 0.8200, AUC: 0.8989\n",
      "Epoch 51/200, Loss: 0.4034, Validation Accuracy: 0.8183, AUC: 0.9009\n",
      "Epoch 52/200, Loss: 0.3899, Validation Accuracy: 0.8100, AUC: 0.9016\n",
      "Epoch 53/200, Loss: 0.4071, Validation Accuracy: 0.8167, AUC: 0.9014\n",
      "Epoch 54/200, Loss: 0.3915, Validation Accuracy: 0.8333, AUC: 0.9002\n",
      "Epoch 55/200, Loss: 0.3820, Validation Accuracy: 0.8133, AUC: 0.8989\n",
      "Epoch 56/200, Loss: 0.3952, Validation Accuracy: 0.8283, AUC: 0.8998\n",
      "Epoch 57/200, Loss: 0.3798, Validation Accuracy: 0.8183, AUC: 0.9011\n",
      "Epoch 58/200, Loss: 0.3781, Validation Accuracy: 0.8000, AUC: 0.9011\n",
      "Epoch 59/200, Loss: 0.3854, Validation Accuracy: 0.8217, AUC: 0.9005\n",
      "Epoch 60/200, Loss: 0.3720, Validation Accuracy: 0.8267, AUC: 0.8990\n",
      "Epoch 61/200, Loss: 0.3755, Validation Accuracy: 0.8233, AUC: 0.8987\n",
      "Epoch 62/200, Loss: 0.3766, Validation Accuracy: 0.8217, AUC: 0.8996\n",
      "Epoch 63/200, Loss: 0.3672, Validation Accuracy: 0.8150, AUC: 0.9005\n",
      "Epoch 64/200, Loss: 0.3737, Validation Accuracy: 0.8167, AUC: 0.9002\n",
      "Epoch 65/200, Loss: 0.3687, Validation Accuracy: 0.8250, AUC: 0.8990\n",
      "Epoch 66/200, Loss: 0.3659, Validation Accuracy: 0.8233, AUC: 0.8987\n",
      "Epoch 67/200, Loss: 0.3700, Validation Accuracy: 0.8250, AUC: 0.8998\n",
      "Epoch 68/200, Loss: 0.3632, Validation Accuracy: 0.8100, AUC: 0.9009\n",
      "Epoch 69/200, Loss: 0.3663, Validation Accuracy: 0.8150, AUC: 0.9008\n",
      "Epoch 70/200, Loss: 0.3646, Validation Accuracy: 0.8250, AUC: 0.9001\n",
      "Epoch 71/200, Loss: 0.3619, Validation Accuracy: 0.8200, AUC: 0.9001\n",
      "Epoch 72/200, Loss: 0.3647, Validation Accuracy: 0.8250, AUC: 0.9010\n",
      "Epoch 73/200, Loss: 0.3604, Validation Accuracy: 0.8083, AUC: 0.9018\n",
      "Epoch 74/200, Loss: 0.3626, Validation Accuracy: 0.8117, AUC: 0.9019\n",
      "Epoch 75/200, Loss: 0.3609, Validation Accuracy: 0.8300, AUC: 0.9018\n",
      "Epoch 76/200, Loss: 0.3600, Validation Accuracy: 0.8233, AUC: 0.9018\n",
      "Epoch 77/200, Loss: 0.3611, Validation Accuracy: 0.8250, AUC: 0.9024\n",
      "Epoch 78/200, Loss: 0.3586, Validation Accuracy: 0.8117, AUC: 0.9030\n",
      "Epoch 79/200, Loss: 0.3603, Validation Accuracy: 0.8200, AUC: 0.9033\n",
      "Epoch 80/200, Loss: 0.3583, Validation Accuracy: 0.8250, AUC: 0.9031\n",
      "Epoch 81/200, Loss: 0.3590, Validation Accuracy: 0.8267, AUC: 0.9036\n",
      "Epoch 82/200, Loss: 0.3584, Validation Accuracy: 0.8233, AUC: 0.9043\n",
      "Epoch 83/200, Loss: 0.3579, Validation Accuracy: 0.8200, AUC: 0.9048\n",
      "Epoch 84/200, Loss: 0.3583, Validation Accuracy: 0.8250, AUC: 0.9049\n",
      "Epoch 85/200, Loss: 0.3571, Validation Accuracy: 0.8233, AUC: 0.9048\n",
      "Epoch 86/200, Loss: 0.3580, Validation Accuracy: 0.8267, AUC: 0.9054\n",
      "Epoch 87/200, Loss: 0.3568, Validation Accuracy: 0.8217, AUC: 0.9059\n",
      "Epoch 88/200, Loss: 0.3574, Validation Accuracy: 0.8250, AUC: 0.9060\n",
      "Epoch 89/200, Loss: 0.3567, Validation Accuracy: 0.8300, AUC: 0.9060\n",
      "Epoch 90/200, Loss: 0.3568, Validation Accuracy: 0.8283, AUC: 0.9063\n",
      "Epoch 91/200, Loss: 0.3567, Validation Accuracy: 0.8250, AUC: 0.9067\n",
      "Epoch 92/200, Loss: 0.3564, Validation Accuracy: 0.8250, AUC: 0.9070\n",
      "Epoch 93/200, Loss: 0.3566, Validation Accuracy: 0.8283, AUC: 0.9071\n",
      "Epoch 94/200, Loss: 0.3561, Validation Accuracy: 0.8283, AUC: 0.9071\n",
      "Epoch 95/200, Loss: 0.3564, Validation Accuracy: 0.8300, AUC: 0.9075\n",
      "Epoch 96/200, Loss: 0.3559, Validation Accuracy: 0.8250, AUC: 0.9080\n",
      "Epoch 97/200, Loss: 0.3562, Validation Accuracy: 0.8300, AUC: 0.9081\n",
      "Epoch 98/200, Loss: 0.3558, Validation Accuracy: 0.8267, AUC: 0.9080\n",
      "Epoch 99/200, Loss: 0.3560, Validation Accuracy: 0.8283, AUC: 0.9083\n",
      "Epoch 100/200, Loss: 0.3557, Validation Accuracy: 0.8267, AUC: 0.9084\n",
      "Epoch 101/200, Loss: 0.3558, Validation Accuracy: 0.8267, AUC: 0.9084\n",
      "Epoch 102/200, Loss: 0.3556, Validation Accuracy: 0.8267, AUC: 0.9085\n",
      "Epoch 103/200, Loss: 0.3556, Validation Accuracy: 0.8283, AUC: 0.9085\n",
      "Epoch 104/200, Loss: 0.3555, Validation Accuracy: 0.8283, AUC: 0.9086\n",
      "Epoch 105/200, Loss: 0.3554, Validation Accuracy: 0.8267, AUC: 0.9086\n",
      "Epoch 106/200, Loss: 0.3554, Validation Accuracy: 0.8300, AUC: 0.9085\n",
      "Epoch 107/200, Loss: 0.3553, Validation Accuracy: 0.8300, AUC: 0.9085\n",
      "Epoch 108/200, Loss: 0.3553, Validation Accuracy: 0.8250, AUC: 0.9087\n",
      "Epoch 109/200, Loss: 0.3552, Validation Accuracy: 0.8267, AUC: 0.9088\n",
      "Epoch 110/200, Loss: 0.3552, Validation Accuracy: 0.8283, AUC: 0.9085\n",
      "Epoch 111/200, Loss: 0.3551, Validation Accuracy: 0.8283, AUC: 0.9085\n",
      "Epoch 112/200, Loss: 0.3552, Validation Accuracy: 0.8267, AUC: 0.9086\n",
      "Epoch 113/200, Loss: 0.3551, Validation Accuracy: 0.8250, AUC: 0.9086\n",
      "Epoch 114/200, Loss: 0.3551, Validation Accuracy: 0.8267, AUC: 0.9085\n",
      "Epoch 115/200, Loss: 0.3550, Validation Accuracy: 0.8283, AUC: 0.9085\n",
      "Epoch 116/200, Loss: 0.3550, Validation Accuracy: 0.8267, AUC: 0.9085\n",
      "Epoch 117/200, Loss: 0.3549, Validation Accuracy: 0.8267, AUC: 0.9086\n",
      "Epoch 118/200, Loss: 0.3549, Validation Accuracy: 0.8267, AUC: 0.9085\n",
      "Epoch 119/200, Loss: 0.3548, Validation Accuracy: 0.8283, AUC: 0.9085\n",
      "Epoch 120/200, Loss: 0.3549, Validation Accuracy: 0.8267, AUC: 0.9085\n",
      "Epoch 121/200, Loss: 0.3548, Validation Accuracy: 0.8267, AUC: 0.9086\n",
      "Epoch 122/200, Loss: 0.3548, Validation Accuracy: 0.8267, AUC: 0.9085\n",
      "Epoch 123/200, Loss: 0.3547, Validation Accuracy: 0.8267, AUC: 0.9085\n",
      "Epoch 124/200, Loss: 0.3547, Validation Accuracy: 0.8283, AUC: 0.9085\n",
      "Epoch 125/200, Loss: 0.3547, Validation Accuracy: 0.8267, AUC: 0.9085\n",
      "Epoch 126/200, Loss: 0.3547, Validation Accuracy: 0.8283, AUC: 0.9084\n",
      "Epoch 127/200, Loss: 0.3546, Validation Accuracy: 0.8267, AUC: 0.9084\n",
      "Epoch 128/200, Loss: 0.3546, Validation Accuracy: 0.8283, AUC: 0.9084\n",
      "Epoch 129/200, Loss: 0.3546, Validation Accuracy: 0.8267, AUC: 0.9085\n",
      "Epoch 130/200, Loss: 0.3545, Validation Accuracy: 0.8267, AUC: 0.9085\n",
      "Epoch 131/200, Loss: 0.3545, Validation Accuracy: 0.8267, AUC: 0.9085\n",
      "Epoch 132/200, Loss: 0.3545, Validation Accuracy: 0.8283, AUC: 0.9085\n",
      "Epoch 133/200, Loss: 0.3545, Validation Accuracy: 0.8250, AUC: 0.9085\n",
      "Epoch 134/200, Loss: 0.3544, Validation Accuracy: 0.8267, AUC: 0.9085\n",
      "Epoch 135/200, Loss: 0.3544, Validation Accuracy: 0.8250, AUC: 0.9085\n",
      "Epoch 136/200, Loss: 0.3544, Validation Accuracy: 0.8267, AUC: 0.9085\n",
      "Epoch 137/200, Loss: 0.3544, Validation Accuracy: 0.8267, AUC: 0.9086\n",
      "Epoch 138/200, Loss: 0.3543, Validation Accuracy: 0.8250, AUC: 0.9085\n",
      "Epoch 139/200, Loss: 0.3543, Validation Accuracy: 0.8250, AUC: 0.9086\n",
      "Epoch 140/200, Loss: 0.3543, Validation Accuracy: 0.8250, AUC: 0.9086\n",
      "Epoch 141/200, Loss: 0.3543, Validation Accuracy: 0.8250, AUC: 0.9086\n",
      "Epoch 142/200, Loss: 0.3542, Validation Accuracy: 0.8233, AUC: 0.9086\n",
      "Epoch 143/200, Loss: 0.3542, Validation Accuracy: 0.8233, AUC: 0.9086\n",
      "Epoch 144/200, Loss: 0.3542, Validation Accuracy: 0.8233, AUC: 0.9087\n",
      "Epoch 145/200, Loss: 0.3542, Validation Accuracy: 0.8233, AUC: 0.9087\n",
      "Epoch 146/200, Loss: 0.3541, Validation Accuracy: 0.8233, AUC: 0.9087\n",
      "Epoch 147/200, Loss: 0.3541, Validation Accuracy: 0.8233, AUC: 0.9087\n",
      "Epoch 148/200, Loss: 0.3541, Validation Accuracy: 0.8233, AUC: 0.9087\n",
      "Epoch 149/200, Loss: 0.3541, Validation Accuracy: 0.8233, AUC: 0.9087\n",
      "Epoch 150/200, Loss: 0.3540, Validation Accuracy: 0.8233, AUC: 0.9087\n",
      "Epoch 151/200, Loss: 0.3540, Validation Accuracy: 0.8233, AUC: 0.9087\n",
      "Epoch 152/200, Loss: 0.3540, Validation Accuracy: 0.8233, AUC: 0.9087\n",
      "Epoch 153/200, Loss: 0.3540, Validation Accuracy: 0.8233, AUC: 0.9087\n",
      "Epoch 154/200, Loss: 0.3540, Validation Accuracy: 0.8233, AUC: 0.9088\n",
      "Epoch 155/200, Loss: 0.3539, Validation Accuracy: 0.8233, AUC: 0.9088\n",
      "Epoch 156/200, Loss: 0.3539, Validation Accuracy: 0.8233, AUC: 0.9088\n",
      "Epoch 157/200, Loss: 0.3539, Validation Accuracy: 0.8233, AUC: 0.9088\n",
      "Epoch 158/200, Loss: 0.3539, Validation Accuracy: 0.8233, AUC: 0.9088\n",
      "Epoch 159/200, Loss: 0.3538, Validation Accuracy: 0.8233, AUC: 0.9089\n",
      "Epoch 160/200, Loss: 0.3538, Validation Accuracy: 0.8233, AUC: 0.9089\n",
      "Epoch 161/200, Loss: 0.3538, Validation Accuracy: 0.8233, AUC: 0.9089\n",
      "Epoch 162/200, Loss: 0.3538, Validation Accuracy: 0.8233, AUC: 0.9089\n",
      "Epoch 163/200, Loss: 0.3538, Validation Accuracy: 0.8233, AUC: 0.9089\n",
      "Epoch 164/200, Loss: 0.3537, Validation Accuracy: 0.8233, AUC: 0.9089\n",
      "Epoch 165/200, Loss: 0.3537, Validation Accuracy: 0.8233, AUC: 0.9089\n",
      "Epoch 166/200, Loss: 0.3537, Validation Accuracy: 0.8233, AUC: 0.9089\n",
      "Epoch 167/200, Loss: 0.3537, Validation Accuracy: 0.8233, AUC: 0.9089\n",
      "Epoch 168/200, Loss: 0.3537, Validation Accuracy: 0.8233, AUC: 0.9089\n",
      "Epoch 169/200, Loss: 0.3536, Validation Accuracy: 0.8233, AUC: 0.9090\n",
      "Epoch 170/200, Loss: 0.3536, Validation Accuracy: 0.8233, AUC: 0.9089\n",
      "Epoch 171/200, Loss: 0.3536, Validation Accuracy: 0.8233, AUC: 0.9090\n",
      "Epoch 172/200, Loss: 0.3536, Validation Accuracy: 0.8233, AUC: 0.9090\n",
      "Epoch 173/200, Loss: 0.3536, Validation Accuracy: 0.8233, AUC: 0.9090\n",
      "Epoch 174/200, Loss: 0.3535, Validation Accuracy: 0.8233, AUC: 0.9090\n",
      "Epoch 175/200, Loss: 0.3535, Validation Accuracy: 0.8233, AUC: 0.9091\n",
      "Epoch 176/200, Loss: 0.3535, Validation Accuracy: 0.8233, AUC: 0.9091\n",
      "Epoch 177/200, Loss: 0.3535, Validation Accuracy: 0.8217, AUC: 0.9091\n",
      "Epoch 178/200, Loss: 0.3535, Validation Accuracy: 0.8217, AUC: 0.9091\n",
      "Epoch 179/200, Loss: 0.3534, Validation Accuracy: 0.8217, AUC: 0.9091\n",
      "Epoch 180/200, Loss: 0.3534, Validation Accuracy: 0.8217, AUC: 0.9092\n",
      "Epoch 181/200, Loss: 0.3534, Validation Accuracy: 0.8217, AUC: 0.9092\n",
      "Epoch 182/200, Loss: 0.3534, Validation Accuracy: 0.8233, AUC: 0.9091\n",
      "Epoch 183/200, Loss: 0.3534, Validation Accuracy: 0.8233, AUC: 0.9092\n",
      "Epoch 184/200, Loss: 0.3533, Validation Accuracy: 0.8233, AUC: 0.9092\n",
      "Epoch 185/200, Loss: 0.3533, Validation Accuracy: 0.8233, AUC: 0.9092\n",
      "Epoch 186/200, Loss: 0.3533, Validation Accuracy: 0.8233, AUC: 0.9091\n",
      "Epoch 187/200, Loss: 0.3533, Validation Accuracy: 0.8233, AUC: 0.9092\n",
      "Epoch 188/200, Loss: 0.3533, Validation Accuracy: 0.8233, AUC: 0.9092\n",
      "Epoch 189/200, Loss: 0.3533, Validation Accuracy: 0.8233, AUC: 0.9092\n",
      "Epoch 190/200, Loss: 0.3532, Validation Accuracy: 0.8233, AUC: 0.9092\n",
      "Epoch 191/200, Loss: 0.3532, Validation Accuracy: 0.8233, AUC: 0.9093\n",
      "Epoch 192/200, Loss: 0.3532, Validation Accuracy: 0.8233, AUC: 0.9093\n",
      "Epoch 193/200, Loss: 0.3532, Validation Accuracy: 0.8233, AUC: 0.9093\n",
      "Epoch 194/200, Loss: 0.3532, Validation Accuracy: 0.8233, AUC: 0.9093\n",
      "Epoch 195/200, Loss: 0.3532, Validation Accuracy: 0.8233, AUC: 0.9093\n",
      "Epoch 196/200, Loss: 0.3531, Validation Accuracy: 0.8250, AUC: 0.9093\n",
      "Epoch 197/200, Loss: 0.3531, Validation Accuracy: 0.8250, AUC: 0.9093\n",
      "Epoch 198/200, Loss: 0.3531, Validation Accuracy: 0.8250, AUC: 0.9093\n",
      "Epoch 199/200, Loss: 0.3531, Validation Accuracy: 0.8250, AUC: 0.9093\n",
      "Epoch 200/200, Loss: 0.3531, Validation Accuracy: 0.8250, AUC: 0.9092\n"
     ]
    },
    {
     "data": {
      "text/html": [
       "<style>\n",
       "    table.wandb td:nth-child(1) { padding: 0 10px; text-align: left ; width: auto;} td:nth-child(2) {text-align: left ; width: 100%}\n",
       "    .wandb-row { display: flex; flex-direction: row; flex-wrap: wrap; justify-content: flex-start; width: 100% }\n",
       "    .wandb-col { display: flex; flex-direction: column; flex-basis: 100%; flex: 1; padding: 10px; }\n",
       "    </style>\n",
       "<div class=\"wandb-row\"><div class=\"wandb-col\"><h3>Run history:</h3><br/><table class=\"wandb\"><tr><td>Final Best Epoch</td><td>▁</td></tr><tr><td>Final Best Val Accuracy</td><td>▁</td></tr><tr><td>best_epoch</td><td>▁▁▂▃▄▄▅▅▅▅▇█████████████████████████████</td></tr><tr><td>best_val_accuracy</td><td>▁▂▅▇▇▇██████████████████████████████████</td></tr><tr><td>roc_auc</td><td>▁██▇████████████████████████████████████</td></tr><tr><td>train_loss</td><td>█▃▂▂▁▁▁▁▁▁▁▁▁▁▁▁▁▁▁▁▁▁▁▁▁▁▁▁▁▁▁▁▁▁▁▁▁▁▁▁</td></tr><tr><td>val_accuracy</td><td>▁▂▃▇▅▆▇▇████████████████████████████████</td></tr></table><br/></div><div class=\"wandb-col\"><h3>Run summary:</h3><br/><table class=\"wandb\"><tr><td>Final Best Epoch</td><td>54</td></tr><tr><td>Final Best Val Accuracy</td><td>0.83333</td></tr><tr><td>best_epoch</td><td>54</td></tr><tr><td>best_val_accuracy</td><td>0.83333</td></tr><tr><td>roc_auc</td><td>0.90924</td></tr><tr><td>train_loss</td><td>0.35307</td></tr><tr><td>val_accuracy</td><td>0.825</td></tr></table><br/></div></div>"
      ],
      "text/plain": [
       "<IPython.core.display.HTML object>"
      ]
     },
     "metadata": {},
     "output_type": "display_data"
    },
    {
     "data": {
      "text/html": [
       " View run <strong style=\"color:#cdcd00\">atomic-sweep-2</strong> at: <a href='https://wandb.ai/zamtol/uncategorized/runs/oc768fgt' target=\"_blank\">https://wandb.ai/zamtol/uncategorized/runs/oc768fgt</a><br/> View project at: <a href='https://wandb.ai/zamtol/uncategorized' target=\"_blank\">https://wandb.ai/zamtol/uncategorized</a><br/>Synced 5 W&B file(s), 200 media file(s), 0 artifact file(s) and 0 other file(s)"
      ],
      "text/plain": [
       "<IPython.core.display.HTML object>"
      ]
     },
     "metadata": {},
     "output_type": "display_data"
    },
    {
     "data": {
      "text/html": [
       "Find logs at: <code>.\\wandb\\run-20240803_150857-oc768fgt\\logs</code>"
      ],
      "text/plain": [
       "<IPython.core.display.HTML object>"
      ]
     },
     "metadata": {},
     "output_type": "display_data"
    },
    {
     "data": {
      "text/html": [
       "The new W&B backend becomes opt-out in version 0.18.0; try it out with `wandb.require(\"core\")`! See https://wandb.me/wandb-core for more information."
      ],
      "text/plain": [
       "<IPython.core.display.HTML object>"
      ]
     },
     "metadata": {},
     "output_type": "display_data"
    },
    {
     "name": "stderr",
     "output_type": "stream",
     "text": [
      "\u001b[34m\u001b[1mwandb\u001b[0m: Agent Starting Run: 9xinokq1 with config:\n",
      "\u001b[34m\u001b[1mwandb\u001b[0m: \tarchitecture: LogisticRegression\n",
      "\u001b[34m\u001b[1mwandb\u001b[0m: \tepochs: 200\n",
      "\u001b[34m\u001b[1mwandb\u001b[0m: \tlearning_rate: 0.1\n",
      "\u001b[34m\u001b[1mwandb\u001b[0m: \tseed: 42\n",
      "\u001b[34m\u001b[1mwandb\u001b[0m: \tweight_decay: 0.0005\n",
      "Failed to detect the name of this notebook, you can set it manually with the WANDB_NOTEBOOK_NAME environment variable to enable code saving.\n"
     ]
    },
    {
     "data": {
      "text/html": [
       "Tracking run with wandb version 0.17.5"
      ],
      "text/plain": [
       "<IPython.core.display.HTML object>"
      ]
     },
     "metadata": {},
     "output_type": "display_data"
    },
    {
     "data": {
      "text/html": [
       "Run data is saved locally in <code>c:\\Users\\ADMIN\\git\\hack\\wandb\\run-20240803_150928-9xinokq1</code>"
      ],
      "text/plain": [
       "<IPython.core.display.HTML object>"
      ]
     },
     "metadata": {},
     "output_type": "display_data"
    },
    {
     "data": {
      "text/html": [
       "Syncing run <strong><a href='https://wandb.ai/zamtol/uncategorized/runs/9xinokq1' target=\"_blank\">bright-sweep-3</a></strong> to <a href='https://wandb.ai/zamtol/uncategorized' target=\"_blank\">Weights & Biases</a> (<a href='https://wandb.me/run' target=\"_blank\">docs</a>)<br/>Sweep page: <a href='https://wandb.ai/zamtol/uncategorized/sweeps/y1r7j6mo' target=\"_blank\">https://wandb.ai/zamtol/uncategorized/sweeps/y1r7j6mo</a>"
      ],
      "text/plain": [
       "<IPython.core.display.HTML object>"
      ]
     },
     "metadata": {},
     "output_type": "display_data"
    },
    {
     "data": {
      "text/html": [
       " View project at <a href='https://wandb.ai/zamtol/uncategorized' target=\"_blank\">https://wandb.ai/zamtol/uncategorized</a>"
      ],
      "text/plain": [
       "<IPython.core.display.HTML object>"
      ]
     },
     "metadata": {},
     "output_type": "display_data"
    },
    {
     "data": {
      "text/html": [
       " View sweep at <a href='https://wandb.ai/zamtol/uncategorized/sweeps/y1r7j6mo' target=\"_blank\">https://wandb.ai/zamtol/uncategorized/sweeps/y1r7j6mo</a>"
      ],
      "text/plain": [
       "<IPython.core.display.HTML object>"
      ]
     },
     "metadata": {},
     "output_type": "display_data"
    },
    {
     "data": {
      "text/html": [
       " View run at <a href='https://wandb.ai/zamtol/uncategorized/runs/9xinokq1' target=\"_blank\">https://wandb.ai/zamtol/uncategorized/runs/9xinokq1</a>"
      ],
      "text/plain": [
       "<IPython.core.display.HTML object>"
      ]
     },
     "metadata": {},
     "output_type": "display_data"
    },
    {
     "name": "stdout",
     "output_type": "stream",
     "text": [
      "Epoch 1/200, Loss: 1.4359, Validation Accuracy: 0.4700, AUC: 0.5510\n",
      "Epoch 2/200, Loss: 1.1385, Validation Accuracy: 0.4683, AUC: 0.6816\n",
      "Epoch 3/200, Loss: 0.8347, Validation Accuracy: 0.5567, AUC: 0.7968\n",
      "Epoch 4/200, Loss: 0.6644, Validation Accuracy: 0.5317, AUC: 0.8179\n",
      "Epoch 5/200, Loss: 0.8728, Validation Accuracy: 0.5400, AUC: 0.8314\n",
      "Epoch 6/200, Loss: 0.7597, Validation Accuracy: 0.6883, AUC: 0.8360\n",
      "Epoch 7/200, Loss: 0.5623, Validation Accuracy: 0.5983, AUC: 0.8174\n",
      "Epoch 8/200, Loss: 0.6537, Validation Accuracy: 0.5300, AUC: 0.8151\n",
      "Epoch 9/200, Loss: 0.7109, Validation Accuracy: 0.7450, AUC: 0.8404\n",
      "Epoch 10/200, Loss: 0.5668, Validation Accuracy: 0.7067, AUC: 0.8591\n",
      "Epoch 11/200, Loss: 0.5270, Validation Accuracy: 0.6150, AUC: 0.8666\n",
      "Epoch 12/200, Loss: 0.6012, Validation Accuracy: 0.6150, AUC: 0.8690\n",
      "Epoch 13/200, Loss: 0.6032, Validation Accuracy: 0.6900, AUC: 0.8675\n",
      "Epoch 14/200, Loss: 0.5255, Validation Accuracy: 0.7800, AUC: 0.8617\n",
      "Epoch 15/200, Loss: 0.4878, Validation Accuracy: 0.7467, AUC: 0.8537\n",
      "Epoch 16/200, Loss: 0.5331, Validation Accuracy: 0.7300, AUC: 0.8536\n",
      "Epoch 17/200, Loss: 0.5430, Validation Accuracy: 0.7900, AUC: 0.8616\n",
      "Epoch 18/200, Loss: 0.4896, Validation Accuracy: 0.7717, AUC: 0.8701\n",
      "Epoch 19/200, Loss: 0.4674, Validation Accuracy: 0.7317, AUC: 0.8759\n",
      "Epoch 20/200, Loss: 0.4930, Validation Accuracy: 0.7200, AUC: 0.8780\n",
      "Epoch 21/200, Loss: 0.5025, Validation Accuracy: 0.7550, AUC: 0.8776\n",
      "Epoch 22/200, Loss: 0.4749, Validation Accuracy: 0.7767, AUC: 0.8748\n",
      "Epoch 23/200, Loss: 0.4505, Validation Accuracy: 0.7917, AUC: 0.8715\n",
      "Epoch 24/200, Loss: 0.4603, Validation Accuracy: 0.7917, AUC: 0.8711\n",
      "Epoch 25/200, Loss: 0.4731, Validation Accuracy: 0.7983, AUC: 0.8741\n",
      "Epoch 26/200, Loss: 0.4576, Validation Accuracy: 0.7933, AUC: 0.8790\n",
      "Epoch 27/200, Loss: 0.4385, Validation Accuracy: 0.7833, AUC: 0.8834\n",
      "Epoch 28/200, Loss: 0.4416, Validation Accuracy: 0.7733, AUC: 0.8858\n",
      "Epoch 29/200, Loss: 0.4506, Validation Accuracy: 0.7800, AUC: 0.8867\n",
      "Epoch 30/200, Loss: 0.4441, Validation Accuracy: 0.7900, AUC: 0.8861\n",
      "Epoch 31/200, Loss: 0.4298, Validation Accuracy: 0.8033, AUC: 0.8848\n",
      "Epoch 32/200, Loss: 0.4271, Validation Accuracy: 0.8083, AUC: 0.8846\n",
      "Epoch 33/200, Loss: 0.4337, Validation Accuracy: 0.8100, AUC: 0.8854\n",
      "Epoch 34/200, Loss: 0.4315, Validation Accuracy: 0.8100, AUC: 0.8876\n",
      "Epoch 35/200, Loss: 0.4214, Validation Accuracy: 0.8033, AUC: 0.8902\n",
      "Epoch 36/200, Loss: 0.4180, Validation Accuracy: 0.7900, AUC: 0.8922\n",
      "Epoch 37/200, Loss: 0.4217, Validation Accuracy: 0.7917, AUC: 0.8928\n",
      "Epoch 38/200, Loss: 0.4212, Validation Accuracy: 0.8017, AUC: 0.8928\n",
      "Epoch 39/200, Loss: 0.4146, Validation Accuracy: 0.8150, AUC: 0.8920\n",
      "Epoch 40/200, Loss: 0.4108, Validation Accuracy: 0.8133, AUC: 0.8912\n",
      "Epoch 41/200, Loss: 0.4127, Validation Accuracy: 0.8150, AUC: 0.8916\n",
      "Epoch 42/200, Loss: 0.4129, Validation Accuracy: 0.8133, AUC: 0.8927\n",
      "Epoch 43/200, Loss: 0.4083, Validation Accuracy: 0.8217, AUC: 0.8940\n",
      "Epoch 44/200, Loss: 0.4052, Validation Accuracy: 0.8100, AUC: 0.8953\n",
      "Epoch 45/200, Loss: 0.4061, Validation Accuracy: 0.8067, AUC: 0.8959\n",
      "Epoch 46/200, Loss: 0.4061, Validation Accuracy: 0.8133, AUC: 0.8957\n",
      "Epoch 47/200, Loss: 0.4029, Validation Accuracy: 0.8200, AUC: 0.8952\n",
      "Epoch 48/200, Loss: 0.4004, Validation Accuracy: 0.8133, AUC: 0.8950\n",
      "Epoch 49/200, Loss: 0.4006, Validation Accuracy: 0.8133, AUC: 0.8952\n",
      "Epoch 50/200, Loss: 0.4005, Validation Accuracy: 0.8150, AUC: 0.8959\n",
      "Epoch 51/200, Loss: 0.3980, Validation Accuracy: 0.8183, AUC: 0.8969\n",
      "Epoch 52/200, Loss: 0.3961, Validation Accuracy: 0.8133, AUC: 0.8976\n",
      "Epoch 53/200, Loss: 0.3961, Validation Accuracy: 0.8117, AUC: 0.8980\n",
      "Epoch 54/200, Loss: 0.3956, Validation Accuracy: 0.8150, AUC: 0.8981\n",
      "Epoch 55/200, Loss: 0.3937, Validation Accuracy: 0.8167, AUC: 0.8978\n",
      "Epoch 56/200, Loss: 0.3922, Validation Accuracy: 0.8167, AUC: 0.8978\n",
      "Epoch 57/200, Loss: 0.3920, Validation Accuracy: 0.8150, AUC: 0.8980\n",
      "Epoch 58/200, Loss: 0.3914, Validation Accuracy: 0.8133, AUC: 0.8985\n",
      "Epoch 59/200, Loss: 0.3898, Validation Accuracy: 0.8150, AUC: 0.8990\n",
      "Epoch 60/200, Loss: 0.3887, Validation Accuracy: 0.8150, AUC: 0.8994\n",
      "Epoch 61/200, Loss: 0.3884, Validation Accuracy: 0.8183, AUC: 0.8996\n",
      "Epoch 62/200, Loss: 0.3877, Validation Accuracy: 0.8100, AUC: 0.8995\n",
      "Epoch 63/200, Loss: 0.3864, Validation Accuracy: 0.8117, AUC: 0.8994\n",
      "Epoch 64/200, Loss: 0.3855, Validation Accuracy: 0.8167, AUC: 0.8993\n",
      "Epoch 65/200, Loss: 0.3852, Validation Accuracy: 0.8167, AUC: 0.8998\n",
      "Epoch 66/200, Loss: 0.3844, Validation Accuracy: 0.8117, AUC: 0.9002\n",
      "Epoch 67/200, Loss: 0.3834, Validation Accuracy: 0.8150, AUC: 0.9005\n",
      "Epoch 68/200, Loss: 0.3828, Validation Accuracy: 0.8150, AUC: 0.9006\n",
      "Epoch 69/200, Loss: 0.3823, Validation Accuracy: 0.8150, AUC: 0.9008\n",
      "Epoch 70/200, Loss: 0.3816, Validation Accuracy: 0.8150, AUC: 0.9005\n",
      "Epoch 71/200, Loss: 0.3807, Validation Accuracy: 0.8217, AUC: 0.9006\n",
      "Epoch 72/200, Loss: 0.3802, Validation Accuracy: 0.8200, AUC: 0.9008\n",
      "Epoch 73/200, Loss: 0.3798, Validation Accuracy: 0.8200, AUC: 0.9009\n",
      "Epoch 74/200, Loss: 0.3791, Validation Accuracy: 0.8167, AUC: 0.9011\n",
      "Epoch 75/200, Loss: 0.3784, Validation Accuracy: 0.8183, AUC: 0.9013\n",
      "Epoch 76/200, Loss: 0.3780, Validation Accuracy: 0.8200, AUC: 0.9015\n",
      "Epoch 77/200, Loss: 0.3775, Validation Accuracy: 0.8150, AUC: 0.9015\n",
      "Epoch 78/200, Loss: 0.3769, Validation Accuracy: 0.8183, AUC: 0.9015\n",
      "Epoch 79/200, Loss: 0.3764, Validation Accuracy: 0.8217, AUC: 0.9014\n",
      "Epoch 80/200, Loss: 0.3760, Validation Accuracy: 0.8200, AUC: 0.9016\n",
      "Epoch 81/200, Loss: 0.3755, Validation Accuracy: 0.8183, AUC: 0.9020\n",
      "Epoch 82/200, Loss: 0.3749, Validation Accuracy: 0.8200, AUC: 0.9021\n",
      "Epoch 83/200, Loss: 0.3745, Validation Accuracy: 0.8183, AUC: 0.9022\n",
      "Epoch 84/200, Loss: 0.3741, Validation Accuracy: 0.8200, AUC: 0.9023\n",
      "Epoch 85/200, Loss: 0.3737, Validation Accuracy: 0.8200, AUC: 0.9022\n",
      "Epoch 86/200, Loss: 0.3732, Validation Accuracy: 0.8217, AUC: 0.9022\n",
      "Epoch 87/200, Loss: 0.3729, Validation Accuracy: 0.8217, AUC: 0.9023\n",
      "Epoch 88/200, Loss: 0.3725, Validation Accuracy: 0.8250, AUC: 0.9026\n",
      "Epoch 89/200, Loss: 0.3720, Validation Accuracy: 0.8233, AUC: 0.9028\n",
      "Epoch 90/200, Loss: 0.3717, Validation Accuracy: 0.8233, AUC: 0.9030\n",
      "Epoch 91/200, Loss: 0.3713, Validation Accuracy: 0.8250, AUC: 0.9031\n",
      "Epoch 92/200, Loss: 0.3710, Validation Accuracy: 0.8233, AUC: 0.9032\n",
      "Epoch 93/200, Loss: 0.3706, Validation Accuracy: 0.8217, AUC: 0.9033\n",
      "Epoch 94/200, Loss: 0.3703, Validation Accuracy: 0.8217, AUC: 0.9034\n",
      "Epoch 95/200, Loss: 0.3700, Validation Accuracy: 0.8233, AUC: 0.9036\n",
      "Epoch 96/200, Loss: 0.3696, Validation Accuracy: 0.8267, AUC: 0.9039\n",
      "Epoch 97/200, Loss: 0.3693, Validation Accuracy: 0.8250, AUC: 0.9039\n",
      "Epoch 98/200, Loss: 0.3690, Validation Accuracy: 0.8233, AUC: 0.9038\n",
      "Epoch 99/200, Loss: 0.3687, Validation Accuracy: 0.8250, AUC: 0.9038\n",
      "Epoch 100/200, Loss: 0.3684, Validation Accuracy: 0.8250, AUC: 0.9038\n",
      "Epoch 101/200, Loss: 0.3681, Validation Accuracy: 0.8250, AUC: 0.9038\n",
      "Epoch 102/200, Loss: 0.3679, Validation Accuracy: 0.8250, AUC: 0.9039\n",
      "Epoch 103/200, Loss: 0.3676, Validation Accuracy: 0.8250, AUC: 0.9039\n",
      "Epoch 104/200, Loss: 0.3673, Validation Accuracy: 0.8250, AUC: 0.9040\n",
      "Epoch 105/200, Loss: 0.3671, Validation Accuracy: 0.8233, AUC: 0.9041\n",
      "Epoch 106/200, Loss: 0.3668, Validation Accuracy: 0.8250, AUC: 0.9042\n",
      "Epoch 107/200, Loss: 0.3666, Validation Accuracy: 0.8267, AUC: 0.9042\n",
      "Epoch 108/200, Loss: 0.3663, Validation Accuracy: 0.8250, AUC: 0.9043\n",
      "Epoch 109/200, Loss: 0.3661, Validation Accuracy: 0.8233, AUC: 0.9045\n",
      "Epoch 110/200, Loss: 0.3659, Validation Accuracy: 0.8217, AUC: 0.9046\n",
      "Epoch 111/200, Loss: 0.3656, Validation Accuracy: 0.8217, AUC: 0.9046\n",
      "Epoch 112/200, Loss: 0.3654, Validation Accuracy: 0.8217, AUC: 0.9047\n",
      "Epoch 113/200, Loss: 0.3652, Validation Accuracy: 0.8217, AUC: 0.9047\n",
      "Epoch 114/200, Loss: 0.3650, Validation Accuracy: 0.8217, AUC: 0.9048\n",
      "Epoch 115/200, Loss: 0.3648, Validation Accuracy: 0.8217, AUC: 0.9048\n",
      "Epoch 116/200, Loss: 0.3646, Validation Accuracy: 0.8217, AUC: 0.9048\n",
      "Epoch 117/200, Loss: 0.3644, Validation Accuracy: 0.8217, AUC: 0.9050\n",
      "Epoch 118/200, Loss: 0.3642, Validation Accuracy: 0.8217, AUC: 0.9051\n",
      "Epoch 119/200, Loss: 0.3640, Validation Accuracy: 0.8200, AUC: 0.9052\n",
      "Epoch 120/200, Loss: 0.3638, Validation Accuracy: 0.8200, AUC: 0.9052\n",
      "Epoch 121/200, Loss: 0.3637, Validation Accuracy: 0.8217, AUC: 0.9054\n",
      "Epoch 122/200, Loss: 0.3635, Validation Accuracy: 0.8217, AUC: 0.9055\n",
      "Epoch 123/200, Loss: 0.3633, Validation Accuracy: 0.8217, AUC: 0.9056\n",
      "Epoch 124/200, Loss: 0.3632, Validation Accuracy: 0.8217, AUC: 0.9056\n",
      "Epoch 125/200, Loss: 0.3630, Validation Accuracy: 0.8233, AUC: 0.9057\n",
      "Epoch 126/200, Loss: 0.3628, Validation Accuracy: 0.8233, AUC: 0.9058\n",
      "Epoch 127/200, Loss: 0.3627, Validation Accuracy: 0.8233, AUC: 0.9059\n",
      "Epoch 128/200, Loss: 0.3625, Validation Accuracy: 0.8233, AUC: 0.9060\n",
      "Epoch 129/200, Loss: 0.3624, Validation Accuracy: 0.8233, AUC: 0.9060\n",
      "Epoch 130/200, Loss: 0.3622, Validation Accuracy: 0.8250, AUC: 0.9062\n",
      "Epoch 131/200, Loss: 0.3621, Validation Accuracy: 0.8250, AUC: 0.9063\n",
      "Epoch 132/200, Loss: 0.3620, Validation Accuracy: 0.8267, AUC: 0.9063\n",
      "Epoch 133/200, Loss: 0.3618, Validation Accuracy: 0.8267, AUC: 0.9063\n",
      "Epoch 134/200, Loss: 0.3617, Validation Accuracy: 0.8283, AUC: 0.9063\n",
      "Epoch 135/200, Loss: 0.3616, Validation Accuracy: 0.8283, AUC: 0.9063\n",
      "Epoch 136/200, Loss: 0.3614, Validation Accuracy: 0.8300, AUC: 0.9063\n",
      "Epoch 137/200, Loss: 0.3613, Validation Accuracy: 0.8317, AUC: 0.9064\n",
      "Epoch 138/200, Loss: 0.3612, Validation Accuracy: 0.8317, AUC: 0.9064\n",
      "Epoch 139/200, Loss: 0.3611, Validation Accuracy: 0.8317, AUC: 0.9063\n",
      "Epoch 140/200, Loss: 0.3610, Validation Accuracy: 0.8317, AUC: 0.9063\n",
      "Epoch 141/200, Loss: 0.3608, Validation Accuracy: 0.8317, AUC: 0.9064\n",
      "Epoch 142/200, Loss: 0.3607, Validation Accuracy: 0.8317, AUC: 0.9063\n",
      "Epoch 143/200, Loss: 0.3606, Validation Accuracy: 0.8333, AUC: 0.9063\n",
      "Epoch 144/200, Loss: 0.3605, Validation Accuracy: 0.8333, AUC: 0.9063\n",
      "Epoch 145/200, Loss: 0.3604, Validation Accuracy: 0.8333, AUC: 0.9064\n",
      "Epoch 146/200, Loss: 0.3603, Validation Accuracy: 0.8300, AUC: 0.9064\n",
      "Epoch 147/200, Loss: 0.3602, Validation Accuracy: 0.8300, AUC: 0.9064\n",
      "Epoch 148/200, Loss: 0.3601, Validation Accuracy: 0.8300, AUC: 0.9064\n",
      "Epoch 149/200, Loss: 0.3600, Validation Accuracy: 0.8300, AUC: 0.9065\n",
      "Epoch 150/200, Loss: 0.3599, Validation Accuracy: 0.8300, AUC: 0.9065\n",
      "Epoch 151/200, Loss: 0.3598, Validation Accuracy: 0.8300, AUC: 0.9065\n",
      "Epoch 152/200, Loss: 0.3597, Validation Accuracy: 0.8300, AUC: 0.9065\n",
      "Epoch 153/200, Loss: 0.3596, Validation Accuracy: 0.8300, AUC: 0.9066\n",
      "Epoch 154/200, Loss: 0.3595, Validation Accuracy: 0.8300, AUC: 0.9067\n",
      "Epoch 155/200, Loss: 0.3595, Validation Accuracy: 0.8300, AUC: 0.9067\n",
      "Epoch 156/200, Loss: 0.3594, Validation Accuracy: 0.8300, AUC: 0.9067\n",
      "Epoch 157/200, Loss: 0.3593, Validation Accuracy: 0.8300, AUC: 0.9067\n",
      "Epoch 158/200, Loss: 0.3592, Validation Accuracy: 0.8283, AUC: 0.9068\n",
      "Epoch 159/200, Loss: 0.3591, Validation Accuracy: 0.8267, AUC: 0.9068\n",
      "Epoch 160/200, Loss: 0.3591, Validation Accuracy: 0.8267, AUC: 0.9068\n",
      "Epoch 161/200, Loss: 0.3590, Validation Accuracy: 0.8267, AUC: 0.9068\n",
      "Epoch 162/200, Loss: 0.3589, Validation Accuracy: 0.8283, AUC: 0.9069\n",
      "Epoch 163/200, Loss: 0.3588, Validation Accuracy: 0.8283, AUC: 0.9070\n",
      "Epoch 164/200, Loss: 0.3588, Validation Accuracy: 0.8283, AUC: 0.9070\n",
      "Epoch 165/200, Loss: 0.3587, Validation Accuracy: 0.8283, AUC: 0.9070\n",
      "Epoch 166/200, Loss: 0.3586, Validation Accuracy: 0.8283, AUC: 0.9070\n",
      "Epoch 167/200, Loss: 0.3585, Validation Accuracy: 0.8283, AUC: 0.9070\n",
      "Epoch 168/200, Loss: 0.3585, Validation Accuracy: 0.8283, AUC: 0.9071\n",
      "Epoch 169/200, Loss: 0.3584, Validation Accuracy: 0.8283, AUC: 0.9070\n",
      "Epoch 170/200, Loss: 0.3584, Validation Accuracy: 0.8283, AUC: 0.9070\n",
      "Epoch 171/200, Loss: 0.3583, Validation Accuracy: 0.8283, AUC: 0.9071\n",
      "Epoch 172/200, Loss: 0.3582, Validation Accuracy: 0.8283, AUC: 0.9072\n",
      "Epoch 173/200, Loss: 0.3582, Validation Accuracy: 0.8283, AUC: 0.9072\n",
      "Epoch 174/200, Loss: 0.3581, Validation Accuracy: 0.8267, AUC: 0.9072\n",
      "Epoch 175/200, Loss: 0.3580, Validation Accuracy: 0.8267, AUC: 0.9072\n",
      "Epoch 176/200, Loss: 0.3580, Validation Accuracy: 0.8267, AUC: 0.9072\n",
      "Epoch 177/200, Loss: 0.3579, Validation Accuracy: 0.8267, AUC: 0.9073\n",
      "Epoch 178/200, Loss: 0.3579, Validation Accuracy: 0.8267, AUC: 0.9074\n",
      "Epoch 179/200, Loss: 0.3578, Validation Accuracy: 0.8267, AUC: 0.9074\n",
      "Epoch 180/200, Loss: 0.3578, Validation Accuracy: 0.8267, AUC: 0.9073\n",
      "Epoch 181/200, Loss: 0.3577, Validation Accuracy: 0.8267, AUC: 0.9074\n",
      "Epoch 182/200, Loss: 0.3577, Validation Accuracy: 0.8267, AUC: 0.9074\n",
      "Epoch 183/200, Loss: 0.3576, Validation Accuracy: 0.8267, AUC: 0.9074\n",
      "Epoch 184/200, Loss: 0.3576, Validation Accuracy: 0.8267, AUC: 0.9074\n",
      "Epoch 185/200, Loss: 0.3575, Validation Accuracy: 0.8250, AUC: 0.9074\n",
      "Epoch 186/200, Loss: 0.3575, Validation Accuracy: 0.8250, AUC: 0.9075\n",
      "Epoch 187/200, Loss: 0.3574, Validation Accuracy: 0.8267, AUC: 0.9075\n",
      "Epoch 188/200, Loss: 0.3574, Validation Accuracy: 0.8267, AUC: 0.9075\n",
      "Epoch 189/200, Loss: 0.3573, Validation Accuracy: 0.8283, AUC: 0.9075\n",
      "Epoch 190/200, Loss: 0.3573, Validation Accuracy: 0.8283, AUC: 0.9076\n",
      "Epoch 191/200, Loss: 0.3572, Validation Accuracy: 0.8283, AUC: 0.9076\n",
      "Epoch 192/200, Loss: 0.3572, Validation Accuracy: 0.8283, AUC: 0.9076\n",
      "Epoch 193/200, Loss: 0.3571, Validation Accuracy: 0.8283, AUC: 0.9076\n",
      "Epoch 194/200, Loss: 0.3571, Validation Accuracy: 0.8283, AUC: 0.9076\n",
      "Epoch 195/200, Loss: 0.3571, Validation Accuracy: 0.8283, AUC: 0.9075\n",
      "Epoch 196/200, Loss: 0.3570, Validation Accuracy: 0.8283, AUC: 0.9075\n",
      "Epoch 197/200, Loss: 0.3570, Validation Accuracy: 0.8283, AUC: 0.9076\n",
      "Epoch 198/200, Loss: 0.3569, Validation Accuracy: 0.8283, AUC: 0.9076\n",
      "Epoch 199/200, Loss: 0.3569, Validation Accuracy: 0.8283, AUC: 0.9076\n",
      "Epoch 200/200, Loss: 0.3568, Validation Accuracy: 0.8283, AUC: 0.9076\n"
     ]
    },
    {
     "data": {
      "text/html": [
       "<style>\n",
       "    table.wandb td:nth-child(1) { padding: 0 10px; text-align: left ; width: auto;} td:nth-child(2) {text-align: left ; width: 100%}\n",
       "    .wandb-row { display: flex; flex-direction: row; flex-wrap: wrap; justify-content: flex-start; width: 100% }\n",
       "    .wandb-col { display: flex; flex-direction: column; flex-basis: 100%; flex: 1; padding: 10px; }\n",
       "    </style>\n",
       "<div class=\"wandb-row\"><div class=\"wandb-col\"><h3>Run history:</h3><br/><table class=\"wandb\"><tr><td>Final Best Epoch</td><td>▁</td></tr><tr><td>Final Best Val Accuracy</td><td>▁</td></tr><tr><td>best_epoch</td><td>▁▁▁▂▂▂▃▃▃▃▃▃▃▃▃▃▃▅▅▆▆▆▆▆▆▆██████████████</td></tr><tr><td>best_val_accuracy</td><td>▁▅▆▇▇▇██████████████████████████████████</td></tr><tr><td>roc_auc</td><td>▁▆▇▆▇▇▇█████████████████████████████████</td></tr><tr><td>train_loss</td><td>█▅▃▃▂▂▂▂▂▁▁▁▁▁▁▁▁▁▁▁▁▁▁▁▁▁▁▁▁▁▁▁▁▁▁▁▁▁▁▁</td></tr><tr><td>val_accuracy</td><td>▁▅▄▆▇▇█▇████████████████████████████████</td></tr></table><br/></div><div class=\"wandb-col\"><h3>Run summary:</h3><br/><table class=\"wandb\"><tr><td>Final Best Epoch</td><td>143</td></tr><tr><td>Final Best Val Accuracy</td><td>0.83333</td></tr><tr><td>best_epoch</td><td>143</td></tr><tr><td>best_val_accuracy</td><td>0.83333</td></tr><tr><td>roc_auc</td><td>0.90762</td></tr><tr><td>train_loss</td><td>0.35685</td></tr><tr><td>val_accuracy</td><td>0.82833</td></tr></table><br/></div></div>"
      ],
      "text/plain": [
       "<IPython.core.display.HTML object>"
      ]
     },
     "metadata": {},
     "output_type": "display_data"
    },
    {
     "data": {
      "text/html": [
       " View run <strong style=\"color:#cdcd00\">bright-sweep-3</strong> at: <a href='https://wandb.ai/zamtol/uncategorized/runs/9xinokq1' target=\"_blank\">https://wandb.ai/zamtol/uncategorized/runs/9xinokq1</a><br/> View project at: <a href='https://wandb.ai/zamtol/uncategorized' target=\"_blank\">https://wandb.ai/zamtol/uncategorized</a><br/>Synced 5 W&B file(s), 200 media file(s), 0 artifact file(s) and 0 other file(s)"
      ],
      "text/plain": [
       "<IPython.core.display.HTML object>"
      ]
     },
     "metadata": {},
     "output_type": "display_data"
    },
    {
     "data": {
      "text/html": [
       "Find logs at: <code>.\\wandb\\run-20240803_150928-9xinokq1\\logs</code>"
      ],
      "text/plain": [
       "<IPython.core.display.HTML object>"
      ]
     },
     "metadata": {},
     "output_type": "display_data"
    },
    {
     "data": {
      "text/html": [
       "The new W&B backend becomes opt-out in version 0.18.0; try it out with `wandb.require(\"core\")`! See https://wandb.me/wandb-core for more information."
      ],
      "text/plain": [
       "<IPython.core.display.HTML object>"
      ]
     },
     "metadata": {},
     "output_type": "display_data"
    },
    {
     "name": "stderr",
     "output_type": "stream",
     "text": [
      "\u001b[34m\u001b[1mwandb\u001b[0m: Agent Starting Run: 9jrpvgfw with config:\n",
      "\u001b[34m\u001b[1mwandb\u001b[0m: \tarchitecture: LogisticRegression\n",
      "\u001b[34m\u001b[1mwandb\u001b[0m: \tepochs: 200\n",
      "\u001b[34m\u001b[1mwandb\u001b[0m: \tlearning_rate: 0.1\n",
      "\u001b[34m\u001b[1mwandb\u001b[0m: \tseed: 42\n",
      "\u001b[34m\u001b[1mwandb\u001b[0m: \tweight_decay: 0.0001\n",
      "Failed to detect the name of this notebook, you can set it manually with the WANDB_NOTEBOOK_NAME environment variable to enable code saving.\n"
     ]
    },
    {
     "data": {
      "text/html": [
       "Tracking run with wandb version 0.17.5"
      ],
      "text/plain": [
       "<IPython.core.display.HTML object>"
      ]
     },
     "metadata": {},
     "output_type": "display_data"
    },
    {
     "data": {
      "text/html": [
       "Run data is saved locally in <code>c:\\Users\\ADMIN\\git\\hack\\wandb\\run-20240803_151000-9jrpvgfw</code>"
      ],
      "text/plain": [
       "<IPython.core.display.HTML object>"
      ]
     },
     "metadata": {},
     "output_type": "display_data"
    },
    {
     "data": {
      "text/html": [
       "Syncing run <strong><a href='https://wandb.ai/zamtol/uncategorized/runs/9jrpvgfw' target=\"_blank\">daily-sweep-4</a></strong> to <a href='https://wandb.ai/zamtol/uncategorized' target=\"_blank\">Weights & Biases</a> (<a href='https://wandb.me/run' target=\"_blank\">docs</a>)<br/>Sweep page: <a href='https://wandb.ai/zamtol/uncategorized/sweeps/y1r7j6mo' target=\"_blank\">https://wandb.ai/zamtol/uncategorized/sweeps/y1r7j6mo</a>"
      ],
      "text/plain": [
       "<IPython.core.display.HTML object>"
      ]
     },
     "metadata": {},
     "output_type": "display_data"
    },
    {
     "data": {
      "text/html": [
       " View project at <a href='https://wandb.ai/zamtol/uncategorized' target=\"_blank\">https://wandb.ai/zamtol/uncategorized</a>"
      ],
      "text/plain": [
       "<IPython.core.display.HTML object>"
      ]
     },
     "metadata": {},
     "output_type": "display_data"
    },
    {
     "data": {
      "text/html": [
       " View sweep at <a href='https://wandb.ai/zamtol/uncategorized/sweeps/y1r7j6mo' target=\"_blank\">https://wandb.ai/zamtol/uncategorized/sweeps/y1r7j6mo</a>"
      ],
      "text/plain": [
       "<IPython.core.display.HTML object>"
      ]
     },
     "metadata": {},
     "output_type": "display_data"
    },
    {
     "data": {
      "text/html": [
       " View run at <a href='https://wandb.ai/zamtol/uncategorized/runs/9jrpvgfw' target=\"_blank\">https://wandb.ai/zamtol/uncategorized/runs/9jrpvgfw</a>"
      ],
      "text/plain": [
       "<IPython.core.display.HTML object>"
      ]
     },
     "metadata": {},
     "output_type": "display_data"
    },
    {
     "name": "stdout",
     "output_type": "stream",
     "text": [
      "Epoch 1/200, Loss: 0.7510, Validation Accuracy: 0.4700, AUC: 0.2218\n",
      "Epoch 2/200, Loss: 2.7166, Validation Accuracy: 0.4650, AUC: 0.3352\n",
      "Epoch 3/200, Loss: 1.0296, Validation Accuracy: 0.5300, AUC: 0.6506\n",
      "Epoch 4/200, Loss: 1.1662, Validation Accuracy: 0.5300, AUC: 0.7084\n",
      "Epoch 5/200, Loss: 1.7164, Validation Accuracy: 0.5300, AUC: 0.7241\n",
      "Epoch 6/200, Loss: 1.6459, Validation Accuracy: 0.5300, AUC: 0.7213\n",
      "Epoch 7/200, Loss: 1.1744, Validation Accuracy: 0.5617, AUC: 0.6785\n",
      "Epoch 8/200, Loss: 0.6682, Validation Accuracy: 0.4817, AUC: 0.5615\n",
      "Epoch 9/200, Loss: 0.8689, Validation Accuracy: 0.4700, AUC: 0.5282\n",
      "Epoch 10/200, Loss: 1.2043, Validation Accuracy: 0.4750, AUC: 0.5847\n",
      "Epoch 11/200, Loss: 1.0487, Validation Accuracy: 0.5917, AUC: 0.6913\n",
      "Epoch 12/200, Loss: 0.6681, Validation Accuracy: 0.6200, AUC: 0.7736\n",
      "Epoch 13/200, Loss: 0.6040, Validation Accuracy: 0.5533, AUC: 0.8057\n",
      "Epoch 14/200, Loss: 0.7976, Validation Accuracy: 0.5450, AUC: 0.8187\n",
      "Epoch 15/200, Loss: 0.8941, Validation Accuracy: 0.5583, AUC: 0.8245\n",
      "Epoch 16/200, Loss: 0.8118, Validation Accuracy: 0.6000, AUC: 0.8238\n",
      "Epoch 17/200, Loss: 0.6275, Validation Accuracy: 0.7150, AUC: 0.8103\n",
      "Epoch 18/200, Loss: 0.5209, Validation Accuracy: 0.6700, AUC: 0.7910\n",
      "Epoch 19/200, Loss: 0.6090, Validation Accuracy: 0.5833, AUC: 0.7850\n",
      "Epoch 20/200, Loss: 0.7067, Validation Accuracy: 0.6350, AUC: 0.8012\n",
      "Epoch 21/200, Loss: 0.6481, Validation Accuracy: 0.7450, AUC: 0.8258\n",
      "Epoch 22/200, Loss: 0.5215, Validation Accuracy: 0.7267, AUC: 0.8461\n",
      "Epoch 23/200, Loss: 0.4916, Validation Accuracy: 0.6483, AUC: 0.8593\n",
      "Epoch 24/200, Loss: 0.5516, Validation Accuracy: 0.6250, AUC: 0.8650\n",
      "Epoch 25/200, Loss: 0.5915, Validation Accuracy: 0.6417, AUC: 0.8673\n",
      "Epoch 26/200, Loss: 0.5616, Validation Accuracy: 0.7217, AUC: 0.8660\n",
      "Epoch 27/200, Loss: 0.4933, Validation Accuracy: 0.7750, AUC: 0.8624\n",
      "Epoch 28/200, Loss: 0.4583, Validation Accuracy: 0.7717, AUC: 0.8582\n",
      "Epoch 29/200, Loss: 0.4867, Validation Accuracy: 0.7467, AUC: 0.8577\n",
      "Epoch 30/200, Loss: 0.5193, Validation Accuracy: 0.7633, AUC: 0.8623\n",
      "Epoch 31/200, Loss: 0.4995, Validation Accuracy: 0.7867, AUC: 0.8704\n",
      "Epoch 32/200, Loss: 0.4545, Validation Accuracy: 0.7900, AUC: 0.8775\n",
      "Epoch 33/200, Loss: 0.4404, Validation Accuracy: 0.7467, AUC: 0.8826\n",
      "Epoch 34/200, Loss: 0.4597, Validation Accuracy: 0.7283, AUC: 0.8849\n",
      "Epoch 35/200, Loss: 0.4745, Validation Accuracy: 0.7450, AUC: 0.8859\n",
      "Epoch 36/200, Loss: 0.4625, Validation Accuracy: 0.7833, AUC: 0.8855\n",
      "Epoch 37/200, Loss: 0.4368, Validation Accuracy: 0.8133, AUC: 0.8842\n",
      "Epoch 38/200, Loss: 0.4255, Validation Accuracy: 0.8017, AUC: 0.8829\n",
      "Epoch 39/200, Loss: 0.4361, Validation Accuracy: 0.7900, AUC: 0.8826\n",
      "Epoch 40/200, Loss: 0.4460, Validation Accuracy: 0.8033, AUC: 0.8844\n",
      "Epoch 41/200, Loss: 0.4371, Validation Accuracy: 0.8100, AUC: 0.8878\n",
      "Epoch 42/200, Loss: 0.4207, Validation Accuracy: 0.8167, AUC: 0.8906\n",
      "Epoch 43/200, Loss: 0.4165, Validation Accuracy: 0.8067, AUC: 0.8928\n",
      "Epoch 44/200, Loss: 0.4237, Validation Accuracy: 0.7900, AUC: 0.8938\n",
      "Epoch 45/200, Loss: 0.4277, Validation Accuracy: 0.8050, AUC: 0.8944\n",
      "Epoch 46/200, Loss: 0.4213, Validation Accuracy: 0.8150, AUC: 0.8938\n",
      "Epoch 47/200, Loss: 0.4116, Validation Accuracy: 0.8167, AUC: 0.8924\n",
      "Epoch 48/200, Loss: 0.4092, Validation Accuracy: 0.8067, AUC: 0.8916\n",
      "Epoch 49/200, Loss: 0.4137, Validation Accuracy: 0.8183, AUC: 0.8916\n",
      "Epoch 50/200, Loss: 0.4154, Validation Accuracy: 0.8100, AUC: 0.8925\n",
      "Epoch 51/200, Loss: 0.4102, Validation Accuracy: 0.8217, AUC: 0.8941\n",
      "Epoch 52/200, Loss: 0.4045, Validation Accuracy: 0.8200, AUC: 0.8958\n",
      "Epoch 53/200, Loss: 0.4042, Validation Accuracy: 0.8083, AUC: 0.8969\n",
      "Epoch 54/200, Loss: 0.4067, Validation Accuracy: 0.8067, AUC: 0.8972\n",
      "Epoch 55/200, Loss: 0.4065, Validation Accuracy: 0.8133, AUC: 0.8972\n",
      "Epoch 56/200, Loss: 0.4026, Validation Accuracy: 0.8217, AUC: 0.8965\n",
      "Epoch 57/200, Loss: 0.3994, Validation Accuracy: 0.8200, AUC: 0.8959\n",
      "Epoch 58/200, Loss: 0.3996, Validation Accuracy: 0.8150, AUC: 0.8956\n",
      "Epoch 59/200, Loss: 0.4008, Validation Accuracy: 0.8150, AUC: 0.8961\n",
      "Epoch 60/200, Loss: 0.3997, Validation Accuracy: 0.8233, AUC: 0.8967\n",
      "Epoch 61/200, Loss: 0.3968, Validation Accuracy: 0.8200, AUC: 0.8976\n",
      "Epoch 62/200, Loss: 0.3952, Validation Accuracy: 0.8167, AUC: 0.8985\n",
      "Epoch 63/200, Loss: 0.3956, Validation Accuracy: 0.8117, AUC: 0.8989\n",
      "Epoch 64/200, Loss: 0.3958, Validation Accuracy: 0.8117, AUC: 0.8991\n",
      "Epoch 65/200, Loss: 0.3944, Validation Accuracy: 0.8167, AUC: 0.8987\n",
      "Epoch 66/200, Loss: 0.3924, Validation Accuracy: 0.8200, AUC: 0.8984\n",
      "Epoch 67/200, Loss: 0.3917, Validation Accuracy: 0.8217, AUC: 0.8979\n",
      "Epoch 68/200, Loss: 0.3918, Validation Accuracy: 0.8183, AUC: 0.8980\n",
      "Epoch 69/200, Loss: 0.3914, Validation Accuracy: 0.8167, AUC: 0.8985\n",
      "Epoch 70/200, Loss: 0.3900, Validation Accuracy: 0.8200, AUC: 0.8992\n",
      "Epoch 71/200, Loss: 0.3888, Validation Accuracy: 0.8183, AUC: 0.8996\n",
      "Epoch 72/200, Loss: 0.3885, Validation Accuracy: 0.8133, AUC: 0.9001\n",
      "Epoch 73/200, Loss: 0.3884, Validation Accuracy: 0.8133, AUC: 0.9003\n",
      "Epoch 74/200, Loss: 0.3876, Validation Accuracy: 0.8183, AUC: 0.9002\n",
      "Epoch 75/200, Loss: 0.3865, Validation Accuracy: 0.8183, AUC: 0.9000\n",
      "Epoch 76/200, Loss: 0.3858, Validation Accuracy: 0.8150, AUC: 0.9000\n",
      "Epoch 77/200, Loss: 0.3856, Validation Accuracy: 0.8150, AUC: 0.9000\n",
      "Epoch 78/200, Loss: 0.3852, Validation Accuracy: 0.8167, AUC: 0.9002\n",
      "Epoch 79/200, Loss: 0.3843, Validation Accuracy: 0.8167, AUC: 0.9006\n",
      "Epoch 80/200, Loss: 0.3836, Validation Accuracy: 0.8167, AUC: 0.9009\n",
      "Epoch 81/200, Loss: 0.3832, Validation Accuracy: 0.8167, AUC: 0.9013\n",
      "Epoch 82/200, Loss: 0.3829, Validation Accuracy: 0.8167, AUC: 0.9012\n",
      "Epoch 83/200, Loss: 0.3823, Validation Accuracy: 0.8167, AUC: 0.9011\n",
      "Epoch 84/200, Loss: 0.3816, Validation Accuracy: 0.8150, AUC: 0.9010\n",
      "Epoch 85/200, Loss: 0.3811, Validation Accuracy: 0.8183, AUC: 0.9010\n",
      "Epoch 86/200, Loss: 0.3808, Validation Accuracy: 0.8183, AUC: 0.9010\n",
      "Epoch 87/200, Loss: 0.3803, Validation Accuracy: 0.8200, AUC: 0.9014\n",
      "Epoch 88/200, Loss: 0.3798, Validation Accuracy: 0.8183, AUC: 0.9015\n",
      "Epoch 89/200, Loss: 0.3792, Validation Accuracy: 0.8183, AUC: 0.9019\n",
      "Epoch 90/200, Loss: 0.3789, Validation Accuracy: 0.8167, AUC: 0.9021\n",
      "Epoch 91/200, Loss: 0.3785, Validation Accuracy: 0.8167, AUC: 0.9022\n",
      "Epoch 92/200, Loss: 0.3781, Validation Accuracy: 0.8200, AUC: 0.9022\n",
      "Epoch 93/200, Loss: 0.3776, Validation Accuracy: 0.8183, AUC: 0.9020\n",
      "Epoch 94/200, Loss: 0.3772, Validation Accuracy: 0.8217, AUC: 0.9020\n",
      "Epoch 95/200, Loss: 0.3768, Validation Accuracy: 0.8217, AUC: 0.9021\n",
      "Epoch 96/200, Loss: 0.3765, Validation Accuracy: 0.8200, AUC: 0.9021\n",
      "Epoch 97/200, Loss: 0.3760, Validation Accuracy: 0.8183, AUC: 0.9025\n",
      "Epoch 98/200, Loss: 0.3756, Validation Accuracy: 0.8183, AUC: 0.9026\n",
      "Epoch 99/200, Loss: 0.3753, Validation Accuracy: 0.8183, AUC: 0.9028\n",
      "Epoch 100/200, Loss: 0.3750, Validation Accuracy: 0.8183, AUC: 0.9028\n",
      "Epoch 101/200, Loss: 0.3746, Validation Accuracy: 0.8183, AUC: 0.9027\n",
      "Epoch 102/200, Loss: 0.3742, Validation Accuracy: 0.8217, AUC: 0.9026\n",
      "Epoch 103/200, Loss: 0.3739, Validation Accuracy: 0.8217, AUC: 0.9027\n",
      "Epoch 104/200, Loss: 0.3736, Validation Accuracy: 0.8217, AUC: 0.9028\n",
      "Epoch 105/200, Loss: 0.3733, Validation Accuracy: 0.8217, AUC: 0.9028\n",
      "Epoch 106/200, Loss: 0.3729, Validation Accuracy: 0.8233, AUC: 0.9029\n",
      "Epoch 107/200, Loss: 0.3726, Validation Accuracy: 0.8200, AUC: 0.9030\n",
      "Epoch 108/200, Loss: 0.3723, Validation Accuracy: 0.8217, AUC: 0.9031\n",
      "Epoch 109/200, Loss: 0.3720, Validation Accuracy: 0.8200, AUC: 0.9032\n",
      "Epoch 110/200, Loss: 0.3717, Validation Accuracy: 0.8217, AUC: 0.9032\n",
      "Epoch 111/200, Loss: 0.3714, Validation Accuracy: 0.8217, AUC: 0.9033\n",
      "Epoch 112/200, Loss: 0.3711, Validation Accuracy: 0.8217, AUC: 0.9034\n",
      "Epoch 113/200, Loss: 0.3709, Validation Accuracy: 0.8200, AUC: 0.9034\n",
      "Epoch 114/200, Loss: 0.3706, Validation Accuracy: 0.8200, AUC: 0.9036\n",
      "Epoch 115/200, Loss: 0.3703, Validation Accuracy: 0.8183, AUC: 0.9037\n",
      "Epoch 116/200, Loss: 0.3701, Validation Accuracy: 0.8200, AUC: 0.9037\n",
      "Epoch 117/200, Loss: 0.3698, Validation Accuracy: 0.8200, AUC: 0.9037\n",
      "Epoch 118/200, Loss: 0.3695, Validation Accuracy: 0.8200, AUC: 0.9038\n",
      "Epoch 119/200, Loss: 0.3693, Validation Accuracy: 0.8200, AUC: 0.9038\n",
      "Epoch 120/200, Loss: 0.3690, Validation Accuracy: 0.8200, AUC: 0.9040\n",
      "Epoch 121/200, Loss: 0.3688, Validation Accuracy: 0.8200, AUC: 0.9042\n",
      "Epoch 122/200, Loss: 0.3686, Validation Accuracy: 0.8200, AUC: 0.9043\n",
      "Epoch 123/200, Loss: 0.3683, Validation Accuracy: 0.8200, AUC: 0.9043\n",
      "Epoch 124/200, Loss: 0.3681, Validation Accuracy: 0.8200, AUC: 0.9044\n",
      "Epoch 125/200, Loss: 0.3679, Validation Accuracy: 0.8200, AUC: 0.9044\n",
      "Epoch 126/200, Loss: 0.3677, Validation Accuracy: 0.8200, AUC: 0.9045\n",
      "Epoch 127/200, Loss: 0.3674, Validation Accuracy: 0.8200, AUC: 0.9044\n",
      "Epoch 128/200, Loss: 0.3672, Validation Accuracy: 0.8200, AUC: 0.9044\n",
      "Epoch 129/200, Loss: 0.3670, Validation Accuracy: 0.8200, AUC: 0.9045\n",
      "Epoch 130/200, Loss: 0.3668, Validation Accuracy: 0.8200, AUC: 0.9046\n",
      "Epoch 131/200, Loss: 0.3666, Validation Accuracy: 0.8200, AUC: 0.9047\n",
      "Epoch 132/200, Loss: 0.3664, Validation Accuracy: 0.8200, AUC: 0.9048\n",
      "Epoch 133/200, Loss: 0.3662, Validation Accuracy: 0.8200, AUC: 0.9048\n",
      "Epoch 134/200, Loss: 0.3660, Validation Accuracy: 0.8200, AUC: 0.9049\n",
      "Epoch 135/200, Loss: 0.3659, Validation Accuracy: 0.8200, AUC: 0.9049\n",
      "Epoch 136/200, Loss: 0.3657, Validation Accuracy: 0.8200, AUC: 0.9049\n",
      "Epoch 137/200, Loss: 0.3655, Validation Accuracy: 0.8200, AUC: 0.9048\n",
      "Epoch 138/200, Loss: 0.3653, Validation Accuracy: 0.8217, AUC: 0.9049\n",
      "Epoch 139/200, Loss: 0.3651, Validation Accuracy: 0.8217, AUC: 0.9050\n",
      "Epoch 140/200, Loss: 0.3650, Validation Accuracy: 0.8217, AUC: 0.9049\n",
      "Epoch 141/200, Loss: 0.3648, Validation Accuracy: 0.8217, AUC: 0.9049\n",
      "Epoch 142/200, Loss: 0.3646, Validation Accuracy: 0.8217, AUC: 0.9050\n",
      "Epoch 143/200, Loss: 0.3645, Validation Accuracy: 0.8217, AUC: 0.9051\n",
      "Epoch 144/200, Loss: 0.3643, Validation Accuracy: 0.8217, AUC: 0.9052\n",
      "Epoch 145/200, Loss: 0.3642, Validation Accuracy: 0.8217, AUC: 0.9052\n",
      "Epoch 146/200, Loss: 0.3640, Validation Accuracy: 0.8200, AUC: 0.9053\n",
      "Epoch 147/200, Loss: 0.3638, Validation Accuracy: 0.8217, AUC: 0.9053\n",
      "Epoch 148/200, Loss: 0.3637, Validation Accuracy: 0.8217, AUC: 0.9054\n",
      "Epoch 149/200, Loss: 0.3636, Validation Accuracy: 0.8217, AUC: 0.9054\n",
      "Epoch 150/200, Loss: 0.3634, Validation Accuracy: 0.8200, AUC: 0.9055\n",
      "Epoch 151/200, Loss: 0.3633, Validation Accuracy: 0.8217, AUC: 0.9056\n",
      "Epoch 152/200, Loss: 0.3631, Validation Accuracy: 0.8200, AUC: 0.9056\n",
      "Epoch 153/200, Loss: 0.3630, Validation Accuracy: 0.8200, AUC: 0.9057\n",
      "Epoch 154/200, Loss: 0.3629, Validation Accuracy: 0.8200, AUC: 0.9056\n",
      "Epoch 155/200, Loss: 0.3627, Validation Accuracy: 0.8200, AUC: 0.9056\n",
      "Epoch 156/200, Loss: 0.3626, Validation Accuracy: 0.8200, AUC: 0.9057\n",
      "Epoch 157/200, Loss: 0.3625, Validation Accuracy: 0.8200, AUC: 0.9057\n",
      "Epoch 158/200, Loss: 0.3623, Validation Accuracy: 0.8200, AUC: 0.9058\n",
      "Epoch 159/200, Loss: 0.3622, Validation Accuracy: 0.8200, AUC: 0.9058\n",
      "Epoch 160/200, Loss: 0.3621, Validation Accuracy: 0.8200, AUC: 0.9059\n",
      "Epoch 161/200, Loss: 0.3620, Validation Accuracy: 0.8200, AUC: 0.9059\n",
      "Epoch 162/200, Loss: 0.3619, Validation Accuracy: 0.8217, AUC: 0.9059\n",
      "Epoch 163/200, Loss: 0.3618, Validation Accuracy: 0.8233, AUC: 0.9059\n",
      "Epoch 164/200, Loss: 0.3616, Validation Accuracy: 0.8233, AUC: 0.9060\n",
      "Epoch 165/200, Loss: 0.3615, Validation Accuracy: 0.8250, AUC: 0.9060\n",
      "Epoch 166/200, Loss: 0.3614, Validation Accuracy: 0.8250, AUC: 0.9060\n",
      "Epoch 167/200, Loss: 0.3613, Validation Accuracy: 0.8267, AUC: 0.9060\n",
      "Epoch 168/200, Loss: 0.3612, Validation Accuracy: 0.8267, AUC: 0.9061\n",
      "Epoch 169/200, Loss: 0.3611, Validation Accuracy: 0.8267, AUC: 0.9061\n",
      "Epoch 170/200, Loss: 0.3610, Validation Accuracy: 0.8267, AUC: 0.9062\n",
      "Epoch 171/200, Loss: 0.3609, Validation Accuracy: 0.8267, AUC: 0.9062\n",
      "Epoch 172/200, Loss: 0.3608, Validation Accuracy: 0.8267, AUC: 0.9063\n",
      "Epoch 173/200, Loss: 0.3607, Validation Accuracy: 0.8267, AUC: 0.9063\n",
      "Epoch 174/200, Loss: 0.3606, Validation Accuracy: 0.8267, AUC: 0.9064\n",
      "Epoch 175/200, Loss: 0.3605, Validation Accuracy: 0.8267, AUC: 0.9064\n",
      "Epoch 176/200, Loss: 0.3604, Validation Accuracy: 0.8250, AUC: 0.9065\n",
      "Epoch 177/200, Loss: 0.3603, Validation Accuracy: 0.8250, AUC: 0.9066\n",
      "Epoch 178/200, Loss: 0.3602, Validation Accuracy: 0.8250, AUC: 0.9066\n",
      "Epoch 179/200, Loss: 0.3602, Validation Accuracy: 0.8250, AUC: 0.9067\n",
      "Epoch 180/200, Loss: 0.3601, Validation Accuracy: 0.8250, AUC: 0.9067\n",
      "Epoch 181/200, Loss: 0.3600, Validation Accuracy: 0.8267, AUC: 0.9067\n",
      "Epoch 182/200, Loss: 0.3599, Validation Accuracy: 0.8267, AUC: 0.9067\n",
      "Epoch 183/200, Loss: 0.3598, Validation Accuracy: 0.8267, AUC: 0.9067\n",
      "Epoch 184/200, Loss: 0.3597, Validation Accuracy: 0.8267, AUC: 0.9067\n",
      "Epoch 185/200, Loss: 0.3597, Validation Accuracy: 0.8267, AUC: 0.9067\n",
      "Epoch 186/200, Loss: 0.3596, Validation Accuracy: 0.8250, AUC: 0.9068\n",
      "Epoch 187/200, Loss: 0.3595, Validation Accuracy: 0.8250, AUC: 0.9068\n",
      "Epoch 188/200, Loss: 0.3594, Validation Accuracy: 0.8267, AUC: 0.9068\n",
      "Epoch 189/200, Loss: 0.3594, Validation Accuracy: 0.8267, AUC: 0.9068\n",
      "Epoch 190/200, Loss: 0.3593, Validation Accuracy: 0.8267, AUC: 0.9068\n",
      "Epoch 191/200, Loss: 0.3592, Validation Accuracy: 0.8267, AUC: 0.9068\n",
      "Epoch 192/200, Loss: 0.3591, Validation Accuracy: 0.8267, AUC: 0.9069\n",
      "Epoch 193/200, Loss: 0.3591, Validation Accuracy: 0.8283, AUC: 0.9069\n",
      "Epoch 194/200, Loss: 0.3590, Validation Accuracy: 0.8283, AUC: 0.9069\n",
      "Epoch 195/200, Loss: 0.3589, Validation Accuracy: 0.8283, AUC: 0.9069\n",
      "Epoch 196/200, Loss: 0.3589, Validation Accuracy: 0.8283, AUC: 0.9069\n",
      "Epoch 197/200, Loss: 0.3588, Validation Accuracy: 0.8283, AUC: 0.9070\n",
      "Epoch 198/200, Loss: 0.3587, Validation Accuracy: 0.8283, AUC: 0.9071\n",
      "Epoch 199/200, Loss: 0.3587, Validation Accuracy: 0.8283, AUC: 0.9072\n",
      "Epoch 200/200, Loss: 0.3586, Validation Accuracy: 0.8267, AUC: 0.9071\n"
     ]
    },
    {
     "data": {
      "text/html": [
       "<style>\n",
       "    table.wandb td:nth-child(1) { padding: 0 10px; text-align: left ; width: auto;} td:nth-child(2) {text-align: left ; width: 100%}\n",
       "    .wandb-row { display: flex; flex-direction: row; flex-wrap: wrap; justify-content: flex-start; width: 100% }\n",
       "    .wandb-col { display: flex; flex-direction: column; flex-basis: 100%; flex: 1; padding: 10px; }\n",
       "    </style>\n",
       "<div class=\"wandb-row\"><div class=\"wandb-col\"><h3>Run history:</h3><br/><table class=\"wandb\"><tr><td>Final Best Epoch</td><td>▁</td></tr><tr><td>Final Best Val Accuracy</td><td>▁</td></tr><tr><td>best_epoch</td><td>▁▁▁▁▂▂▂▂▂▂▃▃▃▃▃▃▃▃▃▃▃▃▃▃▃▃▃▃▃▃▃▃▃▇▇▇▇▇██</td></tr><tr><td>best_val_accuracy</td><td>▁▂▄▄▆▆▇▇████████████████████████████████</td></tr><tr><td>roc_auc</td><td>▁▆▆▇▇▇██████████████████████████████████</td></tr><tr><td>train_loss</td><td>█▅▂▂▁▂▁▁▁▁▁▁▁▁▁▁▁▁▁▁▁▁▁▁▁▁▁▁▁▁▁▁▁▁▁▁▁▁▁▁</td></tr><tr><td>val_accuracy</td><td>▁▂▄▄▆▆▇▇████████████████████████████████</td></tr></table><br/></div><div class=\"wandb-col\"><h3>Run summary:</h3><br/><table class=\"wandb\"><tr><td>Final Best Epoch</td><td>193</td></tr><tr><td>Final Best Val Accuracy</td><td>0.82833</td></tr><tr><td>best_epoch</td><td>193</td></tr><tr><td>best_val_accuracy</td><td>0.82833</td></tr><tr><td>roc_auc</td><td>0.90711</td></tr><tr><td>train_loss</td><td>0.35861</td></tr><tr><td>val_accuracy</td><td>0.82667</td></tr></table><br/></div></div>"
      ],
      "text/plain": [
       "<IPython.core.display.HTML object>"
      ]
     },
     "metadata": {},
     "output_type": "display_data"
    },
    {
     "data": {
      "text/html": [
       " View run <strong style=\"color:#cdcd00\">daily-sweep-4</strong> at: <a href='https://wandb.ai/zamtol/uncategorized/runs/9jrpvgfw' target=\"_blank\">https://wandb.ai/zamtol/uncategorized/runs/9jrpvgfw</a><br/> View project at: <a href='https://wandb.ai/zamtol/uncategorized' target=\"_blank\">https://wandb.ai/zamtol/uncategorized</a><br/>Synced 5 W&B file(s), 200 media file(s), 0 artifact file(s) and 0 other file(s)"
      ],
      "text/plain": [
       "<IPython.core.display.HTML object>"
      ]
     },
     "metadata": {},
     "output_type": "display_data"
    },
    {
     "data": {
      "text/html": [
       "Find logs at: <code>.\\wandb\\run-20240803_151000-9jrpvgfw\\logs</code>"
      ],
      "text/plain": [
       "<IPython.core.display.HTML object>"
      ]
     },
     "metadata": {},
     "output_type": "display_data"
    },
    {
     "data": {
      "text/html": [
       "The new W&B backend becomes opt-out in version 0.18.0; try it out with `wandb.require(\"core\")`! See https://wandb.me/wandb-core for more information."
      ],
      "text/plain": [
       "<IPython.core.display.HTML object>"
      ]
     },
     "metadata": {},
     "output_type": "display_data"
    },
    {
     "name": "stderr",
     "output_type": "stream",
     "text": [
      "\u001b[34m\u001b[1mwandb\u001b[0m: Agent Starting Run: jk0wgmtm with config:\n",
      "\u001b[34m\u001b[1mwandb\u001b[0m: \tarchitecture: LogisticRegression\n",
      "\u001b[34m\u001b[1mwandb\u001b[0m: \tepochs: 200\n",
      "\u001b[34m\u001b[1mwandb\u001b[0m: \tlearning_rate: 0.05\n",
      "\u001b[34m\u001b[1mwandb\u001b[0m: \tseed: 42\n",
      "\u001b[34m\u001b[1mwandb\u001b[0m: \tweight_decay: 0.0005\n",
      "Failed to detect the name of this notebook, you can set it manually with the WANDB_NOTEBOOK_NAME environment variable to enable code saving.\n"
     ]
    },
    {
     "data": {
      "text/html": [
       "Tracking run with wandb version 0.17.5"
      ],
      "text/plain": [
       "<IPython.core.display.HTML object>"
      ]
     },
     "metadata": {},
     "output_type": "display_data"
    },
    {
     "data": {
      "text/html": [
       "Run data is saved locally in <code>c:\\Users\\ADMIN\\git\\hack\\wandb\\run-20240803_151031-jk0wgmtm</code>"
      ],
      "text/plain": [
       "<IPython.core.display.HTML object>"
      ]
     },
     "metadata": {},
     "output_type": "display_data"
    },
    {
     "data": {
      "text/html": [
       "Syncing run <strong><a href='https://wandb.ai/zamtol/uncategorized/runs/jk0wgmtm' target=\"_blank\">likely-sweep-5</a></strong> to <a href='https://wandb.ai/zamtol/uncategorized' target=\"_blank\">Weights & Biases</a> (<a href='https://wandb.me/run' target=\"_blank\">docs</a>)<br/>Sweep page: <a href='https://wandb.ai/zamtol/uncategorized/sweeps/y1r7j6mo' target=\"_blank\">https://wandb.ai/zamtol/uncategorized/sweeps/y1r7j6mo</a>"
      ],
      "text/plain": [
       "<IPython.core.display.HTML object>"
      ]
     },
     "metadata": {},
     "output_type": "display_data"
    },
    {
     "data": {
      "text/html": [
       " View project at <a href='https://wandb.ai/zamtol/uncategorized' target=\"_blank\">https://wandb.ai/zamtol/uncategorized</a>"
      ],
      "text/plain": [
       "<IPython.core.display.HTML object>"
      ]
     },
     "metadata": {},
     "output_type": "display_data"
    },
    {
     "data": {
      "text/html": [
       " View sweep at <a href='https://wandb.ai/zamtol/uncategorized/sweeps/y1r7j6mo' target=\"_blank\">https://wandb.ai/zamtol/uncategorized/sweeps/y1r7j6mo</a>"
      ],
      "text/plain": [
       "<IPython.core.display.HTML object>"
      ]
     },
     "metadata": {},
     "output_type": "display_data"
    },
    {
     "data": {
      "text/html": [
       " View run at <a href='https://wandb.ai/zamtol/uncategorized/runs/jk0wgmtm' target=\"_blank\">https://wandb.ai/zamtol/uncategorized/runs/jk0wgmtm</a>"
      ],
      "text/plain": [
       "<IPython.core.display.HTML object>"
      ]
     },
     "metadata": {},
     "output_type": "display_data"
    },
    {
     "name": "stdout",
     "output_type": "stream",
     "text": [
      "Epoch 1/200, Loss: 0.7517, Validation Accuracy: 0.5400, AUC: 0.6889\n",
      "Epoch 2/200, Loss: 0.7622, Validation Accuracy: 0.5250, AUC: 0.5773\n",
      "Epoch 3/200, Loss: 0.7714, Validation Accuracy: 0.6017, AUC: 0.6433\n",
      "Epoch 4/200, Loss: 0.6850, Validation Accuracy: 0.5883, AUC: 0.7333\n",
      "Epoch 5/200, Loss: 0.6527, Validation Accuracy: 0.5683, AUC: 0.7753\n",
      "Epoch 6/200, Loss: 0.6813, Validation Accuracy: 0.5983, AUC: 0.7803\n",
      "Epoch 7/200, Loss: 0.6301, Validation Accuracy: 0.6833, AUC: 0.7691\n",
      "Epoch 8/200, Loss: 0.5957, Validation Accuracy: 0.6950, AUC: 0.7644\n",
      "Epoch 9/200, Loss: 0.6147, Validation Accuracy: 0.7150, AUC: 0.7864\n",
      "Epoch 10/200, Loss: 0.5948, Validation Accuracy: 0.7100, AUC: 0.8191\n",
      "Epoch 11/200, Loss: 0.5573, Validation Accuracy: 0.6683, AUC: 0.8441\n",
      "Epoch 12/200, Loss: 0.5561, Validation Accuracy: 0.6583, AUC: 0.8567\n",
      "Epoch 13/200, Loss: 0.5587, Validation Accuracy: 0.6917, AUC: 0.8604\n",
      "Epoch 14/200, Loss: 0.5366, Validation Accuracy: 0.7417, AUC: 0.8587\n",
      "Epoch 15/200, Loss: 0.5156, Validation Accuracy: 0.7783, AUC: 0.8573\n",
      "Epoch 16/200, Loss: 0.5164, Validation Accuracy: 0.7900, AUC: 0.8604\n",
      "Epoch 17/200, Loss: 0.5145, Validation Accuracy: 0.7850, AUC: 0.8683\n",
      "Epoch 18/200, Loss: 0.4968, Validation Accuracy: 0.7750, AUC: 0.8767\n",
      "Epoch 19/200, Loss: 0.4850, Validation Accuracy: 0.7667, AUC: 0.8829\n",
      "Epoch 20/200, Loss: 0.4855, Validation Accuracy: 0.7667, AUC: 0.8855\n",
      "Epoch 21/200, Loss: 0.4820, Validation Accuracy: 0.7850, AUC: 0.8859\n",
      "Epoch 22/200, Loss: 0.4699, Validation Accuracy: 0.7917, AUC: 0.8851\n",
      "Epoch 23/200, Loss: 0.4619, Validation Accuracy: 0.8133, AUC: 0.8848\n",
      "Epoch 24/200, Loss: 0.4618, Validation Accuracy: 0.8217, AUC: 0.8862\n",
      "Epoch 25/200, Loss: 0.4588, Validation Accuracy: 0.8067, AUC: 0.8885\n",
      "Epoch 26/200, Loss: 0.4502, Validation Accuracy: 0.8017, AUC: 0.8916\n",
      "Epoch 27/200, Loss: 0.4450, Validation Accuracy: 0.7950, AUC: 0.8934\n",
      "Epoch 28/200, Loss: 0.4446, Validation Accuracy: 0.7967, AUC: 0.8939\n",
      "Epoch 29/200, Loss: 0.4420, Validation Accuracy: 0.8067, AUC: 0.8938\n",
      "Epoch 30/200, Loss: 0.4360, Validation Accuracy: 0.8150, AUC: 0.8929\n",
      "Epoch 31/200, Loss: 0.4322, Validation Accuracy: 0.8167, AUC: 0.8923\n",
      "Epoch 32/200, Loss: 0.4315, Validation Accuracy: 0.8217, AUC: 0.8927\n",
      "Epoch 33/200, Loss: 0.4295, Validation Accuracy: 0.8133, AUC: 0.8941\n",
      "Epoch 34/200, Loss: 0.4251, Validation Accuracy: 0.8233, AUC: 0.8952\n",
      "Epoch 35/200, Loss: 0.4223, Validation Accuracy: 0.8150, AUC: 0.8960\n",
      "Epoch 36/200, Loss: 0.4216, Validation Accuracy: 0.8167, AUC: 0.8965\n",
      "Epoch 37/200, Loss: 0.4198, Validation Accuracy: 0.8217, AUC: 0.8963\n",
      "Epoch 38/200, Loss: 0.4166, Validation Accuracy: 0.8250, AUC: 0.8961\n",
      "Epoch 39/200, Loss: 0.4144, Validation Accuracy: 0.8200, AUC: 0.8960\n",
      "Epoch 40/200, Loss: 0.4136, Validation Accuracy: 0.8217, AUC: 0.8963\n",
      "Epoch 41/200, Loss: 0.4120, Validation Accuracy: 0.8233, AUC: 0.8969\n",
      "Epoch 42/200, Loss: 0.4095, Validation Accuracy: 0.8267, AUC: 0.8975\n",
      "Epoch 43/200, Loss: 0.4079, Validation Accuracy: 0.8233, AUC: 0.8981\n",
      "Epoch 44/200, Loss: 0.4070, Validation Accuracy: 0.8267, AUC: 0.8984\n",
      "Epoch 45/200, Loss: 0.4056, Validation Accuracy: 0.8267, AUC: 0.8983\n",
      "Epoch 46/200, Loss: 0.4036, Validation Accuracy: 0.8233, AUC: 0.8980\n",
      "Epoch 47/200, Loss: 0.4023, Validation Accuracy: 0.8183, AUC: 0.8982\n",
      "Epoch 48/200, Loss: 0.4015, Validation Accuracy: 0.8200, AUC: 0.8984\n",
      "Epoch 49/200, Loss: 0.4002, Validation Accuracy: 0.8200, AUC: 0.8988\n",
      "Epoch 50/200, Loss: 0.3986, Validation Accuracy: 0.8233, AUC: 0.8993\n",
      "Epoch 51/200, Loss: 0.3975, Validation Accuracy: 0.8233, AUC: 0.8995\n",
      "Epoch 52/200, Loss: 0.3967, Validation Accuracy: 0.8217, AUC: 0.8998\n",
      "Epoch 53/200, Loss: 0.3955, Validation Accuracy: 0.8200, AUC: 0.8998\n",
      "Epoch 54/200, Loss: 0.3942, Validation Accuracy: 0.8217, AUC: 0.8996\n",
      "Epoch 55/200, Loss: 0.3933, Validation Accuracy: 0.8217, AUC: 0.8998\n",
      "Epoch 56/200, Loss: 0.3925, Validation Accuracy: 0.8183, AUC: 0.8999\n",
      "Epoch 57/200, Loss: 0.3914, Validation Accuracy: 0.8167, AUC: 0.9001\n",
      "Epoch 58/200, Loss: 0.3904, Validation Accuracy: 0.8183, AUC: 0.9003\n",
      "Epoch 59/200, Loss: 0.3896, Validation Accuracy: 0.8183, AUC: 0.9004\n",
      "Epoch 60/200, Loss: 0.3888, Validation Accuracy: 0.8183, AUC: 0.9004\n",
      "Epoch 61/200, Loss: 0.3879, Validation Accuracy: 0.8167, AUC: 0.9005\n",
      "Epoch 62/200, Loss: 0.3870, Validation Accuracy: 0.8167, AUC: 0.9005\n",
      "Epoch 63/200, Loss: 0.3864, Validation Accuracy: 0.8167, AUC: 0.9007\n",
      "Epoch 64/200, Loss: 0.3856, Validation Accuracy: 0.8183, AUC: 0.9010\n",
      "Epoch 65/200, Loss: 0.3848, Validation Accuracy: 0.8200, AUC: 0.9013\n",
      "Epoch 66/200, Loss: 0.3841, Validation Accuracy: 0.8200, AUC: 0.9014\n",
      "Epoch 67/200, Loss: 0.3835, Validation Accuracy: 0.8200, AUC: 0.9014\n",
      "Epoch 68/200, Loss: 0.3828, Validation Accuracy: 0.8200, AUC: 0.9016\n",
      "Epoch 69/200, Loss: 0.3821, Validation Accuracy: 0.8183, AUC: 0.9016\n",
      "Epoch 70/200, Loss: 0.3814, Validation Accuracy: 0.8183, AUC: 0.9016\n",
      "Epoch 71/200, Loss: 0.3809, Validation Accuracy: 0.8200, AUC: 0.9017\n",
      "Epoch 72/200, Loss: 0.3802, Validation Accuracy: 0.8200, AUC: 0.9018\n",
      "Epoch 73/200, Loss: 0.3796, Validation Accuracy: 0.8183, AUC: 0.9022\n",
      "Epoch 74/200, Loss: 0.3791, Validation Accuracy: 0.8183, AUC: 0.9023\n",
      "Epoch 75/200, Loss: 0.3785, Validation Accuracy: 0.8200, AUC: 0.9024\n",
      "Epoch 76/200, Loss: 0.3780, Validation Accuracy: 0.8217, AUC: 0.9024\n",
      "Epoch 77/200, Loss: 0.3775, Validation Accuracy: 0.8217, AUC: 0.9026\n",
      "Epoch 78/200, Loss: 0.3770, Validation Accuracy: 0.8200, AUC: 0.9027\n",
      "Epoch 79/200, Loss: 0.3765, Validation Accuracy: 0.8200, AUC: 0.9027\n",
      "Epoch 80/200, Loss: 0.3760, Validation Accuracy: 0.8200, AUC: 0.9028\n",
      "Epoch 81/200, Loss: 0.3755, Validation Accuracy: 0.8200, AUC: 0.9028\n",
      "Epoch 82/200, Loss: 0.3751, Validation Accuracy: 0.8200, AUC: 0.9028\n",
      "Epoch 83/200, Loss: 0.3746, Validation Accuracy: 0.8200, AUC: 0.9029\n",
      "Epoch 84/200, Loss: 0.3742, Validation Accuracy: 0.8200, AUC: 0.9029\n",
      "Epoch 85/200, Loss: 0.3738, Validation Accuracy: 0.8200, AUC: 0.9030\n",
      "Epoch 86/200, Loss: 0.3734, Validation Accuracy: 0.8200, AUC: 0.9031\n",
      "Epoch 87/200, Loss: 0.3730, Validation Accuracy: 0.8217, AUC: 0.9031\n",
      "Epoch 88/200, Loss: 0.3726, Validation Accuracy: 0.8217, AUC: 0.9032\n",
      "Epoch 89/200, Loss: 0.3722, Validation Accuracy: 0.8233, AUC: 0.9034\n",
      "Epoch 90/200, Loss: 0.3718, Validation Accuracy: 0.8250, AUC: 0.9034\n",
      "Epoch 91/200, Loss: 0.3715, Validation Accuracy: 0.8250, AUC: 0.9035\n",
      "Epoch 92/200, Loss: 0.3711, Validation Accuracy: 0.8250, AUC: 0.9036\n",
      "Epoch 93/200, Loss: 0.3708, Validation Accuracy: 0.8250, AUC: 0.9036\n",
      "Epoch 94/200, Loss: 0.3704, Validation Accuracy: 0.8233, AUC: 0.9036\n",
      "Epoch 95/200, Loss: 0.3701, Validation Accuracy: 0.8233, AUC: 0.9037\n",
      "Epoch 96/200, Loss: 0.3698, Validation Accuracy: 0.8250, AUC: 0.9037\n",
      "Epoch 97/200, Loss: 0.3695, Validation Accuracy: 0.8267, AUC: 0.9037\n",
      "Epoch 98/200, Loss: 0.3692, Validation Accuracy: 0.8283, AUC: 0.9040\n",
      "Epoch 99/200, Loss: 0.3689, Validation Accuracy: 0.8283, AUC: 0.9040\n",
      "Epoch 100/200, Loss: 0.3686, Validation Accuracy: 0.8283, AUC: 0.9041\n",
      "Epoch 101/200, Loss: 0.3683, Validation Accuracy: 0.8283, AUC: 0.9043\n",
      "Epoch 102/200, Loss: 0.3680, Validation Accuracy: 0.8283, AUC: 0.9043\n",
      "Epoch 103/200, Loss: 0.3677, Validation Accuracy: 0.8283, AUC: 0.9043\n",
      "Epoch 104/200, Loss: 0.3675, Validation Accuracy: 0.8283, AUC: 0.9044\n",
      "Epoch 105/200, Loss: 0.3672, Validation Accuracy: 0.8283, AUC: 0.9045\n",
      "Epoch 106/200, Loss: 0.3669, Validation Accuracy: 0.8283, AUC: 0.9046\n",
      "Epoch 107/200, Loss: 0.3667, Validation Accuracy: 0.8283, AUC: 0.9046\n",
      "Epoch 108/200, Loss: 0.3664, Validation Accuracy: 0.8283, AUC: 0.9047\n",
      "Epoch 109/200, Loss: 0.3662, Validation Accuracy: 0.8283, AUC: 0.9049\n",
      "Epoch 110/200, Loss: 0.3660, Validation Accuracy: 0.8283, AUC: 0.9049\n",
      "Epoch 111/200, Loss: 0.3658, Validation Accuracy: 0.8283, AUC: 0.9049\n",
      "Epoch 112/200, Loss: 0.3655, Validation Accuracy: 0.8283, AUC: 0.9050\n",
      "Epoch 113/200, Loss: 0.3653, Validation Accuracy: 0.8283, AUC: 0.9051\n",
      "Epoch 114/200, Loss: 0.3651, Validation Accuracy: 0.8283, AUC: 0.9052\n",
      "Epoch 115/200, Loss: 0.3649, Validation Accuracy: 0.8267, AUC: 0.9052\n",
      "Epoch 116/200, Loss: 0.3647, Validation Accuracy: 0.8267, AUC: 0.9052\n",
      "Epoch 117/200, Loss: 0.3645, Validation Accuracy: 0.8267, AUC: 0.9053\n",
      "Epoch 118/200, Loss: 0.3643, Validation Accuracy: 0.8267, AUC: 0.9053\n",
      "Epoch 119/200, Loss: 0.3641, Validation Accuracy: 0.8283, AUC: 0.9055\n",
      "Epoch 120/200, Loss: 0.3639, Validation Accuracy: 0.8250, AUC: 0.9055\n",
      "Epoch 121/200, Loss: 0.3637, Validation Accuracy: 0.8233, AUC: 0.9057\n",
      "Epoch 122/200, Loss: 0.3636, Validation Accuracy: 0.8267, AUC: 0.9058\n",
      "Epoch 123/200, Loss: 0.3634, Validation Accuracy: 0.8283, AUC: 0.9058\n",
      "Epoch 124/200, Loss: 0.3632, Validation Accuracy: 0.8283, AUC: 0.9058\n",
      "Epoch 125/200, Loss: 0.3631, Validation Accuracy: 0.8283, AUC: 0.9059\n",
      "Epoch 126/200, Loss: 0.3629, Validation Accuracy: 0.8283, AUC: 0.9060\n",
      "Epoch 127/200, Loss: 0.3627, Validation Accuracy: 0.8283, AUC: 0.9060\n",
      "Epoch 128/200, Loss: 0.3626, Validation Accuracy: 0.8300, AUC: 0.9061\n",
      "Epoch 129/200, Loss: 0.3624, Validation Accuracy: 0.8300, AUC: 0.9061\n",
      "Epoch 130/200, Loss: 0.3623, Validation Accuracy: 0.8300, AUC: 0.9062\n",
      "Epoch 131/200, Loss: 0.3621, Validation Accuracy: 0.8300, AUC: 0.9063\n",
      "Epoch 132/200, Loss: 0.3620, Validation Accuracy: 0.8283, AUC: 0.9065\n",
      "Epoch 133/200, Loss: 0.3618, Validation Accuracy: 0.8283, AUC: 0.9065\n",
      "Epoch 134/200, Loss: 0.3617, Validation Accuracy: 0.8300, AUC: 0.9066\n",
      "Epoch 135/200, Loss: 0.3616, Validation Accuracy: 0.8283, AUC: 0.9066\n",
      "Epoch 136/200, Loss: 0.3614, Validation Accuracy: 0.8300, AUC: 0.9065\n",
      "Epoch 137/200, Loss: 0.3613, Validation Accuracy: 0.8317, AUC: 0.9066\n",
      "Epoch 138/200, Loss: 0.3612, Validation Accuracy: 0.8317, AUC: 0.9066\n",
      "Epoch 139/200, Loss: 0.3611, Validation Accuracy: 0.8317, AUC: 0.9067\n",
      "Epoch 140/200, Loss: 0.3609, Validation Accuracy: 0.8317, AUC: 0.9068\n",
      "Epoch 141/200, Loss: 0.3608, Validation Accuracy: 0.8317, AUC: 0.9067\n",
      "Epoch 142/200, Loss: 0.3607, Validation Accuracy: 0.8317, AUC: 0.9068\n",
      "Epoch 143/200, Loss: 0.3606, Validation Accuracy: 0.8317, AUC: 0.9068\n",
      "Epoch 144/200, Loss: 0.3605, Validation Accuracy: 0.8317, AUC: 0.9068\n",
      "Epoch 145/200, Loss: 0.3604, Validation Accuracy: 0.8317, AUC: 0.9069\n",
      "Epoch 146/200, Loss: 0.3603, Validation Accuracy: 0.8317, AUC: 0.9070\n",
      "Epoch 147/200, Loss: 0.3602, Validation Accuracy: 0.8317, AUC: 0.9071\n",
      "Epoch 148/200, Loss: 0.3600, Validation Accuracy: 0.8300, AUC: 0.9071\n",
      "Epoch 149/200, Loss: 0.3599, Validation Accuracy: 0.8300, AUC: 0.9071\n",
      "Epoch 150/200, Loss: 0.3598, Validation Accuracy: 0.8300, AUC: 0.9070\n",
      "Epoch 151/200, Loss: 0.3598, Validation Accuracy: 0.8300, AUC: 0.9070\n",
      "Epoch 152/200, Loss: 0.3597, Validation Accuracy: 0.8317, AUC: 0.9070\n",
      "Epoch 153/200, Loss: 0.3596, Validation Accuracy: 0.8317, AUC: 0.9070\n",
      "Epoch 154/200, Loss: 0.3595, Validation Accuracy: 0.8317, AUC: 0.9069\n",
      "Epoch 155/200, Loss: 0.3594, Validation Accuracy: 0.8317, AUC: 0.9069\n",
      "Epoch 156/200, Loss: 0.3593, Validation Accuracy: 0.8317, AUC: 0.9070\n",
      "Epoch 157/200, Loss: 0.3592, Validation Accuracy: 0.8317, AUC: 0.9070\n",
      "Epoch 158/200, Loss: 0.3591, Validation Accuracy: 0.8317, AUC: 0.9071\n",
      "Epoch 159/200, Loss: 0.3590, Validation Accuracy: 0.8317, AUC: 0.9070\n",
      "Epoch 160/200, Loss: 0.3590, Validation Accuracy: 0.8300, AUC: 0.9071\n",
      "Epoch 161/200, Loss: 0.3589, Validation Accuracy: 0.8300, AUC: 0.9071\n",
      "Epoch 162/200, Loss: 0.3588, Validation Accuracy: 0.8300, AUC: 0.9071\n",
      "Epoch 163/200, Loss: 0.3587, Validation Accuracy: 0.8300, AUC: 0.9070\n",
      "Epoch 164/200, Loss: 0.3586, Validation Accuracy: 0.8300, AUC: 0.9070\n",
      "Epoch 165/200, Loss: 0.3586, Validation Accuracy: 0.8300, AUC: 0.9071\n",
      "Epoch 166/200, Loss: 0.3585, Validation Accuracy: 0.8300, AUC: 0.9071\n",
      "Epoch 167/200, Loss: 0.3584, Validation Accuracy: 0.8300, AUC: 0.9072\n",
      "Epoch 168/200, Loss: 0.3583, Validation Accuracy: 0.8300, AUC: 0.9073\n",
      "Epoch 169/200, Loss: 0.3583, Validation Accuracy: 0.8300, AUC: 0.9073\n",
      "Epoch 170/200, Loss: 0.3582, Validation Accuracy: 0.8283, AUC: 0.9074\n",
      "Epoch 171/200, Loss: 0.3581, Validation Accuracy: 0.8283, AUC: 0.9073\n",
      "Epoch 172/200, Loss: 0.3581, Validation Accuracy: 0.8267, AUC: 0.9074\n",
      "Epoch 173/200, Loss: 0.3580, Validation Accuracy: 0.8267, AUC: 0.9075\n",
      "Epoch 174/200, Loss: 0.3579, Validation Accuracy: 0.8267, AUC: 0.9075\n",
      "Epoch 175/200, Loss: 0.3579, Validation Accuracy: 0.8267, AUC: 0.9075\n",
      "Epoch 176/200, Loss: 0.3578, Validation Accuracy: 0.8267, AUC: 0.9076\n",
      "Epoch 177/200, Loss: 0.3578, Validation Accuracy: 0.8283, AUC: 0.9076\n",
      "Epoch 178/200, Loss: 0.3577, Validation Accuracy: 0.8283, AUC: 0.9076\n",
      "Epoch 179/200, Loss: 0.3576, Validation Accuracy: 0.8283, AUC: 0.9076\n",
      "Epoch 180/200, Loss: 0.3576, Validation Accuracy: 0.8283, AUC: 0.9077\n",
      "Epoch 181/200, Loss: 0.3575, Validation Accuracy: 0.8283, AUC: 0.9077\n",
      "Epoch 182/200, Loss: 0.3575, Validation Accuracy: 0.8317, AUC: 0.9077\n",
      "Epoch 183/200, Loss: 0.3574, Validation Accuracy: 0.8317, AUC: 0.9077\n",
      "Epoch 184/200, Loss: 0.3574, Validation Accuracy: 0.8317, AUC: 0.9077\n",
      "Epoch 185/200, Loss: 0.3573, Validation Accuracy: 0.8317, AUC: 0.9076\n",
      "Epoch 186/200, Loss: 0.3573, Validation Accuracy: 0.8317, AUC: 0.9076\n",
      "Epoch 187/200, Loss: 0.3572, Validation Accuracy: 0.8317, AUC: 0.9077\n",
      "Epoch 188/200, Loss: 0.3572, Validation Accuracy: 0.8317, AUC: 0.9077\n",
      "Epoch 189/200, Loss: 0.3571, Validation Accuracy: 0.8317, AUC: 0.9077\n",
      "Epoch 190/200, Loss: 0.3571, Validation Accuracy: 0.8317, AUC: 0.9078\n",
      "Epoch 191/200, Loss: 0.3570, Validation Accuracy: 0.8317, AUC: 0.9077\n",
      "Epoch 192/200, Loss: 0.3570, Validation Accuracy: 0.8317, AUC: 0.9077\n",
      "Epoch 193/200, Loss: 0.3569, Validation Accuracy: 0.8317, AUC: 0.9078\n",
      "Epoch 194/200, Loss: 0.3569, Validation Accuracy: 0.8317, AUC: 0.9077\n",
      "Epoch 195/200, Loss: 0.3568, Validation Accuracy: 0.8317, AUC: 0.9077\n",
      "Epoch 196/200, Loss: 0.3568, Validation Accuracy: 0.8317, AUC: 0.9077\n",
      "Epoch 197/200, Loss: 0.3568, Validation Accuracy: 0.8317, AUC: 0.9078\n",
      "Epoch 198/200, Loss: 0.3567, Validation Accuracy: 0.8317, AUC: 0.9078\n",
      "Epoch 199/200, Loss: 0.3567, Validation Accuracy: 0.8317, AUC: 0.9078\n",
      "Epoch 200/200, Loss: 0.3566, Validation Accuracy: 0.8317, AUC: 0.9079\n"
     ]
    },
    {
     "data": {
      "text/html": [
       "<style>\n",
       "    table.wandb td:nth-child(1) { padding: 0 10px; text-align: left ; width: auto;} td:nth-child(2) {text-align: left ; width: 100%}\n",
       "    .wandb-row { display: flex; flex-direction: row; flex-wrap: wrap; justify-content: flex-start; width: 100% }\n",
       "    .wandb-col { display: flex; flex-direction: column; flex-basis: 100%; flex: 1; padding: 10px; }\n",
       "    </style>\n",
       "<div class=\"wandb-row\"><div class=\"wandb-col\"><h3>Run history:</h3><br/><table class=\"wandb\"><tr><td>Final Best Epoch</td><td>▁</td></tr><tr><td>Final Best Val Accuracy</td><td>▁</td></tr><tr><td>best_epoch</td><td>▁▁▁▂▂▂▂▃▃▃▃▃▃▃▃▃▃▃▃▆▆▆▆▆▆███████████████</td></tr><tr><td>best_val_accuracy</td><td>▁▂▅▇▇███████████████████████████████████</td></tr><tr><td>roc_auc</td><td>▁▅▇▇████████████████████████████████████</td></tr><tr><td>train_loss</td><td>█▇▄▄▃▃▂▂▂▂▂▂▂▁▁▁▁▁▁▁▁▁▁▁▁▁▁▁▁▁▁▁▁▁▁▁▁▁▁▁</td></tr><tr><td>val_accuracy</td><td>▁▃▄▇▇▇██████████████████████████████████</td></tr></table><br/></div><div class=\"wandb-col\"><h3>Run summary:</h3><br/><table class=\"wandb\"><tr><td>Final Best Epoch</td><td>137</td></tr><tr><td>Final Best Val Accuracy</td><td>0.83167</td></tr><tr><td>best_epoch</td><td>137</td></tr><tr><td>best_val_accuracy</td><td>0.83167</td></tr><tr><td>roc_auc</td><td>0.90786</td></tr><tr><td>train_loss</td><td>0.35663</td></tr><tr><td>val_accuracy</td><td>0.83167</td></tr></table><br/></div></div>"
      ],
      "text/plain": [
       "<IPython.core.display.HTML object>"
      ]
     },
     "metadata": {},
     "output_type": "display_data"
    },
    {
     "data": {
      "text/html": [
       " View run <strong style=\"color:#cdcd00\">likely-sweep-5</strong> at: <a href='https://wandb.ai/zamtol/uncategorized/runs/jk0wgmtm' target=\"_blank\">https://wandb.ai/zamtol/uncategorized/runs/jk0wgmtm</a><br/> View project at: <a href='https://wandb.ai/zamtol/uncategorized' target=\"_blank\">https://wandb.ai/zamtol/uncategorized</a><br/>Synced 5 W&B file(s), 200 media file(s), 0 artifact file(s) and 0 other file(s)"
      ],
      "text/plain": [
       "<IPython.core.display.HTML object>"
      ]
     },
     "metadata": {},
     "output_type": "display_data"
    },
    {
     "data": {
      "text/html": [
       "Find logs at: <code>.\\wandb\\run-20240803_151031-jk0wgmtm\\logs</code>"
      ],
      "text/plain": [
       "<IPython.core.display.HTML object>"
      ]
     },
     "metadata": {},
     "output_type": "display_data"
    },
    {
     "data": {
      "text/html": [
       "The new W&B backend becomes opt-out in version 0.18.0; try it out with `wandb.require(\"core\")`! See https://wandb.me/wandb-core for more information."
      ],
      "text/plain": [
       "<IPython.core.display.HTML object>"
      ]
     },
     "metadata": {},
     "output_type": "display_data"
    },
    {
     "name": "stderr",
     "output_type": "stream",
     "text": [
      "\u001b[34m\u001b[1mwandb\u001b[0m: Agent Starting Run: gcr25oe1 with config:\n",
      "\u001b[34m\u001b[1mwandb\u001b[0m: \tarchitecture: LogisticRegression\n",
      "\u001b[34m\u001b[1mwandb\u001b[0m: \tepochs: 200\n",
      "\u001b[34m\u001b[1mwandb\u001b[0m: \tlearning_rate: 0.05\n",
      "\u001b[34m\u001b[1mwandb\u001b[0m: \tseed: 42\n",
      "\u001b[34m\u001b[1mwandb\u001b[0m: \tweight_decay: 0.0001\n",
      "Failed to detect the name of this notebook, you can set it manually with the WANDB_NOTEBOOK_NAME environment variable to enable code saving.\n"
     ]
    },
    {
     "data": {
      "text/html": [
       "Tracking run with wandb version 0.17.5"
      ],
      "text/plain": [
       "<IPython.core.display.HTML object>"
      ]
     },
     "metadata": {},
     "output_type": "display_data"
    },
    {
     "data": {
      "text/html": [
       "Run data is saved locally in <code>c:\\Users\\ADMIN\\git\\hack\\wandb\\run-20240803_151104-gcr25oe1</code>"
      ],
      "text/plain": [
       "<IPython.core.display.HTML object>"
      ]
     },
     "metadata": {},
     "output_type": "display_data"
    },
    {
     "data": {
      "text/html": [
       "Syncing run <strong><a href='https://wandb.ai/zamtol/uncategorized/runs/gcr25oe1' target=\"_blank\">fine-sweep-6</a></strong> to <a href='https://wandb.ai/zamtol/uncategorized' target=\"_blank\">Weights & Biases</a> (<a href='https://wandb.me/run' target=\"_blank\">docs</a>)<br/>Sweep page: <a href='https://wandb.ai/zamtol/uncategorized/sweeps/y1r7j6mo' target=\"_blank\">https://wandb.ai/zamtol/uncategorized/sweeps/y1r7j6mo</a>"
      ],
      "text/plain": [
       "<IPython.core.display.HTML object>"
      ]
     },
     "metadata": {},
     "output_type": "display_data"
    },
    {
     "data": {
      "text/html": [
       " View project at <a href='https://wandb.ai/zamtol/uncategorized' target=\"_blank\">https://wandb.ai/zamtol/uncategorized</a>"
      ],
      "text/plain": [
       "<IPython.core.display.HTML object>"
      ]
     },
     "metadata": {},
     "output_type": "display_data"
    },
    {
     "data": {
      "text/html": [
       " View sweep at <a href='https://wandb.ai/zamtol/uncategorized/sweeps/y1r7j6mo' target=\"_blank\">https://wandb.ai/zamtol/uncategorized/sweeps/y1r7j6mo</a>"
      ],
      "text/plain": [
       "<IPython.core.display.HTML object>"
      ]
     },
     "metadata": {},
     "output_type": "display_data"
    },
    {
     "data": {
      "text/html": [
       " View run at <a href='https://wandb.ai/zamtol/uncategorized/runs/gcr25oe1' target=\"_blank\">https://wandb.ai/zamtol/uncategorized/runs/gcr25oe1</a>"
      ],
      "text/plain": [
       "<IPython.core.display.HTML object>"
      ]
     },
     "metadata": {},
     "output_type": "display_data"
    },
    {
     "name": "stdout",
     "output_type": "stream",
     "text": [
      "Epoch 1/200, Loss: 1.0073, Validation Accuracy: 0.5933, AUC: 0.7411\n",
      "Epoch 2/200, Loss: 0.7367, Validation Accuracy: 0.5467, AUC: 0.7749\n",
      "Epoch 3/200, Loss: 0.9060, Validation Accuracy: 0.5650, AUC: 0.7764\n",
      "Epoch 4/200, Loss: 0.7874, Validation Accuracy: 0.6617, AUC: 0.7544\n",
      "Epoch 5/200, Loss: 0.6328, Validation Accuracy: 0.6183, AUC: 0.7182\n",
      "Epoch 6/200, Loss: 0.6643, Validation Accuracy: 0.5283, AUC: 0.7070\n",
      "Epoch 7/200, Loss: 0.7429, Validation Accuracy: 0.5867, AUC: 0.7337\n",
      "Epoch 8/200, Loss: 0.6894, Validation Accuracy: 0.7000, AUC: 0.7765\n",
      "Epoch 9/200, Loss: 0.5983, Validation Accuracy: 0.6833, AUC: 0.8113\n",
      "Epoch 10/200, Loss: 0.5876, Validation Accuracy: 0.6250, AUC: 0.8309\n",
      "Epoch 11/200, Loss: 0.6278, Validation Accuracy: 0.6183, AUC: 0.8403\n",
      "Epoch 12/200, Loss: 0.6375, Validation Accuracy: 0.6550, AUC: 0.8426\n",
      "Epoch 13/200, Loss: 0.5993, Validation Accuracy: 0.7117, AUC: 0.8386\n",
      "Epoch 14/200, Loss: 0.5522, Validation Accuracy: 0.7433, AUC: 0.8312\n",
      "Epoch 15/200, Loss: 0.5418, Validation Accuracy: 0.7317, AUC: 0.8252\n",
      "Epoch 16/200, Loss: 0.5634, Validation Accuracy: 0.7333, AUC: 0.8272\n",
      "Epoch 17/200, Loss: 0.5693, Validation Accuracy: 0.7517, AUC: 0.8362\n",
      "Epoch 18/200, Loss: 0.5430, Validation Accuracy: 0.7550, AUC: 0.8494\n",
      "Epoch 19/200, Loss: 0.5146, Validation Accuracy: 0.7433, AUC: 0.8604\n",
      "Epoch 20/200, Loss: 0.5106, Validation Accuracy: 0.7183, AUC: 0.8676\n",
      "Epoch 21/200, Loss: 0.5211, Validation Accuracy: 0.7100, AUC: 0.8707\n",
      "Epoch 22/200, Loss: 0.5225, Validation Accuracy: 0.7383, AUC: 0.8713\n",
      "Epoch 23/200, Loss: 0.5077, Validation Accuracy: 0.7583, AUC: 0.8692\n",
      "Epoch 24/200, Loss: 0.4897, Validation Accuracy: 0.7750, AUC: 0.8664\n",
      "Epoch 25/200, Loss: 0.4839, Validation Accuracy: 0.7750, AUC: 0.8647\n",
      "Epoch 26/200, Loss: 0.4891, Validation Accuracy: 0.7783, AUC: 0.8654\n",
      "Epoch 27/200, Loss: 0.4904, Validation Accuracy: 0.7783, AUC: 0.8685\n",
      "Epoch 28/200, Loss: 0.4807, Validation Accuracy: 0.7867, AUC: 0.8734\n",
      "Epoch 29/200, Loss: 0.4690, Validation Accuracy: 0.7833, AUC: 0.8779\n",
      "Epoch 30/200, Loss: 0.4651, Validation Accuracy: 0.7817, AUC: 0.8819\n",
      "Epoch 31/200, Loss: 0.4674, Validation Accuracy: 0.7800, AUC: 0.8835\n",
      "Epoch 32/200, Loss: 0.4673, Validation Accuracy: 0.7850, AUC: 0.8837\n",
      "Epoch 33/200, Loss: 0.4611, Validation Accuracy: 0.7967, AUC: 0.8830\n",
      "Epoch 34/200, Loss: 0.4534, Validation Accuracy: 0.7900, AUC: 0.8820\n",
      "Epoch 35/200, Loss: 0.4501, Validation Accuracy: 0.8017, AUC: 0.8812\n",
      "Epoch 36/200, Loss: 0.4509, Validation Accuracy: 0.8017, AUC: 0.8817\n",
      "Epoch 37/200, Loss: 0.4504, Validation Accuracy: 0.8000, AUC: 0.8831\n",
      "Epoch 38/200, Loss: 0.4459, Validation Accuracy: 0.7967, AUC: 0.8854\n",
      "Epoch 39/200, Loss: 0.4408, Validation Accuracy: 0.7967, AUC: 0.8880\n",
      "Epoch 40/200, Loss: 0.4386, Validation Accuracy: 0.7950, AUC: 0.8895\n",
      "Epoch 41/200, Loss: 0.4386, Validation Accuracy: 0.7950, AUC: 0.8905\n",
      "Epoch 42/200, Loss: 0.4375, Validation Accuracy: 0.7950, AUC: 0.8905\n",
      "Epoch 43/200, Loss: 0.4343, Validation Accuracy: 0.8000, AUC: 0.8903\n",
      "Epoch 44/200, Loss: 0.4308, Validation Accuracy: 0.8083, AUC: 0.8901\n",
      "Epoch 45/200, Loss: 0.4291, Validation Accuracy: 0.8133, AUC: 0.8899\n",
      "Epoch 46/200, Loss: 0.4287, Validation Accuracy: 0.8167, AUC: 0.8901\n",
      "Epoch 47/200, Loss: 0.4275, Validation Accuracy: 0.8117, AUC: 0.8909\n",
      "Epoch 48/200, Loss: 0.4250, Validation Accuracy: 0.8150, AUC: 0.8920\n",
      "Epoch 49/200, Loss: 0.4226, Validation Accuracy: 0.8033, AUC: 0.8930\n",
      "Epoch 50/200, Loss: 0.4214, Validation Accuracy: 0.8083, AUC: 0.8941\n",
      "Epoch 51/200, Loss: 0.4207, Validation Accuracy: 0.8083, AUC: 0.8945\n",
      "Epoch 52/200, Loss: 0.4194, Validation Accuracy: 0.8083, AUC: 0.8944\n",
      "Epoch 53/200, Loss: 0.4174, Validation Accuracy: 0.8167, AUC: 0.8941\n",
      "Epoch 54/200, Loss: 0.4157, Validation Accuracy: 0.8217, AUC: 0.8941\n",
      "Epoch 55/200, Loss: 0.4148, Validation Accuracy: 0.8200, AUC: 0.8942\n",
      "Epoch 56/200, Loss: 0.4140, Validation Accuracy: 0.8200, AUC: 0.8944\n",
      "Epoch 57/200, Loss: 0.4127, Validation Accuracy: 0.8183, AUC: 0.8952\n",
      "Epoch 58/200, Loss: 0.4111, Validation Accuracy: 0.8167, AUC: 0.8956\n",
      "Epoch 59/200, Loss: 0.4099, Validation Accuracy: 0.8217, AUC: 0.8964\n",
      "Epoch 60/200, Loss: 0.4090, Validation Accuracy: 0.8217, AUC: 0.8968\n",
      "Epoch 61/200, Loss: 0.4082, Validation Accuracy: 0.8217, AUC: 0.8970\n",
      "Epoch 62/200, Loss: 0.4070, Validation Accuracy: 0.8217, AUC: 0.8969\n",
      "Epoch 63/200, Loss: 0.4057, Validation Accuracy: 0.8150, AUC: 0.8969\n",
      "Epoch 64/200, Loss: 0.4048, Validation Accuracy: 0.8167, AUC: 0.8970\n",
      "Epoch 65/200, Loss: 0.4040, Validation Accuracy: 0.8167, AUC: 0.8973\n",
      "Epoch 66/200, Loss: 0.4031, Validation Accuracy: 0.8183, AUC: 0.8975\n",
      "Epoch 67/200, Loss: 0.4021, Validation Accuracy: 0.8167, AUC: 0.8978\n",
      "Epoch 68/200, Loss: 0.4011, Validation Accuracy: 0.8200, AUC: 0.8983\n",
      "Epoch 69/200, Loss: 0.4003, Validation Accuracy: 0.8183, AUC: 0.8984\n",
      "Epoch 70/200, Loss: 0.3995, Validation Accuracy: 0.8200, AUC: 0.8986\n",
      "Epoch 71/200, Loss: 0.3987, Validation Accuracy: 0.8167, AUC: 0.8986\n",
      "Epoch 72/200, Loss: 0.3978, Validation Accuracy: 0.8200, AUC: 0.8986\n",
      "Epoch 73/200, Loss: 0.3970, Validation Accuracy: 0.8167, AUC: 0.8985\n",
      "Epoch 74/200, Loss: 0.3963, Validation Accuracy: 0.8167, AUC: 0.8988\n",
      "Epoch 75/200, Loss: 0.3955, Validation Accuracy: 0.8167, AUC: 0.8990\n",
      "Epoch 76/200, Loss: 0.3948, Validation Accuracy: 0.8167, AUC: 0.8993\n",
      "Epoch 77/200, Loss: 0.3940, Validation Accuracy: 0.8167, AUC: 0.8995\n",
      "Epoch 78/200, Loss: 0.3933, Validation Accuracy: 0.8167, AUC: 0.8996\n",
      "Epoch 79/200, Loss: 0.3927, Validation Accuracy: 0.8183, AUC: 0.8997\n",
      "Epoch 80/200, Loss: 0.3920, Validation Accuracy: 0.8167, AUC: 0.8997\n",
      "Epoch 81/200, Loss: 0.3913, Validation Accuracy: 0.8183, AUC: 0.8997\n",
      "Epoch 82/200, Loss: 0.3906, Validation Accuracy: 0.8183, AUC: 0.8997\n",
      "Epoch 83/200, Loss: 0.3900, Validation Accuracy: 0.8183, AUC: 0.9000\n",
      "Epoch 84/200, Loss: 0.3894, Validation Accuracy: 0.8183, AUC: 0.9000\n",
      "Epoch 85/200, Loss: 0.3888, Validation Accuracy: 0.8200, AUC: 0.9002\n",
      "Epoch 86/200, Loss: 0.3882, Validation Accuracy: 0.8200, AUC: 0.9004\n",
      "Epoch 87/200, Loss: 0.3876, Validation Accuracy: 0.8183, AUC: 0.9007\n",
      "Epoch 88/200, Loss: 0.3871, Validation Accuracy: 0.8200, AUC: 0.9008\n",
      "Epoch 89/200, Loss: 0.3865, Validation Accuracy: 0.8200, AUC: 0.9009\n",
      "Epoch 90/200, Loss: 0.3859, Validation Accuracy: 0.8200, AUC: 0.9010\n",
      "Epoch 91/200, Loss: 0.3854, Validation Accuracy: 0.8233, AUC: 0.9011\n",
      "Epoch 92/200, Loss: 0.3849, Validation Accuracy: 0.8233, AUC: 0.9011\n",
      "Epoch 93/200, Loss: 0.3844, Validation Accuracy: 0.8233, AUC: 0.9013\n",
      "Epoch 94/200, Loss: 0.3839, Validation Accuracy: 0.8233, AUC: 0.9013\n",
      "Epoch 95/200, Loss: 0.3834, Validation Accuracy: 0.8250, AUC: 0.9015\n",
      "Epoch 96/200, Loss: 0.3829, Validation Accuracy: 0.8250, AUC: 0.9015\n",
      "Epoch 97/200, Loss: 0.3824, Validation Accuracy: 0.8250, AUC: 0.9017\n",
      "Epoch 98/200, Loss: 0.3820, Validation Accuracy: 0.8250, AUC: 0.9017\n",
      "Epoch 99/200, Loss: 0.3815, Validation Accuracy: 0.8250, AUC: 0.9017\n",
      "Epoch 100/200, Loss: 0.3810, Validation Accuracy: 0.8233, AUC: 0.9017\n",
      "Epoch 101/200, Loss: 0.3806, Validation Accuracy: 0.8233, AUC: 0.9018\n",
      "Epoch 102/200, Loss: 0.3802, Validation Accuracy: 0.8233, AUC: 0.9020\n",
      "Epoch 103/200, Loss: 0.3798, Validation Accuracy: 0.8233, AUC: 0.9020\n",
      "Epoch 104/200, Loss: 0.3793, Validation Accuracy: 0.8233, AUC: 0.9021\n",
      "Epoch 105/200, Loss: 0.3789, Validation Accuracy: 0.8233, AUC: 0.9021\n",
      "Epoch 106/200, Loss: 0.3785, Validation Accuracy: 0.8217, AUC: 0.9023\n",
      "Epoch 107/200, Loss: 0.3781, Validation Accuracy: 0.8217, AUC: 0.9024\n",
      "Epoch 108/200, Loss: 0.3778, Validation Accuracy: 0.8217, AUC: 0.9025\n",
      "Epoch 109/200, Loss: 0.3774, Validation Accuracy: 0.8233, AUC: 0.9026\n",
      "Epoch 110/200, Loss: 0.3770, Validation Accuracy: 0.8233, AUC: 0.9027\n",
      "Epoch 111/200, Loss: 0.3767, Validation Accuracy: 0.8217, AUC: 0.9028\n",
      "Epoch 112/200, Loss: 0.3763, Validation Accuracy: 0.8217, AUC: 0.9029\n",
      "Epoch 113/200, Loss: 0.3759, Validation Accuracy: 0.8217, AUC: 0.9029\n",
      "Epoch 114/200, Loss: 0.3756, Validation Accuracy: 0.8217, AUC: 0.9030\n",
      "Epoch 115/200, Loss: 0.3753, Validation Accuracy: 0.8217, AUC: 0.9030\n",
      "Epoch 116/200, Loss: 0.3749, Validation Accuracy: 0.8217, AUC: 0.9031\n",
      "Epoch 117/200, Loss: 0.3746, Validation Accuracy: 0.8233, AUC: 0.9032\n",
      "Epoch 118/200, Loss: 0.3743, Validation Accuracy: 0.8233, AUC: 0.9032\n",
      "Epoch 119/200, Loss: 0.3740, Validation Accuracy: 0.8233, AUC: 0.9033\n",
      "Epoch 120/200, Loss: 0.3737, Validation Accuracy: 0.8233, AUC: 0.9034\n",
      "Epoch 121/200, Loss: 0.3734, Validation Accuracy: 0.8267, AUC: 0.9034\n",
      "Epoch 122/200, Loss: 0.3731, Validation Accuracy: 0.8250, AUC: 0.9034\n",
      "Epoch 123/200, Loss: 0.3728, Validation Accuracy: 0.8250, AUC: 0.9036\n",
      "Epoch 124/200, Loss: 0.3725, Validation Accuracy: 0.8250, AUC: 0.9037\n",
      "Epoch 125/200, Loss: 0.3722, Validation Accuracy: 0.8250, AUC: 0.9038\n",
      "Epoch 126/200, Loss: 0.3719, Validation Accuracy: 0.8250, AUC: 0.9039\n",
      "Epoch 127/200, Loss: 0.3717, Validation Accuracy: 0.8250, AUC: 0.9038\n",
      "Epoch 128/200, Loss: 0.3714, Validation Accuracy: 0.8250, AUC: 0.9039\n",
      "Epoch 129/200, Loss: 0.3711, Validation Accuracy: 0.8250, AUC: 0.9040\n",
      "Epoch 130/200, Loss: 0.3709, Validation Accuracy: 0.8250, AUC: 0.9040\n",
      "Epoch 131/200, Loss: 0.3706, Validation Accuracy: 0.8250, AUC: 0.9041\n",
      "Epoch 132/200, Loss: 0.3704, Validation Accuracy: 0.8267, AUC: 0.9040\n",
      "Epoch 133/200, Loss: 0.3701, Validation Accuracy: 0.8267, AUC: 0.9041\n",
      "Epoch 134/200, Loss: 0.3699, Validation Accuracy: 0.8283, AUC: 0.9041\n",
      "Epoch 135/200, Loss: 0.3697, Validation Accuracy: 0.8283, AUC: 0.9041\n",
      "Epoch 136/200, Loss: 0.3694, Validation Accuracy: 0.8283, AUC: 0.9042\n",
      "Epoch 137/200, Loss: 0.3692, Validation Accuracy: 0.8283, AUC: 0.9043\n",
      "Epoch 138/200, Loss: 0.3690, Validation Accuracy: 0.8283, AUC: 0.9043\n",
      "Epoch 139/200, Loss: 0.3688, Validation Accuracy: 0.8283, AUC: 0.9043\n",
      "Epoch 140/200, Loss: 0.3685, Validation Accuracy: 0.8283, AUC: 0.9044\n",
      "Epoch 141/200, Loss: 0.3683, Validation Accuracy: 0.8283, AUC: 0.9044\n",
      "Epoch 142/200, Loss: 0.3681, Validation Accuracy: 0.8267, AUC: 0.9044\n",
      "Epoch 143/200, Loss: 0.3679, Validation Accuracy: 0.8267, AUC: 0.9045\n",
      "Epoch 144/200, Loss: 0.3677, Validation Accuracy: 0.8250, AUC: 0.9046\n",
      "Epoch 145/200, Loss: 0.3675, Validation Accuracy: 0.8250, AUC: 0.9046\n",
      "Epoch 146/200, Loss: 0.3673, Validation Accuracy: 0.8250, AUC: 0.9047\n",
      "Epoch 147/200, Loss: 0.3671, Validation Accuracy: 0.8250, AUC: 0.9047\n",
      "Epoch 148/200, Loss: 0.3669, Validation Accuracy: 0.8250, AUC: 0.9049\n",
      "Epoch 149/200, Loss: 0.3668, Validation Accuracy: 0.8250, AUC: 0.9050\n",
      "Epoch 150/200, Loss: 0.3666, Validation Accuracy: 0.8250, AUC: 0.9051\n",
      "Epoch 151/200, Loss: 0.3664, Validation Accuracy: 0.8250, AUC: 0.9050\n",
      "Epoch 152/200, Loss: 0.3662, Validation Accuracy: 0.8250, AUC: 0.9050\n",
      "Epoch 153/200, Loss: 0.3660, Validation Accuracy: 0.8233, AUC: 0.9050\n",
      "Epoch 154/200, Loss: 0.3659, Validation Accuracy: 0.8233, AUC: 0.9050\n",
      "Epoch 155/200, Loss: 0.3657, Validation Accuracy: 0.8250, AUC: 0.9050\n",
      "Epoch 156/200, Loss: 0.3655, Validation Accuracy: 0.8250, AUC: 0.9051\n",
      "Epoch 157/200, Loss: 0.3654, Validation Accuracy: 0.8233, AUC: 0.9051\n",
      "Epoch 158/200, Loss: 0.3652, Validation Accuracy: 0.8217, AUC: 0.9052\n",
      "Epoch 159/200, Loss: 0.3651, Validation Accuracy: 0.8217, AUC: 0.9053\n",
      "Epoch 160/200, Loss: 0.3649, Validation Accuracy: 0.8217, AUC: 0.9053\n",
      "Epoch 161/200, Loss: 0.3647, Validation Accuracy: 0.8217, AUC: 0.9054\n",
      "Epoch 162/200, Loss: 0.3646, Validation Accuracy: 0.8217, AUC: 0.9054\n",
      "Epoch 163/200, Loss: 0.3645, Validation Accuracy: 0.8217, AUC: 0.9055\n",
      "Epoch 164/200, Loss: 0.3643, Validation Accuracy: 0.8200, AUC: 0.9055\n",
      "Epoch 165/200, Loss: 0.3642, Validation Accuracy: 0.8200, AUC: 0.9055\n",
      "Epoch 166/200, Loss: 0.3640, Validation Accuracy: 0.8217, AUC: 0.9056\n",
      "Epoch 167/200, Loss: 0.3639, Validation Accuracy: 0.8217, AUC: 0.9058\n",
      "Epoch 168/200, Loss: 0.3637, Validation Accuracy: 0.8217, AUC: 0.9058\n",
      "Epoch 169/200, Loss: 0.3636, Validation Accuracy: 0.8217, AUC: 0.9059\n",
      "Epoch 170/200, Loss: 0.3635, Validation Accuracy: 0.8233, AUC: 0.9059\n",
      "Epoch 171/200, Loss: 0.3634, Validation Accuracy: 0.8233, AUC: 0.9059\n",
      "Epoch 172/200, Loss: 0.3632, Validation Accuracy: 0.8233, AUC: 0.9060\n",
      "Epoch 173/200, Loss: 0.3631, Validation Accuracy: 0.8250, AUC: 0.9060\n",
      "Epoch 174/200, Loss: 0.3630, Validation Accuracy: 0.8250, AUC: 0.9061\n",
      "Epoch 175/200, Loss: 0.3629, Validation Accuracy: 0.8250, AUC: 0.9062\n",
      "Epoch 176/200, Loss: 0.3627, Validation Accuracy: 0.8250, AUC: 0.9061\n",
      "Epoch 177/200, Loss: 0.3626, Validation Accuracy: 0.8250, AUC: 0.9061\n",
      "Epoch 178/200, Loss: 0.3625, Validation Accuracy: 0.8250, AUC: 0.9062\n",
      "Epoch 179/200, Loss: 0.3624, Validation Accuracy: 0.8250, AUC: 0.9062\n",
      "Epoch 180/200, Loss: 0.3623, Validation Accuracy: 0.8250, AUC: 0.9063\n",
      "Epoch 181/200, Loss: 0.3622, Validation Accuracy: 0.8250, AUC: 0.9062\n",
      "Epoch 182/200, Loss: 0.3621, Validation Accuracy: 0.8267, AUC: 0.9062\n",
      "Epoch 183/200, Loss: 0.3619, Validation Accuracy: 0.8267, AUC: 0.9062\n",
      "Epoch 184/200, Loss: 0.3618, Validation Accuracy: 0.8267, AUC: 0.9062\n",
      "Epoch 185/200, Loss: 0.3617, Validation Accuracy: 0.8267, AUC: 0.9062\n",
      "Epoch 186/200, Loss: 0.3616, Validation Accuracy: 0.8283, AUC: 0.9062\n",
      "Epoch 187/200, Loss: 0.3615, Validation Accuracy: 0.8283, AUC: 0.9062\n",
      "Epoch 188/200, Loss: 0.3614, Validation Accuracy: 0.8283, AUC: 0.9062\n",
      "Epoch 189/200, Loss: 0.3613, Validation Accuracy: 0.8283, AUC: 0.9062\n",
      "Epoch 190/200, Loss: 0.3612, Validation Accuracy: 0.8283, AUC: 0.9061\n",
      "Epoch 191/200, Loss: 0.3611, Validation Accuracy: 0.8283, AUC: 0.9062\n",
      "Epoch 192/200, Loss: 0.3610, Validation Accuracy: 0.8283, AUC: 0.9062\n",
      "Epoch 193/200, Loss: 0.3610, Validation Accuracy: 0.8283, AUC: 0.9063\n",
      "Epoch 194/200, Loss: 0.3609, Validation Accuracy: 0.8283, AUC: 0.9063\n",
      "Epoch 195/200, Loss: 0.3608, Validation Accuracy: 0.8317, AUC: 0.9063\n",
      "Epoch 196/200, Loss: 0.3607, Validation Accuracy: 0.8317, AUC: 0.9063\n",
      "Epoch 197/200, Loss: 0.3606, Validation Accuracy: 0.8317, AUC: 0.9064\n",
      "Epoch 198/200, Loss: 0.3605, Validation Accuracy: 0.8317, AUC: 0.9063\n",
      "Epoch 199/200, Loss: 0.3604, Validation Accuracy: 0.8317, AUC: 0.9064\n",
      "Epoch 200/200, Loss: 0.3603, Validation Accuracy: 0.8317, AUC: 0.9063\n"
     ]
    },
    {
     "data": {
      "text/html": [
       "<style>\n",
       "    table.wandb td:nth-child(1) { padding: 0 10px; text-align: left ; width: auto;} td:nth-child(2) {text-align: left ; width: 100%}\n",
       "    .wandb-row { display: flex; flex-direction: row; flex-wrap: wrap; justify-content: flex-start; width: 100% }\n",
       "    .wandb-col { display: flex; flex-direction: column; flex-basis: 100%; flex: 1; padding: 10px; }\n",
       "    </style>\n",
       "<div class=\"wandb-row\"><div class=\"wandb-col\"><h3>Run history:</h3><br/><table class=\"wandb\"><tr><td>Final Best Epoch</td><td>▁</td></tr><tr><td>Final Best Val Accuracy</td><td>▁</td></tr><tr><td>best_epoch</td><td>▁▁▁▁▂▂▂▂▂▃▃▃▃▃▃▃▃▃▄▄▄▄▄▄▅▅▆▆▆▆▆▆▆▆▆▆▆▆▆█</td></tr><tr><td>best_val_accuracy</td><td>▁▃▄▅▆▆▇▇▇███████████████████████████████</td></tr><tr><td>roc_auc</td><td>▃▁▆▅▇▇▇▇▇▇██████████████████████████████</td></tr><tr><td>train_loss</td><td>█▇▆▅▄▃▃▃▂▂▂▂▂▂▂▂▂▁▁▁▁▁▁▁▁▁▁▁▁▁▁▁▁▁▁▁▁▁▁▁</td></tr><tr><td>val_accuracy</td><td>▁▁▄▆▆▇▇▇▇█▇█████████████████████████████</td></tr></table><br/></div><div class=\"wandb-col\"><h3>Run summary:</h3><br/><table class=\"wandb\"><tr><td>Final Best Epoch</td><td>195</td></tr><tr><td>Final Best Val Accuracy</td><td>0.83167</td></tr><tr><td>best_epoch</td><td>195</td></tr><tr><td>best_val_accuracy</td><td>0.83167</td></tr><tr><td>roc_auc</td><td>0.90633</td></tr><tr><td>train_loss</td><td>0.36035</td></tr><tr><td>val_accuracy</td><td>0.83167</td></tr></table><br/></div></div>"
      ],
      "text/plain": [
       "<IPython.core.display.HTML object>"
      ]
     },
     "metadata": {},
     "output_type": "display_data"
    },
    {
     "data": {
      "text/html": [
       " View run <strong style=\"color:#cdcd00\">fine-sweep-6</strong> at: <a href='https://wandb.ai/zamtol/uncategorized/runs/gcr25oe1' target=\"_blank\">https://wandb.ai/zamtol/uncategorized/runs/gcr25oe1</a><br/> View project at: <a href='https://wandb.ai/zamtol/uncategorized' target=\"_blank\">https://wandb.ai/zamtol/uncategorized</a><br/>Synced 5 W&B file(s), 200 media file(s), 0 artifact file(s) and 0 other file(s)"
      ],
      "text/plain": [
       "<IPython.core.display.HTML object>"
      ]
     },
     "metadata": {},
     "output_type": "display_data"
    },
    {
     "data": {
      "text/html": [
       "Find logs at: <code>.\\wandb\\run-20240803_151104-gcr25oe1\\logs</code>"
      ],
      "text/plain": [
       "<IPython.core.display.HTML object>"
      ]
     },
     "metadata": {},
     "output_type": "display_data"
    },
    {
     "data": {
      "text/html": [
       "The new W&B backend becomes opt-out in version 0.18.0; try it out with `wandb.require(\"core\")`! See https://wandb.me/wandb-core for more information."
      ],
      "text/plain": [
       "<IPython.core.display.HTML object>"
      ]
     },
     "metadata": {},
     "output_type": "display_data"
    },
    {
     "name": "stderr",
     "output_type": "stream",
     "text": [
      "\u001b[34m\u001b[1mwandb\u001b[0m: Agent Starting Run: hq5nfdv6 with config:\n",
      "\u001b[34m\u001b[1mwandb\u001b[0m: \tarchitecture: RandomForest\n",
      "\u001b[34m\u001b[1mwandb\u001b[0m: \tepochs: 200\n",
      "\u001b[34m\u001b[1mwandb\u001b[0m: \tlearning_rate: 0.5\n",
      "\u001b[34m\u001b[1mwandb\u001b[0m: \tseed: 42\n",
      "\u001b[34m\u001b[1mwandb\u001b[0m: \tweight_decay: 0.0005\n",
      "Failed to detect the name of this notebook, you can set it manually with the WANDB_NOTEBOOK_NAME environment variable to enable code saving.\n"
     ]
    },
    {
     "data": {
      "text/html": [
       "Tracking run with wandb version 0.17.5"
      ],
      "text/plain": [
       "<IPython.core.display.HTML object>"
      ]
     },
     "metadata": {},
     "output_type": "display_data"
    },
    {
     "data": {
      "text/html": [
       "Run data is saved locally in <code>c:\\Users\\ADMIN\\git\\hack\\wandb\\run-20240803_151136-hq5nfdv6</code>"
      ],
      "text/plain": [
       "<IPython.core.display.HTML object>"
      ]
     },
     "metadata": {},
     "output_type": "display_data"
    },
    {
     "data": {
      "text/html": [
       "Syncing run <strong><a href='https://wandb.ai/zamtol/uncategorized/runs/hq5nfdv6' target=\"_blank\">iconic-sweep-7</a></strong> to <a href='https://wandb.ai/zamtol/uncategorized' target=\"_blank\">Weights & Biases</a> (<a href='https://wandb.me/run' target=\"_blank\">docs</a>)<br/>Sweep page: <a href='https://wandb.ai/zamtol/uncategorized/sweeps/y1r7j6mo' target=\"_blank\">https://wandb.ai/zamtol/uncategorized/sweeps/y1r7j6mo</a>"
      ],
      "text/plain": [
       "<IPython.core.display.HTML object>"
      ]
     },
     "metadata": {},
     "output_type": "display_data"
    },
    {
     "data": {
      "text/html": [
       " View project at <a href='https://wandb.ai/zamtol/uncategorized' target=\"_blank\">https://wandb.ai/zamtol/uncategorized</a>"
      ],
      "text/plain": [
       "<IPython.core.display.HTML object>"
      ]
     },
     "metadata": {},
     "output_type": "display_data"
    },
    {
     "data": {
      "text/html": [
       " View sweep at <a href='https://wandb.ai/zamtol/uncategorized/sweeps/y1r7j6mo' target=\"_blank\">https://wandb.ai/zamtol/uncategorized/sweeps/y1r7j6mo</a>"
      ],
      "text/plain": [
       "<IPython.core.display.HTML object>"
      ]
     },
     "metadata": {},
     "output_type": "display_data"
    },
    {
     "data": {
      "text/html": [
       " View run at <a href='https://wandb.ai/zamtol/uncategorized/runs/hq5nfdv6' target=\"_blank\">https://wandb.ai/zamtol/uncategorized/runs/hq5nfdv6</a>"
      ],
      "text/plain": [
       "<IPython.core.display.HTML object>"
      ]
     },
     "metadata": {},
     "output_type": "display_data"
    },
    {
     "name": "stdout",
     "output_type": "stream",
     "text": [
      "Epoch 1/200, Loss: 0.6970, Validation Accuracy: 0.5300, AUC: 0.5000\n",
      "Epoch 2/200, Loss: 280.3904, Validation Accuracy: 0.4700, AUC: 0.5000\n",
      "Epoch 3/200, Loss: 3595.7673, Validation Accuracy: 0.5300, AUC: 0.5000\n",
      "Epoch 4/200, Loss: 305.1496, Validation Accuracy: 0.5333, AUC: 0.6237\n",
      "Epoch 5/200, Loss: 4.3300, Validation Accuracy: 0.4700, AUC: 0.5000\n",
      "Epoch 6/200, Loss: 127.8271, Validation Accuracy: 0.5300, AUC: 0.5000\n",
      "Epoch 7/200, Loss: 2581.8813, Validation Accuracy: 0.5300, AUC: 0.5000\n",
      "Epoch 8/200, Loss: 152.9128, Validation Accuracy: 0.5700, AUC: 0.6734\n",
      "Epoch 9/200, Loss: 0.8207, Validation Accuracy: 0.4700, AUC: 0.5063\n",
      "Epoch 10/200, Loss: 2.1454, Validation Accuracy: 0.4700, AUC: 0.2055\n",
      "Epoch 11/200, Loss: 1.7950, Validation Accuracy: 0.4700, AUC: 0.2023\n",
      "Epoch 12/200, Loss: 1.1006, Validation Accuracy: 0.5300, AUC: 0.4201\n",
      "Epoch 13/200, Loss: 1.7134, Validation Accuracy: 0.5300, AUC: 0.7224\n",
      "Epoch 14/200, Loss: 0.9195, Validation Accuracy: 0.2817, AUC: 0.2150\n",
      "Epoch 15/200, Loss: 1.1188, Validation Accuracy: 0.5267, AUC: 0.3373\n",
      "Epoch 16/200, Loss: 0.7456, Validation Accuracy: 0.4700, AUC: 0.5504\n",
      "Epoch 17/200, Loss: 0.7042, Validation Accuracy: 0.5300, AUC: 0.5000\n",
      "Epoch 18/200, Loss: 0.6880, Validation Accuracy: 0.5300, AUC: 0.5000\n",
      "Epoch 19/200, Loss: 0.6933, Validation Accuracy: 0.4700, AUC: 0.5043\n",
      "Epoch 20/200, Loss: 0.6949, Validation Accuracy: 0.5300, AUC: 0.5000\n",
      "Epoch 21/200, Loss: 0.6882, Validation Accuracy: 0.5300, AUC: 0.5000\n",
      "Epoch 22/200, Loss: 0.6890, Validation Accuracy: 0.5300, AUC: 0.5000\n",
      "Epoch 23/200, Loss: 0.6882, Validation Accuracy: 0.5300, AUC: 0.5000\n",
      "Epoch 24/200, Loss: 0.6897, Validation Accuracy: 0.4700, AUC: 0.5043\n",
      "Epoch 25/200, Loss: 0.7003, Validation Accuracy: 0.5300, AUC: 0.5000\n",
      "Epoch 26/200, Loss: 0.6881, Validation Accuracy: 0.4700, AUC: 0.2876\n",
      "Epoch 27/200, Loss: 3.2243, Validation Accuracy: 0.5300, AUC: 0.4994\n",
      "Epoch 28/200, Loss: 0.7673, Validation Accuracy: 0.5417, AUC: 0.5488\n",
      "Epoch 29/200, Loss: 0.7732, Validation Accuracy: 0.4700, AUC: 0.3661\n",
      "Epoch 30/200, Loss: 42.7498, Validation Accuracy: 0.4700, AUC: 0.1875\n",
      "Epoch 31/200, Loss: 12.8603, Validation Accuracy: 0.5300, AUC: 0.4609\n",
      "Epoch 32/200, Loss: 1.2987, Validation Accuracy: 0.5300, AUC: 0.4170\n",
      "Epoch 33/200, Loss: 1.1957, Validation Accuracy: 0.4700, AUC: 0.2941\n",
      "Epoch 34/200, Loss: 1.1962, Validation Accuracy: 0.5300, AUC: 0.7653\n",
      "Epoch 35/200, Loss: 0.8746, Validation Accuracy: 0.5300, AUC: 0.7900\n",
      "Epoch 36/200, Loss: 1.8424, Validation Accuracy: 0.4700, AUC: 0.2279\n",
      "Epoch 37/200, Loss: 20.2047, Validation Accuracy: 0.5467, AUC: 0.7291\n",
      "Epoch 38/200, Loss: 1.8253, Validation Accuracy: 0.4700, AUC: 0.3320\n",
      "Epoch 39/200, Loss: 3.3408, Validation Accuracy: 0.4700, AUC: 0.5000\n",
      "Epoch 40/200, Loss: 0.8103, Validation Accuracy: 0.5300, AUC: 0.5000\n",
      "Epoch 41/200, Loss: 0.9750, Validation Accuracy: 0.5300, AUC: 0.5000\n",
      "Epoch 42/200, Loss: 1.0544, Validation Accuracy: 0.5300, AUC: 0.5089\n",
      "Epoch 43/200, Loss: 1.0430, Validation Accuracy: 0.5300, AUC: 0.5043\n",
      "Epoch 44/200, Loss: 0.9662, Validation Accuracy: 0.5300, AUC: 0.5000\n",
      "Epoch 45/200, Loss: 0.7959, Validation Accuracy: 0.5300, AUC: 0.5000\n",
      "Epoch 46/200, Loss: 0.7339, Validation Accuracy: 0.4700, AUC: 0.5000\n",
      "Epoch 47/200, Loss: 0.7922, Validation Accuracy: 0.4700, AUC: 0.4957\n",
      "Epoch 48/200, Loss: 0.7966, Validation Accuracy: 0.4700, AUC: 0.5000\n",
      "Epoch 49/200, Loss: 0.7624, Validation Accuracy: 0.5300, AUC: 0.6215\n",
      "Epoch 50/200, Loss: 0.6803, Validation Accuracy: 0.4700, AUC: 0.5000\n",
      "Epoch 51/200, Loss: 586.6953, Validation Accuracy: 0.5300, AUC: 0.5000\n",
      "Epoch 52/200, Loss: 18.6756, Validation Accuracy: 0.4700, AUC: 0.2827\n",
      "Epoch 53/200, Loss: 23.2852, Validation Accuracy: 0.5300, AUC: 0.7663\n",
      "Epoch 54/200, Loss: 2.3134, Validation Accuracy: 0.4700, AUC: 0.2328\n",
      "Epoch 55/200, Loss: 20.1862, Validation Accuracy: 0.5300, AUC: 0.6133\n",
      "Epoch 56/200, Loss: 0.7092, Validation Accuracy: 0.5300, AUC: 0.5000\n",
      "Epoch 57/200, Loss: 23.4142, Validation Accuracy: 0.5300, AUC: 0.5000\n",
      "Epoch 58/200, Loss: 0.6905, Validation Accuracy: 0.4700, AUC: 0.4957\n",
      "Epoch 59/200, Loss: 1.6872, Validation Accuracy: 0.4700, AUC: 0.5000\n",
      "Epoch 60/200, Loss: 0.8500, Validation Accuracy: 0.5300, AUC: 0.7695\n",
      "Epoch 61/200, Loss: 4.0025, Validation Accuracy: 0.4700, AUC: 0.5000\n",
      "Epoch 62/200, Loss: 1.0189, Validation Accuracy: 0.4700, AUC: 0.5000\n",
      "Epoch 63/200, Loss: 0.7552, Validation Accuracy: 0.5300, AUC: 0.6933\n",
      "Epoch 64/200, Loss: 1.4883, Validation Accuracy: 0.4700, AUC: 0.4957\n",
      "Epoch 65/200, Loss: 0.7301, Validation Accuracy: 0.4700, AUC: 0.5043\n",
      "Epoch 66/200, Loss: 0.7887, Validation Accuracy: 0.5300, AUC: 0.5000\n",
      "Epoch 67/200, Loss: 1.6365, Validation Accuracy: 0.4700, AUC: 0.5179\n",
      "Epoch 68/200, Loss: 1.0985, Validation Accuracy: 0.5300, AUC: 0.4504\n",
      "Epoch 69/200, Loss: 1.0578, Validation Accuracy: 0.5300, AUC: 0.5000\n",
      "Epoch 70/200, Loss: 0.6940, Validation Accuracy: 0.4700, AUC: 0.4957\n",
      "Epoch 71/200, Loss: 1.1011, Validation Accuracy: 0.5300, AUC: 0.5047\n",
      "Epoch 72/200, Loss: 5.3409, Validation Accuracy: 0.5300, AUC: 0.5000\n",
      "Epoch 73/200, Loss: 34.6505, Validation Accuracy: 0.4700, AUC: 0.5000\n",
      "Epoch 74/200, Loss: 2.6853, Validation Accuracy: 0.4700, AUC: 0.5043\n",
      "Epoch 75/200, Loss: 2.1877, Validation Accuracy: 0.4700, AUC: 0.5043\n",
      "Epoch 76/200, Loss: 0.7117, Validation Accuracy: 0.5300, AUC: 0.5454\n",
      "Epoch 77/200, Loss: 2.3288, Validation Accuracy: 0.5300, AUC: 0.6190\n",
      "Epoch 78/200, Loss: 1.7053, Validation Accuracy: 0.5300, AUC: 0.7515\n",
      "Epoch 79/200, Loss: 1.4200, Validation Accuracy: 0.5300, AUC: 0.5000\n",
      "Epoch 80/200, Loss: 0.7135, Validation Accuracy: 0.4700, AUC: 0.7746\n",
      "Epoch 81/200, Loss: 1.0856, Validation Accuracy: 0.5300, AUC: 0.5000\n",
      "Epoch 82/200, Loss: 359.6739, Validation Accuracy: 0.4700, AUC: 0.2306\n",
      "Epoch 83/200, Loss: 16.2946, Validation Accuracy: 0.5300, AUC: 0.5000\n",
      "Epoch 84/200, Loss: 32.4338, Validation Accuracy: 0.4700, AUC: 0.3332\n",
      "Epoch 85/200, Loss: 2.2290, Validation Accuracy: 0.4700, AUC: 0.4515\n",
      "Epoch 86/200, Loss: 1.6851, Validation Accuracy: 0.4700, AUC: 0.4446\n",
      "Epoch 87/200, Loss: 1.4754, Validation Accuracy: 0.5300, AUC: 0.5000\n",
      "Epoch 88/200, Loss: 1.5998, Validation Accuracy: 0.5300, AUC: 0.5000\n",
      "Epoch 89/200, Loss: 1.3655, Validation Accuracy: 0.5300, AUC: 0.5564\n",
      "Epoch 90/200, Loss: 0.8636, Validation Accuracy: 0.4700, AUC: 0.5000\n",
      "Epoch 91/200, Loss: 1.6670, Validation Accuracy: 0.4700, AUC: 0.5043\n",
      "Epoch 92/200, Loss: 1.1957, Validation Accuracy: 0.5300, AUC: 0.5000\n",
      "Epoch 93/200, Loss: 0.7198, Validation Accuracy: 0.5300, AUC: 0.5000\n",
      "Epoch 94/200, Loss: 0.9654, Validation Accuracy: 0.5300, AUC: 0.4733\n",
      "Epoch 95/200, Loss: 0.7102, Validation Accuracy: 0.5300, AUC: 0.5308\n",
      "Epoch 96/200, Loss: 9.9980, Validation Accuracy: 0.4700, AUC: 0.2566\n",
      "Epoch 97/200, Loss: 17.0947, Validation Accuracy: 0.5300, AUC: 0.5000\n",
      "Epoch 98/200, Loss: 291.4905, Validation Accuracy: 0.4700, AUC: 0.5000\n",
      "Epoch 99/200, Loss: 2.0084, Validation Accuracy: 0.4700, AUC: 0.8848\n",
      "Epoch 100/200, Loss: 1.1835, Validation Accuracy: 0.5300, AUC: 0.5000\n",
      "Epoch 101/200, Loss: 238.3500, Validation Accuracy: 0.5300, AUC: 0.5018\n",
      "Epoch 102/200, Loss: 0.8139, Validation Accuracy: 0.4700, AUC: 0.5000\n",
      "Epoch 103/200, Loss: 1.7692, Validation Accuracy: 0.5300, AUC: 0.5000\n",
      "Epoch 104/200, Loss: 0.7758, Validation Accuracy: 0.4700, AUC: 0.4957\n",
      "Epoch 105/200, Loss: 2.8936, Validation Accuracy: 0.5300, AUC: 0.5000\n",
      "Epoch 106/200, Loss: 1.9610, Validation Accuracy: 0.5300, AUC: 0.4131\n",
      "Epoch 107/200, Loss: 9.6789, Validation Accuracy: 0.4700, AUC: 0.4957\n",
      "Epoch 108/200, Loss: 0.7427, Validation Accuracy: 0.4700, AUC: 0.5043\n",
      "Epoch 109/200, Loss: 0.8577, Validation Accuracy: 0.5300, AUC: 0.5000\n",
      "Epoch 110/200, Loss: 0.9089, Validation Accuracy: 0.5300, AUC: 0.5000\n",
      "Epoch 111/200, Loss: 0.8592, Validation Accuracy: 0.5300, AUC: 0.5000\n",
      "Epoch 112/200, Loss: 0.7082, Validation Accuracy: 0.4700, AUC: 0.5000\n",
      "Epoch 113/200, Loss: 0.7208, Validation Accuracy: 0.4700, AUC: 0.5000\n",
      "Epoch 114/200, Loss: 0.7544, Validation Accuracy: 0.4700, AUC: 0.4957\n",
      "Epoch 115/200, Loss: 0.7648, Validation Accuracy: 0.4700, AUC: 0.5043\n",
      "Epoch 116/200, Loss: 0.6971, Validation Accuracy: 0.4700, AUC: 0.5043\n",
      "Epoch 117/200, Loss: 0.7163, Validation Accuracy: 0.5300, AUC: 0.4957\n",
      "Epoch 118/200, Loss: 0.6905, Validation Accuracy: 0.5300, AUC: 0.5000\n",
      "Epoch 119/200, Loss: 0.6880, Validation Accuracy: 0.5300, AUC: 0.4984\n",
      "Epoch 120/200, Loss: 0.6944, Validation Accuracy: 0.5300, AUC: 0.4765\n",
      "Epoch 121/200, Loss: 1.2977, Validation Accuracy: 0.5300, AUC: 0.4957\n",
      "Epoch 122/200, Loss: 0.6923, Validation Accuracy: 0.3817, AUC: 0.2283\n",
      "Epoch 123/200, Loss: 0.7163, Validation Accuracy: 0.5300, AUC: 0.5043\n",
      "Epoch 124/200, Loss: 0.6894, Validation Accuracy: 0.5300, AUC: 0.5000\n",
      "Epoch 125/200, Loss: 0.6896, Validation Accuracy: 0.5300, AUC: 0.5446\n",
      "Epoch 126/200, Loss: 0.6888, Validation Accuracy: 0.5300, AUC: 0.6803\n",
      "Epoch 127/200, Loss: 0.6920, Validation Accuracy: 0.5300, AUC: 0.8402\n",
      "Epoch 128/200, Loss: 1.2412, Validation Accuracy: 0.4700, AUC: 0.4957\n",
      "Epoch 129/200, Loss: 7.7798, Validation Accuracy: 0.4700, AUC: 0.6316\n",
      "Epoch 130/200, Loss: 0.8692, Validation Accuracy: 0.5300, AUC: 0.5000\n",
      "Epoch 131/200, Loss: 8.5209, Validation Accuracy: 0.4700, AUC: 0.5059\n",
      "Epoch 132/200, Loss: 16.7289, Validation Accuracy: 0.4700, AUC: 0.6569\n",
      "Epoch 133/200, Loss: 2.2914, Validation Accuracy: 0.5300, AUC: 0.2320\n",
      "Epoch 134/200, Loss: 2.6610, Validation Accuracy: 0.5183, AUC: 0.2245\n",
      "Epoch 135/200, Loss: 1.1016, Validation Accuracy: 0.4700, AUC: 0.5000\n",
      "Epoch 136/200, Loss: 329.2092, Validation Accuracy: 0.5300, AUC: 0.2290\n",
      "Epoch 137/200, Loss: 1.4451, Validation Accuracy: 0.5300, AUC: 0.5000\n",
      "Epoch 138/200, Loss: 3.3091, Validation Accuracy: 0.5300, AUC: 0.6287\n",
      "Epoch 139/200, Loss: 2.4028, Validation Accuracy: 0.5300, AUC: 0.5000\n",
      "Epoch 140/200, Loss: 1.4217, Validation Accuracy: 0.5300, AUC: 0.5000\n",
      "Epoch 141/200, Loss: 0.7598, Validation Accuracy: 0.4700, AUC: 0.5000\n",
      "Epoch 142/200, Loss: 2.1730, Validation Accuracy: 0.4700, AUC: 0.5000\n",
      "Epoch 143/200, Loss: 1.0128, Validation Accuracy: 0.4700, AUC: 0.5043\n",
      "Epoch 144/200, Loss: 1.0794, Validation Accuracy: 0.4700, AUC: 0.4957\n",
      "Epoch 145/200, Loss: 0.9759, Validation Accuracy: 0.4700, AUC: 0.5000\n",
      "Epoch 146/200, Loss: 0.7967, Validation Accuracy: 0.5300, AUC: 0.5000\n",
      "Epoch 147/200, Loss: 0.6896, Validation Accuracy: 0.5300, AUC: 0.5000\n",
      "Epoch 148/200, Loss: 0.7125, Validation Accuracy: 0.5300, AUC: 0.5000\n",
      "Epoch 149/200, Loss: 0.7767, Validation Accuracy: 0.4700, AUC: 0.2275\n",
      "Epoch 150/200, Loss: 2.2523, Validation Accuracy: 0.5300, AUC: 0.5043\n",
      "Epoch 151/200, Loss: 0.9894, Validation Accuracy: 0.5300, AUC: 0.2543\n",
      "Epoch 152/200, Loss: 1.0804, Validation Accuracy: 0.4700, AUC: 0.2276\n",
      "Epoch 153/200, Loss: 18.9385, Validation Accuracy: 0.5300, AUC: 0.5043\n",
      "Epoch 154/200, Loss: 1.2109, Validation Accuracy: 0.5300, AUC: 0.5000\n",
      "Epoch 155/200, Loss: 1.2387, Validation Accuracy: 0.5300, AUC: 0.5000\n",
      "Epoch 156/200, Loss: 1.1454, Validation Accuracy: 0.5300, AUC: 0.5043\n",
      "Epoch 157/200, Loss: 0.9295, Validation Accuracy: 0.5300, AUC: 0.4957\n",
      "Epoch 158/200, Loss: 0.7407, Validation Accuracy: 0.5300, AUC: 0.5000\n",
      "Epoch 159/200, Loss: 0.6901, Validation Accuracy: 0.4700, AUC: 0.5043\n",
      "Epoch 160/200, Loss: 0.7699, Validation Accuracy: 0.4700, AUC: 0.5000\n",
      "Epoch 161/200, Loss: 0.8572, Validation Accuracy: 0.4700, AUC: 0.5000\n",
      "Epoch 162/200, Loss: 0.8594, Validation Accuracy: 0.4700, AUC: 0.5000\n",
      "Epoch 163/200, Loss: 0.7790, Validation Accuracy: 0.5300, AUC: 0.5000\n",
      "Epoch 164/200, Loss: 0.6930, Validation Accuracy: 0.5300, AUC: 0.4992\n",
      "Epoch 165/200, Loss: 0.7563, Validation Accuracy: 0.5300, AUC: 0.5000\n",
      "Epoch 166/200, Loss: 0.6952, Validation Accuracy: 0.5300, AUC: 0.5000\n",
      "Epoch 167/200, Loss: 0.6964, Validation Accuracy: 0.5300, AUC: 0.5000\n",
      "Epoch 168/200, Loss: 0.7007, Validation Accuracy: 0.4700, AUC: 0.5284\n",
      "Epoch 169/200, Loss: 1.2896, Validation Accuracy: 0.5300, AUC: 0.5000\n",
      "Epoch 170/200, Loss: 0.7351, Validation Accuracy: 0.5300, AUC: 0.5008\n",
      "Epoch 171/200, Loss: 0.7619, Validation Accuracy: 0.5300, AUC: 0.5000\n",
      "Epoch 172/200, Loss: 0.7638, Validation Accuracy: 0.5300, AUC: 0.5000\n",
      "Epoch 173/200, Loss: 0.7421, Validation Accuracy: 0.5300, AUC: 0.5000\n",
      "Epoch 174/200, Loss: 0.7117, Validation Accuracy: 0.5300, AUC: 0.5000\n",
      "Epoch 175/200, Loss: 0.6891, Validation Accuracy: 0.4700, AUC: 0.5000\n",
      "Epoch 176/200, Loss: 0.6935, Validation Accuracy: 0.4700, AUC: 0.5000\n",
      "Epoch 177/200, Loss: 0.6977, Validation Accuracy: 0.5300, AUC: 0.4957\n",
      "Epoch 178/200, Loss: 0.6893, Validation Accuracy: 0.5300, AUC: 0.5000\n",
      "Epoch 179/200, Loss: 0.6898, Validation Accuracy: 0.5300, AUC: 0.5000\n",
      "Epoch 180/200, Loss: 0.6939, Validation Accuracy: 0.5300, AUC: 0.4949\n",
      "Epoch 181/200, Loss: 0.6893, Validation Accuracy: 0.5300, AUC: 0.5000\n",
      "Epoch 182/200, Loss: 0.6886, Validation Accuracy: 0.5300, AUC: 0.4957\n",
      "Epoch 183/200, Loss: 0.6926, Validation Accuracy: 0.5300, AUC: 0.5043\n",
      "Epoch 184/200, Loss: 0.6909, Validation Accuracy: 0.5300, AUC: 0.5000\n",
      "Epoch 185/200, Loss: 0.6878, Validation Accuracy: 0.5300, AUC: 0.5000\n",
      "Epoch 186/200, Loss: 0.6899, Validation Accuracy: 0.5300, AUC: 0.5000\n",
      "Epoch 187/200, Loss: 0.6901, Validation Accuracy: 0.5300, AUC: 0.4957\n",
      "Epoch 188/200, Loss: 0.6880, Validation Accuracy: 0.5300, AUC: 0.5000\n",
      "Epoch 189/200, Loss: 0.6885, Validation Accuracy: 0.5300, AUC: 0.5000\n",
      "Epoch 190/200, Loss: 0.6901, Validation Accuracy: 0.5300, AUC: 0.4957\n",
      "Epoch 191/200, Loss: 0.6890, Validation Accuracy: 0.5300, AUC: 0.5000\n",
      "Epoch 192/200, Loss: 0.6878, Validation Accuracy: 0.5300, AUC: 0.5043\n",
      "Epoch 193/200, Loss: 0.6886, Validation Accuracy: 0.5300, AUC: 0.5043\n",
      "Epoch 194/200, Loss: 0.6889, Validation Accuracy: 0.5300, AUC: 0.5000\n",
      "Epoch 195/200, Loss: 0.6878, Validation Accuracy: 0.5300, AUC: 0.5043\n",
      "Epoch 196/200, Loss: 0.6882, Validation Accuracy: 0.5300, AUC: 0.5000\n",
      "Epoch 197/200, Loss: 0.6890, Validation Accuracy: 0.5300, AUC: 0.4957\n",
      "Epoch 198/200, Loss: 0.6880, Validation Accuracy: 0.5300, AUC: 0.5000\n",
      "Epoch 199/200, Loss: 0.6882, Validation Accuracy: 0.5300, AUC: 0.5000\n",
      "Epoch 200/200, Loss: 0.6879, Validation Accuracy: 0.5300, AUC: 0.5000\n"
     ]
    },
    {
     "data": {
      "text/html": [
       "<style>\n",
       "    table.wandb td:nth-child(1) { padding: 0 10px; text-align: left ; width: auto;} td:nth-child(2) {text-align: left ; width: 100%}\n",
       "    .wandb-row { display: flex; flex-direction: row; flex-wrap: wrap; justify-content: flex-start; width: 100% }\n",
       "    .wandb-col { display: flex; flex-direction: column; flex-basis: 100%; flex: 1; padding: 10px; }\n",
       "    </style>\n",
       "<div class=\"wandb-row\"><div class=\"wandb-col\"><h3>Run history:</h3><br/><table class=\"wandb\"><tr><td>Final Best Epoch</td><td>▁</td></tr><tr><td>Final Best Val Accuracy</td><td>▁</td></tr><tr><td>best_epoch</td><td>▁▄██████████████████████████████████████</td></tr><tr><td>best_val_accuracy</td><td>▁▂██████████████████████████████████████</td></tr><tr><td>roc_auc</td><td>▅▅▄▅▅▂▄▁▅▅▂▅▅▄▅█▁▅▅▅▅▅▅▅▁▅▁▆▅▅▅▅▅▅▅▅▅▅▅▅</td></tr><tr><td>train_loss</td><td>▆▃▁▁▁▁▁▁▁▁▁▁▁▁▁▁█▁▁▇▁▁▁▁▁▁▁▁▁▁▁▁▁▁▁▁▁▁▁▁</td></tr><tr><td>val_accuracy</td><td>▅██▅█▅█▅█▅▅█▅███▅██▅▅▅▅█▁▅▇█▅████▅██████</td></tr></table><br/></div><div class=\"wandb-col\"><h3>Run summary:</h3><br/><table class=\"wandb\"><tr><td>Final Best Epoch</td><td>8</td></tr><tr><td>Final Best Val Accuracy</td><td>0.57</td></tr><tr><td>best_epoch</td><td>8</td></tr><tr><td>best_val_accuracy</td><td>0.57</td></tr><tr><td>roc_auc</td><td>0.5</td></tr><tr><td>train_loss</td><td>0.68793</td></tr><tr><td>val_accuracy</td><td>0.53</td></tr></table><br/></div></div>"
      ],
      "text/plain": [
       "<IPython.core.display.HTML object>"
      ]
     },
     "metadata": {},
     "output_type": "display_data"
    },
    {
     "data": {
      "text/html": [
       " View run <strong style=\"color:#cdcd00\">iconic-sweep-7</strong> at: <a href='https://wandb.ai/zamtol/uncategorized/runs/hq5nfdv6' target=\"_blank\">https://wandb.ai/zamtol/uncategorized/runs/hq5nfdv6</a><br/> View project at: <a href='https://wandb.ai/zamtol/uncategorized' target=\"_blank\">https://wandb.ai/zamtol/uncategorized</a><br/>Synced 5 W&B file(s), 199 media file(s), 0 artifact file(s) and 0 other file(s)"
      ],
      "text/plain": [
       "<IPython.core.display.HTML object>"
      ]
     },
     "metadata": {},
     "output_type": "display_data"
    },
    {
     "data": {
      "text/html": [
       "Find logs at: <code>.\\wandb\\run-20240803_151136-hq5nfdv6\\logs</code>"
      ],
      "text/plain": [
       "<IPython.core.display.HTML object>"
      ]
     },
     "metadata": {},
     "output_type": "display_data"
    },
    {
     "data": {
      "text/html": [
       "The new W&B backend becomes opt-out in version 0.18.0; try it out with `wandb.require(\"core\")`! See https://wandb.me/wandb-core for more information."
      ],
      "text/plain": [
       "<IPython.core.display.HTML object>"
      ]
     },
     "metadata": {},
     "output_type": "display_data"
    },
    {
     "name": "stderr",
     "output_type": "stream",
     "text": [
      "\u001b[34m\u001b[1mwandb\u001b[0m: Sweep Agent: Waiting for job.\n",
      "\u001b[34m\u001b[1mwandb\u001b[0m: Job received.\n",
      "\u001b[34m\u001b[1mwandb\u001b[0m: Agent Starting Run: dyc7jryh with config:\n",
      "\u001b[34m\u001b[1mwandb\u001b[0m: \tarchitecture: RandomForest\n",
      "\u001b[34m\u001b[1mwandb\u001b[0m: \tepochs: 200\n",
      "\u001b[34m\u001b[1mwandb\u001b[0m: \tlearning_rate: 0.5\n",
      "\u001b[34m\u001b[1mwandb\u001b[0m: \tseed: 42\n",
      "\u001b[34m\u001b[1mwandb\u001b[0m: \tweight_decay: 0.0001\n",
      "Failed to detect the name of this notebook, you can set it manually with the WANDB_NOTEBOOK_NAME environment variable to enable code saving.\n"
     ]
    },
    {
     "data": {
      "text/html": [
       "Tracking run with wandb version 0.17.5"
      ],
      "text/plain": [
       "<IPython.core.display.HTML object>"
      ]
     },
     "metadata": {},
     "output_type": "display_data"
    },
    {
     "data": {
      "text/html": [
       "Run data is saved locally in <code>c:\\Users\\ADMIN\\git\\hack\\wandb\\run-20240803_151221-dyc7jryh</code>"
      ],
      "text/plain": [
       "<IPython.core.display.HTML object>"
      ]
     },
     "metadata": {},
     "output_type": "display_data"
    },
    {
     "data": {
      "text/html": [
       "Syncing run <strong><a href='https://wandb.ai/zamtol/uncategorized/runs/dyc7jryh' target=\"_blank\">stellar-sweep-8</a></strong> to <a href='https://wandb.ai/zamtol/uncategorized' target=\"_blank\">Weights & Biases</a> (<a href='https://wandb.me/run' target=\"_blank\">docs</a>)<br/>Sweep page: <a href='https://wandb.ai/zamtol/uncategorized/sweeps/y1r7j6mo' target=\"_blank\">https://wandb.ai/zamtol/uncategorized/sweeps/y1r7j6mo</a>"
      ],
      "text/plain": [
       "<IPython.core.display.HTML object>"
      ]
     },
     "metadata": {},
     "output_type": "display_data"
    },
    {
     "data": {
      "text/html": [
       " View project at <a href='https://wandb.ai/zamtol/uncategorized' target=\"_blank\">https://wandb.ai/zamtol/uncategorized</a>"
      ],
      "text/plain": [
       "<IPython.core.display.HTML object>"
      ]
     },
     "metadata": {},
     "output_type": "display_data"
    },
    {
     "data": {
      "text/html": [
       " View sweep at <a href='https://wandb.ai/zamtol/uncategorized/sweeps/y1r7j6mo' target=\"_blank\">https://wandb.ai/zamtol/uncategorized/sweeps/y1r7j6mo</a>"
      ],
      "text/plain": [
       "<IPython.core.display.HTML object>"
      ]
     },
     "metadata": {},
     "output_type": "display_data"
    },
    {
     "data": {
      "text/html": [
       " View run at <a href='https://wandb.ai/zamtol/uncategorized/runs/dyc7jryh' target=\"_blank\">https://wandb.ai/zamtol/uncategorized/runs/dyc7jryh</a>"
      ],
      "text/plain": [
       "<IPython.core.display.HTML object>"
      ]
     },
     "metadata": {},
     "output_type": "display_data"
    },
    {
     "name": "stdout",
     "output_type": "stream",
     "text": [
      "Epoch 1/200, Loss: 0.6901, Validation Accuracy: 0.5300, AUC: 0.5000\n",
      "Epoch 2/200, Loss: 1679.8802, Validation Accuracy: 0.4700, AUC: 0.5000\n",
      "Epoch 3/200, Loss: 8374.9297, Validation Accuracy: 0.5300, AUC: 0.5000\n",
      "Epoch 4/200, Loss: 43.3045, Validation Accuracy: 0.4700, AUC: 0.5000\n",
      "Epoch 5/200, Loss: 1722.6357, Validation Accuracy: 0.5300, AUC: 0.5000\n",
      "Epoch 6/200, Loss: 1183.8209, Validation Accuracy: 0.5300, AUC: 0.5000\n",
      "Epoch 7/200, Loss: 31.5482, Validation Accuracy: 0.4700, AUC: 0.5000\n",
      "Epoch 8/200, Loss: 680.1323, Validation Accuracy: 0.4700, AUC: 0.3222\n",
      "Epoch 9/200, Loss: 40.0696, Validation Accuracy: 0.5300, AUC: 0.5000\n",
      "Epoch 10/200, Loss: 291.9463, Validation Accuracy: 0.4700, AUC: 0.4646\n",
      "Epoch 11/200, Loss: 78.1983, Validation Accuracy: 0.5300, AUC: 0.5000\n",
      "Epoch 12/200, Loss: 31.9389, Validation Accuracy: 0.4700, AUC: 0.6777\n",
      "Epoch 13/200, Loss: 57.6220, Validation Accuracy: 0.5300, AUC: 0.5000\n",
      "Epoch 14/200, Loss: 10.6498, Validation Accuracy: 0.5300, AUC: 0.5000\n",
      "Epoch 15/200, Loss: 8.7199, Validation Accuracy: 0.4700, AUC: 0.2390\n",
      "Epoch 16/200, Loss: 16.7100, Validation Accuracy: 0.5300, AUC: 0.2378\n",
      "Epoch 17/200, Loss: 5.3751, Validation Accuracy: 0.5300, AUC: 0.3953\n",
      "Epoch 18/200, Loss: 4.5588, Validation Accuracy: 0.5250, AUC: 0.4590\n",
      "Epoch 19/200, Loss: 0.6906, Validation Accuracy: 0.4700, AUC: 0.5043\n",
      "Epoch 20/200, Loss: 4.9840, Validation Accuracy: 0.4700, AUC: 0.4957\n",
      "Epoch 21/200, Loss: 4.2563, Validation Accuracy: 0.5300, AUC: 0.4957\n",
      "Epoch 22/200, Loss: 0.6878, Validation Accuracy: 0.5300, AUC: 0.5000\n",
      "Epoch 23/200, Loss: 3.3259, Validation Accuracy: 0.5300, AUC: 0.5000\n",
      "Epoch 24/200, Loss: 2.3217, Validation Accuracy: 0.5300, AUC: 0.5043\n",
      "Epoch 25/200, Loss: 0.6898, Validation Accuracy: 0.5300, AUC: 0.5000\n",
      "Epoch 26/200, Loss: 0.7420, Validation Accuracy: 0.4700, AUC: 0.5043\n",
      "Epoch 27/200, Loss: 0.8529, Validation Accuracy: 0.5300, AUC: 0.5000\n",
      "Epoch 28/200, Loss: 1.8373, Validation Accuracy: 0.4700, AUC: 0.4957\n",
      "Epoch 29/200, Loss: 0.6999, Validation Accuracy: 0.4700, AUC: 0.5042\n",
      "Epoch 30/200, Loss: 1.3881, Validation Accuracy: 0.5300, AUC: 0.5000\n",
      "Epoch 31/200, Loss: 1.4060, Validation Accuracy: 0.5300, AUC: 0.5043\n",
      "Epoch 32/200, Loss: 0.7553, Validation Accuracy: 0.4700, AUC: 0.4957\n",
      "Epoch 33/200, Loss: 1.9127, Validation Accuracy: 0.4700, AUC: 0.5000\n",
      "Epoch 34/200, Loss: 0.7199, Validation Accuracy: 0.5300, AUC: 0.5000\n",
      "Epoch 35/200, Loss: 2.0406, Validation Accuracy: 0.5300, AUC: 0.5043\n",
      "Epoch 36/200, Loss: 1.0637, Validation Accuracy: 0.4700, AUC: 0.5043\n",
      "Epoch 37/200, Loss: 3.2500, Validation Accuracy: 0.4700, AUC: 0.5043\n",
      "Epoch 38/200, Loss: 2.0111, Validation Accuracy: 0.5300, AUC: 0.5000\n",
      "Epoch 39/200, Loss: 1.3579, Validation Accuracy: 0.5300, AUC: 0.5000\n",
      "Epoch 40/200, Loss: 1.6550, Validation Accuracy: 0.4700, AUC: 0.4957\n",
      "Epoch 41/200, Loss: 0.7381, Validation Accuracy: 0.5300, AUC: 0.5000\n",
      "Epoch 42/200, Loss: 1.4535, Validation Accuracy: 0.4700, AUC: 0.5000\n",
      "Epoch 43/200, Loss: 4.1906, Validation Accuracy: 0.4700, AUC: 0.5008\n",
      "Epoch 44/200, Loss: 3.6993, Validation Accuracy: 0.4700, AUC: 0.5043\n",
      "Epoch 45/200, Loss: 1.0825, Validation Accuracy: 0.5300, AUC: 0.5000\n",
      "Epoch 46/200, Loss: 2.6151, Validation Accuracy: 0.5300, AUC: 0.5000\n",
      "Epoch 47/200, Loss: 3.9561, Validation Accuracy: 0.5300, AUC: 0.5000\n",
      "Epoch 48/200, Loss: 3.4266, Validation Accuracy: 0.5300, AUC: 0.5043\n",
      "Epoch 49/200, Loss: 1.5395, Validation Accuracy: 0.4700, AUC: 0.5043\n",
      "Epoch 50/200, Loss: 1.3381, Validation Accuracy: 0.4700, AUC: 0.5042\n",
      "Epoch 51/200, Loss: 2.3925, Validation Accuracy: 0.4700, AUC: 0.5059\n",
      "Epoch 52/200, Loss: 1.8321, Validation Accuracy: 0.5300, AUC: 0.5059\n",
      "Epoch 53/200, Loss: 0.6883, Validation Accuracy: 0.5300, AUC: 0.5016\n",
      "Epoch 54/200, Loss: 1.4498, Validation Accuracy: 0.5300, AUC: 0.5016\n",
      "Epoch 55/200, Loss: 1.7172, Validation Accuracy: 0.5300, AUC: 0.5016\n",
      "Epoch 56/200, Loss: 0.9591, Validation Accuracy: 0.4717, AUC: 0.4890\n",
      "Epoch 57/200, Loss: 0.7941, Validation Accuracy: 0.4717, AUC: 0.5016\n",
      "Epoch 58/200, Loss: 1.1629, Validation Accuracy: 0.4717, AUC: 0.4973\n",
      "Epoch 59/200, Loss: 0.8806, Validation Accuracy: 0.5300, AUC: 0.4972\n",
      "Epoch 60/200, Loss: 0.7139, Validation Accuracy: 0.5300, AUC: 0.5016\n",
      "Epoch 61/200, Loss: 0.9484, Validation Accuracy: 0.5300, AUC: 0.4972\n",
      "Epoch 62/200, Loss: 0.8739, Validation Accuracy: 0.5300, AUC: 0.5016\n",
      "Epoch 63/200, Loss: 0.6895, Validation Accuracy: 0.4717, AUC: 0.4972\n",
      "Epoch 64/200, Loss: 0.8631, Validation Accuracy: 0.4717, AUC: 0.4972\n",
      "Epoch 65/200, Loss: 0.7650, Validation Accuracy: 0.5300, AUC: 0.4972\n",
      "Epoch 66/200, Loss: 0.7111, Validation Accuracy: 0.5300, AUC: 0.5016\n",
      "Epoch 67/200, Loss: 0.7418, Validation Accuracy: 0.5300, AUC: 0.5016\n",
      "Epoch 68/200, Loss: 0.6938, Validation Accuracy: 0.4717, AUC: 0.5059\n",
      "Epoch 69/200, Loss: 0.7000, Validation Accuracy: 0.4700, AUC: 0.5016\n",
      "Epoch 70/200, Loss: 0.7135, Validation Accuracy: 0.5283, AUC: 0.4984\n",
      "Epoch 71/200, Loss: 0.6900, Validation Accuracy: 0.5283, AUC: 0.4984\n",
      "Epoch 72/200, Loss: 0.6894, Validation Accuracy: 0.5283, AUC: 0.4984\n",
      "Epoch 73/200, Loss: 0.7003, Validation Accuracy: 0.5283, AUC: 0.4984\n",
      "Epoch 74/200, Loss: 0.6990, Validation Accuracy: 0.5283, AUC: 0.4941\n",
      "Epoch 75/200, Loss: 0.6893, Validation Accuracy: 0.5283, AUC: 0.4984\n",
      "Epoch 76/200, Loss: 0.6898, Validation Accuracy: 0.4700, AUC: 0.4984\n",
      "Epoch 77/200, Loss: 0.6959, Validation Accuracy: 0.5283, AUC: 0.4941\n",
      "Epoch 78/200, Loss: 0.6890, Validation Accuracy: 0.5283, AUC: 0.4984\n",
      "Epoch 79/200, Loss: 0.7305, Validation Accuracy: 0.4700, AUC: 0.4984\n",
      "Epoch 80/200, Loss: 0.7001, Validation Accuracy: 0.4700, AUC: 0.5028\n",
      "Epoch 81/200, Loss: 0.7114, Validation Accuracy: 0.5283, AUC: 0.4984\n",
      "Epoch 82/200, Loss: 0.6879, Validation Accuracy: 0.5283, AUC: 0.5028\n",
      "Epoch 83/200, Loss: 0.7049, Validation Accuracy: 0.5283, AUC: 0.4984\n",
      "Epoch 84/200, Loss: 0.6929, Validation Accuracy: 0.4700, AUC: 0.4984\n",
      "Epoch 85/200, Loss: 0.7039, Validation Accuracy: 0.5283, AUC: 0.4984\n",
      "Epoch 86/200, Loss: 0.6923, Validation Accuracy: 0.5283, AUC: 0.4984\n",
      "Epoch 87/200, Loss: 0.7457, Validation Accuracy: 0.4700, AUC: 0.5028\n",
      "Epoch 88/200, Loss: 0.6932, Validation Accuracy: 0.5283, AUC: 0.5028\n",
      "Epoch 89/200, Loss: 0.6922, Validation Accuracy: 0.5300, AUC: 0.4984\n",
      "Epoch 90/200, Loss: 1.9216, Validation Accuracy: 0.4700, AUC: 0.4941\n",
      "Epoch 91/200, Loss: 0.8192, Validation Accuracy: 0.4700, AUC: 0.4941\n",
      "Epoch 92/200, Loss: 1.0988, Validation Accuracy: 0.4700, AUC: 0.5028\n",
      "Epoch 93/200, Loss: 0.8249, Validation Accuracy: 0.5283, AUC: 0.4984\n",
      "Epoch 94/200, Loss: 0.7137, Validation Accuracy: 0.5300, AUC: 0.4875\n",
      "Epoch 95/200, Loss: 0.8797, Validation Accuracy: 0.5283, AUC: 0.6287\n",
      "Epoch 96/200, Loss: 0.8042, Validation Accuracy: 0.4700, AUC: 0.7575\n",
      "Epoch 97/200, Loss: 1.0618, Validation Accuracy: 0.5300, AUC: 0.7619\n",
      "Epoch 98/200, Loss: 5.6295, Validation Accuracy: 0.4700, AUC: 0.7598\n",
      "Epoch 99/200, Loss: 0.9923, Validation Accuracy: 0.4700, AUC: 0.5028\n",
      "Epoch 100/200, Loss: 1.0334, Validation Accuracy: 0.4700, AUC: 0.4941\n",
      "Epoch 101/200, Loss: 0.7761, Validation Accuracy: 0.5283, AUC: 0.4941\n",
      "Epoch 102/200, Loss: 0.6967, Validation Accuracy: 0.5283, AUC: 0.4984\n",
      "Epoch 103/200, Loss: 0.8369, Validation Accuracy: 0.5300, AUC: 0.5028\n",
      "Epoch 104/200, Loss: 0.9403, Validation Accuracy: 0.5283, AUC: 0.4941\n",
      "Epoch 105/200, Loss: 0.9006, Validation Accuracy: 0.5283, AUC: 0.4976\n",
      "Epoch 106/200, Loss: 0.7676, Validation Accuracy: 0.5283, AUC: 0.5046\n",
      "Epoch 107/200, Loss: 0.6878, Validation Accuracy: 0.4700, AUC: 0.4941\n",
      "Epoch 108/200, Loss: 0.7510, Validation Accuracy: 0.4700, AUC: 0.5028\n",
      "Epoch 109/200, Loss: 0.8250, Validation Accuracy: 0.4700, AUC: 0.4941\n",
      "Epoch 110/200, Loss: 0.7554, Validation Accuracy: 0.4700, AUC: 0.7458\n",
      "Epoch 111/200, Loss: 0.6983, Validation Accuracy: 0.5283, AUC: 0.7680\n",
      "Epoch 112/200, Loss: 0.7219, Validation Accuracy: 0.5283, AUC: 0.5028\n",
      "Epoch 113/200, Loss: 0.7167, Validation Accuracy: 0.5283, AUC: 0.4984\n",
      "Epoch 114/200, Loss: 0.7100, Validation Accuracy: 0.5283, AUC: 0.4941\n",
      "Epoch 115/200, Loss: 0.6939, Validation Accuracy: 0.5283, AUC: 0.4984\n",
      "Epoch 116/200, Loss: 0.6882, Validation Accuracy: 0.4700, AUC: 0.4942\n",
      "Epoch 117/200, Loss: 0.6983, Validation Accuracy: 0.4700, AUC: 0.4941\n",
      "Epoch 118/200, Loss: 0.7040, Validation Accuracy: 0.4700, AUC: 0.5028\n",
      "Epoch 119/200, Loss: 0.6962, Validation Accuracy: 0.5283, AUC: 0.5028\n",
      "Epoch 120/200, Loss: 0.6883, Validation Accuracy: 0.5283, AUC: 0.4984\n",
      "Epoch 121/200, Loss: 0.6900, Validation Accuracy: 0.5283, AUC: 0.4941\n",
      "Epoch 122/200, Loss: 0.6961, Validation Accuracy: 0.5283, AUC: 0.4941\n",
      "Epoch 123/200, Loss: 0.6968, Validation Accuracy: 0.5283, AUC: 0.4984\n",
      "Epoch 124/200, Loss: 0.6904, Validation Accuracy: 0.4700, AUC: 0.4941\n",
      "Epoch 125/200, Loss: 0.6960, Validation Accuracy: 0.5300, AUC: 0.4984\n",
      "Epoch 126/200, Loss: 0.7985, Validation Accuracy: 0.4700, AUC: 0.5028\n",
      "Epoch 127/200, Loss: 0.7045, Validation Accuracy: 0.4700, AUC: 0.5028\n",
      "Epoch 128/200, Loss: 0.7259, Validation Accuracy: 0.4700, AUC: 0.4941\n",
      "Epoch 129/200, Loss: 0.7183, Validation Accuracy: 0.4700, AUC: 0.5028\n",
      "Epoch 130/200, Loss: 0.6949, Validation Accuracy: 0.5283, AUC: 0.4984\n",
      "Epoch 131/200, Loss: 0.6887, Validation Accuracy: 0.5283, AUC: 0.4984\n",
      "Epoch 132/200, Loss: 0.7022, Validation Accuracy: 0.5283, AUC: 0.4984\n",
      "Epoch 133/200, Loss: 0.7114, Validation Accuracy: 0.5283, AUC: 0.5028\n",
      "Epoch 134/200, Loss: 0.7036, Validation Accuracy: 0.5283, AUC: 0.4984\n",
      "Epoch 135/200, Loss: 0.6904, Validation Accuracy: 0.5283, AUC: 0.4941\n",
      "Epoch 136/200, Loss: 0.6891, Validation Accuracy: 0.4700, AUC: 0.4941\n",
      "Epoch 137/200, Loss: 0.6983, Validation Accuracy: 0.4700, AUC: 0.4984\n",
      "Epoch 138/200, Loss: 0.7020, Validation Accuracy: 0.5283, AUC: 0.4959\n",
      "Epoch 139/200, Loss: 0.6924, Validation Accuracy: 0.5300, AUC: 0.4941\n",
      "Epoch 140/200, Loss: 0.6965, Validation Accuracy: 0.5283, AUC: 0.4984\n",
      "Epoch 141/200, Loss: 0.6890, Validation Accuracy: 0.5283, AUC: 0.5028\n",
      "Epoch 142/200, Loss: 0.6903, Validation Accuracy: 0.5283, AUC: 0.4984\n",
      "Epoch 143/200, Loss: 0.6878, Validation Accuracy: 0.5283, AUC: 0.4984\n",
      "Epoch 144/200, Loss: 0.6884, Validation Accuracy: 0.5283, AUC: 0.5028\n",
      "Epoch 145/200, Loss: 0.6886, Validation Accuracy: 0.5283, AUC: 0.5028\n",
      "Epoch 146/200, Loss: 0.6878, Validation Accuracy: 0.5283, AUC: 0.4941\n",
      "Epoch 147/200, Loss: 0.6881, Validation Accuracy: 0.5283, AUC: 0.5028\n",
      "Epoch 148/200, Loss: 0.6884, Validation Accuracy: 0.5283, AUC: 0.4941\n",
      "Epoch 149/200, Loss: 0.6879, Validation Accuracy: 0.5283, AUC: 0.5028\n",
      "Epoch 150/200, Loss: 0.6879, Validation Accuracy: 0.5300, AUC: 0.4984\n",
      "Epoch 151/200, Loss: 0.6882, Validation Accuracy: 0.5283, AUC: 0.4984\n",
      "Epoch 152/200, Loss: 0.6878, Validation Accuracy: 0.5283, AUC: 0.4941\n",
      "Epoch 153/200, Loss: 0.6881, Validation Accuracy: 0.5283, AUC: 0.4941\n",
      "Epoch 154/200, Loss: 0.6878, Validation Accuracy: 0.5300, AUC: 0.5028\n",
      "Epoch 155/200, Loss: 0.6878, Validation Accuracy: 0.5300, AUC: 0.4941\n",
      "Epoch 156/200, Loss: 0.6878, Validation Accuracy: 0.5300, AUC: 0.4941\n",
      "Epoch 157/200, Loss: 0.6878, Validation Accuracy: 0.5300, AUC: 0.5028\n",
      "Epoch 158/200, Loss: 0.6878, Validation Accuracy: 0.5300, AUC: 0.5028\n",
      "Epoch 159/200, Loss: 0.6878, Validation Accuracy: 0.5300, AUC: 0.4992\n",
      "Epoch 160/200, Loss: 0.6878, Validation Accuracy: 0.5300, AUC: 0.4984\n",
      "Epoch 161/200, Loss: 0.6878, Validation Accuracy: 0.5300, AUC: 0.5028\n",
      "Epoch 162/200, Loss: 0.6878, Validation Accuracy: 0.5300, AUC: 0.4941\n",
      "Epoch 163/200, Loss: 0.6878, Validation Accuracy: 0.5300, AUC: 0.5028\n",
      "Epoch 164/200, Loss: 0.6878, Validation Accuracy: 0.5300, AUC: 0.5059\n",
      "Epoch 165/200, Loss: 0.6878, Validation Accuracy: 0.5300, AUC: 0.5024\n",
      "Epoch 166/200, Loss: 0.6878, Validation Accuracy: 0.5300, AUC: 0.5016\n",
      "Epoch 167/200, Loss: 0.6878, Validation Accuracy: 0.5300, AUC: 0.5016\n",
      "Epoch 168/200, Loss: 0.6878, Validation Accuracy: 0.5300, AUC: 0.4972\n",
      "Epoch 169/200, Loss: 0.6878, Validation Accuracy: 0.5300, AUC: 0.5059\n",
      "Epoch 170/200, Loss: 0.6878, Validation Accuracy: 0.5300, AUC: 0.4972\n",
      "Epoch 171/200, Loss: 0.6878, Validation Accuracy: 0.5300, AUC: 0.4972\n",
      "Epoch 172/200, Loss: 0.6878, Validation Accuracy: 0.5300, AUC: 0.5016\n",
      "Epoch 173/200, Loss: 0.6878, Validation Accuracy: 0.5300, AUC: 0.4972\n",
      "Epoch 174/200, Loss: 0.6878, Validation Accuracy: 0.5300, AUC: 0.5067\n",
      "Epoch 175/200, Loss: 0.6878, Validation Accuracy: 0.5300, AUC: 0.5016\n",
      "Epoch 176/200, Loss: 0.6878, Validation Accuracy: 0.5300, AUC: 0.5016\n",
      "Epoch 177/200, Loss: 0.6878, Validation Accuracy: 0.5300, AUC: 0.5059\n",
      "Epoch 178/200, Loss: 0.6878, Validation Accuracy: 0.5300, AUC: 0.4972\n",
      "Epoch 179/200, Loss: 0.6878, Validation Accuracy: 0.5300, AUC: 0.5016\n",
      "Epoch 180/200, Loss: 0.6878, Validation Accuracy: 0.5300, AUC: 0.4976\n",
      "Epoch 181/200, Loss: 0.7725, Validation Accuracy: 0.4700, AUC: 0.5059\n",
      "Epoch 182/200, Loss: 0.7429, Validation Accuracy: 0.4700, AUC: 0.4972\n",
      "Epoch 183/200, Loss: 0.7397, Validation Accuracy: 0.4717, AUC: 0.5059\n",
      "Epoch 184/200, Loss: 0.6933, Validation Accuracy: 0.5300, AUC: 0.5016\n",
      "Epoch 185/200, Loss: 0.7017, Validation Accuracy: 0.5300, AUC: 0.5016\n",
      "Epoch 186/200, Loss: 0.7211, Validation Accuracy: 0.5300, AUC: 0.5016\n",
      "Epoch 187/200, Loss: 0.7105, Validation Accuracy: 0.5300, AUC: 0.5016\n",
      "Epoch 188/200, Loss: 0.6878, Validation Accuracy: 0.4717, AUC: 0.5016\n",
      "Epoch 189/200, Loss: 0.7072, Validation Accuracy: 0.4717, AUC: 0.5059\n",
      "Epoch 190/200, Loss: 0.7089, Validation Accuracy: 0.5300, AUC: 0.4972\n",
      "Epoch 191/200, Loss: 0.6879, Validation Accuracy: 0.5300, AUC: 0.4972\n",
      "Epoch 192/200, Loss: 0.7021, Validation Accuracy: 0.4717, AUC: 0.4972\n",
      "Epoch 193/200, Loss: 0.7231, Validation Accuracy: 0.5300, AUC: 0.5016\n",
      "Epoch 194/200, Loss: 0.6910, Validation Accuracy: 0.5300, AUC: 0.5016\n",
      "Epoch 195/200, Loss: 0.7095, Validation Accuracy: 0.5300, AUC: 0.4972\n",
      "Epoch 196/200, Loss: 0.6878, Validation Accuracy: 0.4717, AUC: 0.5016\n",
      "Epoch 197/200, Loss: 0.6995, Validation Accuracy: 0.5300, AUC: 0.4972\n",
      "Epoch 198/200, Loss: 0.6887, Validation Accuracy: 0.5300, AUC: 0.5016\n",
      "Epoch 199/200, Loss: 0.6939, Validation Accuracy: 0.5300, AUC: 0.5059\n",
      "Epoch 200/200, Loss: 0.6934, Validation Accuracy: 0.5300, AUC: 0.5016\n"
     ]
    },
    {
     "data": {
      "text/html": [
       "<style>\n",
       "    table.wandb td:nth-child(1) { padding: 0 10px; text-align: left ; width: auto;} td:nth-child(2) {text-align: left ; width: 100%}\n",
       "    .wandb-row { display: flex; flex-direction: row; flex-wrap: wrap; justify-content: flex-start; width: 100% }\n",
       "    .wandb-col { display: flex; flex-direction: column; flex-basis: 100%; flex: 1; padding: 10px; }\n",
       "    </style>\n",
       "<div class=\"wandb-row\"><div class=\"wandb-col\"><h3>Run history:</h3><br/><table class=\"wandb\"><tr><td>Final Best Epoch</td><td>▁</td></tr><tr><td>Final Best Val Accuracy</td><td>▁</td></tr><tr><td>best_epoch</td><td>▁▁▁▁▁▁▁▁▁▁▁▁▁▁▁▁▁▁▁▁▁▁▁▁▁▁▁▁▁▁▁▁▁▁▁▁▁▁▁▁</td></tr><tr><td>best_val_accuracy</td><td>▁▁▁▁▁▁▁▁▁▁▁▁▁▁▁▁▁▁▁▁▁▁▁▁▁▁▁▁▁▁▁▁▁▁▁▁▁▁▁▁</td></tr><tr><td>roc_auc</td><td>▅▅▇▁▅▅▄▅▅▅▅▄▅▅▄▄▅▅▅█▄▅▅▅▄▄▄▄▅▄▅▅▅▄▅▄▅▅▅▅</td></tr><tr><td>train_loss</td><td>█▆▁▁▁▁▁▁▁▁▁▁▁▁▁▁▁▁▁▁▁▁▁▁▁▁▁▁▁▁▁▁▁▁▁▁▁▁▁▁</td></tr><tr><td>val_accuracy</td><td>▁█▁██▁▁▁▁██▁█▁████▁▁█▁█▁█▁███████████▁██</td></tr></table><br/></div><div class=\"wandb-col\"><h3>Run summary:</h3><br/><table class=\"wandb\"><tr><td>Final Best Epoch</td><td>1</td></tr><tr><td>Final Best Val Accuracy</td><td>0.53</td></tr><tr><td>best_epoch</td><td>1</td></tr><tr><td>best_val_accuracy</td><td>0.53</td></tr><tr><td>roc_auc</td><td>0.50157</td></tr><tr><td>train_loss</td><td>0.69337</td></tr><tr><td>val_accuracy</td><td>0.53</td></tr></table><br/></div></div>"
      ],
      "text/plain": [
       "<IPython.core.display.HTML object>"
      ]
     },
     "metadata": {},
     "output_type": "display_data"
    },
    {
     "data": {
      "text/html": [
       " View run <strong style=\"color:#cdcd00\">stellar-sweep-8</strong> at: <a href='https://wandb.ai/zamtol/uncategorized/runs/dyc7jryh' target=\"_blank\">https://wandb.ai/zamtol/uncategorized/runs/dyc7jryh</a><br/> View project at: <a href='https://wandb.ai/zamtol/uncategorized' target=\"_blank\">https://wandb.ai/zamtol/uncategorized</a><br/>Synced 5 W&B file(s), 199 media file(s), 0 artifact file(s) and 0 other file(s)"
      ],
      "text/plain": [
       "<IPython.core.display.HTML object>"
      ]
     },
     "metadata": {},
     "output_type": "display_data"
    },
    {
     "data": {
      "text/html": [
       "Find logs at: <code>.\\wandb\\run-20240803_151221-dyc7jryh\\logs</code>"
      ],
      "text/plain": [
       "<IPython.core.display.HTML object>"
      ]
     },
     "metadata": {},
     "output_type": "display_data"
    },
    {
     "data": {
      "text/html": [
       "The new W&B backend becomes opt-out in version 0.18.0; try it out with `wandb.require(\"core\")`! See https://wandb.me/wandb-core for more information."
      ],
      "text/plain": [
       "<IPython.core.display.HTML object>"
      ]
     },
     "metadata": {},
     "output_type": "display_data"
    },
    {
     "name": "stderr",
     "output_type": "stream",
     "text": [
      "\u001b[34m\u001b[1mwandb\u001b[0m: Agent Starting Run: t5vlfldq with config:\n",
      "\u001b[34m\u001b[1mwandb\u001b[0m: \tarchitecture: RandomForest\n",
      "\u001b[34m\u001b[1mwandb\u001b[0m: \tepochs: 200\n",
      "\u001b[34m\u001b[1mwandb\u001b[0m: \tlearning_rate: 0.1\n",
      "\u001b[34m\u001b[1mwandb\u001b[0m: \tseed: 42\n",
      "\u001b[34m\u001b[1mwandb\u001b[0m: \tweight_decay: 0.0005\n",
      "Failed to detect the name of this notebook, you can set it manually with the WANDB_NOTEBOOK_NAME environment variable to enable code saving.\n"
     ]
    },
    {
     "data": {
      "text/html": [
       "Tracking run with wandb version 0.17.5"
      ],
      "text/plain": [
       "<IPython.core.display.HTML object>"
      ]
     },
     "metadata": {},
     "output_type": "display_data"
    },
    {
     "data": {
      "text/html": [
       "Run data is saved locally in <code>c:\\Users\\ADMIN\\git\\hack\\wandb\\run-20240803_151301-t5vlfldq</code>"
      ],
      "text/plain": [
       "<IPython.core.display.HTML object>"
      ]
     },
     "metadata": {},
     "output_type": "display_data"
    },
    {
     "data": {
      "text/html": [
       "Syncing run <strong><a href='https://wandb.ai/zamtol/uncategorized/runs/t5vlfldq' target=\"_blank\">snowy-sweep-9</a></strong> to <a href='https://wandb.ai/zamtol/uncategorized' target=\"_blank\">Weights & Biases</a> (<a href='https://wandb.me/run' target=\"_blank\">docs</a>)<br/>Sweep page: <a href='https://wandb.ai/zamtol/uncategorized/sweeps/y1r7j6mo' target=\"_blank\">https://wandb.ai/zamtol/uncategorized/sweeps/y1r7j6mo</a>"
      ],
      "text/plain": [
       "<IPython.core.display.HTML object>"
      ]
     },
     "metadata": {},
     "output_type": "display_data"
    },
    {
     "data": {
      "text/html": [
       " View project at <a href='https://wandb.ai/zamtol/uncategorized' target=\"_blank\">https://wandb.ai/zamtol/uncategorized</a>"
      ],
      "text/plain": [
       "<IPython.core.display.HTML object>"
      ]
     },
     "metadata": {},
     "output_type": "display_data"
    },
    {
     "data": {
      "text/html": [
       " View sweep at <a href='https://wandb.ai/zamtol/uncategorized/sweeps/y1r7j6mo' target=\"_blank\">https://wandb.ai/zamtol/uncategorized/sweeps/y1r7j6mo</a>"
      ],
      "text/plain": [
       "<IPython.core.display.HTML object>"
      ]
     },
     "metadata": {},
     "output_type": "display_data"
    },
    {
     "data": {
      "text/html": [
       " View run at <a href='https://wandb.ai/zamtol/uncategorized/runs/t5vlfldq' target=\"_blank\">https://wandb.ai/zamtol/uncategorized/runs/t5vlfldq</a>"
      ],
      "text/plain": [
       "<IPython.core.display.HTML object>"
      ]
     },
     "metadata": {},
     "output_type": "display_data"
    },
    {
     "name": "stdout",
     "output_type": "stream",
     "text": [
      "Epoch 1/200, Loss: 0.6926, Validation Accuracy: 0.5300, AUC: 0.8069\n",
      "Epoch 2/200, Loss: 0.8484, Validation Accuracy: 0.5300, AUC: 0.1955\n",
      "Epoch 3/200, Loss: 0.6909, Validation Accuracy: 0.5300, AUC: 0.8050\n",
      "Epoch 4/200, Loss: 0.6921, Validation Accuracy: 0.5300, AUC: 0.7982\n",
      "Epoch 5/200, Loss: 0.6841, Validation Accuracy: 0.5300, AUC: 0.8101\n",
      "Epoch 6/200, Loss: 0.7640, Validation Accuracy: 0.5300, AUC: 0.8454\n",
      "Epoch 7/200, Loss: 0.6891, Validation Accuracy: 0.4700, AUC: 0.3391\n",
      "Epoch 8/200, Loss: 0.6973, Validation Accuracy: 0.4700, AUC: 0.8193\n",
      "Epoch 9/200, Loss: 0.6996, Validation Accuracy: 0.4700, AUC: 0.7953\n",
      "Epoch 10/200, Loss: 0.6987, Validation Accuracy: 0.4700, AUC: 0.7814\n",
      "Epoch 11/200, Loss: 0.6933, Validation Accuracy: 0.5300, AUC: 0.7877\n",
      "Epoch 12/200, Loss: 0.6756, Validation Accuracy: 0.5300, AUC: 0.8169\n",
      "Epoch 13/200, Loss: 0.9922, Validation Accuracy: 0.5300, AUC: 0.8317\n",
      "Epoch 14/200, Loss: 0.6687, Validation Accuracy: 0.4700, AUC: 0.8511\n",
      "Epoch 15/200, Loss: 0.6968, Validation Accuracy: 0.4700, AUC: 0.8372\n",
      "Epoch 16/200, Loss: 0.7035, Validation Accuracy: 0.4700, AUC: 0.8134\n",
      "Epoch 17/200, Loss: 0.7029, Validation Accuracy: 0.4700, AUC: 0.7974\n",
      "Epoch 18/200, Loss: 0.6974, Validation Accuracy: 0.5300, AUC: 0.7904\n",
      "Epoch 19/200, Loss: 0.6783, Validation Accuracy: 0.5300, AUC: 0.8086\n",
      "Epoch 20/200, Loss: 0.8679, Validation Accuracy: 0.5300, AUC: 0.8151\n",
      "Epoch 21/200, Loss: 0.6793, Validation Accuracy: 0.4700, AUC: 0.8394\n",
      "Epoch 22/200, Loss: 0.7001, Validation Accuracy: 0.4700, AUC: 0.8532\n",
      "Epoch 23/200, Loss: 0.7031, Validation Accuracy: 0.4700, AUC: 0.7577\n",
      "Epoch 24/200, Loss: 0.7021, Validation Accuracy: 0.4700, AUC: 0.7717\n",
      "Epoch 25/200, Loss: 0.6964, Validation Accuracy: 0.5300, AUC: 0.7803\n",
      "Epoch 26/200, Loss: 0.6756, Validation Accuracy: 0.5300, AUC: 0.7989\n",
      "Epoch 27/200, Loss: 0.9115, Validation Accuracy: 0.5300, AUC: 0.8078\n",
      "Epoch 28/200, Loss: 0.6738, Validation Accuracy: 0.4700, AUC: 0.8177\n",
      "Epoch 29/200, Loss: 0.6957, Validation Accuracy: 0.4700, AUC: 0.8252\n",
      "Epoch 30/200, Loss: 0.7013, Validation Accuracy: 0.4700, AUC: 0.8372\n",
      "Epoch 31/200, Loss: 0.7003, Validation Accuracy: 0.4700, AUC: 0.8368\n",
      "Epoch 32/200, Loss: 0.6939, Validation Accuracy: 0.5300, AUC: 0.8144\n",
      "Epoch 33/200, Loss: 0.6710, Validation Accuracy: 0.5300, AUC: 0.8148\n",
      "Epoch 34/200, Loss: 0.9823, Validation Accuracy: 0.5133, AUC: 0.8047\n",
      "Epoch 35/200, Loss: 0.6900, Validation Accuracy: 0.4700, AUC: 0.8159\n",
      "Epoch 36/200, Loss: 0.7011, Validation Accuracy: 0.4700, AUC: 0.8301\n",
      "Epoch 37/200, Loss: 0.7003, Validation Accuracy: 0.4700, AUC: 0.8316\n",
      "Epoch 38/200, Loss: 0.6995, Validation Accuracy: 0.4700, AUC: 0.8228\n",
      "Epoch 39/200, Loss: 0.6937, Validation Accuracy: 0.5300, AUC: 0.8161\n",
      "Epoch 40/200, Loss: 0.6734, Validation Accuracy: 0.5300, AUC: 0.8210\n",
      "Epoch 41/200, Loss: 0.7711, Validation Accuracy: 0.5300, AUC: 0.8216\n",
      "Epoch 42/200, Loss: 0.6722, Validation Accuracy: 0.4700, AUC: 0.8408\n",
      "Epoch 43/200, Loss: 0.6913, Validation Accuracy: 0.4700, AUC: 0.8509\n",
      "Epoch 44/200, Loss: 0.6954, Validation Accuracy: 0.4700, AUC: 0.8438\n",
      "Epoch 45/200, Loss: 0.6952, Validation Accuracy: 0.4700, AUC: 0.8867\n",
      "Epoch 46/200, Loss: 0.6970, Validation Accuracy: 0.4700, AUC: 0.8213\n",
      "Epoch 47/200, Loss: 0.6947, Validation Accuracy: 0.5300, AUC: 0.8198\n",
      "Epoch 48/200, Loss: 0.6885, Validation Accuracy: 0.5300, AUC: 0.8182\n",
      "Epoch 49/200, Loss: 0.6734, Validation Accuracy: 0.5300, AUC: 0.8240\n",
      "Epoch 50/200, Loss: 0.7332, Validation Accuracy: 0.5300, AUC: 0.8301\n",
      "Epoch 51/200, Loss: 0.6764, Validation Accuracy: 0.4700, AUC: 0.1640\n",
      "Epoch 52/200, Loss: 0.7147, Validation Accuracy: 0.4700, AUC: 0.1553\n",
      "Epoch 53/200, Loss: 0.6949, Validation Accuracy: 0.5300, AUC: 0.1524\n",
      "Epoch 54/200, Loss: 0.6929, Validation Accuracy: 0.5300, AUC: 0.6918\n",
      "Epoch 55/200, Loss: 0.6916, Validation Accuracy: 0.5300, AUC: 0.8043\n",
      "Epoch 56/200, Loss: 0.6893, Validation Accuracy: 0.5300, AUC: 0.7752\n",
      "Epoch 57/200, Loss: 0.6898, Validation Accuracy: 0.5300, AUC: 0.7770\n",
      "Epoch 58/200, Loss: 0.6886, Validation Accuracy: 0.5300, AUC: 0.7793\n",
      "Epoch 59/200, Loss: 0.6878, Validation Accuracy: 0.5300, AUC: 0.8401\n",
      "Epoch 60/200, Loss: 0.6875, Validation Accuracy: 0.5300, AUC: 0.8564\n",
      "Epoch 61/200, Loss: 0.6866, Validation Accuracy: 0.5300, AUC: 0.8545\n",
      "Epoch 62/200, Loss: 0.6855, Validation Accuracy: 0.5300, AUC: 0.8591\n",
      "Epoch 63/200, Loss: 0.6771, Validation Accuracy: 0.5300, AUC: 0.8683\n",
      "Epoch 64/200, Loss: 0.6640, Validation Accuracy: 0.5467, AUC: 0.8337\n",
      "Epoch 65/200, Loss: 0.6922, Validation Accuracy: 0.4700, AUC: 0.3732\n",
      "Epoch 66/200, Loss: 0.6972, Validation Accuracy: 0.4700, AUC: 0.6774\n",
      "Epoch 67/200, Loss: 0.6952, Validation Accuracy: 0.5300, AUC: 0.7830\n",
      "Epoch 68/200, Loss: 0.6922, Validation Accuracy: 0.5300, AUC: 0.8237\n",
      "Epoch 69/200, Loss: 0.6897, Validation Accuracy: 0.5300, AUC: 0.8307\n",
      "Epoch 70/200, Loss: 0.6855, Validation Accuracy: 0.5300, AUC: 0.8512\n",
      "Epoch 71/200, Loss: 0.6773, Validation Accuracy: 0.5300, AUC: 0.8117\n",
      "Epoch 72/200, Loss: 0.6771, Validation Accuracy: 0.5300, AUC: 0.8534\n",
      "Epoch 73/200, Loss: 0.6662, Validation Accuracy: 0.5300, AUC: 0.8535\n",
      "Epoch 74/200, Loss: 0.6314, Validation Accuracy: 0.5717, AUC: 0.8662\n",
      "Epoch 75/200, Loss: 0.7402, Validation Accuracy: 0.4700, AUC: 0.5931\n",
      "Epoch 76/200, Loss: 0.7184, Validation Accuracy: 0.4983, AUC: 0.8593\n",
      "Epoch 77/200, Loss: 0.7175, Validation Accuracy: 0.4700, AUC: 0.3139\n",
      "Epoch 78/200, Loss: 0.7092, Validation Accuracy: 0.4700, AUC: 0.8128\n",
      "Epoch 79/200, Loss: 0.6950, Validation Accuracy: 0.5317, AUC: 0.2917\n",
      "Epoch 80/200, Loss: 0.6927, Validation Accuracy: 0.5300, AUC: 0.8727\n",
      "Epoch 81/200, Loss: 0.6894, Validation Accuracy: 0.5300, AUC: 0.8731\n",
      "Epoch 82/200, Loss: 0.6859, Validation Accuracy: 0.5300, AUC: 0.8644\n",
      "Epoch 83/200, Loss: 0.6832, Validation Accuracy: 0.5300, AUC: 0.8655\n",
      "Epoch 84/200, Loss: 0.6715, Validation Accuracy: 0.5300, AUC: 0.8676\n",
      "Epoch 85/200, Loss: 0.6402, Validation Accuracy: 0.5300, AUC: 0.8558\n",
      "Epoch 86/200, Loss: 0.6014, Validation Accuracy: 0.5300, AUC: 0.8739\n",
      "Epoch 87/200, Loss: 1.4703, Validation Accuracy: 0.7733, AUC: 0.8345\n",
      "Epoch 88/200, Loss: 0.5283, Validation Accuracy: 0.5083, AUC: 0.8646\n",
      "Epoch 89/200, Loss: 0.7232, Validation Accuracy: 0.4700, AUC: 0.8725\n",
      "Epoch 90/200, Loss: 0.7413, Validation Accuracy: 0.4700, AUC: 0.8230\n",
      "Epoch 91/200, Loss: 0.7178, Validation Accuracy: 0.4700, AUC: 0.5467\n",
      "Epoch 92/200, Loss: 0.6993, Validation Accuracy: 0.5300, AUC: 0.7818\n",
      "Epoch 93/200, Loss: 0.6902, Validation Accuracy: 0.5300, AUC: 0.7859\n",
      "Epoch 94/200, Loss: 0.6880, Validation Accuracy: 0.5300, AUC: 0.7862\n",
      "Epoch 95/200, Loss: 0.6876, Validation Accuracy: 0.5300, AUC: 0.7866\n",
      "Epoch 96/200, Loss: 0.6873, Validation Accuracy: 0.5300, AUC: 0.7881\n",
      "Epoch 97/200, Loss: 0.6867, Validation Accuracy: 0.5300, AUC: 0.7931\n",
      "Epoch 98/200, Loss: 0.6881, Validation Accuracy: 0.5300, AUC: 0.8046\n",
      "Epoch 99/200, Loss: 0.6833, Validation Accuracy: 0.5300, AUC: 0.8154\n",
      "Epoch 100/200, Loss: 0.6788, Validation Accuracy: 0.5300, AUC: 0.8304\n",
      "Epoch 101/200, Loss: 0.6733, Validation Accuracy: 0.5300, AUC: 0.8495\n",
      "Epoch 102/200, Loss: 0.6632, Validation Accuracy: 0.5333, AUC: 0.8684\n",
      "Epoch 103/200, Loss: 0.6417, Validation Accuracy: 0.6117, AUC: 0.8795\n",
      "Epoch 104/200, Loss: 0.5832, Validation Accuracy: 0.5350, AUC: 0.8273\n",
      "Epoch 105/200, Loss: 0.7516, Validation Accuracy: 0.5300, AUC: 0.8821\n",
      "Epoch 106/200, Loss: 3.1182, Validation Accuracy: 0.7800, AUC: 0.8683\n",
      "Epoch 107/200, Loss: 0.4905, Validation Accuracy: 0.4700, AUC: 0.8363\n",
      "Epoch 108/200, Loss: 0.8726, Validation Accuracy: 0.4700, AUC: 0.8306\n",
      "Epoch 109/200, Loss: 0.7961, Validation Accuracy: 0.4700, AUC: 0.7809\n",
      "Epoch 110/200, Loss: 0.6945, Validation Accuracy: 0.5300, AUC: 0.7657\n",
      "Epoch 111/200, Loss: 0.6753, Validation Accuracy: 0.5300, AUC: 0.7629\n",
      "Epoch 112/200, Loss: 0.6993, Validation Accuracy: 0.5300, AUC: 0.7540\n",
      "Epoch 113/200, Loss: 0.6818, Validation Accuracy: 0.4700, AUC: 0.2287\n",
      "Epoch 114/200, Loss: 0.6999, Validation Accuracy: 0.5300, AUC: 0.7061\n",
      "Epoch 115/200, Loss: 0.6793, Validation Accuracy: 0.5300, AUC: 0.6923\n",
      "Epoch 116/200, Loss: 0.7065, Validation Accuracy: 0.5300, AUC: 0.6934\n",
      "Epoch 117/200, Loss: 0.6815, Validation Accuracy: 0.5300, AUC: 0.8238\n",
      "Epoch 118/200, Loss: 0.6925, Validation Accuracy: 0.5300, AUC: 0.8328\n",
      "Epoch 119/200, Loss: 0.6915, Validation Accuracy: 0.5300, AUC: 0.8338\n",
      "Epoch 120/200, Loss: 0.6892, Validation Accuracy: 0.5300, AUC: 0.8340\n",
      "Epoch 121/200, Loss: 0.6818, Validation Accuracy: 0.5300, AUC: 0.8386\n",
      "Epoch 122/200, Loss: 0.6860, Validation Accuracy: 0.5300, AUC: 0.8709\n",
      "Epoch 123/200, Loss: 0.6792, Validation Accuracy: 0.5300, AUC: 0.8638\n",
      "Epoch 124/200, Loss: 0.6871, Validation Accuracy: 0.5300, AUC: 0.8795\n",
      "Epoch 125/200, Loss: 0.6866, Validation Accuracy: 0.5300, AUC: 0.8667\n",
      "Epoch 126/200, Loss: 0.6822, Validation Accuracy: 0.5300, AUC: 0.8471\n",
      "Epoch 127/200, Loss: 0.6743, Validation Accuracy: 0.5300, AUC: 0.8517\n",
      "Epoch 128/200, Loss: 0.6866, Validation Accuracy: 0.5300, AUC: 0.8127\n",
      "Epoch 129/200, Loss: 0.6889, Validation Accuracy: 0.5300, AUC: 0.3675\n",
      "Epoch 130/200, Loss: 0.6906, Validation Accuracy: 0.5300, AUC: 0.5959\n",
      "Epoch 131/200, Loss: 0.6909, Validation Accuracy: 0.5300, AUC: 0.8313\n",
      "Epoch 132/200, Loss: 0.6899, Validation Accuracy: 0.5300, AUC: 0.7970\n",
      "Epoch 133/200, Loss: 0.6838, Validation Accuracy: 0.5300, AUC: 0.8791\n",
      "Epoch 134/200, Loss: 0.6416, Validation Accuracy: 0.5300, AUC: 0.8580\n",
      "Epoch 135/200, Loss: 0.6026, Validation Accuracy: 0.5300, AUC: 0.8754\n",
      "Epoch 136/200, Loss: 1.0238, Validation Accuracy: 0.7383, AUC: 0.7141\n",
      "Epoch 137/200, Loss: 0.6628, Validation Accuracy: 0.4700, AUC: 0.3764\n",
      "Epoch 138/200, Loss: 0.6980, Validation Accuracy: 0.4700, AUC: 0.4137\n",
      "Epoch 139/200, Loss: 0.7006, Validation Accuracy: 0.4700, AUC: 0.4248\n",
      "Epoch 140/200, Loss: 0.7016, Validation Accuracy: 0.4700, AUC: 0.5830\n",
      "Epoch 141/200, Loss: 0.7016, Validation Accuracy: 0.4700, AUC: 0.7077\n",
      "Epoch 142/200, Loss: 0.7006, Validation Accuracy: 0.4700, AUC: 0.7964\n",
      "Epoch 143/200, Loss: 0.6986, Validation Accuracy: 0.4700, AUC: 0.7360\n",
      "Epoch 144/200, Loss: 0.6958, Validation Accuracy: 0.5300, AUC: 0.8530\n",
      "Epoch 145/200, Loss: 0.6923, Validation Accuracy: 0.5300, AUC: 0.4192\n",
      "Epoch 146/200, Loss: 0.6890, Validation Accuracy: 0.5300, AUC: 0.7929\n",
      "Epoch 147/200, Loss: 0.6878, Validation Accuracy: 0.5300, AUC: 0.8069\n",
      "Epoch 148/200, Loss: 0.6897, Validation Accuracy: 0.5300, AUC: 0.8006\n",
      "Epoch 149/200, Loss: 0.6897, Validation Accuracy: 0.5300, AUC: 0.1987\n",
      "Epoch 150/200, Loss: 0.6886, Validation Accuracy: 0.5300, AUC: 0.6972\n",
      "Epoch 151/200, Loss: 0.6878, Validation Accuracy: 0.5300, AUC: 0.7103\n",
      "Epoch 152/200, Loss: 0.6875, Validation Accuracy: 0.5300, AUC: 0.7088\n",
      "Epoch 153/200, Loss: 0.6859, Validation Accuracy: 0.5300, AUC: 0.7089\n",
      "Epoch 154/200, Loss: 0.6841, Validation Accuracy: 0.5300, AUC: 0.7091\n",
      "Epoch 155/200, Loss: 0.6832, Validation Accuracy: 0.5300, AUC: 0.7094\n",
      "Epoch 156/200, Loss: 0.6820, Validation Accuracy: 0.5300, AUC: 0.7098\n",
      "Epoch 157/200, Loss: 0.6803, Validation Accuracy: 0.5300, AUC: 0.7103\n",
      "Epoch 158/200, Loss: 0.6797, Validation Accuracy: 0.5300, AUC: 0.7108\n",
      "Epoch 159/200, Loss: 0.6788, Validation Accuracy: 0.5300, AUC: 0.7114\n",
      "Epoch 160/200, Loss: 0.6776, Validation Accuracy: 0.5300, AUC: 0.7121\n",
      "Epoch 161/200, Loss: 0.6764, Validation Accuracy: 0.5300, AUC: 0.7130\n",
      "Epoch 162/200, Loss: 0.6741, Validation Accuracy: 0.5300, AUC: 0.7143\n",
      "Epoch 163/200, Loss: 0.6716, Validation Accuracy: 0.5300, AUC: 0.7159\n",
      "Epoch 164/200, Loss: 0.6670, Validation Accuracy: 0.5383, AUC: 0.7170\n",
      "Epoch 165/200, Loss: 0.6606, Validation Accuracy: 0.6417, AUC: 0.7195\n",
      "Epoch 166/200, Loss: 0.6556, Validation Accuracy: 0.5300, AUC: 0.7235\n",
      "Epoch 167/200, Loss: 0.9008, Validation Accuracy: 0.4700, AUC: 0.7217\n",
      "Epoch 168/200, Loss: 0.9360, Validation Accuracy: 0.4700, AUC: 0.7225\n",
      "Epoch 169/200, Loss: 0.8839, Validation Accuracy: 0.4700, AUC: 0.7248\n",
      "Epoch 170/200, Loss: 0.7779, Validation Accuracy: 0.4700, AUC: 0.7232\n",
      "Epoch 171/200, Loss: 0.7061, Validation Accuracy: 0.5300, AUC: 0.7168\n",
      "Epoch 172/200, Loss: 0.6842, Validation Accuracy: 0.5300, AUC: 0.7196\n",
      "Epoch 173/200, Loss: 0.7926, Validation Accuracy: 0.5300, AUC: 0.7698\n",
      "Epoch 174/200, Loss: 0.6890, Validation Accuracy: 0.5300, AUC: 0.7192\n",
      "Epoch 175/200, Loss: 0.6880, Validation Accuracy: 0.5300, AUC: 0.7219\n",
      "Epoch 176/200, Loss: 0.6874, Validation Accuracy: 0.5300, AUC: 0.7215\n",
      "Epoch 177/200, Loss: 0.6862, Validation Accuracy: 0.5300, AUC: 0.7126\n",
      "Epoch 178/200, Loss: 0.6835, Validation Accuracy: 0.5300, AUC: 0.7085\n",
      "Epoch 179/200, Loss: 0.7050, Validation Accuracy: 0.5300, AUC: 0.7152\n",
      "Epoch 180/200, Loss: 0.6818, Validation Accuracy: 0.5300, AUC: 0.7205\n",
      "Epoch 181/200, Loss: 0.6812, Validation Accuracy: 0.5300, AUC: 0.7260\n",
      "Epoch 182/200, Loss: 0.6798, Validation Accuracy: 0.5300, AUC: 0.7351\n",
      "Epoch 183/200, Loss: 0.6780, Validation Accuracy: 0.5300, AUC: 0.7376\n",
      "Epoch 184/200, Loss: 0.6831, Validation Accuracy: 0.5300, AUC: 0.7443\n",
      "Epoch 185/200, Loss: 0.6821, Validation Accuracy: 0.5300, AUC: 0.7400\n",
      "Epoch 186/200, Loss: 0.6808, Validation Accuracy: 0.5417, AUC: 0.7485\n",
      "Epoch 187/200, Loss: 0.6812, Validation Accuracy: 0.5300, AUC: 0.7454\n",
      "Epoch 188/200, Loss: 0.6695, Validation Accuracy: 0.5300, AUC: 0.7465\n",
      "Epoch 189/200, Loss: 0.6935, Validation Accuracy: 0.6217, AUC: 0.7521\n",
      "Epoch 190/200, Loss: 0.6748, Validation Accuracy: 0.6883, AUC: 0.7619\n",
      "Epoch 191/200, Loss: 0.6845, Validation Accuracy: 0.6450, AUC: 0.7419\n",
      "Epoch 192/200, Loss: 0.6813, Validation Accuracy: 0.5300, AUC: 0.7618\n",
      "Epoch 193/200, Loss: 0.6762, Validation Accuracy: 0.5300, AUC: 0.7515\n",
      "Epoch 194/200, Loss: 0.6769, Validation Accuracy: 0.5300, AUC: 0.7438\n",
      "Epoch 195/200, Loss: 0.7131, Validation Accuracy: 0.6717, AUC: 0.8376\n",
      "Epoch 196/200, Loss: 0.6890, Validation Accuracy: 0.4700, AUC: 0.3084\n",
      "Epoch 197/200, Loss: 0.7630, Validation Accuracy: 0.5317, AUC: 0.7856\n",
      "Epoch 198/200, Loss: 0.6797, Validation Accuracy: 0.5300, AUC: 0.7706\n",
      "Epoch 199/200, Loss: 0.6710, Validation Accuracy: 0.5300, AUC: 0.7705\n",
      "Epoch 200/200, Loss: 0.6870, Validation Accuracy: 0.5300, AUC: 0.7837\n"
     ]
    },
    {
     "data": {
      "text/html": [
       "<style>\n",
       "    table.wandb td:nth-child(1) { padding: 0 10px; text-align: left ; width: auto;} td:nth-child(2) {text-align: left ; width: 100%}\n",
       "    .wandb-row { display: flex; flex-direction: row; flex-wrap: wrap; justify-content: flex-start; width: 100% }\n",
       "    .wandb-col { display: flex; flex-direction: column; flex-basis: 100%; flex: 1; padding: 10px; }\n",
       "    </style>\n",
       "<div class=\"wandb-row\"><div class=\"wandb-col\"><h3>Run history:</h3><br/><table class=\"wandb\"><tr><td>Final Best Epoch</td><td>▁</td></tr><tr><td>Final Best Val Accuracy</td><td>▁</td></tr><tr><td>best_epoch</td><td>▁▁▁▁▁▁▁▁▁▁▁▁▁▅▅▆▆▇▇▇▇███████████████████</td></tr><tr><td>best_val_accuracy</td><td>▁▁▁▁▁▁▁▁▁▁▁▁▁▁▁▂▂███████████████████████</td></tr><tr><td>roc_auc</td><td>▁█▇▇█▇▇███▁▇███▇██▇▇██▇██▇█▄█▇▆▆▆▇▇▆▇▇▇▇</td></tr><tr><td>train_loss</td><td>▆▅▄▄▄▄▄▄▃▄▄▄▄▄▄▄▄▁▄▄▃▇▄▄▄▄▃▄▄▄▄▄▃█▄▄▄▃▄▄</td></tr><tr><td>val_accuracy</td><td>▇▇▇▁▁▇▇▁▁▁▁▇▇▇▇▁▇▅▇▇▇▁▇▇▇▇▇▁▇▇▇▇█▁▇▇▇▇▇▇</td></tr></table><br/></div><div class=\"wandb-col\"><h3>Run summary:</h3><br/><table class=\"wandb\"><tr><td>Final Best Epoch</td><td>106</td></tr><tr><td>Final Best Val Accuracy</td><td>0.78</td></tr><tr><td>best_epoch</td><td>106</td></tr><tr><td>best_val_accuracy</td><td>0.78</td></tr><tr><td>roc_auc</td><td>0.78365</td></tr><tr><td>train_loss</td><td>0.68702</td></tr><tr><td>val_accuracy</td><td>0.53</td></tr></table><br/></div></div>"
      ],
      "text/plain": [
       "<IPython.core.display.HTML object>"
      ]
     },
     "metadata": {},
     "output_type": "display_data"
    },
    {
     "data": {
      "text/html": [
       " View run <strong style=\"color:#cdcd00\">snowy-sweep-9</strong> at: <a href='https://wandb.ai/zamtol/uncategorized/runs/t5vlfldq' target=\"_blank\">https://wandb.ai/zamtol/uncategorized/runs/t5vlfldq</a><br/> View project at: <a href='https://wandb.ai/zamtol/uncategorized' target=\"_blank\">https://wandb.ai/zamtol/uncategorized</a><br/>Synced 5 W&B file(s), 200 media file(s), 0 artifact file(s) and 0 other file(s)"
      ],
      "text/plain": [
       "<IPython.core.display.HTML object>"
      ]
     },
     "metadata": {},
     "output_type": "display_data"
    },
    {
     "data": {
      "text/html": [
       "Find logs at: <code>.\\wandb\\run-20240803_151301-t5vlfldq\\logs</code>"
      ],
      "text/plain": [
       "<IPython.core.display.HTML object>"
      ]
     },
     "metadata": {},
     "output_type": "display_data"
    },
    {
     "data": {
      "text/html": [
       "The new W&B backend becomes opt-out in version 0.18.0; try it out with `wandb.require(\"core\")`! See https://wandb.me/wandb-core for more information."
      ],
      "text/plain": [
       "<IPython.core.display.HTML object>"
      ]
     },
     "metadata": {},
     "output_type": "display_data"
    },
    {
     "name": "stderr",
     "output_type": "stream",
     "text": [
      "\u001b[34m\u001b[1mwandb\u001b[0m: Agent Starting Run: pmzynv4t with config:\n",
      "\u001b[34m\u001b[1mwandb\u001b[0m: \tarchitecture: RandomForest\n",
      "\u001b[34m\u001b[1mwandb\u001b[0m: \tepochs: 200\n",
      "\u001b[34m\u001b[1mwandb\u001b[0m: \tlearning_rate: 0.1\n",
      "\u001b[34m\u001b[1mwandb\u001b[0m: \tseed: 42\n",
      "\u001b[34m\u001b[1mwandb\u001b[0m: \tweight_decay: 0.0001\n",
      "Failed to detect the name of this notebook, you can set it manually with the WANDB_NOTEBOOK_NAME environment variable to enable code saving.\n"
     ]
    },
    {
     "data": {
      "text/html": [
       "Tracking run with wandb version 0.17.5"
      ],
      "text/plain": [
       "<IPython.core.display.HTML object>"
      ]
     },
     "metadata": {},
     "output_type": "display_data"
    },
    {
     "data": {
      "text/html": [
       "Run data is saved locally in <code>c:\\Users\\ADMIN\\git\\hack\\wandb\\run-20240803_151340-pmzynv4t</code>"
      ],
      "text/plain": [
       "<IPython.core.display.HTML object>"
      ]
     },
     "metadata": {},
     "output_type": "display_data"
    },
    {
     "data": {
      "text/html": [
       "Syncing run <strong><a href='https://wandb.ai/zamtol/uncategorized/runs/pmzynv4t' target=\"_blank\">rural-sweep-10</a></strong> to <a href='https://wandb.ai/zamtol/uncategorized' target=\"_blank\">Weights & Biases</a> (<a href='https://wandb.me/run' target=\"_blank\">docs</a>)<br/>Sweep page: <a href='https://wandb.ai/zamtol/uncategorized/sweeps/y1r7j6mo' target=\"_blank\">https://wandb.ai/zamtol/uncategorized/sweeps/y1r7j6mo</a>"
      ],
      "text/plain": [
       "<IPython.core.display.HTML object>"
      ]
     },
     "metadata": {},
     "output_type": "display_data"
    },
    {
     "data": {
      "text/html": [
       " View project at <a href='https://wandb.ai/zamtol/uncategorized' target=\"_blank\">https://wandb.ai/zamtol/uncategorized</a>"
      ],
      "text/plain": [
       "<IPython.core.display.HTML object>"
      ]
     },
     "metadata": {},
     "output_type": "display_data"
    },
    {
     "data": {
      "text/html": [
       " View sweep at <a href='https://wandb.ai/zamtol/uncategorized/sweeps/y1r7j6mo' target=\"_blank\">https://wandb.ai/zamtol/uncategorized/sweeps/y1r7j6mo</a>"
      ],
      "text/plain": [
       "<IPython.core.display.HTML object>"
      ]
     },
     "metadata": {},
     "output_type": "display_data"
    },
    {
     "data": {
      "text/html": [
       " View run at <a href='https://wandb.ai/zamtol/uncategorized/runs/pmzynv4t' target=\"_blank\">https://wandb.ai/zamtol/uncategorized/runs/pmzynv4t</a>"
      ],
      "text/plain": [
       "<IPython.core.display.HTML object>"
      ]
     },
     "metadata": {},
     "output_type": "display_data"
    },
    {
     "name": "stdout",
     "output_type": "stream",
     "text": [
      "Epoch 1/200, Loss: 0.6887, Validation Accuracy: 0.5300, AUC: 0.8075\n",
      "Epoch 2/200, Loss: 1.3565, Validation Accuracy: 0.4700, AUC: 0.2130\n",
      "Epoch 3/200, Loss: 1.0441, Validation Accuracy: 0.5300, AUC: 0.3380\n",
      "Epoch 4/200, Loss: 0.6890, Validation Accuracy: 0.5300, AUC: 0.7729\n",
      "Epoch 5/200, Loss: 0.6985, Validation Accuracy: 0.5300, AUC: 0.2808\n",
      "Epoch 6/200, Loss: 0.6885, Validation Accuracy: 0.5300, AUC: 0.7971\n",
      "Epoch 7/200, Loss: 0.6863, Validation Accuracy: 0.5300, AUC: 0.7958\n",
      "Epoch 8/200, Loss: 0.6778, Validation Accuracy: 0.5300, AUC: 0.8258\n",
      "Epoch 9/200, Loss: 0.6743, Validation Accuracy: 0.4700, AUC: 0.2305\n",
      "Epoch 10/200, Loss: 0.7249, Validation Accuracy: 0.5300, AUC: 0.8813\n",
      "Epoch 11/200, Loss: 0.6625, Validation Accuracy: 0.5300, AUC: 0.8712\n",
      "Epoch 12/200, Loss: 0.6853, Validation Accuracy: 0.5333, AUC: 0.8807\n",
      "Epoch 13/200, Loss: 0.6548, Validation Accuracy: 0.7000, AUC: 0.8728\n",
      "Epoch 14/200, Loss: 0.6458, Validation Accuracy: 0.5533, AUC: 0.8753\n",
      "Epoch 15/200, Loss: 0.6214, Validation Accuracy: 0.5583, AUC: 0.8784\n",
      "Epoch 16/200, Loss: 0.6058, Validation Accuracy: 0.6867, AUC: 0.8449\n",
      "Epoch 17/200, Loss: 0.6375, Validation Accuracy: 0.7733, AUC: 0.8652\n",
      "Epoch 18/200, Loss: 0.5442, Validation Accuracy: 0.5750, AUC: 0.8794\n",
      "Epoch 19/200, Loss: 0.7792, Validation Accuracy: 0.7683, AUC: 0.8719\n",
      "Epoch 20/200, Loss: 0.5458, Validation Accuracy: 0.6833, AUC: 0.8495\n",
      "Epoch 21/200, Loss: 0.6259, Validation Accuracy: 0.5300, AUC: 0.7846\n",
      "Epoch 22/200, Loss: 0.8838, Validation Accuracy: 0.5167, AUC: 0.8711\n",
      "Epoch 23/200, Loss: 0.6879, Validation Accuracy: 0.5467, AUC: 0.8776\n",
      "Epoch 24/200, Loss: 0.6900, Validation Accuracy: 0.7783, AUC: 0.8718\n",
      "Epoch 25/200, Loss: 0.5292, Validation Accuracy: 0.6250, AUC: 0.8793\n",
      "Epoch 26/200, Loss: 0.5920, Validation Accuracy: 0.6567, AUC: 0.8786\n",
      "Epoch 27/200, Loss: 0.5411, Validation Accuracy: 0.7850, AUC: 0.8724\n",
      "Epoch 28/200, Loss: 0.4776, Validation Accuracy: 0.7683, AUC: 0.8677\n",
      "Epoch 29/200, Loss: 0.5173, Validation Accuracy: 0.7833, AUC: 0.8709\n",
      "Epoch 30/200, Loss: 0.4926, Validation Accuracy: 0.7983, AUC: 0.8788\n",
      "Epoch 31/200, Loss: 0.4399, Validation Accuracy: 0.7717, AUC: 0.8840\n",
      "Epoch 32/200, Loss: 0.4562, Validation Accuracy: 0.7983, AUC: 0.8793\n",
      "Epoch 33/200, Loss: 0.4430, Validation Accuracy: 0.8083, AUC: 0.8870\n",
      "Epoch 34/200, Loss: 0.4152, Validation Accuracy: 0.8117, AUC: 0.8909\n",
      "Epoch 35/200, Loss: 0.3993, Validation Accuracy: 0.8017, AUC: 0.8939\n",
      "Epoch 36/200, Loss: 0.4020, Validation Accuracy: 0.8250, AUC: 0.8983\n",
      "Epoch 37/200, Loss: 0.4034, Validation Accuracy: 0.8150, AUC: 0.9003\n",
      "Epoch 38/200, Loss: 0.3934, Validation Accuracy: 0.8367, AUC: 0.9014\n",
      "Epoch 39/200, Loss: 0.3789, Validation Accuracy: 0.8233, AUC: 0.9023\n",
      "Epoch 40/200, Loss: 0.3804, Validation Accuracy: 0.8333, AUC: 0.9023\n",
      "Epoch 41/200, Loss: 0.3710, Validation Accuracy: 0.7783, AUC: 0.8958\n",
      "Epoch 42/200, Loss: 0.4732, Validation Accuracy: 0.7683, AUC: 0.9035\n",
      "Epoch 43/200, Loss: 0.5066, Validation Accuracy: 0.8283, AUC: 0.9006\n",
      "Epoch 44/200, Loss: 0.3898, Validation Accuracy: 0.8200, AUC: 0.9004\n",
      "Epoch 45/200, Loss: 0.4003, Validation Accuracy: 0.8250, AUC: 0.9028\n",
      "Epoch 46/200, Loss: 0.3928, Validation Accuracy: 0.8317, AUC: 0.9034\n",
      "Epoch 47/200, Loss: 0.3794, Validation Accuracy: 0.8100, AUC: 0.8998\n",
      "Epoch 48/200, Loss: 0.4021, Validation Accuracy: 0.8317, AUC: 0.9021\n",
      "Epoch 49/200, Loss: 0.3590, Validation Accuracy: 0.8283, AUC: 0.9026\n",
      "Epoch 50/200, Loss: 0.3616, Validation Accuracy: 0.8133, AUC: 0.8995\n",
      "Epoch 51/200, Loss: 0.3921, Validation Accuracy: 0.8250, AUC: 0.9047\n",
      "Epoch 52/200, Loss: 0.3900, Validation Accuracy: 0.8333, AUC: 0.9041\n",
      "Epoch 53/200, Loss: 0.3541, Validation Accuracy: 0.8350, AUC: 0.9033\n",
      "Epoch 54/200, Loss: 0.3736, Validation Accuracy: 0.8300, AUC: 0.9047\n",
      "Epoch 55/200, Loss: 0.3533, Validation Accuracy: 0.8400, AUC: 0.9061\n",
      "Epoch 56/200, Loss: 0.3671, Validation Accuracy: 0.8300, AUC: 0.9043\n",
      "Epoch 57/200, Loss: 0.3538, Validation Accuracy: 0.8333, AUC: 0.9041\n",
      "Epoch 58/200, Loss: 0.3547, Validation Accuracy: 0.8350, AUC: 0.9047\n",
      "Epoch 59/200, Loss: 0.3485, Validation Accuracy: 0.8300, AUC: 0.9054\n",
      "Epoch 60/200, Loss: 0.3524, Validation Accuracy: 0.8283, AUC: 0.9049\n",
      "Epoch 61/200, Loss: 0.3447, Validation Accuracy: 0.8317, AUC: 0.9062\n",
      "Epoch 62/200, Loss: 0.3427, Validation Accuracy: 0.8400, AUC: 0.9019\n",
      "Epoch 63/200, Loss: 0.3488, Validation Accuracy: 0.7717, AUC: 0.9082\n",
      "Epoch 64/200, Loss: 0.5103, Validation Accuracy: 0.6850, AUC: 0.8609\n",
      "Epoch 65/200, Loss: 0.6434, Validation Accuracy: 0.7650, AUC: 0.8925\n",
      "Epoch 66/200, Loss: 0.4587, Validation Accuracy: 0.7883, AUC: 0.9091\n",
      "Epoch 67/200, Loss: 0.4133, Validation Accuracy: 0.7467, AUC: 0.9044\n",
      "Epoch 68/200, Loss: 0.4914, Validation Accuracy: 0.8283, AUC: 0.9042\n",
      "Epoch 69/200, Loss: 0.3904, Validation Accuracy: 0.7633, AUC: 0.8999\n",
      "Epoch 70/200, Loss: 0.4797, Validation Accuracy: 0.8133, AUC: 0.9028\n",
      "Epoch 71/200, Loss: 0.4282, Validation Accuracy: 0.8083, AUC: 0.9021\n",
      "Epoch 72/200, Loss: 0.3896, Validation Accuracy: 0.7700, AUC: 0.9034\n",
      "Epoch 73/200, Loss: 0.4409, Validation Accuracy: 0.8283, AUC: 0.9019\n",
      "Epoch 74/200, Loss: 0.3690, Validation Accuracy: 0.7417, AUC: 0.9007\n",
      "Epoch 75/200, Loss: 0.5029, Validation Accuracy: 0.8233, AUC: 0.9030\n",
      "Epoch 76/200, Loss: 0.3711, Validation Accuracy: 0.8000, AUC: 0.9038\n",
      "Epoch 77/200, Loss: 0.4208, Validation Accuracy: 0.8333, AUC: 0.9035\n",
      "Epoch 78/200, Loss: 0.3592, Validation Accuracy: 0.8050, AUC: 0.8996\n",
      "Epoch 79/200, Loss: 0.4058, Validation Accuracy: 0.8233, AUC: 0.9002\n",
      "Epoch 80/200, Loss: 0.3723, Validation Accuracy: 0.8233, AUC: 0.9051\n",
      "Epoch 81/200, Loss: 0.3632, Validation Accuracy: 0.8250, AUC: 0.9053\n",
      "Epoch 82/200, Loss: 0.3776, Validation Accuracy: 0.8383, AUC: 0.9061\n",
      "Epoch 83/200, Loss: 0.3501, Validation Accuracy: 0.8283, AUC: 0.9056\n",
      "Epoch 84/200, Loss: 0.3674, Validation Accuracy: 0.8367, AUC: 0.9059\n",
      "Epoch 85/200, Loss: 0.3556, Validation Accuracy: 0.8333, AUC: 0.9049\n",
      "Epoch 86/200, Loss: 0.3477, Validation Accuracy: 0.8283, AUC: 0.9066\n",
      "Epoch 87/200, Loss: 0.3568, Validation Accuracy: 0.8350, AUC: 0.9047\n",
      "Epoch 88/200, Loss: 0.3406, Validation Accuracy: 0.8400, AUC: 0.9062\n",
      "Epoch 89/200, Loss: 0.3513, Validation Accuracy: 0.8317, AUC: 0.9063\n",
      "Epoch 90/200, Loss: 0.3420, Validation Accuracy: 0.8433, AUC: 0.9063\n",
      "Epoch 91/200, Loss: 0.3421, Validation Accuracy: 0.8383, AUC: 0.9083\n",
      "Epoch 92/200, Loss: 0.3443, Validation Accuracy: 0.8317, AUC: 0.9076\n",
      "Epoch 93/200, Loss: 0.3357, Validation Accuracy: 0.8400, AUC: 0.9083\n",
      "Epoch 94/200, Loss: 0.3389, Validation Accuracy: 0.7567, AUC: 0.9061\n",
      "Epoch 95/200, Loss: 0.5379, Validation Accuracy: 0.7150, AUC: 0.8805\n",
      "Epoch 96/200, Loss: 0.5627, Validation Accuracy: 0.7350, AUC: 0.8900\n",
      "Epoch 97/200, Loss: 0.5112, Validation Accuracy: 0.8400, AUC: 0.9099\n",
      "Epoch 98/200, Loss: 0.3435, Validation Accuracy: 0.7650, AUC: 0.9097\n",
      "Epoch 99/200, Loss: 0.5125, Validation Accuracy: 0.7850, AUC: 0.9101\n",
      "Epoch 100/200, Loss: 0.4330, Validation Accuracy: 0.8383, AUC: 0.9118\n",
      "Epoch 101/200, Loss: 0.3694, Validation Accuracy: 0.7617, AUC: 0.9110\n",
      "Epoch 102/200, Loss: 0.4599, Validation Accuracy: 0.7817, AUC: 0.9102\n",
      "Epoch 103/200, Loss: 0.4338, Validation Accuracy: 0.8450, AUC: 0.9121\n",
      "Epoch 104/200, Loss: 0.3550, Validation Accuracy: 0.8017, AUC: 0.9120\n",
      "Epoch 105/200, Loss: 0.4114, Validation Accuracy: 0.8117, AUC: 0.9127\n",
      "Epoch 106/200, Loss: 0.3838, Validation Accuracy: 0.8383, AUC: 0.9119\n",
      "Epoch 107/200, Loss: 0.3354, Validation Accuracy: 0.8250, AUC: 0.9094\n",
      "Epoch 108/200, Loss: 0.3725, Validation Accuracy: 0.8417, AUC: 0.9048\n",
      "Epoch 109/200, Loss: 0.3587, Validation Accuracy: 0.8367, AUC: 0.9081\n",
      "Epoch 110/200, Loss: 0.3298, Validation Accuracy: 0.8233, AUC: 0.9118\n",
      "Epoch 111/200, Loss: 0.3598, Validation Accuracy: 0.8350, AUC: 0.9099\n",
      "Epoch 112/200, Loss: 0.3382, Validation Accuracy: 0.8450, AUC: 0.9115\n",
      "Epoch 113/200, Loss: 0.3327, Validation Accuracy: 0.8400, AUC: 0.9045\n",
      "Epoch 114/200, Loss: 0.3439, Validation Accuracy: 0.8367, AUC: 0.9080\n",
      "Epoch 115/200, Loss: 0.3302, Validation Accuracy: 0.8383, AUC: 0.9118\n",
      "Epoch 116/200, Loss: 0.3298, Validation Accuracy: 0.8317, AUC: 0.9143\n",
      "Epoch 117/200, Loss: 0.3342, Validation Accuracy: 0.8417, AUC: 0.9149\n",
      "Epoch 118/200, Loss: 0.3243, Validation Accuracy: 0.8417, AUC: 0.9158\n",
      "Epoch 119/200, Loss: 0.3261, Validation Accuracy: 0.8383, AUC: 0.9163\n",
      "Epoch 120/200, Loss: 0.3266, Validation Accuracy: 0.8383, AUC: 0.9133\n",
      "Epoch 121/200, Loss: 0.3180, Validation Accuracy: 0.8467, AUC: 0.9136\n",
      "Epoch 122/200, Loss: 0.3220, Validation Accuracy: 0.8450, AUC: 0.9158\n",
      "Epoch 123/200, Loss: 0.3212, Validation Accuracy: 0.8433, AUC: 0.9168\n",
      "Epoch 124/200, Loss: 0.3155, Validation Accuracy: 0.8400, AUC: 0.9168\n",
      "Epoch 125/200, Loss: 0.3179, Validation Accuracy: 0.8400, AUC: 0.9172\n",
      "Epoch 126/200, Loss: 0.3163, Validation Accuracy: 0.8467, AUC: 0.9176\n",
      "Epoch 127/200, Loss: 0.3129, Validation Accuracy: 0.8467, AUC: 0.9195\n",
      "Epoch 128/200, Loss: 0.3148, Validation Accuracy: 0.8500, AUC: 0.9150\n",
      "Epoch 129/200, Loss: 0.3120, Validation Accuracy: 0.8450, AUC: 0.9166\n",
      "Epoch 130/200, Loss: 0.3101, Validation Accuracy: 0.8400, AUC: 0.9155\n",
      "Epoch 131/200, Loss: 0.3113, Validation Accuracy: 0.8433, AUC: 0.9161\n",
      "Epoch 132/200, Loss: 0.3077, Validation Accuracy: 0.8517, AUC: 0.9164\n",
      "Epoch 133/200, Loss: 0.3082, Validation Accuracy: 0.8533, AUC: 0.9192\n",
      "Epoch 134/200, Loss: 0.3077, Validation Accuracy: 0.8483, AUC: 0.9197\n",
      "Epoch 135/200, Loss: 0.3049, Validation Accuracy: 0.8467, AUC: 0.9203\n",
      "Epoch 136/200, Loss: 0.3064, Validation Accuracy: 0.8467, AUC: 0.9210\n",
      "Epoch 137/200, Loss: 0.3041, Validation Accuracy: 0.8517, AUC: 0.9193\n",
      "Epoch 138/200, Loss: 0.3039, Validation Accuracy: 0.8550, AUC: 0.9199\n",
      "Epoch 139/200, Loss: 0.3040, Validation Accuracy: 0.8500, AUC: 0.9209\n",
      "Epoch 140/200, Loss: 0.3021, Validation Accuracy: 0.8467, AUC: 0.9214\n",
      "Epoch 141/200, Loss: 0.3031, Validation Accuracy: 0.8483, AUC: 0.9187\n",
      "Epoch 142/200, Loss: 0.3016, Validation Accuracy: 0.8483, AUC: 0.9187\n",
      "Epoch 143/200, Loss: 0.3015, Validation Accuracy: 0.8500, AUC: 0.9200\n",
      "Epoch 144/200, Loss: 0.3015, Validation Accuracy: 0.8517, AUC: 0.9195\n",
      "Epoch 145/200, Loss: 0.3005, Validation Accuracy: 0.8483, AUC: 0.9190\n",
      "Epoch 146/200, Loss: 0.3007, Validation Accuracy: 0.8500, AUC: 0.9191\n",
      "Epoch 147/200, Loss: 0.3000, Validation Accuracy: 0.8500, AUC: 0.9199\n",
      "Epoch 148/200, Loss: 0.2996, Validation Accuracy: 0.8500, AUC: 0.9207\n",
      "Epoch 149/200, Loss: 0.2996, Validation Accuracy: 0.8550, AUC: 0.9204\n",
      "Epoch 150/200, Loss: 0.2989, Validation Accuracy: 0.8483, AUC: 0.9202\n",
      "Epoch 151/200, Loss: 0.2989, Validation Accuracy: 0.8517, AUC: 0.9205\n",
      "Epoch 152/200, Loss: 0.2985, Validation Accuracy: 0.8517, AUC: 0.9210\n",
      "Epoch 153/200, Loss: 0.2982, Validation Accuracy: 0.8533, AUC: 0.9222\n",
      "Epoch 154/200, Loss: 0.2982, Validation Accuracy: 0.8550, AUC: 0.9214\n",
      "Epoch 155/200, Loss: 0.2976, Validation Accuracy: 0.8550, AUC: 0.9210\n",
      "Epoch 156/200, Loss: 0.2975, Validation Accuracy: 0.8517, AUC: 0.9217\n",
      "Epoch 157/200, Loss: 0.2971, Validation Accuracy: 0.8533, AUC: 0.9225\n",
      "Epoch 158/200, Loss: 0.2971, Validation Accuracy: 0.8533, AUC: 0.9233\n",
      "Epoch 159/200, Loss: 0.2967, Validation Accuracy: 0.8533, AUC: 0.9237\n",
      "Epoch 160/200, Loss: 0.2967, Validation Accuracy: 0.8533, AUC: 0.9230\n",
      "Epoch 161/200, Loss: 0.2963, Validation Accuracy: 0.8533, AUC: 0.9236\n",
      "Epoch 162/200, Loss: 0.2962, Validation Accuracy: 0.8533, AUC: 0.9236\n",
      "Epoch 163/200, Loss: 0.2958, Validation Accuracy: 0.8550, AUC: 0.9242\n",
      "Epoch 164/200, Loss: 0.2956, Validation Accuracy: 0.8550, AUC: 0.9237\n",
      "Epoch 165/200, Loss: 0.2953, Validation Accuracy: 0.8533, AUC: 0.9230\n",
      "Epoch 166/200, Loss: 0.2952, Validation Accuracy: 0.8550, AUC: 0.9253\n",
      "Epoch 167/200, Loss: 0.2949, Validation Accuracy: 0.8533, AUC: 0.9267\n",
      "Epoch 168/200, Loss: 0.2948, Validation Accuracy: 0.8550, AUC: 0.9257\n",
      "Epoch 169/200, Loss: 0.2945, Validation Accuracy: 0.8550, AUC: 0.9256\n",
      "Epoch 170/200, Loss: 0.2943, Validation Accuracy: 0.8550, AUC: 0.9259\n",
      "Epoch 171/200, Loss: 0.2940, Validation Accuracy: 0.8517, AUC: 0.9265\n",
      "Epoch 172/200, Loss: 0.2939, Validation Accuracy: 0.8533, AUC: 0.9253\n",
      "Epoch 173/200, Loss: 0.2936, Validation Accuracy: 0.8533, AUC: 0.9249\n",
      "Epoch 174/200, Loss: 0.2934, Validation Accuracy: 0.8533, AUC: 0.9254\n",
      "Epoch 175/200, Loss: 0.2933, Validation Accuracy: 0.8550, AUC: 0.9257\n",
      "Epoch 176/200, Loss: 0.2931, Validation Accuracy: 0.8550, AUC: 0.9252\n",
      "Epoch 177/200, Loss: 0.2929, Validation Accuracy: 0.8533, AUC: 0.9235\n",
      "Epoch 178/200, Loss: 0.2928, Validation Accuracy: 0.8550, AUC: 0.9241\n",
      "Epoch 179/200, Loss: 0.2926, Validation Accuracy: 0.8533, AUC: 0.9268\n",
      "Epoch 180/200, Loss: 0.2924, Validation Accuracy: 0.8550, AUC: 0.9242\n",
      "Epoch 181/200, Loss: 0.2922, Validation Accuracy: 0.8533, AUC: 0.9241\n",
      "Epoch 182/200, Loss: 0.2921, Validation Accuracy: 0.8533, AUC: 0.9240\n",
      "Epoch 183/200, Loss: 0.2920, Validation Accuracy: 0.8533, AUC: 0.9236\n",
      "Epoch 184/200, Loss: 0.2919, Validation Accuracy: 0.8550, AUC: 0.9238\n",
      "Epoch 185/200, Loss: 0.2918, Validation Accuracy: 0.8567, AUC: 0.9236\n",
      "Epoch 186/200, Loss: 0.2918, Validation Accuracy: 0.8550, AUC: 0.9240\n",
      "Epoch 187/200, Loss: 0.2920, Validation Accuracy: 0.8600, AUC: 0.9245\n",
      "Epoch 188/200, Loss: 0.2929, Validation Accuracy: 0.8500, AUC: 0.9240\n",
      "Epoch 189/200, Loss: 0.2929, Validation Accuracy: 0.8567, AUC: 0.9246\n",
      "Epoch 190/200, Loss: 0.2919, Validation Accuracy: 0.8533, AUC: 0.9240\n",
      "Epoch 191/200, Loss: 0.2915, Validation Accuracy: 0.8550, AUC: 0.9240\n",
      "Epoch 192/200, Loss: 0.2914, Validation Accuracy: 0.8533, AUC: 0.9241\n",
      "Epoch 193/200, Loss: 0.2913, Validation Accuracy: 0.8550, AUC: 0.9236\n",
      "Epoch 194/200, Loss: 0.2920, Validation Accuracy: 0.8533, AUC: 0.9242\n",
      "Epoch 195/200, Loss: 0.2928, Validation Accuracy: 0.8550, AUC: 0.9239\n",
      "Epoch 196/200, Loss: 0.2926, Validation Accuracy: 0.8533, AUC: 0.9241\n",
      "Epoch 197/200, Loss: 0.2912, Validation Accuracy: 0.8533, AUC: 0.9242\n",
      "Epoch 198/200, Loss: 0.2911, Validation Accuracy: 0.8567, AUC: 0.9246\n",
      "Epoch 199/200, Loss: 0.2916, Validation Accuracy: 0.8517, AUC: 0.9244\n",
      "Epoch 200/200, Loss: 0.2919, Validation Accuracy: 0.8550, AUC: 0.9249\n"
     ]
    },
    {
     "data": {
      "text/html": [
       "<style>\n",
       "    table.wandb td:nth-child(1) { padding: 0 10px; text-align: left ; width: auto;} td:nth-child(2) {text-align: left ; width: 100%}\n",
       "    .wandb-row { display: flex; flex-direction: row; flex-wrap: wrap; justify-content: flex-start; width: 100% }\n",
       "    .wandb-col { display: flex; flex-direction: column; flex-basis: 100%; flex: 1; padding: 10px; }\n",
       "    </style>\n",
       "<div class=\"wandb-row\"><div class=\"wandb-col\"><h3>Run history:</h3><br/><table class=\"wandb\"><tr><td>Final Best Epoch</td><td>▁</td></tr><tr><td>Final Best Val Accuracy</td><td>▁</td></tr><tr><td>best_epoch</td><td>▁▁▁▁▂▂▂▂▂▂▂▃▃▃▃▃▃▃▄▄▄▅▅▅▆▆▆▆▆▆▆▆▆▆▆▆▆███</td></tr><tr><td>best_val_accuracy</td><td>▁▁▁▅▆▆▇▇████████████████████████████████</td></tr><tr><td>roc_auc</td><td>▁▇█▇▇███████████████████████████████████</td></tr><tr><td>train_loss</td><td>█▄▄▃▅▃▂▂▂▂▂▁▁▂▂▁▂▁▁▁▂▂▁▁▁▁▁▁▁▁▁▁▁▁▁▁▁▁▁▁</td></tr><tr><td>val_accuracy</td><td>▁▂▂▅▂▄▇▇▆█████▆▇███▆▇███████████████████</td></tr></table><br/></div><div class=\"wandb-col\"><h3>Run summary:</h3><br/><table class=\"wandb\"><tr><td>Final Best Epoch</td><td>187</td></tr><tr><td>Final Best Val Accuracy</td><td>0.86</td></tr><tr><td>best_epoch</td><td>187</td></tr><tr><td>best_val_accuracy</td><td>0.86</td></tr><tr><td>roc_auc</td><td>0.9249</td></tr><tr><td>train_loss</td><td>0.29191</td></tr><tr><td>val_accuracy</td><td>0.855</td></tr></table><br/></div></div>"
      ],
      "text/plain": [
       "<IPython.core.display.HTML object>"
      ]
     },
     "metadata": {},
     "output_type": "display_data"
    },
    {
     "data": {
      "text/html": [
       " View run <strong style=\"color:#cdcd00\">rural-sweep-10</strong> at: <a href='https://wandb.ai/zamtol/uncategorized/runs/pmzynv4t' target=\"_blank\">https://wandb.ai/zamtol/uncategorized/runs/pmzynv4t</a><br/> View project at: <a href='https://wandb.ai/zamtol/uncategorized' target=\"_blank\">https://wandb.ai/zamtol/uncategorized</a><br/>Synced 5 W&B file(s), 200 media file(s), 0 artifact file(s) and 0 other file(s)"
      ],
      "text/plain": [
       "<IPython.core.display.HTML object>"
      ]
     },
     "metadata": {},
     "output_type": "display_data"
    },
    {
     "data": {
      "text/html": [
       "Find logs at: <code>.\\wandb\\run-20240803_151340-pmzynv4t\\logs</code>"
      ],
      "text/plain": [
       "<IPython.core.display.HTML object>"
      ]
     },
     "metadata": {},
     "output_type": "display_data"
    },
    {
     "data": {
      "text/html": [
       "The new W&B backend becomes opt-out in version 0.18.0; try it out with `wandb.require(\"core\")`! See https://wandb.me/wandb-core for more information."
      ],
      "text/plain": [
       "<IPython.core.display.HTML object>"
      ]
     },
     "metadata": {},
     "output_type": "display_data"
    },
    {
     "name": "stderr",
     "output_type": "stream",
     "text": [
      "\u001b[34m\u001b[1mwandb\u001b[0m: Agent Starting Run: 4snffz3r with config:\n",
      "\u001b[34m\u001b[1mwandb\u001b[0m: \tarchitecture: RandomForest\n",
      "\u001b[34m\u001b[1mwandb\u001b[0m: \tepochs: 200\n",
      "\u001b[34m\u001b[1mwandb\u001b[0m: \tlearning_rate: 0.05\n",
      "\u001b[34m\u001b[1mwandb\u001b[0m: \tseed: 42\n",
      "\u001b[34m\u001b[1mwandb\u001b[0m: \tweight_decay: 0.0005\n",
      "Failed to detect the name of this notebook, you can set it manually with the WANDB_NOTEBOOK_NAME environment variable to enable code saving.\n"
     ]
    },
    {
     "data": {
      "text/html": [
       "Tracking run with wandb version 0.17.5"
      ],
      "text/plain": [
       "<IPython.core.display.HTML object>"
      ]
     },
     "metadata": {},
     "output_type": "display_data"
    },
    {
     "data": {
      "text/html": [
       "Run data is saved locally in <code>c:\\Users\\ADMIN\\git\\hack\\wandb\\run-20240803_151417-4snffz3r</code>"
      ],
      "text/plain": [
       "<IPython.core.display.HTML object>"
      ]
     },
     "metadata": {},
     "output_type": "display_data"
    },
    {
     "data": {
      "text/html": [
       "Syncing run <strong><a href='https://wandb.ai/zamtol/uncategorized/runs/4snffz3r' target=\"_blank\">cerulean-sweep-11</a></strong> to <a href='https://wandb.ai/zamtol/uncategorized' target=\"_blank\">Weights & Biases</a> (<a href='https://wandb.me/run' target=\"_blank\">docs</a>)<br/>Sweep page: <a href='https://wandb.ai/zamtol/uncategorized/sweeps/y1r7j6mo' target=\"_blank\">https://wandb.ai/zamtol/uncategorized/sweeps/y1r7j6mo</a>"
      ],
      "text/plain": [
       "<IPython.core.display.HTML object>"
      ]
     },
     "metadata": {},
     "output_type": "display_data"
    },
    {
     "data": {
      "text/html": [
       " View project at <a href='https://wandb.ai/zamtol/uncategorized' target=\"_blank\">https://wandb.ai/zamtol/uncategorized</a>"
      ],
      "text/plain": [
       "<IPython.core.display.HTML object>"
      ]
     },
     "metadata": {},
     "output_type": "display_data"
    },
    {
     "data": {
      "text/html": [
       " View sweep at <a href='https://wandb.ai/zamtol/uncategorized/sweeps/y1r7j6mo' target=\"_blank\">https://wandb.ai/zamtol/uncategorized/sweeps/y1r7j6mo</a>"
      ],
      "text/plain": [
       "<IPython.core.display.HTML object>"
      ]
     },
     "metadata": {},
     "output_type": "display_data"
    },
    {
     "data": {
      "text/html": [
       " View run at <a href='https://wandb.ai/zamtol/uncategorized/runs/4snffz3r' target=\"_blank\">https://wandb.ai/zamtol/uncategorized/runs/4snffz3r</a>"
      ],
      "text/plain": [
       "<IPython.core.display.HTML object>"
      ]
     },
     "metadata": {},
     "output_type": "display_data"
    },
    {
     "name": "stdout",
     "output_type": "stream",
     "text": [
      "Epoch 1/200, Loss: 0.6914, Validation Accuracy: 0.5300, AUC: 0.8264\n",
      "Epoch 2/200, Loss: 0.6852, Validation Accuracy: 0.5300, AUC: 0.8684\n",
      "Epoch 3/200, Loss: 0.6866, Validation Accuracy: 0.5300, AUC: 0.8719\n",
      "Epoch 4/200, Loss: 0.6849, Validation Accuracy: 0.5300, AUC: 0.8684\n",
      "Epoch 5/200, Loss: 0.6738, Validation Accuracy: 0.5300, AUC: 0.8662\n",
      "Epoch 6/200, Loss: 0.6878, Validation Accuracy: 0.5300, AUC: 0.8799\n",
      "Epoch 7/200, Loss: 0.6662, Validation Accuracy: 0.7267, AUC: 0.8811\n",
      "Epoch 8/200, Loss: 0.6782, Validation Accuracy: 0.7533, AUC: 0.8700\n",
      "Epoch 9/200, Loss: 0.6718, Validation Accuracy: 0.5567, AUC: 0.8722\n",
      "Epoch 10/200, Loss: 0.6424, Validation Accuracy: 0.5300, AUC: 0.8771\n",
      "Epoch 11/200, Loss: 0.6609, Validation Accuracy: 0.5733, AUC: 0.8668\n",
      "Epoch 12/200, Loss: 0.6083, Validation Accuracy: 0.7600, AUC: 0.8548\n",
      "Epoch 13/200, Loss: 0.6055, Validation Accuracy: 0.6667, AUC: 0.8636\n",
      "Epoch 14/200, Loss: 0.5508, Validation Accuracy: 0.6167, AUC: 0.8708\n",
      "Epoch 15/200, Loss: 0.6109, Validation Accuracy: 0.7567, AUC: 0.8185\n",
      "Epoch 16/200, Loss: 0.5710, Validation Accuracy: 0.6700, AUC: 0.8247\n",
      "Epoch 17/200, Loss: 0.6150, Validation Accuracy: 0.7583, AUC: 0.8655\n",
      "Epoch 18/200, Loss: 0.5279, Validation Accuracy: 0.6700, AUC: 0.8753\n",
      "Epoch 19/200, Loss: 0.5591, Validation Accuracy: 0.7767, AUC: 0.8731\n",
      "Epoch 20/200, Loss: 0.4716, Validation Accuracy: 0.7683, AUC: 0.8634\n",
      "Epoch 21/200, Loss: 0.4869, Validation Accuracy: 0.7850, AUC: 0.8742\n",
      "Epoch 22/200, Loss: 0.4595, Validation Accuracy: 0.7767, AUC: 0.8795\n",
      "Epoch 23/200, Loss: 0.4587, Validation Accuracy: 0.8133, AUC: 0.8801\n",
      "Epoch 24/200, Loss: 0.4208, Validation Accuracy: 0.7833, AUC: 0.8799\n",
      "Epoch 25/200, Loss: 0.4561, Validation Accuracy: 0.8167, AUC: 0.8895\n",
      "Epoch 26/200, Loss: 0.4077, Validation Accuracy: 0.8050, AUC: 0.8934\n",
      "Epoch 27/200, Loss: 0.4093, Validation Accuracy: 0.8033, AUC: 0.8955\n",
      "Epoch 28/200, Loss: 0.4060, Validation Accuracy: 0.8217, AUC: 0.8963\n",
      "Epoch 29/200, Loss: 0.3821, Validation Accuracy: 0.8100, AUC: 0.8979\n",
      "Epoch 30/200, Loss: 0.4087, Validation Accuracy: 0.8350, AUC: 0.8984\n",
      "Epoch 31/200, Loss: 0.3705, Validation Accuracy: 0.8317, AUC: 0.8994\n",
      "Epoch 32/200, Loss: 0.3901, Validation Accuracy: 0.8283, AUC: 0.8990\n",
      "Epoch 33/200, Loss: 0.3714, Validation Accuracy: 0.8300, AUC: 0.9010\n",
      "Epoch 34/200, Loss: 0.3662, Validation Accuracy: 0.8367, AUC: 0.9028\n",
      "Epoch 35/200, Loss: 0.3665, Validation Accuracy: 0.8350, AUC: 0.9030\n",
      "Epoch 36/200, Loss: 0.3573, Validation Accuracy: 0.8333, AUC: 0.9035\n",
      "Epoch 37/200, Loss: 0.3615, Validation Accuracy: 0.8400, AUC: 0.9051\n",
      "Epoch 38/200, Loss: 0.3550, Validation Accuracy: 0.8433, AUC: 0.9069\n",
      "Epoch 39/200, Loss: 0.3532, Validation Accuracy: 0.8333, AUC: 0.9085\n",
      "Epoch 40/200, Loss: 0.3764, Validation Accuracy: 0.8333, AUC: 0.9074\n",
      "Epoch 41/200, Loss: 0.3762, Validation Accuracy: 0.8417, AUC: 0.9085\n",
      "Epoch 42/200, Loss: 0.3430, Validation Accuracy: 0.8383, AUC: 0.9102\n",
      "Epoch 43/200, Loss: 0.3614, Validation Accuracy: 0.8367, AUC: 0.9110\n",
      "Epoch 44/200, Loss: 0.3391, Validation Accuracy: 0.8350, AUC: 0.9129\n",
      "Epoch 45/200, Loss: 0.3532, Validation Accuracy: 0.8467, AUC: 0.9138\n",
      "Epoch 46/200, Loss: 0.3352, Validation Accuracy: 0.8467, AUC: 0.9153\n",
      "Epoch 47/200, Loss: 0.3438, Validation Accuracy: 0.8450, AUC: 0.9172\n",
      "Epoch 48/200, Loss: 0.3293, Validation Accuracy: 0.8450, AUC: 0.9195\n",
      "Epoch 49/200, Loss: 0.3347, Validation Accuracy: 0.8567, AUC: 0.9219\n",
      "Epoch 50/200, Loss: 0.3261, Validation Accuracy: 0.8567, AUC: 0.9238\n",
      "Epoch 51/200, Loss: 0.3195, Validation Accuracy: 0.8533, AUC: 0.9253\n",
      "Epoch 52/200, Loss: 0.3262, Validation Accuracy: 0.8483, AUC: 0.9282\n",
      "Epoch 53/200, Loss: 0.3243, Validation Accuracy: 0.8650, AUC: 0.9314\n",
      "Epoch 54/200, Loss: 0.3042, Validation Accuracy: 0.8600, AUC: 0.9332\n",
      "Epoch 55/200, Loss: 0.3051, Validation Accuracy: 0.8617, AUC: 0.9373\n",
      "Epoch 56/200, Loss: 0.3051, Validation Accuracy: 0.8750, AUC: 0.9383\n",
      "Epoch 57/200, Loss: 0.2898, Validation Accuracy: 0.8617, AUC: 0.9387\n",
      "Epoch 58/200, Loss: 0.2913, Validation Accuracy: 0.8567, AUC: 0.9386\n",
      "Epoch 59/200, Loss: 0.2949, Validation Accuracy: 0.8667, AUC: 0.9386\n",
      "Epoch 60/200, Loss: 0.2844, Validation Accuracy: 0.8700, AUC: 0.9409\n",
      "Epoch 61/200, Loss: 0.2733, Validation Accuracy: 0.8733, AUC: 0.9405\n",
      "Epoch 62/200, Loss: 0.2739, Validation Accuracy: 0.8650, AUC: 0.9404\n",
      "Epoch 63/200, Loss: 0.2791, Validation Accuracy: 0.8517, AUC: 0.9371\n",
      "Epoch 64/200, Loss: 0.2936, Validation Accuracy: 0.8467, AUC: 0.9404\n",
      "Epoch 65/200, Loss: 0.2983, Validation Accuracy: 0.8717, AUC: 0.9421\n",
      "Epoch 66/200, Loss: 0.2792, Validation Accuracy: 0.8800, AUC: 0.9427\n",
      "Epoch 67/200, Loss: 0.2620, Validation Accuracy: 0.8683, AUC: 0.9457\n",
      "Epoch 68/200, Loss: 0.2719, Validation Accuracy: 0.8717, AUC: 0.9444\n",
      "Epoch 69/200, Loss: 0.2690, Validation Accuracy: 0.8767, AUC: 0.9416\n",
      "Epoch 70/200, Loss: 0.2578, Validation Accuracy: 0.8783, AUC: 0.9484\n",
      "Epoch 71/200, Loss: 0.2545, Validation Accuracy: 0.8800, AUC: 0.9497\n",
      "Epoch 72/200, Loss: 0.2563, Validation Accuracy: 0.8817, AUC: 0.9508\n",
      "Epoch 73/200, Loss: 0.2515, Validation Accuracy: 0.8917, AUC: 0.9513\n",
      "Epoch 74/200, Loss: 0.2451, Validation Accuracy: 0.8867, AUC: 0.9488\n",
      "Epoch 75/200, Loss: 0.2487, Validation Accuracy: 0.8833, AUC: 0.9483\n",
      "Epoch 76/200, Loss: 0.2536, Validation Accuracy: 0.8833, AUC: 0.9527\n",
      "Epoch 77/200, Loss: 0.2515, Validation Accuracy: 0.8783, AUC: 0.9543\n",
      "Epoch 78/200, Loss: 0.2542, Validation Accuracy: 0.8900, AUC: 0.9543\n",
      "Epoch 79/200, Loss: 0.2433, Validation Accuracy: 0.8900, AUC: 0.9538\n",
      "Epoch 80/200, Loss: 0.2362, Validation Accuracy: 0.8917, AUC: 0.9528\n",
      "Epoch 81/200, Loss: 0.2389, Validation Accuracy: 0.8867, AUC: 0.9557\n",
      "Epoch 82/200, Loss: 0.2424, Validation Accuracy: 0.8783, AUC: 0.9572\n",
      "Epoch 83/200, Loss: 0.2563, Validation Accuracy: 0.8700, AUC: 0.9570\n",
      "Epoch 84/200, Loss: 0.2631, Validation Accuracy: 0.8717, AUC: 0.9570\n",
      "Epoch 85/200, Loss: 0.2580, Validation Accuracy: 0.8900, AUC: 0.9561\n",
      "Epoch 86/200, Loss: 0.2385, Validation Accuracy: 0.8967, AUC: 0.9574\n",
      "Epoch 87/200, Loss: 0.2310, Validation Accuracy: 0.8833, AUC: 0.9583\n",
      "Epoch 88/200, Loss: 0.2434, Validation Accuracy: 0.8883, AUC: 0.9587\n",
      "Epoch 89/200, Loss: 0.2429, Validation Accuracy: 0.8850, AUC: 0.9592\n",
      "Epoch 90/200, Loss: 0.2284, Validation Accuracy: 0.8883, AUC: 0.9591\n",
      "Epoch 91/200, Loss: 0.2297, Validation Accuracy: 0.8817, AUC: 0.9571\n",
      "Epoch 92/200, Loss: 0.2382, Validation Accuracy: 0.8783, AUC: 0.9584\n",
      "Epoch 93/200, Loss: 0.2335, Validation Accuracy: 0.8983, AUC: 0.9597\n",
      "Epoch 94/200, Loss: 0.2276, Validation Accuracy: 0.8883, AUC: 0.9601\n",
      "Epoch 95/200, Loss: 0.2254, Validation Accuracy: 0.8933, AUC: 0.9590\n",
      "Epoch 96/200, Loss: 0.2260, Validation Accuracy: 0.8817, AUC: 0.9589\n",
      "Epoch 97/200, Loss: 0.2333, Validation Accuracy: 0.8800, AUC: 0.9586\n",
      "Epoch 98/200, Loss: 0.2334, Validation Accuracy: 0.8783, AUC: 0.9612\n",
      "Epoch 99/200, Loss: 0.2269, Validation Accuracy: 0.8933, AUC: 0.9602\n",
      "Epoch 100/200, Loss: 0.2169, Validation Accuracy: 0.8950, AUC: 0.9593\n",
      "Epoch 101/200, Loss: 0.2154, Validation Accuracy: 0.8983, AUC: 0.9626\n",
      "Epoch 102/200, Loss: 0.2114, Validation Accuracy: 0.9067, AUC: 0.9631\n",
      "Epoch 103/200, Loss: 0.2121, Validation Accuracy: 0.9050, AUC: 0.9631\n",
      "Epoch 104/200, Loss: 0.2101, Validation Accuracy: 0.9000, AUC: 0.9621\n",
      "Epoch 105/200, Loss: 0.2073, Validation Accuracy: 0.8917, AUC: 0.9611\n",
      "Epoch 106/200, Loss: 0.2065, Validation Accuracy: 0.8983, AUC: 0.9613\n",
      "Epoch 107/200, Loss: 0.2053, Validation Accuracy: 0.9033, AUC: 0.9631\n",
      "Epoch 108/200, Loss: 0.2031, Validation Accuracy: 0.8967, AUC: 0.9630\n",
      "Epoch 109/200, Loss: 0.2058, Validation Accuracy: 0.8550, AUC: 0.9646\n",
      "Epoch 110/200, Loss: 0.2695, Validation Accuracy: 0.7333, AUC: 0.9595\n",
      "Epoch 111/200, Loss: 0.7675, Validation Accuracy: 0.5817, AUC: 0.9397\n",
      "Epoch 112/200, Loss: 0.9450, Validation Accuracy: 0.8100, AUC: 0.9539\n",
      "Epoch 113/200, Loss: 0.3937, Validation Accuracy: 0.7850, AUC: 0.9468\n",
      "Epoch 114/200, Loss: 0.5905, Validation Accuracy: 0.8183, AUC: 0.9507\n",
      "Epoch 115/200, Loss: 0.4298, Validation Accuracy: 0.8650, AUC: 0.9587\n",
      "Epoch 116/200, Loss: 0.3179, Validation Accuracy: 0.7317, AUC: 0.9529\n",
      "Epoch 117/200, Loss: 0.4700, Validation Accuracy: 0.7950, AUC: 0.9365\n",
      "Epoch 118/200, Loss: 0.4065, Validation Accuracy: 0.8150, AUC: 0.9190\n",
      "Epoch 119/200, Loss: 0.3568, Validation Accuracy: 0.7567, AUC: 0.9174\n",
      "Epoch 120/200, Loss: 0.4450, Validation Accuracy: 0.8050, AUC: 0.9434\n",
      "Epoch 121/200, Loss: 0.3644, Validation Accuracy: 0.8683, AUC: 0.9513\n",
      "Epoch 122/200, Loss: 0.3417, Validation Accuracy: 0.8767, AUC: 0.9474\n",
      "Epoch 123/200, Loss: 0.3684, Validation Accuracy: 0.8650, AUC: 0.9396\n",
      "Epoch 124/200, Loss: 0.3640, Validation Accuracy: 0.8567, AUC: 0.9356\n",
      "Epoch 125/200, Loss: 0.3404, Validation Accuracy: 0.8617, AUC: 0.9355\n",
      "Epoch 126/200, Loss: 0.3402, Validation Accuracy: 0.8683, AUC: 0.9404\n",
      "Epoch 127/200, Loss: 0.3244, Validation Accuracy: 0.8800, AUC: 0.9456\n",
      "Epoch 128/200, Loss: 0.2900, Validation Accuracy: 0.8733, AUC: 0.9514\n",
      "Epoch 129/200, Loss: 0.2845, Validation Accuracy: 0.8883, AUC: 0.9509\n",
      "Epoch 130/200, Loss: 0.2579, Validation Accuracy: 0.8717, AUC: 0.9470\n",
      "Epoch 131/200, Loss: 0.2693, Validation Accuracy: 0.8583, AUC: 0.9411\n",
      "Epoch 132/200, Loss: 0.2789, Validation Accuracy: 0.8667, AUC: 0.9441\n",
      "Epoch 133/200, Loss: 0.2724, Validation Accuracy: 0.8833, AUC: 0.9516\n",
      "Epoch 134/200, Loss: 0.2634, Validation Accuracy: 0.8883, AUC: 0.9526\n",
      "Epoch 135/200, Loss: 0.2539, Validation Accuracy: 0.8867, AUC: 0.9529\n",
      "Epoch 136/200, Loss: 0.2584, Validation Accuracy: 0.8883, AUC: 0.9494\n",
      "Epoch 137/200, Loss: 0.2609, Validation Accuracy: 0.8800, AUC: 0.9493\n",
      "Epoch 138/200, Loss: 0.2632, Validation Accuracy: 0.8883, AUC: 0.9516\n",
      "Epoch 139/200, Loss: 0.2549, Validation Accuracy: 0.8950, AUC: 0.9544\n",
      "Epoch 140/200, Loss: 0.2503, Validation Accuracy: 0.8933, AUC: 0.9547\n",
      "Epoch 141/200, Loss: 0.2444, Validation Accuracy: 0.8950, AUC: 0.9545\n",
      "Epoch 142/200, Loss: 0.2449, Validation Accuracy: 0.8867, AUC: 0.9527\n",
      "Epoch 143/200, Loss: 0.2436, Validation Accuracy: 0.8800, AUC: 0.9500\n",
      "Epoch 144/200, Loss: 0.2451, Validation Accuracy: 0.8817, AUC: 0.9513\n",
      "Epoch 145/200, Loss: 0.2414, Validation Accuracy: 0.8900, AUC: 0.9540\n",
      "Epoch 146/200, Loss: 0.2394, Validation Accuracy: 0.8983, AUC: 0.9541\n",
      "Epoch 147/200, Loss: 0.2365, Validation Accuracy: 0.8917, AUC: 0.9543\n",
      "Epoch 148/200, Loss: 0.2371, Validation Accuracy: 0.8917, AUC: 0.9557\n",
      "Epoch 149/200, Loss: 0.2369, Validation Accuracy: 0.8867, AUC: 0.9561\n",
      "Epoch 150/200, Loss: 0.2363, Validation Accuracy: 0.8933, AUC: 0.9557\n",
      "Epoch 151/200, Loss: 0.2336, Validation Accuracy: 0.8917, AUC: 0.9554\n",
      "Epoch 152/200, Loss: 0.2313, Validation Accuracy: 0.8900, AUC: 0.9554\n",
      "Epoch 153/200, Loss: 0.2292, Validation Accuracy: 0.8850, AUC: 0.9556\n",
      "Epoch 154/200, Loss: 0.2285, Validation Accuracy: 0.8967, AUC: 0.9569\n",
      "Epoch 155/200, Loss: 0.2259, Validation Accuracy: 0.8900, AUC: 0.9589\n",
      "Epoch 156/200, Loss: 0.2252, Validation Accuracy: 0.8950, AUC: 0.9583\n",
      "Epoch 157/200, Loss: 0.2230, Validation Accuracy: 0.8950, AUC: 0.9573\n",
      "Epoch 158/200, Loss: 0.2231, Validation Accuracy: 0.8917, AUC: 0.9576\n",
      "Epoch 159/200, Loss: 0.2242, Validation Accuracy: 0.8867, AUC: 0.9573\n",
      "Epoch 160/200, Loss: 0.2224, Validation Accuracy: 0.8933, AUC: 0.9592\n",
      "Epoch 161/200, Loss: 0.2189, Validation Accuracy: 0.8933, AUC: 0.9599\n",
      "Epoch 162/200, Loss: 0.2183, Validation Accuracy: 0.8950, AUC: 0.9598\n",
      "Epoch 163/200, Loss: 0.2194, Validation Accuracy: 0.8900, AUC: 0.9600\n",
      "Epoch 164/200, Loss: 0.2190, Validation Accuracy: 0.8867, AUC: 0.9585\n",
      "Epoch 165/200, Loss: 0.2158, Validation Accuracy: 0.8883, AUC: 0.9588\n",
      "Epoch 166/200, Loss: 0.2147, Validation Accuracy: 0.8933, AUC: 0.9605\n",
      "Epoch 167/200, Loss: 0.2155, Validation Accuracy: 0.8883, AUC: 0.9606\n",
      "Epoch 168/200, Loss: 0.2137, Validation Accuracy: 0.8900, AUC: 0.9610\n",
      "Epoch 169/200, Loss: 0.2137, Validation Accuracy: 0.8967, AUC: 0.9600\n",
      "Epoch 170/200, Loss: 0.2121, Validation Accuracy: 0.8967, AUC: 0.9602\n",
      "Epoch 171/200, Loss: 0.2094, Validation Accuracy: 0.8933, AUC: 0.9607\n",
      "Epoch 172/200, Loss: 0.2092, Validation Accuracy: 0.9000, AUC: 0.9608\n",
      "Epoch 173/200, Loss: 0.2080, Validation Accuracy: 0.8967, AUC: 0.9623\n",
      "Epoch 174/200, Loss: 0.2087, Validation Accuracy: 0.9000, AUC: 0.9624\n",
      "Epoch 175/200, Loss: 0.2078, Validation Accuracy: 0.8933, AUC: 0.9623\n",
      "Epoch 176/200, Loss: 0.2064, Validation Accuracy: 0.9017, AUC: 0.9617\n",
      "Epoch 177/200, Loss: 0.2049, Validation Accuracy: 0.8967, AUC: 0.9630\n",
      "Epoch 178/200, Loss: 0.2038, Validation Accuracy: 0.8883, AUC: 0.9632\n",
      "Epoch 179/200, Loss: 0.2071, Validation Accuracy: 0.8950, AUC: 0.9634\n",
      "Epoch 180/200, Loss: 0.2030, Validation Accuracy: 0.8967, AUC: 0.9617\n",
      "Epoch 181/200, Loss: 0.2059, Validation Accuracy: 0.8983, AUC: 0.9637\n",
      "Epoch 182/200, Loss: 0.2005, Validation Accuracy: 0.9050, AUC: 0.9642\n",
      "Epoch 183/200, Loss: 0.2006, Validation Accuracy: 0.8967, AUC: 0.9636\n",
      "Epoch 184/200, Loss: 0.2001, Validation Accuracy: 0.8683, AUC: 0.9589\n",
      "Epoch 185/200, Loss: 0.2428, Validation Accuracy: 0.8567, AUC: 0.9604\n",
      "Epoch 186/200, Loss: 0.3645, Validation Accuracy: 0.8733, AUC: 0.9601\n",
      "Epoch 187/200, Loss: 0.2603, Validation Accuracy: 0.8967, AUC: 0.9600\n",
      "Epoch 188/200, Loss: 0.2322, Validation Accuracy: 0.8817, AUC: 0.9604\n",
      "Epoch 189/200, Loss: 0.2634, Validation Accuracy: 0.8917, AUC: 0.9588\n",
      "Epoch 190/200, Loss: 0.2209, Validation Accuracy: 0.8683, AUC: 0.9533\n",
      "Epoch 191/200, Loss: 0.2531, Validation Accuracy: 0.8900, AUC: 0.9572\n",
      "Epoch 192/200, Loss: 0.2291, Validation Accuracy: 0.8750, AUC: 0.9596\n",
      "Epoch 193/200, Loss: 0.2452, Validation Accuracy: 0.8950, AUC: 0.9609\n",
      "Epoch 194/200, Loss: 0.2251, Validation Accuracy: 0.8817, AUC: 0.9606\n",
      "Epoch 195/200, Loss: 0.2384, Validation Accuracy: 0.8917, AUC: 0.9615\n",
      "Epoch 196/200, Loss: 0.2289, Validation Accuracy: 0.8917, AUC: 0.9616\n",
      "Epoch 197/200, Loss: 0.2352, Validation Accuracy: 0.8950, AUC: 0.9602\n",
      "Epoch 198/200, Loss: 0.2266, Validation Accuracy: 0.8900, AUC: 0.9594\n",
      "Epoch 199/200, Loss: 0.2214, Validation Accuracy: 0.8950, AUC: 0.9585\n",
      "Epoch 200/200, Loss: 0.2254, Validation Accuracy: 0.8917, AUC: 0.9589\n"
     ]
    },
    {
     "data": {
      "text/html": [
       "<style>\n",
       "    table.wandb td:nth-child(1) { padding: 0 10px; text-align: left ; width: auto;} td:nth-child(2) {text-align: left ; width: 100%}\n",
       "    .wandb-row { display: flex; flex-direction: row; flex-wrap: wrap; justify-content: flex-start; width: 100% }\n",
       "    .wandb-col { display: flex; flex-direction: column; flex-basis: 100%; flex: 1; padding: 10px; }\n",
       "    </style>\n",
       "<div class=\"wandb-row\"><div class=\"wandb-col\"><h3>Run history:</h3><br/><table class=\"wandb\"><tr><td>Final Best Epoch</td><td>▁</td></tr><tr><td>Final Best Val Accuracy</td><td>▁</td></tr><tr><td>best_epoch</td><td>▁▁▂▂▂▃▃▃▄▄▄▅▅▆▆▆▆▇▇▇████████████████████</td></tr><tr><td>best_val_accuracy</td><td>▁▁▅▅▆▆▇▇▇▇▇▇▇███████████████████████████</td></tr><tr><td>roc_auc</td><td>▃▄▃▁▄▄▅▅▅▆▆▇▇▇▇████████▆▇▇▇▇▇███████████</td></tr><tr><td>train_loss</td><td>▆▆▅▄▃▃▃▂▂▂▂▂▂▂▂▂▁▁▁▁▁▁█▃▂▂▂▂▁▁▁▁▁▁▁▁▁▁▁▁</td></tr><tr><td>val_accuracy</td><td>▁▁▅▄▆▆▇▇▇▇▇▇▇▇██▇█▇▇██▆▆▇▇██████████▇███</td></tr></table><br/></div><div class=\"wandb-col\"><h3>Run summary:</h3><br/><table class=\"wandb\"><tr><td>Final Best Epoch</td><td>102</td></tr><tr><td>Final Best Val Accuracy</td><td>0.90667</td></tr><tr><td>best_epoch</td><td>102</td></tr><tr><td>best_val_accuracy</td><td>0.90667</td></tr><tr><td>roc_auc</td><td>0.95887</td></tr><tr><td>train_loss</td><td>0.22536</td></tr><tr><td>val_accuracy</td><td>0.89167</td></tr></table><br/></div></div>"
      ],
      "text/plain": [
       "<IPython.core.display.HTML object>"
      ]
     },
     "metadata": {},
     "output_type": "display_data"
    },
    {
     "data": {
      "text/html": [
       " View run <strong style=\"color:#cdcd00\">cerulean-sweep-11</strong> at: <a href='https://wandb.ai/zamtol/uncategorized/runs/4snffz3r' target=\"_blank\">https://wandb.ai/zamtol/uncategorized/runs/4snffz3r</a><br/> View project at: <a href='https://wandb.ai/zamtol/uncategorized' target=\"_blank\">https://wandb.ai/zamtol/uncategorized</a><br/>Synced 5 W&B file(s), 200 media file(s), 0 artifact file(s) and 0 other file(s)"
      ],
      "text/plain": [
       "<IPython.core.display.HTML object>"
      ]
     },
     "metadata": {},
     "output_type": "display_data"
    },
    {
     "data": {
      "text/html": [
       "Find logs at: <code>.\\wandb\\run-20240803_151417-4snffz3r\\logs</code>"
      ],
      "text/plain": [
       "<IPython.core.display.HTML object>"
      ]
     },
     "metadata": {},
     "output_type": "display_data"
    },
    {
     "data": {
      "text/html": [
       "The new W&B backend becomes opt-out in version 0.18.0; try it out with `wandb.require(\"core\")`! See https://wandb.me/wandb-core for more information."
      ],
      "text/plain": [
       "<IPython.core.display.HTML object>"
      ]
     },
     "metadata": {},
     "output_type": "display_data"
    },
    {
     "name": "stderr",
     "output_type": "stream",
     "text": [
      "\u001b[34m\u001b[1mwandb\u001b[0m: Agent Starting Run: lpou64d0 with config:\n",
      "\u001b[34m\u001b[1mwandb\u001b[0m: \tarchitecture: RandomForest\n",
      "\u001b[34m\u001b[1mwandb\u001b[0m: \tepochs: 200\n",
      "\u001b[34m\u001b[1mwandb\u001b[0m: \tlearning_rate: 0.05\n",
      "\u001b[34m\u001b[1mwandb\u001b[0m: \tseed: 42\n",
      "\u001b[34m\u001b[1mwandb\u001b[0m: \tweight_decay: 0.0001\n",
      "Failed to detect the name of this notebook, you can set it manually with the WANDB_NOTEBOOK_NAME environment variable to enable code saving.\n"
     ]
    },
    {
     "data": {
      "text/html": [
       "Tracking run with wandb version 0.17.5"
      ],
      "text/plain": [
       "<IPython.core.display.HTML object>"
      ]
     },
     "metadata": {},
     "output_type": "display_data"
    },
    {
     "data": {
      "text/html": [
       "Run data is saved locally in <code>c:\\Users\\ADMIN\\git\\hack\\wandb\\run-20240803_151456-lpou64d0</code>"
      ],
      "text/plain": [
       "<IPython.core.display.HTML object>"
      ]
     },
     "metadata": {},
     "output_type": "display_data"
    },
    {
     "data": {
      "text/html": [
       "Syncing run <strong><a href='https://wandb.ai/zamtol/uncategorized/runs/lpou64d0' target=\"_blank\">skilled-sweep-12</a></strong> to <a href='https://wandb.ai/zamtol/uncategorized' target=\"_blank\">Weights & Biases</a> (<a href='https://wandb.me/run' target=\"_blank\">docs</a>)<br/>Sweep page: <a href='https://wandb.ai/zamtol/uncategorized/sweeps/y1r7j6mo' target=\"_blank\">https://wandb.ai/zamtol/uncategorized/sweeps/y1r7j6mo</a>"
      ],
      "text/plain": [
       "<IPython.core.display.HTML object>"
      ]
     },
     "metadata": {},
     "output_type": "display_data"
    },
    {
     "data": {
      "text/html": [
       " View project at <a href='https://wandb.ai/zamtol/uncategorized' target=\"_blank\">https://wandb.ai/zamtol/uncategorized</a>"
      ],
      "text/plain": [
       "<IPython.core.display.HTML object>"
      ]
     },
     "metadata": {},
     "output_type": "display_data"
    },
    {
     "data": {
      "text/html": [
       " View sweep at <a href='https://wandb.ai/zamtol/uncategorized/sweeps/y1r7j6mo' target=\"_blank\">https://wandb.ai/zamtol/uncategorized/sweeps/y1r7j6mo</a>"
      ],
      "text/plain": [
       "<IPython.core.display.HTML object>"
      ]
     },
     "metadata": {},
     "output_type": "display_data"
    },
    {
     "data": {
      "text/html": [
       " View run at <a href='https://wandb.ai/zamtol/uncategorized/runs/lpou64d0' target=\"_blank\">https://wandb.ai/zamtol/uncategorized/runs/lpou64d0</a>"
      ],
      "text/plain": [
       "<IPython.core.display.HTML object>"
      ]
     },
     "metadata": {},
     "output_type": "display_data"
    },
    {
     "name": "stdout",
     "output_type": "stream",
     "text": [
      "Epoch 1/200, Loss: 0.6993, Validation Accuracy: 0.5300, AUC: 0.7864\n",
      "Epoch 2/200, Loss: 0.6824, Validation Accuracy: 0.4900, AUC: 0.4059\n",
      "Epoch 3/200, Loss: 0.6955, Validation Accuracy: 0.5300, AUC: 0.8500\n",
      "Epoch 4/200, Loss: 0.6716, Validation Accuracy: 0.5300, AUC: 0.8673\n",
      "Epoch 5/200, Loss: 0.6605, Validation Accuracy: 0.6467, AUC: 0.8441\n",
      "Epoch 6/200, Loss: 0.6581, Validation Accuracy: 0.5383, AUC: 0.8681\n",
      "Epoch 7/200, Loss: 0.6498, Validation Accuracy: 0.6917, AUC: 0.8541\n",
      "Epoch 8/200, Loss: 0.6233, Validation Accuracy: 0.7517, AUC: 0.8390\n",
      "Epoch 9/200, Loss: 0.6207, Validation Accuracy: 0.7017, AUC: 0.8588\n",
      "Epoch 10/200, Loss: 0.5513, Validation Accuracy: 0.7033, AUC: 0.8619\n",
      "Epoch 11/200, Loss: 0.5384, Validation Accuracy: 0.5900, AUC: 0.7977\n",
      "Epoch 12/200, Loss: 0.6917, Validation Accuracy: 0.7700, AUC: 0.8576\n",
      "Epoch 13/200, Loss: 0.4718, Validation Accuracy: 0.6283, AUC: 0.8727\n",
      "Epoch 14/200, Loss: 0.6953, Validation Accuracy: 0.7800, AUC: 0.8644\n",
      "Epoch 15/200, Loss: 0.4668, Validation Accuracy: 0.6833, AUC: 0.8428\n",
      "Epoch 16/200, Loss: 0.5844, Validation Accuracy: 0.6967, AUC: 0.8547\n",
      "Epoch 17/200, Loss: 0.5669, Validation Accuracy: 0.7800, AUC: 0.8735\n",
      "Epoch 18/200, Loss: 0.4603, Validation Accuracy: 0.6917, AUC: 0.8803\n",
      "Epoch 19/200, Loss: 0.6054, Validation Accuracy: 0.7817, AUC: 0.8797\n",
      "Epoch 20/200, Loss: 0.4614, Validation Accuracy: 0.7900, AUC: 0.8827\n",
      "Epoch 21/200, Loss: 0.4667, Validation Accuracy: 0.7783, AUC: 0.8854\n",
      "Epoch 22/200, Loss: 0.4908, Validation Accuracy: 0.8150, AUC: 0.8908\n",
      "Epoch 23/200, Loss: 0.4313, Validation Accuracy: 0.7650, AUC: 0.8972\n",
      "Epoch 24/200, Loss: 0.4474, Validation Accuracy: 0.8133, AUC: 0.8940\n",
      "Epoch 25/200, Loss: 0.4183, Validation Accuracy: 0.8183, AUC: 0.8974\n",
      "Epoch 26/200, Loss: 0.3983, Validation Accuracy: 0.8317, AUC: 0.8970\n",
      "Epoch 27/200, Loss: 0.3805, Validation Accuracy: 0.8317, AUC: 0.8984\n",
      "Epoch 28/200, Loss: 0.3803, Validation Accuracy: 0.8217, AUC: 0.9006\n",
      "Epoch 29/200, Loss: 0.3801, Validation Accuracy: 0.8283, AUC: 0.9004\n",
      "Epoch 30/200, Loss: 0.3737, Validation Accuracy: 0.8350, AUC: 0.9015\n",
      "Epoch 31/200, Loss: 0.3667, Validation Accuracy: 0.8367, AUC: 0.9044\n",
      "Epoch 32/200, Loss: 0.3636, Validation Accuracy: 0.8367, AUC: 0.9061\n",
      "Epoch 33/200, Loss: 0.3583, Validation Accuracy: 0.8283, AUC: 0.9101\n",
      "Epoch 34/200, Loss: 0.3541, Validation Accuracy: 0.8400, AUC: 0.9108\n",
      "Epoch 35/200, Loss: 0.3479, Validation Accuracy: 0.8333, AUC: 0.9109\n",
      "Epoch 36/200, Loss: 0.3447, Validation Accuracy: 0.8383, AUC: 0.9136\n",
      "Epoch 37/200, Loss: 0.3406, Validation Accuracy: 0.8433, AUC: 0.9166\n",
      "Epoch 38/200, Loss: 0.3349, Validation Accuracy: 0.8350, AUC: 0.9216\n",
      "Epoch 39/200, Loss: 0.3360, Validation Accuracy: 0.8117, AUC: 0.9195\n",
      "Epoch 40/200, Loss: 0.4258, Validation Accuracy: 0.7233, AUC: 0.9112\n",
      "Epoch 41/200, Loss: 0.5327, Validation Accuracy: 0.8483, AUC: 0.9246\n",
      "Epoch 42/200, Loss: 0.3160, Validation Accuracy: 0.7917, AUC: 0.9235\n",
      "Epoch 43/200, Loss: 0.4480, Validation Accuracy: 0.8467, AUC: 0.9262\n",
      "Epoch 44/200, Loss: 0.3260, Validation Accuracy: 0.8000, AUC: 0.9248\n",
      "Epoch 45/200, Loss: 0.3830, Validation Accuracy: 0.8300, AUC: 0.9237\n",
      "Epoch 46/200, Loss: 0.3594, Validation Accuracy: 0.8433, AUC: 0.9298\n",
      "Epoch 47/200, Loss: 0.3179, Validation Accuracy: 0.8300, AUC: 0.9331\n",
      "Epoch 48/200, Loss: 0.3537, Validation Accuracy: 0.8500, AUC: 0.9367\n",
      "Epoch 49/200, Loss: 0.3033, Validation Accuracy: 0.8533, AUC: 0.9407\n",
      "Epoch 50/200, Loss: 0.3214, Validation Accuracy: 0.8583, AUC: 0.9268\n",
      "Epoch 51/200, Loss: 0.2968, Validation Accuracy: 0.8533, AUC: 0.9411\n",
      "Epoch 52/200, Loss: 0.2988, Validation Accuracy: 0.8617, AUC: 0.9399\n",
      "Epoch 53/200, Loss: 0.2962, Validation Accuracy: 0.8683, AUC: 0.9419\n",
      "Epoch 54/200, Loss: 0.2764, Validation Accuracy: 0.8400, AUC: 0.9278\n",
      "Epoch 55/200, Loss: 0.2945, Validation Accuracy: 0.8717, AUC: 0.9457\n",
      "Epoch 56/200, Loss: 0.2609, Validation Accuracy: 0.8700, AUC: 0.9444\n",
      "Epoch 57/200, Loss: 0.2797, Validation Accuracy: 0.8683, AUC: 0.9459\n",
      "Epoch 58/200, Loss: 0.2572, Validation Accuracy: 0.8683, AUC: 0.9436\n",
      "Epoch 59/200, Loss: 0.2509, Validation Accuracy: 0.8817, AUC: 0.9492\n",
      "Epoch 60/200, Loss: 0.2515, Validation Accuracy: 0.8883, AUC: 0.9494\n",
      "Epoch 61/200, Loss: 0.2463, Validation Accuracy: 0.8850, AUC: 0.9491\n",
      "Epoch 62/200, Loss: 0.2369, Validation Accuracy: 0.8750, AUC: 0.9462\n",
      "Epoch 63/200, Loss: 0.2476, Validation Accuracy: 0.7883, AUC: 0.9482\n",
      "Epoch 64/200, Loss: 0.4920, Validation Accuracy: 0.6983, AUC: 0.9448\n",
      "Epoch 65/200, Loss: 0.8094, Validation Accuracy: 0.8267, AUC: 0.9442\n",
      "Epoch 66/200, Loss: 0.3567, Validation Accuracy: 0.7717, AUC: 0.9454\n",
      "Epoch 67/200, Loss: 0.4236, Validation Accuracy: 0.7233, AUC: 0.9401\n",
      "Epoch 68/200, Loss: 0.4815, Validation Accuracy: 0.8483, AUC: 0.9277\n",
      "Epoch 69/200, Loss: 0.3344, Validation Accuracy: 0.6950, AUC: 0.9211\n",
      "Epoch 70/200, Loss: 0.5680, Validation Accuracy: 0.8400, AUC: 0.9349\n",
      "Epoch 71/200, Loss: 0.3280, Validation Accuracy: 0.7717, AUC: 0.9381\n",
      "Epoch 72/200, Loss: 0.4295, Validation Accuracy: 0.8417, AUC: 0.9320\n",
      "Epoch 73/200, Loss: 0.3139, Validation Accuracy: 0.7850, AUC: 0.9289\n",
      "Epoch 74/200, Loss: 0.4363, Validation Accuracy: 0.8617, AUC: 0.9380\n",
      "Epoch 75/200, Loss: 0.2975, Validation Accuracy: 0.7950, AUC: 0.9360\n",
      "Epoch 76/200, Loss: 0.3729, Validation Accuracy: 0.8617, AUC: 0.9421\n",
      "Epoch 77/200, Loss: 0.2961, Validation Accuracy: 0.8583, AUC: 0.9456\n",
      "Epoch 78/200, Loss: 0.3004, Validation Accuracy: 0.8733, AUC: 0.9480\n",
      "Epoch 79/200, Loss: 0.2878, Validation Accuracy: 0.8433, AUC: 0.9457\n",
      "Epoch 80/200, Loss: 0.3225, Validation Accuracy: 0.8800, AUC: 0.9483\n",
      "Epoch 81/200, Loss: 0.2739, Validation Accuracy: 0.8783, AUC: 0.9486\n",
      "Epoch 82/200, Loss: 0.2888, Validation Accuracy: 0.8667, AUC: 0.9490\n",
      "Epoch 83/200, Loss: 0.2698, Validation Accuracy: 0.8667, AUC: 0.9499\n",
      "Epoch 84/200, Loss: 0.2680, Validation Accuracy: 0.8867, AUC: 0.9519\n",
      "Epoch 85/200, Loss: 0.2600, Validation Accuracy: 0.8850, AUC: 0.9533\n",
      "Epoch 86/200, Loss: 0.2600, Validation Accuracy: 0.8867, AUC: 0.9539\n",
      "Epoch 87/200, Loss: 0.2470, Validation Accuracy: 0.8817, AUC: 0.9532\n",
      "Epoch 88/200, Loss: 0.2522, Validation Accuracy: 0.8783, AUC: 0.9493\n",
      "Epoch 89/200, Loss: 0.2492, Validation Accuracy: 0.8900, AUC: 0.9540\n",
      "Epoch 90/200, Loss: 0.2378, Validation Accuracy: 0.8783, AUC: 0.9535\n",
      "Epoch 91/200, Loss: 0.2376, Validation Accuracy: 0.8817, AUC: 0.9533\n",
      "Epoch 92/200, Loss: 0.2385, Validation Accuracy: 0.8883, AUC: 0.9551\n",
      "Epoch 93/200, Loss: 0.2343, Validation Accuracy: 0.8900, AUC: 0.9549\n",
      "Epoch 94/200, Loss: 0.2319, Validation Accuracy: 0.8850, AUC: 0.9556\n",
      "Epoch 95/200, Loss: 0.2293, Validation Accuracy: 0.8933, AUC: 0.9565\n",
      "Epoch 96/200, Loss: 0.2272, Validation Accuracy: 0.8950, AUC: 0.9569\n",
      "Epoch 97/200, Loss: 0.2275, Validation Accuracy: 0.8950, AUC: 0.9570\n",
      "Epoch 98/200, Loss: 0.2243, Validation Accuracy: 0.8850, AUC: 0.9572\n",
      "Epoch 99/200, Loss: 0.2224, Validation Accuracy: 0.8867, AUC: 0.9569\n",
      "Epoch 100/200, Loss: 0.2222, Validation Accuracy: 0.8850, AUC: 0.9572\n",
      "Epoch 101/200, Loss: 0.2203, Validation Accuracy: 0.8917, AUC: 0.9577\n",
      "Epoch 102/200, Loss: 0.2216, Validation Accuracy: 0.8800, AUC: 0.9567\n",
      "Epoch 103/200, Loss: 0.2216, Validation Accuracy: 0.8983, AUC: 0.9579\n",
      "Epoch 104/200, Loss: 0.2175, Validation Accuracy: 0.8867, AUC: 0.9581\n",
      "Epoch 105/200, Loss: 0.2160, Validation Accuracy: 0.8950, AUC: 0.9583\n",
      "Epoch 106/200, Loss: 0.2143, Validation Accuracy: 0.8883, AUC: 0.9582\n",
      "Epoch 107/200, Loss: 0.2140, Validation Accuracy: 0.8933, AUC: 0.9591\n",
      "Epoch 108/200, Loss: 0.2096, Validation Accuracy: 0.8933, AUC: 0.9602\n",
      "Epoch 109/200, Loss: 0.2083, Validation Accuracy: 0.8767, AUC: 0.9592\n",
      "Epoch 110/200, Loss: 0.2143, Validation Accuracy: 0.8917, AUC: 0.9603\n",
      "Epoch 111/200, Loss: 0.2265, Validation Accuracy: 0.8700, AUC: 0.9552\n",
      "Epoch 112/200, Loss: 0.2387, Validation Accuracy: 0.8883, AUC: 0.9583\n",
      "Epoch 113/200, Loss: 0.2156, Validation Accuracy: 0.8933, AUC: 0.9605\n",
      "Epoch 114/200, Loss: 0.2242, Validation Accuracy: 0.8900, AUC: 0.9599\n",
      "Epoch 115/200, Loss: 0.2078, Validation Accuracy: 0.8733, AUC: 0.9602\n",
      "Epoch 116/200, Loss: 0.2170, Validation Accuracy: 0.8967, AUC: 0.9609\n",
      "Epoch 117/200, Loss: 0.2140, Validation Accuracy: 0.8967, AUC: 0.9612\n",
      "Epoch 118/200, Loss: 0.2054, Validation Accuracy: 0.8917, AUC: 0.9595\n",
      "Epoch 119/200, Loss: 0.2111, Validation Accuracy: 0.8950, AUC: 0.9603\n",
      "Epoch 120/200, Loss: 0.2069, Validation Accuracy: 0.9050, AUC: 0.9627\n",
      "Epoch 121/200, Loss: 0.2014, Validation Accuracy: 0.8900, AUC: 0.9627\n",
      "Epoch 122/200, Loss: 0.2033, Validation Accuracy: 0.8867, AUC: 0.9629\n",
      "Epoch 123/200, Loss: 0.2006, Validation Accuracy: 0.9000, AUC: 0.9632\n",
      "Epoch 124/200, Loss: 0.1976, Validation Accuracy: 0.9000, AUC: 0.9619\n",
      "Epoch 125/200, Loss: 0.1974, Validation Accuracy: 0.9017, AUC: 0.9619\n",
      "Epoch 126/200, Loss: 0.1953, Validation Accuracy: 0.9050, AUC: 0.9622\n",
      "Epoch 127/200, Loss: 0.1941, Validation Accuracy: 0.8850, AUC: 0.9617\n",
      "Epoch 128/200, Loss: 0.1938, Validation Accuracy: 0.9067, AUC: 0.9634\n",
      "Epoch 129/200, Loss: 0.1939, Validation Accuracy: 0.8850, AUC: 0.9613\n",
      "Epoch 130/200, Loss: 0.1940, Validation Accuracy: 0.8967, AUC: 0.9634\n",
      "Epoch 131/200, Loss: 0.1942, Validation Accuracy: 0.8917, AUC: 0.9607\n",
      "Epoch 132/200, Loss: 0.1935, Validation Accuracy: 0.8983, AUC: 0.9628\n",
      "Epoch 133/200, Loss: 0.1879, Validation Accuracy: 0.9050, AUC: 0.9632\n",
      "Epoch 134/200, Loss: 0.1829, Validation Accuracy: 0.9017, AUC: 0.9634\n",
      "Epoch 135/200, Loss: 0.1815, Validation Accuracy: 0.9083, AUC: 0.9640\n",
      "Epoch 136/200, Loss: 0.1836, Validation Accuracy: 0.8717, AUC: 0.9605\n",
      "Epoch 137/200, Loss: 0.2105, Validation Accuracy: 0.8950, AUC: 0.9625\n",
      "Epoch 138/200, Loss: 0.2358, Validation Accuracy: 0.8833, AUC: 0.9555\n",
      "Epoch 139/200, Loss: 0.2246, Validation Accuracy: 0.8900, AUC: 0.9576\n",
      "Epoch 140/200, Loss: 0.2109, Validation Accuracy: 0.8933, AUC: 0.9634\n",
      "Epoch 141/200, Loss: 0.2087, Validation Accuracy: 0.8883, AUC: 0.9640\n",
      "Epoch 142/200, Loss: 0.1962, Validation Accuracy: 0.8983, AUC: 0.9609\n",
      "Epoch 143/200, Loss: 0.2090, Validation Accuracy: 0.8733, AUC: 0.9620\n",
      "Epoch 144/200, Loss: 0.2041, Validation Accuracy: 0.8950, AUC: 0.9619\n",
      "Epoch 145/200, Loss: 0.2178, Validation Accuracy: 0.8817, AUC: 0.9593\n",
      "Epoch 146/200, Loss: 0.1992, Validation Accuracy: 0.8883, AUC: 0.9604\n",
      "Epoch 147/200, Loss: 0.2009, Validation Accuracy: 0.8917, AUC: 0.9639\n",
      "Epoch 148/200, Loss: 0.1998, Validation Accuracy: 0.9067, AUC: 0.9647\n",
      "Epoch 149/200, Loss: 0.1852, Validation Accuracy: 0.8950, AUC: 0.9643\n",
      "Epoch 150/200, Loss: 0.2006, Validation Accuracy: 0.8933, AUC: 0.9633\n",
      "Epoch 151/200, Loss: 0.2286, Validation Accuracy: 0.8767, AUC: 0.9619\n",
      "Epoch 152/200, Loss: 0.2131, Validation Accuracy: 0.9000, AUC: 0.9639\n",
      "Epoch 153/200, Loss: 0.1891, Validation Accuracy: 0.8967, AUC: 0.9640\n",
      "Epoch 154/200, Loss: 0.2070, Validation Accuracy: 0.8800, AUC: 0.9630\n",
      "Epoch 155/200, Loss: 0.1913, Validation Accuracy: 0.8883, AUC: 0.9640\n",
      "Epoch 156/200, Loss: 0.1864, Validation Accuracy: 0.8933, AUC: 0.9635\n",
      "Epoch 157/200, Loss: 0.2060, Validation Accuracy: 0.8783, AUC: 0.9639\n",
      "Epoch 158/200, Loss: 0.1878, Validation Accuracy: 0.8950, AUC: 0.9636\n",
      "Epoch 159/200, Loss: 0.1797, Validation Accuracy: 0.8883, AUC: 0.9640\n",
      "Epoch 160/200, Loss: 0.1926, Validation Accuracy: 0.8933, AUC: 0.9630\n",
      "Epoch 161/200, Loss: 0.1788, Validation Accuracy: 0.8850, AUC: 0.9631\n",
      "Epoch 162/200, Loss: 0.1823, Validation Accuracy: 0.9017, AUC: 0.9646\n",
      "Epoch 163/200, Loss: 0.1917, Validation Accuracy: 0.8783, AUC: 0.9634\n",
      "Epoch 164/200, Loss: 0.1835, Validation Accuracy: 0.9033, AUC: 0.9643\n",
      "Epoch 165/200, Loss: 0.1741, Validation Accuracy: 0.9050, AUC: 0.9652\n",
      "Epoch 166/200, Loss: 0.1820, Validation Accuracy: 0.8983, AUC: 0.9644\n",
      "Epoch 167/200, Loss: 0.1739, Validation Accuracy: 0.8950, AUC: 0.9649\n",
      "Epoch 168/200, Loss: 0.1735, Validation Accuracy: 0.9067, AUC: 0.9659\n",
      "Epoch 169/200, Loss: 0.1805, Validation Accuracy: 0.8883, AUC: 0.9634\n",
      "Epoch 170/200, Loss: 0.1788, Validation Accuracy: 0.9000, AUC: 0.9647\n",
      "Epoch 171/200, Loss: 0.1698, Validation Accuracy: 0.9133, AUC: 0.9660\n",
      "Epoch 172/200, Loss: 0.1763, Validation Accuracy: 0.8917, AUC: 0.9642\n",
      "Epoch 173/200, Loss: 0.1761, Validation Accuracy: 0.9033, AUC: 0.9656\n",
      "Epoch 174/200, Loss: 0.1676, Validation Accuracy: 0.9000, AUC: 0.9657\n",
      "Epoch 175/200, Loss: 0.1741, Validation Accuracy: 0.8867, AUC: 0.9626\n",
      "Epoch 176/200, Loss: 0.1821, Validation Accuracy: 0.9067, AUC: 0.9650\n",
      "Epoch 177/200, Loss: 0.1696, Validation Accuracy: 0.9033, AUC: 0.9655\n",
      "Epoch 178/200, Loss: 0.1710, Validation Accuracy: 0.8817, AUC: 0.9619\n",
      "Epoch 179/200, Loss: 0.1844, Validation Accuracy: 0.9050, AUC: 0.9653\n",
      "Epoch 180/200, Loss: 0.1781, Validation Accuracy: 0.8950, AUC: 0.9633\n",
      "Epoch 181/200, Loss: 0.1682, Validation Accuracy: 0.8967, AUC: 0.9637\n",
      "Epoch 182/200, Loss: 0.1681, Validation Accuracy: 0.9150, AUC: 0.9651\n",
      "Epoch 183/200, Loss: 0.1718, Validation Accuracy: 0.8900, AUC: 0.9629\n",
      "Epoch 184/200, Loss: 0.1692, Validation Accuracy: 0.9000, AUC: 0.9653\n",
      "Epoch 185/200, Loss: 0.1683, Validation Accuracy: 0.9033, AUC: 0.9672\n",
      "Epoch 186/200, Loss: 0.1646, Validation Accuracy: 0.8883, AUC: 0.9654\n",
      "Epoch 187/200, Loss: 0.1701, Validation Accuracy: 0.9000, AUC: 0.9667\n",
      "Epoch 188/200, Loss: 0.1698, Validation Accuracy: 0.9050, AUC: 0.9666\n",
      "Epoch 189/200, Loss: 0.1638, Validation Accuracy: 0.8967, AUC: 0.9673\n",
      "Epoch 190/200, Loss: 0.1653, Validation Accuracy: 0.9050, AUC: 0.9677\n",
      "Epoch 191/200, Loss: 0.1617, Validation Accuracy: 0.9033, AUC: 0.9663\n",
      "Epoch 192/200, Loss: 0.1612, Validation Accuracy: 0.9033, AUC: 0.9666\n",
      "Epoch 193/200, Loss: 0.1611, Validation Accuracy: 0.9033, AUC: 0.9671\n",
      "Epoch 194/200, Loss: 0.1572, Validation Accuracy: 0.8900, AUC: 0.9664\n",
      "Epoch 195/200, Loss: 0.1584, Validation Accuracy: 0.9083, AUC: 0.9661\n",
      "Epoch 196/200, Loss: 0.1567, Validation Accuracy: 0.8950, AUC: 0.9630\n",
      "Epoch 197/200, Loss: 0.1602, Validation Accuracy: 0.9100, AUC: 0.9652\n",
      "Epoch 198/200, Loss: 0.1637, Validation Accuracy: 0.8883, AUC: 0.9645\n",
      "Epoch 199/200, Loss: 0.1666, Validation Accuracy: 0.9017, AUC: 0.9657\n",
      "Epoch 200/200, Loss: 0.1729, Validation Accuracy: 0.8767, AUC: 0.9619\n"
     ]
    },
    {
     "data": {
      "text/html": [
       "<style>\n",
       "    table.wandb td:nth-child(1) { padding: 0 10px; text-align: left ; width: auto;} td:nth-child(2) {text-align: left ; width: 100%}\n",
       "    .wandb-row { display: flex; flex-direction: row; flex-wrap: wrap; justify-content: flex-start; width: 100% }\n",
       "    .wandb-col { display: flex; flex-direction: column; flex-basis: 100%; flex: 1; padding: 10px; }\n",
       "    </style>\n",
       "<div class=\"wandb-row\"><div class=\"wandb-col\"><h3>Run history:</h3><br/><table class=\"wandb\"><tr><td>Final Best Epoch</td><td>▁</td></tr><tr><td>Final Best Val Accuracy</td><td>▁</td></tr><tr><td>best_epoch</td><td>▁▁▁▂▂▂▂▂▃▃▃▃▃▃▃▃▃▃▄▅▅▅▅▅▆▆▆▆▆▆▆▆▆▆██████</td></tr><tr><td>best_val_accuracy</td><td>▁▃▅▆▆▆▇▇▇▇▇▇████████████████████████████</td></tr><tr><td>roc_auc</td><td>▁▇▇▇▇▇▇▇▇███████████████████████████████</td></tr><tr><td>train_loss</td><td>███▇▅▄▄▃▃▄▃▂▂▅▅▃▃▂▂▂▂▂▂▂▂▁▁▂▂▂▂▁▁▁▁▁▁▁▁▁</td></tr><tr><td>val_accuracy</td><td>▁▂▆▄▆▇▇▇▆▇▇▇▇▇▇▇▇██████████████████████▇</td></tr></table><br/></div><div class=\"wandb-col\"><h3>Run summary:</h3><br/><table class=\"wandb\"><tr><td>Final Best Epoch</td><td>182</td></tr><tr><td>Final Best Val Accuracy</td><td>0.915</td></tr><tr><td>best_epoch</td><td>182</td></tr><tr><td>best_val_accuracy</td><td>0.915</td></tr><tr><td>roc_auc</td><td>0.96186</td></tr><tr><td>train_loss</td><td>0.17294</td></tr><tr><td>val_accuracy</td><td>0.87667</td></tr></table><br/></div></div>"
      ],
      "text/plain": [
       "<IPython.core.display.HTML object>"
      ]
     },
     "metadata": {},
     "output_type": "display_data"
    },
    {
     "data": {
      "text/html": [
       " View run <strong style=\"color:#cdcd00\">skilled-sweep-12</strong> at: <a href='https://wandb.ai/zamtol/uncategorized/runs/lpou64d0' target=\"_blank\">https://wandb.ai/zamtol/uncategorized/runs/lpou64d0</a><br/> View project at: <a href='https://wandb.ai/zamtol/uncategorized' target=\"_blank\">https://wandb.ai/zamtol/uncategorized</a><br/>Synced 5 W&B file(s), 200 media file(s), 0 artifact file(s) and 0 other file(s)"
      ],
      "text/plain": [
       "<IPython.core.display.HTML object>"
      ]
     },
     "metadata": {},
     "output_type": "display_data"
    },
    {
     "data": {
      "text/html": [
       "Find logs at: <code>.\\wandb\\run-20240803_151456-lpou64d0\\logs</code>"
      ],
      "text/plain": [
       "<IPython.core.display.HTML object>"
      ]
     },
     "metadata": {},
     "output_type": "display_data"
    },
    {
     "data": {
      "text/html": [
       "The new W&B backend becomes opt-out in version 0.18.0; try it out with `wandb.require(\"core\")`! See https://wandb.me/wandb-core for more information."
      ],
      "text/plain": [
       "<IPython.core.display.HTML object>"
      ]
     },
     "metadata": {},
     "output_type": "display_data"
    },
    {
     "name": "stderr",
     "output_type": "stream",
     "text": [
      "\u001b[34m\u001b[1mwandb\u001b[0m: Sweep Agent: Waiting for job.\n",
      "\u001b[34m\u001b[1mwandb\u001b[0m: Sweep Agent: Exiting.\n"
     ]
    },
    {
     "name": "stdout",
     "output_type": "stream",
     "text": [
      "Best hyperparameters saved to best_hyperparameters.txt with accuracy: 0.9150\n"
     ]
    }
   ],
   "source": [
    "# 학습 함수\n",
    "def train():\n",
    "    global best_overall_accuracy, best_overall_hyperparameters  # 전역 변수를 참조하도록 설정\n",
    "\n",
    "    # WandB 초기화\n",
    "    with wandb.init() as run:\n",
    "        config = run.config\n",
    "        X_train, X_val, y_train, y_val = train_test_split(train_x_encoded, train_y, test_size=0.2, random_state=config.seed)\n",
    "\n",
    "        X_train = torch.tensor(X_train.values, dtype=torch.float32)\n",
    "        y_train = torch.tensor(y_train.values, dtype=torch.float32)\n",
    "        X_val = torch.tensor(X_val.values, dtype=torch.float32)\n",
    "        y_val = torch.tensor(y_val.values, dtype=torch.float32)\n",
    "\n",
    "        # DataLoader 설정\n",
    "        #train_dataset = TensorDataset(X_train, y_train)\n",
    "        #train_loader = DataLoader(train_dataset, batch_size=config.batch_size, shuffle=True)\n",
    "        \n",
    "        # 모델 초기화\n",
    "        input_dim = X_train.shape[1]\n",
    "        if config.architecture == 'LogisticRegression':\n",
    "            model = LogisticRegressionModel(input_dim)\n",
    "        elif config.architecture == 'RandomForest':\n",
    "            model = RandomForestModel(input_dim)\n",
    "        elif config.architecture == 'XGBoostLike':\n",
    "            model = XGBoostLikeModel(input_dim)\n",
    "\n",
    "        # 손실함수 및 옵티마이저 정의\n",
    "        criterion = nn.BCEWithLogitsLoss()\n",
    "        optimizer = optim.Adam(model.parameters(), lr=config.learning_rate, weight_decay=config.weight_decay)\n",
    "\n",
    "        best_val_accuracy = 0.0  # 최고 검증 정확도 초기화\n",
    "        best_epoch = 0  # 최고 성능을 기록한 에포크 초기화\n",
    "\n",
    "        # 학습 과정\n",
    "        for epoch in range(config.epochs):\n",
    "            model.train()\n",
    "            optimizer.zero_grad()\n",
    "            outputs = model(X_train)\n",
    "            loss = criterion(outputs.squeeze(), y_train)\n",
    "            loss.backward()\n",
    "            optimizer.step()\n",
    "\n",
    "            # 검증 과정\n",
    "            model.eval()\n",
    "            with torch.no_grad():\n",
    "                val_outputs = model(X_val)\n",
    "                val_outputs = torch.sigmoid(val_outputs)\n",
    "                val_predictions = (val_outputs.squeeze() > 0.5).float()\n",
    "                val_accuracy = accuracy_score(y_val.numpy(), val_predictions.numpy())\n",
    "\n",
    "                # 최고 검증 정확도 업데이트\n",
    "                if val_accuracy > best_val_accuracy:\n",
    "                    best_val_accuracy = val_accuracy\n",
    "                    best_epoch = epoch + 1\n",
    "\n",
    "                # ROC Curve 계산\n",
    "                fpr, tpr, _ = roc_curve(y_val.numpy(), val_outputs.numpy())\n",
    "                roc_auc = auc(fpr, tpr)\n",
    "\n",
    "                # ROC Curve 플롯 생성\n",
    "                plt.figure()\n",
    "                plt.plot(fpr, tpr, color='darkorange', lw=2, label=f'ROC curve (area = {roc_auc:.2f})')\n",
    "                plt.plot([0, 1], [0, 1], color='navy', lw=2, linestyle='--')\n",
    "                plt.xlim([0.0, 1.0])\n",
    "                plt.ylim([0.0, 1.05])\n",
    "                plt.xlabel('False Positive Rate')\n",
    "                plt.ylabel('True Positive Rate')\n",
    "                plt.title('Receiver Operating Characteristic')\n",
    "                plt.legend(loc=\"lower right\")\n",
    "\n",
    "                # ROC Curve를 WandB에 이미지로 로깅\n",
    "                wandb.log({\"train_loss\": loss.item(), \"val_accuracy\": val_accuracy, \"roc_auc\": roc_auc, \n",
    "                           \"roc_curve\": wandb.Image(plt), \"best_val_accuracy\": best_val_accuracy, \n",
    "                           \"best_epoch\": best_epoch}, step=epoch)\n",
    "                plt.close()\n",
    "\n",
    "            print(f\"Epoch {epoch+1}/{config.epochs}, Loss: {loss.item():.4f}, Validation Accuracy: {val_accuracy:.4f}, AUC: {roc_auc:.4f}\")\n",
    "        \n",
    "        # 최고 성능의 하이퍼파라미터를 추적하여 저장\n",
    "        if best_val_accuracy > best_overall_accuracy:\n",
    "            best_overall_accuracy = best_val_accuracy\n",
    "            best_overall_hyperparameters = config\n",
    "            torch.save(model.state_dict(), \"best_overall_model.pth\")  # 모델 가중치 저장\n",
    "\n",
    "        \n",
    "\n",
    "        # 최종적으로 최고 성능을 기록한 에포크 시각화\n",
    "        wandb.log({\"Final Best Val Accuracy\": best_val_accuracy, \"Final Best Epoch\": best_epoch})\n",
    "\n",
    "sweep_id = wandb.sweep(sweep_config)\n",
    "wandb.agent(sweep_id, function=train)\n",
    "\n",
    "# 모든 실험이 끝난 후 최종 하이퍼파라미터 저장\n",
    "save_best_hyperparameters(best_overall_hyperparameters)\n",
    "\n",
    "# 학습 실행\n",
    "#train(model, X_train, y_train, criterion, optimizer, wandb.config)"
   ]
  },
  {
   "cell_type": "markdown",
   "id": "14d9c8b9-a8d2-4862-b8bf-e3e65d398458",
   "metadata": {},
   "source": [
    "## 추론\n",
    "\n",
    "모델을 학습했으니 test 데이터를 예측하는 일만 남았습니다! \n",
    "\n",
    "test 데이터에도 train 데이터에 했던 전처리를 진행한 후, 추론을 진행하면 됩니다.(data leakage 에 주의하도록 합니다!)"
   ]
  },
  {
   "cell_type": "code",
   "execution_count": 74,
   "id": "a168e565-e052-433e-b776-491e81473216",
   "metadata": {},
   "outputs": [],
   "source": [
    "test = pd.read_csv('test_final.csv')\n",
    "test = test.drop([\"id\"],axis=1) \n",
    "\n",
    "test = label_encoder(test, label_map) #test data 라벨 인코딩\n",
    "\n",
    "test[num_features] = scaler.transform(test[num_features]) #test 데이터 정규화\n",
    "\n",
    "# 범주형 변수 인코딩\n",
    "test_x_encoded = pd.get_dummies(test)"
   ]
  },
  {
   "cell_type": "markdown",
   "id": "07c10f16-8b43-4970-9c38-ed0d93151c6c",
   "metadata": {},
   "source": [
    "LogisticRegression.predict() 는 Sigmoid Function 의 출력 값을 출력합니다.\n",
    "\n",
    "따라서 예측 값들을 threshold 0.5 기준으로 0 또는 1 의 값으로 변환해주어야 합니다. "
   ]
  },
  {
   "cell_type": "code",
   "execution_count": 75,
   "id": "60c975c0-dcde-485c-8f6b-c805dd93605e",
   "metadata": {},
   "outputs": [],
   "source": [
    "#pred = lr.predict(test)\n",
    "#pred_bin = lr.to_bin(pred)"
   ]
  },
  {
   "cell_type": "code",
   "execution_count": 78,
   "id": "a54ae352",
   "metadata": {},
   "outputs": [],
   "source": [
    "# 저장된 모델 가중치를 불러와서 예측하는 함수\n",
    "def load_and_predict(model, input_data):\n",
    "    # 입력 데이터의 차원을 사용하여 모델 초기화\n",
    "    input_dim = input_data.shape[1]\n",
    "    # 모델 선택\n",
    "    if model == 'LogisticRegression':\n",
    "        model = LogisticRegressionModel(input_dim)\n",
    "    elif model == 'RandomForest':\n",
    "        model = RandomForestModel(input_dim)\n",
    "    elif model == 'XGBoostLike':\n",
    "        model = XGBoostLikeModel(input_dim)\n",
    "    else:\n",
    "        raise ValueError(f\"Unknown architecture: {model}\")\n",
    "\n",
    "    # 모델 가중치 로드\n",
    "    model.load_state_dict(torch.load(\"best_overall_model.pth\"))\n",
    "    model.eval()  # 예측 모드로 전환\n",
    "\n",
    "    # 입력 데이터를 텐서로 변환\n",
    "    input_tensor = torch.tensor(input_data, dtype=torch.float32)\n",
    "\n",
    "    # 예측 수행\n",
    "    with torch.no_grad():\n",
    "        outputs = model(input_tensor)\n",
    "        outputs = torch.sigmoid(outputs)  # 이진 분류일 경우 시그모이드 함수 적용\n",
    "        predictions = (outputs.squeeze() > 0.5).float()  # 0.5 기준으로 클래스 예측\n",
    "\n",
    "    return predictions.numpy()"
   ]
  },
  {
   "cell_type": "code",
   "execution_count": 80,
   "id": "4e32762b-8a31-40c1-848e-373ea73340a0",
   "metadata": {},
   "outputs": [
    {
     "name": "stderr",
     "output_type": "stream",
     "text": [
      "C:\\Users\\ADMIN\\AppData\\Local\\Temp\\ipykernel_3436\\246696754.py:16: FutureWarning: You are using `torch.load` with `weights_only=False` (the current default value), which uses the default pickle module implicitly. It is possible to construct malicious pickle data which will execute arbitrary code during unpickling (See https://github.com/pytorch/pytorch/blob/main/SECURITY.md#untrusted-models for more details). In a future release, the default value for `weights_only` will be flipped to `True`. This limits the functions that could be executed during unpickling. Arbitrary objects will no longer be allowed to be loaded via this mode unless they are explicitly allowlisted by the user via `torch.serialization.add_safe_globals`. We recommend you start setting `weights_only=True` for any use case where you don't have full control of the loaded file. Please open an issue on GitHub for any issues related to this experimental feature.\n",
      "  model.load_state_dict(torch.load(\"best_overall_model.pth\"))\n"
     ]
    }
   ],
   "source": [
    "model = 'RandomForest'\n",
    "\n",
    "sample_submission = pd.read_csv('sample_submission_final.csv')\n",
    "pred_bin = load_and_predict(model, test_x_encoded.values)\n",
    "sample_submission.target = pred_bin\n",
    "sample_submission.to_csv(\"submission.csv\",index=False)"
   ]
  },
  {
   "cell_type": "code",
   "execution_count": null,
   "id": "5f3bf76d",
   "metadata": {},
   "outputs": [],
   "source": []
  }
 ],
 "metadata": {
  "kernelspec": {
   "display_name": "Python 3 (ipykernel)",
   "language": "python",
   "name": "python3"
  },
  "language_info": {
   "codemirror_mode": {
    "name": "ipython",
    "version": 3
   },
   "file_extension": ".py",
   "mimetype": "text/x-python",
   "name": "python",
   "nbconvert_exporter": "python",
   "pygments_lexer": "ipython3",
   "version": "3.10.11"
  }
 },
 "nbformat": 4,
 "nbformat_minor": 5
}
