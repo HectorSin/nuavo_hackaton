{
 "cells": [
  {
   "cell_type": "code",
   "execution_count": 1,
   "id": "fa65f936",
   "metadata": {},
   "outputs": [],
   "source": [
    "#.venv\\Scripts\\activate\n",
    "#!pip install pandas\n",
    "#!pip install scikit-learn\n",
    "#!pip install wandb\n",
    "#!pip install torch\n",
    "#!pip install numpy==1.24.4\n",
    "#!pip install matplotlib"
   ]
  },
  {
   "cell_type": "markdown",
   "id": "33a12b91-77ce-436d-bb33-63a6aca8473d",
   "metadata": {},
   "source": [
    "## 항공사 고객 만족도 예측 경진대회 베이스라인\n",
    "이 대회는 성별, 이동 거리, 이륙 딜레이 시간 등으로 부터 고객 만족 여부를 예측하는 대회입니다.\n",
    "\n",
    "언뜻보면 간단해 보이지만 처음 데이터 분석을 접하시는 분들에게는 어디부터 어떻게 시작해야 하는지 막막하실 겁니다.\n",
    "\n",
    "## 데이터 불러오기\n",
    "먼저 분석하려는 데이터를 작업장으로 가져오는 작업이 필요합니다.\n",
    "\n",
    "이를 위해서 파이썬 라이브러리 중 하나인 Pandas를 이용합니다.\n",
    "\n",
    "pandas 라이브러리는 엑셀과 같은 행과 열로 이루어진 테이블(table) 형식의 데이터를 편하게 다루도록 해주는 라이브러리입니다.\n",
    "\n",
    "데이터 분석에는 반드시 사용된다고 해도 과언이 아닌 라이브러리이니, 시간이 날때마다 공부해둡시다."
   ]
  },
  {
   "cell_type": "code",
   "execution_count": 2,
   "id": "eefef5b7-04a2-4a27-a90d-779f4d18d107",
   "metadata": {},
   "outputs": [
    {
     "name": "stdout",
     "output_type": "stream",
     "text": [
      "train set은 24 개의 feature를 가진 2999 개의 데이터 샘플로 이루어져 있습니다.\n"
     ]
    },
    {
     "data": {
      "text/html": [
       "<div>\n",
       "<style scoped>\n",
       "    .dataframe tbody tr th:only-of-type {\n",
       "        vertical-align: middle;\n",
       "    }\n",
       "\n",
       "    .dataframe tbody tr th {\n",
       "        vertical-align: top;\n",
       "    }\n",
       "\n",
       "    .dataframe thead th {\n",
       "        text-align: right;\n",
       "    }\n",
       "</style>\n",
       "<table border=\"1\" class=\"dataframe\">\n",
       "  <thead>\n",
       "    <tr style=\"text-align: right;\">\n",
       "      <th></th>\n",
       "      <th>id</th>\n",
       "      <th>Gender</th>\n",
       "      <th>Customer Type</th>\n",
       "      <th>Age</th>\n",
       "      <th>Type of Travel</th>\n",
       "      <th>Class</th>\n",
       "      <th>Flight Distance</th>\n",
       "      <th>Seat comfort</th>\n",
       "      <th>Departure/Arrival time convenient</th>\n",
       "      <th>Food and drink</th>\n",
       "      <th>...</th>\n",
       "      <th>Ease of Online booking</th>\n",
       "      <th>On-board service</th>\n",
       "      <th>Leg room service</th>\n",
       "      <th>Baggage handling</th>\n",
       "      <th>Checkin service</th>\n",
       "      <th>Cleanliness</th>\n",
       "      <th>Online boarding</th>\n",
       "      <th>Departure Delay in Minutes</th>\n",
       "      <th>Arrival Delay in Minutes</th>\n",
       "      <th>target</th>\n",
       "    </tr>\n",
       "  </thead>\n",
       "  <tbody>\n",
       "    <tr>\n",
       "      <th>0</th>\n",
       "      <td>1</td>\n",
       "      <td>Male</td>\n",
       "      <td>Loyal Customer</td>\n",
       "      <td>72</td>\n",
       "      <td>Business travel</td>\n",
       "      <td>Business</td>\n",
       "      <td>1784</td>\n",
       "      <td>1</td>\n",
       "      <td>1</td>\n",
       "      <td>4</td>\n",
       "      <td>...</td>\n",
       "      <td>2</td>\n",
       "      <td>2</td>\n",
       "      <td>3</td>\n",
       "      <td>2</td>\n",
       "      <td>5</td>\n",
       "      <td>2</td>\n",
       "      <td>0</td>\n",
       "      <td>0</td>\n",
       "      <td>0</td>\n",
       "      <td>1</td>\n",
       "    </tr>\n",
       "    <tr>\n",
       "      <th>1</th>\n",
       "      <td>2</td>\n",
       "      <td>Male</td>\n",
       "      <td>Loyal Customer</td>\n",
       "      <td>35</td>\n",
       "      <td>Business travel</td>\n",
       "      <td>Business</td>\n",
       "      <td>2228</td>\n",
       "      <td>2</td>\n",
       "      <td>5</td>\n",
       "      <td>5</td>\n",
       "      <td>...</td>\n",
       "      <td>2</td>\n",
       "      <td>2</td>\n",
       "      <td>2</td>\n",
       "      <td>2</td>\n",
       "      <td>4</td>\n",
       "      <td>2</td>\n",
       "      <td>0</td>\n",
       "      <td>0</td>\n",
       "      <td>8</td>\n",
       "      <td>0</td>\n",
       "    </tr>\n",
       "    <tr>\n",
       "      <th>2</th>\n",
       "      <td>3</td>\n",
       "      <td>Male</td>\n",
       "      <td>disloyal Customer</td>\n",
       "      <td>37</td>\n",
       "      <td>Business travel</td>\n",
       "      <td>Eco</td>\n",
       "      <td>1970</td>\n",
       "      <td>4</td>\n",
       "      <td>3</td>\n",
       "      <td>4</td>\n",
       "      <td>...</td>\n",
       "      <td>1</td>\n",
       "      <td>3</td>\n",
       "      <td>2</td>\n",
       "      <td>5</td>\n",
       "      <td>1</td>\n",
       "      <td>4</td>\n",
       "      <td>0</td>\n",
       "      <td>1</td>\n",
       "      <td>2</td>\n",
       "      <td>1</td>\n",
       "    </tr>\n",
       "    <tr>\n",
       "      <th>3</th>\n",
       "      <td>4</td>\n",
       "      <td>Female</td>\n",
       "      <td>Loyal Customer</td>\n",
       "      <td>20</td>\n",
       "      <td>Personal Travel</td>\n",
       "      <td>Eco</td>\n",
       "      <td>2249</td>\n",
       "      <td>5</td>\n",
       "      <td>5</td>\n",
       "      <td>1</td>\n",
       "      <td>...</td>\n",
       "      <td>1</td>\n",
       "      <td>4</td>\n",
       "      <td>1</td>\n",
       "      <td>4</td>\n",
       "      <td>1</td>\n",
       "      <td>5</td>\n",
       "      <td>0</td>\n",
       "      <td>0</td>\n",
       "      <td>0</td>\n",
       "      <td>1</td>\n",
       "    </tr>\n",
       "    <tr>\n",
       "      <th>4</th>\n",
       "      <td>5</td>\n",
       "      <td>Male</td>\n",
       "      <td>disloyal Customer</td>\n",
       "      <td>38</td>\n",
       "      <td>Business travel</td>\n",
       "      <td>Eco</td>\n",
       "      <td>1995</td>\n",
       "      <td>2</td>\n",
       "      <td>2</td>\n",
       "      <td>2</td>\n",
       "      <td>...</td>\n",
       "      <td>5</td>\n",
       "      <td>2</td>\n",
       "      <td>5</td>\n",
       "      <td>3</td>\n",
       "      <td>1</td>\n",
       "      <td>2</td>\n",
       "      <td>0</td>\n",
       "      <td>110</td>\n",
       "      <td>102</td>\n",
       "      <td>0</td>\n",
       "    </tr>\n",
       "  </tbody>\n",
       "</table>\n",
       "<p>5 rows × 24 columns</p>\n",
       "</div>"
      ],
      "text/plain": [
       "   id  Gender      Customer Type  Age   Type of Travel     Class  \\\n",
       "0   1    Male     Loyal Customer   72  Business travel  Business   \n",
       "1   2    Male     Loyal Customer   35  Business travel  Business   \n",
       "2   3    Male  disloyal Customer   37  Business travel       Eco   \n",
       "3   4  Female     Loyal Customer   20  Personal Travel       Eco   \n",
       "4   5    Male  disloyal Customer   38  Business travel       Eco   \n",
       "\n",
       "   Flight Distance  Seat comfort  Departure/Arrival time convenient  \\\n",
       "0             1784             1                                  1   \n",
       "1             2228             2                                  5   \n",
       "2             1970             4                                  3   \n",
       "3             2249             5                                  5   \n",
       "4             1995             2                                  2   \n",
       "\n",
       "   Food and drink  ...  Ease of Online booking  On-board service  \\\n",
       "0               4  ...                       2                 2   \n",
       "1               5  ...                       2                 2   \n",
       "2               4  ...                       1                 3   \n",
       "3               1  ...                       1                 4   \n",
       "4               2  ...                       5                 2   \n",
       "\n",
       "   Leg room service  Baggage handling  Checkin service  Cleanliness  \\\n",
       "0                 3                 2                5            2   \n",
       "1                 2                 2                4            2   \n",
       "2                 2                 5                1            4   \n",
       "3                 1                 4                1            5   \n",
       "4                 5                 3                1            2   \n",
       "\n",
       "   Online boarding  Departure Delay in Minutes  Arrival Delay in Minutes  \\\n",
       "0                0                           0                         0   \n",
       "1                0                           0                         8   \n",
       "2                0                           1                         2   \n",
       "3                0                           0                         0   \n",
       "4                0                         110                       102   \n",
       "\n",
       "   target  \n",
       "0       1  \n",
       "1       0  \n",
       "2       1  \n",
       "3       1  \n",
       "4       0  \n",
       "\n",
       "[5 rows x 24 columns]"
      ]
     },
     "execution_count": 2,
     "metadata": {},
     "output_type": "execute_result"
    }
   ],
   "source": [
    "import pandas as pd\n",
    "\n",
    "train = pd.read_csv(r\"train_final.csv\")\n",
    "\n",
    "print(f'train set은 {train.shape[1]} 개의 feature를 가진 {train.shape[0]} 개의 데이터 샘플로 이루어져 있습니다.')\n",
    "\n",
    "train.head()"
   ]
  },
  {
   "cell_type": "markdown",
   "id": "53d644ed-aa26-43ee-bff4-9c833b7cfbb8",
   "metadata": {},
   "source": [
    "데이터를 자세히 살펴보는 것은 EDA 글을 통해 알아보는 것으로 하겠습니다.\n",
    "\n",
    "여기에서는 분석 방법에 초점을 맞추겠습니다.\n",
    "\n",
    "## 결측치 확인\n",
    "\n",
    "결측치(NA: Not Available)란 값이 누락된 데이터를 말합니다.\n",
    "\n",
    "보다 정확한 분석을 하기 위해서는 데이터의 결측치를 확인하고 적절히 처리해주어야 합니다.\n",
    "\n",
    "이번 데이터에 결측치가 있나 확인해볼까요?"
   ]
  },
  {
   "cell_type": "code",
   "execution_count": 3,
   "id": "9ac9b25a-c6eb-4915-903d-4d3ff19aec6f",
   "metadata": {},
   "outputs": [
    {
     "name": "stdout",
     "output_type": "stream",
     "text": [
      "결측치가 존재하지 않습니다\n"
     ]
    }
   ],
   "source": [
    "def check_missing_col(dataframe):\n",
    "    missing_col = []\n",
    "    for col in dataframe.columns:\n",
    "        missing_values = sum(dataframe[col].isna())\n",
    "        is_missing = True if missing_values >= 1 else False\n",
    "        if is_missing:\n",
    "            print(f'결측치가 있는 컬럼은: {col} 입니다')\n",
    "            print(f'해당 컬럼에 총 {missing_values} 개의 결측치가 존재합니다.')\n",
    "            missing_col.append([col, dataframe[col].dtype])\n",
    "    if missing_col == []:\n",
    "        print('결측치가 존재하지 않습니다')\n",
    "    return missing_col\n",
    "\n",
    "missing_col = check_missing_col(train)"
   ]
  },
  {
   "cell_type": "markdown",
   "id": "ad0674a4-0c3c-42c4-8c0a-923e6e3531c9",
   "metadata": {},
   "source": [
    "이번 데이터에는 결측치가 존재하지 않네요.\n",
    "\n",
    "만약 결측치가 존재한다면 결측치 삭제, 평균 보간법, 최빈값 보간법 등 다양한 방식으로 처리할 수 있습니다"
   ]
  },
  {
   "cell_type": "markdown",
   "id": "cd86ae9c-40ec-4d1e-8960-90a53aea38e4",
   "metadata": {},
   "source": [
    "## 데이터 전처리 \n",
    "\n",
    "### 라벨 인코딩\n",
    "\n",
    "데이터를 모델에 투입하기 전 몇 가지 전처리 과정이 필요합니다. \n",
    "\n",
    "우선은 카테고리 형식의 features 들을 바꿔주어야 합니다. \n",
    "\n",
    "본 데이터에서는 'Gender', 'Customer Type','Type of Travel', 'Class' 의 카테고리 형식의 feature 들이 있습니다. \n",
    "\n",
    "이러한 데이터의 라벨을 숫자로 바꾸어주는 전처리를 라벨 인코딩 (label encoding) 이라고 합니다.\n",
    "\n",
    "본격적으로 데이터 전처리를 하기 전에 id 열을 제거해주고, data 와 target 을 나누어줍니다."
   ]
  },
  {
   "cell_type": "code",
   "execution_count": 4,
   "id": "8fe5e7d0-287b-412c-9ff1-138b8715b115",
   "metadata": {},
   "outputs": [
    {
     "data": {
      "text/html": [
       "<div>\n",
       "<style scoped>\n",
       "    .dataframe tbody tr th:only-of-type {\n",
       "        vertical-align: middle;\n",
       "    }\n",
       "\n",
       "    .dataframe tbody tr th {\n",
       "        vertical-align: top;\n",
       "    }\n",
       "\n",
       "    .dataframe thead th {\n",
       "        text-align: right;\n",
       "    }\n",
       "</style>\n",
       "<table border=\"1\" class=\"dataframe\">\n",
       "  <thead>\n",
       "    <tr style=\"text-align: right;\">\n",
       "      <th></th>\n",
       "      <th>Gender</th>\n",
       "      <th>Customer Type</th>\n",
       "      <th>Age</th>\n",
       "      <th>Type of Travel</th>\n",
       "      <th>Class</th>\n",
       "      <th>Flight Distance</th>\n",
       "      <th>Seat comfort</th>\n",
       "      <th>Departure/Arrival time convenient</th>\n",
       "      <th>Food and drink</th>\n",
       "      <th>Gate location</th>\n",
       "      <th>...</th>\n",
       "      <th>Online support</th>\n",
       "      <th>Ease of Online booking</th>\n",
       "      <th>On-board service</th>\n",
       "      <th>Leg room service</th>\n",
       "      <th>Baggage handling</th>\n",
       "      <th>Checkin service</th>\n",
       "      <th>Cleanliness</th>\n",
       "      <th>Online boarding</th>\n",
       "      <th>Departure Delay in Minutes</th>\n",
       "      <th>Arrival Delay in Minutes</th>\n",
       "    </tr>\n",
       "  </thead>\n",
       "  <tbody>\n",
       "    <tr>\n",
       "      <th>0</th>\n",
       "      <td>1</td>\n",
       "      <td>1</td>\n",
       "      <td>72</td>\n",
       "      <td>1</td>\n",
       "      <td>1</td>\n",
       "      <td>1784</td>\n",
       "      <td>1</td>\n",
       "      <td>1</td>\n",
       "      <td>4</td>\n",
       "      <td>1</td>\n",
       "      <td>...</td>\n",
       "      <td>5</td>\n",
       "      <td>2</td>\n",
       "      <td>2</td>\n",
       "      <td>3</td>\n",
       "      <td>2</td>\n",
       "      <td>5</td>\n",
       "      <td>2</td>\n",
       "      <td>0</td>\n",
       "      <td>0</td>\n",
       "      <td>0</td>\n",
       "    </tr>\n",
       "    <tr>\n",
       "      <th>1</th>\n",
       "      <td>1</td>\n",
       "      <td>1</td>\n",
       "      <td>35</td>\n",
       "      <td>1</td>\n",
       "      <td>1</td>\n",
       "      <td>2228</td>\n",
       "      <td>2</td>\n",
       "      <td>5</td>\n",
       "      <td>5</td>\n",
       "      <td>5</td>\n",
       "      <td>...</td>\n",
       "      <td>2</td>\n",
       "      <td>2</td>\n",
       "      <td>2</td>\n",
       "      <td>2</td>\n",
       "      <td>2</td>\n",
       "      <td>4</td>\n",
       "      <td>2</td>\n",
       "      <td>0</td>\n",
       "      <td>0</td>\n",
       "      <td>8</td>\n",
       "    </tr>\n",
       "    <tr>\n",
       "      <th>2</th>\n",
       "      <td>1</td>\n",
       "      <td>2</td>\n",
       "      <td>37</td>\n",
       "      <td>1</td>\n",
       "      <td>2</td>\n",
       "      <td>1970</td>\n",
       "      <td>4</td>\n",
       "      <td>3</td>\n",
       "      <td>4</td>\n",
       "      <td>1</td>\n",
       "      <td>...</td>\n",
       "      <td>1</td>\n",
       "      <td>1</td>\n",
       "      <td>3</td>\n",
       "      <td>2</td>\n",
       "      <td>5</td>\n",
       "      <td>1</td>\n",
       "      <td>4</td>\n",
       "      <td>0</td>\n",
       "      <td>1</td>\n",
       "      <td>2</td>\n",
       "    </tr>\n",
       "    <tr>\n",
       "      <th>3</th>\n",
       "      <td>2</td>\n",
       "      <td>1</td>\n",
       "      <td>20</td>\n",
       "      <td>2</td>\n",
       "      <td>2</td>\n",
       "      <td>2249</td>\n",
       "      <td>5</td>\n",
       "      <td>5</td>\n",
       "      <td>1</td>\n",
       "      <td>3</td>\n",
       "      <td>...</td>\n",
       "      <td>1</td>\n",
       "      <td>1</td>\n",
       "      <td>4</td>\n",
       "      <td>1</td>\n",
       "      <td>4</td>\n",
       "      <td>1</td>\n",
       "      <td>5</td>\n",
       "      <td>0</td>\n",
       "      <td>0</td>\n",
       "      <td>0</td>\n",
       "    </tr>\n",
       "    <tr>\n",
       "      <th>4</th>\n",
       "      <td>1</td>\n",
       "      <td>2</td>\n",
       "      <td>38</td>\n",
       "      <td>1</td>\n",
       "      <td>2</td>\n",
       "      <td>1995</td>\n",
       "      <td>2</td>\n",
       "      <td>2</td>\n",
       "      <td>2</td>\n",
       "      <td>2</td>\n",
       "      <td>...</td>\n",
       "      <td>5</td>\n",
       "      <td>5</td>\n",
       "      <td>2</td>\n",
       "      <td>5</td>\n",
       "      <td>3</td>\n",
       "      <td>1</td>\n",
       "      <td>2</td>\n",
       "      <td>0</td>\n",
       "      <td>110</td>\n",
       "      <td>102</td>\n",
       "    </tr>\n",
       "  </tbody>\n",
       "</table>\n",
       "<p>5 rows × 22 columns</p>\n",
       "</div>"
      ],
      "text/plain": [
       "   Gender  Customer Type  Age  Type of Travel  Class  Flight Distance  \\\n",
       "0       1              1   72               1      1             1784   \n",
       "1       1              1   35               1      1             2228   \n",
       "2       1              2   37               1      2             1970   \n",
       "3       2              1   20               2      2             2249   \n",
       "4       1              2   38               1      2             1995   \n",
       "\n",
       "   Seat comfort  Departure/Arrival time convenient  Food and drink  \\\n",
       "0             1                                  1               4   \n",
       "1             2                                  5               5   \n",
       "2             4                                  3               4   \n",
       "3             5                                  5               1   \n",
       "4             2                                  2               2   \n",
       "\n",
       "   Gate location  ...  Online support  Ease of Online booking  \\\n",
       "0              1  ...               5                       2   \n",
       "1              5  ...               2                       2   \n",
       "2              1  ...               1                       1   \n",
       "3              3  ...               1                       1   \n",
       "4              2  ...               5                       5   \n",
       "\n",
       "   On-board service  Leg room service  Baggage handling  Checkin service  \\\n",
       "0                 2                 3                 2                5   \n",
       "1                 2                 2                 2                4   \n",
       "2                 3                 2                 5                1   \n",
       "3                 4                 1                 4                1   \n",
       "4                 2                 5                 3                1   \n",
       "\n",
       "   Cleanliness  Online boarding  Departure Delay in Minutes  \\\n",
       "0            2                0                           0   \n",
       "1            2                0                           0   \n",
       "2            4                0                           1   \n",
       "3            5                0                           0   \n",
       "4            2                0                         110   \n",
       "\n",
       "   Arrival Delay in Minutes  \n",
       "0                         0  \n",
       "1                         8  \n",
       "2                         2  \n",
       "3                         0  \n",
       "4                       102  \n",
       "\n",
       "[5 rows x 22 columns]"
      ]
     },
     "execution_count": 4,
     "metadata": {},
     "output_type": "execute_result"
    }
   ],
   "source": [
    "train_x = train.drop([\"id\",\"target\"],axis=1) \n",
    "train_y = train.target \n",
    "\n",
    "#라벨인코딩을 하기 위함 dictionary map 생성 함수\n",
    "def make_label_map(dataframe):\n",
    "    label_maps = {}\n",
    "    for col in dataframe.columns:\n",
    "        if dataframe[col].dtype=='object':\n",
    "            label_map = {'unknown':0}\n",
    "            for i, key in enumerate(dataframe[col].unique()): #enumerate는 인덱스와 함께 고유값 반환, enumerate(['a', 'b', 'c'])는 (0, 'a'), (1, 'b'), (2, 'c')와 같은 튜플을 반환\n",
    "                label_map[key] = i+1  \n",
    "            label_maps[col] = label_map\n",
    "    return label_maps\n",
    "\n",
    "# 각 범주형 변수에 인코딩 값을 부여하는 함수\n",
    "def label_encoder(dataframe, label_map):\n",
    "    for col in dataframe.columns:\n",
    "        if dataframe[col].dtype=='object':\n",
    "            dataframe[col] = dataframe[col].map(label_map[col])\n",
    "            dataframe[col] = dataframe[col].fillna(label_map[col]['unknown']) \n",
    "    return dataframe\n",
    "\n",
    "# train 데이터 라벨 인코딩\n",
    "label_map = make_label_map(train_x) # train 사용해 label map 생성\n",
    "train_x = label_encoder(train_x, label_map) # train 라벨 인코딩\n",
    "\n",
    "train_x.head()"
   ]
  },
  {
   "cell_type": "markdown",
   "id": "124a7902-d1dc-4d52-a768-1bcffd1850f3",
   "metadata": {},
   "source": [
    "라벨 인코딩 후 원래 문자열 형식의 데이터가 숫자로 표현되어 있음을 볼 수 있습니다.\n",
    "\n",
    "## 정규화 \n",
    "\n",
    "수치형 데이터들을 정규화 시켜줍니다.\n",
    "\n",
    "머신러닝 과정에서 모델은 데이터의 특성(feature)들을 추출해 학습을 진행합니다.\n",
    "\n",
    "하지만 학습을 하는 과정에서 데이터의 값이 너무 크거나, 분산이 너무 크면 학습 과정에 악영향을 끼칠 수 있습니다.\n",
    "\n",
    "따라서 정규화를 통해 데이터 값의 크기를 줄이고 분산을 줄여 모델이 데이터를 이상하게 해석하는 것을 방지합니다.\n",
    "\n",
    "이번 베이스라인에서는 min-max 정규화를 이용해 봅시다.\n",
    "\n",
    "min-max 정규화는 수치형 데이터의 값을 0~1 사이의 값으로 변환해줍니다.\n",
    "\n",
    "min-max 정규화의 수식은 아래와 같습니다.\n",
    "\n",
    "X' = (X - MIN) / (MAX-MIN)"
   ]
  },
  {
   "cell_type": "code",
   "execution_count": 5,
   "id": "f7d8d38c-2362-469a-99b8-e2256414713b",
   "metadata": {},
   "outputs": [
    {
     "data": {
      "text/html": [
       "<div>\n",
       "<style scoped>\n",
       "    .dataframe tbody tr th:only-of-type {\n",
       "        vertical-align: middle;\n",
       "    }\n",
       "\n",
       "    .dataframe tbody tr th {\n",
       "        vertical-align: top;\n",
       "    }\n",
       "\n",
       "    .dataframe thead th {\n",
       "        text-align: right;\n",
       "    }\n",
       "</style>\n",
       "<table border=\"1\" class=\"dataframe\">\n",
       "  <thead>\n",
       "    <tr style=\"text-align: right;\">\n",
       "      <th></th>\n",
       "      <th>Gender</th>\n",
       "      <th>Customer Type</th>\n",
       "      <th>Age</th>\n",
       "      <th>Type of Travel</th>\n",
       "      <th>Class</th>\n",
       "      <th>Flight Distance</th>\n",
       "      <th>Seat comfort</th>\n",
       "      <th>Departure/Arrival time convenient</th>\n",
       "      <th>Food and drink</th>\n",
       "      <th>Gate location</th>\n",
       "      <th>...</th>\n",
       "      <th>Online support</th>\n",
       "      <th>Ease of Online booking</th>\n",
       "      <th>On-board service</th>\n",
       "      <th>Leg room service</th>\n",
       "      <th>Baggage handling</th>\n",
       "      <th>Checkin service</th>\n",
       "      <th>Cleanliness</th>\n",
       "      <th>Online boarding</th>\n",
       "      <th>Departure Delay in Minutes</th>\n",
       "      <th>Arrival Delay in Minutes</th>\n",
       "    </tr>\n",
       "  </thead>\n",
       "  <tbody>\n",
       "    <tr>\n",
       "      <th>0</th>\n",
       "      <td>1</td>\n",
       "      <td>1</td>\n",
       "      <td>0.890411</td>\n",
       "      <td>1</td>\n",
       "      <td>1</td>\n",
       "      <td>0.264656</td>\n",
       "      <td>1</td>\n",
       "      <td>1</td>\n",
       "      <td>4</td>\n",
       "      <td>1</td>\n",
       "      <td>...</td>\n",
       "      <td>5</td>\n",
       "      <td>2</td>\n",
       "      <td>2</td>\n",
       "      <td>3</td>\n",
       "      <td>2</td>\n",
       "      <td>5</td>\n",
       "      <td>2</td>\n",
       "      <td>0</td>\n",
       "      <td>0.000000</td>\n",
       "      <td>0.000000</td>\n",
       "    </tr>\n",
       "    <tr>\n",
       "      <th>1</th>\n",
       "      <td>1</td>\n",
       "      <td>1</td>\n",
       "      <td>0.383562</td>\n",
       "      <td>1</td>\n",
       "      <td>1</td>\n",
       "      <td>0.332619</td>\n",
       "      <td>2</td>\n",
       "      <td>5</td>\n",
       "      <td>5</td>\n",
       "      <td>5</td>\n",
       "      <td>...</td>\n",
       "      <td>2</td>\n",
       "      <td>2</td>\n",
       "      <td>2</td>\n",
       "      <td>2</td>\n",
       "      <td>2</td>\n",
       "      <td>4</td>\n",
       "      <td>2</td>\n",
       "      <td>0</td>\n",
       "      <td>0.000000</td>\n",
       "      <td>0.017021</td>\n",
       "    </tr>\n",
       "    <tr>\n",
       "      <th>2</th>\n",
       "      <td>1</td>\n",
       "      <td>2</td>\n",
       "      <td>0.410959</td>\n",
       "      <td>1</td>\n",
       "      <td>2</td>\n",
       "      <td>0.293127</td>\n",
       "      <td>4</td>\n",
       "      <td>3</td>\n",
       "      <td>4</td>\n",
       "      <td>1</td>\n",
       "      <td>...</td>\n",
       "      <td>1</td>\n",
       "      <td>1</td>\n",
       "      <td>3</td>\n",
       "      <td>2</td>\n",
       "      <td>5</td>\n",
       "      <td>1</td>\n",
       "      <td>4</td>\n",
       "      <td>0</td>\n",
       "      <td>0.002299</td>\n",
       "      <td>0.004255</td>\n",
       "    </tr>\n",
       "    <tr>\n",
       "      <th>3</th>\n",
       "      <td>2</td>\n",
       "      <td>1</td>\n",
       "      <td>0.178082</td>\n",
       "      <td>2</td>\n",
       "      <td>2</td>\n",
       "      <td>0.335833</td>\n",
       "      <td>5</td>\n",
       "      <td>5</td>\n",
       "      <td>1</td>\n",
       "      <td>3</td>\n",
       "      <td>...</td>\n",
       "      <td>1</td>\n",
       "      <td>1</td>\n",
       "      <td>4</td>\n",
       "      <td>1</td>\n",
       "      <td>4</td>\n",
       "      <td>1</td>\n",
       "      <td>5</td>\n",
       "      <td>0</td>\n",
       "      <td>0.000000</td>\n",
       "      <td>0.000000</td>\n",
       "    </tr>\n",
       "    <tr>\n",
       "      <th>4</th>\n",
       "      <td>1</td>\n",
       "      <td>2</td>\n",
       "      <td>0.424658</td>\n",
       "      <td>1</td>\n",
       "      <td>2</td>\n",
       "      <td>0.296954</td>\n",
       "      <td>2</td>\n",
       "      <td>2</td>\n",
       "      <td>2</td>\n",
       "      <td>2</td>\n",
       "      <td>...</td>\n",
       "      <td>5</td>\n",
       "      <td>5</td>\n",
       "      <td>2</td>\n",
       "      <td>5</td>\n",
       "      <td>3</td>\n",
       "      <td>1</td>\n",
       "      <td>2</td>\n",
       "      <td>0</td>\n",
       "      <td>0.252874</td>\n",
       "      <td>0.217021</td>\n",
       "    </tr>\n",
       "  </tbody>\n",
       "</table>\n",
       "<p>5 rows × 22 columns</p>\n",
       "</div>"
      ],
      "text/plain": [
       "   Gender  Customer Type       Age  Type of Travel  Class  Flight Distance  \\\n",
       "0       1              1  0.890411               1      1         0.264656   \n",
       "1       1              1  0.383562               1      1         0.332619   \n",
       "2       1              2  0.410959               1      2         0.293127   \n",
       "3       2              1  0.178082               2      2         0.335833   \n",
       "4       1              2  0.424658               1      2         0.296954   \n",
       "\n",
       "   Seat comfort  Departure/Arrival time convenient  Food and drink  \\\n",
       "0             1                                  1               4   \n",
       "1             2                                  5               5   \n",
       "2             4                                  3               4   \n",
       "3             5                                  5               1   \n",
       "4             2                                  2               2   \n",
       "\n",
       "   Gate location  ...  Online support  Ease of Online booking  \\\n",
       "0              1  ...               5                       2   \n",
       "1              5  ...               2                       2   \n",
       "2              1  ...               1                       1   \n",
       "3              3  ...               1                       1   \n",
       "4              2  ...               5                       5   \n",
       "\n",
       "   On-board service  Leg room service  Baggage handling  Checkin service  \\\n",
       "0                 2                 3                 2                5   \n",
       "1                 2                 2                 2                4   \n",
       "2                 3                 2                 5                1   \n",
       "3                 4                 1                 4                1   \n",
       "4                 2                 5                 3                1   \n",
       "\n",
       "   Cleanliness  Online boarding  Departure Delay in Minutes  \\\n",
       "0            2                0                    0.000000   \n",
       "1            2                0                    0.000000   \n",
       "2            4                0                    0.002299   \n",
       "3            5                0                    0.000000   \n",
       "4            2                0                    0.252874   \n",
       "\n",
       "   Arrival Delay in Minutes  \n",
       "0                  0.000000  \n",
       "1                  0.017021  \n",
       "2                  0.004255  \n",
       "3                  0.000000  \n",
       "4                  0.217021  \n",
       "\n",
       "[5 rows x 22 columns]"
      ]
     },
     "execution_count": 5,
     "metadata": {},
     "output_type": "execute_result"
    }
   ],
   "source": [
    "from sklearn.preprocessing import MinMaxScaler\n",
    "\n",
    "num_features = ['Age','Flight Distance','Departure Delay in Minutes','Arrival Delay in Minutes']\n",
    "\n",
    "scaler = MinMaxScaler()\n",
    "train_x[num_features] = scaler.fit_transform(train_x[num_features]) \n",
    "train_x.head()"
   ]
  },
  {
   "cell_type": "markdown",
   "id": "79aa86e5-7adc-4fe6-97aa-bb831767e910",
   "metadata": {},
   "source": [
    "정규화 후 수치형 데이터들의 값이 0과 1 사이의 값으로 변환 되었음을 볼 수 있습니다."
   ]
  },
  {
   "cell_type": "markdown",
   "id": "2be8a3e2-62a3-414a-84d8-54c36ae578f8",
   "metadata": {},
   "source": [
    "## 모델 학습\n",
    "\n",
    "모델을 설계했으니 이제 모델을 학습하면 됩니다.\n",
    "\n",
    "객체에 Logistic Regression 클래스를 할당 후, 클래스 내 fit 메소드를 이용해 학습을 진행하면 됩니다."
   ]
  },
  {
   "cell_type": "code",
   "execution_count": 6,
   "id": "c8b2ae10",
   "metadata": {},
   "outputs": [],
   "source": [
    "import wandb\n",
    "import torch\n",
    "import torch.nn as nn\n",
    "import torch.optim as optim\n",
    "from sklearn.model_selection import train_test_split\n",
    "from torch.utils.data import DataLoader, TensorDataset\n",
    "from sklearn.metrics import accuracy_score, roc_curve, auc\n",
    "import matplotlib.pyplot as plt\n",
    "\n",
    "# GPU 사용이 가능한지 확인\n",
    "device = torch.device(\"cuda\" if torch.cuda.is_available() else \"cpu\")\n",
    "\n",
    "sweep_config = {\n",
    "    'method': 'grid',  # 또는 'random' 혹은 'bayes'로 변경 가능\n",
    "    'metric': {\n",
    "        'name': 'train_loss',  # 주로 모니터링할 메트릭\n",
    "        'goal': 'minimize'  # 'maximize'로 변경 가능\n",
    "    },\n",
    "    'parameters': {\n",
    "        'epochs': {\n",
    "            'values': [200]  # 에포크 수를 탐색할 값들로 정의\n",
    "        },\n",
    "        'learning_rate': {\n",
    "            'values': [0.5, 0.1, 0.05]  # 학습률을 탐색할 값들로 정의\n",
    "        },\n",
    "        'weight_decay': {\n",
    "            'values': [0.0005, 0.0001]  # weight_decay 값을 탐색할 값들로 정의\n",
    "        },\n",
    "        'architecture': {\n",
    "            'values': ['LogisticRegression', 'RandomForest']  # 모델 아키텍처를 탐색할 값들로 정의\n",
    "        },\n",
    "        'seed': {\n",
    "            'value': 42  # 고정된 시드 값 (변경하지 않음)\n",
    "        }\n",
    "    }\n",
    "}"
   ]
  },
  {
   "cell_type": "code",
   "execution_count": 7,
   "id": "9fb99c37",
   "metadata": {},
   "outputs": [],
   "source": [
    "# torch 기반 Logistic Regression 모델 정의\n",
    "class LogisticRegressionModel(nn.Module):\n",
    "    def __init__(self, input_dim):\n",
    "        super(LogisticRegressionModel, self).__init__()\n",
    "        self.linear = nn.Linear(input_dim, 1)\n",
    "    \n",
    "    def forward(self, x):\n",
    "        return self.linear(x)\n",
    "\n",
    "class RandomForestModel(nn.Module):\n",
    "    def __init__(self, input_dim, num_trees=10, max_depth=5):\n",
    "        super(RandomForestModel, self).__init__()\n",
    "        self.num_trees = num_trees\n",
    "        self.trees = nn.ModuleList([self._build_tree(input_dim, max_depth) for _ in range(num_trees)])\n",
    "    \n",
    "    def _build_tree(self, input_dim, max_depth):\n",
    "        # 간단한 트리 구조를 생성 (이 예제에서는 트리를 Linear 레이어로 대체)\n",
    "        layers = []\n",
    "        for _ in range(max_depth):\n",
    "            layers.append(nn.Linear(input_dim, input_dim))\n",
    "            layers.append(nn.ReLU())\n",
    "        layers.append(nn.Linear(input_dim, 1))  # 최종 레이어는 1개의 출력 노드를 가짐\n",
    "        return nn.Sequential(*layers)\n",
    "    \n",
    "    def forward(self, x):\n",
    "        # 모든 트리의 출력을 평균화\n",
    "        tree_outputs = [tree(x) for tree in self.trees]\n",
    "        avg_output = torch.mean(torch.stack(tree_outputs), dim=0)\n",
    "        return avg_output\n",
    "\n",
    "class XGBoostLikeModel(nn.Module):\n",
    "    def __init__(self, input_dim, num_trees=10, max_depth=5, learning_rate=0.1):\n",
    "        super(XGBoostLikeModel, self).__init__()\n",
    "        self.num_trees = num_trees\n",
    "        self.learning_rate = learning_rate\n",
    "        self.trees = nn.ModuleList([self._build_tree(input_dim, max_depth) for _ in range(num_trees)])\n",
    "    \n",
    "    def _build_tree(self, input_dim, max_depth):\n",
    "        # 간단한 트리 구조를 생성 (이 예제에서는 트리를 Linear 레이어로 대체)\n",
    "        layers = []\n",
    "        for _ in range(max_depth):\n",
    "            layers.append(nn.Linear(input_dim, input_dim))\n",
    "            layers.append(nn.ReLU())\n",
    "        layers.append(nn.Linear(input_dim, 1))  # 최종 레이어는 1개의 출력 노드를 가짐\n",
    "        return nn.Sequential(*layers)\n",
    "    \n",
    "    def forward(self, x):\n",
    "        # 초기 예측값 (예: 0 또는 평균값)\n",
    "        output = torch.zeros_like(x[:, :1])  # 초기값을 0으로 설정 (mean value를 사용할 수도 있음)\n",
    "        \n",
    "        # 각 트리의 예측을 적용하여 점진적으로 결과를 갱신\n",
    "        for tree in self.trees:\n",
    "            residual = x - output  # 남은 오류 (잔차)\n",
    "            tree_output = tree(residual)  # 트리의 예측\n",
    "            output = output + self.learning_rate * tree_output  # 트리의 예측을 학습률과 곱하여 누적\n",
    "        \n",
    "        return output"
   ]
  },
  {
   "cell_type": "code",
   "execution_count": 8,
   "id": "fcec221e",
   "metadata": {},
   "outputs": [],
   "source": [
    "# 전역 변수로 설정\n",
    "best_overall_accuracy = 0.0\n",
    "best_overall_hyperparameters = None\n",
    "\n",
    "# Sweep 실행 후 모든 실험이 완료된 후, 최고 성능 모델과 하이퍼파라미터 저장\n",
    "def save_best_hyperparameters(best_overall_hyperparameters):\n",
    "    with open(\"best_hyperparameters.txt\", \"w\") as f:\n",
    "        for key, value in best_overall_hyperparameters.items():\n",
    "            f.write(f\"{key}: {value}\\n\")\n",
    "    print(f\"Best hyperparameters saved to best_hyperparameters.txt with accuracy: {best_overall_accuracy:.4f}\")"
   ]
  },
  {
   "cell_type": "code",
   "execution_count": 9,
   "id": "b3c16c31",
   "metadata": {},
   "outputs": [],
   "source": [
    "# 범주형 변수 인코딩\n",
    "train_x_encoded = pd.get_dummies(train_x)"
   ]
  },
  {
   "cell_type": "code",
   "execution_count": 10,
   "id": "f69ae015",
   "metadata": {},
   "outputs": [
    {
     "name": "stderr",
     "output_type": "stream",
     "text": [
      "Failed to detect the name of this notebook, you can set it manually with the WANDB_NOTEBOOK_NAME environment variable to enable code saving.\n"
     ]
    },
    {
     "name": "stdout",
     "output_type": "stream",
     "text": [
      "Create sweep with ID: xrxgo72j\n",
      "Sweep URL: https://wandb.ai/zamtol/uncategorized/sweeps/xrxgo72j\n"
     ]
    },
    {
     "name": "stderr",
     "output_type": "stream",
     "text": [
      "\u001b[34m\u001b[1mwandb\u001b[0m: Agent Starting Run: ajhrjy65 with config:\n",
      "\u001b[34m\u001b[1mwandb\u001b[0m: \tarchitecture: LogisticRegression\n",
      "\u001b[34m\u001b[1mwandb\u001b[0m: \tepochs: 200\n",
      "\u001b[34m\u001b[1mwandb\u001b[0m: \tlearning_rate: 0.5\n",
      "\u001b[34m\u001b[1mwandb\u001b[0m: \tseed: 42\n",
      "\u001b[34m\u001b[1mwandb\u001b[0m: \tweight_decay: 0.0005\n",
      "Failed to detect the name of this notebook, you can set it manually with the WANDB_NOTEBOOK_NAME environment variable to enable code saving.\n",
      "\u001b[34m\u001b[1mwandb\u001b[0m: Currently logged in as: \u001b[33mkkang15634\u001b[0m (\u001b[33mzamtol\u001b[0m). Use \u001b[1m`wandb login --relogin`\u001b[0m to force relogin\n"
     ]
    },
    {
     "data": {
      "text/html": [
       "Tracking run with wandb version 0.17.5"
      ],
      "text/plain": [
       "<IPython.core.display.HTML object>"
      ]
     },
     "metadata": {},
     "output_type": "display_data"
    },
    {
     "data": {
      "text/html": [
       "Run data is saved locally in <code>c:\\Users\\ZAMTOL\\git\\hack\\wandb\\run-20240804_143750-ajhrjy65</code>"
      ],
      "text/plain": [
       "<IPython.core.display.HTML object>"
      ]
     },
     "metadata": {},
     "output_type": "display_data"
    },
    {
     "data": {
      "text/html": [
       "Syncing run <strong><a href='https://wandb.ai/zamtol/uncategorized/runs/ajhrjy65' target=\"_blank\">silver-sweep-1</a></strong> to <a href='https://wandb.ai/zamtol/uncategorized' target=\"_blank\">Weights & Biases</a> (<a href='https://wandb.me/run' target=\"_blank\">docs</a>)<br/>Sweep page: <a href='https://wandb.ai/zamtol/uncategorized/sweeps/xrxgo72j' target=\"_blank\">https://wandb.ai/zamtol/uncategorized/sweeps/xrxgo72j</a>"
      ],
      "text/plain": [
       "<IPython.core.display.HTML object>"
      ]
     },
     "metadata": {},
     "output_type": "display_data"
    },
    {
     "data": {
      "text/html": [
       " View project at <a href='https://wandb.ai/zamtol/uncategorized' target=\"_blank\">https://wandb.ai/zamtol/uncategorized</a>"
      ],
      "text/plain": [
       "<IPython.core.display.HTML object>"
      ]
     },
     "metadata": {},
     "output_type": "display_data"
    },
    {
     "data": {
      "text/html": [
       " View sweep at <a href='https://wandb.ai/zamtol/uncategorized/sweeps/xrxgo72j' target=\"_blank\">https://wandb.ai/zamtol/uncategorized/sweeps/xrxgo72j</a>"
      ],
      "text/plain": [
       "<IPython.core.display.HTML object>"
      ]
     },
     "metadata": {},
     "output_type": "display_data"
    },
    {
     "data": {
      "text/html": [
       " View run at <a href='https://wandb.ai/zamtol/uncategorized/runs/ajhrjy65' target=\"_blank\">https://wandb.ai/zamtol/uncategorized/runs/ajhrjy65</a>"
      ],
      "text/plain": [
       "<IPython.core.display.HTML object>"
      ]
     },
     "metadata": {},
     "output_type": "display_data"
    },
    {
     "name": "stdout",
     "output_type": "stream",
     "text": [
      "Epoch 1/200, Loss: 1.4158, Validation Accuracy: 0.5300, AUC: 0.5236\n",
      "Epoch 2/200, Loss: 9.9642, Validation Accuracy: 0.5300, AUC: 0.5181\n",
      "Epoch 3/200, Loss: 10.2530, Validation Accuracy: 0.5300, AUC: 0.7878\n",
      "Epoch 4/200, Loss: 6.6677, Validation Accuracy: 0.5417, AUC: 0.8567\n",
      "Epoch 5/200, Loss: 1.1462, Validation Accuracy: 0.4700, AUC: 0.4303\n",
      "Epoch 6/200, Loss: 7.2999, Validation Accuracy: 0.4700, AUC: 0.4145\n",
      "Epoch 7/200, Loss: 9.6468, Validation Accuracy: 0.4700, AUC: 0.4911\n",
      "Epoch 8/200, Loss: 7.5726, Validation Accuracy: 0.4733, AUC: 0.7031\n",
      "Epoch 9/200, Loss: 2.5389, Validation Accuracy: 0.5450, AUC: 0.8776\n",
      "Epoch 10/200, Loss: 2.1191, Validation Accuracy: 0.5300, AUC: 0.8798\n",
      "Epoch 11/200, Loss: 4.8489, Validation Accuracy: 0.5300, AUC: 0.8441\n",
      "Epoch 12/200, Loss: 5.8863, Validation Accuracy: 0.5300, AUC: 0.8623\n",
      "Epoch 13/200, Loss: 5.4835, Validation Accuracy: 0.5367, AUC: 0.8828\n",
      "Epoch 14/200, Loss: 3.8681, Validation Accuracy: 0.5900, AUC: 0.8690\n",
      "Epoch 15/200, Loss: 1.4223, Validation Accuracy: 0.6683, AUC: 0.8117\n",
      "Epoch 16/200, Loss: 1.1194, Validation Accuracy: 0.4983, AUC: 0.7648\n",
      "Epoch 17/200, Loss: 3.2720, Validation Accuracy: 0.4983, AUC: 0.7698\n",
      "Epoch 18/200, Loss: 3.3595, Validation Accuracy: 0.6200, AUC: 0.8118\n",
      "Epoch 19/200, Loss: 1.6128, Validation Accuracy: 0.7633, AUC: 0.8569\n",
      "Epoch 20/200, Loss: 0.6418, Validation Accuracy: 0.6083, AUC: 0.8767\n",
      "Epoch 21/200, Loss: 1.6203, Validation Accuracy: 0.5783, AUC: 0.8824\n",
      "Epoch 22/200, Loss: 2.3331, Validation Accuracy: 0.5833, AUC: 0.8829\n",
      "Epoch 23/200, Loss: 2.1789, Validation Accuracy: 0.6467, AUC: 0.8783\n",
      "Epoch 24/200, Loss: 1.3563, Validation Accuracy: 0.7800, AUC: 0.8665\n",
      "Epoch 25/200, Loss: 0.6518, Validation Accuracy: 0.7250, AUC: 0.8488\n",
      "Epoch 26/200, Loss: 1.0416, Validation Accuracy: 0.6383, AUC: 0.8396\n",
      "Epoch 27/200, Loss: 1.6697, Validation Accuracy: 0.6750, AUC: 0.8473\n",
      "Epoch 28/200, Loss: 1.4060, Validation Accuracy: 0.7700, AUC: 0.8651\n",
      "Epoch 29/200, Loss: 0.7430, Validation Accuracy: 0.7800, AUC: 0.8802\n",
      "Epoch 30/200, Loss: 0.7018, Validation Accuracy: 0.7017, AUC: 0.8881\n",
      "Epoch 31/200, Loss: 1.0930, Validation Accuracy: 0.6833, AUC: 0.8911\n",
      "Epoch 32/200, Loss: 1.2561, Validation Accuracy: 0.7200, AUC: 0.8908\n",
      "Epoch 33/200, Loss: 1.0107, Validation Accuracy: 0.8000, AUC: 0.8863\n",
      "Epoch 34/200, Loss: 0.6616, Validation Accuracy: 0.7950, AUC: 0.8803\n",
      "Epoch 35/200, Loss: 0.6511, Validation Accuracy: 0.7550, AUC: 0.8754\n",
      "Epoch 36/200, Loss: 0.9233, Validation Accuracy: 0.7500, AUC: 0.8761\n",
      "Epoch 37/200, Loss: 0.9539, Validation Accuracy: 0.7900, AUC: 0.8827\n",
      "Epoch 38/200, Loss: 0.6910, Validation Accuracy: 0.8133, AUC: 0.8904\n",
      "Epoch 39/200, Loss: 0.5748, Validation Accuracy: 0.7783, AUC: 0.8951\n",
      "Epoch 40/200, Loss: 0.7064, Validation Accuracy: 0.7517, AUC: 0.8971\n",
      "Epoch 41/200, Loss: 0.8147, Validation Accuracy: 0.7717, AUC: 0.8967\n",
      "Epoch 42/200, Loss: 0.7295, Validation Accuracy: 0.8100, AUC: 0.8945\n",
      "Epoch 43/200, Loss: 0.5732, Validation Accuracy: 0.8117, AUC: 0.8911\n",
      "Epoch 44/200, Loss: 0.5637, Validation Accuracy: 0.7983, AUC: 0.8884\n",
      "Epoch 45/200, Loss: 0.6773, Validation Accuracy: 0.8017, AUC: 0.8887\n",
      "Epoch 46/200, Loss: 0.6762, Validation Accuracy: 0.8117, AUC: 0.8922\n",
      "Epoch 47/200, Loss: 0.5562, Validation Accuracy: 0.8217, AUC: 0.8962\n",
      "Epoch 48/200, Loss: 0.5251, Validation Accuracy: 0.7933, AUC: 0.8984\n",
      "Epoch 49/200, Loss: 0.5955, Validation Accuracy: 0.7933, AUC: 0.8986\n",
      "Epoch 50/200, Loss: 0.6147, Validation Accuracy: 0.8083, AUC: 0.8977\n",
      "Epoch 51/200, Loss: 0.5422, Validation Accuracy: 0.8267, AUC: 0.8959\n",
      "Epoch 52/200, Loss: 0.4951, Validation Accuracy: 0.8083, AUC: 0.8938\n",
      "Epoch 53/200, Loss: 0.5383, Validation Accuracy: 0.8133, AUC: 0.8933\n",
      "Epoch 54/200, Loss: 0.5596, Validation Accuracy: 0.8150, AUC: 0.8949\n",
      "Epoch 55/200, Loss: 0.5023, Validation Accuracy: 0.8183, AUC: 0.8967\n",
      "Epoch 56/200, Loss: 0.4751, Validation Accuracy: 0.8133, AUC: 0.8984\n",
      "Epoch 57/200, Loss: 0.5083, Validation Accuracy: 0.8117, AUC: 0.8987\n",
      "Epoch 58/200, Loss: 0.5121, Validation Accuracy: 0.8250, AUC: 0.8977\n",
      "Epoch 59/200, Loss: 0.4688, Validation Accuracy: 0.8300, AUC: 0.8962\n",
      "Epoch 60/200, Loss: 0.4555, Validation Accuracy: 0.8133, AUC: 0.8953\n",
      "Epoch 61/200, Loss: 0.4806, Validation Accuracy: 0.8133, AUC: 0.8960\n",
      "Epoch 62/200, Loss: 0.4684, Validation Accuracy: 0.8250, AUC: 0.8976\n",
      "Epoch 63/200, Loss: 0.4366, Validation Accuracy: 0.8250, AUC: 0.8991\n",
      "Epoch 64/200, Loss: 0.4436, Validation Accuracy: 0.8200, AUC: 0.8996\n",
      "Epoch 65/200, Loss: 0.4534, Validation Accuracy: 0.8233, AUC: 0.8996\n",
      "Epoch 66/200, Loss: 0.4309, Validation Accuracy: 0.8233, AUC: 0.8986\n",
      "Epoch 67/200, Loss: 0.4180, Validation Accuracy: 0.8150, AUC: 0.8975\n",
      "Epoch 68/200, Loss: 0.4302, Validation Accuracy: 0.8183, AUC: 0.8979\n",
      "Epoch 69/200, Loss: 0.4222, Validation Accuracy: 0.8283, AUC: 0.8991\n",
      "Epoch 70/200, Loss: 0.4047, Validation Accuracy: 0.8233, AUC: 0.9000\n",
      "Epoch 71/200, Loss: 0.4104, Validation Accuracy: 0.8200, AUC: 0.9004\n",
      "Epoch 72/200, Loss: 0.4112, Validation Accuracy: 0.8283, AUC: 0.8994\n",
      "Epoch 73/200, Loss: 0.3962, Validation Accuracy: 0.8217, AUC: 0.8984\n",
      "Epoch 74/200, Loss: 0.3957, Validation Accuracy: 0.8167, AUC: 0.8980\n",
      "Epoch 75/200, Loss: 0.3997, Validation Accuracy: 0.8217, AUC: 0.8988\n",
      "Epoch 76/200, Loss: 0.3888, Validation Accuracy: 0.8267, AUC: 0.8997\n",
      "Epoch 77/200, Loss: 0.3862, Validation Accuracy: 0.8250, AUC: 0.9000\n",
      "Epoch 78/200, Loss: 0.3901, Validation Accuracy: 0.8300, AUC: 0.8996\n",
      "Epoch 79/200, Loss: 0.3824, Validation Accuracy: 0.8250, AUC: 0.8987\n",
      "Epoch 80/200, Loss: 0.3792, Validation Accuracy: 0.8217, AUC: 0.8981\n",
      "Epoch 81/200, Loss: 0.3824, Validation Accuracy: 0.8217, AUC: 0.8982\n",
      "Epoch 82/200, Loss: 0.3765, Validation Accuracy: 0.8250, AUC: 0.8990\n",
      "Epoch 83/200, Loss: 0.3743, Validation Accuracy: 0.8150, AUC: 0.8994\n",
      "Epoch 84/200, Loss: 0.3765, Validation Accuracy: 0.8250, AUC: 0.8989\n",
      "Epoch 85/200, Loss: 0.3716, Validation Accuracy: 0.8267, AUC: 0.8984\n",
      "Epoch 86/200, Loss: 0.3704, Validation Accuracy: 0.8200, AUC: 0.8985\n",
      "Epoch 87/200, Loss: 0.3716, Validation Accuracy: 0.8233, AUC: 0.8988\n",
      "Epoch 88/200, Loss: 0.3674, Validation Accuracy: 0.8183, AUC: 0.8995\n",
      "Epoch 89/200, Loss: 0.3676, Validation Accuracy: 0.8150, AUC: 0.8998\n",
      "Epoch 90/200, Loss: 0.3675, Validation Accuracy: 0.8217, AUC: 0.8996\n",
      "Epoch 91/200, Loss: 0.3644, Validation Accuracy: 0.8250, AUC: 0.8992\n",
      "Epoch 92/200, Loss: 0.3652, Validation Accuracy: 0.8250, AUC: 0.8995\n",
      "Epoch 93/200, Loss: 0.3641, Validation Accuracy: 0.8183, AUC: 0.9002\n",
      "Epoch 94/200, Loss: 0.3623, Validation Accuracy: 0.8133, AUC: 0.9007\n",
      "Epoch 95/200, Loss: 0.3632, Validation Accuracy: 0.8200, AUC: 0.9009\n",
      "Epoch 96/200, Loss: 0.3614, Validation Accuracy: 0.8300, AUC: 0.9006\n",
      "Epoch 97/200, Loss: 0.3611, Validation Accuracy: 0.8283, AUC: 0.9009\n",
      "Epoch 98/200, Loss: 0.3612, Validation Accuracy: 0.8217, AUC: 0.9014\n",
      "Epoch 99/200, Loss: 0.3596, Validation Accuracy: 0.8133, AUC: 0.9019\n",
      "Epoch 100/200, Loss: 0.3601, Validation Accuracy: 0.8167, AUC: 0.9023\n",
      "Epoch 101/200, Loss: 0.3593, Validation Accuracy: 0.8250, AUC: 0.9022\n",
      "Epoch 102/200, Loss: 0.3587, Validation Accuracy: 0.8283, AUC: 0.9025\n",
      "Epoch 103/200, Loss: 0.3590, Validation Accuracy: 0.8233, AUC: 0.9031\n",
      "Epoch 104/200, Loss: 0.3580, Validation Accuracy: 0.8183, AUC: 0.9036\n",
      "Epoch 105/200, Loss: 0.3582, Validation Accuracy: 0.8233, AUC: 0.9039\n",
      "Epoch 106/200, Loss: 0.3577, Validation Accuracy: 0.8233, AUC: 0.9041\n",
      "Epoch 107/200, Loss: 0.3574, Validation Accuracy: 0.8217, AUC: 0.9043\n",
      "Epoch 108/200, Loss: 0.3575, Validation Accuracy: 0.8200, AUC: 0.9048\n",
      "Epoch 109/200, Loss: 0.3569, Validation Accuracy: 0.8233, AUC: 0.9053\n",
      "Epoch 110/200, Loss: 0.3571, Validation Accuracy: 0.8233, AUC: 0.9056\n",
      "Epoch 111/200, Loss: 0.3567, Validation Accuracy: 0.8267, AUC: 0.9058\n",
      "Epoch 112/200, Loss: 0.3566, Validation Accuracy: 0.8267, AUC: 0.9060\n",
      "Epoch 113/200, Loss: 0.3566, Validation Accuracy: 0.8217, AUC: 0.9062\n",
      "Epoch 114/200, Loss: 0.3563, Validation Accuracy: 0.8217, AUC: 0.9065\n",
      "Epoch 115/200, Loss: 0.3564, Validation Accuracy: 0.8233, AUC: 0.9066\n",
      "Epoch 116/200, Loss: 0.3561, Validation Accuracy: 0.8267, AUC: 0.9068\n",
      "Epoch 117/200, Loss: 0.3561, Validation Accuracy: 0.8267, AUC: 0.9070\n",
      "Epoch 118/200, Loss: 0.3560, Validation Accuracy: 0.8233, AUC: 0.9074\n",
      "Epoch 119/200, Loss: 0.3559, Validation Accuracy: 0.8250, AUC: 0.9076\n",
      "Epoch 120/200, Loss: 0.3559, Validation Accuracy: 0.8250, AUC: 0.9077\n",
      "Epoch 121/200, Loss: 0.3557, Validation Accuracy: 0.8250, AUC: 0.9077\n",
      "Epoch 122/200, Loss: 0.3558, Validation Accuracy: 0.8250, AUC: 0.9078\n",
      "Epoch 123/200, Loss: 0.3556, Validation Accuracy: 0.8250, AUC: 0.9081\n",
      "Epoch 124/200, Loss: 0.3556, Validation Accuracy: 0.8267, AUC: 0.9083\n",
      "Epoch 125/200, Loss: 0.3555, Validation Accuracy: 0.8250, AUC: 0.9082\n",
      "Epoch 126/200, Loss: 0.3554, Validation Accuracy: 0.8283, AUC: 0.9082\n",
      "Epoch 127/200, Loss: 0.3554, Validation Accuracy: 0.8250, AUC: 0.9084\n",
      "Epoch 128/200, Loss: 0.3553, Validation Accuracy: 0.8233, AUC: 0.9086\n",
      "Epoch 129/200, Loss: 0.3554, Validation Accuracy: 0.8233, AUC: 0.9086\n",
      "Epoch 130/200, Loss: 0.3553, Validation Accuracy: 0.8267, AUC: 0.9087\n",
      "Epoch 131/200, Loss: 0.3553, Validation Accuracy: 0.8283, AUC: 0.9088\n",
      "Epoch 132/200, Loss: 0.3552, Validation Accuracy: 0.8233, AUC: 0.9088\n",
      "Epoch 133/200, Loss: 0.3552, Validation Accuracy: 0.8233, AUC: 0.9089\n",
      "Epoch 134/200, Loss: 0.3551, Validation Accuracy: 0.8267, AUC: 0.9087\n",
      "Epoch 135/200, Loss: 0.3551, Validation Accuracy: 0.8283, AUC: 0.9087\n",
      "Epoch 136/200, Loss: 0.3551, Validation Accuracy: 0.8233, AUC: 0.9088\n",
      "Epoch 137/200, Loss: 0.3550, Validation Accuracy: 0.8233, AUC: 0.9088\n",
      "Epoch 138/200, Loss: 0.3550, Validation Accuracy: 0.8233, AUC: 0.9087\n",
      "Epoch 139/200, Loss: 0.3550, Validation Accuracy: 0.8283, AUC: 0.9086\n",
      "Epoch 140/200, Loss: 0.3550, Validation Accuracy: 0.8250, AUC: 0.9087\n",
      "Epoch 141/200, Loss: 0.3550, Validation Accuracy: 0.8233, AUC: 0.9086\n",
      "Epoch 142/200, Loss: 0.3549, Validation Accuracy: 0.8233, AUC: 0.9086\n",
      "Epoch 143/200, Loss: 0.3549, Validation Accuracy: 0.8233, AUC: 0.9085\n",
      "Epoch 144/200, Loss: 0.3549, Validation Accuracy: 0.8250, AUC: 0.9085\n",
      "Epoch 145/200, Loss: 0.3549, Validation Accuracy: 0.8233, AUC: 0.9086\n",
      "Epoch 146/200, Loss: 0.3549, Validation Accuracy: 0.8233, AUC: 0.9087\n",
      "Epoch 147/200, Loss: 0.3548, Validation Accuracy: 0.8233, AUC: 0.9086\n",
      "Epoch 148/200, Loss: 0.3548, Validation Accuracy: 0.8250, AUC: 0.9085\n",
      "Epoch 149/200, Loss: 0.3548, Validation Accuracy: 0.8233, AUC: 0.9086\n",
      "Epoch 150/200, Loss: 0.3548, Validation Accuracy: 0.8217, AUC: 0.9086\n",
      "Epoch 151/200, Loss: 0.3548, Validation Accuracy: 0.8233, AUC: 0.9086\n",
      "Epoch 152/200, Loss: 0.3548, Validation Accuracy: 0.8217, AUC: 0.9086\n",
      "Epoch 153/200, Loss: 0.3547, Validation Accuracy: 0.8217, AUC: 0.9087\n",
      "Epoch 154/200, Loss: 0.3547, Validation Accuracy: 0.8217, AUC: 0.9087\n",
      "Epoch 155/200, Loss: 0.3547, Validation Accuracy: 0.8217, AUC: 0.9087\n",
      "Epoch 156/200, Loss: 0.3547, Validation Accuracy: 0.8200, AUC: 0.9087\n",
      "Epoch 157/200, Loss: 0.3547, Validation Accuracy: 0.8200, AUC: 0.9087\n",
      "Epoch 158/200, Loss: 0.3547, Validation Accuracy: 0.8217, AUC: 0.9087\n",
      "Epoch 159/200, Loss: 0.3546, Validation Accuracy: 0.8217, AUC: 0.9087\n",
      "Epoch 160/200, Loss: 0.3546, Validation Accuracy: 0.8200, AUC: 0.9088\n",
      "Epoch 161/200, Loss: 0.3546, Validation Accuracy: 0.8200, AUC: 0.9087\n",
      "Epoch 162/200, Loss: 0.3546, Validation Accuracy: 0.8200, AUC: 0.9087\n",
      "Epoch 163/200, Loss: 0.3546, Validation Accuracy: 0.8200, AUC: 0.9087\n",
      "Epoch 164/200, Loss: 0.3546, Validation Accuracy: 0.8200, AUC: 0.9087\n",
      "Epoch 165/200, Loss: 0.3546, Validation Accuracy: 0.8200, AUC: 0.9088\n",
      "Epoch 166/200, Loss: 0.3545, Validation Accuracy: 0.8200, AUC: 0.9087\n",
      "Epoch 167/200, Loss: 0.3545, Validation Accuracy: 0.8200, AUC: 0.9088\n",
      "Epoch 168/200, Loss: 0.3545, Validation Accuracy: 0.8200, AUC: 0.9087\n",
      "Epoch 169/200, Loss: 0.3545, Validation Accuracy: 0.8200, AUC: 0.9087\n",
      "Epoch 170/200, Loss: 0.3545, Validation Accuracy: 0.8200, AUC: 0.9087\n",
      "Epoch 171/200, Loss: 0.3545, Validation Accuracy: 0.8200, AUC: 0.9087\n",
      "Epoch 172/200, Loss: 0.3545, Validation Accuracy: 0.8200, AUC: 0.9087\n",
      "Epoch 173/200, Loss: 0.3544, Validation Accuracy: 0.8200, AUC: 0.9087\n",
      "Epoch 174/200, Loss: 0.3544, Validation Accuracy: 0.8200, AUC: 0.9087\n",
      "Epoch 175/200, Loss: 0.3544, Validation Accuracy: 0.8200, AUC: 0.9088\n",
      "Epoch 176/200, Loss: 0.3544, Validation Accuracy: 0.8200, AUC: 0.9088\n",
      "Epoch 177/200, Loss: 0.3544, Validation Accuracy: 0.8217, AUC: 0.9087\n",
      "Epoch 178/200, Loss: 0.3544, Validation Accuracy: 0.8200, AUC: 0.9087\n",
      "Epoch 179/200, Loss: 0.3544, Validation Accuracy: 0.8200, AUC: 0.9088\n",
      "Epoch 180/200, Loss: 0.3543, Validation Accuracy: 0.8217, AUC: 0.9088\n",
      "Epoch 181/200, Loss: 0.3543, Validation Accuracy: 0.8217, AUC: 0.9088\n",
      "Epoch 182/200, Loss: 0.3543, Validation Accuracy: 0.8217, AUC: 0.9088\n",
      "Epoch 183/200, Loss: 0.3543, Validation Accuracy: 0.8217, AUC: 0.9088\n",
      "Epoch 184/200, Loss: 0.3543, Validation Accuracy: 0.8217, AUC: 0.9088\n",
      "Epoch 185/200, Loss: 0.3543, Validation Accuracy: 0.8217, AUC: 0.9088\n",
      "Epoch 186/200, Loss: 0.3543, Validation Accuracy: 0.8217, AUC: 0.9089\n",
      "Epoch 187/200, Loss: 0.3542, Validation Accuracy: 0.8217, AUC: 0.9089\n",
      "Epoch 188/200, Loss: 0.3542, Validation Accuracy: 0.8217, AUC: 0.9089\n",
      "Epoch 189/200, Loss: 0.3542, Validation Accuracy: 0.8217, AUC: 0.9089\n",
      "Epoch 190/200, Loss: 0.3542, Validation Accuracy: 0.8217, AUC: 0.9089\n",
      "Epoch 191/200, Loss: 0.3542, Validation Accuracy: 0.8217, AUC: 0.9089\n",
      "Epoch 192/200, Loss: 0.3542, Validation Accuracy: 0.8217, AUC: 0.9089\n",
      "Epoch 193/200, Loss: 0.3542, Validation Accuracy: 0.8217, AUC: 0.9090\n",
      "Epoch 194/200, Loss: 0.3541, Validation Accuracy: 0.8217, AUC: 0.9089\n",
      "Epoch 195/200, Loss: 0.3541, Validation Accuracy: 0.8217, AUC: 0.9090\n",
      "Epoch 196/200, Loss: 0.3541, Validation Accuracy: 0.8217, AUC: 0.9090\n",
      "Epoch 197/200, Loss: 0.3541, Validation Accuracy: 0.8217, AUC: 0.9090\n",
      "Epoch 198/200, Loss: 0.3541, Validation Accuracy: 0.8217, AUC: 0.9090\n",
      "Epoch 199/200, Loss: 0.3541, Validation Accuracy: 0.8217, AUC: 0.9090\n",
      "Epoch 200/200, Loss: 0.3541, Validation Accuracy: 0.8217, AUC: 0.9090\n"
     ]
    },
    {
     "data": {
      "text/html": [
       "<style>\n",
       "    table.wandb td:nth-child(1) { padding: 0 10px; text-align: left ; width: auto;} td:nth-child(2) {text-align: left ; width: 100%}\n",
       "    .wandb-row { display: flex; flex-direction: row; flex-wrap: wrap; justify-content: flex-start; width: 100% }\n",
       "    .wandb-col { display: flex; flex-direction: column; flex-basis: 100%; flex: 1; padding: 10px; }\n",
       "    </style>\n",
       "<div class=\"wandb-row\"><div class=\"wandb-col\"><h3>Run history:</h3><br/><table class=\"wandb\"><tr><td>Final Best Epoch</td><td>▁</td></tr><tr><td>Final Best Val Accuracy</td><td>▁</td></tr><tr><td>best_epoch</td><td>▁▁▂▃▃▄▄▅▅▅▇▇████████████████████████████</td></tr><tr><td>best_val_accuracy</td><td>▁▁▁▄▆▇▇▇████████████████████████████████</td></tr><tr><td>roc_auc</td><td>▂▁▇▆█▇██████████████████████████████████</td></tr><tr><td>train_loss</td><td>█▆▅▂▂▂▂▁▁▁▁▁▁▁▁▁▁▁▁▁▁▁▁▁▁▁▁▁▁▁▁▁▁▁▁▁▁▁▁▁</td></tr><tr><td>val_accuracy</td><td>▂▁▂▂▃▄▆▆████████████████████████████████</td></tr></table><br/></div><div class=\"wandb-col\"><h3>Run summary:</h3><br/><table class=\"wandb\"><tr><td>Final Best Epoch</td><td>59</td></tr><tr><td>Final Best Val Accuracy</td><td>0.83</td></tr><tr><td>best_epoch</td><td>59</td></tr><tr><td>best_val_accuracy</td><td>0.83</td></tr><tr><td>roc_auc</td><td>0.90898</td></tr><tr><td>train_loss</td><td>0.35407</td></tr><tr><td>val_accuracy</td><td>0.82167</td></tr></table><br/></div></div>"
      ],
      "text/plain": [
       "<IPython.core.display.HTML object>"
      ]
     },
     "metadata": {},
     "output_type": "display_data"
    },
    {
     "data": {
      "text/html": [
       " View run <strong style=\"color:#cdcd00\">silver-sweep-1</strong> at: <a href='https://wandb.ai/zamtol/uncategorized/runs/ajhrjy65' target=\"_blank\">https://wandb.ai/zamtol/uncategorized/runs/ajhrjy65</a><br/> View project at: <a href='https://wandb.ai/zamtol/uncategorized' target=\"_blank\">https://wandb.ai/zamtol/uncategorized</a><br/>Synced 5 W&B file(s), 200 media file(s), 0 artifact file(s) and 0 other file(s)"
      ],
      "text/plain": [
       "<IPython.core.display.HTML object>"
      ]
     },
     "metadata": {},
     "output_type": "display_data"
    },
    {
     "data": {
      "text/html": [
       "Find logs at: <code>.\\wandb\\run-20240804_143750-ajhrjy65\\logs</code>"
      ],
      "text/plain": [
       "<IPython.core.display.HTML object>"
      ]
     },
     "metadata": {},
     "output_type": "display_data"
    },
    {
     "data": {
      "text/html": [
       "The new W&B backend becomes opt-out in version 0.18.0; try it out with `wandb.require(\"core\")`! See https://wandb.me/wandb-core for more information."
      ],
      "text/plain": [
       "<IPython.core.display.HTML object>"
      ]
     },
     "metadata": {},
     "output_type": "display_data"
    },
    {
     "name": "stderr",
     "output_type": "stream",
     "text": [
      "\u001b[34m\u001b[1mwandb\u001b[0m: Agent Starting Run: l5b85luo with config:\n",
      "\u001b[34m\u001b[1mwandb\u001b[0m: \tarchitecture: LogisticRegression\n",
      "\u001b[34m\u001b[1mwandb\u001b[0m: \tepochs: 200\n",
      "\u001b[34m\u001b[1mwandb\u001b[0m: \tlearning_rate: 0.5\n",
      "\u001b[34m\u001b[1mwandb\u001b[0m: \tseed: 42\n",
      "\u001b[34m\u001b[1mwandb\u001b[0m: \tweight_decay: 0.0001\n",
      "Failed to detect the name of this notebook, you can set it manually with the WANDB_NOTEBOOK_NAME environment variable to enable code saving.\n"
     ]
    },
    {
     "data": {
      "text/html": [
       "Tracking run with wandb version 0.17.5"
      ],
      "text/plain": [
       "<IPython.core.display.HTML object>"
      ]
     },
     "metadata": {},
     "output_type": "display_data"
    },
    {
     "data": {
      "text/html": [
       "Run data is saved locally in <code>c:\\Users\\ZAMTOL\\git\\hack\\wandb\\run-20240804_143817-l5b85luo</code>"
      ],
      "text/plain": [
       "<IPython.core.display.HTML object>"
      ]
     },
     "metadata": {},
     "output_type": "display_data"
    },
    {
     "data": {
      "text/html": [
       "Syncing run <strong><a href='https://wandb.ai/zamtol/uncategorized/runs/l5b85luo' target=\"_blank\">crimson-sweep-2</a></strong> to <a href='https://wandb.ai/zamtol/uncategorized' target=\"_blank\">Weights & Biases</a> (<a href='https://wandb.me/run' target=\"_blank\">docs</a>)<br/>Sweep page: <a href='https://wandb.ai/zamtol/uncategorized/sweeps/xrxgo72j' target=\"_blank\">https://wandb.ai/zamtol/uncategorized/sweeps/xrxgo72j</a>"
      ],
      "text/plain": [
       "<IPython.core.display.HTML object>"
      ]
     },
     "metadata": {},
     "output_type": "display_data"
    },
    {
     "data": {
      "text/html": [
       " View project at <a href='https://wandb.ai/zamtol/uncategorized' target=\"_blank\">https://wandb.ai/zamtol/uncategorized</a>"
      ],
      "text/plain": [
       "<IPython.core.display.HTML object>"
      ]
     },
     "metadata": {},
     "output_type": "display_data"
    },
    {
     "data": {
      "text/html": [
       " View sweep at <a href='https://wandb.ai/zamtol/uncategorized/sweeps/xrxgo72j' target=\"_blank\">https://wandb.ai/zamtol/uncategorized/sweeps/xrxgo72j</a>"
      ],
      "text/plain": [
       "<IPython.core.display.HTML object>"
      ]
     },
     "metadata": {},
     "output_type": "display_data"
    },
    {
     "data": {
      "text/html": [
       " View run at <a href='https://wandb.ai/zamtol/uncategorized/runs/l5b85luo' target=\"_blank\">https://wandb.ai/zamtol/uncategorized/runs/l5b85luo</a>"
      ],
      "text/plain": [
       "<IPython.core.display.HTML object>"
      ]
     },
     "metadata": {},
     "output_type": "display_data"
    },
    {
     "name": "stdout",
     "output_type": "stream",
     "text": [
      "Epoch 1/200, Loss: 0.7146, Validation Accuracy: 0.5300, AUC: 0.5126\n",
      "Epoch 2/200, Loss: 10.7189, Validation Accuracy: 0.5300, AUC: 0.7788\n",
      "Epoch 3/200, Loss: 6.3561, Validation Accuracy: 0.4950, AUC: 0.6993\n",
      "Epoch 4/200, Loss: 0.9437, Validation Accuracy: 0.4700, AUC: 0.5905\n",
      "Epoch 5/200, Loss: 2.7257, Validation Accuracy: 0.6083, AUC: 0.8587\n",
      "Epoch 6/200, Loss: 0.6548, Validation Accuracy: 0.5417, AUC: 0.8749\n",
      "Epoch 7/200, Loss: 1.3972, Validation Accuracy: 0.6783, AUC: 0.8665\n",
      "Epoch 8/200, Loss: 0.5685, Validation Accuracy: 0.5167, AUC: 0.8082\n",
      "Epoch 9/200, Loss: 1.3046, Validation Accuracy: 0.6933, AUC: 0.8452\n",
      "Epoch 10/200, Loss: 0.6540, Validation Accuracy: 0.6200, AUC: 0.8818\n",
      "Epoch 11/200, Loss: 0.8142, Validation Accuracy: 0.5967, AUC: 0.8859\n",
      "Epoch 12/200, Loss: 1.0487, Validation Accuracy: 0.7517, AUC: 0.8800\n",
      "Epoch 13/200, Loss: 0.5121, Validation Accuracy: 0.6850, AUC: 0.8593\n",
      "Epoch 14/200, Loss: 0.7592, Validation Accuracy: 0.6833, AUC: 0.8629\n",
      "Epoch 15/200, Loss: 0.7782, Validation Accuracy: 0.8067, AUC: 0.8836\n",
      "Epoch 16/200, Loss: 0.4466, Validation Accuracy: 0.7050, AUC: 0.8925\n",
      "Epoch 17/200, Loss: 0.7214, Validation Accuracy: 0.7217, AUC: 0.8931\n",
      "Epoch 18/200, Loss: 0.6660, Validation Accuracy: 0.8167, AUC: 0.8878\n",
      "Epoch 19/200, Loss: 0.4369, Validation Accuracy: 0.7517, AUC: 0.8797\n",
      "Epoch 20/200, Loss: 0.6286, Validation Accuracy: 0.7683, AUC: 0.8824\n",
      "Epoch 21/200, Loss: 0.5823, Validation Accuracy: 0.8150, AUC: 0.8915\n",
      "Epoch 22/200, Loss: 0.4354, Validation Accuracy: 0.7533, AUC: 0.8966\n",
      "Epoch 23/200, Loss: 0.5737, Validation Accuracy: 0.7617, AUC: 0.8969\n",
      "Epoch 24/200, Loss: 0.5506, Validation Accuracy: 0.8250, AUC: 0.8932\n",
      "Epoch 25/200, Loss: 0.4280, Validation Accuracy: 0.7883, AUC: 0.8889\n",
      "Epoch 26/200, Loss: 0.5218, Validation Accuracy: 0.7900, AUC: 0.8895\n",
      "Epoch 27/200, Loss: 0.5112, Validation Accuracy: 0.8217, AUC: 0.8951\n",
      "Epoch 28/200, Loss: 0.4220, Validation Accuracy: 0.7900, AUC: 0.8977\n",
      "Epoch 29/200, Loss: 0.4947, Validation Accuracy: 0.7933, AUC: 0.8980\n",
      "Epoch 30/200, Loss: 0.4839, Validation Accuracy: 0.8200, AUC: 0.8958\n",
      "Epoch 31/200, Loss: 0.4145, Validation Accuracy: 0.8100, AUC: 0.8925\n",
      "Epoch 32/200, Loss: 0.4699, Validation Accuracy: 0.8117, AUC: 0.8934\n",
      "Epoch 33/200, Loss: 0.4516, Validation Accuracy: 0.8233, AUC: 0.8972\n",
      "Epoch 34/200, Loss: 0.4081, Validation Accuracy: 0.8017, AUC: 0.8994\n",
      "Epoch 35/200, Loss: 0.4527, Validation Accuracy: 0.8100, AUC: 0.8991\n",
      "Epoch 36/200, Loss: 0.4257, Validation Accuracy: 0.8267, AUC: 0.8973\n",
      "Epoch 37/200, Loss: 0.4009, Validation Accuracy: 0.8217, AUC: 0.8957\n",
      "Epoch 38/200, Loss: 0.4353, Validation Accuracy: 0.8233, AUC: 0.8974\n",
      "Epoch 39/200, Loss: 0.3985, Validation Accuracy: 0.8133, AUC: 0.8999\n",
      "Epoch 40/200, Loss: 0.4009, Validation Accuracy: 0.8067, AUC: 0.9006\n",
      "Epoch 41/200, Loss: 0.4141, Validation Accuracy: 0.8283, AUC: 0.8997\n",
      "Epoch 42/200, Loss: 0.3826, Validation Accuracy: 0.8183, AUC: 0.8977\n",
      "Epoch 43/200, Loss: 0.3992, Validation Accuracy: 0.8183, AUC: 0.8983\n",
      "Epoch 44/200, Loss: 0.3909, Validation Accuracy: 0.8233, AUC: 0.8999\n",
      "Epoch 45/200, Loss: 0.3778, Validation Accuracy: 0.8000, AUC: 0.9008\n",
      "Epoch 46/200, Loss: 0.3929, Validation Accuracy: 0.8217, AUC: 0.9004\n",
      "Epoch 47/200, Loss: 0.3733, Validation Accuracy: 0.8217, AUC: 0.8985\n",
      "Epoch 48/200, Loss: 0.3807, Validation Accuracy: 0.8267, AUC: 0.8984\n",
      "Epoch 49/200, Loss: 0.3780, Validation Accuracy: 0.8200, AUC: 0.9001\n",
      "Epoch 50/200, Loss: 0.3692, Validation Accuracy: 0.8017, AUC: 0.9007\n",
      "Epoch 51/200, Loss: 0.3787, Validation Accuracy: 0.8167, AUC: 0.8996\n",
      "Epoch 52/200, Loss: 0.3656, Validation Accuracy: 0.8283, AUC: 0.8983\n",
      "Epoch 53/200, Loss: 0.3733, Validation Accuracy: 0.8233, AUC: 0.8987\n",
      "Epoch 54/200, Loss: 0.3669, Validation Accuracy: 0.8150, AUC: 0.8999\n",
      "Epoch 55/200, Loss: 0.3668, Validation Accuracy: 0.8167, AUC: 0.9003\n",
      "Epoch 56/200, Loss: 0.3684, Validation Accuracy: 0.8167, AUC: 0.8993\n",
      "Epoch 57/200, Loss: 0.3624, Validation Accuracy: 0.8217, AUC: 0.8990\n",
      "Epoch 58/200, Loss: 0.3678, Validation Accuracy: 0.8217, AUC: 0.9001\n",
      "Epoch 59/200, Loss: 0.3608, Validation Accuracy: 0.8117, AUC: 0.9012\n",
      "Epoch 60/200, Loss: 0.3657, Validation Accuracy: 0.8183, AUC: 0.9009\n",
      "Epoch 61/200, Loss: 0.3605, Validation Accuracy: 0.8183, AUC: 0.9004\n",
      "Epoch 62/200, Loss: 0.3635, Validation Accuracy: 0.8233, AUC: 0.9013\n",
      "Epoch 63/200, Loss: 0.3604, Validation Accuracy: 0.8133, AUC: 0.9024\n",
      "Epoch 64/200, Loss: 0.3615, Validation Accuracy: 0.8150, AUC: 0.9027\n",
      "Epoch 65/200, Loss: 0.3604, Validation Accuracy: 0.8217, AUC: 0.9022\n",
      "Epoch 66/200, Loss: 0.3600, Validation Accuracy: 0.8217, AUC: 0.9025\n",
      "Epoch 67/200, Loss: 0.3601, Validation Accuracy: 0.8167, AUC: 0.9037\n",
      "Epoch 68/200, Loss: 0.3590, Validation Accuracy: 0.8150, AUC: 0.9043\n",
      "Epoch 69/200, Loss: 0.3596, Validation Accuracy: 0.8233, AUC: 0.9039\n",
      "Epoch 70/200, Loss: 0.3582, Validation Accuracy: 0.8233, AUC: 0.9042\n",
      "Epoch 71/200, Loss: 0.3591, Validation Accuracy: 0.8250, AUC: 0.9054\n",
      "Epoch 72/200, Loss: 0.3577, Validation Accuracy: 0.8183, AUC: 0.9058\n",
      "Epoch 73/200, Loss: 0.3586, Validation Accuracy: 0.8283, AUC: 0.9057\n",
      "Epoch 74/200, Loss: 0.3573, Validation Accuracy: 0.8250, AUC: 0.9057\n",
      "Epoch 75/200, Loss: 0.3581, Validation Accuracy: 0.8250, AUC: 0.9066\n",
      "Epoch 76/200, Loss: 0.3570, Validation Accuracy: 0.8200, AUC: 0.9069\n",
      "Epoch 77/200, Loss: 0.3577, Validation Accuracy: 0.8300, AUC: 0.9068\n",
      "Epoch 78/200, Loss: 0.3568, Validation Accuracy: 0.8267, AUC: 0.9070\n",
      "Epoch 79/200, Loss: 0.3573, Validation Accuracy: 0.8283, AUC: 0.9073\n",
      "Epoch 80/200, Loss: 0.3566, Validation Accuracy: 0.8250, AUC: 0.9077\n",
      "Epoch 81/200, Loss: 0.3570, Validation Accuracy: 0.8283, AUC: 0.9075\n",
      "Epoch 82/200, Loss: 0.3565, Validation Accuracy: 0.8300, AUC: 0.9077\n",
      "Epoch 83/200, Loss: 0.3567, Validation Accuracy: 0.8300, AUC: 0.9083\n",
      "Epoch 84/200, Loss: 0.3563, Validation Accuracy: 0.8283, AUC: 0.9085\n",
      "Epoch 85/200, Loss: 0.3564, Validation Accuracy: 0.8283, AUC: 0.9083\n",
      "Epoch 86/200, Loss: 0.3562, Validation Accuracy: 0.8283, AUC: 0.9085\n",
      "Epoch 87/200, Loss: 0.3561, Validation Accuracy: 0.8283, AUC: 0.9087\n",
      "Epoch 88/200, Loss: 0.3560, Validation Accuracy: 0.8267, AUC: 0.9088\n",
      "Epoch 89/200, Loss: 0.3559, Validation Accuracy: 0.8283, AUC: 0.9086\n",
      "Epoch 90/200, Loss: 0.3559, Validation Accuracy: 0.8283, AUC: 0.9088\n",
      "Epoch 91/200, Loss: 0.3557, Validation Accuracy: 0.8283, AUC: 0.9088\n",
      "Epoch 92/200, Loss: 0.3558, Validation Accuracy: 0.8317, AUC: 0.9087\n",
      "Epoch 93/200, Loss: 0.3555, Validation Accuracy: 0.8283, AUC: 0.9086\n",
      "Epoch 94/200, Loss: 0.3557, Validation Accuracy: 0.8300, AUC: 0.9087\n",
      "Epoch 95/200, Loss: 0.3554, Validation Accuracy: 0.8317, AUC: 0.9088\n",
      "Epoch 96/200, Loss: 0.3555, Validation Accuracy: 0.8300, AUC: 0.9086\n",
      "Epoch 97/200, Loss: 0.3553, Validation Accuracy: 0.8300, AUC: 0.9085\n",
      "Epoch 98/200, Loss: 0.3554, Validation Accuracy: 0.8283, AUC: 0.9086\n",
      "Epoch 99/200, Loss: 0.3553, Validation Accuracy: 0.8267, AUC: 0.9085\n",
      "Epoch 100/200, Loss: 0.3553, Validation Accuracy: 0.8283, AUC: 0.9083\n",
      "Epoch 101/200, Loss: 0.3552, Validation Accuracy: 0.8283, AUC: 0.9083\n",
      "Epoch 102/200, Loss: 0.3551, Validation Accuracy: 0.8267, AUC: 0.9083\n",
      "Epoch 103/200, Loss: 0.3551, Validation Accuracy: 0.8283, AUC: 0.9083\n",
      "Epoch 104/200, Loss: 0.3550, Validation Accuracy: 0.8283, AUC: 0.9083\n",
      "Epoch 105/200, Loss: 0.3551, Validation Accuracy: 0.8283, AUC: 0.9083\n",
      "Epoch 106/200, Loss: 0.3549, Validation Accuracy: 0.8267, AUC: 0.9084\n",
      "Epoch 107/200, Loss: 0.3550, Validation Accuracy: 0.8267, AUC: 0.9081\n",
      "Epoch 108/200, Loss: 0.3549, Validation Accuracy: 0.8267, AUC: 0.9081\n",
      "Epoch 109/200, Loss: 0.3549, Validation Accuracy: 0.8283, AUC: 0.9084\n",
      "Epoch 110/200, Loss: 0.3548, Validation Accuracy: 0.8267, AUC: 0.9083\n",
      "Epoch 111/200, Loss: 0.3548, Validation Accuracy: 0.8250, AUC: 0.9082\n",
      "Epoch 112/200, Loss: 0.3548, Validation Accuracy: 0.8267, AUC: 0.9083\n",
      "Epoch 113/200, Loss: 0.3547, Validation Accuracy: 0.8250, AUC: 0.9083\n",
      "Epoch 114/200, Loss: 0.3547, Validation Accuracy: 0.8250, AUC: 0.9083\n",
      "Epoch 115/200, Loss: 0.3546, Validation Accuracy: 0.8250, AUC: 0.9084\n",
      "Epoch 116/200, Loss: 0.3546, Validation Accuracy: 0.8267, AUC: 0.9084\n",
      "Epoch 117/200, Loss: 0.3546, Validation Accuracy: 0.8267, AUC: 0.9084\n",
      "Epoch 118/200, Loss: 0.3545, Validation Accuracy: 0.8250, AUC: 0.9084\n",
      "Epoch 119/200, Loss: 0.3545, Validation Accuracy: 0.8250, AUC: 0.9084\n",
      "Epoch 120/200, Loss: 0.3545, Validation Accuracy: 0.8267, AUC: 0.9085\n",
      "Epoch 121/200, Loss: 0.3545, Validation Accuracy: 0.8250, AUC: 0.9084\n",
      "Epoch 122/200, Loss: 0.3544, Validation Accuracy: 0.8233, AUC: 0.9085\n",
      "Epoch 123/200, Loss: 0.3544, Validation Accuracy: 0.8250, AUC: 0.9086\n",
      "Epoch 124/200, Loss: 0.3544, Validation Accuracy: 0.8233, AUC: 0.9085\n",
      "Epoch 125/200, Loss: 0.3543, Validation Accuracy: 0.8233, AUC: 0.9086\n",
      "Epoch 126/200, Loss: 0.3543, Validation Accuracy: 0.8233, AUC: 0.9086\n",
      "Epoch 127/200, Loss: 0.3543, Validation Accuracy: 0.8233, AUC: 0.9086\n",
      "Epoch 128/200, Loss: 0.3542, Validation Accuracy: 0.8233, AUC: 0.9086\n",
      "Epoch 129/200, Loss: 0.3542, Validation Accuracy: 0.8233, AUC: 0.9086\n",
      "Epoch 130/200, Loss: 0.3542, Validation Accuracy: 0.8233, AUC: 0.9087\n",
      "Epoch 131/200, Loss: 0.3542, Validation Accuracy: 0.8233, AUC: 0.9087\n",
      "Epoch 132/200, Loss: 0.3541, Validation Accuracy: 0.8233, AUC: 0.9087\n",
      "Epoch 133/200, Loss: 0.3541, Validation Accuracy: 0.8233, AUC: 0.9088\n",
      "Epoch 134/200, Loss: 0.3541, Validation Accuracy: 0.8233, AUC: 0.9088\n",
      "Epoch 135/200, Loss: 0.3540, Validation Accuracy: 0.8233, AUC: 0.9088\n",
      "Epoch 136/200, Loss: 0.3540, Validation Accuracy: 0.8233, AUC: 0.9088\n",
      "Epoch 137/200, Loss: 0.3540, Validation Accuracy: 0.8233, AUC: 0.9088\n",
      "Epoch 138/200, Loss: 0.3540, Validation Accuracy: 0.8233, AUC: 0.9088\n",
      "Epoch 139/200, Loss: 0.3539, Validation Accuracy: 0.8233, AUC: 0.9088\n",
      "Epoch 140/200, Loss: 0.3539, Validation Accuracy: 0.8233, AUC: 0.9088\n",
      "Epoch 141/200, Loss: 0.3539, Validation Accuracy: 0.8233, AUC: 0.9088\n",
      "Epoch 142/200, Loss: 0.3538, Validation Accuracy: 0.8233, AUC: 0.9089\n",
      "Epoch 143/200, Loss: 0.3538, Validation Accuracy: 0.8233, AUC: 0.9090\n",
      "Epoch 144/200, Loss: 0.3538, Validation Accuracy: 0.8233, AUC: 0.9090\n",
      "Epoch 145/200, Loss: 0.3538, Validation Accuracy: 0.8233, AUC: 0.9090\n",
      "Epoch 146/200, Loss: 0.3537, Validation Accuracy: 0.8217, AUC: 0.9089\n",
      "Epoch 147/200, Loss: 0.3537, Validation Accuracy: 0.8233, AUC: 0.9089\n",
      "Epoch 148/200, Loss: 0.3537, Validation Accuracy: 0.8233, AUC: 0.9090\n",
      "Epoch 149/200, Loss: 0.3537, Validation Accuracy: 0.8217, AUC: 0.9090\n",
      "Epoch 150/200, Loss: 0.3536, Validation Accuracy: 0.8233, AUC: 0.9090\n",
      "Epoch 151/200, Loss: 0.3536, Validation Accuracy: 0.8233, AUC: 0.9090\n",
      "Epoch 152/200, Loss: 0.3536, Validation Accuracy: 0.8217, AUC: 0.9091\n",
      "Epoch 153/200, Loss: 0.3536, Validation Accuracy: 0.8233, AUC: 0.9091\n",
      "Epoch 154/200, Loss: 0.3535, Validation Accuracy: 0.8233, AUC: 0.9091\n",
      "Epoch 155/200, Loss: 0.3535, Validation Accuracy: 0.8217, AUC: 0.9091\n",
      "Epoch 156/200, Loss: 0.3535, Validation Accuracy: 0.8217, AUC: 0.9091\n",
      "Epoch 157/200, Loss: 0.3535, Validation Accuracy: 0.8233, AUC: 0.9091\n",
      "Epoch 158/200, Loss: 0.3535, Validation Accuracy: 0.8200, AUC: 0.9092\n",
      "Epoch 159/200, Loss: 0.3534, Validation Accuracy: 0.8217, AUC: 0.9092\n",
      "Epoch 160/200, Loss: 0.3534, Validation Accuracy: 0.8233, AUC: 0.9092\n",
      "Epoch 161/200, Loss: 0.3534, Validation Accuracy: 0.8217, AUC: 0.9092\n",
      "Epoch 162/200, Loss: 0.3534, Validation Accuracy: 0.8233, AUC: 0.9092\n",
      "Epoch 163/200, Loss: 0.3533, Validation Accuracy: 0.8233, AUC: 0.9092\n",
      "Epoch 164/200, Loss: 0.3533, Validation Accuracy: 0.8217, AUC: 0.9092\n",
      "Epoch 165/200, Loss: 0.3533, Validation Accuracy: 0.8233, AUC: 0.9092\n",
      "Epoch 166/200, Loss: 0.3533, Validation Accuracy: 0.8233, AUC: 0.9092\n",
      "Epoch 167/200, Loss: 0.3533, Validation Accuracy: 0.8233, AUC: 0.9092\n",
      "Epoch 168/200, Loss: 0.3532, Validation Accuracy: 0.8233, AUC: 0.9092\n",
      "Epoch 169/200, Loss: 0.3532, Validation Accuracy: 0.8233, AUC: 0.9093\n",
      "Epoch 170/200, Loss: 0.3532, Validation Accuracy: 0.8250, AUC: 0.9093\n",
      "Epoch 171/200, Loss: 0.3532, Validation Accuracy: 0.8233, AUC: 0.9093\n",
      "Epoch 172/200, Loss: 0.3531, Validation Accuracy: 0.8233, AUC: 0.9093\n",
      "Epoch 173/200, Loss: 0.3531, Validation Accuracy: 0.8267, AUC: 0.9093\n",
      "Epoch 174/200, Loss: 0.3531, Validation Accuracy: 0.8250, AUC: 0.9093\n",
      "Epoch 175/200, Loss: 0.3531, Validation Accuracy: 0.8250, AUC: 0.9093\n",
      "Epoch 176/200, Loss: 0.3531, Validation Accuracy: 0.8267, AUC: 0.9093\n",
      "Epoch 177/200, Loss: 0.3530, Validation Accuracy: 0.8250, AUC: 0.9092\n",
      "Epoch 178/200, Loss: 0.3530, Validation Accuracy: 0.8250, AUC: 0.9093\n",
      "Epoch 179/200, Loss: 0.3530, Validation Accuracy: 0.8267, AUC: 0.9093\n",
      "Epoch 180/200, Loss: 0.3530, Validation Accuracy: 0.8250, AUC: 0.9093\n",
      "Epoch 181/200, Loss: 0.3530, Validation Accuracy: 0.8250, AUC: 0.9093\n",
      "Epoch 182/200, Loss: 0.3529, Validation Accuracy: 0.8267, AUC: 0.9093\n",
      "Epoch 183/200, Loss: 0.3529, Validation Accuracy: 0.8250, AUC: 0.9094\n",
      "Epoch 184/200, Loss: 0.3529, Validation Accuracy: 0.8267, AUC: 0.9093\n",
      "Epoch 185/200, Loss: 0.3529, Validation Accuracy: 0.8267, AUC: 0.9094\n",
      "Epoch 186/200, Loss: 0.3529, Validation Accuracy: 0.8267, AUC: 0.9094\n",
      "Epoch 187/200, Loss: 0.3529, Validation Accuracy: 0.8283, AUC: 0.9094\n",
      "Epoch 188/200, Loss: 0.3528, Validation Accuracy: 0.8283, AUC: 0.9094\n",
      "Epoch 189/200, Loss: 0.3528, Validation Accuracy: 0.8267, AUC: 0.9094\n",
      "Epoch 190/200, Loss: 0.3528, Validation Accuracy: 0.8283, AUC: 0.9094\n",
      "Epoch 191/200, Loss: 0.3528, Validation Accuracy: 0.8283, AUC: 0.9094\n",
      "Epoch 192/200, Loss: 0.3528, Validation Accuracy: 0.8267, AUC: 0.9093\n",
      "Epoch 193/200, Loss: 0.3527, Validation Accuracy: 0.8283, AUC: 0.9094\n",
      "Epoch 194/200, Loss: 0.3527, Validation Accuracy: 0.8283, AUC: 0.9094\n",
      "Epoch 195/200, Loss: 0.3527, Validation Accuracy: 0.8283, AUC: 0.9094\n",
      "Epoch 196/200, Loss: 0.3527, Validation Accuracy: 0.8283, AUC: 0.9095\n",
      "Epoch 197/200, Loss: 0.3527, Validation Accuracy: 0.8283, AUC: 0.9095\n",
      "Epoch 198/200, Loss: 0.3527, Validation Accuracy: 0.8283, AUC: 0.9095\n",
      "Epoch 199/200, Loss: 0.3526, Validation Accuracy: 0.8283, AUC: 0.9095\n",
      "Epoch 200/200, Loss: 0.3526, Validation Accuracy: 0.8283, AUC: 0.9095\n"
     ]
    },
    {
     "data": {
      "text/html": [
       "<style>\n",
       "    table.wandb td:nth-child(1) { padding: 0 10px; text-align: left ; width: auto;} td:nth-child(2) {text-align: left ; width: 100%}\n",
       "    .wandb-row { display: flex; flex-direction: row; flex-wrap: wrap; justify-content: flex-start; width: 100% }\n",
       "    .wandb-col { display: flex; flex-direction: column; flex-basis: 100%; flex: 1; padding: 10px; }\n",
       "    </style>\n",
       "<div class=\"wandb-row\"><div class=\"wandb-col\"><h3>Run history:</h3><br/><table class=\"wandb\"><tr><td>Final Best Epoch</td><td>▁</td></tr><tr><td>Final Best Val Accuracy</td><td>▁</td></tr><tr><td>best_epoch</td><td>▁▁▂▂▂▃▃▄▄▄▄▄▄▄▄▇▇▇██████████████████████</td></tr><tr><td>best_val_accuracy</td><td>▁▃▆▇████████████████████████████████████</td></tr><tr><td>roc_auc</td><td>▁▆▆▇▇▇▇▇▇█▇▇████████████████████████████</td></tr><tr><td>train_loss</td><td>█▁▁▁▁▁▁▁▁▁▁▁▁▁▁▁▁▁▁▁▁▁▁▁▁▁▁▁▁▁▁▁▁▁▁▁▁▁▁▁</td></tr><tr><td>val_accuracy</td><td>▁▁▆▅▆▇██████████████████████████████████</td></tr></table><br/></div><div class=\"wandb-col\"><h3>Run summary:</h3><br/><table class=\"wandb\"><tr><td>Final Best Epoch</td><td>92</td></tr><tr><td>Final Best Val Accuracy</td><td>0.83167</td></tr><tr><td>best_epoch</td><td>92</td></tr><tr><td>best_val_accuracy</td><td>0.83167</td></tr><tr><td>roc_auc</td><td>0.90947</td></tr><tr><td>train_loss</td><td>0.35263</td></tr><tr><td>val_accuracy</td><td>0.82833</td></tr></table><br/></div></div>"
      ],
      "text/plain": [
       "<IPython.core.display.HTML object>"
      ]
     },
     "metadata": {},
     "output_type": "display_data"
    },
    {
     "data": {
      "text/html": [
       " View run <strong style=\"color:#cdcd00\">crimson-sweep-2</strong> at: <a href='https://wandb.ai/zamtol/uncategorized/runs/l5b85luo' target=\"_blank\">https://wandb.ai/zamtol/uncategorized/runs/l5b85luo</a><br/> View project at: <a href='https://wandb.ai/zamtol/uncategorized' target=\"_blank\">https://wandb.ai/zamtol/uncategorized</a><br/>Synced 5 W&B file(s), 200 media file(s), 0 artifact file(s) and 0 other file(s)"
      ],
      "text/plain": [
       "<IPython.core.display.HTML object>"
      ]
     },
     "metadata": {},
     "output_type": "display_data"
    },
    {
     "data": {
      "text/html": [
       "Find logs at: <code>.\\wandb\\run-20240804_143817-l5b85luo\\logs</code>"
      ],
      "text/plain": [
       "<IPython.core.display.HTML object>"
      ]
     },
     "metadata": {},
     "output_type": "display_data"
    },
    {
     "data": {
      "text/html": [
       "The new W&B backend becomes opt-out in version 0.18.0; try it out with `wandb.require(\"core\")`! See https://wandb.me/wandb-core for more information."
      ],
      "text/plain": [
       "<IPython.core.display.HTML object>"
      ]
     },
     "metadata": {},
     "output_type": "display_data"
    },
    {
     "name": "stderr",
     "output_type": "stream",
     "text": [
      "\u001b[34m\u001b[1mwandb\u001b[0m: Agent Starting Run: 54z1grm3 with config:\n",
      "\u001b[34m\u001b[1mwandb\u001b[0m: \tarchitecture: LogisticRegression\n",
      "\u001b[34m\u001b[1mwandb\u001b[0m: \tepochs: 200\n",
      "\u001b[34m\u001b[1mwandb\u001b[0m: \tlearning_rate: 0.1\n",
      "\u001b[34m\u001b[1mwandb\u001b[0m: \tseed: 42\n",
      "\u001b[34m\u001b[1mwandb\u001b[0m: \tweight_decay: 0.0005\n",
      "Failed to detect the name of this notebook, you can set it manually with the WANDB_NOTEBOOK_NAME environment variable to enable code saving.\n"
     ]
    },
    {
     "data": {
      "text/html": [
       "Tracking run with wandb version 0.17.5"
      ],
      "text/plain": [
       "<IPython.core.display.HTML object>"
      ]
     },
     "metadata": {},
     "output_type": "display_data"
    },
    {
     "data": {
      "text/html": [
       "Run data is saved locally in <code>c:\\Users\\ZAMTOL\\git\\hack\\wandb\\run-20240804_143842-54z1grm3</code>"
      ],
      "text/plain": [
       "<IPython.core.display.HTML object>"
      ]
     },
     "metadata": {},
     "output_type": "display_data"
    },
    {
     "data": {
      "text/html": [
       "Syncing run <strong><a href='https://wandb.ai/zamtol/uncategorized/runs/54z1grm3' target=\"_blank\">golden-sweep-3</a></strong> to <a href='https://wandb.ai/zamtol/uncategorized' target=\"_blank\">Weights & Biases</a> (<a href='https://wandb.me/run' target=\"_blank\">docs</a>)<br/>Sweep page: <a href='https://wandb.ai/zamtol/uncategorized/sweeps/xrxgo72j' target=\"_blank\">https://wandb.ai/zamtol/uncategorized/sweeps/xrxgo72j</a>"
      ],
      "text/plain": [
       "<IPython.core.display.HTML object>"
      ]
     },
     "metadata": {},
     "output_type": "display_data"
    },
    {
     "data": {
      "text/html": [
       " View project at <a href='https://wandb.ai/zamtol/uncategorized' target=\"_blank\">https://wandb.ai/zamtol/uncategorized</a>"
      ],
      "text/plain": [
       "<IPython.core.display.HTML object>"
      ]
     },
     "metadata": {},
     "output_type": "display_data"
    },
    {
     "data": {
      "text/html": [
       " View sweep at <a href='https://wandb.ai/zamtol/uncategorized/sweeps/xrxgo72j' target=\"_blank\">https://wandb.ai/zamtol/uncategorized/sweeps/xrxgo72j</a>"
      ],
      "text/plain": [
       "<IPython.core.display.HTML object>"
      ]
     },
     "metadata": {},
     "output_type": "display_data"
    },
    {
     "data": {
      "text/html": [
       " View run at <a href='https://wandb.ai/zamtol/uncategorized/runs/54z1grm3' target=\"_blank\">https://wandb.ai/zamtol/uncategorized/runs/54z1grm3</a>"
      ],
      "text/plain": [
       "<IPython.core.display.HTML object>"
      ]
     },
     "metadata": {},
     "output_type": "display_data"
    },
    {
     "name": "stdout",
     "output_type": "stream",
     "text": [
      "Epoch 1/200, Loss: 1.2394, Validation Accuracy: 0.5300, AUC: 0.6190\n",
      "Epoch 2/200, Loss: 1.6156, Validation Accuracy: 0.5300, AUC: 0.6527\n",
      "Epoch 3/200, Loss: 1.5992, Validation Accuracy: 0.5300, AUC: 0.5916\n",
      "Epoch 4/200, Loss: 0.9444, Validation Accuracy: 0.4683, AUC: 0.4007\n",
      "Epoch 5/200, Loss: 0.8436, Validation Accuracy: 0.4683, AUC: 0.3682\n",
      "Epoch 6/200, Loss: 1.2089, Validation Accuracy: 0.4733, AUC: 0.4617\n",
      "Epoch 7/200, Loss: 0.9596, Validation Accuracy: 0.6000, AUC: 0.6517\n",
      "Epoch 8/200, Loss: 0.6460, Validation Accuracy: 0.5300, AUC: 0.7621\n",
      "Epoch 9/200, Loss: 0.7852, Validation Accuracy: 0.5283, AUC: 0.7954\n",
      "Epoch 10/200, Loss: 0.9161, Validation Accuracy: 0.5317, AUC: 0.8073\n",
      "Epoch 11/200, Loss: 0.8261, Validation Accuracy: 0.5833, AUC: 0.8025\n",
      "Epoch 12/200, Loss: 0.6293, Validation Accuracy: 0.7017, AUC: 0.7758\n",
      "Epoch 13/200, Loss: 0.5854, Validation Accuracy: 0.5783, AUC: 0.7479\n",
      "Epoch 14/200, Loss: 0.7122, Validation Accuracy: 0.5817, AUC: 0.7620\n",
      "Epoch 15/200, Loss: 0.7115, Validation Accuracy: 0.6967, AUC: 0.8034\n",
      "Epoch 16/200, Loss: 0.5769, Validation Accuracy: 0.7133, AUC: 0.8375\n",
      "Epoch 17/200, Loss: 0.5241, Validation Accuracy: 0.6267, AUC: 0.8549\n",
      "Epoch 18/200, Loss: 0.5844, Validation Accuracy: 0.6083, AUC: 0.8629\n",
      "Epoch 19/200, Loss: 0.6174, Validation Accuracy: 0.6450, AUC: 0.8643\n",
      "Epoch 20/200, Loss: 0.5689, Validation Accuracy: 0.7333, AUC: 0.8603\n",
      "Epoch 21/200, Loss: 0.4975, Validation Accuracy: 0.7750, AUC: 0.8525\n",
      "Epoch 22/200, Loss: 0.4904, Validation Accuracy: 0.7233, AUC: 0.8475\n",
      "Epoch 23/200, Loss: 0.5330, Validation Accuracy: 0.7317, AUC: 0.8513\n",
      "Epoch 24/200, Loss: 0.5324, Validation Accuracy: 0.7650, AUC: 0.8615\n",
      "Epoch 25/200, Loss: 0.4829, Validation Accuracy: 0.7917, AUC: 0.8720\n",
      "Epoch 26/200, Loss: 0.4575, Validation Accuracy: 0.7500, AUC: 0.8798\n",
      "Epoch 27/200, Loss: 0.4755, Validation Accuracy: 0.7350, AUC: 0.8838\n",
      "Epoch 28/200, Loss: 0.4911, Validation Accuracy: 0.7467, AUC: 0.8845\n",
      "Epoch 29/200, Loss: 0.4750, Validation Accuracy: 0.7917, AUC: 0.8836\n",
      "Epoch 30/200, Loss: 0.4460, Validation Accuracy: 0.7933, AUC: 0.8815\n",
      "Epoch 31/200, Loss: 0.4385, Validation Accuracy: 0.7833, AUC: 0.8794\n",
      "Epoch 32/200, Loss: 0.4528, Validation Accuracy: 0.7833, AUC: 0.8805\n",
      "Epoch 33/200, Loss: 0.4559, Validation Accuracy: 0.7950, AUC: 0.8849\n",
      "Epoch 34/200, Loss: 0.4382, Validation Accuracy: 0.8050, AUC: 0.8891\n",
      "Epoch 35/200, Loss: 0.4243, Validation Accuracy: 0.7983, AUC: 0.8928\n",
      "Epoch 36/200, Loss: 0.4281, Validation Accuracy: 0.7817, AUC: 0.8947\n",
      "Epoch 37/200, Loss: 0.4352, Validation Accuracy: 0.7933, AUC: 0.8953\n",
      "Epoch 38/200, Loss: 0.4305, Validation Accuracy: 0.8033, AUC: 0.8950\n",
      "Epoch 39/200, Loss: 0.4183, Validation Accuracy: 0.8017, AUC: 0.8942\n",
      "Epoch 40/200, Loss: 0.4134, Validation Accuracy: 0.8167, AUC: 0.8931\n",
      "Epoch 41/200, Loss: 0.4180, Validation Accuracy: 0.8150, AUC: 0.8930\n",
      "Epoch 42/200, Loss: 0.4198, Validation Accuracy: 0.8150, AUC: 0.8944\n",
      "Epoch 43/200, Loss: 0.4130, Validation Accuracy: 0.8033, AUC: 0.8964\n",
      "Epoch 44/200, Loss: 0.4064, Validation Accuracy: 0.8083, AUC: 0.8982\n",
      "Epoch 45/200, Loss: 0.4069, Validation Accuracy: 0.8050, AUC: 0.8993\n",
      "Epoch 46/200, Loss: 0.4096, Validation Accuracy: 0.8050, AUC: 0.8995\n",
      "Epoch 47/200, Loss: 0.4075, Validation Accuracy: 0.8083, AUC: 0.8988\n",
      "Epoch 48/200, Loss: 0.4023, Validation Accuracy: 0.8167, AUC: 0.8980\n",
      "Epoch 49/200, Loss: 0.3998, Validation Accuracy: 0.8100, AUC: 0.8974\n",
      "Epoch 50/200, Loss: 0.4013, Validation Accuracy: 0.8167, AUC: 0.8975\n",
      "Epoch 51/200, Loss: 0.4015, Validation Accuracy: 0.8133, AUC: 0.8981\n",
      "Epoch 52/200, Loss: 0.3983, Validation Accuracy: 0.8200, AUC: 0.8992\n",
      "Epoch 53/200, Loss: 0.3954, Validation Accuracy: 0.8117, AUC: 0.9002\n",
      "Epoch 54/200, Loss: 0.3954, Validation Accuracy: 0.8100, AUC: 0.9008\n",
      "Epoch 55/200, Loss: 0.3960, Validation Accuracy: 0.8117, AUC: 0.9009\n",
      "Epoch 56/200, Loss: 0.3945, Validation Accuracy: 0.8217, AUC: 0.9008\n",
      "Epoch 57/200, Loss: 0.3919, Validation Accuracy: 0.8233, AUC: 0.9002\n",
      "Epoch 58/200, Loss: 0.3909, Validation Accuracy: 0.8167, AUC: 0.9001\n",
      "Epoch 59/200, Loss: 0.3913, Validation Accuracy: 0.8150, AUC: 0.9003\n",
      "Epoch 60/200, Loss: 0.3906, Validation Accuracy: 0.8217, AUC: 0.9009\n",
      "Epoch 61/200, Loss: 0.3888, Validation Accuracy: 0.8233, AUC: 0.9013\n",
      "Epoch 62/200, Loss: 0.3875, Validation Accuracy: 0.8217, AUC: 0.9019\n",
      "Epoch 63/200, Loss: 0.3874, Validation Accuracy: 0.8200, AUC: 0.9022\n",
      "Epoch 64/200, Loss: 0.3871, Validation Accuracy: 0.8183, AUC: 0.9022\n",
      "Epoch 65/200, Loss: 0.3859, Validation Accuracy: 0.8200, AUC: 0.9019\n",
      "Epoch 66/200, Loss: 0.3847, Validation Accuracy: 0.8233, AUC: 0.9019\n",
      "Epoch 67/200, Loss: 0.3843, Validation Accuracy: 0.8200, AUC: 0.9019\n",
      "Epoch 68/200, Loss: 0.3840, Validation Accuracy: 0.8217, AUC: 0.9022\n",
      "Epoch 69/200, Loss: 0.3832, Validation Accuracy: 0.8217, AUC: 0.9024\n",
      "Epoch 70/200, Loss: 0.3821, Validation Accuracy: 0.8233, AUC: 0.9027\n",
      "Epoch 71/200, Loss: 0.3816, Validation Accuracy: 0.8217, AUC: 0.9028\n",
      "Epoch 72/200, Loss: 0.3814, Validation Accuracy: 0.8217, AUC: 0.9029\n",
      "Epoch 73/200, Loss: 0.3807, Validation Accuracy: 0.8217, AUC: 0.9028\n",
      "Epoch 74/200, Loss: 0.3799, Validation Accuracy: 0.8250, AUC: 0.9026\n",
      "Epoch 75/200, Loss: 0.3793, Validation Accuracy: 0.8267, AUC: 0.9025\n",
      "Epoch 76/200, Loss: 0.3790, Validation Accuracy: 0.8233, AUC: 0.9027\n",
      "Epoch 77/200, Loss: 0.3785, Validation Accuracy: 0.8250, AUC: 0.9029\n",
      "Epoch 78/200, Loss: 0.3778, Validation Accuracy: 0.8250, AUC: 0.9031\n",
      "Epoch 79/200, Loss: 0.3773, Validation Accuracy: 0.8250, AUC: 0.9034\n",
      "Epoch 80/200, Loss: 0.3770, Validation Accuracy: 0.8250, AUC: 0.9034\n",
      "Epoch 81/200, Loss: 0.3766, Validation Accuracy: 0.8250, AUC: 0.9035\n",
      "Epoch 82/200, Loss: 0.3760, Validation Accuracy: 0.8217, AUC: 0.9036\n",
      "Epoch 83/200, Loss: 0.3755, Validation Accuracy: 0.8233, AUC: 0.9036\n",
      "Epoch 84/200, Loss: 0.3752, Validation Accuracy: 0.8250, AUC: 0.9037\n",
      "Epoch 85/200, Loss: 0.3748, Validation Accuracy: 0.8250, AUC: 0.9039\n",
      "Epoch 86/200, Loss: 0.3743, Validation Accuracy: 0.8217, AUC: 0.9040\n",
      "Epoch 87/200, Loss: 0.3739, Validation Accuracy: 0.8250, AUC: 0.9041\n",
      "Epoch 88/200, Loss: 0.3736, Validation Accuracy: 0.8250, AUC: 0.9042\n",
      "Epoch 89/200, Loss: 0.3732, Validation Accuracy: 0.8233, AUC: 0.9042\n",
      "Epoch 90/200, Loss: 0.3728, Validation Accuracy: 0.8233, AUC: 0.9042\n",
      "Epoch 91/200, Loss: 0.3724, Validation Accuracy: 0.8267, AUC: 0.9042\n",
      "Epoch 92/200, Loss: 0.3721, Validation Accuracy: 0.8267, AUC: 0.9042\n",
      "Epoch 93/200, Loss: 0.3718, Validation Accuracy: 0.8267, AUC: 0.9043\n",
      "Epoch 94/200, Loss: 0.3714, Validation Accuracy: 0.8250, AUC: 0.9044\n",
      "Epoch 95/200, Loss: 0.3711, Validation Accuracy: 0.8233, AUC: 0.9046\n",
      "Epoch 96/200, Loss: 0.3708, Validation Accuracy: 0.8233, AUC: 0.9046\n",
      "Epoch 97/200, Loss: 0.3705, Validation Accuracy: 0.8250, AUC: 0.9047\n",
      "Epoch 98/200, Loss: 0.3701, Validation Accuracy: 0.8283, AUC: 0.9047\n",
      "Epoch 99/200, Loss: 0.3698, Validation Accuracy: 0.8267, AUC: 0.9047\n",
      "Epoch 100/200, Loss: 0.3696, Validation Accuracy: 0.8267, AUC: 0.9047\n",
      "Epoch 101/200, Loss: 0.3693, Validation Accuracy: 0.8283, AUC: 0.9049\n",
      "Epoch 102/200, Loss: 0.3690, Validation Accuracy: 0.8283, AUC: 0.9051\n",
      "Epoch 103/200, Loss: 0.3687, Validation Accuracy: 0.8250, AUC: 0.9052\n",
      "Epoch 104/200, Loss: 0.3685, Validation Accuracy: 0.8250, AUC: 0.9052\n",
      "Epoch 105/200, Loss: 0.3682, Validation Accuracy: 0.8267, AUC: 0.9053\n",
      "Epoch 106/200, Loss: 0.3679, Validation Accuracy: 0.8267, AUC: 0.9053\n",
      "Epoch 107/200, Loss: 0.3677, Validation Accuracy: 0.8250, AUC: 0.9053\n",
      "Epoch 108/200, Loss: 0.3675, Validation Accuracy: 0.8250, AUC: 0.9054\n",
      "Epoch 109/200, Loss: 0.3672, Validation Accuracy: 0.8250, AUC: 0.9054\n",
      "Epoch 110/200, Loss: 0.3670, Validation Accuracy: 0.8250, AUC: 0.9056\n",
      "Epoch 111/200, Loss: 0.3668, Validation Accuracy: 0.8233, AUC: 0.9057\n",
      "Epoch 112/200, Loss: 0.3665, Validation Accuracy: 0.8233, AUC: 0.9057\n",
      "Epoch 113/200, Loss: 0.3663, Validation Accuracy: 0.8250, AUC: 0.9057\n",
      "Epoch 114/200, Loss: 0.3661, Validation Accuracy: 0.8267, AUC: 0.9057\n",
      "Epoch 115/200, Loss: 0.3659, Validation Accuracy: 0.8267, AUC: 0.9058\n",
      "Epoch 116/200, Loss: 0.3657, Validation Accuracy: 0.8250, AUC: 0.9058\n",
      "Epoch 117/200, Loss: 0.3655, Validation Accuracy: 0.8250, AUC: 0.9060\n",
      "Epoch 118/200, Loss: 0.3653, Validation Accuracy: 0.8250, AUC: 0.9061\n",
      "Epoch 119/200, Loss: 0.3651, Validation Accuracy: 0.8233, AUC: 0.9061\n",
      "Epoch 120/200, Loss: 0.3649, Validation Accuracy: 0.8233, AUC: 0.9061\n",
      "Epoch 121/200, Loss: 0.3647, Validation Accuracy: 0.8233, AUC: 0.9061\n",
      "Epoch 122/200, Loss: 0.3646, Validation Accuracy: 0.8217, AUC: 0.9061\n",
      "Epoch 123/200, Loss: 0.3644, Validation Accuracy: 0.8217, AUC: 0.9062\n",
      "Epoch 124/200, Loss: 0.3642, Validation Accuracy: 0.8217, AUC: 0.9061\n",
      "Epoch 125/200, Loss: 0.3640, Validation Accuracy: 0.8217, AUC: 0.9061\n",
      "Epoch 126/200, Loss: 0.3639, Validation Accuracy: 0.8217, AUC: 0.9061\n",
      "Epoch 127/200, Loss: 0.3637, Validation Accuracy: 0.8217, AUC: 0.9061\n",
      "Epoch 128/200, Loss: 0.3635, Validation Accuracy: 0.8217, AUC: 0.9062\n",
      "Epoch 129/200, Loss: 0.3634, Validation Accuracy: 0.8217, AUC: 0.9063\n",
      "Epoch 130/200, Loss: 0.3632, Validation Accuracy: 0.8217, AUC: 0.9065\n",
      "Epoch 131/200, Loss: 0.3631, Validation Accuracy: 0.8217, AUC: 0.9065\n",
      "Epoch 132/200, Loss: 0.3629, Validation Accuracy: 0.8200, AUC: 0.9065\n",
      "Epoch 133/200, Loss: 0.3628, Validation Accuracy: 0.8217, AUC: 0.9065\n",
      "Epoch 134/200, Loss: 0.3627, Validation Accuracy: 0.8217, AUC: 0.9066\n",
      "Epoch 135/200, Loss: 0.3625, Validation Accuracy: 0.8233, AUC: 0.9066\n",
      "Epoch 136/200, Loss: 0.3624, Validation Accuracy: 0.8233, AUC: 0.9067\n",
      "Epoch 137/200, Loss: 0.3623, Validation Accuracy: 0.8233, AUC: 0.9067\n",
      "Epoch 138/200, Loss: 0.3621, Validation Accuracy: 0.8233, AUC: 0.9067\n",
      "Epoch 139/200, Loss: 0.3620, Validation Accuracy: 0.8250, AUC: 0.9069\n",
      "Epoch 140/200, Loss: 0.3619, Validation Accuracy: 0.8250, AUC: 0.9069\n",
      "Epoch 141/200, Loss: 0.3617, Validation Accuracy: 0.8250, AUC: 0.9069\n",
      "Epoch 142/200, Loss: 0.3616, Validation Accuracy: 0.8250, AUC: 0.9069\n",
      "Epoch 143/200, Loss: 0.3615, Validation Accuracy: 0.8250, AUC: 0.9069\n",
      "Epoch 144/200, Loss: 0.3614, Validation Accuracy: 0.8267, AUC: 0.9069\n",
      "Epoch 145/200, Loss: 0.3613, Validation Accuracy: 0.8267, AUC: 0.9069\n",
      "Epoch 146/200, Loss: 0.3612, Validation Accuracy: 0.8267, AUC: 0.9069\n",
      "Epoch 147/200, Loss: 0.3611, Validation Accuracy: 0.8267, AUC: 0.9070\n",
      "Epoch 148/200, Loss: 0.3609, Validation Accuracy: 0.8267, AUC: 0.9071\n",
      "Epoch 149/200, Loss: 0.3608, Validation Accuracy: 0.8267, AUC: 0.9071\n",
      "Epoch 150/200, Loss: 0.3607, Validation Accuracy: 0.8267, AUC: 0.9071\n",
      "Epoch 151/200, Loss: 0.3606, Validation Accuracy: 0.8250, AUC: 0.9071\n",
      "Epoch 152/200, Loss: 0.3605, Validation Accuracy: 0.8250, AUC: 0.9072\n",
      "Epoch 153/200, Loss: 0.3604, Validation Accuracy: 0.8250, AUC: 0.9072\n",
      "Epoch 154/200, Loss: 0.3603, Validation Accuracy: 0.8250, AUC: 0.9072\n",
      "Epoch 155/200, Loss: 0.3602, Validation Accuracy: 0.8267, AUC: 0.9072\n",
      "Epoch 156/200, Loss: 0.3602, Validation Accuracy: 0.8267, AUC: 0.9071\n",
      "Epoch 157/200, Loss: 0.3601, Validation Accuracy: 0.8267, AUC: 0.9072\n",
      "Epoch 158/200, Loss: 0.3600, Validation Accuracy: 0.8250, AUC: 0.9072\n",
      "Epoch 159/200, Loss: 0.3599, Validation Accuracy: 0.8267, AUC: 0.9072\n",
      "Epoch 160/200, Loss: 0.3598, Validation Accuracy: 0.8267, AUC: 0.9073\n",
      "Epoch 161/200, Loss: 0.3597, Validation Accuracy: 0.8267, AUC: 0.9072\n",
      "Epoch 162/200, Loss: 0.3596, Validation Accuracy: 0.8283, AUC: 0.9072\n",
      "Epoch 163/200, Loss: 0.3596, Validation Accuracy: 0.8283, AUC: 0.9073\n",
      "Epoch 164/200, Loss: 0.3595, Validation Accuracy: 0.8283, AUC: 0.9073\n",
      "Epoch 165/200, Loss: 0.3594, Validation Accuracy: 0.8283, AUC: 0.9073\n",
      "Epoch 166/200, Loss: 0.3593, Validation Accuracy: 0.8283, AUC: 0.9073\n",
      "Epoch 167/200, Loss: 0.3592, Validation Accuracy: 0.8283, AUC: 0.9073\n",
      "Epoch 168/200, Loss: 0.3592, Validation Accuracy: 0.8283, AUC: 0.9072\n",
      "Epoch 169/200, Loss: 0.3591, Validation Accuracy: 0.8300, AUC: 0.9073\n",
      "Epoch 170/200, Loss: 0.3590, Validation Accuracy: 0.8300, AUC: 0.9073\n",
      "Epoch 171/200, Loss: 0.3590, Validation Accuracy: 0.8300, AUC: 0.9074\n",
      "Epoch 172/200, Loss: 0.3589, Validation Accuracy: 0.8300, AUC: 0.9074\n",
      "Epoch 173/200, Loss: 0.3588, Validation Accuracy: 0.8300, AUC: 0.9074\n",
      "Epoch 174/200, Loss: 0.3587, Validation Accuracy: 0.8300, AUC: 0.9073\n",
      "Epoch 175/200, Loss: 0.3587, Validation Accuracy: 0.8300, AUC: 0.9074\n",
      "Epoch 176/200, Loss: 0.3586, Validation Accuracy: 0.8317, AUC: 0.9074\n",
      "Epoch 177/200, Loss: 0.3586, Validation Accuracy: 0.8300, AUC: 0.9074\n",
      "Epoch 178/200, Loss: 0.3585, Validation Accuracy: 0.8300, AUC: 0.9074\n",
      "Epoch 179/200, Loss: 0.3584, Validation Accuracy: 0.8300, AUC: 0.9074\n",
      "Epoch 180/200, Loss: 0.3584, Validation Accuracy: 0.8300, AUC: 0.9075\n",
      "Epoch 181/200, Loss: 0.3583, Validation Accuracy: 0.8300, AUC: 0.9074\n",
      "Epoch 182/200, Loss: 0.3582, Validation Accuracy: 0.8283, AUC: 0.9074\n",
      "Epoch 183/200, Loss: 0.3582, Validation Accuracy: 0.8283, AUC: 0.9074\n",
      "Epoch 184/200, Loss: 0.3581, Validation Accuracy: 0.8283, AUC: 0.9074\n",
      "Epoch 185/200, Loss: 0.3581, Validation Accuracy: 0.8283, AUC: 0.9074\n",
      "Epoch 186/200, Loss: 0.3580, Validation Accuracy: 0.8283, AUC: 0.9074\n",
      "Epoch 187/200, Loss: 0.3580, Validation Accuracy: 0.8283, AUC: 0.9075\n",
      "Epoch 188/200, Loss: 0.3579, Validation Accuracy: 0.8283, AUC: 0.9075\n",
      "Epoch 189/200, Loss: 0.3579, Validation Accuracy: 0.8283, AUC: 0.9074\n",
      "Epoch 190/200, Loss: 0.3578, Validation Accuracy: 0.8283, AUC: 0.9075\n",
      "Epoch 191/200, Loss: 0.3578, Validation Accuracy: 0.8300, AUC: 0.9076\n",
      "Epoch 192/200, Loss: 0.3577, Validation Accuracy: 0.8300, AUC: 0.9076\n",
      "Epoch 193/200, Loss: 0.3577, Validation Accuracy: 0.8300, AUC: 0.9076\n",
      "Epoch 194/200, Loss: 0.3576, Validation Accuracy: 0.8300, AUC: 0.9076\n",
      "Epoch 195/200, Loss: 0.3576, Validation Accuracy: 0.8300, AUC: 0.9076\n",
      "Epoch 196/200, Loss: 0.3575, Validation Accuracy: 0.8300, AUC: 0.9077\n",
      "Epoch 197/200, Loss: 0.3575, Validation Accuracy: 0.8300, AUC: 0.9077\n",
      "Epoch 198/200, Loss: 0.3574, Validation Accuracy: 0.8300, AUC: 0.9077\n",
      "Epoch 199/200, Loss: 0.3574, Validation Accuracy: 0.8300, AUC: 0.9077\n",
      "Epoch 200/200, Loss: 0.3573, Validation Accuracy: 0.8300, AUC: 0.9077\n"
     ]
    },
    {
     "data": {
      "text/html": [
       "<style>\n",
       "    table.wandb td:nth-child(1) { padding: 0 10px; text-align: left ; width: auto;} td:nth-child(2) {text-align: left ; width: 100%}\n",
       "    .wandb-row { display: flex; flex-direction: row; flex-wrap: wrap; justify-content: flex-start; width: 100% }\n",
       "    .wandb-col { display: flex; flex-direction: column; flex-basis: 100%; flex: 1; padding: 10px; }\n",
       "    </style>\n",
       "<div class=\"wandb-row\"><div class=\"wandb-col\"><h3>Run history:</h3><br/><table class=\"wandb\"><tr><td>Final Best Epoch</td><td>▁</td></tr><tr><td>Final Best Val Accuracy</td><td>▁</td></tr><tr><td>best_epoch</td><td>▁▁▁▂▂▂▂▂▃▃▃▃▃▃▃▄▄▄▄▅▅▅▅▅▅▅▅▅▅▅▅▅▅▅██████</td></tr><tr><td>best_val_accuracy</td><td>▁▁▅▅▇▇▇▇████████████████████████████████</td></tr><tr><td>roc_auc</td><td>▄▁▆▇▇███████████████████████████████████</td></tr><tr><td>train_loss</td><td>█▆▃▂▂▂▂▁▁▁▁▁▁▁▁▁▁▁▁▁▁▁▁▁▁▁▁▁▁▁▁▁▁▁▁▁▁▁▁▁</td></tr><tr><td>val_accuracy</td><td>▂▁▅▆▆▆▇▇████████████████████████████████</td></tr></table><br/></div><div class=\"wandb-col\"><h3>Run summary:</h3><br/><table class=\"wandb\"><tr><td>Final Best Epoch</td><td>176</td></tr><tr><td>Final Best Val Accuracy</td><td>0.83167</td></tr><tr><td>best_epoch</td><td>176</td></tr><tr><td>best_val_accuracy</td><td>0.83167</td></tr><tr><td>roc_auc</td><td>0.90769</td></tr><tr><td>train_loss</td><td>0.35733</td></tr><tr><td>val_accuracy</td><td>0.83</td></tr></table><br/></div></div>"
      ],
      "text/plain": [
       "<IPython.core.display.HTML object>"
      ]
     },
     "metadata": {},
     "output_type": "display_data"
    },
    {
     "data": {
      "text/html": [
       " View run <strong style=\"color:#cdcd00\">golden-sweep-3</strong> at: <a href='https://wandb.ai/zamtol/uncategorized/runs/54z1grm3' target=\"_blank\">https://wandb.ai/zamtol/uncategorized/runs/54z1grm3</a><br/> View project at: <a href='https://wandb.ai/zamtol/uncategorized' target=\"_blank\">https://wandb.ai/zamtol/uncategorized</a><br/>Synced 5 W&B file(s), 200 media file(s), 0 artifact file(s) and 0 other file(s)"
      ],
      "text/plain": [
       "<IPython.core.display.HTML object>"
      ]
     },
     "metadata": {},
     "output_type": "display_data"
    },
    {
     "data": {
      "text/html": [
       "Find logs at: <code>.\\wandb\\run-20240804_143842-54z1grm3\\logs</code>"
      ],
      "text/plain": [
       "<IPython.core.display.HTML object>"
      ]
     },
     "metadata": {},
     "output_type": "display_data"
    },
    {
     "data": {
      "text/html": [
       "The new W&B backend becomes opt-out in version 0.18.0; try it out with `wandb.require(\"core\")`! See https://wandb.me/wandb-core for more information."
      ],
      "text/plain": [
       "<IPython.core.display.HTML object>"
      ]
     },
     "metadata": {},
     "output_type": "display_data"
    },
    {
     "name": "stderr",
     "output_type": "stream",
     "text": [
      "\u001b[34m\u001b[1mwandb\u001b[0m: Sweep Agent: Waiting for job.\n",
      "\u001b[34m\u001b[1mwandb\u001b[0m: Job received.\n",
      "\u001b[34m\u001b[1mwandb\u001b[0m: Agent Starting Run: 5j624rvj with config:\n",
      "\u001b[34m\u001b[1mwandb\u001b[0m: \tarchitecture: LogisticRegression\n",
      "\u001b[34m\u001b[1mwandb\u001b[0m: \tepochs: 200\n",
      "\u001b[34m\u001b[1mwandb\u001b[0m: \tlearning_rate: 0.1\n",
      "\u001b[34m\u001b[1mwandb\u001b[0m: \tseed: 42\n",
      "\u001b[34m\u001b[1mwandb\u001b[0m: \tweight_decay: 0.0001\n",
      "Failed to detect the name of this notebook, you can set it manually with the WANDB_NOTEBOOK_NAME environment variable to enable code saving.\n"
     ]
    },
    {
     "data": {
      "text/html": [
       "Tracking run with wandb version 0.17.5"
      ],
      "text/plain": [
       "<IPython.core.display.HTML object>"
      ]
     },
     "metadata": {},
     "output_type": "display_data"
    },
    {
     "data": {
      "text/html": [
       "Run data is saved locally in <code>c:\\Users\\ZAMTOL\\git\\hack\\wandb\\run-20240804_143918-5j624rvj</code>"
      ],
      "text/plain": [
       "<IPython.core.display.HTML object>"
      ]
     },
     "metadata": {},
     "output_type": "display_data"
    },
    {
     "data": {
      "text/html": [
       "Syncing run <strong><a href='https://wandb.ai/zamtol/uncategorized/runs/5j624rvj' target=\"_blank\">graceful-sweep-4</a></strong> to <a href='https://wandb.ai/zamtol/uncategorized' target=\"_blank\">Weights & Biases</a> (<a href='https://wandb.me/run' target=\"_blank\">docs</a>)<br/>Sweep page: <a href='https://wandb.ai/zamtol/uncategorized/sweeps/xrxgo72j' target=\"_blank\">https://wandb.ai/zamtol/uncategorized/sweeps/xrxgo72j</a>"
      ],
      "text/plain": [
       "<IPython.core.display.HTML object>"
      ]
     },
     "metadata": {},
     "output_type": "display_data"
    },
    {
     "data": {
      "text/html": [
       " View project at <a href='https://wandb.ai/zamtol/uncategorized' target=\"_blank\">https://wandb.ai/zamtol/uncategorized</a>"
      ],
      "text/plain": [
       "<IPython.core.display.HTML object>"
      ]
     },
     "metadata": {},
     "output_type": "display_data"
    },
    {
     "data": {
      "text/html": [
       " View sweep at <a href='https://wandb.ai/zamtol/uncategorized/sweeps/xrxgo72j' target=\"_blank\">https://wandb.ai/zamtol/uncategorized/sweeps/xrxgo72j</a>"
      ],
      "text/plain": [
       "<IPython.core.display.HTML object>"
      ]
     },
     "metadata": {},
     "output_type": "display_data"
    },
    {
     "data": {
      "text/html": [
       " View run at <a href='https://wandb.ai/zamtol/uncategorized/runs/5j624rvj' target=\"_blank\">https://wandb.ai/zamtol/uncategorized/runs/5j624rvj</a>"
      ],
      "text/plain": [
       "<IPython.core.display.HTML object>"
      ]
     },
     "metadata": {},
     "output_type": "display_data"
    },
    {
     "name": "stdout",
     "output_type": "stream",
     "text": [
      "Epoch 1/200, Loss: 0.9654, Validation Accuracy: 0.5300, AUC: 0.7334\n",
      "Epoch 2/200, Loss: 1.7463, Validation Accuracy: 0.5300, AUC: 0.7508\n",
      "Epoch 3/200, Loss: 1.4990, Validation Accuracy: 0.5317, AUC: 0.7081\n",
      "Epoch 4/200, Loss: 0.7490, Validation Accuracy: 0.4683, AUC: 0.5014\n",
      "Epoch 5/200, Loss: 1.0202, Validation Accuracy: 0.4700, AUC: 0.5005\n",
      "Epoch 6/200, Loss: 1.2184, Validation Accuracy: 0.5050, AUC: 0.6442\n",
      "Epoch 7/200, Loss: 0.7958, Validation Accuracy: 0.5783, AUC: 0.7941\n",
      "Epoch 8/200, Loss: 0.6148, Validation Accuracy: 0.5300, AUC: 0.8351\n",
      "Epoch 9/200, Loss: 0.8427, Validation Accuracy: 0.5300, AUC: 0.8487\n",
      "Epoch 10/200, Loss: 0.9170, Validation Accuracy: 0.5367, AUC: 0.8545\n",
      "Epoch 11/200, Loss: 0.7624, Validation Accuracy: 0.6317, AUC: 0.8472\n",
      "Epoch 12/200, Loss: 0.5612, Validation Accuracy: 0.7050, AUC: 0.8175\n",
      "Epoch 13/200, Loss: 0.5873, Validation Accuracy: 0.5750, AUC: 0.7970\n",
      "Epoch 14/200, Loss: 0.7249, Validation Accuracy: 0.6050, AUC: 0.8129\n",
      "Epoch 15/200, Loss: 0.6800, Validation Accuracy: 0.7633, AUC: 0.8470\n",
      "Epoch 16/200, Loss: 0.5330, Validation Accuracy: 0.7183, AUC: 0.8710\n",
      "Epoch 17/200, Loss: 0.5079, Validation Accuracy: 0.6217, AUC: 0.8811\n",
      "Epoch 18/200, Loss: 0.5829, Validation Accuracy: 0.6067, AUC: 0.8842\n",
      "Epoch 19/200, Loss: 0.6094, Validation Accuracy: 0.6467, AUC: 0.8839\n",
      "Epoch 20/200, Loss: 0.5504, Validation Accuracy: 0.7583, AUC: 0.8798\n",
      "Epoch 21/200, Loss: 0.4775, Validation Accuracy: 0.7817, AUC: 0.8716\n",
      "Epoch 22/200, Loss: 0.4787, Validation Accuracy: 0.7583, AUC: 0.8660\n",
      "Epoch 23/200, Loss: 0.5273, Validation Accuracy: 0.7567, AUC: 0.8682\n",
      "Epoch 24/200, Loss: 0.5258, Validation Accuracy: 0.7767, AUC: 0.8765\n",
      "Epoch 25/200, Loss: 0.4735, Validation Accuracy: 0.8033, AUC: 0.8850\n",
      "Epoch 26/200, Loss: 0.4469, Validation Accuracy: 0.7633, AUC: 0.8903\n",
      "Epoch 27/200, Loss: 0.4675, Validation Accuracy: 0.7300, AUC: 0.8928\n",
      "Epoch 28/200, Loss: 0.4870, Validation Accuracy: 0.7550, AUC: 0.8932\n",
      "Epoch 29/200, Loss: 0.4729, Validation Accuracy: 0.7833, AUC: 0.8919\n",
      "Epoch 30/200, Loss: 0.4422, Validation Accuracy: 0.8083, AUC: 0.8888\n",
      "Epoch 31/200, Loss: 0.4321, Validation Accuracy: 0.7967, AUC: 0.8866\n",
      "Epoch 32/200, Loss: 0.4476, Validation Accuracy: 0.7917, AUC: 0.8864\n",
      "Epoch 33/200, Loss: 0.4552, Validation Accuracy: 0.8017, AUC: 0.8891\n",
      "Epoch 34/200, Loss: 0.4389, Validation Accuracy: 0.8167, AUC: 0.8927\n",
      "Epoch 35/200, Loss: 0.4221, Validation Accuracy: 0.8083, AUC: 0.8958\n",
      "Epoch 36/200, Loss: 0.4241, Validation Accuracy: 0.7883, AUC: 0.8977\n",
      "Epoch 37/200, Loss: 0.4336, Validation Accuracy: 0.7850, AUC: 0.8982\n",
      "Epoch 38/200, Loss: 0.4320, Validation Accuracy: 0.8050, AUC: 0.8978\n",
      "Epoch 39/200, Loss: 0.4199, Validation Accuracy: 0.8167, AUC: 0.8960\n",
      "Epoch 40/200, Loss: 0.4123, Validation Accuracy: 0.8100, AUC: 0.8948\n",
      "Epoch 41/200, Loss: 0.4161, Validation Accuracy: 0.8033, AUC: 0.8945\n",
      "Epoch 42/200, Loss: 0.4206, Validation Accuracy: 0.8117, AUC: 0.8954\n",
      "Epoch 43/200, Loss: 0.4157, Validation Accuracy: 0.8217, AUC: 0.8971\n",
      "Epoch 44/200, Loss: 0.4077, Validation Accuracy: 0.8250, AUC: 0.8990\n",
      "Epoch 45/200, Loss: 0.4064, Validation Accuracy: 0.8117, AUC: 0.8999\n",
      "Epoch 46/200, Loss: 0.4098, Validation Accuracy: 0.8100, AUC: 0.9002\n",
      "Epoch 47/200, Loss: 0.4098, Validation Accuracy: 0.8183, AUC: 0.9001\n",
      "Epoch 48/200, Loss: 0.4048, Validation Accuracy: 0.8217, AUC: 0.8993\n",
      "Epoch 49/200, Loss: 0.4009, Validation Accuracy: 0.8217, AUC: 0.8986\n",
      "Epoch 50/200, Loss: 0.4017, Validation Accuracy: 0.8183, AUC: 0.8982\n",
      "Epoch 51/200, Loss: 0.4032, Validation Accuracy: 0.8217, AUC: 0.8987\n",
      "Epoch 52/200, Loss: 0.4011, Validation Accuracy: 0.8183, AUC: 0.8997\n",
      "Epoch 53/200, Loss: 0.3974, Validation Accuracy: 0.8233, AUC: 0.9006\n",
      "Epoch 54/200, Loss: 0.3964, Validation Accuracy: 0.8250, AUC: 0.9014\n",
      "Epoch 55/200, Loss: 0.3975, Validation Accuracy: 0.8233, AUC: 0.9015\n",
      "Epoch 56/200, Loss: 0.3970, Validation Accuracy: 0.8200, AUC: 0.9015\n",
      "Epoch 57/200, Loss: 0.3944, Validation Accuracy: 0.8200, AUC: 0.9009\n",
      "Epoch 58/200, Loss: 0.3926, Validation Accuracy: 0.8183, AUC: 0.9006\n",
      "Epoch 59/200, Loss: 0.3928, Validation Accuracy: 0.8217, AUC: 0.9004\n",
      "Epoch 60/200, Loss: 0.3929, Validation Accuracy: 0.8183, AUC: 0.9007\n",
      "Epoch 61/200, Loss: 0.3914, Validation Accuracy: 0.8183, AUC: 0.9015\n",
      "Epoch 62/200, Loss: 0.3897, Validation Accuracy: 0.8233, AUC: 0.9018\n",
      "Epoch 63/200, Loss: 0.3892, Validation Accuracy: 0.8217, AUC: 0.9022\n",
      "Epoch 64/200, Loss: 0.3893, Validation Accuracy: 0.8217, AUC: 0.9023\n",
      "Epoch 65/200, Loss: 0.3884, Validation Accuracy: 0.8217, AUC: 0.9021\n",
      "Epoch 66/200, Loss: 0.3870, Validation Accuracy: 0.8183, AUC: 0.9019\n",
      "Epoch 67/200, Loss: 0.3862, Validation Accuracy: 0.8183, AUC: 0.9016\n",
      "Epoch 68/200, Loss: 0.3861, Validation Accuracy: 0.8200, AUC: 0.9017\n",
      "Epoch 69/200, Loss: 0.3856, Validation Accuracy: 0.8217, AUC: 0.9021\n",
      "Epoch 70/200, Loss: 0.3845, Validation Accuracy: 0.8217, AUC: 0.9022\n",
      "Epoch 71/200, Loss: 0.3837, Validation Accuracy: 0.8217, AUC: 0.9025\n",
      "Epoch 72/200, Loss: 0.3834, Validation Accuracy: 0.8217, AUC: 0.9026\n",
      "Epoch 73/200, Loss: 0.3831, Validation Accuracy: 0.8200, AUC: 0.9027\n",
      "Epoch 74/200, Loss: 0.3823, Validation Accuracy: 0.8217, AUC: 0.9025\n",
      "Epoch 75/200, Loss: 0.3815, Validation Accuracy: 0.8250, AUC: 0.9024\n",
      "Epoch 76/200, Loss: 0.3811, Validation Accuracy: 0.8250, AUC: 0.9025\n",
      "Epoch 77/200, Loss: 0.3808, Validation Accuracy: 0.8267, AUC: 0.9027\n",
      "Epoch 78/200, Loss: 0.3801, Validation Accuracy: 0.8233, AUC: 0.9029\n",
      "Epoch 79/200, Loss: 0.3795, Validation Accuracy: 0.8217, AUC: 0.9033\n",
      "Epoch 80/200, Loss: 0.3791, Validation Accuracy: 0.8217, AUC: 0.9036\n",
      "Epoch 81/200, Loss: 0.3787, Validation Accuracy: 0.8233, AUC: 0.9036\n",
      "Epoch 82/200, Loss: 0.3782, Validation Accuracy: 0.8233, AUC: 0.9034\n",
      "Epoch 83/200, Loss: 0.3776, Validation Accuracy: 0.8267, AUC: 0.9035\n",
      "Epoch 84/200, Loss: 0.3772, Validation Accuracy: 0.8250, AUC: 0.9034\n",
      "Epoch 85/200, Loss: 0.3769, Validation Accuracy: 0.8250, AUC: 0.9034\n",
      "Epoch 86/200, Loss: 0.3764, Validation Accuracy: 0.8267, AUC: 0.9037\n",
      "Epoch 87/200, Loss: 0.3760, Validation Accuracy: 0.8267, AUC: 0.9039\n",
      "Epoch 88/200, Loss: 0.3756, Validation Accuracy: 0.8250, AUC: 0.9041\n",
      "Epoch 89/200, Loss: 0.3752, Validation Accuracy: 0.8283, AUC: 0.9041\n",
      "Epoch 90/200, Loss: 0.3748, Validation Accuracy: 0.8250, AUC: 0.9039\n",
      "Epoch 91/200, Loss: 0.3744, Validation Accuracy: 0.8283, AUC: 0.9039\n",
      "Epoch 92/200, Loss: 0.3740, Validation Accuracy: 0.8250, AUC: 0.9038\n",
      "Epoch 93/200, Loss: 0.3737, Validation Accuracy: 0.8267, AUC: 0.9038\n",
      "Epoch 94/200, Loss: 0.3734, Validation Accuracy: 0.8233, AUC: 0.9039\n",
      "Epoch 95/200, Loss: 0.3730, Validation Accuracy: 0.8267, AUC: 0.9040\n",
      "Epoch 96/200, Loss: 0.3727, Validation Accuracy: 0.8283, AUC: 0.9042\n",
      "Epoch 97/200, Loss: 0.3724, Validation Accuracy: 0.8283, AUC: 0.9042\n",
      "Epoch 98/200, Loss: 0.3720, Validation Accuracy: 0.8267, AUC: 0.9042\n",
      "Epoch 99/200, Loss: 0.3717, Validation Accuracy: 0.8250, AUC: 0.9041\n",
      "Epoch 100/200, Loss: 0.3714, Validation Accuracy: 0.8267, AUC: 0.9042\n",
      "Epoch 101/200, Loss: 0.3711, Validation Accuracy: 0.8267, AUC: 0.9043\n",
      "Epoch 102/200, Loss: 0.3708, Validation Accuracy: 0.8283, AUC: 0.9044\n",
      "Epoch 103/200, Loss: 0.3705, Validation Accuracy: 0.8317, AUC: 0.9044\n",
      "Epoch 104/200, Loss: 0.3702, Validation Accuracy: 0.8317, AUC: 0.9044\n",
      "Epoch 105/200, Loss: 0.3699, Validation Accuracy: 0.8317, AUC: 0.9044\n",
      "Epoch 106/200, Loss: 0.3697, Validation Accuracy: 0.8317, AUC: 0.9045\n",
      "Epoch 107/200, Loss: 0.3694, Validation Accuracy: 0.8300, AUC: 0.9045\n",
      "Epoch 108/200, Loss: 0.3691, Validation Accuracy: 0.8300, AUC: 0.9044\n",
      "Epoch 109/200, Loss: 0.3689, Validation Accuracy: 0.8300, AUC: 0.9044\n",
      "Epoch 110/200, Loss: 0.3686, Validation Accuracy: 0.8317, AUC: 0.9046\n",
      "Epoch 111/200, Loss: 0.3684, Validation Accuracy: 0.8300, AUC: 0.9046\n",
      "Epoch 112/200, Loss: 0.3681, Validation Accuracy: 0.8283, AUC: 0.9047\n",
      "Epoch 113/200, Loss: 0.3679, Validation Accuracy: 0.8267, AUC: 0.9048\n",
      "Epoch 114/200, Loss: 0.3677, Validation Accuracy: 0.8300, AUC: 0.9048\n",
      "Epoch 115/200, Loss: 0.3674, Validation Accuracy: 0.8283, AUC: 0.9048\n",
      "Epoch 116/200, Loss: 0.3672, Validation Accuracy: 0.8283, AUC: 0.9047\n",
      "Epoch 117/200, Loss: 0.3670, Validation Accuracy: 0.8283, AUC: 0.9047\n",
      "Epoch 118/200, Loss: 0.3668, Validation Accuracy: 0.8250, AUC: 0.9048\n",
      "Epoch 119/200, Loss: 0.3666, Validation Accuracy: 0.8250, AUC: 0.9049\n",
      "Epoch 120/200, Loss: 0.3664, Validation Accuracy: 0.8250, AUC: 0.9049\n",
      "Epoch 121/200, Loss: 0.3662, Validation Accuracy: 0.8250, AUC: 0.9049\n",
      "Epoch 122/200, Loss: 0.3660, Validation Accuracy: 0.8250, AUC: 0.9051\n",
      "Epoch 123/200, Loss: 0.3658, Validation Accuracy: 0.8250, AUC: 0.9051\n",
      "Epoch 124/200, Loss: 0.3656, Validation Accuracy: 0.8250, AUC: 0.9051\n",
      "Epoch 125/200, Loss: 0.3654, Validation Accuracy: 0.8250, AUC: 0.9051\n",
      "Epoch 126/200, Loss: 0.3652, Validation Accuracy: 0.8250, AUC: 0.9052\n",
      "Epoch 127/200, Loss: 0.3650, Validation Accuracy: 0.8250, AUC: 0.9053\n",
      "Epoch 128/200, Loss: 0.3648, Validation Accuracy: 0.8250, AUC: 0.9054\n",
      "Epoch 129/200, Loss: 0.3647, Validation Accuracy: 0.8250, AUC: 0.9054\n",
      "Epoch 130/200, Loss: 0.3645, Validation Accuracy: 0.8250, AUC: 0.9054\n",
      "Epoch 131/200, Loss: 0.3643, Validation Accuracy: 0.8250, AUC: 0.9055\n",
      "Epoch 132/200, Loss: 0.3642, Validation Accuracy: 0.8267, AUC: 0.9056\n",
      "Epoch 133/200, Loss: 0.3640, Validation Accuracy: 0.8250, AUC: 0.9056\n",
      "Epoch 134/200, Loss: 0.3638, Validation Accuracy: 0.8250, AUC: 0.9057\n",
      "Epoch 135/200, Loss: 0.3637, Validation Accuracy: 0.8250, AUC: 0.9058\n",
      "Epoch 136/200, Loss: 0.3635, Validation Accuracy: 0.8283, AUC: 0.9058\n",
      "Epoch 137/200, Loss: 0.3634, Validation Accuracy: 0.8283, AUC: 0.9058\n",
      "Epoch 138/200, Loss: 0.3632, Validation Accuracy: 0.8283, AUC: 0.9058\n",
      "Epoch 139/200, Loss: 0.3631, Validation Accuracy: 0.8283, AUC: 0.9060\n",
      "Epoch 140/200, Loss: 0.3630, Validation Accuracy: 0.8283, AUC: 0.9061\n",
      "Epoch 141/200, Loss: 0.3628, Validation Accuracy: 0.8283, AUC: 0.9060\n",
      "Epoch 142/200, Loss: 0.3627, Validation Accuracy: 0.8283, AUC: 0.9061\n",
      "Epoch 143/200, Loss: 0.3625, Validation Accuracy: 0.8300, AUC: 0.9061\n",
      "Epoch 144/200, Loss: 0.3624, Validation Accuracy: 0.8283, AUC: 0.9060\n",
      "Epoch 145/200, Loss: 0.3623, Validation Accuracy: 0.8300, AUC: 0.9061\n",
      "Epoch 146/200, Loss: 0.3622, Validation Accuracy: 0.8300, AUC: 0.9061\n",
      "Epoch 147/200, Loss: 0.3620, Validation Accuracy: 0.8300, AUC: 0.9062\n",
      "Epoch 148/200, Loss: 0.3619, Validation Accuracy: 0.8300, AUC: 0.9062\n",
      "Epoch 149/200, Loss: 0.3618, Validation Accuracy: 0.8300, AUC: 0.9062\n",
      "Epoch 150/200, Loss: 0.3617, Validation Accuracy: 0.8300, AUC: 0.9062\n",
      "Epoch 151/200, Loss: 0.3615, Validation Accuracy: 0.8300, AUC: 0.9063\n",
      "Epoch 152/200, Loss: 0.3614, Validation Accuracy: 0.8300, AUC: 0.9063\n",
      "Epoch 153/200, Loss: 0.3613, Validation Accuracy: 0.8300, AUC: 0.9063\n",
      "Epoch 154/200, Loss: 0.3612, Validation Accuracy: 0.8300, AUC: 0.9063\n",
      "Epoch 155/200, Loss: 0.3611, Validation Accuracy: 0.8300, AUC: 0.9064\n",
      "Epoch 156/200, Loss: 0.3610, Validation Accuracy: 0.8300, AUC: 0.9064\n",
      "Epoch 157/200, Loss: 0.3609, Validation Accuracy: 0.8300, AUC: 0.9064\n",
      "Epoch 158/200, Loss: 0.3608, Validation Accuracy: 0.8300, AUC: 0.9064\n",
      "Epoch 159/200, Loss: 0.3607, Validation Accuracy: 0.8283, AUC: 0.9064\n",
      "Epoch 160/200, Loss: 0.3606, Validation Accuracy: 0.8283, AUC: 0.9064\n",
      "Epoch 161/200, Loss: 0.3605, Validation Accuracy: 0.8283, AUC: 0.9064\n",
      "Epoch 162/200, Loss: 0.3604, Validation Accuracy: 0.8283, AUC: 0.9065\n",
      "Epoch 163/200, Loss: 0.3603, Validation Accuracy: 0.8283, AUC: 0.9065\n",
      "Epoch 164/200, Loss: 0.3602, Validation Accuracy: 0.8300, AUC: 0.9065\n",
      "Epoch 165/200, Loss: 0.3601, Validation Accuracy: 0.8300, AUC: 0.9064\n",
      "Epoch 166/200, Loss: 0.3600, Validation Accuracy: 0.8300, AUC: 0.9064\n",
      "Epoch 167/200, Loss: 0.3599, Validation Accuracy: 0.8300, AUC: 0.9064\n",
      "Epoch 168/200, Loss: 0.3599, Validation Accuracy: 0.8300, AUC: 0.9065\n",
      "Epoch 169/200, Loss: 0.3598, Validation Accuracy: 0.8300, AUC: 0.9065\n",
      "Epoch 170/200, Loss: 0.3597, Validation Accuracy: 0.8300, AUC: 0.9066\n",
      "Epoch 171/200, Loss: 0.3596, Validation Accuracy: 0.8300, AUC: 0.9066\n",
      "Epoch 172/200, Loss: 0.3595, Validation Accuracy: 0.8300, AUC: 0.9067\n",
      "Epoch 173/200, Loss: 0.3594, Validation Accuracy: 0.8300, AUC: 0.9066\n",
      "Epoch 174/200, Loss: 0.3594, Validation Accuracy: 0.8300, AUC: 0.9067\n",
      "Epoch 175/200, Loss: 0.3593, Validation Accuracy: 0.8300, AUC: 0.9067\n",
      "Epoch 176/200, Loss: 0.3592, Validation Accuracy: 0.8300, AUC: 0.9068\n",
      "Epoch 177/200, Loss: 0.3591, Validation Accuracy: 0.8300, AUC: 0.9067\n",
      "Epoch 178/200, Loss: 0.3591, Validation Accuracy: 0.8317, AUC: 0.9068\n",
      "Epoch 179/200, Loss: 0.3590, Validation Accuracy: 0.8317, AUC: 0.9068\n",
      "Epoch 180/200, Loss: 0.3589, Validation Accuracy: 0.8317, AUC: 0.9068\n",
      "Epoch 181/200, Loss: 0.3588, Validation Accuracy: 0.8317, AUC: 0.9068\n",
      "Epoch 182/200, Loss: 0.3588, Validation Accuracy: 0.8317, AUC: 0.9067\n",
      "Epoch 183/200, Loss: 0.3587, Validation Accuracy: 0.8300, AUC: 0.9067\n",
      "Epoch 184/200, Loss: 0.3586, Validation Accuracy: 0.8300, AUC: 0.9067\n",
      "Epoch 185/200, Loss: 0.3586, Validation Accuracy: 0.8300, AUC: 0.9068\n",
      "Epoch 186/200, Loss: 0.3585, Validation Accuracy: 0.8300, AUC: 0.9068\n",
      "Epoch 187/200, Loss: 0.3584, Validation Accuracy: 0.8283, AUC: 0.9069\n",
      "Epoch 188/200, Loss: 0.3584, Validation Accuracy: 0.8283, AUC: 0.9070\n",
      "Epoch 189/200, Loss: 0.3583, Validation Accuracy: 0.8283, AUC: 0.9070\n",
      "Epoch 190/200, Loss: 0.3583, Validation Accuracy: 0.8283, AUC: 0.9070\n",
      "Epoch 191/200, Loss: 0.3582, Validation Accuracy: 0.8283, AUC: 0.9070\n",
      "Epoch 192/200, Loss: 0.3581, Validation Accuracy: 0.8283, AUC: 0.9070\n",
      "Epoch 193/200, Loss: 0.3581, Validation Accuracy: 0.8283, AUC: 0.9071\n",
      "Epoch 194/200, Loss: 0.3580, Validation Accuracy: 0.8283, AUC: 0.9071\n",
      "Epoch 195/200, Loss: 0.3580, Validation Accuracy: 0.8283, AUC: 0.9072\n",
      "Epoch 196/200, Loss: 0.3579, Validation Accuracy: 0.8283, AUC: 0.9072\n",
      "Epoch 197/200, Loss: 0.3579, Validation Accuracy: 0.8283, AUC: 0.9072\n",
      "Epoch 198/200, Loss: 0.3578, Validation Accuracy: 0.8283, AUC: 0.9072\n",
      "Epoch 199/200, Loss: 0.3578, Validation Accuracy: 0.8283, AUC: 0.9072\n",
      "Epoch 200/200, Loss: 0.3577, Validation Accuracy: 0.8283, AUC: 0.9073\n"
     ]
    },
    {
     "data": {
      "text/html": [
       "<style>\n",
       "    table.wandb td:nth-child(1) { padding: 0 10px; text-align: left ; width: auto;} td:nth-child(2) {text-align: left ; width: 100%}\n",
       "    .wandb-row { display: flex; flex-direction: row; flex-wrap: wrap; justify-content: flex-start; width: 100% }\n",
       "    .wandb-col { display: flex; flex-direction: column; flex-basis: 100%; flex: 1; padding: 10px; }\n",
       "    </style>\n",
       "<div class=\"wandb-row\"><div class=\"wandb-col\"><h3>Run history:</h3><br/><table class=\"wandb\"><tr><td>Final Best Epoch</td><td>▁</td></tr><tr><td>Final Best Val Accuracy</td><td>▁</td></tr><tr><td>best_epoch</td><td>▁▁▂▂▂▃▃▃▃▄▄▄▄▄▄▆▆▆▇▇▇███████████████████</td></tr><tr><td>best_val_accuracy</td><td>▁▁▅▆▇▇▇█████████████████████████████████</td></tr><tr><td>roc_auc</td><td>▄▁▆▇▇█▇█████████████████████████████████</td></tr><tr><td>train_loss</td><td>█▅▂▂▂▁▁▁▁▁▁▁▁▁▁▁▁▁▁▁▁▁▁▁▁▁▁▁▁▁▁▁▁▁▁▁▁▁▁▁</td></tr><tr><td>val_accuracy</td><td>▂▁▅▆▆▇▇▇████████████████████████████████</td></tr></table><br/></div><div class=\"wandb-col\"><h3>Run summary:</h3><br/><table class=\"wandb\"><tr><td>Final Best Epoch</td><td>103</td></tr><tr><td>Final Best Val Accuracy</td><td>0.83167</td></tr><tr><td>best_epoch</td><td>103</td></tr><tr><td>best_val_accuracy</td><td>0.83167</td></tr><tr><td>roc_auc</td><td>0.90729</td></tr><tr><td>train_loss</td><td>0.3577</td></tr><tr><td>val_accuracy</td><td>0.82833</td></tr></table><br/></div></div>"
      ],
      "text/plain": [
       "<IPython.core.display.HTML object>"
      ]
     },
     "metadata": {},
     "output_type": "display_data"
    },
    {
     "data": {
      "text/html": [
       " View run <strong style=\"color:#cdcd00\">graceful-sweep-4</strong> at: <a href='https://wandb.ai/zamtol/uncategorized/runs/5j624rvj' target=\"_blank\">https://wandb.ai/zamtol/uncategorized/runs/5j624rvj</a><br/> View project at: <a href='https://wandb.ai/zamtol/uncategorized' target=\"_blank\">https://wandb.ai/zamtol/uncategorized</a><br/>Synced 5 W&B file(s), 200 media file(s), 0 artifact file(s) and 0 other file(s)"
      ],
      "text/plain": [
       "<IPython.core.display.HTML object>"
      ]
     },
     "metadata": {},
     "output_type": "display_data"
    },
    {
     "data": {
      "text/html": [
       "Find logs at: <code>.\\wandb\\run-20240804_143918-5j624rvj\\logs</code>"
      ],
      "text/plain": [
       "<IPython.core.display.HTML object>"
      ]
     },
     "metadata": {},
     "output_type": "display_data"
    },
    {
     "data": {
      "text/html": [
       "The new W&B backend becomes opt-out in version 0.18.0; try it out with `wandb.require(\"core\")`! See https://wandb.me/wandb-core for more information."
      ],
      "text/plain": [
       "<IPython.core.display.HTML object>"
      ]
     },
     "metadata": {},
     "output_type": "display_data"
    },
    {
     "name": "stderr",
     "output_type": "stream",
     "text": [
      "\u001b[34m\u001b[1mwandb\u001b[0m: Agent Starting Run: qmjqnp7g with config:\n",
      "\u001b[34m\u001b[1mwandb\u001b[0m: \tarchitecture: LogisticRegression\n",
      "\u001b[34m\u001b[1mwandb\u001b[0m: \tepochs: 200\n",
      "\u001b[34m\u001b[1mwandb\u001b[0m: \tlearning_rate: 0.05\n",
      "\u001b[34m\u001b[1mwandb\u001b[0m: \tseed: 42\n",
      "\u001b[34m\u001b[1mwandb\u001b[0m: \tweight_decay: 0.0005\n",
      "Failed to detect the name of this notebook, you can set it manually with the WANDB_NOTEBOOK_NAME environment variable to enable code saving.\n"
     ]
    },
    {
     "data": {
      "text/html": [
       "Tracking run with wandb version 0.17.5"
      ],
      "text/plain": [
       "<IPython.core.display.HTML object>"
      ]
     },
     "metadata": {},
     "output_type": "display_data"
    },
    {
     "data": {
      "text/html": [
       "Run data is saved locally in <code>c:\\Users\\ZAMTOL\\git\\hack\\wandb\\run-20240804_143946-qmjqnp7g</code>"
      ],
      "text/plain": [
       "<IPython.core.display.HTML object>"
      ]
     },
     "metadata": {},
     "output_type": "display_data"
    },
    {
     "data": {
      "text/html": [
       "Syncing run <strong><a href='https://wandb.ai/zamtol/uncategorized/runs/qmjqnp7g' target=\"_blank\">desert-sweep-5</a></strong> to <a href='https://wandb.ai/zamtol/uncategorized' target=\"_blank\">Weights & Biases</a> (<a href='https://wandb.me/run' target=\"_blank\">docs</a>)<br/>Sweep page: <a href='https://wandb.ai/zamtol/uncategorized/sweeps/xrxgo72j' target=\"_blank\">https://wandb.ai/zamtol/uncategorized/sweeps/xrxgo72j</a>"
      ],
      "text/plain": [
       "<IPython.core.display.HTML object>"
      ]
     },
     "metadata": {},
     "output_type": "display_data"
    },
    {
     "data": {
      "text/html": [
       " View project at <a href='https://wandb.ai/zamtol/uncategorized' target=\"_blank\">https://wandb.ai/zamtol/uncategorized</a>"
      ],
      "text/plain": [
       "<IPython.core.display.HTML object>"
      ]
     },
     "metadata": {},
     "output_type": "display_data"
    },
    {
     "data": {
      "text/html": [
       " View sweep at <a href='https://wandb.ai/zamtol/uncategorized/sweeps/xrxgo72j' target=\"_blank\">https://wandb.ai/zamtol/uncategorized/sweeps/xrxgo72j</a>"
      ],
      "text/plain": [
       "<IPython.core.display.HTML object>"
      ]
     },
     "metadata": {},
     "output_type": "display_data"
    },
    {
     "data": {
      "text/html": [
       " View run at <a href='https://wandb.ai/zamtol/uncategorized/runs/qmjqnp7g' target=\"_blank\">https://wandb.ai/zamtol/uncategorized/runs/qmjqnp7g</a>"
      ],
      "text/plain": [
       "<IPython.core.display.HTML object>"
      ]
     },
     "metadata": {},
     "output_type": "display_data"
    },
    {
     "name": "stdout",
     "output_type": "stream",
     "text": [
      "Epoch 1/200, Loss: 0.7610, Validation Accuracy: 0.5300, AUC: 0.6715\n",
      "Epoch 2/200, Loss: 1.0901, Validation Accuracy: 0.5600, AUC: 0.6386\n",
      "Epoch 3/200, Loss: 0.7480, Validation Accuracy: 0.4850, AUC: 0.5513\n",
      "Epoch 4/200, Loss: 0.7936, Validation Accuracy: 0.4700, AUC: 0.5621\n",
      "Epoch 5/200, Loss: 0.8481, Validation Accuracy: 0.5467, AUC: 0.6465\n",
      "Epoch 6/200, Loss: 0.6939, Validation Accuracy: 0.6450, AUC: 0.7404\n",
      "Epoch 7/200, Loss: 0.6331, Validation Accuracy: 0.5700, AUC: 0.7936\n",
      "Epoch 8/200, Loss: 0.6905, Validation Accuracy: 0.5700, AUC: 0.8189\n",
      "Epoch 9/200, Loss: 0.6978, Validation Accuracy: 0.6083, AUC: 0.8292\n",
      "Epoch 10/200, Loss: 0.6303, Validation Accuracy: 0.7350, AUC: 0.8272\n",
      "Epoch 11/200, Loss: 0.5671, Validation Accuracy: 0.7500, AUC: 0.8188\n",
      "Epoch 12/200, Loss: 0.5751, Validation Accuracy: 0.6633, AUC: 0.8167\n",
      "Epoch 13/200, Loss: 0.6043, Validation Accuracy: 0.7100, AUC: 0.8285\n",
      "Epoch 14/200, Loss: 0.5817, Validation Accuracy: 0.7767, AUC: 0.8461\n",
      "Epoch 15/200, Loss: 0.5338, Validation Accuracy: 0.7667, AUC: 0.8613\n",
      "Epoch 16/200, Loss: 0.5185, Validation Accuracy: 0.7067, AUC: 0.8698\n",
      "Epoch 17/200, Loss: 0.5338, Validation Accuracy: 0.7050, AUC: 0.8731\n",
      "Epoch 18/200, Loss: 0.5397, Validation Accuracy: 0.7183, AUC: 0.8719\n",
      "Epoch 19/200, Loss: 0.5205, Validation Accuracy: 0.7667, AUC: 0.8665\n",
      "Epoch 20/200, Loss: 0.4952, Validation Accuracy: 0.7833, AUC: 0.8613\n",
      "Epoch 21/200, Loss: 0.4884, Validation Accuracy: 0.7717, AUC: 0.8568\n",
      "Epoch 22/200, Loss: 0.4979, Validation Accuracy: 0.7733, AUC: 0.8565\n",
      "Epoch 23/200, Loss: 0.4994, Validation Accuracy: 0.7733, AUC: 0.8609\n",
      "Epoch 24/200, Loss: 0.4849, Validation Accuracy: 0.7850, AUC: 0.8665\n",
      "Epoch 25/200, Loss: 0.4705, Validation Accuracy: 0.7833, AUC: 0.8720\n",
      "Epoch 26/200, Loss: 0.4688, Validation Accuracy: 0.7667, AUC: 0.8757\n",
      "Epoch 27/200, Loss: 0.4735, Validation Accuracy: 0.7667, AUC: 0.8773\n",
      "Epoch 28/200, Loss: 0.4719, Validation Accuracy: 0.7817, AUC: 0.8769\n",
      "Epoch 29/200, Loss: 0.4623, Validation Accuracy: 0.7917, AUC: 0.8753\n",
      "Epoch 30/200, Loss: 0.4533, Validation Accuracy: 0.7883, AUC: 0.8734\n",
      "Epoch 31/200, Loss: 0.4518, Validation Accuracy: 0.7817, AUC: 0.8727\n",
      "Epoch 32/200, Loss: 0.4539, Validation Accuracy: 0.7883, AUC: 0.8743\n",
      "Epoch 33/200, Loss: 0.4516, Validation Accuracy: 0.7883, AUC: 0.8773\n",
      "Epoch 34/200, Loss: 0.4445, Validation Accuracy: 0.7917, AUC: 0.8809\n",
      "Epoch 35/200, Loss: 0.4390, Validation Accuracy: 0.7900, AUC: 0.8839\n",
      "Epoch 36/200, Loss: 0.4381, Validation Accuracy: 0.7983, AUC: 0.8859\n",
      "Epoch 37/200, Loss: 0.4385, Validation Accuracy: 0.7983, AUC: 0.8868\n",
      "Epoch 38/200, Loss: 0.4358, Validation Accuracy: 0.7917, AUC: 0.8869\n",
      "Epoch 39/200, Loss: 0.4309, Validation Accuracy: 0.8050, AUC: 0.8867\n",
      "Epoch 40/200, Loss: 0.4273, Validation Accuracy: 0.8117, AUC: 0.8865\n",
      "Epoch 41/200, Loss: 0.4266, Validation Accuracy: 0.8067, AUC: 0.8870\n",
      "Epoch 42/200, Loss: 0.4262, Validation Accuracy: 0.8117, AUC: 0.8881\n",
      "Epoch 43/200, Loss: 0.4237, Validation Accuracy: 0.8167, AUC: 0.8898\n",
      "Epoch 44/200, Loss: 0.4202, Validation Accuracy: 0.8100, AUC: 0.8915\n",
      "Epoch 45/200, Loss: 0.4181, Validation Accuracy: 0.8050, AUC: 0.8928\n",
      "Epoch 46/200, Loss: 0.4176, Validation Accuracy: 0.8117, AUC: 0.8935\n",
      "Epoch 47/200, Loss: 0.4167, Validation Accuracy: 0.8117, AUC: 0.8939\n",
      "Epoch 48/200, Loss: 0.4146, Validation Accuracy: 0.8167, AUC: 0.8940\n",
      "Epoch 49/200, Loss: 0.4122, Validation Accuracy: 0.8167, AUC: 0.8936\n",
      "Epoch 50/200, Loss: 0.4110, Validation Accuracy: 0.8133, AUC: 0.8937\n",
      "Epoch 51/200, Loss: 0.4105, Validation Accuracy: 0.8150, AUC: 0.8941\n",
      "Epoch 52/200, Loss: 0.4094, Validation Accuracy: 0.8133, AUC: 0.8947\n",
      "Epoch 53/200, Loss: 0.4076, Validation Accuracy: 0.8150, AUC: 0.8954\n",
      "Epoch 54/200, Loss: 0.4060, Validation Accuracy: 0.8133, AUC: 0.8962\n",
      "Epoch 55/200, Loss: 0.4053, Validation Accuracy: 0.8167, AUC: 0.8967\n",
      "Epoch 56/200, Loss: 0.4046, Validation Accuracy: 0.8150, AUC: 0.8969\n",
      "Epoch 57/200, Loss: 0.4035, Validation Accuracy: 0.8183, AUC: 0.8970\n",
      "Epoch 58/200, Loss: 0.4021, Validation Accuracy: 0.8167, AUC: 0.8971\n",
      "Epoch 59/200, Loss: 0.4010, Validation Accuracy: 0.8133, AUC: 0.8971\n",
      "Epoch 60/200, Loss: 0.4004, Validation Accuracy: 0.8150, AUC: 0.8974\n",
      "Epoch 61/200, Loss: 0.3996, Validation Accuracy: 0.8133, AUC: 0.8977\n",
      "Epoch 62/200, Loss: 0.3985, Validation Accuracy: 0.8167, AUC: 0.8979\n",
      "Epoch 63/200, Loss: 0.3975, Validation Accuracy: 0.8200, AUC: 0.8983\n",
      "Epoch 64/200, Loss: 0.3967, Validation Accuracy: 0.8217, AUC: 0.8987\n",
      "Epoch 65/200, Loss: 0.3961, Validation Accuracy: 0.8217, AUC: 0.8990\n",
      "Epoch 66/200, Loss: 0.3953, Validation Accuracy: 0.8167, AUC: 0.8989\n",
      "Epoch 67/200, Loss: 0.3943, Validation Accuracy: 0.8200, AUC: 0.8988\n",
      "Epoch 68/200, Loss: 0.3935, Validation Accuracy: 0.8150, AUC: 0.8988\n",
      "Epoch 69/200, Loss: 0.3929, Validation Accuracy: 0.8133, AUC: 0.8989\n",
      "Epoch 70/200, Loss: 0.3922, Validation Accuracy: 0.8167, AUC: 0.8993\n",
      "Epoch 71/200, Loss: 0.3914, Validation Accuracy: 0.8183, AUC: 0.8996\n",
      "Epoch 72/200, Loss: 0.3907, Validation Accuracy: 0.8183, AUC: 0.9000\n",
      "Epoch 73/200, Loss: 0.3900, Validation Accuracy: 0.8183, AUC: 0.9001\n",
      "Epoch 74/200, Loss: 0.3894, Validation Accuracy: 0.8183, AUC: 0.9003\n",
      "Epoch 75/200, Loss: 0.3888, Validation Accuracy: 0.8183, AUC: 0.9004\n",
      "Epoch 76/200, Loss: 0.3881, Validation Accuracy: 0.8183, AUC: 0.9003\n",
      "Epoch 77/200, Loss: 0.3875, Validation Accuracy: 0.8183, AUC: 0.9003\n",
      "Epoch 78/200, Loss: 0.3869, Validation Accuracy: 0.8183, AUC: 0.9004\n",
      "Epoch 79/200, Loss: 0.3864, Validation Accuracy: 0.8183, AUC: 0.9004\n",
      "Epoch 80/200, Loss: 0.3858, Validation Accuracy: 0.8200, AUC: 0.9005\n",
      "Epoch 81/200, Loss: 0.3852, Validation Accuracy: 0.8233, AUC: 0.9008\n",
      "Epoch 82/200, Loss: 0.3847, Validation Accuracy: 0.8233, AUC: 0.9010\n",
      "Epoch 83/200, Loss: 0.3842, Validation Accuracy: 0.8233, AUC: 0.9010\n",
      "Epoch 84/200, Loss: 0.3836, Validation Accuracy: 0.8217, AUC: 0.9011\n",
      "Epoch 85/200, Loss: 0.3831, Validation Accuracy: 0.8217, AUC: 0.9011\n",
      "Epoch 86/200, Loss: 0.3826, Validation Accuracy: 0.8250, AUC: 0.9011\n",
      "Epoch 87/200, Loss: 0.3821, Validation Accuracy: 0.8250, AUC: 0.9012\n",
      "Epoch 88/200, Loss: 0.3817, Validation Accuracy: 0.8250, AUC: 0.9015\n",
      "Epoch 89/200, Loss: 0.3812, Validation Accuracy: 0.8250, AUC: 0.9016\n",
      "Epoch 90/200, Loss: 0.3807, Validation Accuracy: 0.8233, AUC: 0.9017\n",
      "Epoch 91/200, Loss: 0.3803, Validation Accuracy: 0.8233, AUC: 0.9018\n",
      "Epoch 92/200, Loss: 0.3799, Validation Accuracy: 0.8233, AUC: 0.9020\n",
      "Epoch 93/200, Loss: 0.3794, Validation Accuracy: 0.8250, AUC: 0.9019\n",
      "Epoch 94/200, Loss: 0.3790, Validation Accuracy: 0.8250, AUC: 0.9018\n",
      "Epoch 95/200, Loss: 0.3786, Validation Accuracy: 0.8250, AUC: 0.9019\n",
      "Epoch 96/200, Loss: 0.3782, Validation Accuracy: 0.8250, AUC: 0.9021\n",
      "Epoch 97/200, Loss: 0.3778, Validation Accuracy: 0.8250, AUC: 0.9022\n",
      "Epoch 98/200, Loss: 0.3774, Validation Accuracy: 0.8250, AUC: 0.9022\n",
      "Epoch 99/200, Loss: 0.3770, Validation Accuracy: 0.8250, AUC: 0.9024\n",
      "Epoch 100/200, Loss: 0.3767, Validation Accuracy: 0.8250, AUC: 0.9022\n",
      "Epoch 101/200, Loss: 0.3763, Validation Accuracy: 0.8250, AUC: 0.9022\n",
      "Epoch 102/200, Loss: 0.3759, Validation Accuracy: 0.8267, AUC: 0.9023\n",
      "Epoch 103/200, Loss: 0.3756, Validation Accuracy: 0.8267, AUC: 0.9023\n",
      "Epoch 104/200, Loss: 0.3752, Validation Accuracy: 0.8267, AUC: 0.9024\n",
      "Epoch 105/200, Loss: 0.3749, Validation Accuracy: 0.8250, AUC: 0.9025\n",
      "Epoch 106/200, Loss: 0.3746, Validation Accuracy: 0.8250, AUC: 0.9026\n",
      "Epoch 107/200, Loss: 0.3742, Validation Accuracy: 0.8250, AUC: 0.9026\n",
      "Epoch 108/200, Loss: 0.3739, Validation Accuracy: 0.8250, AUC: 0.9027\n",
      "Epoch 109/200, Loss: 0.3736, Validation Accuracy: 0.8250, AUC: 0.9028\n",
      "Epoch 110/200, Loss: 0.3733, Validation Accuracy: 0.8250, AUC: 0.9030\n",
      "Epoch 111/200, Loss: 0.3730, Validation Accuracy: 0.8250, AUC: 0.9031\n",
      "Epoch 112/200, Loss: 0.3727, Validation Accuracy: 0.8250, AUC: 0.9033\n",
      "Epoch 113/200, Loss: 0.3724, Validation Accuracy: 0.8233, AUC: 0.9034\n",
      "Epoch 114/200, Loss: 0.3721, Validation Accuracy: 0.8233, AUC: 0.9033\n",
      "Epoch 115/200, Loss: 0.3719, Validation Accuracy: 0.8250, AUC: 0.9033\n",
      "Epoch 116/200, Loss: 0.3716, Validation Accuracy: 0.8250, AUC: 0.9033\n",
      "Epoch 117/200, Loss: 0.3713, Validation Accuracy: 0.8250, AUC: 0.9033\n",
      "Epoch 118/200, Loss: 0.3711, Validation Accuracy: 0.8267, AUC: 0.9034\n",
      "Epoch 119/200, Loss: 0.3708, Validation Accuracy: 0.8267, AUC: 0.9035\n",
      "Epoch 120/200, Loss: 0.3705, Validation Accuracy: 0.8267, AUC: 0.9035\n",
      "Epoch 121/200, Loss: 0.3703, Validation Accuracy: 0.8267, AUC: 0.9037\n",
      "Epoch 122/200, Loss: 0.3700, Validation Accuracy: 0.8267, AUC: 0.9038\n",
      "Epoch 123/200, Loss: 0.3698, Validation Accuracy: 0.8267, AUC: 0.9038\n",
      "Epoch 124/200, Loss: 0.3696, Validation Accuracy: 0.8267, AUC: 0.9038\n",
      "Epoch 125/200, Loss: 0.3693, Validation Accuracy: 0.8267, AUC: 0.9040\n",
      "Epoch 126/200, Loss: 0.3691, Validation Accuracy: 0.8250, AUC: 0.9041\n",
      "Epoch 127/200, Loss: 0.3689, Validation Accuracy: 0.8250, AUC: 0.9043\n",
      "Epoch 128/200, Loss: 0.3687, Validation Accuracy: 0.8250, AUC: 0.9043\n",
      "Epoch 129/200, Loss: 0.3685, Validation Accuracy: 0.8250, AUC: 0.9044\n",
      "Epoch 130/200, Loss: 0.3682, Validation Accuracy: 0.8267, AUC: 0.9045\n",
      "Epoch 131/200, Loss: 0.3680, Validation Accuracy: 0.8267, AUC: 0.9046\n",
      "Epoch 132/200, Loss: 0.3678, Validation Accuracy: 0.8267, AUC: 0.9046\n",
      "Epoch 133/200, Loss: 0.3676, Validation Accuracy: 0.8267, AUC: 0.9046\n",
      "Epoch 134/200, Loss: 0.3674, Validation Accuracy: 0.8267, AUC: 0.9046\n",
      "Epoch 135/200, Loss: 0.3672, Validation Accuracy: 0.8267, AUC: 0.9047\n",
      "Epoch 136/200, Loss: 0.3671, Validation Accuracy: 0.8250, AUC: 0.9048\n",
      "Epoch 137/200, Loss: 0.3669, Validation Accuracy: 0.8250, AUC: 0.9049\n",
      "Epoch 138/200, Loss: 0.3667, Validation Accuracy: 0.8233, AUC: 0.9049\n",
      "Epoch 139/200, Loss: 0.3665, Validation Accuracy: 0.8233, AUC: 0.9050\n",
      "Epoch 140/200, Loss: 0.3663, Validation Accuracy: 0.8233, AUC: 0.9049\n",
      "Epoch 141/200, Loss: 0.3662, Validation Accuracy: 0.8233, AUC: 0.9050\n",
      "Epoch 142/200, Loss: 0.3660, Validation Accuracy: 0.8250, AUC: 0.9051\n",
      "Epoch 143/200, Loss: 0.3658, Validation Accuracy: 0.8217, AUC: 0.9051\n",
      "Epoch 144/200, Loss: 0.3657, Validation Accuracy: 0.8217, AUC: 0.9051\n",
      "Epoch 145/200, Loss: 0.3655, Validation Accuracy: 0.8217, AUC: 0.9052\n",
      "Epoch 146/200, Loss: 0.3653, Validation Accuracy: 0.8217, AUC: 0.9052\n",
      "Epoch 147/200, Loss: 0.3652, Validation Accuracy: 0.8233, AUC: 0.9052\n",
      "Epoch 148/200, Loss: 0.3650, Validation Accuracy: 0.8233, AUC: 0.9052\n",
      "Epoch 149/200, Loss: 0.3649, Validation Accuracy: 0.8233, AUC: 0.9053\n",
      "Epoch 150/200, Loss: 0.3647, Validation Accuracy: 0.8233, AUC: 0.9054\n",
      "Epoch 151/200, Loss: 0.3646, Validation Accuracy: 0.8217, AUC: 0.9054\n",
      "Epoch 152/200, Loss: 0.3644, Validation Accuracy: 0.8217, AUC: 0.9054\n",
      "Epoch 153/200, Loss: 0.3643, Validation Accuracy: 0.8217, AUC: 0.9055\n",
      "Epoch 154/200, Loss: 0.3642, Validation Accuracy: 0.8217, AUC: 0.9055\n",
      "Epoch 155/200, Loss: 0.3640, Validation Accuracy: 0.8217, AUC: 0.9056\n",
      "Epoch 156/200, Loss: 0.3639, Validation Accuracy: 0.8233, AUC: 0.9056\n",
      "Epoch 157/200, Loss: 0.3637, Validation Accuracy: 0.8217, AUC: 0.9057\n",
      "Epoch 158/200, Loss: 0.3636, Validation Accuracy: 0.8217, AUC: 0.9057\n",
      "Epoch 159/200, Loss: 0.3635, Validation Accuracy: 0.8217, AUC: 0.9058\n",
      "Epoch 160/200, Loss: 0.3634, Validation Accuracy: 0.8217, AUC: 0.9059\n",
      "Epoch 161/200, Loss: 0.3632, Validation Accuracy: 0.8217, AUC: 0.9059\n",
      "Epoch 162/200, Loss: 0.3631, Validation Accuracy: 0.8217, AUC: 0.9060\n",
      "Epoch 163/200, Loss: 0.3630, Validation Accuracy: 0.8217, AUC: 0.9060\n",
      "Epoch 164/200, Loss: 0.3629, Validation Accuracy: 0.8217, AUC: 0.9060\n",
      "Epoch 165/200, Loss: 0.3628, Validation Accuracy: 0.8217, AUC: 0.9061\n",
      "Epoch 166/200, Loss: 0.3627, Validation Accuracy: 0.8233, AUC: 0.9061\n",
      "Epoch 167/200, Loss: 0.3625, Validation Accuracy: 0.8233, AUC: 0.9062\n",
      "Epoch 168/200, Loss: 0.3624, Validation Accuracy: 0.8233, AUC: 0.9062\n",
      "Epoch 169/200, Loss: 0.3623, Validation Accuracy: 0.8233, AUC: 0.9062\n",
      "Epoch 170/200, Loss: 0.3622, Validation Accuracy: 0.8250, AUC: 0.9063\n",
      "Epoch 171/200, Loss: 0.3621, Validation Accuracy: 0.8250, AUC: 0.9063\n",
      "Epoch 172/200, Loss: 0.3620, Validation Accuracy: 0.8250, AUC: 0.9064\n",
      "Epoch 173/200, Loss: 0.3619, Validation Accuracy: 0.8267, AUC: 0.9064\n",
      "Epoch 174/200, Loss: 0.3618, Validation Accuracy: 0.8267, AUC: 0.9065\n",
      "Epoch 175/200, Loss: 0.3617, Validation Accuracy: 0.8267, AUC: 0.9065\n",
      "Epoch 176/200, Loss: 0.3616, Validation Accuracy: 0.8283, AUC: 0.9066\n",
      "Epoch 177/200, Loss: 0.3615, Validation Accuracy: 0.8283, AUC: 0.9066\n",
      "Epoch 178/200, Loss: 0.3614, Validation Accuracy: 0.8283, AUC: 0.9067\n",
      "Epoch 179/200, Loss: 0.3613, Validation Accuracy: 0.8300, AUC: 0.9066\n",
      "Epoch 180/200, Loss: 0.3612, Validation Accuracy: 0.8300, AUC: 0.9066\n",
      "Epoch 181/200, Loss: 0.3611, Validation Accuracy: 0.8300, AUC: 0.9066\n",
      "Epoch 182/200, Loss: 0.3611, Validation Accuracy: 0.8300, AUC: 0.9065\n",
      "Epoch 183/200, Loss: 0.3610, Validation Accuracy: 0.8283, AUC: 0.9066\n",
      "Epoch 184/200, Loss: 0.3609, Validation Accuracy: 0.8283, AUC: 0.9065\n",
      "Epoch 185/200, Loss: 0.3608, Validation Accuracy: 0.8283, AUC: 0.9065\n",
      "Epoch 186/200, Loss: 0.3607, Validation Accuracy: 0.8283, AUC: 0.9065\n",
      "Epoch 187/200, Loss: 0.3606, Validation Accuracy: 0.8283, AUC: 0.9066\n",
      "Epoch 188/200, Loss: 0.3606, Validation Accuracy: 0.8283, AUC: 0.9066\n",
      "Epoch 189/200, Loss: 0.3605, Validation Accuracy: 0.8283, AUC: 0.9066\n",
      "Epoch 190/200, Loss: 0.3604, Validation Accuracy: 0.8283, AUC: 0.9066\n",
      "Epoch 191/200, Loss: 0.3603, Validation Accuracy: 0.8283, AUC: 0.9066\n",
      "Epoch 192/200, Loss: 0.3602, Validation Accuracy: 0.8283, AUC: 0.9066\n",
      "Epoch 193/200, Loss: 0.3602, Validation Accuracy: 0.8283, AUC: 0.9066\n",
      "Epoch 194/200, Loss: 0.3601, Validation Accuracy: 0.8267, AUC: 0.9066\n",
      "Epoch 195/200, Loss: 0.3600, Validation Accuracy: 0.8283, AUC: 0.9066\n",
      "Epoch 196/200, Loss: 0.3599, Validation Accuracy: 0.8283, AUC: 0.9065\n",
      "Epoch 197/200, Loss: 0.3599, Validation Accuracy: 0.8300, AUC: 0.9066\n",
      "Epoch 198/200, Loss: 0.3598, Validation Accuracy: 0.8300, AUC: 0.9067\n",
      "Epoch 199/200, Loss: 0.3597, Validation Accuracy: 0.8300, AUC: 0.9067\n",
      "Epoch 200/200, Loss: 0.3597, Validation Accuracy: 0.8283, AUC: 0.9067\n"
     ]
    },
    {
     "data": {
      "text/html": [
       "<style>\n",
       "    table.wandb td:nth-child(1) { padding: 0 10px; text-align: left ; width: auto;} td:nth-child(2) {text-align: left ; width: 100%}\n",
       "    .wandb-row { display: flex; flex-direction: row; flex-wrap: wrap; justify-content: flex-start; width: 100% }\n",
       "    .wandb-col { display: flex; flex-direction: column; flex-basis: 100%; flex: 1; padding: 10px; }\n",
       "    </style>\n",
       "<div class=\"wandb-row\"><div class=\"wandb-col\"><h3>Run history:</h3><br/><table class=\"wandb\"><tr><td>Final Best Epoch</td><td>▁</td></tr><tr><td>Final Best Val Accuracy</td><td>▁</td></tr><tr><td>best_epoch</td><td>▁▁▁▁▂▂▂▂▃▃▃▃▃▃▃▃▄▄▄▄▅▅▅▅▅▅▅▅▅▅▅▅▅▅▅█████</td></tr><tr><td>best_val_accuracy</td><td>▁▃▆▇▇▇▇▇████████████████████████████████</td></tr><tr><td>roc_auc</td><td>▁▄▆▇▇▇▇▇████████████████████████████████</td></tr><tr><td>train_loss</td><td>█▄▃▃▂▂▂▂▂▂▁▁▁▁▁▁▁▁▁▁▁▁▁▁▁▁▁▁▁▁▁▁▁▁▁▁▁▁▁▁</td></tr><tr><td>val_accuracy</td><td>▁▃▄▅▇▆▇▇████████████████████████████████</td></tr></table><br/></div><div class=\"wandb-col\"><h3>Run summary:</h3><br/><table class=\"wandb\"><tr><td>Final Best Epoch</td><td>179</td></tr><tr><td>Final Best Val Accuracy</td><td>0.83</td></tr><tr><td>best_epoch</td><td>179</td></tr><tr><td>best_val_accuracy</td><td>0.83</td></tr><tr><td>roc_auc</td><td>0.90671</td></tr><tr><td>train_loss</td><td>0.35967</td></tr><tr><td>val_accuracy</td><td>0.82833</td></tr></table><br/></div></div>"
      ],
      "text/plain": [
       "<IPython.core.display.HTML object>"
      ]
     },
     "metadata": {},
     "output_type": "display_data"
    },
    {
     "data": {
      "text/html": [
       " View run <strong style=\"color:#cdcd00\">desert-sweep-5</strong> at: <a href='https://wandb.ai/zamtol/uncategorized/runs/qmjqnp7g' target=\"_blank\">https://wandb.ai/zamtol/uncategorized/runs/qmjqnp7g</a><br/> View project at: <a href='https://wandb.ai/zamtol/uncategorized' target=\"_blank\">https://wandb.ai/zamtol/uncategorized</a><br/>Synced 5 W&B file(s), 200 media file(s), 0 artifact file(s) and 0 other file(s)"
      ],
      "text/plain": [
       "<IPython.core.display.HTML object>"
      ]
     },
     "metadata": {},
     "output_type": "display_data"
    },
    {
     "data": {
      "text/html": [
       "Find logs at: <code>.\\wandb\\run-20240804_143946-qmjqnp7g\\logs</code>"
      ],
      "text/plain": [
       "<IPython.core.display.HTML object>"
      ]
     },
     "metadata": {},
     "output_type": "display_data"
    },
    {
     "data": {
      "text/html": [
       "The new W&B backend becomes opt-out in version 0.18.0; try it out with `wandb.require(\"core\")`! See https://wandb.me/wandb-core for more information."
      ],
      "text/plain": [
       "<IPython.core.display.HTML object>"
      ]
     },
     "metadata": {},
     "output_type": "display_data"
    },
    {
     "name": "stderr",
     "output_type": "stream",
     "text": [
      "\u001b[34m\u001b[1mwandb\u001b[0m: Agent Starting Run: v3i1vm83 with config:\n",
      "\u001b[34m\u001b[1mwandb\u001b[0m: \tarchitecture: LogisticRegression\n",
      "\u001b[34m\u001b[1mwandb\u001b[0m: \tepochs: 200\n",
      "\u001b[34m\u001b[1mwandb\u001b[0m: \tlearning_rate: 0.05\n",
      "\u001b[34m\u001b[1mwandb\u001b[0m: \tseed: 42\n",
      "\u001b[34m\u001b[1mwandb\u001b[0m: \tweight_decay: 0.0001\n",
      "Failed to detect the name of this notebook, you can set it manually with the WANDB_NOTEBOOK_NAME environment variable to enable code saving.\n"
     ]
    },
    {
     "data": {
      "text/html": [
       "Tracking run with wandb version 0.17.5"
      ],
      "text/plain": [
       "<IPython.core.display.HTML object>"
      ]
     },
     "metadata": {},
     "output_type": "display_data"
    },
    {
     "data": {
      "text/html": [
       "Run data is saved locally in <code>c:\\Users\\ZAMTOL\\git\\hack\\wandb\\run-20240804_144017-v3i1vm83</code>"
      ],
      "text/plain": [
       "<IPython.core.display.HTML object>"
      ]
     },
     "metadata": {},
     "output_type": "display_data"
    },
    {
     "data": {
      "text/html": [
       "Syncing run <strong><a href='https://wandb.ai/zamtol/uncategorized/runs/v3i1vm83' target=\"_blank\">vague-sweep-6</a></strong> to <a href='https://wandb.ai/zamtol/uncategorized' target=\"_blank\">Weights & Biases</a> (<a href='https://wandb.me/run' target=\"_blank\">docs</a>)<br/>Sweep page: <a href='https://wandb.ai/zamtol/uncategorized/sweeps/xrxgo72j' target=\"_blank\">https://wandb.ai/zamtol/uncategorized/sweeps/xrxgo72j</a>"
      ],
      "text/plain": [
       "<IPython.core.display.HTML object>"
      ]
     },
     "metadata": {},
     "output_type": "display_data"
    },
    {
     "data": {
      "text/html": [
       " View project at <a href='https://wandb.ai/zamtol/uncategorized' target=\"_blank\">https://wandb.ai/zamtol/uncategorized</a>"
      ],
      "text/plain": [
       "<IPython.core.display.HTML object>"
      ]
     },
     "metadata": {},
     "output_type": "display_data"
    },
    {
     "data": {
      "text/html": [
       " View sweep at <a href='https://wandb.ai/zamtol/uncategorized/sweeps/xrxgo72j' target=\"_blank\">https://wandb.ai/zamtol/uncategorized/sweeps/xrxgo72j</a>"
      ],
      "text/plain": [
       "<IPython.core.display.HTML object>"
      ]
     },
     "metadata": {},
     "output_type": "display_data"
    },
    {
     "data": {
      "text/html": [
       " View run at <a href='https://wandb.ai/zamtol/uncategorized/runs/v3i1vm83' target=\"_blank\">https://wandb.ai/zamtol/uncategorized/runs/v3i1vm83</a>"
      ],
      "text/plain": [
       "<IPython.core.display.HTML object>"
      ]
     },
     "metadata": {},
     "output_type": "display_data"
    },
    {
     "name": "stdout",
     "output_type": "stream",
     "text": [
      "Epoch 1/200, Loss: 0.7308, Validation Accuracy: 0.4817, AUC: 0.5413\n",
      "Epoch 2/200, Loss: 0.7366, Validation Accuracy: 0.5350, AUC: 0.7097\n",
      "Epoch 3/200, Loss: 0.7028, Validation Accuracy: 0.5350, AUC: 0.7550\n",
      "Epoch 4/200, Loss: 0.6810, Validation Accuracy: 0.6517, AUC: 0.7607\n",
      "Epoch 5/200, Loss: 0.5871, Validation Accuracy: 0.6433, AUC: 0.7592\n",
      "Epoch 6/200, Loss: 0.6214, Validation Accuracy: 0.6800, AUC: 0.7930\n",
      "Epoch 7/200, Loss: 0.5998, Validation Accuracy: 0.7267, AUC: 0.8337\n",
      "Epoch 8/200, Loss: 0.5408, Validation Accuracy: 0.6483, AUC: 0.8555\n",
      "Epoch 9/200, Loss: 0.5469, Validation Accuracy: 0.6200, AUC: 0.8656\n",
      "Epoch 10/200, Loss: 0.5533, Validation Accuracy: 0.6783, AUC: 0.8678\n",
      "Epoch 11/200, Loss: 0.5203, Validation Accuracy: 0.7683, AUC: 0.8647\n",
      "Epoch 12/200, Loss: 0.4954, Validation Accuracy: 0.7833, AUC: 0.8611\n",
      "Epoch 13/200, Loss: 0.5041, Validation Accuracy: 0.7850, AUC: 0.8623\n",
      "Epoch 14/200, Loss: 0.5023, Validation Accuracy: 0.8000, AUC: 0.8682\n",
      "Epoch 15/200, Loss: 0.4786, Validation Accuracy: 0.7733, AUC: 0.8751\n",
      "Epoch 16/200, Loss: 0.4675, Validation Accuracy: 0.7300, AUC: 0.8789\n",
      "Epoch 17/200, Loss: 0.4729, Validation Accuracy: 0.7333, AUC: 0.8806\n",
      "Epoch 18/200, Loss: 0.4701, Validation Accuracy: 0.7700, AUC: 0.8801\n",
      "Epoch 19/200, Loss: 0.4556, Validation Accuracy: 0.8033, AUC: 0.8782\n",
      "Epoch 20/200, Loss: 0.4471, Validation Accuracy: 0.7983, AUC: 0.8766\n",
      "Epoch 21/200, Loss: 0.4499, Validation Accuracy: 0.7967, AUC: 0.8775\n",
      "Epoch 22/200, Loss: 0.4488, Validation Accuracy: 0.8050, AUC: 0.8805\n",
      "Epoch 23/200, Loss: 0.4391, Validation Accuracy: 0.8117, AUC: 0.8843\n",
      "Epoch 24/200, Loss: 0.4328, Validation Accuracy: 0.7933, AUC: 0.8867\n",
      "Epoch 25/200, Loss: 0.4337, Validation Accuracy: 0.7817, AUC: 0.8882\n",
      "Epoch 26/200, Loss: 0.4332, Validation Accuracy: 0.8000, AUC: 0.8885\n",
      "Epoch 27/200, Loss: 0.4272, Validation Accuracy: 0.8083, AUC: 0.8886\n",
      "Epoch 28/200, Loss: 0.4219, Validation Accuracy: 0.8100, AUC: 0.8882\n",
      "Epoch 29/200, Loss: 0.4216, Validation Accuracy: 0.8133, AUC: 0.8882\n",
      "Epoch 30/200, Loss: 0.4215, Validation Accuracy: 0.8117, AUC: 0.8899\n",
      "Epoch 31/200, Loss: 0.4176, Validation Accuracy: 0.8150, AUC: 0.8918\n",
      "Epoch 32/200, Loss: 0.4135, Validation Accuracy: 0.8050, AUC: 0.8937\n",
      "Epoch 33/200, Loss: 0.4127, Validation Accuracy: 0.8050, AUC: 0.8947\n",
      "Epoch 34/200, Loss: 0.4126, Validation Accuracy: 0.8050, AUC: 0.8950\n",
      "Epoch 35/200, Loss: 0.4100, Validation Accuracy: 0.8150, AUC: 0.8948\n",
      "Epoch 36/200, Loss: 0.4069, Validation Accuracy: 0.8133, AUC: 0.8943\n",
      "Epoch 37/200, Loss: 0.4059, Validation Accuracy: 0.8167, AUC: 0.8942\n",
      "Epoch 38/200, Loss: 0.4057, Validation Accuracy: 0.8150, AUC: 0.8949\n",
      "Epoch 39/200, Loss: 0.4039, Validation Accuracy: 0.8167, AUC: 0.8960\n",
      "Epoch 40/200, Loss: 0.4016, Validation Accuracy: 0.8167, AUC: 0.8970\n",
      "Epoch 41/200, Loss: 0.4006, Validation Accuracy: 0.8117, AUC: 0.8975\n",
      "Epoch 42/200, Loss: 0.4002, Validation Accuracy: 0.8133, AUC: 0.8977\n",
      "Epoch 43/200, Loss: 0.3989, Validation Accuracy: 0.8183, AUC: 0.8977\n",
      "Epoch 44/200, Loss: 0.3971, Validation Accuracy: 0.8167, AUC: 0.8977\n",
      "Epoch 45/200, Loss: 0.3962, Validation Accuracy: 0.8217, AUC: 0.8977\n",
      "Epoch 46/200, Loss: 0.3958, Validation Accuracy: 0.8200, AUC: 0.8979\n",
      "Epoch 47/200, Loss: 0.3947, Validation Accuracy: 0.8167, AUC: 0.8982\n",
      "Epoch 48/200, Loss: 0.3933, Validation Accuracy: 0.8183, AUC: 0.8987\n",
      "Epoch 49/200, Loss: 0.3924, Validation Accuracy: 0.8183, AUC: 0.8992\n",
      "Epoch 50/200, Loss: 0.3919, Validation Accuracy: 0.8167, AUC: 0.8994\n",
      "Epoch 51/200, Loss: 0.3910, Validation Accuracy: 0.8183, AUC: 0.8995\n",
      "Epoch 52/200, Loss: 0.3898, Validation Accuracy: 0.8200, AUC: 0.8994\n",
      "Epoch 53/200, Loss: 0.3891, Validation Accuracy: 0.8217, AUC: 0.8995\n",
      "Epoch 54/200, Loss: 0.3885, Validation Accuracy: 0.8217, AUC: 0.8998\n",
      "Epoch 55/200, Loss: 0.3877, Validation Accuracy: 0.8200, AUC: 0.9001\n",
      "Epoch 56/200, Loss: 0.3867, Validation Accuracy: 0.8183, AUC: 0.9003\n",
      "Epoch 57/200, Loss: 0.3861, Validation Accuracy: 0.8200, AUC: 0.9005\n",
      "Epoch 58/200, Loss: 0.3855, Validation Accuracy: 0.8200, AUC: 0.9004\n",
      "Epoch 59/200, Loss: 0.3847, Validation Accuracy: 0.8200, AUC: 0.9003\n",
      "Epoch 60/200, Loss: 0.3839, Validation Accuracy: 0.8217, AUC: 0.9001\n",
      "Epoch 61/200, Loss: 0.3833, Validation Accuracy: 0.8233, AUC: 0.9001\n",
      "Epoch 62/200, Loss: 0.3828, Validation Accuracy: 0.8233, AUC: 0.9003\n",
      "Epoch 63/200, Loss: 0.3821, Validation Accuracy: 0.8233, AUC: 0.9006\n",
      "Epoch 64/200, Loss: 0.3814, Validation Accuracy: 0.8233, AUC: 0.9009\n",
      "Epoch 65/200, Loss: 0.3809, Validation Accuracy: 0.8233, AUC: 0.9008\n",
      "Epoch 66/200, Loss: 0.3803, Validation Accuracy: 0.8217, AUC: 0.9009\n",
      "Epoch 67/200, Loss: 0.3797, Validation Accuracy: 0.8267, AUC: 0.9009\n",
      "Epoch 68/200, Loss: 0.3791, Validation Accuracy: 0.8233, AUC: 0.9010\n",
      "Epoch 69/200, Loss: 0.3786, Validation Accuracy: 0.8233, AUC: 0.9009\n",
      "Epoch 70/200, Loss: 0.3781, Validation Accuracy: 0.8250, AUC: 0.9010\n",
      "Epoch 71/200, Loss: 0.3776, Validation Accuracy: 0.8233, AUC: 0.9013\n",
      "Epoch 72/200, Loss: 0.3771, Validation Accuracy: 0.8217, AUC: 0.9015\n",
      "Epoch 73/200, Loss: 0.3766, Validation Accuracy: 0.8217, AUC: 0.9017\n",
      "Epoch 74/200, Loss: 0.3761, Validation Accuracy: 0.8233, AUC: 0.9017\n",
      "Epoch 75/200, Loss: 0.3756, Validation Accuracy: 0.8233, AUC: 0.9017\n",
      "Epoch 76/200, Loss: 0.3752, Validation Accuracy: 0.8250, AUC: 0.9019\n",
      "Epoch 77/200, Loss: 0.3748, Validation Accuracy: 0.8250, AUC: 0.9019\n",
      "Epoch 78/200, Loss: 0.3743, Validation Accuracy: 0.8250, AUC: 0.9021\n",
      "Epoch 79/200, Loss: 0.3739, Validation Accuracy: 0.8200, AUC: 0.9022\n",
      "Epoch 80/200, Loss: 0.3735, Validation Accuracy: 0.8200, AUC: 0.9023\n",
      "Epoch 81/200, Loss: 0.3731, Validation Accuracy: 0.8217, AUC: 0.9023\n",
      "Epoch 82/200, Loss: 0.3727, Validation Accuracy: 0.8233, AUC: 0.9023\n",
      "Epoch 83/200, Loss: 0.3723, Validation Accuracy: 0.8250, AUC: 0.9024\n",
      "Epoch 84/200, Loss: 0.3719, Validation Accuracy: 0.8233, AUC: 0.9025\n",
      "Epoch 85/200, Loss: 0.3716, Validation Accuracy: 0.8217, AUC: 0.9027\n",
      "Epoch 86/200, Loss: 0.3712, Validation Accuracy: 0.8217, AUC: 0.9028\n",
      "Epoch 87/200, Loss: 0.3709, Validation Accuracy: 0.8217, AUC: 0.9029\n",
      "Epoch 88/200, Loss: 0.3705, Validation Accuracy: 0.8217, AUC: 0.9029\n",
      "Epoch 89/200, Loss: 0.3702, Validation Accuracy: 0.8250, AUC: 0.9030\n",
      "Epoch 90/200, Loss: 0.3699, Validation Accuracy: 0.8233, AUC: 0.9031\n",
      "Epoch 91/200, Loss: 0.3696, Validation Accuracy: 0.8233, AUC: 0.9032\n",
      "Epoch 92/200, Loss: 0.3692, Validation Accuracy: 0.8233, AUC: 0.9034\n",
      "Epoch 93/200, Loss: 0.3689, Validation Accuracy: 0.8233, AUC: 0.9034\n",
      "Epoch 94/200, Loss: 0.3686, Validation Accuracy: 0.8233, AUC: 0.9034\n",
      "Epoch 95/200, Loss: 0.3684, Validation Accuracy: 0.8250, AUC: 0.9035\n",
      "Epoch 96/200, Loss: 0.3681, Validation Accuracy: 0.8233, AUC: 0.9035\n",
      "Epoch 97/200, Loss: 0.3678, Validation Accuracy: 0.8233, AUC: 0.9036\n",
      "Epoch 98/200, Loss: 0.3675, Validation Accuracy: 0.8233, AUC: 0.9037\n",
      "Epoch 99/200, Loss: 0.3673, Validation Accuracy: 0.8233, AUC: 0.9037\n",
      "Epoch 100/200, Loss: 0.3670, Validation Accuracy: 0.8233, AUC: 0.9038\n",
      "Epoch 101/200, Loss: 0.3667, Validation Accuracy: 0.8233, AUC: 0.9039\n",
      "Epoch 102/200, Loss: 0.3665, Validation Accuracy: 0.8233, AUC: 0.9040\n",
      "Epoch 103/200, Loss: 0.3663, Validation Accuracy: 0.8217, AUC: 0.9042\n",
      "Epoch 104/200, Loss: 0.3660, Validation Accuracy: 0.8217, AUC: 0.9044\n",
      "Epoch 105/200, Loss: 0.3658, Validation Accuracy: 0.8217, AUC: 0.9045\n",
      "Epoch 106/200, Loss: 0.3656, Validation Accuracy: 0.8200, AUC: 0.9045\n",
      "Epoch 107/200, Loss: 0.3653, Validation Accuracy: 0.8200, AUC: 0.9046\n",
      "Epoch 108/200, Loss: 0.3651, Validation Accuracy: 0.8183, AUC: 0.9046\n",
      "Epoch 109/200, Loss: 0.3649, Validation Accuracy: 0.8183, AUC: 0.9047\n",
      "Epoch 110/200, Loss: 0.3647, Validation Accuracy: 0.8183, AUC: 0.9047\n",
      "Epoch 111/200, Loss: 0.3645, Validation Accuracy: 0.8167, AUC: 0.9048\n",
      "Epoch 112/200, Loss: 0.3643, Validation Accuracy: 0.8167, AUC: 0.9049\n",
      "Epoch 113/200, Loss: 0.3641, Validation Accuracy: 0.8167, AUC: 0.9051\n",
      "Epoch 114/200, Loss: 0.3639, Validation Accuracy: 0.8200, AUC: 0.9052\n",
      "Epoch 115/200, Loss: 0.3637, Validation Accuracy: 0.8200, AUC: 0.9053\n",
      "Epoch 116/200, Loss: 0.3635, Validation Accuracy: 0.8200, AUC: 0.9054\n",
      "Epoch 117/200, Loss: 0.3634, Validation Accuracy: 0.8200, AUC: 0.9054\n",
      "Epoch 118/200, Loss: 0.3632, Validation Accuracy: 0.8217, AUC: 0.9056\n",
      "Epoch 119/200, Loss: 0.3630, Validation Accuracy: 0.8233, AUC: 0.9056\n",
      "Epoch 120/200, Loss: 0.3628, Validation Accuracy: 0.8233, AUC: 0.9057\n",
      "Epoch 121/200, Loss: 0.3627, Validation Accuracy: 0.8233, AUC: 0.9057\n",
      "Epoch 122/200, Loss: 0.3625, Validation Accuracy: 0.8233, AUC: 0.9057\n",
      "Epoch 123/200, Loss: 0.3624, Validation Accuracy: 0.8250, AUC: 0.9058\n",
      "Epoch 124/200, Loss: 0.3622, Validation Accuracy: 0.8250, AUC: 0.9058\n",
      "Epoch 125/200, Loss: 0.3621, Validation Accuracy: 0.8250, AUC: 0.9059\n",
      "Epoch 126/200, Loss: 0.3619, Validation Accuracy: 0.8250, AUC: 0.9060\n",
      "Epoch 127/200, Loss: 0.3618, Validation Accuracy: 0.8250, AUC: 0.9059\n",
      "Epoch 128/200, Loss: 0.3616, Validation Accuracy: 0.8267, AUC: 0.9060\n",
      "Epoch 129/200, Loss: 0.3615, Validation Accuracy: 0.8267, AUC: 0.9060\n",
      "Epoch 130/200, Loss: 0.3613, Validation Accuracy: 0.8267, AUC: 0.9060\n",
      "Epoch 131/200, Loss: 0.3612, Validation Accuracy: 0.8283, AUC: 0.9061\n",
      "Epoch 132/200, Loss: 0.3611, Validation Accuracy: 0.8283, AUC: 0.9061\n",
      "Epoch 133/200, Loss: 0.3609, Validation Accuracy: 0.8300, AUC: 0.9061\n",
      "Epoch 134/200, Loss: 0.3608, Validation Accuracy: 0.8317, AUC: 0.9062\n",
      "Epoch 135/200, Loss: 0.3607, Validation Accuracy: 0.8317, AUC: 0.9062\n",
      "Epoch 136/200, Loss: 0.3606, Validation Accuracy: 0.8317, AUC: 0.9062\n",
      "Epoch 137/200, Loss: 0.3605, Validation Accuracy: 0.8317, AUC: 0.9063\n",
      "Epoch 138/200, Loss: 0.3603, Validation Accuracy: 0.8317, AUC: 0.9063\n",
      "Epoch 139/200, Loss: 0.3602, Validation Accuracy: 0.8317, AUC: 0.9063\n",
      "Epoch 140/200, Loss: 0.3601, Validation Accuracy: 0.8333, AUC: 0.9063\n",
      "Epoch 141/200, Loss: 0.3600, Validation Accuracy: 0.8333, AUC: 0.9063\n",
      "Epoch 142/200, Loss: 0.3599, Validation Accuracy: 0.8317, AUC: 0.9063\n",
      "Epoch 143/200, Loss: 0.3598, Validation Accuracy: 0.8317, AUC: 0.9064\n",
      "Epoch 144/200, Loss: 0.3597, Validation Accuracy: 0.8317, AUC: 0.9065\n",
      "Epoch 145/200, Loss: 0.3596, Validation Accuracy: 0.8317, AUC: 0.9065\n",
      "Epoch 146/200, Loss: 0.3595, Validation Accuracy: 0.8317, AUC: 0.9065\n",
      "Epoch 147/200, Loss: 0.3594, Validation Accuracy: 0.8317, AUC: 0.9066\n",
      "Epoch 148/200, Loss: 0.3593, Validation Accuracy: 0.8317, AUC: 0.9066\n",
      "Epoch 149/200, Loss: 0.3592, Validation Accuracy: 0.8317, AUC: 0.9066\n",
      "Epoch 150/200, Loss: 0.3591, Validation Accuracy: 0.8300, AUC: 0.9066\n",
      "Epoch 151/200, Loss: 0.3590, Validation Accuracy: 0.8283, AUC: 0.9066\n",
      "Epoch 152/200, Loss: 0.3589, Validation Accuracy: 0.8267, AUC: 0.9067\n",
      "Epoch 153/200, Loss: 0.3589, Validation Accuracy: 0.8267, AUC: 0.9066\n",
      "Epoch 154/200, Loss: 0.3588, Validation Accuracy: 0.8267, AUC: 0.9067\n",
      "Epoch 155/200, Loss: 0.3587, Validation Accuracy: 0.8267, AUC: 0.9067\n",
      "Epoch 156/200, Loss: 0.3586, Validation Accuracy: 0.8267, AUC: 0.9068\n",
      "Epoch 157/200, Loss: 0.3585, Validation Accuracy: 0.8267, AUC: 0.9069\n",
      "Epoch 158/200, Loss: 0.3584, Validation Accuracy: 0.8267, AUC: 0.9068\n",
      "Epoch 159/200, Loss: 0.3584, Validation Accuracy: 0.8267, AUC: 0.9068\n",
      "Epoch 160/200, Loss: 0.3583, Validation Accuracy: 0.8283, AUC: 0.9069\n",
      "Epoch 161/200, Loss: 0.3582, Validation Accuracy: 0.8283, AUC: 0.9070\n",
      "Epoch 162/200, Loss: 0.3581, Validation Accuracy: 0.8283, AUC: 0.9070\n",
      "Epoch 163/200, Loss: 0.3581, Validation Accuracy: 0.8283, AUC: 0.9071\n",
      "Epoch 164/200, Loss: 0.3580, Validation Accuracy: 0.8283, AUC: 0.9071\n",
      "Epoch 165/200, Loss: 0.3579, Validation Accuracy: 0.8283, AUC: 0.9071\n",
      "Epoch 166/200, Loss: 0.3579, Validation Accuracy: 0.8300, AUC: 0.9072\n",
      "Epoch 167/200, Loss: 0.3578, Validation Accuracy: 0.8300, AUC: 0.9072\n",
      "Epoch 168/200, Loss: 0.3577, Validation Accuracy: 0.8300, AUC: 0.9073\n",
      "Epoch 169/200, Loss: 0.3577, Validation Accuracy: 0.8300, AUC: 0.9074\n",
      "Epoch 170/200, Loss: 0.3576, Validation Accuracy: 0.8317, AUC: 0.9074\n",
      "Epoch 171/200, Loss: 0.3575, Validation Accuracy: 0.8317, AUC: 0.9075\n",
      "Epoch 172/200, Loss: 0.3575, Validation Accuracy: 0.8317, AUC: 0.9075\n",
      "Epoch 173/200, Loss: 0.3574, Validation Accuracy: 0.8317, AUC: 0.9075\n",
      "Epoch 174/200, Loss: 0.3574, Validation Accuracy: 0.8317, AUC: 0.9076\n",
      "Epoch 175/200, Loss: 0.3573, Validation Accuracy: 0.8333, AUC: 0.9076\n",
      "Epoch 176/200, Loss: 0.3573, Validation Accuracy: 0.8333, AUC: 0.9076\n",
      "Epoch 177/200, Loss: 0.3572, Validation Accuracy: 0.8333, AUC: 0.9076\n",
      "Epoch 178/200, Loss: 0.3571, Validation Accuracy: 0.8333, AUC: 0.9076\n",
      "Epoch 179/200, Loss: 0.3571, Validation Accuracy: 0.8333, AUC: 0.9076\n",
      "Epoch 180/200, Loss: 0.3570, Validation Accuracy: 0.8333, AUC: 0.9075\n",
      "Epoch 181/200, Loss: 0.3570, Validation Accuracy: 0.8333, AUC: 0.9076\n",
      "Epoch 182/200, Loss: 0.3569, Validation Accuracy: 0.8333, AUC: 0.9076\n",
      "Epoch 183/200, Loss: 0.3569, Validation Accuracy: 0.8333, AUC: 0.9076\n",
      "Epoch 184/200, Loss: 0.3568, Validation Accuracy: 0.8333, AUC: 0.9076\n",
      "Epoch 185/200, Loss: 0.3568, Validation Accuracy: 0.8333, AUC: 0.9077\n",
      "Epoch 186/200, Loss: 0.3567, Validation Accuracy: 0.8333, AUC: 0.9077\n",
      "Epoch 187/200, Loss: 0.3567, Validation Accuracy: 0.8333, AUC: 0.9078\n",
      "Epoch 188/200, Loss: 0.3566, Validation Accuracy: 0.8333, AUC: 0.9078\n",
      "Epoch 189/200, Loss: 0.3566, Validation Accuracy: 0.8333, AUC: 0.9078\n",
      "Epoch 190/200, Loss: 0.3566, Validation Accuracy: 0.8333, AUC: 0.9078\n",
      "Epoch 191/200, Loss: 0.3565, Validation Accuracy: 0.8333, AUC: 0.9078\n",
      "Epoch 192/200, Loss: 0.3565, Validation Accuracy: 0.8333, AUC: 0.9078\n",
      "Epoch 193/200, Loss: 0.3564, Validation Accuracy: 0.8317, AUC: 0.9079\n",
      "Epoch 194/200, Loss: 0.3564, Validation Accuracy: 0.8317, AUC: 0.9079\n",
      "Epoch 195/200, Loss: 0.3563, Validation Accuracy: 0.8317, AUC: 0.9079\n",
      "Epoch 196/200, Loss: 0.3563, Validation Accuracy: 0.8300, AUC: 0.9080\n",
      "Epoch 197/200, Loss: 0.3563, Validation Accuracy: 0.8300, AUC: 0.9080\n",
      "Epoch 198/200, Loss: 0.3562, Validation Accuracy: 0.8300, AUC: 0.9080\n",
      "Epoch 199/200, Loss: 0.3562, Validation Accuracy: 0.8300, AUC: 0.9080\n",
      "Epoch 200/200, Loss: 0.3561, Validation Accuracy: 0.8300, AUC: 0.9080\n"
     ]
    },
    {
     "data": {
      "text/html": [
       "<style>\n",
       "    table.wandb td:nth-child(1) { padding: 0 10px; text-align: left ; width: auto;} td:nth-child(2) {text-align: left ; width: 100%}\n",
       "    .wandb-row { display: flex; flex-direction: row; flex-wrap: wrap; justify-content: flex-start; width: 100% }\n",
       "    .wandb-col { display: flex; flex-direction: column; flex-basis: 100%; flex: 1; padding: 10px; }\n",
       "    </style>\n",
       "<div class=\"wandb-row\"><div class=\"wandb-col\"><h3>Run history:</h3><br/><table class=\"wandb\"><tr><td>Final Best Epoch</td><td>▁</td></tr><tr><td>Final Best Val Accuracy</td><td>▁</td></tr><tr><td>best_epoch</td><td>▁▁▂▂▂▂▂▂▃▃▃▃▄▄▄▄▄▄▄▄▄▄▄▄▄▄██████████████</td></tr><tr><td>best_val_accuracy</td><td>▁▄▇▇▇▇██████████████████████████████████</td></tr><tr><td>roc_auc</td><td>▁▄▆▇▇▇▇█████████████████████████████████</td></tr><tr><td>train_loss</td><td>█▆▄▃▃▂▂▂▂▂▂▂▁▁▁▁▁▁▁▁▁▁▁▁▁▁▁▁▁▁▁▁▁▁▁▁▁▁▁▁</td></tr><tr><td>val_accuracy</td><td>▁▄▇▆▇▇▇█████████████████████████████████</td></tr></table><br/></div><div class=\"wandb-col\"><h3>Run summary:</h3><br/><table class=\"wandb\"><tr><td>Final Best Epoch</td><td>140</td></tr><tr><td>Final Best Val Accuracy</td><td>0.83333</td></tr><tr><td>best_epoch</td><td>140</td></tr><tr><td>best_val_accuracy</td><td>0.83333</td></tr><tr><td>roc_auc</td><td>0.90798</td></tr><tr><td>train_loss</td><td>0.35614</td></tr><tr><td>val_accuracy</td><td>0.83</td></tr></table><br/></div></div>"
      ],
      "text/plain": [
       "<IPython.core.display.HTML object>"
      ]
     },
     "metadata": {},
     "output_type": "display_data"
    },
    {
     "data": {
      "text/html": [
       " View run <strong style=\"color:#cdcd00\">vague-sweep-6</strong> at: <a href='https://wandb.ai/zamtol/uncategorized/runs/v3i1vm83' target=\"_blank\">https://wandb.ai/zamtol/uncategorized/runs/v3i1vm83</a><br/> View project at: <a href='https://wandb.ai/zamtol/uncategorized' target=\"_blank\">https://wandb.ai/zamtol/uncategorized</a><br/>Synced 5 W&B file(s), 200 media file(s), 0 artifact file(s) and 0 other file(s)"
      ],
      "text/plain": [
       "<IPython.core.display.HTML object>"
      ]
     },
     "metadata": {},
     "output_type": "display_data"
    },
    {
     "data": {
      "text/html": [
       "Find logs at: <code>.\\wandb\\run-20240804_144017-v3i1vm83\\logs</code>"
      ],
      "text/plain": [
       "<IPython.core.display.HTML object>"
      ]
     },
     "metadata": {},
     "output_type": "display_data"
    },
    {
     "data": {
      "text/html": [
       "The new W&B backend becomes opt-out in version 0.18.0; try it out with `wandb.require(\"core\")`! See https://wandb.me/wandb-core for more information."
      ],
      "text/plain": [
       "<IPython.core.display.HTML object>"
      ]
     },
     "metadata": {},
     "output_type": "display_data"
    },
    {
     "name": "stderr",
     "output_type": "stream",
     "text": [
      "\u001b[34m\u001b[1mwandb\u001b[0m: Agent Starting Run: hqckfq9x with config:\n",
      "\u001b[34m\u001b[1mwandb\u001b[0m: \tarchitecture: RandomForest\n",
      "\u001b[34m\u001b[1mwandb\u001b[0m: \tepochs: 200\n",
      "\u001b[34m\u001b[1mwandb\u001b[0m: \tlearning_rate: 0.5\n",
      "\u001b[34m\u001b[1mwandb\u001b[0m: \tseed: 42\n",
      "\u001b[34m\u001b[1mwandb\u001b[0m: \tweight_decay: 0.0005\n",
      "Failed to detect the name of this notebook, you can set it manually with the WANDB_NOTEBOOK_NAME environment variable to enable code saving.\n"
     ]
    },
    {
     "data": {
      "text/html": [
       "Tracking run with wandb version 0.17.5"
      ],
      "text/plain": [
       "<IPython.core.display.HTML object>"
      ]
     },
     "metadata": {},
     "output_type": "display_data"
    },
    {
     "data": {
      "text/html": [
       "Run data is saved locally in <code>c:\\Users\\ZAMTOL\\git\\hack\\wandb\\run-20240804_144048-hqckfq9x</code>"
      ],
      "text/plain": [
       "<IPython.core.display.HTML object>"
      ]
     },
     "metadata": {},
     "output_type": "display_data"
    },
    {
     "data": {
      "text/html": [
       "Syncing run <strong><a href='https://wandb.ai/zamtol/uncategorized/runs/hqckfq9x' target=\"_blank\">pious-sweep-7</a></strong> to <a href='https://wandb.ai/zamtol/uncategorized' target=\"_blank\">Weights & Biases</a> (<a href='https://wandb.me/run' target=\"_blank\">docs</a>)<br/>Sweep page: <a href='https://wandb.ai/zamtol/uncategorized/sweeps/xrxgo72j' target=\"_blank\">https://wandb.ai/zamtol/uncategorized/sweeps/xrxgo72j</a>"
      ],
      "text/plain": [
       "<IPython.core.display.HTML object>"
      ]
     },
     "metadata": {},
     "output_type": "display_data"
    },
    {
     "data": {
      "text/html": [
       " View project at <a href='https://wandb.ai/zamtol/uncategorized' target=\"_blank\">https://wandb.ai/zamtol/uncategorized</a>"
      ],
      "text/plain": [
       "<IPython.core.display.HTML object>"
      ]
     },
     "metadata": {},
     "output_type": "display_data"
    },
    {
     "data": {
      "text/html": [
       " View sweep at <a href='https://wandb.ai/zamtol/uncategorized/sweeps/xrxgo72j' target=\"_blank\">https://wandb.ai/zamtol/uncategorized/sweeps/xrxgo72j</a>"
      ],
      "text/plain": [
       "<IPython.core.display.HTML object>"
      ]
     },
     "metadata": {},
     "output_type": "display_data"
    },
    {
     "data": {
      "text/html": [
       " View run at <a href='https://wandb.ai/zamtol/uncategorized/runs/hqckfq9x' target=\"_blank\">https://wandb.ai/zamtol/uncategorized/runs/hqckfq9x</a>"
      ],
      "text/plain": [
       "<IPython.core.display.HTML object>"
      ]
     },
     "metadata": {},
     "output_type": "display_data"
    },
    {
     "name": "stdout",
     "output_type": "stream",
     "text": [
      "Epoch 1/200, Loss: 0.6911, Validation Accuracy: 0.5300, AUC: 0.5000\n",
      "Epoch 2/200, Loss: 133.3985, Validation Accuracy: 0.4700, AUC: 0.5000\n",
      "Epoch 3/200, Loss: 1223.1190, Validation Accuracy: 0.5300, AUC: 0.5340\n",
      "Epoch 4/200, Loss: 10.2221, Validation Accuracy: 0.4700, AUC: 0.5000\n",
      "Epoch 5/200, Loss: 118.5226, Validation Accuracy: 0.5300, AUC: 0.5000\n",
      "Epoch 6/200, Loss: 143.4308, Validation Accuracy: 0.4700, AUC: 0.5000\n",
      "Epoch 7/200, Loss: 141.8136, Validation Accuracy: 0.4700, AUC: 0.4982\n",
      "Epoch 8/200, Loss: 96.3729, Validation Accuracy: 0.5300, AUC: 0.5000\n",
      "Epoch 9/200, Loss: 97.4814, Validation Accuracy: 0.5300, AUC: 0.5000\n",
      "Epoch 10/200, Loss: 247.2188, Validation Accuracy: 0.4700, AUC: 0.4664\n",
      "Epoch 11/200, Loss: 81.4257, Validation Accuracy: 0.5300, AUC: 0.5000\n",
      "Epoch 12/200, Loss: 159.9387, Validation Accuracy: 0.4450, AUC: 0.4061\n",
      "Epoch 13/200, Loss: 9.0090, Validation Accuracy: 0.5300, AUC: 0.7348\n",
      "Epoch 14/200, Loss: 6.3267, Validation Accuracy: 0.7317, AUC: 0.7745\n",
      "Epoch 15/200, Loss: 0.6295, Validation Accuracy: 0.4700, AUC: 0.5043\n",
      "Epoch 16/200, Loss: 1.2023, Validation Accuracy: 0.5300, AUC: 0.5000\n",
      "Epoch 17/200, Loss: 0.7941, Validation Accuracy: 0.5300, AUC: 0.5000\n",
      "Epoch 18/200, Loss: 0.8156, Validation Accuracy: 0.4700, AUC: 0.4964\n",
      "Epoch 19/200, Loss: 1.0119, Validation Accuracy: 0.4100, AUC: 0.3456\n",
      "Epoch 20/200, Loss: 2.1759, Validation Accuracy: 0.5300, AUC: 0.4690\n",
      "Epoch 21/200, Loss: 1.6531, Validation Accuracy: 0.5300, AUC: 0.7364\n",
      "Epoch 22/200, Loss: 4.2887, Validation Accuracy: 0.4700, AUC: 0.5000\n",
      "Epoch 23/200, Loss: 108.9333, Validation Accuracy: 0.4700, AUC: 0.2200\n",
      "Epoch 24/200, Loss: 7.5300, Validation Accuracy: 0.5300, AUC: 0.5000\n",
      "Epoch 25/200, Loss: 5.9728, Validation Accuracy: 0.4700, AUC: 0.5043\n",
      "Epoch 26/200, Loss: 1.0685, Validation Accuracy: 0.5300, AUC: 0.5000\n",
      "Epoch 27/200, Loss: 0.9743, Validation Accuracy: 0.5300, AUC: 0.4970\n",
      "Epoch 28/200, Loss: 0.7821, Validation Accuracy: 0.4700, AUC: 0.4986\n",
      "Epoch 29/200, Loss: 1.0036, Validation Accuracy: 0.4700, AUC: 0.5008\n",
      "Epoch 30/200, Loss: 3.4893, Validation Accuracy: 0.5283, AUC: 0.4896\n",
      "Epoch 31/200, Loss: 4.9710, Validation Accuracy: 0.4700, AUC: 0.5000\n",
      "Epoch 32/200, Loss: 619.1415, Validation Accuracy: 0.5300, AUC: 0.4958\n",
      "Epoch 33/200, Loss: 6.8820, Validation Accuracy: 0.5300, AUC: 0.5000\n",
      "Epoch 34/200, Loss: 4.1689, Validation Accuracy: 0.4700, AUC: 0.5000\n",
      "Epoch 35/200, Loss: 5.2504, Validation Accuracy: 0.4700, AUC: 0.4984\n",
      "Epoch 36/200, Loss: 1.2093, Validation Accuracy: 0.5300, AUC: 0.4986\n",
      "Epoch 37/200, Loss: 4.6451, Validation Accuracy: 0.5300, AUC: 0.5740\n",
      "Epoch 38/200, Loss: 6.0793, Validation Accuracy: 0.5300, AUC: 0.4984\n",
      "Epoch 39/200, Loss: 2.7128, Validation Accuracy: 0.5300, AUC: 0.4965\n",
      "Epoch 40/200, Loss: 1.2414, Validation Accuracy: 0.5300, AUC: 0.4911\n",
      "Epoch 41/200, Loss: 0.6912, Validation Accuracy: 0.4700, AUC: 0.4980\n",
      "Epoch 42/200, Loss: 0.9029, Validation Accuracy: 0.4700, AUC: 0.4792\n",
      "Epoch 43/200, Loss: 1.1076, Validation Accuracy: 0.5300, AUC: 0.7539\n",
      "Epoch 44/200, Loss: 6.2197, Validation Accuracy: 0.4700, AUC: 0.5356\n",
      "Epoch 45/200, Loss: 2.2623, Validation Accuracy: 0.4700, AUC: 0.5001\n",
      "Epoch 46/200, Loss: 1.6346, Validation Accuracy: 0.5300, AUC: 0.5114\n",
      "Epoch 47/200, Loss: 0.6894, Validation Accuracy: 0.5300, AUC: 0.5213\n",
      "Epoch 48/200, Loss: 1.5923, Validation Accuracy: 0.5300, AUC: 0.6343\n",
      "Epoch 49/200, Loss: 2.5229, Validation Accuracy: 0.4700, AUC: 0.5544\n",
      "Epoch 50/200, Loss: 2.0303, Validation Accuracy: 0.4700, AUC: 0.4202\n",
      "Epoch 51/200, Loss: 0.8209, Validation Accuracy: 0.4700, AUC: 0.4862\n",
      "Epoch 52/200, Loss: 0.7239, Validation Accuracy: 0.4183, AUC: 0.3849\n",
      "Epoch 53/200, Loss: 1.0155, Validation Accuracy: 0.5300, AUC: 0.5000\n",
      "Epoch 54/200, Loss: 3.6876, Validation Accuracy: 0.5300, AUC: 0.5000\n",
      "Epoch 55/200, Loss: 3.0337, Validation Accuracy: 0.5300, AUC: 0.5000\n",
      "Epoch 56/200, Loss: 1.5133, Validation Accuracy: 0.4700, AUC: 0.7794\n",
      "Epoch 57/200, Loss: 1.4732, Validation Accuracy: 0.5300, AUC: 0.5000\n",
      "Epoch 58/200, Loss: 11.7530, Validation Accuracy: 0.4700, AUC: 0.2166\n",
      "Epoch 59/200, Loss: 1.1172, Validation Accuracy: 0.4700, AUC: 0.4787\n",
      "Epoch 60/200, Loss: 2.8116, Validation Accuracy: 0.5300, AUC: 0.6819\n",
      "Epoch 61/200, Loss: 2.6106, Validation Accuracy: 0.4700, AUC: 0.2858\n",
      "Epoch 62/200, Loss: 55.0082, Validation Accuracy: 0.5300, AUC: 0.7097\n",
      "Epoch 63/200, Loss: 3.4507, Validation Accuracy: 0.5300, AUC: 0.5000\n",
      "Epoch 64/200, Loss: 2.6496, Validation Accuracy: 0.5300, AUC: 0.4908\n",
      "Epoch 65/200, Loss: 0.7546, Validation Accuracy: 0.4700, AUC: 0.5000\n",
      "Epoch 66/200, Loss: 2.5986, Validation Accuracy: 0.5300, AUC: 0.5000\n",
      "Epoch 67/200, Loss: 1.5069, Validation Accuracy: 0.4700, AUC: 0.5043\n",
      "Epoch 68/200, Loss: 0.7926, Validation Accuracy: 0.5300, AUC: 0.5043\n",
      "Epoch 69/200, Loss: 0.6960, Validation Accuracy: 0.5300, AUC: 0.5043\n",
      "Epoch 70/200, Loss: 0.7960, Validation Accuracy: 0.4700, AUC: 0.5043\n",
      "Epoch 71/200, Loss: 3.7615, Validation Accuracy: 0.4700, AUC: 0.5315\n",
      "Epoch 72/200, Loss: 0.7502, Validation Accuracy: 0.5300, AUC: 0.5877\n",
      "Epoch 73/200, Loss: 2.6940, Validation Accuracy: 0.4700, AUC: 0.2404\n",
      "Epoch 74/200, Loss: 0.8019, Validation Accuracy: 0.5300, AUC: 0.5000\n",
      "Epoch 75/200, Loss: 1.0254, Validation Accuracy: 0.4700, AUC: 0.3523\n",
      "Epoch 76/200, Loss: 3.0306, Validation Accuracy: 0.5300, AUC: 0.5000\n",
      "Epoch 77/200, Loss: 1.3600, Validation Accuracy: 0.5300, AUC: 0.4984\n",
      "Epoch 78/200, Loss: 1.3310, Validation Accuracy: 0.4700, AUC: 0.4817\n",
      "Epoch 79/200, Loss: 3.0752, Validation Accuracy: 0.5300, AUC: 0.4957\n",
      "Epoch 80/200, Loss: 0.9714, Validation Accuracy: 0.5300, AUC: 0.4969\n",
      "Epoch 81/200, Loss: 0.9566, Validation Accuracy: 0.4700, AUC: 0.4957\n",
      "Epoch 82/200, Loss: 1.4431, Validation Accuracy: 0.5300, AUC: 0.5043\n",
      "Epoch 83/200, Loss: 0.7832, Validation Accuracy: 0.4950, AUC: 0.5585\n",
      "Epoch 84/200, Loss: 0.6769, Validation Accuracy: 0.5300, AUC: 0.2612\n",
      "Epoch 85/200, Loss: 4.9585, Validation Accuracy: 0.4700, AUC: 0.5124\n",
      "Epoch 86/200, Loss: 2.2326, Validation Accuracy: 0.5300, AUC: 0.7437\n",
      "Epoch 87/200, Loss: 0.9028, Validation Accuracy: 0.5300, AUC: 0.4923\n",
      "Epoch 88/200, Loss: 0.7121, Validation Accuracy: 0.4700, AUC: 0.7424\n",
      "Epoch 89/200, Loss: 2.6241, Validation Accuracy: 0.5300, AUC: 0.6830\n",
      "Epoch 90/200, Loss: 1.3609, Validation Accuracy: 0.5300, AUC: 0.2434\n",
      "Epoch 91/200, Loss: 1.1148, Validation Accuracy: 0.4700, AUC: 0.2222\n",
      "Epoch 92/200, Loss: 5.4644, Validation Accuracy: 0.5300, AUC: 0.7900\n",
      "Epoch 93/200, Loss: 0.6992, Validation Accuracy: 0.5300, AUC: 0.4957\n",
      "Epoch 94/200, Loss: 0.7814, Validation Accuracy: 0.5300, AUC: 0.5043\n",
      "Epoch 95/200, Loss: 0.6905, Validation Accuracy: 0.4700, AUC: 0.7838\n",
      "Epoch 96/200, Loss: 0.7485, Validation Accuracy: 0.5300, AUC: 0.5000\n",
      "Epoch 97/200, Loss: 50.9601, Validation Accuracy: 0.5300, AUC: 0.7915\n",
      "Epoch 98/200, Loss: 1.0852, Validation Accuracy: 0.4700, AUC: 0.4957\n",
      "Epoch 99/200, Loss: 3.2691, Validation Accuracy: 0.4700, AUC: 0.4957\n",
      "Epoch 100/200, Loss: 3.1650, Validation Accuracy: 0.4700, AUC: 0.5000\n",
      "Epoch 101/200, Loss: 1.8828, Validation Accuracy: 0.4700, AUC: 0.5000\n",
      "Epoch 102/200, Loss: 0.6960, Validation Accuracy: 0.5300, AUC: 0.5000\n",
      "Epoch 103/200, Loss: 1.2714, Validation Accuracy: 0.5300, AUC: 0.5000\n",
      "Epoch 104/200, Loss: 1.3115, Validation Accuracy: 0.5300, AUC: 0.5000\n",
      "Epoch 105/200, Loss: 1.2157, Validation Accuracy: 0.5300, AUC: 0.5043\n",
      "Epoch 106/200, Loss: 0.9108, Validation Accuracy: 0.5300, AUC: 0.5000\n",
      "Epoch 107/200, Loss: 0.7293, Validation Accuracy: 0.4700, AUC: 0.5043\n",
      "Epoch 108/200, Loss: 0.8067, Validation Accuracy: 0.4700, AUC: 0.5000\n",
      "Epoch 109/200, Loss: 0.9030, Validation Accuracy: 0.4700, AUC: 0.5000\n",
      "Epoch 110/200, Loss: 0.7054, Validation Accuracy: 0.5300, AUC: 0.5000\n",
      "Epoch 111/200, Loss: 3.4626, Validation Accuracy: 0.4700, AUC: 0.4957\n",
      "Epoch 112/200, Loss: 1.8148, Validation Accuracy: 0.5300, AUC: 0.5000\n",
      "Epoch 113/200, Loss: 1.4752, Validation Accuracy: 0.4700, AUC: 0.5000\n",
      "Epoch 114/200, Loss: 0.7086, Validation Accuracy: 0.4700, AUC: 0.5043\n",
      "Epoch 115/200, Loss: 0.7729, Validation Accuracy: 0.4700, AUC: 0.5000\n",
      "Epoch 116/200, Loss: 0.7200, Validation Accuracy: 0.5300, AUC: 0.5000\n",
      "Epoch 117/200, Loss: 0.6896, Validation Accuracy: 0.5300, AUC: 0.5000\n",
      "Epoch 118/200, Loss: 0.7096, Validation Accuracy: 0.5300, AUC: 0.5000\n",
      "Epoch 119/200, Loss: 0.7173, Validation Accuracy: 0.5300, AUC: 0.5000\n",
      "Epoch 120/200, Loss: 0.6998, Validation Accuracy: 0.5300, AUC: 0.5043\n",
      "Epoch 121/200, Loss: 0.6878, Validation Accuracy: 0.4700, AUC: 0.5000\n",
      "Epoch 122/200, Loss: 0.7048, Validation Accuracy: 0.5300, AUC: 0.5000\n",
      "Epoch 123/200, Loss: 0.6889, Validation Accuracy: 0.5300, AUC: 0.4957\n",
      "Epoch 124/200, Loss: 0.6946, Validation Accuracy: 0.5300, AUC: 0.5000\n",
      "Epoch 125/200, Loss: 0.6878, Validation Accuracy: 0.4700, AUC: 0.5000\n",
      "Epoch 126/200, Loss: 0.6933, Validation Accuracy: 0.5300, AUC: 0.5000\n",
      "Epoch 127/200, Loss: 0.6922, Validation Accuracy: 0.5300, AUC: 0.5000\n",
      "Epoch 128/200, Loss: 0.6882, Validation Accuracy: 0.5300, AUC: 0.4957\n",
      "Epoch 129/200, Loss: 0.6888, Validation Accuracy: 0.5300, AUC: 0.5000\n",
      "Epoch 130/200, Loss: 0.6904, Validation Accuracy: 0.5300, AUC: 0.5000\n",
      "Epoch 131/200, Loss: 0.6885, Validation Accuracy: 0.5300, AUC: 0.4957\n",
      "Epoch 132/200, Loss: 0.6880, Validation Accuracy: 0.5300, AUC: 0.5000\n",
      "Epoch 133/200, Loss: 0.6987, Validation Accuracy: 0.4700, AUC: 0.5000\n",
      "Epoch 134/200, Loss: 0.7057, Validation Accuracy: 0.4700, AUC: 0.5000\n",
      "Epoch 135/200, Loss: 0.7034, Validation Accuracy: 0.5300, AUC: 0.5000\n",
      "Epoch 136/200, Loss: 0.6898, Validation Accuracy: 0.5300, AUC: 0.5000\n",
      "Epoch 137/200, Loss: 0.6903, Validation Accuracy: 0.5300, AUC: 0.5043\n",
      "Epoch 138/200, Loss: 0.6979, Validation Accuracy: 0.5300, AUC: 0.5000\n",
      "Epoch 139/200, Loss: 0.6925, Validation Accuracy: 0.4700, AUC: 0.3492\n",
      "Epoch 140/200, Loss: 0.7864, Validation Accuracy: 0.5300, AUC: 0.5043\n",
      "Epoch 141/200, Loss: 0.7041, Validation Accuracy: 0.5300, AUC: 0.5043\n",
      "Epoch 142/200, Loss: 0.7111, Validation Accuracy: 0.5300, AUC: 0.5000\n",
      "Epoch 143/200, Loss: 0.6980, Validation Accuracy: 0.5300, AUC: 0.5000\n",
      "Epoch 144/200, Loss: 0.6880, Validation Accuracy: 0.5300, AUC: 0.5000\n",
      "Epoch 145/200, Loss: 0.6913, Validation Accuracy: 0.4700, AUC: 0.5000\n",
      "Epoch 146/200, Loss: 0.6963, Validation Accuracy: 0.5300, AUC: 0.5000\n",
      "Epoch 147/200, Loss: 0.6880, Validation Accuracy: 0.5300, AUC: 0.7408\n",
      "Epoch 148/200, Loss: 0.7108, Validation Accuracy: 0.4700, AUC: 0.5000\n",
      "Epoch 149/200, Loss: 0.6945, Validation Accuracy: 0.4700, AUC: 0.4957\n",
      "Epoch 150/200, Loss: 0.7043, Validation Accuracy: 0.4700, AUC: 0.5000\n",
      "Epoch 151/200, Loss: 0.6971, Validation Accuracy: 0.5300, AUC: 0.5000\n",
      "Epoch 152/200, Loss: 0.6963, Validation Accuracy: 0.5300, AUC: 0.2809\n",
      "Epoch 153/200, Loss: 0.6892, Validation Accuracy: 0.4700, AUC: 0.7623\n",
      "Epoch 154/200, Loss: 0.6983, Validation Accuracy: 0.4583, AUC: 0.2338\n",
      "Epoch 155/200, Loss: 0.7104, Validation Accuracy: 0.5300, AUC: 0.7674\n",
      "Epoch 156/200, Loss: 2.3005, Validation Accuracy: 0.4700, AUC: 0.5000\n",
      "Epoch 157/200, Loss: 0.6971, Validation Accuracy: 0.4700, AUC: 0.5000\n",
      "Epoch 158/200, Loss: 0.7237, Validation Accuracy: 0.5300, AUC: 0.5000\n",
      "Epoch 159/200, Loss: 0.7225, Validation Accuracy: 0.4700, AUC: 0.6814\n",
      "Epoch 160/200, Loss: 0.7048, Validation Accuracy: 0.4700, AUC: 0.5000\n",
      "Epoch 161/200, Loss: 0.6998, Validation Accuracy: 0.5300, AUC: 0.5000\n",
      "Epoch 162/200, Loss: 3.3593, Validation Accuracy: 0.4700, AUC: 0.4029\n",
      "Epoch 163/200, Loss: 1.7999, Validation Accuracy: 0.4700, AUC: 0.2068\n",
      "Epoch 164/200, Loss: 0.7870, Validation Accuracy: 0.5300, AUC: 0.5000\n",
      "Epoch 165/200, Loss: 0.6910, Validation Accuracy: 0.5300, AUC: 0.5409\n",
      "Epoch 166/200, Loss: 0.7193, Validation Accuracy: 0.5300, AUC: 0.7428\n",
      "Epoch 167/200, Loss: 0.7494, Validation Accuracy: 0.5300, AUC: 0.7737\n",
      "Epoch 168/200, Loss: 0.7085, Validation Accuracy: 0.4700, AUC: 0.7826\n",
      "Epoch 169/200, Loss: 0.7196, Validation Accuracy: 0.4700, AUC: 0.2246\n",
      "Epoch 170/200, Loss: 1.0907, Validation Accuracy: 0.5300, AUC: 0.7743\n",
      "Epoch 171/200, Loss: 0.7300, Validation Accuracy: 0.4700, AUC: 0.7762\n",
      "Epoch 172/200, Loss: 0.7466, Validation Accuracy: 0.5300, AUC: 0.5283\n",
      "Epoch 173/200, Loss: 0.8521, Validation Accuracy: 0.5300, AUC: 0.8005\n",
      "Epoch 174/200, Loss: 0.6848, Validation Accuracy: 0.5300, AUC: 0.7956\n",
      "Epoch 175/200, Loss: 2.0575, Validation Accuracy: 0.4700, AUC: 0.5000\n",
      "Epoch 176/200, Loss: 207.4775, Validation Accuracy: 0.4700, AUC: 0.5043\n",
      "Epoch 177/200, Loss: 1.2960, Validation Accuracy: 0.5300, AUC: 0.5000\n",
      "Epoch 178/200, Loss: 0.7631, Validation Accuracy: 0.5300, AUC: 0.5018\n",
      "Epoch 179/200, Loss: 0.9833, Validation Accuracy: 0.5300, AUC: 0.7255\n",
      "Epoch 180/200, Loss: 0.9020, Validation Accuracy: 0.5300, AUC: 0.5000\n",
      "Epoch 181/200, Loss: 0.7137, Validation Accuracy: 0.4700, AUC: 0.5971\n",
      "Epoch 182/200, Loss: 18.5805, Validation Accuracy: 0.5300, AUC: 0.6736\n",
      "Epoch 183/200, Loss: 0.7208, Validation Accuracy: 0.5300, AUC: 0.5000\n",
      "Epoch 184/200, Loss: 0.7157, Validation Accuracy: 0.5300, AUC: 0.5000\n",
      "Epoch 185/200, Loss: 0.7077, Validation Accuracy: 0.5300, AUC: 0.5043\n",
      "Epoch 186/200, Loss: 0.6905, Validation Accuracy: 0.4700, AUC: 0.6665\n",
      "Epoch 187/200, Loss: 0.8347, Validation Accuracy: 0.5300, AUC: 0.7322\n",
      "Epoch 188/200, Loss: 2.4280, Validation Accuracy: 0.5300, AUC: 0.5000\n",
      "Epoch 189/200, Loss: 0.6932, Validation Accuracy: 0.4700, AUC: 0.5000\n",
      "Epoch 190/200, Loss: 0.9967, Validation Accuracy: 0.4700, AUC: 0.5000\n",
      "Epoch 191/200, Loss: 0.9011, Validation Accuracy: 0.4700, AUC: 0.5008\n",
      "Epoch 192/200, Loss: 0.7552, Validation Accuracy: 0.4700, AUC: 0.5000\n",
      "Epoch 193/200, Loss: 0.7045, Validation Accuracy: 0.5300, AUC: 0.5000\n",
      "Epoch 194/200, Loss: 0.6880, Validation Accuracy: 0.5300, AUC: 0.5000\n",
      "Epoch 195/200, Loss: 0.7076, Validation Accuracy: 0.5300, AUC: 0.5000\n",
      "Epoch 196/200, Loss: 0.7262, Validation Accuracy: 0.5300, AUC: 0.4957\n",
      "Epoch 197/200, Loss: 0.7253, Validation Accuracy: 0.5300, AUC: 0.5000\n",
      "Epoch 198/200, Loss: 0.7022, Validation Accuracy: 0.4700, AUC: 0.4949\n",
      "Epoch 199/200, Loss: 0.7558, Validation Accuracy: 0.5300, AUC: 0.5000\n",
      "Epoch 200/200, Loss: 0.6908, Validation Accuracy: 0.5300, AUC: 0.5000\n"
     ]
    },
    {
     "data": {
      "text/html": [
       "<style>\n",
       "    table.wandb td:nth-child(1) { padding: 0 10px; text-align: left ; width: auto;} td:nth-child(2) {text-align: left ; width: 100%}\n",
       "    .wandb-row { display: flex; flex-direction: row; flex-wrap: wrap; justify-content: flex-start; width: 100% }\n",
       "    .wandb-col { display: flex; flex-direction: column; flex-basis: 100%; flex: 1; padding: 10px; }\n",
       "    </style>\n",
       "<div class=\"wandb-row\"><div class=\"wandb-col\"><h3>Run history:</h3><br/><table class=\"wandb\"><tr><td>Final Best Epoch</td><td>▁</td></tr><tr><td>Final Best Val Accuracy</td><td>▁</td></tr><tr><td>best_epoch</td><td>▁▁▁█████████████████████████████████████</td></tr><tr><td>best_val_accuracy</td><td>▁▁▁█████████████████████████████████████</td></tr><tr><td>roc_auc</td><td>▄▄▃▄▄▄▄▄▄▄▃█▇▄▅▄▄▇█▄▄▄▄▄▄▄▄▄▄▄▁▄▄██▄▄▄▄▄</td></tr><tr><td>train_loss</td><td>▃▃▃▁▁▁█▁▁▁▁▁▂▁▁▁▁▁▁▁▁▁▁▁▁▁▁▁▁▁▁▁▁▁▁▁▁▁▁▁</td></tr><tr><td>val_accuracy</td><td>▄▄▃█▄███▄█▁▄███▄█▄█▄█▄████▄██▄▄██▄██████</td></tr></table><br/></div><div class=\"wandb-col\"><h3>Run summary:</h3><br/><table class=\"wandb\"><tr><td>Final Best Epoch</td><td>14</td></tr><tr><td>Final Best Val Accuracy</td><td>0.73167</td></tr><tr><td>best_epoch</td><td>14</td></tr><tr><td>best_val_accuracy</td><td>0.73167</td></tr><tr><td>roc_auc</td><td>0.5</td></tr><tr><td>train_loss</td><td>0.69084</td></tr><tr><td>val_accuracy</td><td>0.53</td></tr></table><br/></div></div>"
      ],
      "text/plain": [
       "<IPython.core.display.HTML object>"
      ]
     },
     "metadata": {},
     "output_type": "display_data"
    },
    {
     "data": {
      "text/html": [
       " View run <strong style=\"color:#cdcd00\">pious-sweep-7</strong> at: <a href='https://wandb.ai/zamtol/uncategorized/runs/hqckfq9x' target=\"_blank\">https://wandb.ai/zamtol/uncategorized/runs/hqckfq9x</a><br/> View project at: <a href='https://wandb.ai/zamtol/uncategorized' target=\"_blank\">https://wandb.ai/zamtol/uncategorized</a><br/>Synced 5 W&B file(s), 199 media file(s), 0 artifact file(s) and 0 other file(s)"
      ],
      "text/plain": [
       "<IPython.core.display.HTML object>"
      ]
     },
     "metadata": {},
     "output_type": "display_data"
    },
    {
     "data": {
      "text/html": [
       "Find logs at: <code>.\\wandb\\run-20240804_144048-hqckfq9x\\logs</code>"
      ],
      "text/plain": [
       "<IPython.core.display.HTML object>"
      ]
     },
     "metadata": {},
     "output_type": "display_data"
    },
    {
     "data": {
      "text/html": [
       "The new W&B backend becomes opt-out in version 0.18.0; try it out with `wandb.require(\"core\")`! See https://wandb.me/wandb-core for more information."
      ],
      "text/plain": [
       "<IPython.core.display.HTML object>"
      ]
     },
     "metadata": {},
     "output_type": "display_data"
    },
    {
     "name": "stderr",
     "output_type": "stream",
     "text": [
      "\u001b[34m\u001b[1mwandb\u001b[0m: Sweep Agent: Waiting for job.\n",
      "\u001b[34m\u001b[1mwandb\u001b[0m: Job received.\n",
      "\u001b[34m\u001b[1mwandb\u001b[0m: Agent Starting Run: 8ev1n6le with config:\n",
      "\u001b[34m\u001b[1mwandb\u001b[0m: \tarchitecture: RandomForest\n",
      "\u001b[34m\u001b[1mwandb\u001b[0m: \tepochs: 200\n",
      "\u001b[34m\u001b[1mwandb\u001b[0m: \tlearning_rate: 0.5\n",
      "\u001b[34m\u001b[1mwandb\u001b[0m: \tseed: 42\n",
      "\u001b[34m\u001b[1mwandb\u001b[0m: \tweight_decay: 0.0001\n",
      "Failed to detect the name of this notebook, you can set it manually with the WANDB_NOTEBOOK_NAME environment variable to enable code saving.\n"
     ]
    },
    {
     "data": {
      "text/html": [
       "Tracking run with wandb version 0.17.5"
      ],
      "text/plain": [
       "<IPython.core.display.HTML object>"
      ]
     },
     "metadata": {},
     "output_type": "display_data"
    },
    {
     "data": {
      "text/html": [
       "Run data is saved locally in <code>c:\\Users\\ZAMTOL\\git\\hack\\wandb\\run-20240804_144129-8ev1n6le</code>"
      ],
      "text/plain": [
       "<IPython.core.display.HTML object>"
      ]
     },
     "metadata": {},
     "output_type": "display_data"
    },
    {
     "data": {
      "text/html": [
       "Syncing run <strong><a href='https://wandb.ai/zamtol/uncategorized/runs/8ev1n6le' target=\"_blank\">whole-sweep-8</a></strong> to <a href='https://wandb.ai/zamtol/uncategorized' target=\"_blank\">Weights & Biases</a> (<a href='https://wandb.me/run' target=\"_blank\">docs</a>)<br/>Sweep page: <a href='https://wandb.ai/zamtol/uncategorized/sweeps/xrxgo72j' target=\"_blank\">https://wandb.ai/zamtol/uncategorized/sweeps/xrxgo72j</a>"
      ],
      "text/plain": [
       "<IPython.core.display.HTML object>"
      ]
     },
     "metadata": {},
     "output_type": "display_data"
    },
    {
     "data": {
      "text/html": [
       " View project at <a href='https://wandb.ai/zamtol/uncategorized' target=\"_blank\">https://wandb.ai/zamtol/uncategorized</a>"
      ],
      "text/plain": [
       "<IPython.core.display.HTML object>"
      ]
     },
     "metadata": {},
     "output_type": "display_data"
    },
    {
     "data": {
      "text/html": [
       " View sweep at <a href='https://wandb.ai/zamtol/uncategorized/sweeps/xrxgo72j' target=\"_blank\">https://wandb.ai/zamtol/uncategorized/sweeps/xrxgo72j</a>"
      ],
      "text/plain": [
       "<IPython.core.display.HTML object>"
      ]
     },
     "metadata": {},
     "output_type": "display_data"
    },
    {
     "data": {
      "text/html": [
       " View run at <a href='https://wandb.ai/zamtol/uncategorized/runs/8ev1n6le' target=\"_blank\">https://wandb.ai/zamtol/uncategorized/runs/8ev1n6le</a>"
      ],
      "text/plain": [
       "<IPython.core.display.HTML object>"
      ]
     },
     "metadata": {},
     "output_type": "display_data"
    },
    {
     "name": "stdout",
     "output_type": "stream",
     "text": [
      "Epoch 1/200, Loss: 0.6931, Validation Accuracy: 0.5300, AUC: 0.5000\n",
      "Epoch 2/200, Loss: 1527.8683, Validation Accuracy: 0.4700, AUC: 0.5000\n",
      "Epoch 3/200, Loss: 656.3652, Validation Accuracy: 0.5300, AUC: 0.5000\n",
      "Epoch 4/200, Loss: 71.7698, Validation Accuracy: 0.4700, AUC: 0.5000\n",
      "Epoch 5/200, Loss: 457.7717, Validation Accuracy: 0.5300, AUC: 0.5000\n",
      "Epoch 6/200, Loss: 2041.1146, Validation Accuracy: 0.4700, AUC: 0.5000\n",
      "Epoch 7/200, Loss: 172.3205, Validation Accuracy: 0.5300, AUC: 0.5000\n",
      "Epoch 8/200, Loss: 627.5569, Validation Accuracy: 0.5300, AUC: 0.5000\n",
      "Epoch 9/200, Loss: 43.8465, Validation Accuracy: 0.4700, AUC: 0.5000\n",
      "Epoch 10/200, Loss: 868.0389, Validation Accuracy: 0.5300, AUC: 0.5213\n",
      "Epoch 11/200, Loss: 11.0836, Validation Accuracy: 0.4700, AUC: 0.2574\n",
      "Epoch 12/200, Loss: 37.6819, Validation Accuracy: 0.4700, AUC: 0.2842\n",
      "Epoch 13/200, Loss: 2.7729, Validation Accuracy: 0.5300, AUC: 0.5000\n",
      "Epoch 14/200, Loss: 19.0696, Validation Accuracy: 0.4700, AUC: 0.2600\n",
      "Epoch 15/200, Loss: 34.5558, Validation Accuracy: 0.5300, AUC: 0.5000\n",
      "Epoch 16/200, Loss: 377.3873, Validation Accuracy: 0.5300, AUC: 0.5000\n",
      "Epoch 17/200, Loss: 589.2872, Validation Accuracy: 0.5300, AUC: 0.3147\n",
      "Epoch 18/200, Loss: 0.7627, Validation Accuracy: 0.4700, AUC: 0.3945\n",
      "Epoch 19/200, Loss: 0.8898, Validation Accuracy: 0.4683, AUC: 0.2752\n",
      "Epoch 20/200, Loss: 19.7193, Validation Accuracy: 0.5300, AUC: 0.5124\n",
      "Epoch 21/200, Loss: 40.2714, Validation Accuracy: 0.4350, AUC: 0.3040\n",
      "Epoch 22/200, Loss: 1.1079, Validation Accuracy: 0.4700, AUC: 0.3681\n",
      "Epoch 23/200, Loss: 34.7294, Validation Accuracy: 0.5300, AUC: 0.5000\n",
      "Epoch 24/200, Loss: 134.1309, Validation Accuracy: 0.4700, AUC: 0.2627\n",
      "Epoch 25/200, Loss: 39.1540, Validation Accuracy: 0.5300, AUC: 0.5000\n",
      "Epoch 26/200, Loss: 39.6920, Validation Accuracy: 0.5300, AUC: 0.5043\n",
      "Epoch 27/200, Loss: 1.1040, Validation Accuracy: 0.4700, AUC: 0.5043\n",
      "Epoch 28/200, Loss: 0.9122, Validation Accuracy: 0.4700, AUC: 0.5043\n",
      "Epoch 29/200, Loss: 1.3937, Validation Accuracy: 0.4700, AUC: 0.4957\n",
      "Epoch 30/200, Loss: 0.7107, Validation Accuracy: 0.5300, AUC: 0.5000\n",
      "Epoch 31/200, Loss: 0.9947, Validation Accuracy: 0.4750, AUC: 0.5137\n",
      "Epoch 32/200, Loss: 0.7866, Validation Accuracy: 0.5917, AUC: 0.5717\n",
      "Epoch 33/200, Loss: 0.9059, Validation Accuracy: 0.4700, AUC: 0.5031\n",
      "Epoch 34/200, Loss: 2.0197, Validation Accuracy: 0.5300, AUC: 0.4953\n",
      "Epoch 35/200, Loss: 1.4971, Validation Accuracy: 0.5300, AUC: 0.4915\n",
      "Epoch 36/200, Loss: 0.7744, Validation Accuracy: 0.4700, AUC: 0.4957\n",
      "Epoch 37/200, Loss: 3.3898, Validation Accuracy: 0.5300, AUC: 0.5043\n",
      "Epoch 38/200, Loss: 0.8087, Validation Accuracy: 0.5300, AUC: 0.7563\n",
      "Epoch 39/200, Loss: 2.4442, Validation Accuracy: 0.4700, AUC: 0.4969\n",
      "Epoch 40/200, Loss: 2.9249, Validation Accuracy: 0.4717, AUC: 0.3867\n",
      "Epoch 41/200, Loss: 30.3132, Validation Accuracy: 0.5300, AUC: 0.5000\n",
      "Epoch 42/200, Loss: 1.0354, Validation Accuracy: 0.5300, AUC: 0.5000\n",
      "Epoch 43/200, Loss: 0.7277, Validation Accuracy: 0.4700, AUC: 0.5043\n",
      "Epoch 44/200, Loss: 1.9848, Validation Accuracy: 0.5300, AUC: 0.5000\n",
      "Epoch 45/200, Loss: 1.5694, Validation Accuracy: 0.5300, AUC: 0.5000\n",
      "Epoch 46/200, Loss: 1.6322, Validation Accuracy: 0.4700, AUC: 0.4957\n",
      "Epoch 47/200, Loss: 0.9571, Validation Accuracy: 0.4700, AUC: 0.5000\n",
      "Epoch 48/200, Loss: 0.7042, Validation Accuracy: 0.5300, AUC: 0.5000\n",
      "Epoch 49/200, Loss: 1.0386, Validation Accuracy: 0.5300, AUC: 0.5043\n",
      "Epoch 50/200, Loss: 0.6894, Validation Accuracy: 0.4700, AUC: 0.5043\n",
      "Epoch 51/200, Loss: 0.9852, Validation Accuracy: 0.5300, AUC: 0.5000\n",
      "Epoch 52/200, Loss: 1.0842, Validation Accuracy: 0.5300, AUC: 0.4957\n",
      "Epoch 53/200, Loss: 0.9782, Validation Accuracy: 0.4700, AUC: 0.5043\n",
      "Epoch 54/200, Loss: 1.5080, Validation Accuracy: 0.5300, AUC: 0.5000\n",
      "Epoch 55/200, Loss: 0.6961, Validation Accuracy: 0.5300, AUC: 0.5000\n",
      "Epoch 56/200, Loss: 1.0260, Validation Accuracy: 0.5300, AUC: 0.5000\n",
      "Epoch 57/200, Loss: 0.7157, Validation Accuracy: 0.4700, AUC: 0.5000\n",
      "Epoch 58/200, Loss: 0.9744, Validation Accuracy: 0.4700, AUC: 0.4381\n",
      "Epoch 59/200, Loss: 0.7538, Validation Accuracy: 0.5300, AUC: 0.4522\n",
      "Epoch 60/200, Loss: 1.0648, Validation Accuracy: 0.5300, AUC: 0.5000\n",
      "Epoch 61/200, Loss: 0.7865, Validation Accuracy: 0.4700, AUC: 0.5000\n",
      "Epoch 62/200, Loss: 0.7598, Validation Accuracy: 0.4700, AUC: 0.4957\n",
      "Epoch 63/200, Loss: 0.7911, Validation Accuracy: 0.5300, AUC: 0.5043\n",
      "Epoch 64/200, Loss: 0.6901, Validation Accuracy: 0.5300, AUC: 0.5043\n",
      "Epoch 65/200, Loss: 0.7383, Validation Accuracy: 0.5300, AUC: 0.5000\n",
      "Epoch 66/200, Loss: 0.7583, Validation Accuracy: 0.5300, AUC: 0.5000\n",
      "Epoch 67/200, Loss: 0.6962, Validation Accuracy: 0.4700, AUC: 0.5000\n",
      "Epoch 68/200, Loss: 0.7066, Validation Accuracy: 0.4700, AUC: 0.5000\n",
      "Epoch 69/200, Loss: 0.7256, Validation Accuracy: 0.4700, AUC: 0.4949\n",
      "Epoch 70/200, Loss: 0.6998, Validation Accuracy: 0.5300, AUC: 0.5000\n",
      "Epoch 71/200, Loss: 0.6878, Validation Accuracy: 0.5300, AUC: 0.4957\n",
      "Epoch 72/200, Loss: 0.6942, Validation Accuracy: 0.4700, AUC: 0.4957\n",
      "Epoch 73/200, Loss: 1.0380, Validation Accuracy: 0.5300, AUC: 0.5000\n",
      "Epoch 74/200, Loss: 1.0219, Validation Accuracy: 0.5300, AUC: 0.5000\n",
      "Epoch 75/200, Loss: 1.0910, Validation Accuracy: 0.5300, AUC: 0.5000\n",
      "Epoch 76/200, Loss: 0.8691, Validation Accuracy: 0.5300, AUC: 0.4957\n",
      "Epoch 77/200, Loss: 0.6880, Validation Accuracy: 0.4700, AUC: 0.4957\n",
      "Epoch 78/200, Loss: 0.8623, Validation Accuracy: 0.4700, AUC: 0.5000\n",
      "Epoch 79/200, Loss: 0.9101, Validation Accuracy: 0.4700, AUC: 0.5000\n",
      "Epoch 80/200, Loss: 0.7482, Validation Accuracy: 0.5300, AUC: 0.5000\n",
      "Epoch 81/200, Loss: 0.6951, Validation Accuracy: 0.5300, AUC: 0.5043\n",
      "Epoch 82/200, Loss: 0.7780, Validation Accuracy: 0.5300, AUC: 0.5000\n",
      "Epoch 83/200, Loss: 0.8100, Validation Accuracy: 0.5300, AUC: 0.4957\n",
      "Epoch 84/200, Loss: 0.7506, Validation Accuracy: 0.5300, AUC: 0.2624\n",
      "Epoch 85/200, Loss: 0.6978, Validation Accuracy: 0.5300, AUC: 0.7686\n",
      "Epoch 86/200, Loss: 1.4743, Validation Accuracy: 0.4700, AUC: 0.2324\n",
      "Epoch 87/200, Loss: 1.4856, Validation Accuracy: 0.4700, AUC: 0.5043\n",
      "Epoch 88/200, Loss: 1.1951, Validation Accuracy: 0.4700, AUC: 0.5043\n",
      "Epoch 89/200, Loss: 0.9049, Validation Accuracy: 0.5300, AUC: 0.5093\n",
      "Epoch 90/200, Loss: 0.6901, Validation Accuracy: 0.5300, AUC: 0.7643\n",
      "Epoch 91/200, Loss: 4.6154, Validation Accuracy: 0.4700, AUC: 0.4753\n",
      "Epoch 92/200, Loss: 1.4666, Validation Accuracy: 0.5300, AUC: 0.5000\n",
      "Epoch 93/200, Loss: 1.1580, Validation Accuracy: 0.5300, AUC: 0.4957\n",
      "Epoch 94/200, Loss: 1.1847, Validation Accuracy: 0.5300, AUC: 0.5031\n",
      "Epoch 95/200, Loss: 1.0740, Validation Accuracy: 0.5300, AUC: 0.4992\n",
      "Epoch 96/200, Loss: 0.9164, Validation Accuracy: 0.5300, AUC: 0.5000\n",
      "Epoch 97/200, Loss: 0.7514, Validation Accuracy: 0.5300, AUC: 0.5000\n",
      "Epoch 98/200, Loss: 0.6882, Validation Accuracy: 0.4700, AUC: 0.5000\n",
      "Epoch 99/200, Loss: 0.7606, Validation Accuracy: 0.4700, AUC: 0.5043\n",
      "Epoch 100/200, Loss: 0.8712, Validation Accuracy: 0.4700, AUC: 0.5028\n",
      "Epoch 101/200, Loss: 0.9284, Validation Accuracy: 0.4700, AUC: 0.7339\n",
      "Epoch 102/200, Loss: 22.8839, Validation Accuracy: 0.4700, AUC: 0.3906\n",
      "Epoch 103/200, Loss: 0.7189, Validation Accuracy: 0.5300, AUC: 0.3822\n",
      "Epoch 104/200, Loss: 3.7826, Validation Accuracy: 0.4700, AUC: 0.4677\n",
      "Epoch 105/200, Loss: 81.1061, Validation Accuracy: 0.5300, AUC: 0.5810\n",
      "Epoch 106/200, Loss: 8.5945, Validation Accuracy: 0.4700, AUC: 0.2307\n",
      "Epoch 107/200, Loss: 8.5228, Validation Accuracy: 0.5300, AUC: 0.5000\n",
      "Epoch 108/200, Loss: 24.3232, Validation Accuracy: 0.4700, AUC: 0.5000\n",
      "Epoch 109/200, Loss: 304.1333, Validation Accuracy: 0.4700, AUC: 0.2302\n",
      "Epoch 110/200, Loss: 2.1930, Validation Accuracy: 0.5300, AUC: 0.5000\n",
      "Epoch 111/200, Loss: 1.6359, Validation Accuracy: 0.5300, AUC: 0.5000\n",
      "Epoch 112/200, Loss: 1.8063, Validation Accuracy: 0.5300, AUC: 0.5000\n",
      "Epoch 113/200, Loss: 1.8442, Validation Accuracy: 0.5300, AUC: 0.5000\n",
      "Epoch 114/200, Loss: 1.7646, Validation Accuracy: 0.5300, AUC: 0.5000\n",
      "Epoch 115/200, Loss: 1.5866, Validation Accuracy: 0.5300, AUC: 0.5000\n",
      "Epoch 116/200, Loss: 1.3355, Validation Accuracy: 0.5300, AUC: 0.5043\n",
      "Epoch 117/200, Loss: 1.0505, Validation Accuracy: 0.5300, AUC: 0.5000\n",
      "Epoch 118/200, Loss: 0.7978, Validation Accuracy: 0.5300, AUC: 0.5043\n",
      "Epoch 119/200, Loss: 0.6884, Validation Accuracy: 0.4700, AUC: 0.5000\n",
      "Epoch 120/200, Loss: 0.7351, Validation Accuracy: 0.4700, AUC: 0.5000\n",
      "Epoch 121/200, Loss: 0.8439, Validation Accuracy: 0.4700, AUC: 0.4957\n",
      "Epoch 122/200, Loss: 0.9399, Validation Accuracy: 0.4700, AUC: 0.5000\n",
      "Epoch 123/200, Loss: 0.9791, Validation Accuracy: 0.4700, AUC: 0.5000\n",
      "Epoch 124/200, Loss: 0.9532, Validation Accuracy: 0.4700, AUC: 0.5051\n",
      "Epoch 125/200, Loss: 0.8448, Validation Accuracy: 0.4700, AUC: 0.5000\n",
      "Epoch 126/200, Loss: 0.7358, Validation Accuracy: 0.5300, AUC: 0.5000\n",
      "Epoch 127/200, Loss: 0.6880, Validation Accuracy: 0.5300, AUC: 0.5000\n",
      "Epoch 128/200, Loss: 0.7165, Validation Accuracy: 0.5300, AUC: 0.5000\n",
      "Epoch 129/200, Loss: 0.7756, Validation Accuracy: 0.5300, AUC: 0.5000\n",
      "Epoch 130/200, Loss: 0.8121, Validation Accuracy: 0.5300, AUC: 0.5000\n",
      "Epoch 131/200, Loss: 0.7788, Validation Accuracy: 0.5300, AUC: 0.5000\n",
      "Epoch 132/200, Loss: 0.7219, Validation Accuracy: 0.5300, AUC: 0.5000\n",
      "Epoch 133/200, Loss: 0.6887, Validation Accuracy: 0.4700, AUC: 0.5000\n",
      "Epoch 134/200, Loss: 0.7019, Validation Accuracy: 0.4700, AUC: 0.5000\n",
      "Epoch 135/200, Loss: 0.7350, Validation Accuracy: 0.4700, AUC: 0.5000\n",
      "Epoch 136/200, Loss: 0.7469, Validation Accuracy: 0.4700, AUC: 0.5000\n",
      "Epoch 137/200, Loss: 0.7288, Validation Accuracy: 0.5833, AUC: 0.5706\n",
      "Epoch 138/200, Loss: 0.6512, Validation Accuracy: 0.5300, AUC: 0.5000\n",
      "Epoch 139/200, Loss: 49.2720, Validation Accuracy: 0.5300, AUC: 0.5000\n",
      "Epoch 140/200, Loss: 0.7741, Validation Accuracy: 0.4700, AUC: 0.5000\n",
      "Epoch 141/200, Loss: 0.7404, Validation Accuracy: 0.4700, AUC: 0.5043\n",
      "Epoch 142/200, Loss: 0.7723, Validation Accuracy: 0.4700, AUC: 0.5000\n",
      "Epoch 143/200, Loss: 0.7674, Validation Accuracy: 0.4700, AUC: 0.5000\n",
      "Epoch 144/200, Loss: 0.7327, Validation Accuracy: 0.4700, AUC: 0.5000\n",
      "Epoch 145/200, Loss: 0.6976, Validation Accuracy: 0.5300, AUC: 0.5000\n",
      "Epoch 146/200, Loss: 0.6879, Validation Accuracy: 0.5300, AUC: 0.5000\n",
      "Epoch 147/200, Loss: 0.7002, Validation Accuracy: 0.5300, AUC: 0.5000\n",
      "Epoch 148/200, Loss: 0.7186, Validation Accuracy: 0.5300, AUC: 0.5000\n",
      "Epoch 149/200, Loss: 0.7273, Validation Accuracy: 0.5300, AUC: 0.5000\n",
      "Epoch 150/200, Loss: 0.7208, Validation Accuracy: 0.5300, AUC: 0.5000\n",
      "Epoch 151/200, Loss: 0.7051, Validation Accuracy: 0.5300, AUC: 0.5000\n",
      "Epoch 152/200, Loss: 0.6914, Validation Accuracy: 0.5300, AUC: 0.5000\n",
      "Epoch 153/200, Loss: 0.6880, Validation Accuracy: 0.4700, AUC: 0.5000\n",
      "Epoch 154/200, Loss: 0.6946, Validation Accuracy: 0.4700, AUC: 0.5000\n",
      "Epoch 155/200, Loss: 0.7035, Validation Accuracy: 0.4700, AUC: 0.5043\n",
      "Epoch 156/200, Loss: 0.7070, Validation Accuracy: 0.4700, AUC: 0.5000\n",
      "Epoch 157/200, Loss: 0.7028, Validation Accuracy: 0.4700, AUC: 0.5043\n",
      "Epoch 158/200, Loss: 0.6948, Validation Accuracy: 0.5300, AUC: 0.5008\n",
      "Epoch 159/200, Loss: 0.6888, Validation Accuracy: 0.5300, AUC: 0.5000\n",
      "Epoch 160/200, Loss: 0.6882, Validation Accuracy: 0.5300, AUC: 0.5000\n",
      "Epoch 161/200, Loss: 0.6918, Validation Accuracy: 0.5300, AUC: 0.5000\n",
      "Epoch 162/200, Loss: 0.6958, Validation Accuracy: 0.5300, AUC: 0.5000\n",
      "Epoch 163/200, Loss: 0.6969, Validation Accuracy: 0.5300, AUC: 0.5000\n",
      "Epoch 164/200, Loss: 0.6946, Validation Accuracy: 0.5300, AUC: 0.5000\n",
      "Epoch 165/200, Loss: 0.6907, Validation Accuracy: 0.5300, AUC: 0.5000\n",
      "Epoch 166/200, Loss: 0.6881, Validation Accuracy: 0.5300, AUC: 0.5000\n",
      "Epoch 167/200, Loss: 0.6881, Validation Accuracy: 0.5300, AUC: 0.5000\n",
      "Epoch 168/200, Loss: 0.6900, Validation Accuracy: 0.5300, AUC: 0.5000\n",
      "Epoch 169/200, Loss: 0.6919, Validation Accuracy: 0.5300, AUC: 0.5000\n",
      "Epoch 170/200, Loss: 0.6922, Validation Accuracy: 0.5300, AUC: 0.5000\n",
      "Epoch 171/200, Loss: 0.6886, Validation Accuracy: 0.5300, AUC: 0.5000\n",
      "Epoch 172/200, Loss: 0.6882, Validation Accuracy: 0.5300, AUC: 0.5000\n",
      "Epoch 173/200, Loss: 0.6906, Validation Accuracy: 0.5300, AUC: 0.5000\n",
      "Epoch 174/200, Loss: 0.6904, Validation Accuracy: 0.5300, AUC: 0.5000\n",
      "Epoch 175/200, Loss: 0.6882, Validation Accuracy: 0.5300, AUC: 0.5000\n",
      "Epoch 176/200, Loss: 0.6880, Validation Accuracy: 0.5300, AUC: 0.5000\n",
      "Epoch 177/200, Loss: 0.6896, Validation Accuracy: 0.5300, AUC: 0.4992\n",
      "Epoch 178/200, Loss: 0.6896, Validation Accuracy: 0.5300, AUC: 0.5000\n",
      "Epoch 179/200, Loss: 0.6882, Validation Accuracy: 0.5300, AUC: 0.5051\n",
      "Epoch 180/200, Loss: 0.6878, Validation Accuracy: 0.5300, AUC: 0.5000\n",
      "Epoch 181/200, Loss: 0.6885, Validation Accuracy: 0.5300, AUC: 0.5043\n",
      "Epoch 182/200, Loss: 0.6881, Validation Accuracy: 0.5300, AUC: 0.5000\n",
      "Epoch 183/200, Loss: 0.6878, Validation Accuracy: 0.5300, AUC: 0.5000\n",
      "Epoch 184/200, Loss: 0.6883, Validation Accuracy: 0.5300, AUC: 0.5000\n",
      "Epoch 185/200, Loss: 0.6880, Validation Accuracy: 0.5300, AUC: 0.4957\n",
      "Epoch 186/200, Loss: 0.6878, Validation Accuracy: 0.5300, AUC: 0.5000\n",
      "Epoch 187/200, Loss: 0.6881, Validation Accuracy: 0.5300, AUC: 0.5000\n",
      "Epoch 188/200, Loss: 0.6879, Validation Accuracy: 0.5300, AUC: 0.5000\n",
      "Epoch 189/200, Loss: 0.6878, Validation Accuracy: 0.5300, AUC: 0.5000\n",
      "Epoch 190/200, Loss: 0.6880, Validation Accuracy: 0.5300, AUC: 0.5000\n",
      "Epoch 191/200, Loss: 0.6879, Validation Accuracy: 0.5300, AUC: 0.5000\n",
      "Epoch 192/200, Loss: 0.6878, Validation Accuracy: 0.5300, AUC: 0.5000\n",
      "Epoch 193/200, Loss: 0.6880, Validation Accuracy: 0.5300, AUC: 0.5000\n",
      "Epoch 194/200, Loss: 0.6878, Validation Accuracy: 0.5300, AUC: 0.5000\n",
      "Epoch 195/200, Loss: 0.6878, Validation Accuracy: 0.5300, AUC: 0.5000\n",
      "Epoch 196/200, Loss: 0.6879, Validation Accuracy: 0.5300, AUC: 0.5000\n",
      "Epoch 197/200, Loss: 0.6878, Validation Accuracy: 0.5300, AUC: 0.5000\n",
      "Epoch 198/200, Loss: 0.6878, Validation Accuracy: 0.5300, AUC: 0.5000\n",
      "Epoch 199/200, Loss: 0.6879, Validation Accuracy: 0.5300, AUC: 0.5000\n",
      "Epoch 200/200, Loss: 0.6878, Validation Accuracy: 0.5300, AUC: 0.5000\n"
     ]
    },
    {
     "data": {
      "text/html": [
       "<style>\n",
       "    table.wandb td:nth-child(1) { padding: 0 10px; text-align: left ; width: auto;} td:nth-child(2) {text-align: left ; width: 100%}\n",
       "    .wandb-row { display: flex; flex-direction: row; flex-wrap: wrap; justify-content: flex-start; width: 100% }\n",
       "    .wandb-col { display: flex; flex-direction: column; flex-basis: 100%; flex: 1; padding: 10px; }\n",
       "    </style>\n",
       "<div class=\"wandb-row\"><div class=\"wandb-col\"><h3>Run history:</h3><br/><table class=\"wandb\"><tr><td>Final Best Epoch</td><td>▁</td></tr><tr><td>Final Best Val Accuracy</td><td>▁</td></tr><tr><td>best_epoch</td><td>▁▁▁▁▁▁██████████████████████████████████</td></tr><tr><td>best_val_accuracy</td><td>▁▁▁▁▁▁██████████████████████████████████</td></tr><tr><td>roc_auc</td><td>▆▆▁▆▃▆█▆▆▆▆▆▆▆▆▆▆▆▆▆▄▆▆▆▆▆▆▆▆▆▆▆▆▆▆▆▆▆▆▆</td></tr><tr><td>train_loss</td><td>▆█▁▂▁▁▁▁▁▁▁▁▁▁▁▁▁▁▁▁▁▁▁▁▁▁▁▁▁▁▁▁▁▁▁▁▁▁▁▁</td></tr><tr><td>val_accuracy</td><td>▁▁▁▄▁▄█▁▄▁▄▄▁▁▁▁▄▁▄▁▁▁▄▄▁▄▁▄▁▄▁▄▄▄▄▄▄▄▄▄</td></tr></table><br/></div><div class=\"wandb-col\"><h3>Run summary:</h3><br/><table class=\"wandb\"><tr><td>Final Best Epoch</td><td>32</td></tr><tr><td>Final Best Val Accuracy</td><td>0.59167</td></tr><tr><td>best_epoch</td><td>32</td></tr><tr><td>best_val_accuracy</td><td>0.59167</td></tr><tr><td>roc_auc</td><td>0.5</td></tr><tr><td>train_loss</td><td>0.6878</td></tr><tr><td>val_accuracy</td><td>0.53</td></tr></table><br/></div></div>"
      ],
      "text/plain": [
       "<IPython.core.display.HTML object>"
      ]
     },
     "metadata": {},
     "output_type": "display_data"
    },
    {
     "data": {
      "text/html": [
       " View run <strong style=\"color:#cdcd00\">whole-sweep-8</strong> at: <a href='https://wandb.ai/zamtol/uncategorized/runs/8ev1n6le' target=\"_blank\">https://wandb.ai/zamtol/uncategorized/runs/8ev1n6le</a><br/> View project at: <a href='https://wandb.ai/zamtol/uncategorized' target=\"_blank\">https://wandb.ai/zamtol/uncategorized</a><br/>Synced 5 W&B file(s), 199 media file(s), 0 artifact file(s) and 0 other file(s)"
      ],
      "text/plain": [
       "<IPython.core.display.HTML object>"
      ]
     },
     "metadata": {},
     "output_type": "display_data"
    },
    {
     "data": {
      "text/html": [
       "Find logs at: <code>.\\wandb\\run-20240804_144129-8ev1n6le\\logs</code>"
      ],
      "text/plain": [
       "<IPython.core.display.HTML object>"
      ]
     },
     "metadata": {},
     "output_type": "display_data"
    },
    {
     "data": {
      "text/html": [
       "The new W&B backend becomes opt-out in version 0.18.0; try it out with `wandb.require(\"core\")`! See https://wandb.me/wandb-core for more information."
      ],
      "text/plain": [
       "<IPython.core.display.HTML object>"
      ]
     },
     "metadata": {},
     "output_type": "display_data"
    },
    {
     "name": "stderr",
     "output_type": "stream",
     "text": [
      "\u001b[34m\u001b[1mwandb\u001b[0m: Agent Starting Run: 1x1y0cho with config:\n",
      "\u001b[34m\u001b[1mwandb\u001b[0m: \tarchitecture: RandomForest\n",
      "\u001b[34m\u001b[1mwandb\u001b[0m: \tepochs: 200\n",
      "\u001b[34m\u001b[1mwandb\u001b[0m: \tlearning_rate: 0.1\n",
      "\u001b[34m\u001b[1mwandb\u001b[0m: \tseed: 42\n",
      "\u001b[34m\u001b[1mwandb\u001b[0m: \tweight_decay: 0.0005\n",
      "Failed to detect the name of this notebook, you can set it manually with the WANDB_NOTEBOOK_NAME environment variable to enable code saving.\n"
     ]
    },
    {
     "data": {
      "text/html": [
       "Tracking run with wandb version 0.17.5"
      ],
      "text/plain": [
       "<IPython.core.display.HTML object>"
      ]
     },
     "metadata": {},
     "output_type": "display_data"
    },
    {
     "data": {
      "text/html": [
       "Run data is saved locally in <code>c:\\Users\\ZAMTOL\\git\\hack\\wandb\\run-20240804_144202-1x1y0cho</code>"
      ],
      "text/plain": [
       "<IPython.core.display.HTML object>"
      ]
     },
     "metadata": {},
     "output_type": "display_data"
    },
    {
     "data": {
      "text/html": [
       "Syncing run <strong><a href='https://wandb.ai/zamtol/uncategorized/runs/1x1y0cho' target=\"_blank\">stoic-sweep-9</a></strong> to <a href='https://wandb.ai/zamtol/uncategorized' target=\"_blank\">Weights & Biases</a> (<a href='https://wandb.me/run' target=\"_blank\">docs</a>)<br/>Sweep page: <a href='https://wandb.ai/zamtol/uncategorized/sweeps/xrxgo72j' target=\"_blank\">https://wandb.ai/zamtol/uncategorized/sweeps/xrxgo72j</a>"
      ],
      "text/plain": [
       "<IPython.core.display.HTML object>"
      ]
     },
     "metadata": {},
     "output_type": "display_data"
    },
    {
     "data": {
      "text/html": [
       " View project at <a href='https://wandb.ai/zamtol/uncategorized' target=\"_blank\">https://wandb.ai/zamtol/uncategorized</a>"
      ],
      "text/plain": [
       "<IPython.core.display.HTML object>"
      ]
     },
     "metadata": {},
     "output_type": "display_data"
    },
    {
     "data": {
      "text/html": [
       " View sweep at <a href='https://wandb.ai/zamtol/uncategorized/sweeps/xrxgo72j' target=\"_blank\">https://wandb.ai/zamtol/uncategorized/sweeps/xrxgo72j</a>"
      ],
      "text/plain": [
       "<IPython.core.display.HTML object>"
      ]
     },
     "metadata": {},
     "output_type": "display_data"
    },
    {
     "data": {
      "text/html": [
       " View run at <a href='https://wandb.ai/zamtol/uncategorized/runs/1x1y0cho' target=\"_blank\">https://wandb.ai/zamtol/uncategorized/runs/1x1y0cho</a>"
      ],
      "text/plain": [
       "<IPython.core.display.HTML object>"
      ]
     },
     "metadata": {},
     "output_type": "display_data"
    },
    {
     "name": "stdout",
     "output_type": "stream",
     "text": [
      "Epoch 1/200, Loss: 0.6911, Validation Accuracy: 0.5300, AUC: 0.8144\n",
      "Epoch 2/200, Loss: 0.7033, Validation Accuracy: 0.5300, AUC: 0.1993\n",
      "Epoch 3/200, Loss: 0.6896, Validation Accuracy: 0.5300, AUC: 0.8431\n",
      "Epoch 4/200, Loss: 0.6884, Validation Accuracy: 0.5300, AUC: 0.8492\n",
      "Epoch 5/200, Loss: 0.6784, Validation Accuracy: 0.5300, AUC: 0.8550\n",
      "Epoch 6/200, Loss: 0.8685, Validation Accuracy: 0.7133, AUC: 0.8446\n",
      "Epoch 7/200, Loss: 0.6844, Validation Accuracy: 0.4700, AUC: 0.8204\n",
      "Epoch 8/200, Loss: 0.6990, Validation Accuracy: 0.4700, AUC: 0.7925\n",
      "Epoch 9/200, Loss: 0.7018, Validation Accuracy: 0.4700, AUC: 0.7544\n",
      "Epoch 10/200, Loss: 0.6984, Validation Accuracy: 0.5567, AUC: 0.7509\n",
      "Epoch 11/200, Loss: 0.6900, Validation Accuracy: 0.5300, AUC: 0.7637\n",
      "Epoch 12/200, Loss: 0.6792, Validation Accuracy: 0.5300, AUC: 0.7899\n",
      "Epoch 13/200, Loss: 0.6800, Validation Accuracy: 0.5300, AUC: 0.8156\n",
      "Epoch 14/200, Loss: 0.6729, Validation Accuracy: 0.5300, AUC: 0.8388\n",
      "Epoch 15/200, Loss: 0.6900, Validation Accuracy: 0.5650, AUC: 0.8566\n",
      "Epoch 16/200, Loss: 0.6793, Validation Accuracy: 0.4700, AUC: 0.8682\n",
      "Epoch 17/200, Loss: 0.6921, Validation Accuracy: 0.4700, AUC: 0.8729\n",
      "Epoch 18/200, Loss: 0.6928, Validation Accuracy: 0.7833, AUC: 0.8749\n",
      "Epoch 19/200, Loss: 0.6805, Validation Accuracy: 0.5300, AUC: 0.8755\n",
      "Epoch 20/200, Loss: 0.6504, Validation Accuracy: 0.5300, AUC: 0.8758\n",
      "Epoch 21/200, Loss: 0.7114, Validation Accuracy: 0.6633, AUC: 0.8732\n",
      "Epoch 22/200, Loss: 0.6416, Validation Accuracy: 0.6183, AUC: 0.8544\n",
      "Epoch 23/200, Loss: 0.6746, Validation Accuracy: 0.6367, AUC: 0.8621\n",
      "Epoch 24/200, Loss: 0.6729, Validation Accuracy: 0.7417, AUC: 0.8727\n",
      "Epoch 25/200, Loss: 0.6548, Validation Accuracy: 0.5300, AUC: 0.8768\n",
      "Epoch 26/200, Loss: 0.6282, Validation Accuracy: 0.5300, AUC: 0.8736\n",
      "Epoch 27/200, Loss: 0.6623, Validation Accuracy: 0.6083, AUC: 0.8699\n",
      "Epoch 28/200, Loss: 0.6138, Validation Accuracy: 0.7783, AUC: 0.8640\n",
      "Epoch 29/200, Loss: 0.6162, Validation Accuracy: 0.7017, AUC: 0.8679\n",
      "Epoch 30/200, Loss: 0.5618, Validation Accuracy: 0.5933, AUC: 0.8733\n",
      "Epoch 31/200, Loss: 0.6197, Validation Accuracy: 0.7800, AUC: 0.8629\n",
      "Epoch 32/200, Loss: 0.5653, Validation Accuracy: 0.7183, AUC: 0.8566\n",
      "Epoch 33/200, Loss: 0.5757, Validation Accuracy: 0.6900, AUC: 0.8775\n",
      "Epoch 34/200, Loss: 0.5189, Validation Accuracy: 0.7617, AUC: 0.8774\n",
      "Epoch 35/200, Loss: 0.4778, Validation Accuracy: 0.7733, AUC: 0.8500\n",
      "Epoch 36/200, Loss: 0.5180, Validation Accuracy: 0.7950, AUC: 0.8767\n",
      "Epoch 37/200, Loss: 0.4354, Validation Accuracy: 0.8017, AUC: 0.8820\n",
      "Epoch 38/200, Loss: 0.4821, Validation Accuracy: 0.7400, AUC: 0.8123\n",
      "Epoch 39/200, Loss: 0.5194, Validation Accuracy: 0.8033, AUC: 0.8876\n",
      "Epoch 40/200, Loss: 0.4192, Validation Accuracy: 0.7467, AUC: 0.8948\n",
      "Epoch 41/200, Loss: 0.5477, Validation Accuracy: 0.8133, AUC: 0.8903\n",
      "Epoch 42/200, Loss: 0.4062, Validation Accuracy: 0.7617, AUC: 0.8894\n",
      "Epoch 43/200, Loss: 0.4885, Validation Accuracy: 0.8317, AUC: 0.8951\n",
      "Epoch 44/200, Loss: 0.3837, Validation Accuracy: 0.7683, AUC: 0.8990\n",
      "Epoch 45/200, Loss: 0.4794, Validation Accuracy: 0.8350, AUC: 0.8983\n",
      "Epoch 46/200, Loss: 0.3705, Validation Accuracy: 0.7750, AUC: 0.8950\n",
      "Epoch 47/200, Loss: 0.4698, Validation Accuracy: 0.8317, AUC: 0.8971\n",
      "Epoch 48/200, Loss: 0.3660, Validation Accuracy: 0.8050, AUC: 0.8989\n",
      "Epoch 49/200, Loss: 0.4230, Validation Accuracy: 0.8317, AUC: 0.8992\n",
      "Epoch 50/200, Loss: 0.3665, Validation Accuracy: 0.8267, AUC: 0.9034\n",
      "Epoch 51/200, Loss: 0.3857, Validation Accuracy: 0.8350, AUC: 0.9011\n",
      "Epoch 52/200, Loss: 0.3611, Validation Accuracy: 0.8250, AUC: 0.9031\n",
      "Epoch 53/200, Loss: 0.3790, Validation Accuracy: 0.8383, AUC: 0.9048\n",
      "Epoch 54/200, Loss: 0.3603, Validation Accuracy: 0.8317, AUC: 0.9024\n",
      "Epoch 55/200, Loss: 0.3626, Validation Accuracy: 0.8417, AUC: 0.9033\n",
      "Epoch 56/200, Loss: 0.3533, Validation Accuracy: 0.8300, AUC: 0.9040\n",
      "Epoch 57/200, Loss: 0.3572, Validation Accuracy: 0.8383, AUC: 0.9056\n",
      "Epoch 58/200, Loss: 0.3488, Validation Accuracy: 0.8400, AUC: 0.9081\n",
      "Epoch 59/200, Loss: 0.3502, Validation Accuracy: 0.8350, AUC: 0.9090\n",
      "Epoch 60/200, Loss: 0.3446, Validation Accuracy: 0.8350, AUC: 0.9086\n",
      "Epoch 61/200, Loss: 0.3454, Validation Accuracy: 0.8450, AUC: 0.9124\n",
      "Epoch 62/200, Loss: 0.3406, Validation Accuracy: 0.8433, AUC: 0.9108\n",
      "Epoch 63/200, Loss: 0.3387, Validation Accuracy: 0.8400, AUC: 0.9126\n",
      "Epoch 64/200, Loss: 0.3364, Validation Accuracy: 0.8417, AUC: 0.9135\n",
      "Epoch 65/200, Loss: 0.3329, Validation Accuracy: 0.8467, AUC: 0.9169\n",
      "Epoch 66/200, Loss: 0.3313, Validation Accuracy: 0.8400, AUC: 0.9182\n",
      "Epoch 67/200, Loss: 0.3282, Validation Accuracy: 0.8500, AUC: 0.9202\n",
      "Epoch 68/200, Loss: 0.3264, Validation Accuracy: 0.8500, AUC: 0.9202\n",
      "Epoch 69/200, Loss: 0.3226, Validation Accuracy: 0.8500, AUC: 0.9219\n",
      "Epoch 70/200, Loss: 0.3197, Validation Accuracy: 0.8550, AUC: 0.9232\n",
      "Epoch 71/200, Loss: 0.3164, Validation Accuracy: 0.8517, AUC: 0.9224\n",
      "Epoch 72/200, Loss: 0.3125, Validation Accuracy: 0.8550, AUC: 0.9242\n",
      "Epoch 73/200, Loss: 0.3083, Validation Accuracy: 0.8583, AUC: 0.9262\n",
      "Epoch 74/200, Loss: 0.3043, Validation Accuracy: 0.8533, AUC: 0.9284\n",
      "Epoch 75/200, Loss: 0.3037, Validation Accuracy: 0.8417, AUC: 0.9280\n",
      "Epoch 76/200, Loss: 0.3173, Validation Accuracy: 0.8483, AUC: 0.9305\n",
      "Epoch 77/200, Loss: 0.3029, Validation Accuracy: 0.8583, AUC: 0.9319\n",
      "Epoch 78/200, Loss: 0.2913, Validation Accuracy: 0.8517, AUC: 0.9321\n",
      "Epoch 79/200, Loss: 0.3012, Validation Accuracy: 0.8550, AUC: 0.9321\n",
      "Epoch 80/200, Loss: 0.2884, Validation Accuracy: 0.8633, AUC: 0.9320\n",
      "Epoch 81/200, Loss: 0.2828, Validation Accuracy: 0.8567, AUC: 0.9312\n",
      "Epoch 82/200, Loss: 0.2814, Validation Accuracy: 0.8633, AUC: 0.9340\n",
      "Epoch 83/200, Loss: 0.2785, Validation Accuracy: 0.8600, AUC: 0.9346\n",
      "Epoch 84/200, Loss: 0.2992, Validation Accuracy: 0.8033, AUC: 0.9373\n",
      "Epoch 85/200, Loss: 0.3958, Validation Accuracy: 0.8233, AUC: 0.9353\n",
      "Epoch 86/200, Loss: 0.3382, Validation Accuracy: 0.8617, AUC: 0.9363\n",
      "Epoch 87/200, Loss: 0.2941, Validation Accuracy: 0.7383, AUC: 0.9388\n",
      "Epoch 88/200, Loss: 0.5497, Validation Accuracy: 0.7700, AUC: 0.9352\n",
      "Epoch 89/200, Loss: 0.4313, Validation Accuracy: 0.8033, AUC: 0.9375\n",
      "Epoch 90/200, Loss: 0.3954, Validation Accuracy: 0.8167, AUC: 0.9398\n",
      "Epoch 91/200, Loss: 0.3511, Validation Accuracy: 0.8000, AUC: 0.9419\n",
      "Epoch 92/200, Loss: 0.3783, Validation Accuracy: 0.8717, AUC: 0.9421\n",
      "Epoch 93/200, Loss: 0.3078, Validation Accuracy: 0.8067, AUC: 0.9423\n",
      "Epoch 94/200, Loss: 0.3891, Validation Accuracy: 0.8817, AUC: 0.9433\n",
      "Epoch 95/200, Loss: 0.2895, Validation Accuracy: 0.8417, AUC: 0.9456\n",
      "Epoch 96/200, Loss: 0.3386, Validation Accuracy: 0.8483, AUC: 0.9447\n",
      "Epoch 97/200, Loss: 0.3103, Validation Accuracy: 0.8333, AUC: 0.9436\n",
      "Epoch 98/200, Loss: 0.3440, Validation Accuracy: 0.8800, AUC: 0.9425\n",
      "Epoch 99/200, Loss: 0.2695, Validation Accuracy: 0.8617, AUC: 0.9441\n",
      "Epoch 100/200, Loss: 0.2798, Validation Accuracy: 0.8767, AUC: 0.9462\n",
      "Epoch 101/200, Loss: 0.2713, Validation Accuracy: 0.8767, AUC: 0.9469\n",
      "Epoch 102/200, Loss: 0.2718, Validation Accuracy: 0.8717, AUC: 0.9469\n",
      "Epoch 103/200, Loss: 0.2752, Validation Accuracy: 0.8800, AUC: 0.9465\n",
      "Epoch 104/200, Loss: 0.2668, Validation Accuracy: 0.8817, AUC: 0.9479\n",
      "Epoch 105/200, Loss: 0.2662, Validation Accuracy: 0.8783, AUC: 0.9462\n",
      "Epoch 106/200, Loss: 0.2646, Validation Accuracy: 0.8750, AUC: 0.9427\n",
      "Epoch 107/200, Loss: 0.2674, Validation Accuracy: 0.8850, AUC: 0.9469\n",
      "Epoch 108/200, Loss: 0.2568, Validation Accuracy: 0.8800, AUC: 0.9471\n",
      "Epoch 109/200, Loss: 0.2598, Validation Accuracy: 0.8717, AUC: 0.9455\n",
      "Epoch 110/200, Loss: 0.2612, Validation Accuracy: 0.8817, AUC: 0.9460\n",
      "Epoch 111/200, Loss: 0.2623, Validation Accuracy: 0.8817, AUC: 0.9461\n",
      "Epoch 112/200, Loss: 0.2562, Validation Accuracy: 0.8817, AUC: 0.9481\n",
      "Epoch 113/200, Loss: 0.2545, Validation Accuracy: 0.8850, AUC: 0.9457\n",
      "Epoch 114/200, Loss: 0.2538, Validation Accuracy: 0.8733, AUC: 0.9451\n",
      "Epoch 115/200, Loss: 0.2521, Validation Accuracy: 0.8883, AUC: 0.9467\n",
      "Epoch 116/200, Loss: 0.2500, Validation Accuracy: 0.8817, AUC: 0.9474\n",
      "Epoch 117/200, Loss: 0.2534, Validation Accuracy: 0.8883, AUC: 0.9460\n",
      "Epoch 118/200, Loss: 0.2483, Validation Accuracy: 0.8767, AUC: 0.9451\n",
      "Epoch 119/200, Loss: 0.2489, Validation Accuracy: 0.8717, AUC: 0.9470\n",
      "Epoch 120/200, Loss: 0.2495, Validation Accuracy: 0.8833, AUC: 0.9486\n",
      "Epoch 121/200, Loss: 0.2486, Validation Accuracy: 0.8883, AUC: 0.9494\n",
      "Epoch 122/200, Loss: 0.2451, Validation Accuracy: 0.8800, AUC: 0.9496\n",
      "Epoch 123/200, Loss: 0.2473, Validation Accuracy: 0.8867, AUC: 0.9500\n",
      "Epoch 124/200, Loss: 0.2445, Validation Accuracy: 0.8783, AUC: 0.9488\n",
      "Epoch 125/200, Loss: 0.2424, Validation Accuracy: 0.8717, AUC: 0.9477\n",
      "Epoch 126/200, Loss: 0.2435, Validation Accuracy: 0.8800, AUC: 0.9502\n",
      "Epoch 127/200, Loss: 0.2405, Validation Accuracy: 0.8850, AUC: 0.9521\n",
      "Epoch 128/200, Loss: 0.2412, Validation Accuracy: 0.8867, AUC: 0.9512\n",
      "Epoch 129/200, Loss: 0.2397, Validation Accuracy: 0.8800, AUC: 0.9503\n",
      "Epoch 130/200, Loss: 0.2395, Validation Accuracy: 0.8850, AUC: 0.9511\n",
      "Epoch 131/200, Loss: 0.2387, Validation Accuracy: 0.8833, AUC: 0.9515\n",
      "Epoch 132/200, Loss: 0.2380, Validation Accuracy: 0.8883, AUC: 0.9527\n",
      "Epoch 133/200, Loss: 0.2390, Validation Accuracy: 0.8817, AUC: 0.9516\n",
      "Epoch 134/200, Loss: 0.2360, Validation Accuracy: 0.8783, AUC: 0.9500\n",
      "Epoch 135/200, Loss: 0.2367, Validation Accuracy: 0.8533, AUC: 0.9511\n",
      "Epoch 136/200, Loss: 0.2923, Validation Accuracy: 0.7483, AUC: 0.9438\n",
      "Epoch 137/200, Loss: 0.5202, Validation Accuracy: 0.8283, AUC: 0.9512\n",
      "Epoch 138/200, Loss: 0.3332, Validation Accuracy: 0.8167, AUC: 0.9515\n",
      "Epoch 139/200, Loss: 0.3575, Validation Accuracy: 0.8550, AUC: 0.9516\n",
      "Epoch 140/200, Loss: 0.3044, Validation Accuracy: 0.8117, AUC: 0.9488\n",
      "Epoch 141/200, Loss: 0.3910, Validation Accuracy: 0.8800, AUC: 0.9499\n",
      "Epoch 142/200, Loss: 0.3020, Validation Accuracy: 0.8467, AUC: 0.9507\n",
      "Epoch 143/200, Loss: 0.3492, Validation Accuracy: 0.8567, AUC: 0.9516\n",
      "Epoch 144/200, Loss: 0.3208, Validation Accuracy: 0.8733, AUC: 0.9498\n",
      "Epoch 145/200, Loss: 0.2830, Validation Accuracy: 0.8483, AUC: 0.9464\n",
      "Epoch 146/200, Loss: 0.3284, Validation Accuracy: 0.8600, AUC: 0.9436\n",
      "Epoch 147/200, Loss: 0.2739, Validation Accuracy: 0.8467, AUC: 0.9478\n",
      "Epoch 148/200, Loss: 0.2907, Validation Accuracy: 0.8717, AUC: 0.9525\n",
      "Epoch 149/200, Loss: 0.2752, Validation Accuracy: 0.8817, AUC: 0.9490\n",
      "Epoch 150/200, Loss: 0.2716, Validation Accuracy: 0.8700, AUC: 0.9479\n",
      "Epoch 151/200, Loss: 0.2874, Validation Accuracy: 0.8717, AUC: 0.9496\n",
      "Epoch 152/200, Loss: 0.2751, Validation Accuracy: 0.8733, AUC: 0.9495\n",
      "Epoch 153/200, Loss: 0.2503, Validation Accuracy: 0.8767, AUC: 0.9467\n",
      "Epoch 154/200, Loss: 0.2520, Validation Accuracy: 0.8683, AUC: 0.9443\n",
      "Epoch 155/200, Loss: 0.2581, Validation Accuracy: 0.8733, AUC: 0.9464\n",
      "Epoch 156/200, Loss: 0.2542, Validation Accuracy: 0.8767, AUC: 0.9492\n",
      "Epoch 157/200, Loss: 0.2508, Validation Accuracy: 0.8800, AUC: 0.9492\n",
      "Epoch 158/200, Loss: 0.2526, Validation Accuracy: 0.8767, AUC: 0.9486\n",
      "Epoch 159/200, Loss: 0.2525, Validation Accuracy: 0.8783, AUC: 0.9497\n",
      "Epoch 160/200, Loss: 0.2491, Validation Accuracy: 0.8767, AUC: 0.9500\n",
      "Epoch 161/200, Loss: 0.2436, Validation Accuracy: 0.8800, AUC: 0.9483\n",
      "Epoch 162/200, Loss: 0.2453, Validation Accuracy: 0.8750, AUC: 0.9482\n",
      "Epoch 163/200, Loss: 0.2454, Validation Accuracy: 0.8833, AUC: 0.9500\n",
      "Epoch 164/200, Loss: 0.2424, Validation Accuracy: 0.8850, AUC: 0.9507\n",
      "Epoch 165/200, Loss: 0.2436, Validation Accuracy: 0.8800, AUC: 0.9504\n",
      "Epoch 166/200, Loss: 0.2444, Validation Accuracy: 0.8817, AUC: 0.9503\n",
      "Epoch 167/200, Loss: 0.2415, Validation Accuracy: 0.8767, AUC: 0.9479\n",
      "Epoch 168/200, Loss: 0.2408, Validation Accuracy: 0.8717, AUC: 0.9471\n",
      "Epoch 169/200, Loss: 0.2436, Validation Accuracy: 0.8550, AUC: 0.9498\n",
      "Epoch 170/200, Loss: 0.2701, Validation Accuracy: 0.8767, AUC: 0.9490\n",
      "Epoch 171/200, Loss: 0.2568, Validation Accuracy: 0.8733, AUC: 0.9489\n",
      "Epoch 172/200, Loss: 0.2459, Validation Accuracy: 0.8750, AUC: 0.9485\n",
      "Epoch 173/200, Loss: 0.2533, Validation Accuracy: 0.8817, AUC: 0.9507\n",
      "Epoch 174/200, Loss: 0.2444, Validation Accuracy: 0.8750, AUC: 0.9496\n",
      "Epoch 175/200, Loss: 0.2458, Validation Accuracy: 0.8717, AUC: 0.9463\n",
      "Epoch 176/200, Loss: 0.2476, Validation Accuracy: 0.8783, AUC: 0.9489\n",
      "Epoch 177/200, Loss: 0.2408, Validation Accuracy: 0.8750, AUC: 0.9512\n",
      "Epoch 178/200, Loss: 0.2478, Validation Accuracy: 0.8800, AUC: 0.9503\n",
      "Epoch 179/200, Loss: 0.2399, Validation Accuracy: 0.8767, AUC: 0.9500\n",
      "Epoch 180/200, Loss: 0.2431, Validation Accuracy: 0.8717, AUC: 0.9501\n",
      "Epoch 181/200, Loss: 0.2384, Validation Accuracy: 0.8800, AUC: 0.9504\n",
      "Epoch 182/200, Loss: 0.2422, Validation Accuracy: 0.8783, AUC: 0.9498\n",
      "Epoch 183/200, Loss: 0.2392, Validation Accuracy: 0.8800, AUC: 0.9512\n",
      "Epoch 184/200, Loss: 0.2393, Validation Accuracy: 0.8783, AUC: 0.9520\n",
      "Epoch 185/200, Loss: 0.2407, Validation Accuracy: 0.8750, AUC: 0.9513\n",
      "Epoch 186/200, Loss: 0.2368, Validation Accuracy: 0.8817, AUC: 0.9505\n",
      "Epoch 187/200, Loss: 0.2389, Validation Accuracy: 0.8767, AUC: 0.9509\n",
      "Epoch 188/200, Loss: 0.2365, Validation Accuracy: 0.8767, AUC: 0.9517\n",
      "Epoch 189/200, Loss: 0.2368, Validation Accuracy: 0.8817, AUC: 0.9519\n",
      "Epoch 190/200, Loss: 0.2360, Validation Accuracy: 0.8800, AUC: 0.9519\n",
      "Epoch 191/200, Loss: 0.2352, Validation Accuracy: 0.8800, AUC: 0.9517\n",
      "Epoch 192/200, Loss: 0.2364, Validation Accuracy: 0.8800, AUC: 0.9512\n",
      "Epoch 193/200, Loss: 0.2346, Validation Accuracy: 0.8817, AUC: 0.9516\n",
      "Epoch 194/200, Loss: 0.2340, Validation Accuracy: 0.8783, AUC: 0.9520\n",
      "Epoch 195/200, Loss: 0.2348, Validation Accuracy: 0.8800, AUC: 0.9519\n",
      "Epoch 196/200, Loss: 0.2333, Validation Accuracy: 0.8817, AUC: 0.9518\n",
      "Epoch 197/200, Loss: 0.2330, Validation Accuracy: 0.8783, AUC: 0.9520\n",
      "Epoch 198/200, Loss: 0.2341, Validation Accuracy: 0.8817, AUC: 0.9524\n",
      "Epoch 199/200, Loss: 0.2330, Validation Accuracy: 0.8817, AUC: 0.9528\n",
      "Epoch 200/200, Loss: 0.2318, Validation Accuracy: 0.8783, AUC: 0.9529\n"
     ]
    },
    {
     "data": {
      "text/html": [
       "<style>\n",
       "    table.wandb td:nth-child(1) { padding: 0 10px; text-align: left ; width: auto;} td:nth-child(2) {text-align: left ; width: 100%}\n",
       "    .wandb-row { display: flex; flex-direction: row; flex-wrap: wrap; justify-content: flex-start; width: 100% }\n",
       "    .wandb-col { display: flex; flex-direction: column; flex-basis: 100%; flex: 1; padding: 10px; }\n",
       "    </style>\n",
       "<div class=\"wandb-row\"><div class=\"wandb-col\"><h3>Run history:</h3><br/><table class=\"wandb\"><tr><td>Final Best Epoch</td><td>▁</td></tr><tr><td>Final Best Val Accuracy</td><td>▁</td></tr><tr><td>best_epoch</td><td>▁▁▁▁▂▂▂▃▃▄▄▄▅▅▅▅▆▆▇▇▇███████████████████</td></tr><tr><td>best_val_accuracy</td><td>▁▅▅▅▆▆▆▆▇▇▇▇▇▇▇▇████████████████████████</td></tr><tr><td>roc_auc</td><td>▁▇▆▇▇▇▇▇▇▇██████████████████████████████</td></tr><tr><td>train_loss</td><td>▆█▆▆▆▅▅▄▃▃▂▂▂▂▂▂▂▄▃▂▁▁▁▁▁▁▁▂▂▂▁▁▁▁▁▁▁▁▁▁</td></tr><tr><td>val_accuracy</td><td>▂▅▂▁▃▂▅▆▆▆▇▇▇▇▇▇█▆█████████▇████████████</td></tr></table><br/></div><div class=\"wandb-col\"><h3>Run summary:</h3><br/><table class=\"wandb\"><tr><td>Final Best Epoch</td><td>115</td></tr><tr><td>Final Best Val Accuracy</td><td>0.88833</td></tr><tr><td>best_epoch</td><td>115</td></tr><tr><td>best_val_accuracy</td><td>0.88833</td></tr><tr><td>roc_auc</td><td>0.95294</td></tr><tr><td>train_loss</td><td>0.23181</td></tr><tr><td>val_accuracy</td><td>0.87833</td></tr></table><br/></div></div>"
      ],
      "text/plain": [
       "<IPython.core.display.HTML object>"
      ]
     },
     "metadata": {},
     "output_type": "display_data"
    },
    {
     "data": {
      "text/html": [
       " View run <strong style=\"color:#cdcd00\">stoic-sweep-9</strong> at: <a href='https://wandb.ai/zamtol/uncategorized/runs/1x1y0cho' target=\"_blank\">https://wandb.ai/zamtol/uncategorized/runs/1x1y0cho</a><br/> View project at: <a href='https://wandb.ai/zamtol/uncategorized' target=\"_blank\">https://wandb.ai/zamtol/uncategorized</a><br/>Synced 5 W&B file(s), 200 media file(s), 0 artifact file(s) and 0 other file(s)"
      ],
      "text/plain": [
       "<IPython.core.display.HTML object>"
      ]
     },
     "metadata": {},
     "output_type": "display_data"
    },
    {
     "data": {
      "text/html": [
       "Find logs at: <code>.\\wandb\\run-20240804_144202-1x1y0cho\\logs</code>"
      ],
      "text/plain": [
       "<IPython.core.display.HTML object>"
      ]
     },
     "metadata": {},
     "output_type": "display_data"
    },
    {
     "data": {
      "text/html": [
       "The new W&B backend becomes opt-out in version 0.18.0; try it out with `wandb.require(\"core\")`! See https://wandb.me/wandb-core for more information."
      ],
      "text/plain": [
       "<IPython.core.display.HTML object>"
      ]
     },
     "metadata": {},
     "output_type": "display_data"
    },
    {
     "name": "stderr",
     "output_type": "stream",
     "text": [
      "\u001b[34m\u001b[1mwandb\u001b[0m: Agent Starting Run: o2n7az0g with config:\n",
      "\u001b[34m\u001b[1mwandb\u001b[0m: \tarchitecture: RandomForest\n",
      "\u001b[34m\u001b[1mwandb\u001b[0m: \tepochs: 200\n",
      "\u001b[34m\u001b[1mwandb\u001b[0m: \tlearning_rate: 0.1\n",
      "\u001b[34m\u001b[1mwandb\u001b[0m: \tseed: 42\n",
      "\u001b[34m\u001b[1mwandb\u001b[0m: \tweight_decay: 0.0001\n",
      "Failed to detect the name of this notebook, you can set it manually with the WANDB_NOTEBOOK_NAME environment variable to enable code saving.\n"
     ]
    },
    {
     "data": {
      "text/html": [
       "Tracking run with wandb version 0.17.5"
      ],
      "text/plain": [
       "<IPython.core.display.HTML object>"
      ]
     },
     "metadata": {},
     "output_type": "display_data"
    },
    {
     "data": {
      "text/html": [
       "Run data is saved locally in <code>c:\\Users\\ZAMTOL\\git\\hack\\wandb\\run-20240804_144235-o2n7az0g</code>"
      ],
      "text/plain": [
       "<IPython.core.display.HTML object>"
      ]
     },
     "metadata": {},
     "output_type": "display_data"
    },
    {
     "data": {
      "text/html": [
       "Syncing run <strong><a href='https://wandb.ai/zamtol/uncategorized/runs/o2n7az0g' target=\"_blank\">vivid-sweep-10</a></strong> to <a href='https://wandb.ai/zamtol/uncategorized' target=\"_blank\">Weights & Biases</a> (<a href='https://wandb.me/run' target=\"_blank\">docs</a>)<br/>Sweep page: <a href='https://wandb.ai/zamtol/uncategorized/sweeps/xrxgo72j' target=\"_blank\">https://wandb.ai/zamtol/uncategorized/sweeps/xrxgo72j</a>"
      ],
      "text/plain": [
       "<IPython.core.display.HTML object>"
      ]
     },
     "metadata": {},
     "output_type": "display_data"
    },
    {
     "data": {
      "text/html": [
       " View project at <a href='https://wandb.ai/zamtol/uncategorized' target=\"_blank\">https://wandb.ai/zamtol/uncategorized</a>"
      ],
      "text/plain": [
       "<IPython.core.display.HTML object>"
      ]
     },
     "metadata": {},
     "output_type": "display_data"
    },
    {
     "data": {
      "text/html": [
       " View sweep at <a href='https://wandb.ai/zamtol/uncategorized/sweeps/xrxgo72j' target=\"_blank\">https://wandb.ai/zamtol/uncategorized/sweeps/xrxgo72j</a>"
      ],
      "text/plain": [
       "<IPython.core.display.HTML object>"
      ]
     },
     "metadata": {},
     "output_type": "display_data"
    },
    {
     "data": {
      "text/html": [
       " View run at <a href='https://wandb.ai/zamtol/uncategorized/runs/o2n7az0g' target=\"_blank\">https://wandb.ai/zamtol/uncategorized/runs/o2n7az0g</a>"
      ],
      "text/plain": [
       "<IPython.core.display.HTML object>"
      ]
     },
     "metadata": {},
     "output_type": "display_data"
    },
    {
     "name": "stdout",
     "output_type": "stream",
     "text": [
      "Epoch 1/200, Loss: 0.6963, Validation Accuracy: 0.5300, AUC: 0.8031\n",
      "Epoch 2/200, Loss: 1.0246, Validation Accuracy: 0.5300, AUC: 0.1858\n",
      "Epoch 3/200, Loss: 0.6919, Validation Accuracy: 0.5300, AUC: 0.7824\n",
      "Epoch 4/200, Loss: 0.6821, Validation Accuracy: 0.5300, AUC: 0.7854\n",
      "Epoch 5/200, Loss: 0.8398, Validation Accuracy: 0.4700, AUC: 0.1615\n",
      "Epoch 6/200, Loss: 0.7032, Validation Accuracy: 0.4700, AUC: 0.8151\n",
      "Epoch 7/200, Loss: 0.7052, Validation Accuracy: 0.4700, AUC: 0.8360\n",
      "Epoch 8/200, Loss: 0.7066, Validation Accuracy: 0.4700, AUC: 0.8334\n",
      "Epoch 9/200, Loss: 0.7000, Validation Accuracy: 0.5950, AUC: 0.8190\n",
      "Epoch 10/200, Loss: 0.6884, Validation Accuracy: 0.5300, AUC: 0.8102\n",
      "Epoch 11/200, Loss: 0.6767, Validation Accuracy: 0.5300, AUC: 0.8373\n",
      "Epoch 12/200, Loss: 0.6905, Validation Accuracy: 0.5300, AUC: 0.8780\n",
      "Epoch 13/200, Loss: 0.6682, Validation Accuracy: 0.5300, AUC: 0.8658\n",
      "Epoch 14/200, Loss: 0.6551, Validation Accuracy: 0.5567, AUC: 0.8834\n",
      "Epoch 15/200, Loss: 0.6279, Validation Accuracy: 0.6250, AUC: 0.8819\n",
      "Epoch 16/200, Loss: 0.5763, Validation Accuracy: 0.5517, AUC: 0.5498\n",
      "Epoch 17/200, Loss: 0.6841, Validation Accuracy: 0.6850, AUC: 0.8751\n",
      "Epoch 18/200, Loss: 0.7771, Validation Accuracy: 0.5550, AUC: 0.5247\n",
      "Epoch 19/200, Loss: 0.6775, Validation Accuracy: 0.5917, AUC: 0.6642\n",
      "Epoch 20/200, Loss: 0.6630, Validation Accuracy: 0.5300, AUC: 0.6999\n",
      "Epoch 21/200, Loss: 0.7796, Validation Accuracy: 0.5900, AUC: 0.7122\n",
      "Epoch 22/200, Loss: 0.6563, Validation Accuracy: 0.4700, AUC: 0.7728\n",
      "Epoch 23/200, Loss: 0.6989, Validation Accuracy: 0.4700, AUC: 0.7687\n",
      "Epoch 24/200, Loss: 0.7081, Validation Accuracy: 0.4700, AUC: 0.7929\n",
      "Epoch 25/200, Loss: 0.6950, Validation Accuracy: 0.5683, AUC: 0.8095\n",
      "Epoch 26/200, Loss: 0.6537, Validation Accuracy: 0.5300, AUC: 0.8288\n",
      "Epoch 27/200, Loss: 1.0705, Validation Accuracy: 0.5550, AUC: 0.8386\n",
      "Epoch 28/200, Loss: 0.6495, Validation Accuracy: 0.4700, AUC: 0.8330\n",
      "Epoch 29/200, Loss: 0.6855, Validation Accuracy: 0.4700, AUC: 0.8382\n",
      "Epoch 30/200, Loss: 0.6948, Validation Accuracy: 0.4717, AUC: 0.8346\n",
      "Epoch 31/200, Loss: 0.6838, Validation Accuracy: 0.6583, AUC: 0.8287\n",
      "Epoch 32/200, Loss: 0.6552, Validation Accuracy: 0.5300, AUC: 0.8249\n",
      "Epoch 33/200, Loss: 0.6597, Validation Accuracy: 0.5350, AUC: 0.8396\n",
      "Epoch 34/200, Loss: 0.6444, Validation Accuracy: 0.5800, AUC: 0.8523\n",
      "Epoch 35/200, Loss: 0.6332, Validation Accuracy: 0.6150, AUC: 0.8637\n",
      "Epoch 36/200, Loss: 0.6236, Validation Accuracy: 0.5900, AUC: 0.8723\n",
      "Epoch 37/200, Loss: 0.6044, Validation Accuracy: 0.7867, AUC: 0.8813\n",
      "Epoch 38/200, Loss: 0.5683, Validation Accuracy: 0.5867, AUC: 0.8810\n",
      "Epoch 39/200, Loss: 0.6285, Validation Accuracy: 0.4700, AUC: 0.7388\n",
      "Epoch 40/200, Loss: 1.8214, Validation Accuracy: 0.7033, AUC: 0.8779\n",
      "Epoch 41/200, Loss: 0.5168, Validation Accuracy: 0.5683, AUC: 0.8808\n",
      "Epoch 42/200, Loss: 0.7137, Validation Accuracy: 0.6267, AUC: 0.8837\n",
      "Epoch 43/200, Loss: 0.5661, Validation Accuracy: 0.7483, AUC: 0.8846\n",
      "Epoch 44/200, Loss: 0.6166, Validation Accuracy: 0.7017, AUC: 0.8851\n",
      "Epoch 45/200, Loss: 0.6257, Validation Accuracy: 0.7833, AUC: 0.8860\n",
      "Epoch 46/200, Loss: 0.5998, Validation Accuracy: 0.8000, AUC: 0.8869\n",
      "Epoch 47/200, Loss: 0.5604, Validation Accuracy: 0.6983, AUC: 0.8873\n",
      "Epoch 48/200, Loss: 0.5321, Validation Accuracy: 0.6617, AUC: 0.8871\n",
      "Epoch 49/200, Loss: 0.5310, Validation Accuracy: 0.6917, AUC: 0.8866\n",
      "Epoch 50/200, Loss: 0.5119, Validation Accuracy: 0.7850, AUC: 0.8840\n",
      "Epoch 51/200, Loss: 0.4713, Validation Accuracy: 0.7767, AUC: 0.8542\n",
      "Epoch 52/200, Loss: 0.5124, Validation Accuracy: 0.8050, AUC: 0.8763\n",
      "Epoch 53/200, Loss: 0.4442, Validation Accuracy: 0.7817, AUC: 0.8849\n",
      "Epoch 54/200, Loss: 0.4625, Validation Accuracy: 0.8033, AUC: 0.8761\n",
      "Epoch 55/200, Loss: 0.4268, Validation Accuracy: 0.7917, AUC: 0.8507\n",
      "Epoch 56/200, Loss: 0.4431, Validation Accuracy: 0.8100, AUC: 0.8766\n",
      "Epoch 57/200, Loss: 0.4107, Validation Accuracy: 0.8083, AUC: 0.8940\n",
      "Epoch 58/200, Loss: 0.4264, Validation Accuracy: 0.8100, AUC: 0.8778\n",
      "Epoch 59/200, Loss: 0.3963, Validation Accuracy: 0.8233, AUC: 0.8919\n",
      "Epoch 60/200, Loss: 0.3860, Validation Accuracy: 0.8217, AUC: 0.8979\n",
      "Epoch 61/200, Loss: 0.3897, Validation Accuracy: 0.8183, AUC: 0.8986\n",
      "Epoch 62/200, Loss: 0.3758, Validation Accuracy: 0.8350, AUC: 0.8999\n",
      "Epoch 63/200, Loss: 0.3618, Validation Accuracy: 0.8333, AUC: 0.9014\n",
      "Epoch 64/200, Loss: 0.3644, Validation Accuracy: 0.8250, AUC: 0.9024\n",
      "Epoch 65/200, Loss: 0.3685, Validation Accuracy: 0.8350, AUC: 0.9005\n",
      "Epoch 66/200, Loss: 0.3625, Validation Accuracy: 0.8317, AUC: 0.9042\n",
      "Epoch 67/200, Loss: 0.3561, Validation Accuracy: 0.8300, AUC: 0.9053\n",
      "Epoch 68/200, Loss: 0.3575, Validation Accuracy: 0.8333, AUC: 0.9049\n",
      "Epoch 69/200, Loss: 0.3563, Validation Accuracy: 0.8300, AUC: 0.9053\n",
      "Epoch 70/200, Loss: 0.3495, Validation Accuracy: 0.8333, AUC: 0.9057\n",
      "Epoch 71/200, Loss: 0.3475, Validation Accuracy: 0.8333, AUC: 0.9045\n",
      "Epoch 72/200, Loss: 0.3467, Validation Accuracy: 0.8350, AUC: 0.9059\n",
      "Epoch 73/200, Loss: 0.3442, Validation Accuracy: 0.8350, AUC: 0.9059\n",
      "Epoch 74/200, Loss: 0.3428, Validation Accuracy: 0.8300, AUC: 0.9068\n",
      "Epoch 75/200, Loss: 0.3417, Validation Accuracy: 0.8333, AUC: 0.9061\n",
      "Epoch 76/200, Loss: 0.3391, Validation Accuracy: 0.8350, AUC: 0.9074\n",
      "Epoch 77/200, Loss: 0.3373, Validation Accuracy: 0.8367, AUC: 0.9086\n",
      "Epoch 78/200, Loss: 0.3350, Validation Accuracy: 0.8383, AUC: 0.9089\n",
      "Epoch 79/200, Loss: 0.3328, Validation Accuracy: 0.8400, AUC: 0.9101\n",
      "Epoch 80/200, Loss: 0.3307, Validation Accuracy: 0.8517, AUC: 0.9118\n",
      "Epoch 81/200, Loss: 0.3287, Validation Accuracy: 0.8450, AUC: 0.9133\n",
      "Epoch 82/200, Loss: 0.3287, Validation Accuracy: 0.8517, AUC: 0.9198\n",
      "Epoch 83/200, Loss: 0.3330, Validation Accuracy: 0.7900, AUC: 0.9026\n",
      "Epoch 84/200, Loss: 0.3884, Validation Accuracy: 0.7967, AUC: 0.9122\n",
      "Epoch 85/200, Loss: 0.4284, Validation Accuracy: 0.8433, AUC: 0.9125\n",
      "Epoch 86/200, Loss: 0.3387, Validation Accuracy: 0.8000, AUC: 0.9184\n",
      "Epoch 87/200, Loss: 0.3773, Validation Accuracy: 0.8467, AUC: 0.9199\n",
      "Epoch 88/200, Loss: 0.3340, Validation Accuracy: 0.8217, AUC: 0.9186\n",
      "Epoch 89/200, Loss: 0.3742, Validation Accuracy: 0.8350, AUC: 0.9164\n",
      "Epoch 90/200, Loss: 0.3387, Validation Accuracy: 0.8383, AUC: 0.9135\n",
      "Epoch 91/200, Loss: 0.3632, Validation Accuracy: 0.8417, AUC: 0.9146\n",
      "Epoch 92/200, Loss: 0.3349, Validation Accuracy: 0.8267, AUC: 0.9145\n",
      "Epoch 93/200, Loss: 0.3561, Validation Accuracy: 0.8417, AUC: 0.9154\n",
      "Epoch 94/200, Loss: 0.3283, Validation Accuracy: 0.8367, AUC: 0.9150\n",
      "Epoch 95/200, Loss: 0.3419, Validation Accuracy: 0.8400, AUC: 0.9133\n",
      "Epoch 96/200, Loss: 0.3328, Validation Accuracy: 0.8400, AUC: 0.9139\n",
      "Epoch 97/200, Loss: 0.3301, Validation Accuracy: 0.8200, AUC: 0.9159\n",
      "Epoch 98/200, Loss: 0.3594, Validation Accuracy: 0.8350, AUC: 0.9148\n",
      "Epoch 99/200, Loss: 0.3493, Validation Accuracy: 0.8500, AUC: 0.9163\n",
      "Epoch 100/200, Loss: 0.3183, Validation Accuracy: 0.8400, AUC: 0.9146\n",
      "Epoch 101/200, Loss: 0.3380, Validation Accuracy: 0.8417, AUC: 0.9163\n",
      "Epoch 102/200, Loss: 0.3190, Validation Accuracy: 0.8367, AUC: 0.9160\n",
      "Epoch 103/200, Loss: 0.3320, Validation Accuracy: 0.8450, AUC: 0.9160\n",
      "Epoch 104/200, Loss: 0.3161, Validation Accuracy: 0.8483, AUC: 0.9167\n",
      "Epoch 105/200, Loss: 0.3196, Validation Accuracy: 0.8017, AUC: 0.9198\n",
      "Epoch 106/200, Loss: 0.3899, Validation Accuracy: 0.8483, AUC: 0.9204\n",
      "Epoch 107/200, Loss: 0.3183, Validation Accuracy: 0.8283, AUC: 0.9193\n",
      "Epoch 108/200, Loss: 0.3641, Validation Accuracy: 0.8433, AUC: 0.9232\n",
      "Epoch 109/200, Loss: 0.3243, Validation Accuracy: 0.8283, AUC: 0.9213\n",
      "Epoch 110/200, Loss: 0.3469, Validation Accuracy: 0.8450, AUC: 0.9212\n",
      "Epoch 111/200, Loss: 0.3132, Validation Accuracy: 0.8250, AUC: 0.9207\n",
      "Epoch 112/200, Loss: 0.3439, Validation Accuracy: 0.8483, AUC: 0.9217\n",
      "Epoch 113/200, Loss: 0.3073, Validation Accuracy: 0.8350, AUC: 0.9238\n",
      "Epoch 114/200, Loss: 0.3293, Validation Accuracy: 0.8533, AUC: 0.9261\n",
      "Epoch 115/200, Loss: 0.3024, Validation Accuracy: 0.8367, AUC: 0.9236\n",
      "Epoch 116/200, Loss: 0.3224, Validation Accuracy: 0.8533, AUC: 0.9267\n",
      "Epoch 117/200, Loss: 0.2999, Validation Accuracy: 0.8400, AUC: 0.9289\n",
      "Epoch 118/200, Loss: 0.3166, Validation Accuracy: 0.8550, AUC: 0.9293\n",
      "Epoch 119/200, Loss: 0.2934, Validation Accuracy: 0.8383, AUC: 0.9282\n",
      "Epoch 120/200, Loss: 0.3095, Validation Accuracy: 0.8583, AUC: 0.9298\n",
      "Epoch 121/200, Loss: 0.2879, Validation Accuracy: 0.8417, AUC: 0.9304\n",
      "Epoch 122/200, Loss: 0.3010, Validation Accuracy: 0.8617, AUC: 0.9318\n",
      "Epoch 123/200, Loss: 0.2851, Validation Accuracy: 0.8533, AUC: 0.9328\n",
      "Epoch 124/200, Loss: 0.2929, Validation Accuracy: 0.8667, AUC: 0.9338\n",
      "Epoch 125/200, Loss: 0.2839, Validation Accuracy: 0.8533, AUC: 0.9348\n",
      "Epoch 126/200, Loss: 0.2893, Validation Accuracy: 0.8617, AUC: 0.9365\n",
      "Epoch 127/200, Loss: 0.2772, Validation Accuracy: 0.8550, AUC: 0.9384\n",
      "Epoch 128/200, Loss: 0.2820, Validation Accuracy: 0.8650, AUC: 0.9374\n",
      "Epoch 129/200, Loss: 0.2720, Validation Accuracy: 0.8650, AUC: 0.9403\n",
      "Epoch 130/200, Loss: 0.2753, Validation Accuracy: 0.8267, AUC: 0.9365\n",
      "Epoch 131/200, Loss: 0.3762, Validation Accuracy: 0.8333, AUC: 0.9371\n",
      "Epoch 132/200, Loss: 0.2938, Validation Accuracy: 0.8133, AUC: 0.9349\n",
      "Epoch 133/200, Loss: 0.3447, Validation Accuracy: 0.8617, AUC: 0.9335\n",
      "Epoch 134/200, Loss: 0.2864, Validation Accuracy: 0.8317, AUC: 0.9343\n",
      "Epoch 135/200, Loss: 0.3305, Validation Accuracy: 0.8583, AUC: 0.9390\n",
      "Epoch 136/200, Loss: 0.2905, Validation Accuracy: 0.8450, AUC: 0.9443\n",
      "Epoch 137/200, Loss: 0.2859, Validation Accuracy: 0.8483, AUC: 0.9448\n",
      "Epoch 138/200, Loss: 0.2962, Validation Accuracy: 0.8583, AUC: 0.9418\n",
      "Epoch 139/200, Loss: 0.2776, Validation Accuracy: 0.8550, AUC: 0.9434\n",
      "Epoch 140/200, Loss: 0.2689, Validation Accuracy: 0.8667, AUC: 0.9429\n",
      "Epoch 141/200, Loss: 0.2696, Validation Accuracy: 0.8633, AUC: 0.9397\n",
      "Epoch 142/200, Loss: 0.2791, Validation Accuracy: 0.8550, AUC: 0.9436\n",
      "Epoch 143/200, Loss: 0.2806, Validation Accuracy: 0.8700, AUC: 0.9480\n",
      "Epoch 144/200, Loss: 0.2507, Validation Accuracy: 0.8717, AUC: 0.9496\n",
      "Epoch 145/200, Loss: 0.2626, Validation Accuracy: 0.8883, AUC: 0.9510\n",
      "Epoch 146/200, Loss: 0.2511, Validation Accuracy: 0.8750, AUC: 0.9519\n",
      "Epoch 147/200, Loss: 0.2538, Validation Accuracy: 0.8883, AUC: 0.9533\n",
      "Epoch 148/200, Loss: 0.2394, Validation Accuracy: 0.8767, AUC: 0.9500\n",
      "Epoch 149/200, Loss: 0.2433, Validation Accuracy: 0.8850, AUC: 0.9486\n",
      "Epoch 150/200, Loss: 0.2419, Validation Accuracy: 0.8817, AUC: 0.9503\n",
      "Epoch 151/200, Loss: 0.2413, Validation Accuracy: 0.8933, AUC: 0.9533\n",
      "Epoch 152/200, Loss: 0.2339, Validation Accuracy: 0.8867, AUC: 0.9549\n",
      "Epoch 153/200, Loss: 0.2327, Validation Accuracy: 0.8950, AUC: 0.9551\n",
      "Epoch 154/200, Loss: 0.2356, Validation Accuracy: 0.8900, AUC: 0.9565\n",
      "Epoch 155/200, Loss: 0.2328, Validation Accuracy: 0.8817, AUC: 0.9577\n",
      "Epoch 156/200, Loss: 0.2297, Validation Accuracy: 0.8917, AUC: 0.9576\n",
      "Epoch 157/200, Loss: 0.2271, Validation Accuracy: 0.8933, AUC: 0.9551\n",
      "Epoch 158/200, Loss: 0.2301, Validation Accuracy: 0.8917, AUC: 0.9561\n",
      "Epoch 159/200, Loss: 0.2273, Validation Accuracy: 0.8833, AUC: 0.9573\n",
      "Epoch 160/200, Loss: 0.2244, Validation Accuracy: 0.8867, AUC: 0.9553\n",
      "Epoch 161/200, Loss: 0.2255, Validation Accuracy: 0.8983, AUC: 0.9593\n",
      "Epoch 162/200, Loss: 0.2243, Validation Accuracy: 0.8850, AUC: 0.9557\n",
      "Epoch 163/200, Loss: 0.2317, Validation Accuracy: 0.8483, AUC: 0.9013\n",
      "Epoch 164/200, Loss: 0.3776, Validation Accuracy: 0.8817, AUC: 0.9462\n",
      "Epoch 165/200, Loss: 0.2622, Validation Accuracy: 0.8800, AUC: 0.9432\n",
      "Epoch 166/200, Loss: 0.2778, Validation Accuracy: 0.8767, AUC: 0.9424\n",
      "Epoch 167/200, Loss: 0.2777, Validation Accuracy: 0.8750, AUC: 0.9427\n",
      "Epoch 168/200, Loss: 0.2779, Validation Accuracy: 0.8817, AUC: 0.9435\n",
      "Epoch 169/200, Loss: 0.2715, Validation Accuracy: 0.8833, AUC: 0.9440\n",
      "Epoch 170/200, Loss: 0.2671, Validation Accuracy: 0.8850, AUC: 0.9441\n",
      "Epoch 171/200, Loss: 0.2677, Validation Accuracy: 0.8783, AUC: 0.9447\n",
      "Epoch 172/200, Loss: 0.2690, Validation Accuracy: 0.8717, AUC: 0.9425\n",
      "Epoch 173/200, Loss: 0.2711, Validation Accuracy: 0.8767, AUC: 0.9447\n",
      "Epoch 174/200, Loss: 0.2693, Validation Accuracy: 0.8817, AUC: 0.9431\n",
      "Epoch 175/200, Loss: 0.2642, Validation Accuracy: 0.8750, AUC: 0.9439\n",
      "Epoch 176/200, Loss: 0.2633, Validation Accuracy: 0.8867, AUC: 0.9464\n",
      "Epoch 177/200, Loss: 0.2633, Validation Accuracy: 0.8717, AUC: 0.9444\n",
      "Epoch 178/200, Loss: 0.2591, Validation Accuracy: 0.8733, AUC: 0.9456\n",
      "Epoch 179/200, Loss: 0.2568, Validation Accuracy: 0.8867, AUC: 0.9461\n",
      "Epoch 180/200, Loss: 0.2571, Validation Accuracy: 0.8667, AUC: 0.9449\n",
      "Epoch 181/200, Loss: 0.2555, Validation Accuracy: 0.8767, AUC: 0.9472\n",
      "Epoch 182/200, Loss: 0.2538, Validation Accuracy: 0.8833, AUC: 0.9481\n",
      "Epoch 183/200, Loss: 0.2531, Validation Accuracy: 0.8700, AUC: 0.9480\n",
      "Epoch 184/200, Loss: 0.2523, Validation Accuracy: 0.8717, AUC: 0.9481\n",
      "Epoch 185/200, Loss: 0.2510, Validation Accuracy: 0.8883, AUC: 0.9487\n",
      "Epoch 186/200, Loss: 0.2508, Validation Accuracy: 0.8700, AUC: 0.9486\n",
      "Epoch 187/200, Loss: 0.2500, Validation Accuracy: 0.8750, AUC: 0.9482\n",
      "Epoch 188/200, Loss: 0.2479, Validation Accuracy: 0.8917, AUC: 0.9486\n",
      "Epoch 189/200, Loss: 0.2495, Validation Accuracy: 0.8583, AUC: 0.9456\n",
      "Epoch 190/200, Loss: 0.2577, Validation Accuracy: 0.8800, AUC: 0.9490\n",
      "Epoch 191/200, Loss: 0.2578, Validation Accuracy: 0.8633, AUC: 0.9482\n",
      "Epoch 192/200, Loss: 0.2520, Validation Accuracy: 0.8750, AUC: 0.9497\n",
      "Epoch 193/200, Loss: 0.2456, Validation Accuracy: 0.8867, AUC: 0.9495\n",
      "Epoch 194/200, Loss: 0.2490, Validation Accuracy: 0.8583, AUC: 0.9498\n",
      "Epoch 195/200, Loss: 0.2530, Validation Accuracy: 0.8833, AUC: 0.9507\n",
      "Epoch 196/200, Loss: 0.2451, Validation Accuracy: 0.8883, AUC: 0.9506\n",
      "Epoch 197/200, Loss: 0.2478, Validation Accuracy: 0.8617, AUC: 0.9510\n",
      "Epoch 198/200, Loss: 0.2575, Validation Accuracy: 0.8867, AUC: 0.9512\n",
      "Epoch 199/200, Loss: 0.2440, Validation Accuracy: 0.8867, AUC: 0.9513\n",
      "Epoch 200/200, Loss: 0.2445, Validation Accuracy: 0.8667, AUC: 0.9502\n"
     ]
    },
    {
     "data": {
      "text/html": [
       "<style>\n",
       "    table.wandb td:nth-child(1) { padding: 0 10px; text-align: left ; width: auto;} td:nth-child(2) {text-align: left ; width: 100%}\n",
       "    .wandb-row { display: flex; flex-direction: row; flex-wrap: wrap; justify-content: flex-start; width: 100% }\n",
       "    .wandb-col { display: flex; flex-direction: column; flex-basis: 100%; flex: 1; padding: 10px; }\n",
       "    </style>\n",
       "<div class=\"wandb-row\"><div class=\"wandb-col\"><h3>Run history:</h3><br/><table class=\"wandb\"><tr><td>Final Best Epoch</td><td>▁</td></tr><tr><td>Final Best Val Accuracy</td><td>▁</td></tr><tr><td>best_epoch</td><td>▁▁▁▂▂▂▂▂▃▃▃▃▄▄▄▄▄▄▄▄▄▄▄▆▆▆▆▆▇▇██████████</td></tr><tr><td>best_val_accuracy</td><td>▁▁▂▃▄▄▄▄▆▆▆▆▇▇▇▇▇▇▇▇▇▇▇▇▇▇▇▇▇███████████</td></tr><tr><td>roc_auc</td><td>▁▇▇▄▆▇▇▇▇▇▇▇▇███████████████████████████</td></tr><tr><td>train_loss</td><td>█▅▅▄▅▅▅▄▅▄▃▃▂▂▂▂▂▂▂▂▂▂▂▂▂▁▁▂▁▁▁▁▂▁▁▁▁▁▁▁</td></tr><tr><td>val_accuracy</td><td>▂▁▂▂▁▂▂▃▄▆▇▇▇▇▇▇▇▇▇▇▇▇▇▇██▇▇██████████▇█</td></tr></table><br/></div><div class=\"wandb-col\"><h3>Run summary:</h3><br/><table class=\"wandb\"><tr><td>Final Best Epoch</td><td>161</td></tr><tr><td>Final Best Val Accuracy</td><td>0.89833</td></tr><tr><td>best_epoch</td><td>161</td></tr><tr><td>best_val_accuracy</td><td>0.89833</td></tr><tr><td>roc_auc</td><td>0.95022</td></tr><tr><td>train_loss</td><td>0.2445</td></tr><tr><td>val_accuracy</td><td>0.86667</td></tr></table><br/></div></div>"
      ],
      "text/plain": [
       "<IPython.core.display.HTML object>"
      ]
     },
     "metadata": {},
     "output_type": "display_data"
    },
    {
     "data": {
      "text/html": [
       " View run <strong style=\"color:#cdcd00\">vivid-sweep-10</strong> at: <a href='https://wandb.ai/zamtol/uncategorized/runs/o2n7az0g' target=\"_blank\">https://wandb.ai/zamtol/uncategorized/runs/o2n7az0g</a><br/> View project at: <a href='https://wandb.ai/zamtol/uncategorized' target=\"_blank\">https://wandb.ai/zamtol/uncategorized</a><br/>Synced 5 W&B file(s), 200 media file(s), 0 artifact file(s) and 0 other file(s)"
      ],
      "text/plain": [
       "<IPython.core.display.HTML object>"
      ]
     },
     "metadata": {},
     "output_type": "display_data"
    },
    {
     "data": {
      "text/html": [
       "Find logs at: <code>.\\wandb\\run-20240804_144235-o2n7az0g\\logs</code>"
      ],
      "text/plain": [
       "<IPython.core.display.HTML object>"
      ]
     },
     "metadata": {},
     "output_type": "display_data"
    },
    {
     "data": {
      "text/html": [
       "The new W&B backend becomes opt-out in version 0.18.0; try it out with `wandb.require(\"core\")`! See https://wandb.me/wandb-core for more information."
      ],
      "text/plain": [
       "<IPython.core.display.HTML object>"
      ]
     },
     "metadata": {},
     "output_type": "display_data"
    },
    {
     "name": "stderr",
     "output_type": "stream",
     "text": [
      "\u001b[34m\u001b[1mwandb\u001b[0m: Sweep Agent: Waiting for job.\n",
      "\u001b[34m\u001b[1mwandb\u001b[0m: Job received.\n",
      "\u001b[34m\u001b[1mwandb\u001b[0m: Agent Starting Run: th375swl with config:\n",
      "\u001b[34m\u001b[1mwandb\u001b[0m: \tarchitecture: RandomForest\n",
      "\u001b[34m\u001b[1mwandb\u001b[0m: \tepochs: 200\n",
      "\u001b[34m\u001b[1mwandb\u001b[0m: \tlearning_rate: 0.05\n",
      "\u001b[34m\u001b[1mwandb\u001b[0m: \tseed: 42\n",
      "\u001b[34m\u001b[1mwandb\u001b[0m: \tweight_decay: 0.0005\n",
      "Failed to detect the name of this notebook, you can set it manually with the WANDB_NOTEBOOK_NAME environment variable to enable code saving.\n"
     ]
    },
    {
     "data": {
      "text/html": [
       "Tracking run with wandb version 0.17.5"
      ],
      "text/plain": [
       "<IPython.core.display.HTML object>"
      ]
     },
     "metadata": {},
     "output_type": "display_data"
    },
    {
     "data": {
      "text/html": [
       "Run data is saved locally in <code>c:\\Users\\ZAMTOL\\git\\hack\\wandb\\run-20240804_144317-th375swl</code>"
      ],
      "text/plain": [
       "<IPython.core.display.HTML object>"
      ]
     },
     "metadata": {},
     "output_type": "display_data"
    },
    {
     "data": {
      "text/html": [
       "Syncing run <strong><a href='https://wandb.ai/zamtol/uncategorized/runs/th375swl' target=\"_blank\">sweet-sweep-11</a></strong> to <a href='https://wandb.ai/zamtol/uncategorized' target=\"_blank\">Weights & Biases</a> (<a href='https://wandb.me/run' target=\"_blank\">docs</a>)<br/>Sweep page: <a href='https://wandb.ai/zamtol/uncategorized/sweeps/xrxgo72j' target=\"_blank\">https://wandb.ai/zamtol/uncategorized/sweeps/xrxgo72j</a>"
      ],
      "text/plain": [
       "<IPython.core.display.HTML object>"
      ]
     },
     "metadata": {},
     "output_type": "display_data"
    },
    {
     "data": {
      "text/html": [
       " View project at <a href='https://wandb.ai/zamtol/uncategorized' target=\"_blank\">https://wandb.ai/zamtol/uncategorized</a>"
      ],
      "text/plain": [
       "<IPython.core.display.HTML object>"
      ]
     },
     "metadata": {},
     "output_type": "display_data"
    },
    {
     "data": {
      "text/html": [
       " View sweep at <a href='https://wandb.ai/zamtol/uncategorized/sweeps/xrxgo72j' target=\"_blank\">https://wandb.ai/zamtol/uncategorized/sweeps/xrxgo72j</a>"
      ],
      "text/plain": [
       "<IPython.core.display.HTML object>"
      ]
     },
     "metadata": {},
     "output_type": "display_data"
    },
    {
     "data": {
      "text/html": [
       " View run at <a href='https://wandb.ai/zamtol/uncategorized/runs/th375swl' target=\"_blank\">https://wandb.ai/zamtol/uncategorized/runs/th375swl</a>"
      ],
      "text/plain": [
       "<IPython.core.display.HTML object>"
      ]
     },
     "metadata": {},
     "output_type": "display_data"
    },
    {
     "name": "stdout",
     "output_type": "stream",
     "text": [
      "Epoch 1/200, Loss: 0.6940, Validation Accuracy: 0.5300, AUC: 0.8057\n",
      "Epoch 2/200, Loss: 0.6826, Validation Accuracy: 0.5300, AUC: 0.8470\n",
      "Epoch 3/200, Loss: 0.6906, Validation Accuracy: 0.5300, AUC: 0.8804\n",
      "Epoch 4/200, Loss: 0.6840, Validation Accuracy: 0.5300, AUC: 0.8862\n",
      "Epoch 5/200, Loss: 0.6886, Validation Accuracy: 0.5300, AUC: 0.8817\n",
      "Epoch 6/200, Loss: 0.6851, Validation Accuracy: 0.5300, AUC: 0.8696\n",
      "Epoch 7/200, Loss: 0.6755, Validation Accuracy: 0.5300, AUC: 0.8570\n",
      "Epoch 8/200, Loss: 0.6731, Validation Accuracy: 0.5300, AUC: 0.8763\n",
      "Epoch 9/200, Loss: 0.6601, Validation Accuracy: 0.5300, AUC: 0.8800\n",
      "Epoch 10/200, Loss: 0.6440, Validation Accuracy: 0.5550, AUC: 0.8784\n",
      "Epoch 11/200, Loss: 0.6129, Validation Accuracy: 0.7483, AUC: 0.8589\n",
      "Epoch 12/200, Loss: 0.5777, Validation Accuracy: 0.6250, AUC: 0.8732\n",
      "Epoch 13/200, Loss: 0.6379, Validation Accuracy: 0.7033, AUC: 0.7708\n",
      "Epoch 14/200, Loss: 0.6161, Validation Accuracy: 0.5750, AUC: 0.7034\n",
      "Epoch 15/200, Loss: 0.6736, Validation Accuracy: 0.6333, AUC: 0.8618\n",
      "Epoch 16/200, Loss: 0.6503, Validation Accuracy: 0.7650, AUC: 0.8674\n",
      "Epoch 17/200, Loss: 0.5568, Validation Accuracy: 0.6767, AUC: 0.8721\n",
      "Epoch 18/200, Loss: 0.5575, Validation Accuracy: 0.6867, AUC: 0.8726\n",
      "Epoch 19/200, Loss: 0.5495, Validation Accuracy: 0.7750, AUC: 0.8709\n",
      "Epoch 20/200, Loss: 0.5069, Validation Accuracy: 0.7667, AUC: 0.8680\n",
      "Epoch 21/200, Loss: 0.5365, Validation Accuracy: 0.7767, AUC: 0.8703\n",
      "Epoch 22/200, Loss: 0.5031, Validation Accuracy: 0.7667, AUC: 0.8782\n",
      "Epoch 23/200, Loss: 0.4741, Validation Accuracy: 0.7583, AUC: 0.8833\n",
      "Epoch 24/200, Loss: 0.4842, Validation Accuracy: 0.7950, AUC: 0.8764\n",
      "Epoch 25/200, Loss: 0.4372, Validation Accuracy: 0.7867, AUC: 0.8795\n",
      "Epoch 26/200, Loss: 0.4491, Validation Accuracy: 0.8000, AUC: 0.8879\n",
      "Epoch 27/200, Loss: 0.4089, Validation Accuracy: 0.8067, AUC: 0.8912\n",
      "Epoch 28/200, Loss: 0.4167, Validation Accuracy: 0.8067, AUC: 0.8959\n",
      "Epoch 29/200, Loss: 0.3947, Validation Accuracy: 0.8100, AUC: 0.8980\n",
      "Epoch 30/200, Loss: 0.3843, Validation Accuracy: 0.8133, AUC: 0.8980\n",
      "Epoch 31/200, Loss: 0.3898, Validation Accuracy: 0.8350, AUC: 0.8981\n",
      "Epoch 32/200, Loss: 0.3690, Validation Accuracy: 0.8317, AUC: 0.8981\n",
      "Epoch 33/200, Loss: 0.3723, Validation Accuracy: 0.8250, AUC: 0.9022\n",
      "Epoch 34/200, Loss: 0.3808, Validation Accuracy: 0.8300, AUC: 0.8997\n",
      "Epoch 35/200, Loss: 0.3753, Validation Accuracy: 0.8317, AUC: 0.9001\n",
      "Epoch 36/200, Loss: 0.3578, Validation Accuracy: 0.8317, AUC: 0.9000\n",
      "Epoch 37/200, Loss: 0.3684, Validation Accuracy: 0.8267, AUC: 0.9007\n",
      "Epoch 38/200, Loss: 0.3667, Validation Accuracy: 0.8317, AUC: 0.9062\n",
      "Epoch 39/200, Loss: 0.3531, Validation Accuracy: 0.8250, AUC: 0.9063\n",
      "Epoch 40/200, Loss: 0.3597, Validation Accuracy: 0.8300, AUC: 0.9077\n",
      "Epoch 41/200, Loss: 0.3576, Validation Accuracy: 0.8367, AUC: 0.9086\n",
      "Epoch 42/200, Loss: 0.3471, Validation Accuracy: 0.8350, AUC: 0.9086\n",
      "Epoch 43/200, Loss: 0.3519, Validation Accuracy: 0.8417, AUC: 0.9112\n",
      "Epoch 44/200, Loss: 0.3486, Validation Accuracy: 0.8433, AUC: 0.9125\n",
      "Epoch 45/200, Loss: 0.3417, Validation Accuracy: 0.8367, AUC: 0.9127\n",
      "Epoch 46/200, Loss: 0.3453, Validation Accuracy: 0.8417, AUC: 0.9145\n",
      "Epoch 47/200, Loss: 0.3381, Validation Accuracy: 0.8433, AUC: 0.9166\n",
      "Epoch 48/200, Loss: 0.3366, Validation Accuracy: 0.8450, AUC: 0.9176\n",
      "Epoch 49/200, Loss: 0.3376, Validation Accuracy: 0.8450, AUC: 0.9199\n",
      "Epoch 50/200, Loss: 0.3303, Validation Accuracy: 0.8483, AUC: 0.9203\n",
      "Epoch 51/200, Loss: 0.3304, Validation Accuracy: 0.8517, AUC: 0.9192\n",
      "Epoch 52/200, Loss: 0.3291, Validation Accuracy: 0.8517, AUC: 0.9207\n",
      "Epoch 53/200, Loss: 0.3235, Validation Accuracy: 0.8600, AUC: 0.9219\n",
      "Epoch 54/200, Loss: 0.3231, Validation Accuracy: 0.8583, AUC: 0.9219\n",
      "Epoch 55/200, Loss: 0.3207, Validation Accuracy: 0.8583, AUC: 0.9255\n",
      "Epoch 56/200, Loss: 0.3164, Validation Accuracy: 0.8633, AUC: 0.9223\n",
      "Epoch 57/200, Loss: 0.3149, Validation Accuracy: 0.8583, AUC: 0.9235\n",
      "Epoch 58/200, Loss: 0.3142, Validation Accuracy: 0.8583, AUC: 0.9264\n",
      "Epoch 59/200, Loss: 0.3124, Validation Accuracy: 0.8633, AUC: 0.9278\n",
      "Epoch 60/200, Loss: 0.3083, Validation Accuracy: 0.8633, AUC: 0.9297\n",
      "Epoch 61/200, Loss: 0.3041, Validation Accuracy: 0.8617, AUC: 0.9310\n",
      "Epoch 62/200, Loss: 0.3006, Validation Accuracy: 0.8633, AUC: 0.9325\n",
      "Epoch 63/200, Loss: 0.2975, Validation Accuracy: 0.8650, AUC: 0.9343\n",
      "Epoch 64/200, Loss: 0.2947, Validation Accuracy: 0.8700, AUC: 0.9347\n",
      "Epoch 65/200, Loss: 0.2947, Validation Accuracy: 0.8533, AUC: 0.9382\n",
      "Epoch 66/200, Loss: 0.3171, Validation Accuracy: 0.8167, AUC: 0.9343\n",
      "Epoch 67/200, Loss: 0.4047, Validation Accuracy: 0.7717, AUC: 0.9315\n",
      "Epoch 68/200, Loss: 0.4554, Validation Accuracy: 0.8717, AUC: 0.9349\n",
      "Epoch 69/200, Loss: 0.2985, Validation Accuracy: 0.8033, AUC: 0.9345\n",
      "Epoch 70/200, Loss: 0.4677, Validation Accuracy: 0.8500, AUC: 0.9352\n",
      "Epoch 71/200, Loss: 0.3184, Validation Accuracy: 0.8033, AUC: 0.9350\n",
      "Epoch 72/200, Loss: 0.4032, Validation Accuracy: 0.8633, AUC: 0.9375\n",
      "Epoch 73/200, Loss: 0.3060, Validation Accuracy: 0.8017, AUC: 0.9357\n",
      "Epoch 74/200, Loss: 0.4006, Validation Accuracy: 0.8750, AUC: 0.9355\n",
      "Epoch 75/200, Loss: 0.3085, Validation Accuracy: 0.8200, AUC: 0.9378\n",
      "Epoch 76/200, Loss: 0.3729, Validation Accuracy: 0.8633, AUC: 0.9368\n",
      "Epoch 77/200, Loss: 0.3113, Validation Accuracy: 0.8667, AUC: 0.9385\n",
      "Epoch 78/200, Loss: 0.3004, Validation Accuracy: 0.8767, AUC: 0.9395\n",
      "Epoch 79/200, Loss: 0.2924, Validation Accuracy: 0.8717, AUC: 0.9382\n",
      "Epoch 80/200, Loss: 0.2886, Validation Accuracy: 0.8767, AUC: 0.9393\n",
      "Epoch 81/200, Loss: 0.2841, Validation Accuracy: 0.8817, AUC: 0.9387\n",
      "Epoch 82/200, Loss: 0.2804, Validation Accuracy: 0.8833, AUC: 0.9392\n",
      "Epoch 83/200, Loss: 0.2769, Validation Accuracy: 0.8817, AUC: 0.9400\n",
      "Epoch 84/200, Loss: 0.2741, Validation Accuracy: 0.8800, AUC: 0.9414\n",
      "Epoch 85/200, Loss: 0.2702, Validation Accuracy: 0.8667, AUC: 0.9410\n",
      "Epoch 86/200, Loss: 0.2840, Validation Accuracy: 0.8733, AUC: 0.9420\n",
      "Epoch 87/200, Loss: 0.2798, Validation Accuracy: 0.8717, AUC: 0.9430\n",
      "Epoch 88/200, Loss: 0.2622, Validation Accuracy: 0.8700, AUC: 0.9417\n",
      "Epoch 89/200, Loss: 0.2739, Validation Accuracy: 0.8700, AUC: 0.9456\n",
      "Epoch 90/200, Loss: 0.2753, Validation Accuracy: 0.8033, AUC: 0.9376\n",
      "Epoch 91/200, Loss: 0.4312, Validation Accuracy: 0.7517, AUC: 0.9381\n",
      "Epoch 92/200, Loss: 0.6455, Validation Accuracy: 0.8700, AUC: 0.9421\n",
      "Epoch 93/200, Loss: 0.2801, Validation Accuracy: 0.7417, AUC: 0.9267\n",
      "Epoch 94/200, Loss: 0.5026, Validation Accuracy: 0.8617, AUC: 0.9274\n",
      "Epoch 95/200, Loss: 0.3137, Validation Accuracy: 0.8167, AUC: 0.9277\n",
      "Epoch 96/200, Loss: 0.4643, Validation Accuracy: 0.8467, AUC: 0.9335\n",
      "Epoch 97/200, Loss: 0.3179, Validation Accuracy: 0.8333, AUC: 0.9439\n",
      "Epoch 98/200, Loss: 0.3539, Validation Accuracy: 0.8233, AUC: 0.9438\n",
      "Epoch 99/200, Loss: 0.3555, Validation Accuracy: 0.8800, AUC: 0.9424\n",
      "Epoch 100/200, Loss: 0.2868, Validation Accuracy: 0.7950, AUC: 0.9300\n",
      "Epoch 101/200, Loss: 0.3647, Validation Accuracy: 0.8267, AUC: 0.9323\n",
      "Epoch 102/200, Loss: 0.3187, Validation Accuracy: 0.8633, AUC: 0.9436\n",
      "Epoch 103/200, Loss: 0.2963, Validation Accuracy: 0.8483, AUC: 0.9480\n",
      "Epoch 104/200, Loss: 0.3231, Validation Accuracy: 0.8800, AUC: 0.9474\n",
      "Epoch 105/200, Loss: 0.2868, Validation Accuracy: 0.8283, AUC: 0.9466\n",
      "Epoch 106/200, Loss: 0.3678, Validation Accuracy: 0.8767, AUC: 0.9452\n",
      "Epoch 107/200, Loss: 0.2789, Validation Accuracy: 0.8700, AUC: 0.9450\n",
      "Epoch 108/200, Loss: 0.2979, Validation Accuracy: 0.8783, AUC: 0.9444\n",
      "Epoch 109/200, Loss: 0.2785, Validation Accuracy: 0.8717, AUC: 0.9468\n",
      "Epoch 110/200, Loss: 0.2679, Validation Accuracy: 0.8733, AUC: 0.9470\n",
      "Epoch 111/200, Loss: 0.2665, Validation Accuracy: 0.8500, AUC: 0.9454\n",
      "Epoch 112/200, Loss: 0.2973, Validation Accuracy: 0.8517, AUC: 0.9489\n",
      "Epoch 113/200, Loss: 0.3223, Validation Accuracy: 0.8767, AUC: 0.9500\n",
      "Epoch 114/200, Loss: 0.2668, Validation Accuracy: 0.8483, AUC: 0.9488\n",
      "Epoch 115/200, Loss: 0.3032, Validation Accuracy: 0.8750, AUC: 0.9490\n",
      "Epoch 116/200, Loss: 0.2624, Validation Accuracy: 0.8683, AUC: 0.9503\n",
      "Epoch 117/200, Loss: 0.2793, Validation Accuracy: 0.8750, AUC: 0.9502\n",
      "Epoch 118/200, Loss: 0.2667, Validation Accuracy: 0.8817, AUC: 0.9493\n",
      "Epoch 119/200, Loss: 0.2568, Validation Accuracy: 0.8633, AUC: 0.9450\n",
      "Epoch 120/200, Loss: 0.2734, Validation Accuracy: 0.8733, AUC: 0.9461\n",
      "Epoch 121/200, Loss: 0.2507, Validation Accuracy: 0.8667, AUC: 0.9480\n",
      "Epoch 122/200, Loss: 0.2654, Validation Accuracy: 0.8750, AUC: 0.9486\n",
      "Epoch 123/200, Loss: 0.2537, Validation Accuracy: 0.8850, AUC: 0.9500\n",
      "Epoch 124/200, Loss: 0.2519, Validation Accuracy: 0.8783, AUC: 0.9513\n",
      "Epoch 125/200, Loss: 0.2582, Validation Accuracy: 0.8933, AUC: 0.9514\n",
      "Epoch 126/200, Loss: 0.2476, Validation Accuracy: 0.8750, AUC: 0.9512\n",
      "Epoch 127/200, Loss: 0.2556, Validation Accuracy: 0.8833, AUC: 0.9513\n",
      "Epoch 128/200, Loss: 0.2487, Validation Accuracy: 0.8883, AUC: 0.9513\n",
      "Epoch 129/200, Loss: 0.2484, Validation Accuracy: 0.8817, AUC: 0.9487\n",
      "Epoch 130/200, Loss: 0.2497, Validation Accuracy: 0.8817, AUC: 0.9481\n",
      "Epoch 131/200, Loss: 0.2458, Validation Accuracy: 0.8750, AUC: 0.9486\n",
      "Epoch 132/200, Loss: 0.2486, Validation Accuracy: 0.8883, AUC: 0.9497\n",
      "Epoch 133/200, Loss: 0.2433, Validation Accuracy: 0.8850, AUC: 0.9506\n",
      "Epoch 134/200, Loss: 0.2455, Validation Accuracy: 0.8833, AUC: 0.9512\n",
      "Epoch 135/200, Loss: 0.2443, Validation Accuracy: 0.8883, AUC: 0.9518\n",
      "Epoch 136/200, Loss: 0.2440, Validation Accuracy: 0.8867, AUC: 0.9514\n",
      "Epoch 137/200, Loss: 0.2438, Validation Accuracy: 0.8850, AUC: 0.9500\n",
      "Epoch 138/200, Loss: 0.2413, Validation Accuracy: 0.8833, AUC: 0.9488\n",
      "Epoch 139/200, Loss: 0.2429, Validation Accuracy: 0.8867, AUC: 0.9487\n",
      "Epoch 140/200, Loss: 0.2418, Validation Accuracy: 0.8900, AUC: 0.9499\n",
      "Epoch 141/200, Loss: 0.2416, Validation Accuracy: 0.8600, AUC: 0.9504\n",
      "Epoch 142/200, Loss: 0.2709, Validation Accuracy: 0.8450, AUC: 0.9518\n",
      "Epoch 143/200, Loss: 0.3011, Validation Accuracy: 0.8783, AUC: 0.9526\n",
      "Epoch 144/200, Loss: 0.2543, Validation Accuracy: 0.8717, AUC: 0.9531\n",
      "Epoch 145/200, Loss: 0.2700, Validation Accuracy: 0.8700, AUC: 0.9531\n",
      "Epoch 146/200, Loss: 0.2687, Validation Accuracy: 0.8800, AUC: 0.9528\n",
      "Epoch 147/200, Loss: 0.2464, Validation Accuracy: 0.8583, AUC: 0.9517\n",
      "Epoch 148/200, Loss: 0.2744, Validation Accuracy: 0.8900, AUC: 0.9502\n",
      "Epoch 149/200, Loss: 0.2420, Validation Accuracy: 0.8617, AUC: 0.9513\n",
      "Epoch 150/200, Loss: 0.2684, Validation Accuracy: 0.8883, AUC: 0.9519\n",
      "Epoch 151/200, Loss: 0.2440, Validation Accuracy: 0.8750, AUC: 0.9534\n",
      "Epoch 152/200, Loss: 0.2527, Validation Accuracy: 0.8850, AUC: 0.9531\n",
      "Epoch 153/200, Loss: 0.2535, Validation Accuracy: 0.8900, AUC: 0.9531\n",
      "Epoch 154/200, Loss: 0.2439, Validation Accuracy: 0.8750, AUC: 0.9533\n",
      "Epoch 155/200, Loss: 0.2536, Validation Accuracy: 0.8900, AUC: 0.9527\n",
      "Epoch 156/200, Loss: 0.2384, Validation Accuracy: 0.8783, AUC: 0.9512\n",
      "Epoch 157/200, Loss: 0.2491, Validation Accuracy: 0.8850, AUC: 0.9503\n",
      "Epoch 158/200, Loss: 0.2422, Validation Accuracy: 0.8783, AUC: 0.9511\n",
      "Epoch 159/200, Loss: 0.2442, Validation Accuracy: 0.8817, AUC: 0.9521\n",
      "Epoch 160/200, Loss: 0.2400, Validation Accuracy: 0.8900, AUC: 0.9525\n",
      "Epoch 161/200, Loss: 0.2397, Validation Accuracy: 0.8900, AUC: 0.9523\n",
      "Epoch 162/200, Loss: 0.2419, Validation Accuracy: 0.8800, AUC: 0.9539\n",
      "Epoch 163/200, Loss: 0.2381, Validation Accuracy: 0.8883, AUC: 0.9538\n",
      "Epoch 164/200, Loss: 0.2405, Validation Accuracy: 0.8833, AUC: 0.9536\n",
      "Epoch 165/200, Loss: 0.2351, Validation Accuracy: 0.8767, AUC: 0.9515\n",
      "Epoch 166/200, Loss: 0.2392, Validation Accuracy: 0.8883, AUC: 0.9513\n",
      "Epoch 167/200, Loss: 0.2356, Validation Accuracy: 0.8850, AUC: 0.9527\n",
      "Epoch 168/200, Loss: 0.2371, Validation Accuracy: 0.8833, AUC: 0.9531\n",
      "Epoch 169/200, Loss: 0.2340, Validation Accuracy: 0.8817, AUC: 0.9534\n",
      "Epoch 170/200, Loss: 0.2360, Validation Accuracy: 0.8867, AUC: 0.9537\n",
      "Epoch 171/200, Loss: 0.2342, Validation Accuracy: 0.8883, AUC: 0.9538\n",
      "Epoch 172/200, Loss: 0.2341, Validation Accuracy: 0.8900, AUC: 0.9531\n",
      "Epoch 173/200, Loss: 0.2329, Validation Accuracy: 0.8867, AUC: 0.9524\n",
      "Epoch 174/200, Loss: 0.2332, Validation Accuracy: 0.8867, AUC: 0.9523\n",
      "Epoch 175/200, Loss: 0.2323, Validation Accuracy: 0.8850, AUC: 0.9526\n",
      "Epoch 176/200, Loss: 0.2317, Validation Accuracy: 0.8850, AUC: 0.9527\n",
      "Epoch 177/200, Loss: 0.2309, Validation Accuracy: 0.8883, AUC: 0.9535\n",
      "Epoch 178/200, Loss: 0.2314, Validation Accuracy: 0.8833, AUC: 0.9534\n",
      "Epoch 179/200, Loss: 0.2292, Validation Accuracy: 0.8867, AUC: 0.9536\n",
      "Epoch 180/200, Loss: 0.2307, Validation Accuracy: 0.8833, AUC: 0.9530\n",
      "Epoch 181/200, Loss: 0.2282, Validation Accuracy: 0.8850, AUC: 0.9531\n",
      "Epoch 182/200, Loss: 0.2284, Validation Accuracy: 0.8850, AUC: 0.9526\n",
      "Epoch 183/200, Loss: 0.2288, Validation Accuracy: 0.8850, AUC: 0.9530\n",
      "Epoch 184/200, Loss: 0.2265, Validation Accuracy: 0.8850, AUC: 0.9530\n",
      "Epoch 185/200, Loss: 0.2266, Validation Accuracy: 0.8867, AUC: 0.9535\n",
      "Epoch 186/200, Loss: 0.2261, Validation Accuracy: 0.8867, AUC: 0.9537\n",
      "Epoch 187/200, Loss: 0.2252, Validation Accuracy: 0.8867, AUC: 0.9537\n",
      "Epoch 188/200, Loss: 0.2243, Validation Accuracy: 0.8867, AUC: 0.9536\n",
      "Epoch 189/200, Loss: 0.2238, Validation Accuracy: 0.8850, AUC: 0.9535\n",
      "Epoch 190/200, Loss: 0.2237, Validation Accuracy: 0.8867, AUC: 0.9526\n",
      "Epoch 191/200, Loss: 0.2252, Validation Accuracy: 0.8817, AUC: 0.9536\n",
      "Epoch 192/200, Loss: 0.2286, Validation Accuracy: 0.8867, AUC: 0.9536\n",
      "Epoch 193/200, Loss: 0.2294, Validation Accuracy: 0.8867, AUC: 0.9541\n",
      "Epoch 194/200, Loss: 0.2245, Validation Accuracy: 0.8850, AUC: 0.9542\n",
      "Epoch 195/200, Loss: 0.2235, Validation Accuracy: 0.8833, AUC: 0.9531\n",
      "Epoch 196/200, Loss: 0.2255, Validation Accuracy: 0.8867, AUC: 0.9542\n",
      "Epoch 197/200, Loss: 0.2274, Validation Accuracy: 0.8817, AUC: 0.9540\n",
      "Epoch 198/200, Loss: 0.2276, Validation Accuracy: 0.8900, AUC: 0.9548\n",
      "Epoch 199/200, Loss: 0.2270, Validation Accuracy: 0.8867, AUC: 0.9551\n",
      "Epoch 200/200, Loss: 0.2230, Validation Accuracy: 0.8817, AUC: 0.9514\n"
     ]
    },
    {
     "data": {
      "text/html": [
       "<style>\n",
       "    table.wandb td:nth-child(1) { padding: 0 10px; text-align: left ; width: auto;} td:nth-child(2) {text-align: left ; width: 100%}\n",
       "    .wandb-row { display: flex; flex-direction: row; flex-wrap: wrap; justify-content: flex-start; width: 100% }\n",
       "    .wandb-col { display: flex; flex-direction: column; flex-basis: 100%; flex: 1; padding: 10px; }\n",
       "    </style>\n",
       "<div class=\"wandb-row\"><div class=\"wandb-col\"><h3>Run history:</h3><br/><table class=\"wandb\"><tr><td>Final Best Epoch</td><td>▁</td></tr><tr><td>Final Best Val Accuracy</td><td>▁</td></tr><tr><td>best_epoch</td><td>▁▁▂▂▂▂▃▃▃▃▄▄▄▅▅▅▆▆▆▆▆▆▆▆▆███████████████</td></tr><tr><td>best_val_accuracy</td><td>▁▁▅▆▆▆▇▇▇▇▇▇▇███████████████████████████</td></tr><tr><td>roc_auc</td><td>▁▂▃▂▃▄▄▄▅▅▆▆▇▇▇▇▇▇▇▇▇▇██████████████████</td></tr><tr><td>train_loss</td><td>██▆▇▅▄▃▃▃▃▃▂▂▅▄▂▂▂▇▃▂▂▂▂▂▁▁▁▁▂▁▁▁▁▁▁▁▁▁▁</td></tr><tr><td>val_accuracy</td><td>▁▁▃▆▆▆▇▇▇▇▇▇▇█▇████▇▇█▇█████████████████</td></tr></table><br/></div><div class=\"wandb-col\"><h3>Run summary:</h3><br/><table class=\"wandb\"><tr><td>Final Best Epoch</td><td>125</td></tr><tr><td>Final Best Val Accuracy</td><td>0.89333</td></tr><tr><td>best_epoch</td><td>125</td></tr><tr><td>best_val_accuracy</td><td>0.89333</td></tr><tr><td>roc_auc</td><td>0.95143</td></tr><tr><td>train_loss</td><td>0.22298</td></tr><tr><td>val_accuracy</td><td>0.88167</td></tr></table><br/></div></div>"
      ],
      "text/plain": [
       "<IPython.core.display.HTML object>"
      ]
     },
     "metadata": {},
     "output_type": "display_data"
    },
    {
     "data": {
      "text/html": [
       " View run <strong style=\"color:#cdcd00\">sweet-sweep-11</strong> at: <a href='https://wandb.ai/zamtol/uncategorized/runs/th375swl' target=\"_blank\">https://wandb.ai/zamtol/uncategorized/runs/th375swl</a><br/> View project at: <a href='https://wandb.ai/zamtol/uncategorized' target=\"_blank\">https://wandb.ai/zamtol/uncategorized</a><br/>Synced 5 W&B file(s), 200 media file(s), 0 artifact file(s) and 0 other file(s)"
      ],
      "text/plain": [
       "<IPython.core.display.HTML object>"
      ]
     },
     "metadata": {},
     "output_type": "display_data"
    },
    {
     "data": {
      "text/html": [
       "Find logs at: <code>.\\wandb\\run-20240804_144317-th375swl\\logs</code>"
      ],
      "text/plain": [
       "<IPython.core.display.HTML object>"
      ]
     },
     "metadata": {},
     "output_type": "display_data"
    },
    {
     "data": {
      "text/html": [
       "The new W&B backend becomes opt-out in version 0.18.0; try it out with `wandb.require(\"core\")`! See https://wandb.me/wandb-core for more information."
      ],
      "text/plain": [
       "<IPython.core.display.HTML object>"
      ]
     },
     "metadata": {},
     "output_type": "display_data"
    },
    {
     "name": "stderr",
     "output_type": "stream",
     "text": [
      "\u001b[34m\u001b[1mwandb\u001b[0m: Sweep Agent: Waiting for job.\n",
      "\u001b[34m\u001b[1mwandb\u001b[0m: Job received.\n",
      "\u001b[34m\u001b[1mwandb\u001b[0m: Agent Starting Run: l5cg3nic with config:\n",
      "\u001b[34m\u001b[1mwandb\u001b[0m: \tarchitecture: RandomForest\n",
      "\u001b[34m\u001b[1mwandb\u001b[0m: \tepochs: 200\n",
      "\u001b[34m\u001b[1mwandb\u001b[0m: \tlearning_rate: 0.05\n",
      "\u001b[34m\u001b[1mwandb\u001b[0m: \tseed: 42\n",
      "\u001b[34m\u001b[1mwandb\u001b[0m: \tweight_decay: 0.0001\n",
      "Failed to detect the name of this notebook, you can set it manually with the WANDB_NOTEBOOK_NAME environment variable to enable code saving.\n"
     ]
    },
    {
     "data": {
      "text/html": [
       "Tracking run with wandb version 0.17.5"
      ],
      "text/plain": [
       "<IPython.core.display.HTML object>"
      ]
     },
     "metadata": {},
     "output_type": "display_data"
    },
    {
     "data": {
      "text/html": [
       "Run data is saved locally in <code>c:\\Users\\ZAMTOL\\git\\hack\\wandb\\run-20240804_144400-l5cg3nic</code>"
      ],
      "text/plain": [
       "<IPython.core.display.HTML object>"
      ]
     },
     "metadata": {},
     "output_type": "display_data"
    },
    {
     "data": {
      "text/html": [
       "Syncing run <strong><a href='https://wandb.ai/zamtol/uncategorized/runs/l5cg3nic' target=\"_blank\">vibrant-sweep-12</a></strong> to <a href='https://wandb.ai/zamtol/uncategorized' target=\"_blank\">Weights & Biases</a> (<a href='https://wandb.me/run' target=\"_blank\">docs</a>)<br/>Sweep page: <a href='https://wandb.ai/zamtol/uncategorized/sweeps/xrxgo72j' target=\"_blank\">https://wandb.ai/zamtol/uncategorized/sweeps/xrxgo72j</a>"
      ],
      "text/plain": [
       "<IPython.core.display.HTML object>"
      ]
     },
     "metadata": {},
     "output_type": "display_data"
    },
    {
     "data": {
      "text/html": [
       " View project at <a href='https://wandb.ai/zamtol/uncategorized' target=\"_blank\">https://wandb.ai/zamtol/uncategorized</a>"
      ],
      "text/plain": [
       "<IPython.core.display.HTML object>"
      ]
     },
     "metadata": {},
     "output_type": "display_data"
    },
    {
     "data": {
      "text/html": [
       " View sweep at <a href='https://wandb.ai/zamtol/uncategorized/sweeps/xrxgo72j' target=\"_blank\">https://wandb.ai/zamtol/uncategorized/sweeps/xrxgo72j</a>"
      ],
      "text/plain": [
       "<IPython.core.display.HTML object>"
      ]
     },
     "metadata": {},
     "output_type": "display_data"
    },
    {
     "data": {
      "text/html": [
       " View run at <a href='https://wandb.ai/zamtol/uncategorized/runs/l5cg3nic' target=\"_blank\">https://wandb.ai/zamtol/uncategorized/runs/l5cg3nic</a>"
      ],
      "text/plain": [
       "<IPython.core.display.HTML object>"
      ]
     },
     "metadata": {},
     "output_type": "display_data"
    },
    {
     "name": "stdout",
     "output_type": "stream",
     "text": [
      "Epoch 1/200, Loss: 0.6930, Validation Accuracy: 0.5300, AUC: 0.7841\n",
      "Epoch 2/200, Loss: 0.6848, Validation Accuracy: 0.5300, AUC: 0.8778\n",
      "Epoch 3/200, Loss: 0.6843, Validation Accuracy: 0.5300, AUC: 0.8644\n",
      "Epoch 4/200, Loss: 0.6692, Validation Accuracy: 0.5300, AUC: 0.8684\n",
      "Epoch 5/200, Loss: 0.6912, Validation Accuracy: 0.5783, AUC: 0.8723\n",
      "Epoch 6/200, Loss: 0.6710, Validation Accuracy: 0.5017, AUC: 0.8672\n",
      "Epoch 7/200, Loss: 0.6891, Validation Accuracy: 0.4700, AUC: 0.8631\n",
      "Epoch 8/200, Loss: 0.6908, Validation Accuracy: 0.5650, AUC: 0.8727\n",
      "Epoch 9/200, Loss: 0.6861, Validation Accuracy: 0.6633, AUC: 0.8792\n",
      "Epoch 10/200, Loss: 0.6771, Validation Accuracy: 0.5300, AUC: 0.8806\n",
      "Epoch 11/200, Loss: 0.6625, Validation Accuracy: 0.5300, AUC: 0.8786\n",
      "Epoch 12/200, Loss: 0.6516, Validation Accuracy: 0.5300, AUC: 0.8799\n",
      "Epoch 13/200, Loss: 0.6634, Validation Accuracy: 0.5300, AUC: 0.8826\n",
      "Epoch 14/200, Loss: 0.6304, Validation Accuracy: 0.6133, AUC: 0.8764\n",
      "Epoch 15/200, Loss: 0.6235, Validation Accuracy: 0.7350, AUC: 0.8689\n",
      "Epoch 16/200, Loss: 0.6042, Validation Accuracy: 0.7300, AUC: 0.8686\n",
      "Epoch 17/200, Loss: 0.5633, Validation Accuracy: 0.6483, AUC: 0.8747\n",
      "Epoch 18/200, Loss: 0.5598, Validation Accuracy: 0.7750, AUC: 0.8513\n",
      "Epoch 19/200, Loss: 0.5040, Validation Accuracy: 0.7783, AUC: 0.8389\n",
      "Epoch 20/200, Loss: 0.4795, Validation Accuracy: 0.7450, AUC: 0.8762\n",
      "Epoch 21/200, Loss: 0.5263, Validation Accuracy: 0.7683, AUC: 0.8369\n",
      "Epoch 22/200, Loss: 0.4746, Validation Accuracy: 0.7833, AUC: 0.8575\n",
      "Epoch 23/200, Loss: 0.4380, Validation Accuracy: 0.7983, AUC: 0.8849\n",
      "Epoch 24/200, Loss: 0.4667, Validation Accuracy: 0.8100, AUC: 0.8833\n",
      "Epoch 25/200, Loss: 0.4068, Validation Accuracy: 0.7967, AUC: 0.8809\n",
      "Epoch 26/200, Loss: 0.4445, Validation Accuracy: 0.8250, AUC: 0.8924\n",
      "Epoch 27/200, Loss: 0.3907, Validation Accuracy: 0.7933, AUC: 0.8986\n",
      "Epoch 28/200, Loss: 0.4210, Validation Accuracy: 0.8367, AUC: 0.8981\n",
      "Epoch 29/200, Loss: 0.3816, Validation Accuracy: 0.8183, AUC: 0.8975\n",
      "Epoch 30/200, Loss: 0.4057, Validation Accuracy: 0.8317, AUC: 0.9006\n",
      "Epoch 31/200, Loss: 0.3731, Validation Accuracy: 0.8133, AUC: 0.9018\n",
      "Epoch 32/200, Loss: 0.3970, Validation Accuracy: 0.8367, AUC: 0.9034\n",
      "Epoch 33/200, Loss: 0.3663, Validation Accuracy: 0.8267, AUC: 0.9040\n",
      "Epoch 34/200, Loss: 0.3857, Validation Accuracy: 0.8350, AUC: 0.9071\n",
      "Epoch 35/200, Loss: 0.3617, Validation Accuracy: 0.8217, AUC: 0.9081\n",
      "Epoch 36/200, Loss: 0.3798, Validation Accuracy: 0.8333, AUC: 0.9123\n",
      "Epoch 37/200, Loss: 0.3573, Validation Accuracy: 0.8333, AUC: 0.9058\n",
      "Epoch 38/200, Loss: 0.3707, Validation Accuracy: 0.8383, AUC: 0.9088\n",
      "Epoch 39/200, Loss: 0.3534, Validation Accuracy: 0.8333, AUC: 0.9132\n",
      "Epoch 40/200, Loss: 0.3661, Validation Accuracy: 0.8350, AUC: 0.9098\n",
      "Epoch 41/200, Loss: 0.3485, Validation Accuracy: 0.8400, AUC: 0.9141\n",
      "Epoch 42/200, Loss: 0.3516, Validation Accuracy: 0.8350, AUC: 0.9139\n",
      "Epoch 43/200, Loss: 0.3475, Validation Accuracy: 0.8383, AUC: 0.9180\n",
      "Epoch 44/200, Loss: 0.3384, Validation Accuracy: 0.8417, AUC: 0.9216\n",
      "Epoch 45/200, Loss: 0.3345, Validation Accuracy: 0.8483, AUC: 0.9241\n",
      "Epoch 46/200, Loss: 0.3274, Validation Accuracy: 0.8450, AUC: 0.9277\n",
      "Epoch 47/200, Loss: 0.3194, Validation Accuracy: 0.8450, AUC: 0.9256\n",
      "Epoch 48/200, Loss: 0.3152, Validation Accuracy: 0.8567, AUC: 0.9307\n",
      "Epoch 49/200, Loss: 0.3137, Validation Accuracy: 0.8500, AUC: 0.9322\n",
      "Epoch 50/200, Loss: 0.3111, Validation Accuracy: 0.8550, AUC: 0.9305\n",
      "Epoch 51/200, Loss: 0.2962, Validation Accuracy: 0.8567, AUC: 0.9311\n",
      "Epoch 52/200, Loss: 0.2914, Validation Accuracy: 0.8650, AUC: 0.9343\n",
      "Epoch 53/200, Loss: 0.2866, Validation Accuracy: 0.8400, AUC: 0.9334\n",
      "Epoch 54/200, Loss: 0.3052, Validation Accuracy: 0.8233, AUC: 0.9309\n",
      "Epoch 55/200, Loss: 0.3342, Validation Accuracy: 0.8400, AUC: 0.9319\n",
      "Epoch 56/200, Loss: 0.3103, Validation Accuracy: 0.8633, AUC: 0.9305\n",
      "Epoch 57/200, Loss: 0.2927, Validation Accuracy: 0.8600, AUC: 0.9351\n",
      "Epoch 58/200, Loss: 0.3037, Validation Accuracy: 0.8383, AUC: 0.9281\n",
      "Epoch 59/200, Loss: 0.2894, Validation Accuracy: 0.8533, AUC: 0.9307\n",
      "Epoch 60/200, Loss: 0.2920, Validation Accuracy: 0.8717, AUC: 0.9415\n",
      "Epoch 61/200, Loss: 0.2755, Validation Accuracy: 0.8700, AUC: 0.9404\n",
      "Epoch 62/200, Loss: 0.2702, Validation Accuracy: 0.8567, AUC: 0.9419\n",
      "Epoch 63/200, Loss: 0.2813, Validation Accuracy: 0.8817, AUC: 0.9438\n",
      "Epoch 64/200, Loss: 0.2641, Validation Accuracy: 0.8717, AUC: 0.9449\n",
      "Epoch 65/200, Loss: 0.2696, Validation Accuracy: 0.8700, AUC: 0.9435\n",
      "Epoch 66/200, Loss: 0.2663, Validation Accuracy: 0.8717, AUC: 0.9444\n",
      "Epoch 67/200, Loss: 0.2532, Validation Accuracy: 0.8750, AUC: 0.9461\n",
      "Epoch 68/200, Loss: 0.2547, Validation Accuracy: 0.8783, AUC: 0.9436\n",
      "Epoch 69/200, Loss: 0.2508, Validation Accuracy: 0.8800, AUC: 0.9456\n",
      "Epoch 70/200, Loss: 0.2445, Validation Accuracy: 0.8767, AUC: 0.9467\n",
      "Epoch 71/200, Loss: 0.2415, Validation Accuracy: 0.8750, AUC: 0.9453\n",
      "Epoch 72/200, Loss: 0.2405, Validation Accuracy: 0.8667, AUC: 0.9494\n",
      "Epoch 73/200, Loss: 0.2446, Validation Accuracy: 0.8600, AUC: 0.9480\n",
      "Epoch 74/200, Loss: 0.2715, Validation Accuracy: 0.8617, AUC: 0.9500\n",
      "Epoch 75/200, Loss: 0.3195, Validation Accuracy: 0.8467, AUC: 0.9479\n",
      "Epoch 76/200, Loss: 0.2880, Validation Accuracy: 0.8833, AUC: 0.9506\n",
      "Epoch 77/200, Loss: 0.2291, Validation Accuracy: 0.8700, AUC: 0.9527\n",
      "Epoch 78/200, Loss: 0.2671, Validation Accuracy: 0.8733, AUC: 0.9522\n",
      "Epoch 79/200, Loss: 0.2516, Validation Accuracy: 0.8900, AUC: 0.9534\n",
      "Epoch 80/200, Loss: 0.2302, Validation Accuracy: 0.8700, AUC: 0.9529\n",
      "Epoch 81/200, Loss: 0.2556, Validation Accuracy: 0.8900, AUC: 0.9552\n",
      "Epoch 82/200, Loss: 0.2235, Validation Accuracy: 0.8750, AUC: 0.9551\n",
      "Epoch 83/200, Loss: 0.2439, Validation Accuracy: 0.8833, AUC: 0.9562\n",
      "Epoch 84/200, Loss: 0.2274, Validation Accuracy: 0.8817, AUC: 0.9565\n",
      "Epoch 85/200, Loss: 0.2315, Validation Accuracy: 0.8817, AUC: 0.9558\n",
      "Epoch 86/200, Loss: 0.2320, Validation Accuracy: 0.8917, AUC: 0.9566\n",
      "Epoch 87/200, Loss: 0.2210, Validation Accuracy: 0.8800, AUC: 0.9579\n",
      "Epoch 88/200, Loss: 0.2331, Validation Accuracy: 0.8867, AUC: 0.9584\n",
      "Epoch 89/200, Loss: 0.2171, Validation Accuracy: 0.8833, AUC: 0.9583\n",
      "Epoch 90/200, Loss: 0.2271, Validation Accuracy: 0.8883, AUC: 0.9584\n",
      "Epoch 91/200, Loss: 0.2188, Validation Accuracy: 0.8917, AUC: 0.9590\n",
      "Epoch 92/200, Loss: 0.2177, Validation Accuracy: 0.8917, AUC: 0.9595\n",
      "Epoch 93/200, Loss: 0.2207, Validation Accuracy: 0.8967, AUC: 0.9600\n",
      "Epoch 94/200, Loss: 0.2120, Validation Accuracy: 0.8900, AUC: 0.9590\n",
      "Epoch 95/200, Loss: 0.2179, Validation Accuracy: 0.9017, AUC: 0.9594\n",
      "Epoch 96/200, Loss: 0.2124, Validation Accuracy: 0.9033, AUC: 0.9599\n",
      "Epoch 97/200, Loss: 0.2090, Validation Accuracy: 0.8933, AUC: 0.9598\n",
      "Epoch 98/200, Loss: 0.2136, Validation Accuracy: 0.8933, AUC: 0.9600\n",
      "Epoch 99/200, Loss: 0.2131, Validation Accuracy: 0.8950, AUC: 0.9599\n",
      "Epoch 100/200, Loss: 0.2061, Validation Accuracy: 0.8950, AUC: 0.9602\n",
      "Epoch 101/200, Loss: 0.2051, Validation Accuracy: 0.8933, AUC: 0.9604\n",
      "Epoch 102/200, Loss: 0.2087, Validation Accuracy: 0.8933, AUC: 0.9605\n",
      "Epoch 103/200, Loss: 0.2106, Validation Accuracy: 0.8883, AUC: 0.9602\n",
      "Epoch 104/200, Loss: 0.2081, Validation Accuracy: 0.9000, AUC: 0.9602\n",
      "Epoch 105/200, Loss: 0.2012, Validation Accuracy: 0.9017, AUC: 0.9605\n",
      "Epoch 106/200, Loss: 0.1978, Validation Accuracy: 0.8933, AUC: 0.9603\n",
      "Epoch 107/200, Loss: 0.1990, Validation Accuracy: 0.9017, AUC: 0.9609\n",
      "Epoch 108/200, Loss: 0.2006, Validation Accuracy: 0.8800, AUC: 0.9607\n",
      "Epoch 109/200, Loss: 0.2041, Validation Accuracy: 0.8950, AUC: 0.9608\n",
      "Epoch 110/200, Loss: 0.2071, Validation Accuracy: 0.8833, AUC: 0.9602\n",
      "Epoch 111/200, Loss: 0.2098, Validation Accuracy: 0.8883, AUC: 0.9614\n",
      "Epoch 112/200, Loss: 0.2045, Validation Accuracy: 0.8900, AUC: 0.9600\n",
      "Epoch 113/200, Loss: 0.1970, Validation Accuracy: 0.9067, AUC: 0.9604\n",
      "Epoch 114/200, Loss: 0.1939, Validation Accuracy: 0.8950, AUC: 0.9615\n",
      "Epoch 115/200, Loss: 0.1905, Validation Accuracy: 0.8917, AUC: 0.9615\n",
      "Epoch 116/200, Loss: 0.1909, Validation Accuracy: 0.9033, AUC: 0.9620\n",
      "Epoch 117/200, Loss: 0.1865, Validation Accuracy: 0.9050, AUC: 0.9609\n",
      "Epoch 118/200, Loss: 0.1884, Validation Accuracy: 0.8967, AUC: 0.9621\n",
      "Epoch 119/200, Loss: 0.1857, Validation Accuracy: 0.8983, AUC: 0.9627\n",
      "Epoch 120/200, Loss: 0.1949, Validation Accuracy: 0.8583, AUC: 0.9608\n",
      "Epoch 121/200, Loss: 0.2193, Validation Accuracy: 0.8683, AUC: 0.9556\n",
      "Epoch 122/200, Loss: 0.2811, Validation Accuracy: 0.8050, AUC: 0.9520\n",
      "Epoch 123/200, Loss: 0.3648, Validation Accuracy: 0.8550, AUC: 0.9585\n",
      "Epoch 124/200, Loss: 0.3767, Validation Accuracy: 0.8783, AUC: 0.9608\n",
      "Epoch 125/200, Loss: 0.2132, Validation Accuracy: 0.8550, AUC: 0.9513\n",
      "Epoch 126/200, Loss: 0.2475, Validation Accuracy: 0.8550, AUC: 0.9468\n",
      "Epoch 127/200, Loss: 0.2803, Validation Accuracy: 0.8617, AUC: 0.9530\n",
      "Epoch 128/200, Loss: 0.2520, Validation Accuracy: 0.8833, AUC: 0.9556\n",
      "Epoch 129/200, Loss: 0.2226, Validation Accuracy: 0.8550, AUC: 0.9287\n",
      "Epoch 130/200, Loss: 0.3206, Validation Accuracy: 0.8550, AUC: 0.9522\n",
      "Epoch 131/200, Loss: 0.2407, Validation Accuracy: 0.8783, AUC: 0.9539\n",
      "Epoch 132/200, Loss: 0.2392, Validation Accuracy: 0.8833, AUC: 0.9587\n",
      "Epoch 133/200, Loss: 0.2420, Validation Accuracy: 0.8883, AUC: 0.9486\n",
      "Epoch 134/200, Loss: 0.2538, Validation Accuracy: 0.8500, AUC: 0.9479\n",
      "Epoch 135/200, Loss: 0.2678, Validation Accuracy: 0.8833, AUC: 0.9530\n",
      "Epoch 136/200, Loss: 0.2331, Validation Accuracy: 0.8733, AUC: 0.9530\n",
      "Epoch 137/200, Loss: 0.2570, Validation Accuracy: 0.8733, AUC: 0.9537\n",
      "Epoch 138/200, Loss: 0.2383, Validation Accuracy: 0.8650, AUC: 0.9546\n",
      "Epoch 139/200, Loss: 0.2490, Validation Accuracy: 0.8783, AUC: 0.9536\n",
      "Epoch 140/200, Loss: 0.2263, Validation Accuracy: 0.8717, AUC: 0.9514\n",
      "Epoch 141/200, Loss: 0.2388, Validation Accuracy: 0.8700, AUC: 0.9508\n",
      "Epoch 142/200, Loss: 0.2259, Validation Accuracy: 0.8717, AUC: 0.9540\n",
      "Epoch 143/200, Loss: 0.2247, Validation Accuracy: 0.8850, AUC: 0.9567\n",
      "Epoch 144/200, Loss: 0.2236, Validation Accuracy: 0.8800, AUC: 0.9569\n",
      "Epoch 145/200, Loss: 0.2193, Validation Accuracy: 0.8733, AUC: 0.9548\n",
      "Epoch 146/200, Loss: 0.2215, Validation Accuracy: 0.8833, AUC: 0.9550\n",
      "Epoch 147/200, Loss: 0.2118, Validation Accuracy: 0.8783, AUC: 0.9564\n",
      "Epoch 148/200, Loss: 0.2187, Validation Accuracy: 0.8900, AUC: 0.9577\n",
      "Epoch 149/200, Loss: 0.2078, Validation Accuracy: 0.8817, AUC: 0.9603\n",
      "Epoch 150/200, Loss: 0.2073, Validation Accuracy: 0.8950, AUC: 0.9614\n",
      "Epoch 151/200, Loss: 0.2037, Validation Accuracy: 0.9000, AUC: 0.9611\n",
      "Epoch 152/200, Loss: 0.2030, Validation Accuracy: 0.8850, AUC: 0.9625\n",
      "Epoch 153/200, Loss: 0.2006, Validation Accuracy: 0.8933, AUC: 0.9630\n",
      "Epoch 154/200, Loss: 0.2004, Validation Accuracy: 0.9083, AUC: 0.9631\n",
      "Epoch 155/200, Loss: 0.1999, Validation Accuracy: 0.8933, AUC: 0.9631\n",
      "Epoch 156/200, Loss: 0.1949, Validation Accuracy: 0.8867, AUC: 0.9618\n",
      "Epoch 157/200, Loss: 0.1982, Validation Accuracy: 0.8950, AUC: 0.9616\n",
      "Epoch 158/200, Loss: 0.1983, Validation Accuracy: 0.8983, AUC: 0.9626\n",
      "Epoch 159/200, Loss: 0.1949, Validation Accuracy: 0.8950, AUC: 0.9639\n",
      "Epoch 160/200, Loss: 0.1947, Validation Accuracy: 0.9017, AUC: 0.9639\n",
      "Epoch 161/200, Loss: 0.1930, Validation Accuracy: 0.9033, AUC: 0.9638\n",
      "Epoch 162/200, Loss: 0.1914, Validation Accuracy: 0.8917, AUC: 0.9633\n",
      "Epoch 163/200, Loss: 0.1905, Validation Accuracy: 0.8967, AUC: 0.9632\n",
      "Epoch 164/200, Loss: 0.1894, Validation Accuracy: 0.9050, AUC: 0.9642\n",
      "Epoch 165/200, Loss: 0.1881, Validation Accuracy: 0.8983, AUC: 0.9643\n",
      "Epoch 166/200, Loss: 0.1876, Validation Accuracy: 0.9017, AUC: 0.9647\n",
      "Epoch 167/200, Loss: 0.1869, Validation Accuracy: 0.9033, AUC: 0.9648\n",
      "Epoch 168/200, Loss: 0.1858, Validation Accuracy: 0.9000, AUC: 0.9652\n",
      "Epoch 169/200, Loss: 0.1848, Validation Accuracy: 0.9050, AUC: 0.9654\n",
      "Epoch 170/200, Loss: 0.1839, Validation Accuracy: 0.9017, AUC: 0.9659\n",
      "Epoch 171/200, Loss: 0.1834, Validation Accuracy: 0.9067, AUC: 0.9662\n",
      "Epoch 172/200, Loss: 0.1829, Validation Accuracy: 0.9033, AUC: 0.9662\n",
      "Epoch 173/200, Loss: 0.1822, Validation Accuracy: 0.9033, AUC: 0.9665\n",
      "Epoch 174/200, Loss: 0.1816, Validation Accuracy: 0.9017, AUC: 0.9642\n",
      "Epoch 175/200, Loss: 0.1857, Validation Accuracy: 0.9150, AUC: 0.9666\n",
      "Epoch 176/200, Loss: 0.1911, Validation Accuracy: 0.8750, AUC: 0.9658\n",
      "Epoch 177/200, Loss: 0.2021, Validation Accuracy: 0.9050, AUC: 0.9665\n",
      "Epoch 178/200, Loss: 0.1956, Validation Accuracy: 0.8950, AUC: 0.9652\n",
      "Epoch 179/200, Loss: 0.1825, Validation Accuracy: 0.8833, AUC: 0.9657\n",
      "Epoch 180/200, Loss: 0.1920, Validation Accuracy: 0.9067, AUC: 0.9664\n",
      "Epoch 181/200, Loss: 0.1881, Validation Accuracy: 0.9000, AUC: 0.9673\n",
      "Epoch 182/200, Loss: 0.1790, Validation Accuracy: 0.8833, AUC: 0.9659\n",
      "Epoch 183/200, Loss: 0.1880, Validation Accuracy: 0.9083, AUC: 0.9669\n",
      "Epoch 184/200, Loss: 0.1996, Validation Accuracy: 0.8850, AUC: 0.9660\n",
      "Epoch 185/200, Loss: 0.1877, Validation Accuracy: 0.8900, AUC: 0.9653\n",
      "Epoch 186/200, Loss: 0.1818, Validation Accuracy: 0.9033, AUC: 0.9666\n",
      "Epoch 187/200, Loss: 0.1924, Validation Accuracy: 0.8867, AUC: 0.9681\n",
      "Epoch 188/200, Loss: 0.1811, Validation Accuracy: 0.9083, AUC: 0.9679\n",
      "Epoch 189/200, Loss: 0.1753, Validation Accuracy: 0.9200, AUC: 0.9680\n",
      "Epoch 190/200, Loss: 0.1811, Validation Accuracy: 0.8850, AUC: 0.9667\n",
      "Epoch 191/200, Loss: 0.1818, Validation Accuracy: 0.9033, AUC: 0.9678\n",
      "Epoch 192/200, Loss: 0.1738, Validation Accuracy: 0.9117, AUC: 0.9683\n",
      "Epoch 193/200, Loss: 0.1746, Validation Accuracy: 0.8917, AUC: 0.9688\n",
      "Epoch 194/200, Loss: 0.1777, Validation Accuracy: 0.9100, AUC: 0.9692\n",
      "Epoch 195/200, Loss: 0.1709, Validation Accuracy: 0.9067, AUC: 0.9688\n",
      "Epoch 196/200, Loss: 0.1707, Validation Accuracy: 0.8900, AUC: 0.9671\n",
      "Epoch 197/200, Loss: 0.1753, Validation Accuracy: 0.9133, AUC: 0.9689\n",
      "Epoch 198/200, Loss: 0.1777, Validation Accuracy: 0.8850, AUC: 0.9688\n",
      "Epoch 199/200, Loss: 0.1743, Validation Accuracy: 0.8967, AUC: 0.9687\n",
      "Epoch 200/200, Loss: 0.1693, Validation Accuracy: 0.9100, AUC: 0.9678\n"
     ]
    },
    {
     "data": {
      "text/html": [
       "<style>\n",
       "    table.wandb td:nth-child(1) { padding: 0 10px; text-align: left ; width: auto;} td:nth-child(2) {text-align: left ; width: 100%}\n",
       "    .wandb-row { display: flex; flex-direction: row; flex-wrap: wrap; justify-content: flex-start; width: 100% }\n",
       "    .wandb-col { display: flex; flex-direction: column; flex-basis: 100%; flex: 1; padding: 10px; }\n",
       "    </style>\n",
       "<div class=\"wandb-row\"><div class=\"wandb-col\"><h3>Run history:</h3><br/><table class=\"wandb\"><tr><td>Final Best Epoch</td><td>▁</td></tr><tr><td>Final Best Val Accuracy</td><td>▁</td></tr><tr><td>best_epoch</td><td>▁▁▁▂▂▂▂▂▂▃▃▃▃▃▃▄▄▄▄▅▅▅▅▅▅▅▅▅▅▅▇▇▇▇▇▇▇▇██</td></tr><tr><td>best_val_accuracy</td><td>▁▂▃▅▆▆▇▇▇▇▇▇▇▇▇▇▇▇▇█████████████████████</td></tr><tr><td>roc_auc</td><td>▂▂▂▂▁▃▄▄▅▅▆▆▆▆▇▇▇▇▇▇▇▇▇█▇▇▇▇▇▇██████████</td></tr><tr><td>train_loss</td><td>███▇▅▅▄▄▃▃▃▃▂▂▂▂▂▂▂▂▂▁▁▁▃▂▂▂▂▂▁▁▁▁▁▁▁▁▁▁</td></tr><tr><td>val_accuracy</td><td>▁▁▁▅▆▇▇▇▇▇▇▇▇▇▇▇▇████▇██▆█▇▇▇███████████</td></tr></table><br/></div><div class=\"wandb-col\"><h3>Run summary:</h3><br/><table class=\"wandb\"><tr><td>Final Best Epoch</td><td>189</td></tr><tr><td>Final Best Val Accuracy</td><td>0.92</td></tr><tr><td>best_epoch</td><td>189</td></tr><tr><td>best_val_accuracy</td><td>0.92</td></tr><tr><td>roc_auc</td><td>0.96783</td></tr><tr><td>train_loss</td><td>0.1693</td></tr><tr><td>val_accuracy</td><td>0.91</td></tr></table><br/></div></div>"
      ],
      "text/plain": [
       "<IPython.core.display.HTML object>"
      ]
     },
     "metadata": {},
     "output_type": "display_data"
    },
    {
     "data": {
      "text/html": [
       " View run <strong style=\"color:#cdcd00\">vibrant-sweep-12</strong> at: <a href='https://wandb.ai/zamtol/uncategorized/runs/l5cg3nic' target=\"_blank\">https://wandb.ai/zamtol/uncategorized/runs/l5cg3nic</a><br/> View project at: <a href='https://wandb.ai/zamtol/uncategorized' target=\"_blank\">https://wandb.ai/zamtol/uncategorized</a><br/>Synced 5 W&B file(s), 200 media file(s), 0 artifact file(s) and 0 other file(s)"
      ],
      "text/plain": [
       "<IPython.core.display.HTML object>"
      ]
     },
     "metadata": {},
     "output_type": "display_data"
    },
    {
     "data": {
      "text/html": [
       "Find logs at: <code>.\\wandb\\run-20240804_144400-l5cg3nic\\logs</code>"
      ],
      "text/plain": [
       "<IPython.core.display.HTML object>"
      ]
     },
     "metadata": {},
     "output_type": "display_data"
    },
    {
     "data": {
      "text/html": [
       "The new W&B backend becomes opt-out in version 0.18.0; try it out with `wandb.require(\"core\")`! See https://wandb.me/wandb-core for more information."
      ],
      "text/plain": [
       "<IPython.core.display.HTML object>"
      ]
     },
     "metadata": {},
     "output_type": "display_data"
    },
    {
     "name": "stderr",
     "output_type": "stream",
     "text": [
      "\u001b[34m\u001b[1mwandb\u001b[0m: Sweep Agent: Waiting for job.\n",
      "\u001b[34m\u001b[1mwandb\u001b[0m: Sweep Agent: Exiting.\n"
     ]
    },
    {
     "name": "stdout",
     "output_type": "stream",
     "text": [
      "Best hyperparameters saved to best_hyperparameters.txt with accuracy: 0.9200\n"
     ]
    }
   ],
   "source": [
    "# 학습 함수\n",
    "def train():\n",
    "    global best_overall_accuracy, best_overall_hyperparameters  # 전역 변수를 참조하도록 설정\n",
    "\n",
    "    # WandB 초기화\n",
    "    with wandb.init() as run:\n",
    "        config = run.config\n",
    "        X_train, X_val, y_train, y_val = train_test_split(train_x_encoded, train_y, test_size=0.2, random_state=config.seed)\n",
    "\n",
    "        X_train = torch.tensor(X_train.values, dtype=torch.float32)\n",
    "        y_train = torch.tensor(y_train.values, dtype=torch.float32)\n",
    "        X_val = torch.tensor(X_val.values, dtype=torch.float32)\n",
    "        y_val = torch.tensor(y_val.values, dtype=torch.float32)\n",
    "\n",
    "        # DataLoader 설정\n",
    "        #train_dataset = TensorDataset(X_train, y_train)\n",
    "        #train_loader = DataLoader(train_dataset, batch_size=config.batch_size, shuffle=True)\n",
    "        \n",
    "        # 모델 초기화\n",
    "        input_dim = X_train.shape[1]\n",
    "        if config.architecture == 'LogisticRegression':\n",
    "            model = LogisticRegressionModel(input_dim)\n",
    "        elif config.architecture == 'RandomForest':\n",
    "            model = RandomForestModel(input_dim)\n",
    "        elif config.architecture == 'XGBoostLike':\n",
    "            model = XGBoostLikeModel(input_dim)\n",
    "\n",
    "        # 손실함수 및 옵티마이저 정의\n",
    "        criterion = nn.BCEWithLogitsLoss()\n",
    "        optimizer = optim.Adam(model.parameters(), lr=config.learning_rate, weight_decay=config.weight_decay)\n",
    "\n",
    "        best_val_accuracy = 0.0  # 최고 검증 정확도 초기화\n",
    "        best_epoch = 0  # 최고 성능을 기록한 에포크 초기화\n",
    "\n",
    "        # 학습 과정\n",
    "        for epoch in range(config.epochs):\n",
    "            model.train()\n",
    "            optimizer.zero_grad()\n",
    "            outputs = model(X_train)\n",
    "            loss = criterion(outputs.squeeze(), y_train)\n",
    "            loss.backward()\n",
    "            optimizer.step()\n",
    "\n",
    "            # 검증 과정\n",
    "            model.eval()\n",
    "            with torch.no_grad():\n",
    "                val_outputs = model(X_val)\n",
    "                val_outputs = torch.sigmoid(val_outputs)\n",
    "                val_predictions = (val_outputs.squeeze() > 0.5).float()\n",
    "                val_accuracy = accuracy_score(y_val.numpy(), val_predictions.numpy())\n",
    "\n",
    "                # 최고 검증 정확도 업데이트\n",
    "                if val_accuracy > best_val_accuracy:\n",
    "                    best_val_accuracy = val_accuracy\n",
    "                    best_epoch = epoch + 1\n",
    "\n",
    "                # ROC Curve 계산\n",
    "                fpr, tpr, _ = roc_curve(y_val.numpy(), val_outputs.numpy())\n",
    "                roc_auc = auc(fpr, tpr)\n",
    "\n",
    "                # ROC Curve 플롯 생성\n",
    "                plt.figure()\n",
    "                plt.plot(fpr, tpr, color='darkorange', lw=2, label=f'ROC curve (area = {roc_auc:.2f})')\n",
    "                plt.plot([0, 1], [0, 1], color='navy', lw=2, linestyle='--')\n",
    "                plt.xlim([0.0, 1.0])\n",
    "                plt.ylim([0.0, 1.05])\n",
    "                plt.xlabel('False Positive Rate')\n",
    "                plt.ylabel('True Positive Rate')\n",
    "                plt.title('Receiver Operating Characteristic')\n",
    "                plt.legend(loc=\"lower right\")\n",
    "\n",
    "                # ROC Curve를 WandB에 이미지로 로깅\n",
    "                wandb.log({\"train_loss\": loss.item(), \"val_accuracy\": val_accuracy, \"roc_auc\": roc_auc, \n",
    "                           \"roc_curve\": wandb.Image(plt), \"best_val_accuracy\": best_val_accuracy, \n",
    "                           \"best_epoch\": best_epoch}, step=epoch)\n",
    "                plt.close()\n",
    "\n",
    "            print(f\"Epoch {epoch+1}/{config.epochs}, Loss: {loss.item():.4f}, Validation Accuracy: {val_accuracy:.4f}, AUC: {roc_auc:.4f}\")\n",
    "        \n",
    "        # 최고 성능의 하이퍼파라미터를 추적하여 저장\n",
    "        if best_val_accuracy > best_overall_accuracy:\n",
    "            best_overall_accuracy = best_val_accuracy\n",
    "            best_overall_hyperparameters = config\n",
    "            torch.save(model.state_dict(), \"best_overall_model.pth\")  # 모델 가중치 저장\n",
    "\n",
    "        \n",
    "\n",
    "        # 최종적으로 최고 성능을 기록한 에포크 시각화\n",
    "        wandb.log({\"Final Best Val Accuracy\": best_val_accuracy, \"Final Best Epoch\": best_epoch})\n",
    "\n",
    "sweep_id = wandb.sweep(sweep_config)\n",
    "wandb.agent(sweep_id, function=train)\n",
    "\n",
    "# 모든 실험이 끝난 후 최종 하이퍼파라미터 저장\n",
    "save_best_hyperparameters(best_overall_hyperparameters)\n",
    "\n",
    "# 학습 실행\n",
    "#train(model, X_train, y_train, criterion, optimizer, wandb.config)"
   ]
  },
  {
   "cell_type": "markdown",
   "id": "14d9c8b9-a8d2-4862-b8bf-e3e65d398458",
   "metadata": {},
   "source": [
    "## 추론\n",
    "\n",
    "모델을 학습했으니 test 데이터를 예측하는 일만 남았습니다! \n",
    "\n",
    "test 데이터에도 train 데이터에 했던 전처리를 진행한 후, 추론을 진행하면 됩니다.(data leakage 에 주의하도록 합니다!)"
   ]
  },
  {
   "cell_type": "code",
   "execution_count": 11,
   "id": "a168e565-e052-433e-b776-491e81473216",
   "metadata": {},
   "outputs": [],
   "source": [
    "test = pd.read_csv('test_final.csv')\n",
    "test = test.drop([\"id\"],axis=1) \n",
    "\n",
    "test = label_encoder(test, label_map) #test data 라벨 인코딩\n",
    "\n",
    "test[num_features] = scaler.transform(test[num_features]) #test 데이터 정규화\n",
    "\n",
    "# 범주형 변수 인코딩\n",
    "test_x_encoded = pd.get_dummies(test)"
   ]
  },
  {
   "cell_type": "markdown",
   "id": "07c10f16-8b43-4970-9c38-ed0d93151c6c",
   "metadata": {},
   "source": [
    "LogisticRegression.predict() 는 Sigmoid Function 의 출력 값을 출력합니다.\n",
    "\n",
    "따라서 예측 값들을 threshold 0.5 기준으로 0 또는 1 의 값으로 변환해주어야 합니다. "
   ]
  },
  {
   "cell_type": "code",
   "execution_count": 12,
   "id": "60c975c0-dcde-485c-8f6b-c805dd93605e",
   "metadata": {},
   "outputs": [],
   "source": [
    "#pred = lr.predict(test)\n",
    "#pred_bin = lr.to_bin(pred)"
   ]
  },
  {
   "cell_type": "code",
   "execution_count": 13,
   "id": "a54ae352",
   "metadata": {},
   "outputs": [],
   "source": [
    "# 저장된 모델 가중치를 불러와서 예측하는 함수\n",
    "def load_and_predict(model, input_data):\n",
    "    # 입력 데이터의 차원을 사용하여 모델 초기화\n",
    "    input_dim = input_data.shape[1]\n",
    "    # 모델 선택\n",
    "    if model == 'LogisticRegression':\n",
    "        model = LogisticRegressionModel(input_dim)\n",
    "    elif model == 'RandomForest':\n",
    "        model = RandomForestModel(input_dim)\n",
    "    elif model == 'XGBoostLike':\n",
    "        model = XGBoostLikeModel(input_dim)\n",
    "    else:\n",
    "        raise ValueError(f\"Unknown architecture: {model}\")\n",
    "\n",
    "    # 모델 가중치 로드\n",
    "    model.load_state_dict(torch.load(\"best_overall_model.pth\"))\n",
    "    model.eval()  # 예측 모드로 전환\n",
    "\n",
    "    # 입력 데이터를 텐서로 변환\n",
    "    input_tensor = torch.tensor(input_data, dtype=torch.float32)\n",
    "\n",
    "    # 예측 수행\n",
    "    with torch.no_grad():\n",
    "        outputs = model(input_tensor)\n",
    "        outputs = torch.sigmoid(outputs)  # 이진 분류일 경우 시그모이드 함수 적용\n",
    "        predictions = (outputs.squeeze() > 0.5).float()  # 0.5 기준으로 클래스 예측\n",
    "\n",
    "    return predictions.numpy()"
   ]
  },
  {
   "cell_type": "code",
   "execution_count": 14,
   "id": "4e32762b-8a31-40c1-848e-373ea73340a0",
   "metadata": {},
   "outputs": [
    {
     "name": "stderr",
     "output_type": "stream",
     "text": [
      "C:\\Users\\ZAMTOL\\AppData\\Local\\Temp\\ipykernel_27428\\246696754.py:16: FutureWarning: You are using `torch.load` with `weights_only=False` (the current default value), which uses the default pickle module implicitly. It is possible to construct malicious pickle data which will execute arbitrary code during unpickling (See https://github.com/pytorch/pytorch/blob/main/SECURITY.md#untrusted-models for more details). In a future release, the default value for `weights_only` will be flipped to `True`. This limits the functions that could be executed during unpickling. Arbitrary objects will no longer be allowed to be loaded via this mode unless they are explicitly allowlisted by the user via `torch.serialization.add_safe_globals`. We recommend you start setting `weights_only=True` for any use case where you don't have full control of the loaded file. Please open an issue on GitHub for any issues related to this experimental feature.\n",
      "  model.load_state_dict(torch.load(\"best_overall_model.pth\"))\n"
     ]
    }
   ],
   "source": [
    "model = 'RandomForest'\n",
    "\n",
    "sample_submission = pd.read_csv('sample_submission_final.csv')\n",
    "pred_bin = load_and_predict(model, test_x_encoded.values)\n",
    "sample_submission.target = pred_bin\n",
    "sample_submission.to_csv(\"submission.csv\",index=False)"
   ]
  },
  {
   "cell_type": "code",
   "execution_count": null,
   "id": "5f3bf76d",
   "metadata": {},
   "outputs": [],
   "source": []
  }
 ],
 "metadata": {
  "kernelspec": {
   "display_name": "Python 3 (ipykernel)",
   "language": "python",
   "name": "python3"
  },
  "language_info": {
   "codemirror_mode": {
    "name": "ipython",
    "version": 3
   },
   "file_extension": ".py",
   "mimetype": "text/x-python",
   "name": "python",
   "nbconvert_exporter": "python",
   "pygments_lexer": "ipython3",
   "version": "3.9.19"
  }
 },
 "nbformat": 4,
 "nbformat_minor": 5
}
